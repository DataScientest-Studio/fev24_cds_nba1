{
 "cells": [
  {
   "cell_type": "code",
   "execution_count": 65,
   "metadata": {},
   "outputs": [],
   "source": [
    "import pandas as pd\n",
    "pd.set_option('display.max_columns', 500)\n",
    "shot_locations = pd.read_csv(\"../data/processed/Shot_Locations_top_20_players_2000to2020.csv\")\n",
    "play_by_play = pd.read_csv(\"../data/processed/PlaybyPlay_2000-2020.csv\")\n",
    "df_merged = shot_locations.merge(play_by_play, how='outer', left_on=['Game ID','Game Event ID'], right_on=['GAME_ID','EVENTNUM'])"
   ]
  },
  {
   "cell_type": "code",
   "execution_count": 66,
   "metadata": {},
   "outputs": [
    {
     "name": "stdout",
     "output_type": "stream",
     "text": [
      "Play by play shape (393787, 16)\n",
      "Play by play games 12267\n",
      "Shot locations shape (334331, 20)\n",
      "Shot locations games 13927\n",
      "Merged shaped (446648, 36)\n"
     ]
    }
   ],
   "source": [
    "print(\"Play by play shape\", play_by_play.shape)\n",
    "print(\"Play by play games\", play_by_play['GAME_ID'].nunique())\n",
    "print(\"Shot locations shape\", shot_locations.shape)\n",
    "print(\"Shot locations games\", shot_locations['Game ID'].nunique())\n",
    "print(\"Merged shaped\", df_merged.shape)"
   ]
  },
  {
   "cell_type": "code",
   "execution_count": 68,
   "metadata": {},
   "outputs": [
    {
     "data": {
      "text/plain": [
       "1714"
      ]
     },
     "execution_count": 68,
     "metadata": {},
     "output_type": "execute_result"
    }
   ],
   "source": [
    "df_merged[df_merged['GAME_ID'].isna()]['Game ID'].nunique()"
   ]
  },
  {
   "cell_type": "code",
   "execution_count": 44,
   "metadata": {},
   "outputs": [
    {
     "data": {
      "text/plain": [
       "free_throw\n",
       "1.0    111344\n",
       "0.0       568\n",
       "Name: count, dtype: int64"
      ]
     },
     "execution_count": 44,
     "metadata": {},
     "output_type": "execute_result"
    }
   ],
   "source": [
    "df_merged[df_merged['Game ID'].isna()].free_throw.value_counts()"
   ]
  },
  {
   "cell_type": "code",
   "execution_count": 72,
   "metadata": {},
   "outputs": [
    {
     "data": {
      "text/plain": [
       "free_throw\n",
       "0.0    281496\n",
       "1.0       379\n",
       "Name: count, dtype: int64"
      ]
     },
     "execution_count": 72,
     "metadata": {},
     "output_type": "execute_result"
    }
   ],
   "source": [
    "df_merged[df_merged['Game ID'].notna()].free_throw.value_counts()"
   ]
  },
  {
   "cell_type": "code",
   "execution_count": 69,
   "metadata": {},
   "outputs": [],
   "source": [
    "df_merged.to_csv('../data/processed/PlaybyPlay_ShotLocations.csv')"
   ]
  },
  {
   "cell_type": "code",
   "execution_count": 71,
   "metadata": {},
   "outputs": [
    {
     "data": {
      "text/plain": [
       "1714"
      ]
     },
     "execution_count": 71,
     "metadata": {},
     "output_type": "execute_result"
    }
   ],
   "source": [
    "# Matchs qui n'apparaissent que dans Shot locations\n",
    "game_ids = df_merged[df_merged['GAME_ID'].isna()]['Game ID'].unique()\n",
    "len(game_ids)"
   ]
  },
  {
   "cell_type": "code",
   "execution_count": null,
   "metadata": {},
   "outputs": [],
   "source": []
  }
 ],
 "metadata": {
  "kernelspec": {
   "display_name": "nba_env",
   "language": "python",
   "name": "python3"
  },
  "language_info": {
   "codemirror_mode": {
    "name": "ipython",
    "version": 3
   },
   "file_extension": ".py",
   "mimetype": "text/x-python",
   "name": "python",
   "nbconvert_exporter": "python",
   "pygments_lexer": "ipython3",
   "version": "3.12.3"
  }
 },
 "nbformat": 4,
 "nbformat_minor": 2
}
