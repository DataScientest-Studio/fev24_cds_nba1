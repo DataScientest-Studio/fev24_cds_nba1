{
 "cells": [
  {
   "cell_type": "code",
   "execution_count": 5,
   "metadata": {},
   "outputs": [
    {
     "name": "stderr",
     "output_type": "stream",
     "text": [
      "C:\\Users\\Sarah\\AppData\\Local\\Temp\\ipykernel_23932\\66191099.py:4: DtypeWarning: Columns (29,31,43) have mixed types. Specify dtype option on import or set low_memory=False.\n",
      "  df = pd.read_csv(\"../data/processed/all_shots_2000-2020.csv\")\n"
     ]
    }
   ],
   "source": [
    "import pandas as pd\n",
    "import numpy as np\n",
    "\n",
    "df = pd.read_csv(\"../data/processed/all_shots_2000-2020.csv\")"
   ]
  },
  {
   "cell_type": "code",
   "execution_count": 6,
   "metadata": {},
   "outputs": [
    {
     "name": "stdout",
     "output_type": "stream",
     "text": [
      "<class 'pandas.core.frame.DataFrame'>\n",
      "RangeIndex: 474863 entries, 0 to 474862\n",
      "Data columns (total 45 columns):\n",
      " #   Column                     Non-Null Count   Dtype  \n",
      "---  ------                     --------------   -----  \n",
      " 0   Unnamed: 0                 474863 non-null  int64  \n",
      " 1   Minutes Remaining          340622 non-null  float64\n",
      " 2   Seconds Remaining          340622 non-null  float64\n",
      " 3   Shot Zone Basic            340622 non-null  float64\n",
      " 4   Shot Zone Area             340622 non-null  float64\n",
      " 5   Shot Zone Range            340622 non-null  float64\n",
      " 6   Shot Distance              340622 non-null  float64\n",
      " 7   X Location                 340622 non-null  float64\n",
      " 8   Y Location                 340622 non-null  float64\n",
      " 9   Shot Made Flag             340622 non-null  float64\n",
      " 10  Home Team                  340622 non-null  object \n",
      " 11  Away Team                  340622 non-null  object \n",
      " 12  Season Type                340622 non-null  float64\n",
      " 13  Year                       474863 non-null  float64\n",
      " 14  GAME_ID                    474863 non-null  int64  \n",
      " 15  EVENTNUM                   474863 non-null  int64  \n",
      " 16  target                     474863 non-null  float64\n",
      " 17  PERIOD                     474863 non-null  int64  \n",
      " 18  PERSON1TYPE                474863 non-null  float64\n",
      " 19  PLAYER1_TEAM_ABBREVIATION  474863 non-null  object \n",
      " 20  at_home                    474863 non-null  float64\n",
      " 21  3PT                        474863 non-null  float64\n",
      " 22  jump_shot                  474863 non-null  float64\n",
      " 23  layup_shot                 474863 non-null  float64\n",
      " 24  dunk_shot                  474863 non-null  float64\n",
      " 25  hook_shot                  474863 non-null  float64\n",
      " 26  free_throw                 474863 non-null  float64\n",
      " 27  minutes_left               474863 non-null  int64  \n",
      " 28  seconds_left               474863 non-null  int64  \n",
      " 29  Player                     398429 non-null  object \n",
      " 30  Age                        398429 non-null  float64\n",
      " 31  Pos                        398429 non-null  object \n",
      " 32  TS%                        398429 non-null  float64\n",
      " 33  PTM                        398429 non-null  float64\n",
      " 34  TRBM                       398429 non-null  float64\n",
      " 35  USG%                       398429 non-null  float64\n",
      " 36  FG%                        398429 non-null  float64\n",
      " 37  2P%                        398429 non-null  float64\n",
      " 38  3P%                        398429 non-null  float64\n",
      " 39  FT%                        398429 non-null  float64\n",
      " 40  PTS                        398429 non-null  float64\n",
      " 41  year_start                 388027 non-null  float64\n",
      " 42  year_end                   388027 non-null  float64\n",
      " 43  height                     388027 non-null  object \n",
      " 44  weight                     388027 non-null  float64\n",
      "dtypes: float64(33), int64(6), object(6)\n",
      "memory usage: 163.0+ MB\n"
     ]
    }
   ],
   "source": [
    "df.info()"
   ]
  },
  {
   "cell_type": "code",
   "execution_count": null,
   "metadata": {},
   "outputs": [],
   "source": []
  }
 ],
 "metadata": {
  "kernelspec": {
   "display_name": "nba_env",
   "language": "python",
   "name": "python3"
  },
  "language_info": {
   "codemirror_mode": {
    "name": "ipython",
    "version": 3
   },
   "file_extension": ".py",
   "mimetype": "text/x-python",
   "name": "python",
   "nbconvert_exporter": "python",
   "pygments_lexer": "ipython3",
   "version": "3.12.3"
  }
 },
 "nbformat": 4,
 "nbformat_minor": 2
}
