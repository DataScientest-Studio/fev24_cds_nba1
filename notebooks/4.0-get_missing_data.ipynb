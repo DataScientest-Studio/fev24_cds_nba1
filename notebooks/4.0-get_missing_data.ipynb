{
 "cells": [
  {
   "cell_type": "markdown",
   "metadata": {},
   "source": [
    "# Récupération des matchs manquants"
   ]
  },
  {
   "cell_type": "markdown",
   "metadata": {},
   "source": [
    "Suite au merge des datasets nous avons remarqué qu'il manquait un grand nombre de d'observations. \n",
    "\n",
    "Certain matchs n'étaient pas dans les datasets play by play. Il est possible de les récupérer via l'API nba_api afin de les réinjecter dans notre pre processing"
   ]
  },
  {
   "cell_type": "code",
   "execution_count": null,
   "metadata": {},
   "outputs": [
    {
     "data": {
      "text/plain": [
       "1714"
      ]
     },
     "metadata": {},
     "output_type": "display_data"
    }
   ],
   "source": [
    "# Matchs qui n'apparaissent que dans Shot locations\n",
    "game_ids = df_merged[df_merged['GAME_ID'].isna()]['Game ID'].unique()\n",
    "len(game_ids)"
   ]
  },
  {
   "cell_type": "code",
   "execution_count": null,
   "metadata": {},
   "outputs": [
    {
     "name": "stderr",
     "output_type": "stream",
     "text": [
      "100%|██████████| 1714/1714 [31:03<00:00,  1.09s/it]\n"
     ]
    }
   ],
   "source": [
    "from nba_api.stats.endpoints import playbyplayv2\n",
    "from tqdm import tqdm\n",
    "\n",
    "# pour chaque game id de Shot locations non présent dans les play by play\n",
    "# on récupère les play by play sur le site de la NBA\n",
    "liste_df = []\n",
    "for id in tqdm(game_ids):\n",
    "    string_id = \"00\" + str(int(id))\n",
    "    liste_df.append(playbyplayv2.PlayByPlayV2(string_id).get_data_frames()[0])\n"
   ]
  },
  {
   "cell_type": "code",
   "execution_count": null,
   "metadata": {},
   "outputs": [],
   "source": [
    "# concaténation\n",
    "missing_play_by_play = pd.concat(liste_df)"
   ]
  },
  {
   "cell_type": "code",
   "execution_count": null,
   "metadata": {},
   "outputs": [],
   "source": [
    "# enregistrement du dataset\n",
    "missing_play_by_play.to_csv(\"../data/raw/missing_pbp.csv\")\n"
   ]
  }
 ],
 "metadata": {
  "language_info": {
   "name": "python"
  }
 },
 "nbformat": 4,
 "nbformat_minor": 2
}
