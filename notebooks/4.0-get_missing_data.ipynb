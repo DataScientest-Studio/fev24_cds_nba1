{
 "cells": [
  {
   "cell_type": "markdown",
   "metadata": {},
   "source": [
    "# Récupération des matchs manquants"
   ]
  },
  {
   "cell_type": "markdown",
   "metadata": {},
   "source": [
    "Suite au merge des datasets nous avons remarqué qu'il manquait un grand nombre de d'observations. \n",
    "\n",
    "Certain matchs n'étaient pas dans les datasets play by play. Il est possible de les récupérer via l'API nba_api afin de les réinjecter dans notre pre processing"
   ]
  },
  {
   "cell_type": "code",
   "execution_count": null,
   "metadata": {},
   "outputs": [
    {
     "data": {
      "text/plain": [
       "1714"
      ]
     },
     "metadata": {},
     "output_type": "display_data"
    }
   ],
   "source": [
    "# Matchs qui n'apparaissent que dans Shot locations\n",
    "game_ids = df_merged[df_merged['GAME_ID'].isna()]['Game ID'].unique()\n",
    "len(game_ids)"
   ]
  },
  {
   "cell_type": "code",
   "execution_count": null,
   "metadata": {},
   "outputs": [
    {
     "name": "stderr",
     "output_type": "stream",
     "text": [
      "100%|██████████| 1714/1714 [31:03<00:00,  1.09s/it]\n"
     ]
    }
   ],
   "source": [
    "from nba_api.stats.endpoints import playbyplayv2\n",
    "from tqdm import tqdm\n",
    "\n",
    "# pour chaque game id de Shot locations non présent dans les play by play\n",
    "# on récupère les play by play sur le site de la NBA\n",
    "liste_df = []\n",
    "for id in tqdm(game_ids):\n",
    "    string_id = \"00\" + str(int(id))\n",
    "    liste_df.append(playbyplayv2.PlayByPlayV2(string_id).get_data_frames()[0])\n"
   ]
  },
  {
   "cell_type": "code",
   "execution_count": null,
   "metadata": {},
   "outputs": [],
   "source": [
    "# concaténation\n",
    "missing_play_by_play = pd.concat(liste_df)"
   ]
  },
  {
   "cell_type": "code",
   "execution_count": null,
   "metadata": {},
   "outputs": [],
   "source": [
    "# enregistrement du dataset\n",
    "missing_play_by_play.to_csv(\"../data/raw/missing_pbp.csv\")"
   ]
  },
  {
   "cell_type": "markdown",
   "metadata": {},
   "source": [
    "# Récupération des stats manquants"
   ]
  },
  {
   "cell_type": "code",
   "execution_count": 5,
   "metadata": {},
   "outputs": [],
   "source": [
    "import pandas as pd\n",
    "BEST_PLAYERS =['Kobe Bryant', 'LeBron James', 'Stephen Curry', 'Kevin Durant', 'Dwyane Wade', \n",
    "               'Dirk Nowitzki', 'Tim Duncan', \"Shaquille O'Neal\", \"Steve Nash\", \"Kawhi Leonard\", \n",
    "               \"James Harden\", \"Jason Kidd\", \"Allen Iverson\", \"Chris Webber\", \"Kevin Garnett\", \n",
    "               \"Paul Pierce\", \"Giannis Antetokounmpo\", \"Jimmy Butler\", \"Russell Westbrook\", \"Dwight Howard\"]\n"
   ]
  },
  {
   "cell_type": "code",
   "execution_count": 56,
   "metadata": {},
   "outputs": [],
   "source": [
    "dfs = []\n",
    "for i in range(2018,2021):\n",
    "    df = pd.read_csv('../data/raw/season_stats_'+str(i)+'.csv')\n",
    "    df_advanced = pd.read_csv('../data/raw/season_stats_advanced_'+str(i)+'.csv')\n",
    "    df['Year']=i\n",
    "    df = df.merge(df_advanced, on=['Player', 'Tm','Pos', 'Age', 'G', 'MP'])\n",
    "    dfs.append(df)\n",
    "\n",
    "stats = pd.concat(dfs)"
   ]
  },
  {
   "cell_type": "code",
   "execution_count": 57,
   "metadata": {},
   "outputs": [],
   "source": [
    "stats = stats[stats.Player.isin(BEST_PLAYERS)]"
   ]
  },
  {
   "cell_type": "code",
   "execution_count": 58,
   "metadata": {},
   "outputs": [
    {
     "data": {
      "text/plain": [
       "Index(['Rk_x', 'Player', 'Pos', 'Age', 'Tm', 'G', 'GS', 'MP', 'FG', 'FGA',\n",
       "       'FG%', '3P', '3PA', '3P%', '2P', '2PA', '2P%', 'eFG%', 'FT', 'FTA',\n",
       "       'FT%', 'ORB', 'DRB', 'TRB', 'AST', 'STL', 'BLK', 'TOV', 'PF', 'PTS',\n",
       "       'Player-additional_x', 'Year', 'Rk_y', 'PER', 'TS%', '3PAr', 'FTr',\n",
       "       'ORB%', 'DRB%', 'TRB%', 'AST%', 'STL%', 'BLK%', 'TOV%', 'USG%',\n",
       "       'Unnamed: 19', 'OWS', 'DWS', 'WS', 'WS/48', 'Unnamed: 24', 'OBPM',\n",
       "       'DBPM', 'BPM', 'VORP', 'Player-additional_y'],\n",
       "      dtype='object')"
      ]
     },
     "execution_count": 58,
     "metadata": {},
     "output_type": "execute_result"
    }
   ],
   "source": [
    "stats.columns"
   ]
  },
  {
   "cell_type": "code",
   "execution_count": 60,
   "metadata": {},
   "outputs": [],
   "source": [
    "# Change column order to fit existing data\n",
    "stats = stats.reindex(['Year','Player','Pos','Age','Tm','G','GS','MP',\n",
    "                       'PER','TS%','3PAr','FTr','ORB%','DRB%','TRB%','AST%','STL%',\n",
    "                       'BLK%','TOV%','USG%', 'Unnamed: 19','OWS','DWS','WS','WS/48','Unnamed: 24',\n",
    "                       'OBPM','DBPM','BPM','VORP','FG','FGA','FG%','3P','3PA','3P%',\n",
    "                       '2P','2PA','2P%','eFG%','FT','FTA','FT%','ORB','DRB','TRB',\n",
    "                       'AST','STL','BLK','TOV','PF','PTS'], axis=1)\n",
    "    "
   ]
  },
  {
   "cell_type": "code",
   "execution_count": 61,
   "metadata": {},
   "outputs": [],
   "source": [
    "stats.to_csv('../data/raw/seasons_stats_2018-2020.csv')"
   ]
  },
  {
   "cell_type": "code",
   "execution_count": null,
   "metadata": {},
   "outputs": [],
   "source": []
  }
 ],
 "metadata": {
  "kernelspec": {
   "display_name": "nba_env",
   "language": "python",
   "name": "python3"
  },
  "language_info": {
   "codemirror_mode": {
    "name": "ipython",
    "version": 3
   },
   "file_extension": ".py",
   "mimetype": "text/x-python",
   "name": "python",
   "nbconvert_exporter": "python",
   "pygments_lexer": "ipython3",
   "version": "3.12.3"
  }
 },
 "nbformat": 4,
 "nbformat_minor": 2
}
