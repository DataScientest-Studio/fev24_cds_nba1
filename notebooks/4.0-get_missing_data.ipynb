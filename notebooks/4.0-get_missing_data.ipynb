{
 "cells": [
  {
   "cell_type": "markdown",
   "metadata": {},
   "source": [
    "# Récupération des matchs manquants"
   ]
  },
  {
   "cell_type": "markdown",
   "metadata": {},
   "source": [
    "Suite au merge des datasets nous avons remarqué qu'il manquait un grand nombre de d'observations. \n",
    "\n",
    "Certain matchs n'étaient pas dans les datasets play by play. Il est possible de les récupérer via l'API nba_api afin de les réinjecter dans notre pre processing"
   ]
  },
  {
   "cell_type": "code",
   "execution_count": null,
   "metadata": {},
   "outputs": [
    {
     "data": {
      "text/plain": [
       "1714"
      ]
     },
     "metadata": {},
     "output_type": "display_data"
    }
   ],
   "source": [
    "# Matchs qui n'apparaissent que dans Shot locations\n",
    "game_ids = df_merged[df_merged['GAME_ID'].isna()]['Game ID'].unique()\n",
    "len(game_ids)"
   ]
  },
  {
   "cell_type": "code",
   "execution_count": null,
   "metadata": {},
   "outputs": [
    {
     "name": "stderr",
     "output_type": "stream",
     "text": [
      "100%|██████████| 1714/1714 [31:03<00:00,  1.09s/it]\n"
     ]
    }
   ],
   "source": [
    "from nba_api.stats.endpoints import playbyplayv2\n",
    "from tqdm import tqdm\n",
    "\n",
    "# pour chaque game id de Shot locations non présent dans les play by play\n",
    "# on récupère les play by play sur le site de la NBA\n",
    "liste_df = []\n",
    "for id in tqdm(game_ids):\n",
    "    string_id = \"00\" + str(int(id))\n",
    "    liste_df.append(playbyplayv2.PlayByPlayV2(string_id).get_data_frames()[0])\n"
   ]
  },
  {
   "cell_type": "code",
   "execution_count": null,
   "metadata": {},
   "outputs": [],
   "source": [
    "# concaténation\n",
    "missing_play_by_play = pd.concat(liste_df)"
   ]
  },
  {
   "cell_type": "code",
   "execution_count": null,
   "metadata": {},
   "outputs": [],
   "source": [
    "# enregistrement du dataset\n",
    "missing_play_by_play.to_csv(\"../data/raw/missing_pbp.csv\")"
   ]
  },
  {
   "cell_type": "markdown",
   "metadata": {},
   "source": [
    "# Récupération des stats manquants"
   ]
  },
  {
   "cell_type": "code",
   "execution_count": 17,
   "metadata": {},
   "outputs": [],
   "source": [
    "import pandas as pd\n",
    "BEST_PLAYERS =['Kobe Bryant', 'LeBron James', 'Stephen Curry', 'Kevin Durant', 'Dwyane Wade', \n",
    "               'Dirk Nowitzki', 'Tim Duncan', \"Shaquille O'Neal\", \"Steve Nash\", \"Kawhi Leonard\", \n",
    "               \"James Harden\", \"Jason Kidd\", \"Allen Iverson\", \"Chris Webber\", \"Kevin Garnett\", \n",
    "               \"Paul Pierce\", \"Giannis Antetokounmpo\", \"Jimmy Butler\", \"Russell Westbrook\", \"Dwight Howard\"]\n"
   ]
  },
  {
   "cell_type": "code",
   "execution_count": 20,
   "metadata": {},
   "outputs": [],
   "source": [
    "dfs = []\n",
    "for i in range(2018,2021):\n",
    "    df = pd.read_csv('../data/raw/season_stats_'+str(i)+'.csv')\n",
    "    df_advanced = pd.read_csv('../data/raw/season_stats_advanced_'+str(i)+'.csv')\n",
    "    df['Year']=i\n",
    "    df = df.merge(df_advanced, on=['Player', 'Tm','Pos', 'Age', 'G', 'MP'])\n",
    "    dfs.append(df)\n",
    "\n",
    "stats = pd.concat(dfs)"
   ]
  },
  {
   "cell_type": "code",
   "execution_count": 22,
   "metadata": {},
   "outputs": [],
   "source": [
    "stats = stats[stats.Player.isin(BEST_PLAYERS)]"
   ]
  },
  {
   "cell_type": "code",
   "execution_count": 23,
   "metadata": {},
   "outputs": [
    {
     "data": {
      "text/plain": [
       "Index(['Rk_x', 'Player', 'Pos', 'Age', 'Tm', 'G', 'GS', 'MP', 'FG', 'FGA',\n",
       "       'FG%', '3P', '3PA', '3P%', '2P', '2PA', '2P%', 'eFG%', 'FT', 'FTA',\n",
       "       'FT%', 'ORB', 'DRB', 'TRB', 'AST', 'STL', 'BLK', 'TOV', 'PF', 'PTS',\n",
       "       'Player-additional_x', 'Year', 'Rk_y', 'PER', 'TS%', '3PAr', 'FTr',\n",
       "       'ORB%', 'DRB%', 'TRB%', 'AST%', 'STL%', 'BLK%', 'TOV%', 'USG%',\n",
       "       'Unnamed: 19', 'OWS', 'DWS', 'WS', 'WS/48', 'Unnamed: 24', 'OBPM',\n",
       "       'DBPM', 'BPM', 'VORP', 'Player-additional_y'],\n",
       "      dtype='object')"
      ]
     },
     "execution_count": 23,
     "metadata": {},
     "output_type": "execute_result"
    }
   ],
   "source": [
    "stats.columns"
   ]
  },
  {
   "cell_type": "code",
   "execution_count": 24,
   "metadata": {},
   "outputs": [],
   "source": [
    "# Change column order to fit existing data\n",
    "stats = stats.reindex(['Year','Player','Pos','Age','Tm','G','GS','MP',\n",
    "                       'PER','TS%','3PAr','FTr','ORB%','DRB%','TRB%','AST%','STL%',\n",
    "                       'BLK%','TOV%','USG%', 'Unnamed: 19','OWS','DWS','WS','WS/48','Unnamed: 24',\n",
    "                       'OBPM','DBPM','BPM','VORP','FG','FGA','FG%','3P','3PA','3P%',\n",
    "                       '2P','2PA','2P%','eFG%','FT','FTA','FT%','ORB','DRB','TRB',\n",
    "                       'AST','STL','BLK','TOV','PF','PTS'], axis=1)\n",
    "    "
   ]
  },
  {
   "cell_type": "code",
   "execution_count": 25,
   "metadata": {},
   "outputs": [],
   "source": [
    "#save\n",
    "stats.to_csv('../data/raw/seasons_stats_2018-2020.csv')"
   ]
  },
  {
   "cell_type": "markdown",
   "metadata": {},
   "source": [
    "## Récupérer les matchs de 2019 - 2020 dans l'ancien format"
   ]
  },
  {
   "cell_type": "code",
   "execution_count": 5,
   "metadata": {},
   "outputs": [],
   "source": [
    "from nba_api.stats.endpoints import playbyplayv2\n",
    "from tqdm import tqdm\n",
    "import pandas as pd\n",
    "pd.set_option('display.max_columns', 100)\n",
    "shot_locations = pd.read_csv(\"../data/processed/Shot_Locations_top_20_players_2000to2020.csv\")"
   ]
  },
  {
   "cell_type": "code",
   "execution_count": 10,
   "metadata": {},
   "outputs": [],
   "source": [
    "game_ids = shot_locations[shot_locations.Year > 2018][\"Game ID\"].drop_duplicates()"
   ]
  },
  {
   "cell_type": "code",
   "execution_count": 13,
   "metadata": {},
   "outputs": [
    {
     "name": "stderr",
     "output_type": "stream",
     "text": [
      "100%|██████████| 639/639 [08:02<00:00,  1.33it/s]\n"
     ]
    }
   ],
   "source": [
    "# pour chaque game id de Shot locations non présent dans les play by play\n",
    "# on récupère les play by play sur le site de la NBA\n",
    "liste_df = []\n",
    "for id in tqdm(game_ids):\n",
    "    string_id = \"00\" + str(int(id))\n",
    "    try :\n",
    "        liste_df.append(playbyplayv2.PlayByPlayV2(string_id).get_data_frames()[0])\n",
    "    except JSONDecodeError:\n",
    "        print(id)"
   ]
  },
  {
   "cell_type": "code",
   "execution_count": 14,
   "metadata": {},
   "outputs": [],
   "source": [
    "# concaténation\n",
    "missing_play_by_play = pd.concat(liste_df)\n",
    "\n",
    "# enregistrement du dataset\n",
    "missing_play_by_play.to_csv(\"../data/raw/missing_pbp_2019-2020.csv\")"
   ]
  },
  {
   "cell_type": "markdown",
   "metadata": {},
   "source": [
    "## Récupérer les métriques par équipes et par saison"
   ]
  },
  {
   "cell_type": "code",
   "execution_count": 9,
   "metadata": {},
   "outputs": [],
   "source": [
    "from nba_api.stats.endpoints import teamestimatedmetrics\n",
    "import pandas as pd"
   ]
  },
  {
   "cell_type": "code",
   "execution_count": 19,
   "metadata": {},
   "outputs": [],
   "source": [
    "seasons = [\"2000-01\",\"2001-02\", \"2002-03\", \"2003-04\", \"2004-05\", \"2005-06\", \"2006-07\", \"2007-08\", \"2008-09\", \"2009-10\",\n",
    "            \"2010-11\",\"2011-12\",\"2012-13\",\"2013-14\",\"2014-15\",\"2015-16\",\"2016-17\",\"2017-18\",\"2018-19\",\"2019-20\", \"2020-21\"]\n",
    "\n",
    "liste_df = []\n",
    "\n",
    "for season in seasons:    \n",
    "    df = teamestimatedmetrics.TeamEstimatedMetrics(season=season).get_data_frames()[0]\n",
    "    df[\"Year\"] = int(season[:4])\n",
    "    liste_df.append(df)\n",
    "\n",
    "# concaténation\n",
    "team_metrics = pd.concat(liste_df)\n",
    "\n",
    "# add abbreviation\n",
    "teams = pd.read_csv(\"../data/raw/teams.csv\")\n",
    "team_metrics = team_metrics.merge(teams[['TEAM_ID', 'ABBREVIATION']], on='TEAM_ID')"
   ]
  },
  {
   "cell_type": "code",
   "execution_count": 21,
   "metadata": {},
   "outputs": [
    {
     "data": {
      "text/html": [
       "<div>\n",
       "<style scoped>\n",
       "    .dataframe tbody tr th:only-of-type {\n",
       "        vertical-align: middle;\n",
       "    }\n",
       "\n",
       "    .dataframe tbody tr th {\n",
       "        vertical-align: top;\n",
       "    }\n",
       "\n",
       "    .dataframe thead th {\n",
       "        text-align: right;\n",
       "    }\n",
       "</style>\n",
       "<table border=\"1\" class=\"dataframe\">\n",
       "  <thead>\n",
       "    <tr style=\"text-align: right;\">\n",
       "      <th></th>\n",
       "      <th>TEAM_NAME</th>\n",
       "      <th>TEAM_ID</th>\n",
       "      <th>GP</th>\n",
       "      <th>W</th>\n",
       "      <th>L</th>\n",
       "      <th>W_PCT</th>\n",
       "      <th>MIN</th>\n",
       "      <th>E_OFF_RATING</th>\n",
       "      <th>E_DEF_RATING</th>\n",
       "      <th>E_NET_RATING</th>\n",
       "      <th>E_PACE</th>\n",
       "      <th>E_AST_RATIO</th>\n",
       "      <th>E_OREB_PCT</th>\n",
       "      <th>E_DREB_PCT</th>\n",
       "      <th>E_REB_PCT</th>\n",
       "      <th>E_TM_TOV_PCT</th>\n",
       "      <th>GP_RANK</th>\n",
       "      <th>W_RANK</th>\n",
       "      <th>L_RANK</th>\n",
       "      <th>W_PCT_RANK</th>\n",
       "      <th>MIN_RANK</th>\n",
       "      <th>E_OFF_RATING_RANK</th>\n",
       "      <th>E_DEF_RATING_RANK</th>\n",
       "      <th>E_NET_RATING_RANK</th>\n",
       "      <th>E_AST_RATIO_RANK</th>\n",
       "      <th>E_OREB_PCT_RANK</th>\n",
       "      <th>E_DREB_PCT_RANK</th>\n",
       "      <th>E_REB_PCT_RANK</th>\n",
       "      <th>E_TM_TOV_PCT_RANK</th>\n",
       "      <th>E_PACE_RANK</th>\n",
       "      <th>Year</th>\n",
       "      <th>ABBREVIATION</th>\n",
       "    </tr>\n",
       "  </thead>\n",
       "  <tbody>\n",
       "    <tr>\n",
       "      <th>0</th>\n",
       "      <td>Detroit Pistons</td>\n",
       "      <td>1610612765</td>\n",
       "      <td>82</td>\n",
       "      <td>32</td>\n",
       "      <td>50</td>\n",
       "      <td>0.390</td>\n",
       "      <td>3971.0</td>\n",
       "      <td>97.3</td>\n",
       "      <td>98.9</td>\n",
       "      <td>-1.6</td>\n",
       "      <td>97.5</td>\n",
       "      <td>14.9</td>\n",
       "      <td>0.293</td>\n",
       "      <td>0.722</td>\n",
       "      <td>0.503</td>\n",
       "      <td>0.162</td>\n",
       "      <td>1</td>\n",
       "      <td>21</td>\n",
       "      <td>21</td>\n",
       "      <td>21</td>\n",
       "      <td>10</td>\n",
       "      <td>24</td>\n",
       "      <td>8</td>\n",
       "      <td>19</td>\n",
       "      <td>28</td>\n",
       "      <td>10</td>\n",
       "      <td>12</td>\n",
       "      <td>9</td>\n",
       "      <td>17</td>\n",
       "      <td>1</td>\n",
       "      <td>2000</td>\n",
       "      <td>DET</td>\n",
       "    </tr>\n",
       "    <tr>\n",
       "      <th>1</th>\n",
       "      <td>Sacramento Kings</td>\n",
       "      <td>1610612758</td>\n",
       "      <td>82</td>\n",
       "      <td>55</td>\n",
       "      <td>27</td>\n",
       "      <td>0.671</td>\n",
       "      <td>4016.0</td>\n",
       "      <td>102.8</td>\n",
       "      <td>97.0</td>\n",
       "      <td>5.8</td>\n",
       "      <td>97.0</td>\n",
       "      <td>16.8</td>\n",
       "      <td>0.272</td>\n",
       "      <td>0.707</td>\n",
       "      <td>0.495</td>\n",
       "      <td>0.150</td>\n",
       "      <td>1</td>\n",
       "      <td>4</td>\n",
       "      <td>4</td>\n",
       "      <td>4</td>\n",
       "      <td>1</td>\n",
       "      <td>8</td>\n",
       "      <td>7</td>\n",
       "      <td>2</td>\n",
       "      <td>15</td>\n",
       "      <td>20</td>\n",
       "      <td>22</td>\n",
       "      <td>22</td>\n",
       "      <td>6</td>\n",
       "      <td>2</td>\n",
       "      <td>2000</td>\n",
       "      <td>SAC</td>\n",
       "    </tr>\n",
       "    <tr>\n",
       "      <th>2</th>\n",
       "      <td>Golden State Warriors</td>\n",
       "      <td>1610612744</td>\n",
       "      <td>82</td>\n",
       "      <td>17</td>\n",
       "      <td>65</td>\n",
       "      <td>0.207</td>\n",
       "      <td>3956.0</td>\n",
       "      <td>94.5</td>\n",
       "      <td>104.9</td>\n",
       "      <td>-10.4</td>\n",
       "      <td>96.8</td>\n",
       "      <td>15.9</td>\n",
       "      <td>0.333</td>\n",
       "      <td>0.697</td>\n",
       "      <td>0.500</td>\n",
       "      <td>0.162</td>\n",
       "      <td>1</td>\n",
       "      <td>28</td>\n",
       "      <td>28</td>\n",
       "      <td>28</td>\n",
       "      <td>21</td>\n",
       "      <td>28</td>\n",
       "      <td>29</td>\n",
       "      <td>28</td>\n",
       "      <td>22</td>\n",
       "      <td>1</td>\n",
       "      <td>29</td>\n",
       "      <td>16</td>\n",
       "      <td>18</td>\n",
       "      <td>3</td>\n",
       "      <td>2000</td>\n",
       "      <td>GSW</td>\n",
       "    </tr>\n",
       "  </tbody>\n",
       "</table>\n",
       "</div>"
      ],
      "text/plain": [
       "               TEAM_NAME     TEAM_ID  GP  ...  E_PACE_RANK  Year  ABBREVIATION\n",
       "0        Detroit Pistons  1610612765  82  ...            1  2000           DET\n",
       "1       Sacramento Kings  1610612758  82  ...            2  2000           SAC\n",
       "2  Golden State Warriors  1610612744  82  ...            3  2000           GSW\n",
       "\n",
       "[3 rows x 32 columns]"
      ]
     },
     "execution_count": 21,
     "metadata": {},
     "output_type": "execute_result"
    }
   ],
   "source": [
    "team_metrics.head(3)"
   ]
  },
  {
   "cell_type": "code",
   "execution_count": 22,
   "metadata": {},
   "outputs": [],
   "source": [
    "# enregistrement du dataset\n",
    "team_metrics.to_csv(\"../data/raw/team_metrics.csv\")"
   ]
  },
  {
   "cell_type": "code",
   "execution_count": null,
   "metadata": {},
   "outputs": [],
   "source": []
  }
 ],
 "metadata": {
  "kernelspec": {
   "display_name": "nba_env",
   "language": "python",
   "name": "python3"
  },
  "language_info": {
   "codemirror_mode": {
    "name": "ipython",
    "version": 3
   },
   "file_extension": ".py",
   "mimetype": "text/x-python",
   "name": "python",
   "nbconvert_exporter": "python",
   "pygments_lexer": "ipython3",
   "version": "3.12.3"
  }
 },
 "nbformat": 4,
 "nbformat_minor": 2
}
