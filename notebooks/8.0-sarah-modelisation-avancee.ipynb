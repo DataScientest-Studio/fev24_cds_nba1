{
 "cells": [
  {
   "cell_type": "code",
   "execution_count": 5,
   "metadata": {},
   "outputs": [
    {
     "name": "stdout",
     "output_type": "stream",
     "text": [
      "Index(['Shot Distance', 'Season Type', 'Shot Zone Basic_In The Paint (Non-RA)',\n",
      "       'Shot Zone Basic_Right Corner 3', 'Shot Zone Area_Right Side(R)',\n",
      "       'Shot Zone Range_8-16 ft.', 'at_home', 'PREVIOUS_OFF_MISSED', 'Age',\n",
      "       'ASTM', 'ORBM', 'FT%', 'height', 'weight', 'C', 'SG-PG', 'E_DEF_RATING',\n",
      "       'PCT_AREA', 'DETAILLED_SHOT_TYPE_JUMP SHOT', 'target'],\n",
      "      dtype='object')\n",
      "(428835, 20)\n"
     ]
    }
   ],
   "source": [
    "import numpy as np\n",
    "import xgboost as xgb\n",
    "import optuna\n",
    "from optuna.visualization import plot_optimization_history\n",
    "import pandas as pd \n",
    "from sklearn.metrics import accuracy_score, f1_score\n",
    "from sklearn.model_selection import train_test_split\n",
    "from sklearn.feature_selection import VarianceThreshold\n",
    "from sklearn.preprocessing import StandardScaler\n",
    "\n",
    "df = pd.read_csv(\"../data/processed/all_shots_final-v2.csv\", index_col=0)\n",
    "df.drop(['PLAYER1_NAME'], axis=1, inplace=True)\n",
    "df.dropna(inplace=True)\n",
    "print(df.columns)\n",
    "print(df.shape)"
   ]
  },
  {
   "cell_type": "code",
   "execution_count": 6,
   "metadata": {
    "vscode": {
     "languageId": "markdown"
    }
   },
   "outputs": [
    {
     "name": "stdout",
     "output_type": "stream",
     "text": [
      "(427956, 20)\n"
     ]
    }
   ],
   "source": [
    "# Delete outliers\n",
    "Q1 = df['Shot Distance'].quantile(0.25)\n",
    "Q3 = df['Shot Distance'].quantile(0.75)\n",
    "IQR = Q3 - Q1\n",
    "\n",
    "# Define the lower and upper bounds for outliers\n",
    "lower_bound = Q1 - 1.5 * IQR\n",
    "upper_bound = Q3 + 1.5 * IQR\n",
    "\n",
    "# Filter out the outliers\n",
    "df = df[(df['Shot Distance'] >= lower_bound) & (df['Shot Distance'] <= upper_bound)]\n",
    "\n",
    "print(df.shape)"
   ]
  },
  {
   "cell_type": "markdown",
   "metadata": {},
   "source": [
    "## Séparation des données"
   ]
  },
  {
   "cell_type": "code",
   "execution_count": 7,
   "metadata": {},
   "outputs": [],
   "source": [
    "# prepare data for modeling   \n",
    "X = df.drop('target', axis = 1)\n",
    "y = df.target\n",
    "\n",
    "X_train, X_test, y_train, y_test = train_test_split(X, y, test_size=0.20, stratify=y, shuffle=True)"
   ]
  },
  {
   "cell_type": "markdown",
   "metadata": {},
   "source": [
    "## Standardisation et réduction de dimension"
   ]
  },
  {
   "cell_type": "code",
   "execution_count": 10,
   "metadata": {},
   "outputs": [],
   "source": [
    "scaler = StandardScaler()\n",
    "X_train_scaled = scaler.fit_transform(X_train)\n",
    "X_test_scaled = scaler.transform(X_test)\n",
    "\n",
    "df_scaled = pd.DataFrame(X_train_scaled, columns=X_train.columns)\n",
    "df_scaled['target'] = y_train\n",
    "\n",
    "# réduction de dimensions\n",
    "sel_var = VarianceThreshold(0.0001)\n",
    "X_train_scaled = sel_var.fit_transform(X_train_scaled, y_train)\n",
    "X_test_scaled = sel_var.transform(X_test_scaled)"
   ]
  },
  {
   "cell_type": "markdown",
   "metadata": {},
   "source": [
    "## OverSampling"
   ]
  },
  {
   "cell_type": "code",
   "execution_count": 11,
   "metadata": {},
   "outputs": [
    {
     "name": "stdout",
     "output_type": "stream",
     "text": [
      "Before resampling:\n",
      "target\n",
      "1    193652\n",
      "0    148712\n",
      "Name: count, dtype: int64\n",
      "\n",
      "After resampling:\n",
      "target\n",
      "0    193652\n",
      "1    193652\n",
      "Name: count, dtype: int64\n"
     ]
    }
   ],
   "source": [
    "from imblearn.over_sampling import SMOTE\n",
    "\n",
    "# Initialize SMOTE\n",
    "smote = SMOTE(random_state=42)\n",
    "\n",
    "# Apply SMOTE to the training data\n",
    "X_train_resampled, y_train_resampled = smote.fit_resample(X_train_scaled, y_train)\n",
    "\n",
    "# Check the distribution of the target variable after resampling\n",
    "print(\"Before resampling:\")\n",
    "print(y_train.value_counts())\n",
    "print(\"\\nAfter resampling:\")\n",
    "print(pd.Series(y_train_resampled).value_counts())"
   ]
  },
  {
   "cell_type": "markdown",
   "metadata": {},
   "source": [
    "## XGBoost"
   ]
  },
  {
   "cell_type": "code",
   "execution_count": 12,
   "metadata": {},
   "outputs": [
    {
     "name": "stderr",
     "output_type": "stream",
     "text": [
      "[I 2024-10-14 10:20:00,749] A new study created in memory with name: no-name-63e09786-1323-40a4-ad7c-847e90436ab7\n",
      "[I 2024-10-14 10:20:01,649] Trial 0 finished with value: 0.6633563884475184 and parameters: {'booster': 'dart', 'lambda': 5.689654697855204e-05, 'alpha': 0.0001168925830775831, 'subsample': 0.42233188323332604, 'colsample_bytree': 0.9796199744029025, 'max_depth': 3, 'min_child_weight': 7, 'eta': 0.0029354220427314946, 'gamma': 0.1556252869609715, 'grow_policy': 'depthwise', 'sample_type': 'weighted', 'normalize_type': 'tree', 'rate_drop': 0.0006478468520881318, 'skip_drop': 0.00048216268037225236}. Best is trial 0 with value: 0.6633563884475184.\n",
      "[I 2024-10-14 10:20:01,895] Trial 1 finished with value: 0.6666861388914852 and parameters: {'booster': 'gblinear', 'lambda': 4.15227464207405e-08, 'alpha': 1.5862732264009e-07, 'subsample': 0.7968380142861375, 'colsample_bytree': 0.8076524386714253}. Best is trial 1 with value: 0.6666861388914852.\n",
      "[I 2024-10-14 10:20:02,066] Trial 2 finished with value: 0.663613421815123 and parameters: {'booster': 'gblinear', 'lambda': 2.125928821891356e-05, 'alpha': 0.0294983659402125, 'subsample': 0.7447231292825192, 'colsample_bytree': 0.704932710121283}. Best is trial 1 with value: 0.6666861388914852.\n",
      "[I 2024-10-14 10:20:02,641] Trial 3 finished with value: 0.662994205065894 and parameters: {'booster': 'gbtree', 'lambda': 0.024783989237193674, 'alpha': 1.8004605810625206e-08, 'subsample': 0.7020582710019037, 'colsample_bytree': 0.8597243882425191, 'max_depth': 3, 'min_child_weight': 8, 'eta': 0.025883946405841046, 'gamma': 1.1160867794127966e-08, 'grow_policy': 'lossguide'}. Best is trial 1 with value: 0.6666861388914852.\n",
      "[I 2024-10-14 10:20:04,079] Trial 4 finished with value: 0.6714178895223852 and parameters: {'booster': 'gbtree', 'lambda': 0.037004627361004544, 'alpha': 1.966736635109503e-07, 'subsample': 0.6234954100959912, 'colsample_bytree': 0.8840313611769367, 'max_depth': 9, 'min_child_weight': 6, 'eta': 1.943704811509807e-06, 'gamma': 3.65605341657554e-05, 'grow_policy': 'lossguide'}. Best is trial 4 with value: 0.6714178895223852.\n",
      "[I 2024-10-14 10:20:04,978] Trial 5 finished with value: 0.6652140386952051 and parameters: {'booster': 'gbtree', 'lambda': 1.9956795294789526e-06, 'alpha': 0.15436778026272793, 'subsample': 0.5317702636134951, 'colsample_bytree': 0.8124840648327536, 'max_depth': 5, 'min_child_weight': 8, 'eta': 3.2594094683447956e-07, 'gamma': 6.202044314270509e-07, 'grow_policy': 'depthwise'}. Best is trial 4 with value: 0.6714178895223852.\n",
      "[I 2024-10-14 10:20:05,197] Trial 6 finished with value: 0.6667211888961585 and parameters: {'booster': 'gblinear', 'lambda': 1.977520075060993e-07, 'alpha': 6.774916714328416e-05, 'subsample': 0.6632632249744506, 'colsample_bytree': 0.9562380379804445}. Best is trial 4 with value: 0.6714178895223852.\n",
      "[I 2024-10-14 10:20:05,422] Trial 7 finished with value: 0.6660435554724741 and parameters: {'booster': 'gblinear', 'lambda': 3.0396741477917156e-07, 'alpha': 0.00029945568648174695, 'subsample': 0.20081353214057165, 'colsample_bytree': 0.9556560484303278}. Best is trial 4 with value: 0.6714178895223852.\n",
      "[I 2024-10-14 10:20:05,631] Trial 8 finished with value: 0.666031872137583 and parameters: {'booster': 'gblinear', 'lambda': 0.0007907764356774963, 'alpha': 2.2550400894638325e-08, 'subsample': 0.8517493744718854, 'colsample_bytree': 0.7214020221903426}. Best is trial 4 with value: 0.6714178895223852.\n",
      "[I 2024-10-14 10:20:06,299] Trial 9 finished with value: 0.6632161884288251 and parameters: {'booster': 'dart', 'lambda': 4.7329084796187245e-06, 'alpha': 0.43637020597390225, 'subsample': 0.9994425040249602, 'colsample_bytree': 0.8224138474325706, 'max_depth': 3, 'min_child_weight': 6, 'eta': 0.008514521116673805, 'gamma': 0.04728525988709572, 'grow_policy': 'lossguide', 'sample_type': 'weighted', 'normalize_type': 'forest', 'rate_drop': 0.04553257375245582, 'skip_drop': 2.602254906642646e-06}. Best is trial 4 with value: 0.6714178895223852.\n",
      "[I 2024-10-14 10:20:08,029] Trial 10 finished with value: 0.6710557061407608 and parameters: {'booster': 'gbtree', 'lambda': 0.37360336439039227, 'alpha': 4.225530143110175e-06, 'subsample': 0.4065580410942218, 'colsample_bytree': 0.8913356563815714, 'max_depth': 9, 'min_child_weight': 2, 'eta': 3.8831815237860265e-07, 'gamma': 4.6822208212396814e-05, 'grow_policy': 'lossguide'}. Best is trial 4 with value: 0.6714178895223852.\n",
      "[I 2024-10-14 10:20:09,779] Trial 11 finished with value: 0.670763622768483 and parameters: {'booster': 'gbtree', 'lambda': 0.9198028355655324, 'alpha': 2.2417990545348056e-06, 'subsample': 0.3609808355582751, 'colsample_bytree': 0.8909512152700049, 'max_depth': 9, 'min_child_weight': 2, 'eta': 3.334250982628951e-07, 'gamma': 5.355513578306254e-05, 'grow_policy': 'lossguide'}. Best is trial 4 with value: 0.6714178895223852.\n",
      "[I 2024-10-14 10:20:11,790] Trial 12 finished with value: 0.6730418730722497 and parameters: {'booster': 'gbtree', 'lambda': 0.8207882034459048, 'alpha': 3.1508331561472706e-06, 'subsample': 0.5210475296677453, 'colsample_bytree': 0.901241580299171, 'max_depth': 9, 'min_child_weight': 2, 'eta': 9.248987929467903e-06, 'gamma': 0.00012319700997676417, 'grow_policy': 'lossguide'}. Best is trial 12 with value: 0.6730418730722497.\n",
      "[I 2024-10-14 10:20:13,348] Trial 13 finished with value: 0.6698756893167586 and parameters: {'booster': 'gbtree', 'lambda': 0.0037399010202307298, 'alpha': 1.5020742696498002e-06, 'subsample': 0.5391856342225751, 'colsample_bytree': 0.9173657521454895, 'max_depth': 7, 'min_child_weight': 5, 'eta': 3.416005509910482e-05, 'gamma': 0.0005943389524953265, 'grow_policy': 'lossguide'}. Best is trial 12 with value: 0.6730418730722497.\n",
      "[I 2024-10-14 10:20:14,911] Trial 14 finished with value: 0.6691746892232919 and parameters: {'booster': 'gbtree', 'lambda': 0.051965743550318855, 'alpha': 2.936828193357146e-07, 'subsample': 0.5799743561934764, 'colsample_bytree': 0.9165127999664177, 'max_depth': 7, 'min_child_weight': 4, 'eta': 2.0552107731370017e-05, 'gamma': 0.00023162092955176117, 'grow_policy': 'lossguide'}. Best is trial 12 with value: 0.6730418730722497.\n",
      "[I 2024-10-14 10:20:16,557] Trial 15 finished with value: 0.6507500701000093 and parameters: {'booster': 'gbtree', 'lambda': 0.05195582368222698, 'alpha': 1.9129325725991975e-05, 'subsample': 0.2597689169377491, 'colsample_bytree': 0.7607933543441275, 'max_depth': 9, 'min_child_weight': 4, 'eta': 2.4014463643920443e-08, 'gamma': 4.934476902627285e-06, 'grow_policy': 'lossguide'}. Best is trial 12 with value: 0.6730418730722497.\n",
      "[I 2024-10-14 10:20:18,090] Trial 16 finished with value: 0.6685905224787363 and parameters: {'booster': 'gbtree', 'lambda': 0.0010727798999478424, 'alpha': 0.0010248533222387863, 'subsample': 0.4818569420909526, 'colsample_bytree': 0.8498790119337714, 'max_depth': 7, 'min_child_weight': 10, 'eta': 0.0002175659271108235, 'gamma': 0.00429445904063085, 'grow_policy': 'depthwise'}. Best is trial 12 with value: 0.6730418730722497.\n",
      "[I 2024-10-14 10:20:20,420] Trial 17 finished with value: 0.6747242732965698 and parameters: {'booster': 'dart', 'lambda': 0.26721166445051553, 'alpha': 0.0037525621600546454, 'subsample': 0.6612985344812718, 'colsample_bytree': 0.9975471356999009, 'max_depth': 9, 'min_child_weight': 10, 'eta': 2.812531297696184e-06, 'gamma': 1.1407002456721934e-06, 'grow_policy': 'lossguide', 'sample_type': 'uniform', 'normalize_type': 'tree', 'rate_drop': 1.044192269548946e-08, 'skip_drop': 0.8688678838774837}. Best is trial 17 with value: 0.6747242732965698.\n",
      "[I 2024-10-14 10:20:21,649] Trial 18 finished with value: 0.6703780727170764 and parameters: {'booster': 'dart', 'lambda': 0.7967564238815501, 'alpha': 0.0035861836476110912, 'subsample': 0.8936269253442058, 'colsample_bytree': 0.987341608945962, 'max_depth': 5, 'min_child_weight': 9, 'eta': 0.0004060726405676703, 'gamma': 2.5900842788205294e-07, 'grow_policy': 'lossguide', 'sample_type': 'uniform', 'normalize_type': 'tree', 'rate_drop': 1.1090656140157181e-08, 'skip_drop': 0.3910111445524477}. Best is trial 17 with value: 0.6747242732965698.\n",
      "[I 2024-10-14 10:20:23,355] Trial 19 finished with value: 0.6686372558183008 and parameters: {'booster': 'dart', 'lambda': 0.003917672965981669, 'alpha': 0.00991456246832587, 'subsample': 0.3313686533702781, 'colsample_bytree': 0.9417752455380881, 'max_depth': 7, 'min_child_weight': 3, 'eta': 7.580072306604013e-06, 'gamma': 1.1801956409307156e-06, 'grow_policy': 'depthwise', 'sample_type': 'uniform', 'normalize_type': 'tree', 'rate_drop': 1.0836704447192055e-08, 'skip_drop': 0.5641705262090835}. Best is trial 17 with value: 0.6747242732965698.\n",
      "[I 2024-10-14 10:20:25,691] Trial 20 finished with value: 0.6752617067015609 and parameters: {'booster': 'dart', 'lambda': 0.20521871651482085, 'alpha': 0.0013219494997128859, 'subsample': 0.5017668990776787, 'colsample_bytree': 0.9883118859368383, 'max_depth': 9, 'min_child_weight': 10, 'eta': 0.47245930664733554, 'gamma': 2.1430652897458466e-08, 'grow_policy': 'lossguide', 'sample_type': 'uniform', 'normalize_type': 'forest', 'rate_drop': 3.84892854294295e-06, 'skip_drop': 1.56800391447368e-08}. Best is trial 20 with value: 0.6752617067015609.\n",
      "[I 2024-10-14 10:20:28,103] Trial 21 finished with value: 0.6752850733713431 and parameters: {'booster': 'dart', 'lambda': 0.1623179961151869, 'alpha': 0.0009834238382810515, 'subsample': 0.47065920593571375, 'colsample_bytree': 0.999712119933567, 'max_depth': 9, 'min_child_weight': 10, 'eta': 0.13611480342267773, 'gamma': 1.0067626436466877e-08, 'grow_policy': 'lossguide', 'sample_type': 'uniform', 'normalize_type': 'forest', 'rate_drop': 2.4705548442572496e-06, 'skip_drop': 1.6107979131624345e-08}. Best is trial 21 with value: 0.6752850733713431.\n",
      "[I 2024-10-14 10:20:30,509] Trial 22 finished with value: 0.676430040190672 and parameters: {'booster': 'dart', 'lambda': 0.14644284322528997, 'alpha': 0.0012632860775079046, 'subsample': 0.6107468803410578, 'colsample_bytree': 0.9980257383312466, 'max_depth': 9, 'min_child_weight': 10, 'eta': 0.41267377385686266, 'gamma': 1.439212414611341e-08, 'grow_policy': 'lossguide', 'sample_type': 'uniform', 'normalize_type': 'forest', 'rate_drop': 3.928899871712991e-06, 'skip_drop': 1.476408666319978e-08}. Best is trial 22 with value: 0.676430040190672.\n",
      "[I 2024-10-14 10:20:32,787] Trial 23 finished with value: 0.6717683895691187 and parameters: {'booster': 'dart', 'lambda': 0.006493162913119863, 'alpha': 0.0007480065283891278, 'subsample': 0.4581003002393575, 'colsample_bytree': 0.9681465433233493, 'max_depth': 9, 'min_child_weight': 9, 'eta': 0.8027069618020626, 'gamma': 1.0405730854254145e-08, 'grow_policy': 'lossguide', 'sample_type': 'uniform', 'normalize_type': 'forest', 'rate_drop': 5.720147405084128e-06, 'skip_drop': 1.976183319669547e-08}. Best is trial 22 with value: 0.676430040190672.\n",
      "[I 2024-10-14 10:20:34,686] Trial 24 finished with value: 0.6766052902140387 and parameters: {'booster': 'dart', 'lambda': 0.1429235719852968, 'alpha': 0.03727285262659606, 'subsample': 0.5931442044220562, 'colsample_bytree': 0.9981039884320219, 'max_depth': 7, 'min_child_weight': 10, 'eta': 0.4523280704525378, 'gamma': 8.530196332875907e-08, 'grow_policy': 'lossguide', 'sample_type': 'uniform', 'normalize_type': 'forest', 'rate_drop': 5.275040768292303e-06, 'skip_drop': 1.1287335545814912e-08}. Best is trial 24 with value: 0.6766052902140387.\n",
      "[I 2024-10-14 10:20:36,728] Trial 25 finished with value: 0.6729133563884475 and parameters: {'booster': 'dart', 'lambda': 0.0002579639660581265, 'alpha': 0.04592051276939075, 'subsample': 0.5966020216607384, 'colsample_bytree': 0.9412620648084744, 'max_depth': 7, 'min_child_weight': 9, 'eta': 0.0857265560232541, 'gamma': 1.2891202812077483e-07, 'grow_policy': 'lossguide', 'sample_type': 'uniform', 'normalize_type': 'forest', 'rate_drop': 3.6770372380898582e-06, 'skip_drop': 3.573377080495467e-07}. Best is trial 24 with value: 0.6766052902140387.\n",
      "[I 2024-10-14 10:20:38,164] Trial 26 finished with value: 0.6697471726329564 and parameters: {'booster': 'dart', 'lambda': 0.08013718783677333, 'alpha': 0.7531381795401659, 'subsample': 0.7207812965546987, 'colsample_bytree': 0.9296754640766652, 'max_depth': 5, 'min_child_weight': 8, 'eta': 0.1404065884660662, 'gamma': 5.445044977880506e-08, 'grow_policy': 'lossguide', 'sample_type': 'uniform', 'normalize_type': 'forest', 'rate_drop': 6.630188435305036e-05, 'skip_drop': 4.609730039386084e-07}. Best is trial 24 with value: 0.6766052902140387.\n",
      "[I 2024-10-14 10:20:40,241] Trial 27 finished with value: 0.6718618562482475 and parameters: {'booster': 'dart', 'lambda': 0.014054354032805616, 'alpha': 0.08930788251992626, 'subsample': 0.5805261110861536, 'colsample_bytree': 0.9973356865775304, 'max_depth': 7, 'min_child_weight': 10, 'eta': 0.0021068456340302853, 'gamma': 9.632506626637933e-08, 'grow_policy': 'depthwise', 'sample_type': 'uniform', 'normalize_type': 'forest', 'rate_drop': 5.708965551441699e-07, 'skip_drop': 1.6174924269248914e-08}. Best is trial 24 with value: 0.6766052902140387.\n",
      "[I 2024-10-14 10:20:42,102] Trial 28 finished with value: 0.6739414898588653 and parameters: {'booster': 'dart', 'lambda': 0.1785881437681206, 'alpha': 0.011215475973044675, 'subsample': 0.35665355411428157, 'colsample_bytree': 0.9644473651552221, 'max_depth': 7, 'min_child_weight': 9, 'eta': 0.03817092454657075, 'gamma': 3.1369312270380215e-06, 'grow_policy': 'lossguide', 'sample_type': 'uniform', 'normalize_type': 'forest', 'rate_drop': 0.00018041443668108804, 'skip_drop': 1.7272136462803727e-05}. Best is trial 24 with value: 0.6766052902140387.\n",
      "[I 2024-10-14 10:20:44,718] Trial 29 finished with value: 0.6761613234881765 and parameters: {'booster': 'dart', 'lambda': 8.556049581121591e-05, 'alpha': 4.722672011717033e-05, 'subsample': 0.41019634872030153, 'colsample_bytree': 0.9834101664219149, 'max_depth': 9, 'min_child_weight': 7, 'eta': 0.23698946819782823, 'gamma': 4.122275029189935e-08, 'grow_policy': 'lossguide', 'sample_type': 'weighted', 'normalize_type': 'forest', 'rate_drop': 2.2440213927165403e-07, 'skip_drop': 1.9354882903338244e-07}. Best is trial 24 with value: 0.6766052902140387.\n",
      "[I 2024-10-14 10:20:46,155] Trial 30 finished with value: 0.6727264230301897 and parameters: {'booster': 'dart', 'lambda': 4.09040098884051e-05, 'alpha': 5.037423338125488e-05, 'subsample': 0.41241467572701884, 'colsample_bytree': 0.9766880514435163, 'max_depth': 5, 'min_child_weight': 7, 'eta': 0.6142718462855631, 'gamma': 5.2759750821663864e-08, 'grow_policy': 'lossguide', 'sample_type': 'weighted', 'normalize_type': 'forest', 'rate_drop': 1.9226861821048451e-07, 'skip_drop': 1.112415923380283e-07}. Best is trial 24 with value: 0.6766052902140387.\n",
      "[I 2024-10-14 10:20:48,775] Trial 31 finished with value: 0.675472006729601 and parameters: {'booster': 'dart', 'lambda': 0.00027512851602536146, 'alpha': 0.00018335876527311547, 'subsample': 0.4426988471610659, 'colsample_bytree': 0.9989482637530289, 'max_depth': 9, 'min_child_weight': 10, 'eta': 0.25628542952074695, 'gamma': 3.787696171462861e-08, 'grow_policy': 'lossguide', 'sample_type': 'weighted', 'normalize_type': 'forest', 'rate_drop': 4.2252204917971506e-07, 'skip_drop': 7.37289973532079e-08}. Best is trial 24 with value: 0.6766052902140387.\n",
      "[I 2024-10-14 10:20:51,255] Trial 32 finished with value: 0.6747125899616787 and parameters: {'booster': 'dart', 'lambda': 0.00027317178813519665, 'alpha': 1.4307202183652108e-05, 'subsample': 0.2818704186882241, 'colsample_bytree': 0.9614965517775516, 'max_depth': 9, 'min_child_weight': 9, 'eta': 0.214248387804154, 'gamma': 3.087825945744975e-07, 'grow_policy': 'lossguide', 'sample_type': 'weighted', 'normalize_type': 'forest', 'rate_drop': 4.41913284083623e-07, 'skip_drop': 1.743542032684667e-07}. Best is trial 24 with value: 0.6766052902140387.\n",
      "[I 2024-10-14 10:20:53,921] Trial 33 finished with value: 0.6743504065800542 and parameters: {'booster': 'dart', 'lambda': 0.00010578950582850571, 'alpha': 0.00010460108174787046, 'subsample': 0.4345295022491002, 'colsample_bytree': 0.9760015864820218, 'max_depth': 9, 'min_child_weight': 7, 'eta': 0.019848683383276684, 'gamma': 6.039399128890748e-08, 'grow_policy': 'lossguide', 'sample_type': 'weighted', 'normalize_type': 'forest', 'rate_drop': 1.359530337139046e-07, 'skip_drop': 1.2646496057253355e-06}. Best is trial 24 with value: 0.6766052902140387.\n",
      "[I 2024-10-14 10:20:56,416] Trial 34 finished with value: 0.6737662398354987 and parameters: {'booster': 'dart', 'lambda': 1.3663396771046824e-08, 'alpha': 0.00021861080246878776, 'subsample': 0.7799963025079449, 'colsample_bytree': 0.944542412878409, 'max_depth': 9, 'min_child_weight': 8, 'eta': 0.005838714986790627, 'gamma': 7.240650897676815e-06, 'grow_policy': 'lossguide', 'sample_type': 'weighted', 'normalize_type': 'forest', 'rate_drop': 3.1191776341816584e-05, 'skip_drop': 0.00032020469040074887}. Best is trial 24 with value: 0.6766052902140387.\n",
      "[I 2024-10-14 10:20:58,432] Trial 35 finished with value: 0.6710557061407608 and parameters: {'booster': 'dart', 'lambda': 2.0262641080881364e-05, 'alpha': 1.3618265530749238e-05, 'subsample': 0.6451972697824822, 'colsample_bytree': 0.9778048216106259, 'max_depth': 7, 'min_child_weight': 10, 'eta': 0.0018315959825233714, 'gamma': 3.642718409127434e-08, 'grow_policy': 'depthwise', 'sample_type': 'weighted', 'normalize_type': 'forest', 'rate_drop': 1.2437996402412615e-07, 'skip_drop': 9.988871775121346e-08}. Best is trial 24 with value: 0.6766052902140387.\n",
      "[I 2024-10-14 10:21:00,708] Trial 36 finished with value: 0.6697238059631742 and parameters: {'booster': 'dart', 'lambda': 7.376274625453287e-06, 'alpha': 0.0002608633888451638, 'subsample': 0.5633944383249481, 'colsample_bytree': 0.7787970726102776, 'max_depth': 9, 'min_child_weight': 9, 'eta': 0.054792043091496996, 'gamma': 2.6571917494788397e-07, 'grow_policy': 'lossguide', 'sample_type': 'weighted', 'normalize_type': 'forest', 'rate_drop': 1.909802375225021e-05, 'skip_drop': 7.335857204687546e-08}. Best is trial 24 with value: 0.6766052902140387.\n",
      "[I 2024-10-14 10:21:00,975] Trial 37 finished with value: 0.6641625385550052 and parameters: {'booster': 'gblinear', 'lambda': 0.0009654805715716702, 'alpha': 0.015812188035638004, 'subsample': 0.39675682201359797, 'colsample_bytree': 0.9818290542546055}. Best is trial 24 with value: 0.6766052902140387.\n",
      "[I 2024-10-14 10:21:02,801] Trial 38 finished with value: 0.6739765398635387 and parameters: {'booster': 'dart', 'lambda': 8.896246748788068e-07, 'alpha': 0.004036478195386502, 'subsample': 0.3066381717852217, 'colsample_bytree': 0.9218407126376029, 'max_depth': 7, 'min_child_weight': 7, 'eta': 0.25898650928520817, 'gamma': 0.5033098935308281, 'grow_policy': 'lossguide', 'sample_type': 'weighted', 'normalize_type': 'forest', 'rate_drop': 9.013001069214633e-07, 'skip_drop': 5.6721621091601055e-06}. Best is trial 24 with value: 0.6766052902140387.\n",
      "[I 2024-10-14 10:21:05,437] Trial 39 finished with value: 0.6750280400037386 and parameters: {'booster': 'dart', 'lambda': 0.014798594555744131, 'alpha': 0.2788220717087012, 'subsample': 0.6990149869449372, 'colsample_bytree': 0.9595272541371813, 'max_depth': 9, 'min_child_weight': 8, 'eta': 0.018163385106438144, 'gamma': 2.5220566145453588e-08, 'grow_policy': 'lossguide', 'sample_type': 'weighted', 'normalize_type': 'forest', 'rate_drop': 0.0010860781522935123, 'skip_drop': 1.185336103537785e-08}. Best is trial 24 with value: 0.6766052902140387.\n",
      "[I 2024-10-14 10:21:05,715] Trial 40 finished with value: 0.6664641555285541 and parameters: {'booster': 'gblinear', 'lambda': 0.00016146018602741492, 'alpha': 3.743185585921966e-05, 'subsample': 0.6190325382535844, 'colsample_bytree': 0.8595388184859416}. Best is trial 24 with value: 0.6766052902140387.\n",
      "[I 2024-10-14 10:21:08,262] Trial 41 finished with value: 0.6680530890737452 and parameters: {'booster': 'dart', 'lambda': 0.10009158815311343, 'alpha': 0.0005468618558336958, 'subsample': 0.47003981699201175, 'colsample_bytree': 0.9988272775351106, 'max_depth': 9, 'min_child_weight': 10, 'eta': 0.9769876124901313, 'gamma': 1.1237623708526765e-08, 'grow_policy': 'lossguide', 'sample_type': 'uniform', 'normalize_type': 'forest', 'rate_drop': 1.9253246337941835e-06, 'skip_drop': 4.152090069964079e-08}. Best is trial 24 with value: 0.6766052902140387.\n",
      "[I 2024-10-14 10:21:10,988] Trial 42 finished with value: 0.6755304234040564 and parameters: {'booster': 'dart', 'lambda': 0.02351692191343303, 'alpha': 0.00014648231713353292, 'subsample': 0.5436699314980806, 'colsample_bytree': 0.9987054855563651, 'max_depth': 9, 'min_child_weight': 10, 'eta': 0.11732439150651923, 'gamma': 1.0632810926681947e-08, 'grow_policy': 'lossguide', 'sample_type': 'uniform', 'normalize_type': 'forest', 'rate_drop': 8.361431488876098e-06, 'skip_drop': 1.2331148702270908e-08}. Best is trial 24 with value: 0.6766052902140387.\n",
      "[I 2024-10-14 10:21:13,704] Trial 43 finished with value: 0.6754603233947097 and parameters: {'booster': 'dart', 'lambda': 0.0020897413702678706, 'alpha': 0.0001445069338813833, 'subsample': 0.5391043665159776, 'colsample_bytree': 0.9477546727272126, 'max_depth': 9, 'min_child_weight': 9, 'eta': 0.0813641467254768, 'gamma': 1.4066598524350487e-07, 'grow_policy': 'lossguide', 'sample_type': 'uniform', 'normalize_type': 'forest', 'rate_drop': 9.979684293192323e-06, 'skip_drop': 5.95070518788444e-08}. Best is trial 24 with value: 0.6766052902140387.\n",
      "[I 2024-10-14 10:21:14,818] Trial 44 finished with value: 0.6657047387606319 and parameters: {'booster': 'dart', 'lambda': 0.012691757501543595, 'alpha': 8.22557932294542e-06, 'subsample': 0.38152511511924203, 'colsample_bytree': 0.98327907207635, 'max_depth': 3, 'min_child_weight': 10, 'eta': 0.32294439292484783, 'gamma': 2.4036135759204903e-08, 'grow_policy': 'lossguide', 'sample_type': 'uniform', 'normalize_type': 'forest', 'rate_drop': 1.6407621050085742e-07, 'skip_drop': 4.212308242034244e-07}. Best is trial 24 with value: 0.6766052902140387.\n",
      "[I 2024-10-14 10:21:17,472] Trial 45 finished with value: 0.6742686232358164 and parameters: {'booster': 'dart', 'lambda': 0.027373785341549703, 'alpha': 3.953421004757676e-05, 'subsample': 0.4399559398973776, 'colsample_bytree': 0.9688456348750855, 'max_depth': 9, 'min_child_weight': 6, 'eta': 0.010217622565620206, 'gamma': 1.373441506578289e-07, 'grow_policy': 'depthwise', 'sample_type': 'uniform', 'normalize_type': 'forest', 'rate_drop': 8.734042227486136e-07, 'skip_drop': 5.035217838642517e-08}. Best is trial 24 with value: 0.6766052902140387.\n",
      "[I 2024-10-14 10:21:17,758] Trial 46 finished with value: 0.6667796055706141 and parameters: {'booster': 'gblinear', 'lambda': 1.8108400674847437e-05, 'alpha': 0.0021393625652884798, 'subsample': 0.5104990752947366, 'colsample_bytree': 0.9880410568543123}. Best is trial 24 with value: 0.6766052902140387.\n",
      "[I 2024-10-14 10:21:20,345] Trial 47 finished with value: 0.6744906065987476 and parameters: {'booster': 'dart', 'lambda': 0.4986787640663317, 'alpha': 1.1700197852942776e-06, 'subsample': 0.6271302864623561, 'colsample_bytree': 0.9329008094098207, 'max_depth': 9, 'min_child_weight': 8, 'eta': 0.027995031877224925, 'gamma': 9.479652962981953e-07, 'grow_policy': 'lossguide', 'sample_type': 'weighted', 'normalize_type': 'forest', 'rate_drop': 6.963871820325754e-08, 'skip_drop': 0.03731317399430592}. Best is trial 24 with value: 0.6766052902140387.\n",
      "[I 2024-10-14 10:21:22,877] Trial 48 finished with value: 0.6686489391531919 and parameters: {'booster': 'dart', 'lambda': 6.561116019243571e-05, 'alpha': 0.0003840104761752779, 'subsample': 0.558502192194654, 'colsample_bytree': 0.9537223832458993, 'max_depth': 9, 'min_child_weight': 9, 'eta': 0.9960523858864873, 'gamma': 4.720207233171133e-07, 'grow_policy': 'lossguide', 'sample_type': 'uniform', 'normalize_type': 'forest', 'rate_drop': 1.4770906214694554e-05, 'skip_drop': 8.048345911131905e-07}. Best is trial 24 with value: 0.6766052902140387.\n",
      "[I 2024-10-14 10:21:24,657] Trial 49 finished with value: 0.6736143564819141 and parameters: {'booster': 'dart', 'lambda': 0.0004012249269691258, 'alpha': 9.542619095229096e-05, 'subsample': 0.22359095317446925, 'colsample_bytree': 0.8406618339788792, 'max_depth': 7, 'min_child_weight': 5, 'eta': 0.25314980434688905, 'gamma': 2.6727192665020264e-08, 'grow_policy': 'lossguide', 'sample_type': 'weighted', 'normalize_type': 'tree', 'rate_drop': 4.1742628157979214e-08, 'skip_drop': 0.0026311261150715978}. Best is trial 24 with value: 0.6766052902140387.\n",
      "[I 2024-10-14 10:21:24,950] Trial 50 finished with value: 0.6665809888774652 and parameters: {'booster': 'gblinear', 'lambda': 7.720641121634413e-06, 'alpha': 4.356918003928698e-08, 'subsample': 0.6771417448195676, 'colsample_bytree': 0.8742217539169236}. Best is trial 24 with value: 0.6766052902140387.\n",
      "[I 2024-10-14 10:21:27,720] Trial 51 finished with value: 0.675483690064492 and parameters: {'booster': 'dart', 'lambda': 0.0032991573705640435, 'alpha': 0.0001820761715081349, 'subsample': 0.5181186655386172, 'colsample_bytree': 0.950564885565071, 'max_depth': 9, 'min_child_weight': 10, 'eta': 0.07663924219493647, 'gamma': 1.863262496845436e-07, 'grow_policy': 'lossguide', 'sample_type': 'uniform', 'normalize_type': 'forest', 'rate_drop': 8.23839829857385e-06, 'skip_drop': 8.029729640722556e-08}. Best is trial 24 with value: 0.6766052902140387.\n",
      "[I 2024-10-14 10:21:30,477] Trial 52 finished with value: 0.6754486400598186 and parameters: {'booster': 'dart', 'lambda': 0.0018897882794330495, 'alpha': 2.5505696891994352e-05, 'subsample': 0.4958747287961514, 'colsample_bytree': 0.999975439213375, 'max_depth': 9, 'min_child_weight': 10, 'eta': 0.07807548845052102, 'gamma': 7.63184469691234e-08, 'grow_policy': 'lossguide', 'sample_type': 'uniform', 'normalize_type': 'forest', 'rate_drop': 0.0001429421958510536, 'skip_drop': 1.8632062315206714e-07}. Best is trial 24 with value: 0.6766052902140387.\n",
      "[I 2024-10-14 10:21:33,038] Trial 53 finished with value: 0.6745256566034209 and parameters: {'booster': 'dart', 'lambda': 0.007063806869888212, 'alpha': 0.00020467077616364302, 'subsample': 0.5361018274875046, 'colsample_bytree': 0.9703853321870939, 'max_depth': 9, 'min_child_weight': 10, 'eta': 0.350958285410939, 'gamma': 2.098385125417129e-08, 'grow_policy': 'lossguide', 'sample_type': 'uniform', 'normalize_type': 'forest', 'rate_drop': 0.5633360848871117, 'skip_drop': 1.0513838895739451e-08}. Best is trial 24 with value: 0.6766052902140387.\n",
      "[I 2024-10-14 10:21:35,609] Trial 54 finished with value: 0.6747943733059164 and parameters: {'booster': 'dart', 'lambda': 0.02614421866483538, 'alpha': 0.0004099199462138444, 'subsample': 0.602625691701264, 'colsample_bytree': 0.9036776616808618, 'max_depth': 9, 'min_child_weight': 10, 'eta': 0.13623975355385526, 'gamma': 0.001989027008525402, 'grow_policy': 'lossguide', 'sample_type': 'uniform', 'normalize_type': 'forest', 'rate_drop': 4.758297746582803e-05, 'skip_drop': 3.969571575226959e-08}. Best is trial 24 with value: 0.6766052902140387.\n",
      "[I 2024-10-14 10:21:38,347] Trial 55 finished with value: 0.6749345733246098 and parameters: {'booster': 'dart', 'lambda': 0.0004840703718653355, 'alpha': 6.347519974910691e-06, 'subsample': 0.4300842189535951, 'colsample_bytree': 0.9899859309942187, 'max_depth': 9, 'min_child_weight': 9, 'eta': 0.0427593719964065, 'gamma': 2.0800945578670774e-06, 'grow_policy': 'lossguide', 'sample_type': 'weighted', 'normalize_type': 'tree', 'rate_drop': 1.4529671759090408e-06, 'skip_drop': 2.340849079636741e-06}. Best is trial 24 with value: 0.6766052902140387.\n",
      "[I 2024-10-14 10:21:41,114] Trial 56 finished with value: 0.6754019067202542 and parameters: {'booster': 'dart', 'lambda': 0.07637983611870353, 'alpha': 0.0018757267296596717, 'subsample': 0.5675595794224435, 'colsample_bytree': 0.9730920275646183, 'max_depth': 9, 'min_child_weight': 10, 'eta': 0.0007529138083347278, 'gamma': 0.027585362500432756, 'grow_policy': 'lossguide', 'sample_type': 'uniform', 'normalize_type': 'forest', 'rate_drop': 0.0005811020754369842, 'skip_drop': 3.495622340021944e-08}. Best is trial 24 with value: 0.6766052902140387.\n",
      "[I 2024-10-14 10:21:43,410] Trial 57 finished with value: 0.674116739882232 and parameters: {'booster': 'gbtree', 'lambda': 0.005342346150637507, 'alpha': 8.983435375101617e-05, 'subsample': 0.36027921713647837, 'colsample_bytree': 0.9539460122693664, 'max_depth': 9, 'min_child_weight': 5, 'eta': 0.007353042229820348, 'gamma': 2.0722027830841812e-07, 'grow_policy': 'lossguide'}. Best is trial 24 with value: 0.6766052902140387.\n",
      "[I 2024-10-14 10:21:45,513] Trial 58 finished with value: 0.6767688569025142 and parameters: {'booster': 'dart', 'lambda': 0.0018109587959834871, 'alpha': 0.03840781339264432, 'subsample': 0.6467111165571134, 'colsample_bytree': 0.9866470353145465, 'max_depth': 7, 'min_child_weight': 8, 'eta': 0.4080194023189088, 'gamma': 6.331558669340217e-07, 'grow_policy': 'depthwise', 'sample_type': 'uniform', 'normalize_type': 'tree', 'rate_drop': 8.034540233857643e-06, 'skip_drop': 2.568561037020507e-05}. Best is trial 58 with value: 0.6767688569025142.\n",
      "[I 2024-10-14 10:21:47,539] Trial 59 finished with value: 0.6759510234601365 and parameters: {'booster': 'dart', 'lambda': 0.0017382252270679653, 'alpha': 0.04099457720059939, 'subsample': 0.7348614073446689, 'colsample_bytree': 0.9869360939573779, 'max_depth': 7, 'min_child_weight': 7, 'eta': 0.5817851230193946, 'gamma': 1.4673037791781992e-05, 'grow_policy': 'depthwise', 'sample_type': 'uniform', 'normalize_type': 'tree', 'rate_drop': 8.633393181137466e-06, 'skip_drop': 4.46910908234204e-05}. Best is trial 58 with value: 0.6767688569025142.\n",
      "[I 2024-10-14 10:21:49,627] Trial 60 finished with value: 0.5997639966351995 and parameters: {'booster': 'dart', 'lambda': 0.3807744500902495, 'alpha': 0.04686609835087426, 'subsample': 0.7326102188557135, 'colsample_bytree': 0.986496076520559, 'max_depth': 7, 'min_child_weight': 7, 'eta': 1.257946540685341e-08, 'gamma': 7.192852804855184e-06, 'grow_policy': 'depthwise', 'sample_type': 'uniform', 'normalize_type': 'tree', 'rate_drop': 5.959219845512455e-06, 'skip_drop': 4.067272902486107e-05}. Best is trial 58 with value: 0.6767688569025142.\n",
      "[I 2024-10-14 10:21:51,177] Trial 61 finished with value: 0.6717800729040098 and parameters: {'booster': 'dart', 'lambda': 0.0017391238946264016, 'alpha': 0.1575340422628275, 'subsample': 0.765346423858674, 'colsample_bytree': 0.9860629616194372, 'max_depth': 5, 'min_child_weight': 6, 'eta': 0.5104570710709609, 'gamma': 5.191135846990432e-07, 'grow_policy': 'depthwise', 'sample_type': 'uniform', 'normalize_type': 'tree', 'rate_drop': 1.1071329407020559e-05, 'skip_drop': 0.00022316577094914133}. Best is trial 58 with value: 0.6767688569025142.\n",
      "[I 2024-10-14 10:21:52,899] Trial 62 finished with value: 0.6671885222918029 and parameters: {'booster': 'dart', 'lambda': 0.03822796172330453, 'alpha': 0.02739910630819214, 'subsample': 0.8058326258001771, 'colsample_bytree': 0.7097846259102535, 'max_depth': 7, 'min_child_weight': 6, 'eta': 0.14172077116640083, 'gamma': 3.577627945775093e-05, 'grow_policy': 'depthwise', 'sample_type': 'uniform', 'normalize_type': 'tree', 'rate_drop': 3.102093708729028e-06, 'skip_drop': 0.0010330583480573103}. Best is trial 58 with value: 0.6767688569025142.\n",
      "[I 2024-10-14 10:21:55,022] Trial 63 finished with value: 0.6765585568744743 and parameters: {'booster': 'dart', 'lambda': 0.0035134121178550474, 'alpha': 0.007003875890391899, 'subsample': 0.6869297997533851, 'colsample_bytree': 0.9703148929027201, 'max_depth': 7, 'min_child_weight': 8, 'eta': 0.4809650746134625, 'gamma': 1.8169905204908228e-05, 'grow_policy': 'depthwise', 'sample_type': 'uniform', 'normalize_type': 'tree', 'rate_drop': 2.469143407541302e-05, 'skip_drop': 6.790836426849171e-05}. Best is trial 58 with value: 0.6767688569025142.\n",
      "[I 2024-10-14 10:21:57,075] Trial 64 finished with value: 0.6763132068417609 and parameters: {'booster': 'dart', 'lambda': 0.010799138956330383, 'alpha': 0.006873709839485944, 'subsample': 0.680058992686807, 'colsample_bytree': 0.9654826841263096, 'max_depth': 7, 'min_child_weight': 8, 'eta': 0.5766877438668215, 'gamma': 1.3476708321440605e-05, 'grow_policy': 'depthwise', 'sample_type': 'uniform', 'normalize_type': 'tree', 'rate_drop': 3.0678725301112484e-05, 'skip_drop': 8.357628238719701e-05}. Best is trial 58 with value: 0.6767688569025142.\n",
      "[I 2024-10-14 10:21:59,105] Trial 65 finished with value: 0.6759977567997009 and parameters: {'booster': 'dart', 'lambda': 0.0006995009500322167, 'alpha': 0.006328400579516723, 'subsample': 0.8324236038796635, 'colsample_bytree': 0.9341334240575566, 'max_depth': 7, 'min_child_weight': 8, 'eta': 0.5255786204580667, 'gamma': 1.0787779250585508e-05, 'grow_policy': 'depthwise', 'sample_type': 'uniform', 'normalize_type': 'tree', 'rate_drop': 0.00046052073759115554, 'skip_drop': 7.677431780238792e-05}. Best is trial 58 with value: 0.6767688569025142.\n",
      "[I 2024-10-14 10:22:00,718] Trial 66 finished with value: 0.6751799233573231 and parameters: {'booster': 'gbtree', 'lambda': 0.0008068287113509113, 'alpha': 0.005423815797720675, 'subsample': 0.9182372421202751, 'colsample_bytree': 0.934221934701669, 'max_depth': 7, 'min_child_weight': 8, 'eta': 0.442448306945564, 'gamma': 1.853949986356198e-05, 'grow_policy': 'depthwise'}. Best is trial 58 with value: 0.6767688569025142.\n",
      "[I 2024-10-14 10:22:02,779] Trial 67 finished with value: 0.663625105150014 and parameters: {'booster': 'dart', 'lambda': 0.007072790611525654, 'alpha': 0.021199402018774096, 'subsample': 0.8226629153202618, 'colsample_bytree': 0.9672585143426904, 'max_depth': 7, 'min_child_weight': 8, 'eta': 5.7935314744126924e-08, 'gamma': 9.49151783634159e-05, 'grow_policy': 'depthwise', 'sample_type': 'uniform', 'normalize_type': 'tree', 'rate_drop': 0.000389111164590145, 'skip_drop': 0.00011231627200398786}. Best is trial 58 with value: 0.6767688569025142.\n",
      "[I 2024-10-14 10:22:04,878] Trial 68 finished with value: 0.6744906065987476 and parameters: {'booster': 'dart', 'lambda': 0.0005172274454489622, 'alpha': 0.0075965012402682275, 'subsample': 0.7045025443718222, 'colsample_bytree': 0.9584469816443542, 'max_depth': 7, 'min_child_weight': 8, 'eta': 0.939070654652654, 'gamma': 2.3000573492066947e-06, 'grow_policy': 'depthwise', 'sample_type': 'uniform', 'normalize_type': 'tree', 'rate_drop': 0.004987766026913252, 'skip_drop': 8.42703842331245e-06}. Best is trial 58 with value: 0.6767688569025142.\n",
      "[I 2024-10-14 10:22:06,384] Trial 69 finished with value: 0.6702612393681653 and parameters: {'booster': 'dart', 'lambda': 0.00013221760162013277, 'alpha': 0.011218260123310463, 'subsample': 0.8848299879097401, 'colsample_bytree': 0.974577163303189, 'max_depth': 5, 'min_child_weight': 8, 'eta': 0.1762543743980171, 'gamma': 0.00023849620022886207, 'grow_policy': 'depthwise', 'sample_type': 'uniform', 'normalize_type': 'tree', 'rate_drop': 7.854559216048501e-05, 'skip_drop': 0.0014396592471064718}. Best is trial 58 with value: 0.6767688569025142.\n",
      "[I 2024-10-14 10:22:06,638] Trial 70 finished with value: 0.662258154967754 and parameters: {'booster': 'gblinear', 'lambda': 0.010896858480571937, 'alpha': 0.07304933235159237, 'subsample': 0.6741056899037278, 'colsample_bytree': 0.9415036958864158}. Best is trial 58 with value: 0.6767688569025142.\n",
      "[I 2024-10-14 10:22:08,873] Trial 71 finished with value: 0.6759393401252454 and parameters: {'booster': 'dart', 'lambda': 0.0012806185100327453, 'alpha': 0.041564451721492805, 'subsample': 0.6482544466375023, 'colsample_bytree': 0.9897102817296669, 'max_depth': 7, 'min_child_weight': 7, 'eta': 0.47119806963025956, 'gamma': 1.7312720732650566e-05, 'grow_policy': 'depthwise', 'sample_type': 'uniform', 'normalize_type': 'tree', 'rate_drop': 3.090424592800212e-05, 'skip_drop': 4.9935707206323304e-05}. Best is trial 58 with value: 0.6767688569025142.\n",
      "[I 2024-10-14 10:22:10,894] Trial 72 finished with value: 0.6763015235068698 and parameters: {'booster': 'dart', 'lambda': 4.40032147756811e-05, 'alpha': 0.0939988106337023, 'subsample': 0.8390129617875168, 'colsample_bytree': 0.9772750838272264, 'max_depth': 7, 'min_child_weight': 7, 'eta': 0.5516164043894732, 'gamma': 1.0240992574251823e-05, 'grow_policy': 'depthwise', 'sample_type': 'uniform', 'normalize_type': 'tree', 'rate_drop': 0.0031367167654845953, 'skip_drop': 3.0835251450092056e-05}. Best is trial 58 with value: 0.6767688569025142.\n",
      "[I 2024-10-14 10:22:12,911] Trial 73 finished with value: 0.6704364893915319 and parameters: {'booster': 'dart', 'lambda': 4.955089464256079e-05, 'alpha': 0.13239405388615505, 'subsample': 0.7728428745493389, 'colsample_bytree': 0.9630589181614986, 'max_depth': 7, 'min_child_weight': 6, 'eta': 7.924861812319232e-05, 'gamma': 4.8213275722916274e-05, 'grow_policy': 'depthwise', 'sample_type': 'uniform', 'normalize_type': 'tree', 'rate_drop': 0.00345306043182226, 'skip_drop': 1.5407782729871793e-05}. Best is trial 58 with value: 0.6767688569025142.\n",
      "[I 2024-10-14 10:22:14,755] Trial 74 finished with value: 0.6746191232825498 and parameters: {'booster': 'dart', 'lambda': 3.547974683794435e-05, 'alpha': 0.254058289653839, 'subsample': 0.9313757062067178, 'colsample_bytree': 0.979284176501414, 'max_depth': 7, 'min_child_weight': 7, 'eta': 0.33271657491099066, 'gamma': 4.361428211981378e-06, 'grow_policy': 'depthwise', 'sample_type': 'uniform', 'normalize_type': 'tree', 'rate_drop': 0.002076742979286758, 'skip_drop': 0.00011615717653282474}. Best is trial 58 with value: 0.6767688569025142.\n",
      "[I 2024-10-14 10:22:16,549] Trial 75 finished with value: 0.6750397233386298 and parameters: {'booster': 'dart', 'lambda': 0.003347192386144228, 'alpha': 0.8823158018301944, 'subsample': 0.9733581639445534, 'colsample_bytree': 0.7947828812093347, 'max_depth': 7, 'min_child_weight': 8, 'eta': 0.5841588392706208, 'gamma': 1.1189092141421225e-05, 'grow_policy': 'depthwise', 'sample_type': 'uniform', 'normalize_type': 'tree', 'rate_drop': 0.00018930058994605538, 'skip_drop': 2.2515590437457e-05}. Best is trial 58 with value: 0.6767688569025142.\n",
      "[I 2024-10-14 10:22:18,217] Trial 76 finished with value: 0.6701093560145808 and parameters: {'booster': 'dart', 'lambda': 0.00018460433939822317, 'alpha': 0.006344909277996708, 'subsample': 0.841489466047193, 'colsample_bytree': 0.9263810251026626, 'max_depth': 5, 'min_child_weight': 7, 'eta': 0.2097213354875896, 'gamma': 2.654675163178689e-05, 'grow_policy': 'depthwise', 'sample_type': 'uniform', 'normalize_type': 'tree', 'rate_drop': 0.016023301250022715, 'skip_drop': 6.101558257242333e-06}. Best is trial 58 with value: 0.6767688569025142.\n",
      "[I 2024-10-14 10:22:20,467] Trial 77 finished with value: 0.6720721562762875 and parameters: {'booster': 'dart', 'lambda': 0.11835620412219898, 'alpha': 0.01640123377342479, 'subsample': 0.8584555400949518, 'colsample_bytree': 0.9780093875062399, 'max_depth': 7, 'min_child_weight': 8, 'eta': 0.04760294494856518, 'gamma': 8.848020030479405e-05, 'grow_policy': 'depthwise', 'sample_type': 'uniform', 'normalize_type': 'tree', 'rate_drop': 0.00028628542209792687, 'skip_drop': 0.00020196490692518757}. Best is trial 58 with value: 0.6767688569025142.\n",
      "[I 2024-10-14 10:22:22,301] Trial 78 finished with value: 0.674116739882232 and parameters: {'booster': 'gbtree', 'lambda': 1.2483427098484467e-05, 'alpha': 0.0031018952111270775, 'subsample': 0.7498787615629553, 'colsample_bytree': 0.9640053820613879, 'max_depth': 7, 'min_child_weight': 9, 'eta': 0.996208615605002, 'gamma': 0.00020786369495465402, 'grow_policy': 'depthwise'}. Best is trial 58 with value: 0.6767688569025142.\n",
      "[I 2024-10-14 10:22:24,360] Trial 79 finished with value: 0.6681932890924386 and parameters: {'booster': 'dart', 'lambda': 0.043704476075904976, 'alpha': 0.06939181533015977, 'subsample': 0.6250180064167911, 'colsample_bytree': 0.7452364850588842, 'max_depth': 7, 'min_child_weight': 7, 'eta': 0.103767627147199, 'gamma': 8.160846840119031e-06, 'grow_policy': 'depthwise', 'sample_type': 'uniform', 'normalize_type': 'tree', 'rate_drop': 2.8913417947801014e-05, 'skip_drop': 0.0004844416585658064}. Best is trial 58 with value: 0.6767688569025142.\n",
      "[I 2024-10-14 10:22:26,513] Trial 80 finished with value: 0.6754486400598186 and parameters: {'booster': 'dart', 'lambda': 9.662839402111143e-05, 'alpha': 0.0015618613766770284, 'subsample': 0.6899062619953078, 'colsample_bytree': 0.9920916341816419, 'max_depth': 7, 'min_child_weight': 8, 'eta': 0.20113095848128, 'gamma': 2.0976211355507965e-06, 'grow_policy': 'depthwise', 'sample_type': 'uniform', 'normalize_type': 'tree', 'rate_drop': 0.013367476742309372, 'skip_drop': 0.008507558838294507}. Best is trial 58 with value: 0.6767688569025142.\n",
      "[I 2024-10-14 10:22:28,730] Trial 81 finished with value: 0.6755654734087297 and parameters: {'booster': 'dart', 'lambda': 0.0025590714357236204, 'alpha': 0.033281759689551514, 'subsample': 0.7130041263966262, 'colsample_bytree': 0.9820054844461967, 'max_depth': 7, 'min_child_weight': 7, 'eta': 0.5259718528405856, 'gamma': 1.4003064964812666e-05, 'grow_policy': 'depthwise', 'sample_type': 'uniform', 'normalize_type': 'tree', 'rate_drop': 4.139999624903244e-06, 'skip_drop': 5.4022181555912433e-05}. Best is trial 58 with value: 0.6767688569025142.\n",
      "[I 2024-10-14 10:22:30,817] Trial 82 finished with value: 0.675168240022432 and parameters: {'booster': 'dart', 'lambda': 0.000570130579604259, 'alpha': 0.012592198451196596, 'subsample': 0.7434257106481391, 'colsample_bytree': 0.9701337475861437, 'max_depth': 7, 'min_child_weight': 6, 'eta': 0.554139009778926, 'gamma': 2.7656629791729033e-05, 'grow_policy': 'depthwise', 'sample_type': 'uniform', 'normalize_type': 'tree', 'rate_drop': 5.3125540716420264e-05, 'skip_drop': 7.63822370695772e-05}. Best is trial 58 with value: 0.6767688569025142.\n",
      "[I 2024-10-14 10:22:32,957] Trial 83 finished with value: 0.6748294233105898 and parameters: {'booster': 'dart', 'lambda': 0.0012241110020675648, 'alpha': 0.12168436892067812, 'subsample': 0.6671457237717449, 'colsample_bytree': 0.9109675203187777, 'max_depth': 7, 'min_child_weight': 7, 'eta': 0.26676789705008325, 'gamma': 4.575109347335246e-06, 'grow_policy': 'depthwise', 'sample_type': 'uniform', 'normalize_type': 'tree', 'rate_drop': 1.9042733012261656e-05, 'skip_drop': 1.821748139446441e-05}. Best is trial 58 with value: 0.6767688569025142.\n",
      "[I 2024-10-14 10:22:35,037] Trial 84 finished with value: 0.6757056734274232 and parameters: {'booster': 'dart', 'lambda': 0.0003086861657712432, 'alpha': 0.0026859373087666804, 'subsample': 0.8020108200795164, 'colsample_bytree': 0.9929723491687714, 'max_depth': 7, 'min_child_weight': 9, 'eta': 0.6487099588195832, 'gamma': 1.3076595541598082e-06, 'grow_policy': 'depthwise', 'sample_type': 'uniform', 'normalize_type': 'tree', 'rate_drop': 0.0010867887659005617, 'skip_drop': 2.950156177529589e-05}. Best is trial 58 with value: 0.6767688569025142.\n",
      "[I 2024-10-14 10:22:37,345] Trial 85 finished with value: 0.6759159734554632 and parameters: {'booster': 'dart', 'lambda': 6.839329603705058e-05, 'alpha': 0.3939870457128734, 'subsample': 0.5976083720688822, 'colsample_bytree': 0.9804148310105162, 'max_depth': 7, 'min_child_weight': 8, 'eta': 0.36568866385313303, 'gamma': 5.9705267337235274e-05, 'grow_policy': 'depthwise', 'sample_type': 'uniform', 'normalize_type': 'tree', 'rate_drop': 2.086444853901342e-06, 'skip_drop': 3.052195993275808e-06}. Best is trial 58 with value: 0.6767688569025142.\n",
      "[I 2024-10-14 10:22:39,507] Trial 86 finished with value: 0.6731937564258342 and parameters: {'booster': 'dart', 'lambda': 0.005226951182369154, 'alpha': 0.057935611061130966, 'subsample': 0.7887507792422354, 'colsample_bytree': 0.9579677260394018, 'max_depth': 7, 'min_child_weight': 7, 'eta': 0.06857314469266633, 'gamma': 9.044390140531396e-08, 'grow_policy': 'depthwise', 'sample_type': 'uniform', 'normalize_type': 'tree', 'rate_drop': 9.952152692011859e-05, 'skip_drop': 9.954826101778582e-06}. Best is trial 58 with value: 0.6767688569025142.\n",
      "[I 2024-10-14 10:22:41,781] Trial 87 finished with value: 0.6710440228058697 and parameters: {'booster': 'dart', 'lambda': 3.043680779978007e-05, 'alpha': 0.022785235790625687, 'subsample': 0.652108261642612, 'colsample_bytree': 0.9921570056813139, 'max_depth': 7, 'min_child_weight': 9, 'eta': 0.029124006116966524, 'gamma': 9.763241181532309e-06, 'grow_policy': 'depthwise', 'sample_type': 'uniform', 'normalize_type': 'tree', 'rate_drop': 4.9396050019673505e-06, 'skip_drop': 0.0004893346696872838}. Best is trial 58 with value: 0.6767688569025142.\n",
      "[I 2024-10-14 10:22:42,094] Trial 88 finished with value: 0.6663940555192074 and parameters: {'booster': 'gblinear', 'lambda': 0.2527273388864556, 'alpha': 0.004830291391286053, 'subsample': 0.8680914396952361, 'colsample_bytree': 0.9367692826397316}. Best is trial 58 with value: 0.6767688569025142.\n",
      "[I 2024-10-14 10:22:44,209] Trial 89 finished with value: 0.6694550892606785 and parameters: {'booster': 'dart', 'lambda': 0.019710305173869676, 'alpha': 0.0009448347740196259, 'subsample': 0.8186778316754464, 'colsample_bytree': 0.946192119254912, 'max_depth': 7, 'min_child_weight': 6, 'eta': 8.078570769757904e-07, 'gamma': 9.679521916014887e-07, 'grow_policy': 'depthwise', 'sample_type': 'weighted', 'normalize_type': 'tree', 'rate_drop': 3.3222640094797293e-07, 'skip_drop': 0.00015207680463620273}. Best is trial 58 with value: 0.6767688569025142.\n",
      "[I 2024-10-14 10:22:45,795] Trial 90 finished with value: 0.6724109729881297 and parameters: {'booster': 'dart', 'lambda': 0.009272748153616452, 'alpha': 0.0074169168151375095, 'subsample': 0.7238023743175891, 'colsample_bytree': 0.9764123327815962, 'max_depth': 5, 'min_child_weight': 7, 'eta': 0.1506818586274863, 'gamma': 1.817018140184499e-08, 'grow_policy': 'depthwise', 'sample_type': 'uniform', 'normalize_type': 'tree', 'rate_drop': 1.913707957726616e-05, 'skip_drop': 2.0423783790651468e-08}. Best is trial 58 with value: 0.6767688569025142.\n",
      "[I 2024-10-14 10:22:48,120] Trial 91 finished with value: 0.6758108234414432 and parameters: {'booster': 'dart', 'lambda': 0.0012336060945618177, 'alpha': 0.0370344396950376, 'subsample': 0.653930030370881, 'colsample_bytree': 0.9931613514084205, 'max_depth': 7, 'min_child_weight': 7, 'eta': 0.6818683452256357, 'gamma': 2.0023834814639896e-05, 'grow_policy': 'depthwise', 'sample_type': 'uniform', 'normalize_type': 'tree', 'rate_drop': 2.3562765165611414e-08, 'skip_drop': 5.3172368014352836e-05}. Best is trial 58 with value: 0.6767688569025142.\n",
      "[I 2024-10-14 10:22:50,368] Trial 92 finished with value: 0.675577156743621 and parameters: {'booster': 'dart', 'lambda': 0.0016349263449412315, 'alpha': 0.22604835131351128, 'subsample': 0.628886811344224, 'colsample_bytree': 0.9848000829414655, 'max_depth': 7, 'min_child_weight': 8, 'eta': 0.4389061663274314, 'gamma': 1.4074122126139735e-05, 'grow_policy': 'depthwise', 'sample_type': 'uniform', 'normalize_type': 'tree', 'rate_drop': 2.810113402466918e-05, 'skip_drop': 7.274107469418431e-05}. Best is trial 58 with value: 0.6767688569025142.\n",
      "[I 2024-10-14 10:22:52,637] Trial 93 finished with value: 0.6744205065894009 and parameters: {'booster': 'dart', 'lambda': 0.0007883628737546935, 'alpha': 0.08135380173111605, 'subsample': 0.5815289317999182, 'colsample_bytree': 0.9691427823674299, 'max_depth': 7, 'min_child_weight': 7, 'eta': 0.2922832830524231, 'gamma': 4.896459024612624e-06, 'grow_policy': 'depthwise', 'sample_type': 'uniform', 'normalize_type': 'tree', 'rate_drop': 5.2441396307960334e-05, 'skip_drop': 2.6296350562678218e-05}. Best is trial 58 with value: 0.6767688569025142.\n",
      "[I 2024-10-14 10:22:53,830] Trial 94 finished with value: 0.6715113562015141 and parameters: {'booster': 'dart', 'lambda': 0.0637527799883608, 'alpha': 0.03791112861395549, 'subsample': 0.6834862792863202, 'colsample_bytree': 0.9912258333459336, 'max_depth': 3, 'min_child_weight': 7, 'eta': 0.9888736595675783, 'gamma': 5.082820984199277e-08, 'grow_policy': 'depthwise', 'sample_type': 'uniform', 'normalize_type': 'tree', 'rate_drop': 1.1428455779273803e-06, 'skip_drop': 4.4370221629715764e-05}. Best is trial 58 with value: 0.6767688569025142.\n",
      "[I 2024-10-14 10:22:56,314] Trial 95 finished with value: 0.6745139732685298 and parameters: {'booster': 'dart', 'lambda': 0.00022573836033243014, 'alpha': 0.019889562307923665, 'subsample': 0.6384478900639233, 'colsample_bytree': 0.9996251330393254, 'max_depth': 7, 'min_child_weight': 8, 'eta': 0.20462206529546573, 'gamma': 2.3019185350563363e-05, 'grow_policy': 'depthwise', 'sample_type': 'uniform', 'normalize_type': 'tree', 'rate_drop': 7.1189168635731495e-06, 'skip_drop': 0.00025689064938501073}. Best is trial 58 with value: 0.6767688569025142.\n",
      "[I 2024-10-14 10:22:58,535] Trial 96 finished with value: 0.6757407234320965 and parameters: {'booster': 'dart', 'lambda': 1.0443109104431407e-07, 'alpha': 0.007660442596201885, 'subsample': 0.6118963515597176, 'colsample_bytree': 0.9514503765090105, 'max_depth': 7, 'min_child_weight': 5, 'eta': 0.4369482592599415, 'gamma': 0.000576807159225734, 'grow_policy': 'depthwise', 'sample_type': 'weighted', 'normalize_type': 'tree', 'rate_drop': 3.6160777735115377e-05, 'skip_drop': 9.97407184885328e-05}. Best is trial 58 with value: 0.6767688569025142.\n",
      "[I 2024-10-14 10:23:00,833] Trial 97 finished with value: 0.6737545565006076 and parameters: {'booster': 'dart', 'lambda': 1.8579340368685724e-06, 'alpha': 0.09797600269382752, 'subsample': 0.7508737366080354, 'colsample_bytree': 0.9734803715079402, 'max_depth': 7, 'min_child_weight': 7, 'eta': 0.10988180424624948, 'gamma': 5.6524385489591714e-05, 'grow_policy': 'depthwise', 'sample_type': 'uniform', 'normalize_type': 'forest', 'rate_drop': 1.3354001312180939e-05, 'skip_drop': 2.5897000122192824e-08}. Best is trial 58 with value: 0.6767688569025142.\n",
      "[I 2024-10-14 10:23:02,507] Trial 98 finished with value: 0.6747359566314609 and parameters: {'booster': 'gbtree', 'lambda': 0.540140050873591, 'alpha': 0.010086619860788995, 'subsample': 0.6965172998706547, 'colsample_bytree': 0.8311491743897532, 'max_depth': 7, 'min_child_weight': 9, 'eta': 0.6375120900204206, 'gamma': 2.6642010213536274e-06, 'grow_policy': 'depthwise'}. Best is trial 58 with value: 0.6767688569025142.\n",
      "[I 2024-10-14 10:23:04,609] Trial 99 finished with value: 0.6747826899710253 and parameters: {'booster': 'dart', 'lambda': 0.004195110521569447, 'alpha': 0.18284899613398833, 'subsample': 0.8338464260425023, 'colsample_bytree': 0.9831877733720717, 'max_depth': 7, 'min_child_weight': 8, 'eta': 0.33201513390562937, 'gamma': 3.221342022446921e-07, 'grow_policy': 'depthwise', 'sample_type': 'uniform', 'normalize_type': 'forest', 'rate_drop': 0.00010111099507175792, 'skip_drop': 2.9175867247754853e-06}. Best is trial 58 with value: 0.6767688569025142.\n"
     ]
    },
    {
     "name": "stdout",
     "output_type": "stream",
     "text": [
      "Number of finished trials:  100\n",
      "Best trial:\n",
      "  Value: 0.6767688569025142\n",
      "  Params: \n",
      "    booster: dart\n",
      "    lambda: 0.0018109587959834871\n",
      "    alpha: 0.03840781339264432\n",
      "    subsample: 0.6467111165571134\n",
      "    colsample_bytree: 0.9866470353145465\n",
      "    max_depth: 7\n",
      "    min_child_weight: 8\n",
      "    eta: 0.4080194023189088\n",
      "    gamma: 6.331558669340217e-07\n",
      "    grow_policy: depthwise\n",
      "    sample_type: uniform\n",
      "    normalize_type: tree\n",
      "    rate_drop: 8.034540233857643e-06\n",
      "    skip_drop: 2.568561037020507e-05\n"
     ]
    }
   ],
   "source": [
    "train = xgb.DMatrix(data=X_train_resampled, label=y_train_resampled)\n",
    "test = xgb.DMatrix(data=X_test_scaled, label=y_test)\n",
    "\n",
    "\n",
    "def objective(trial):\n",
    "    param = {\n",
    "        \"verbosity\": 0,\n",
    "        \"objective\": \"binary:logistic\",\n",
    "        # use exact for small dataset.\n",
    "        \"tree_method\": \"exact\",\n",
    "        # defines booster, gblinear for linear functions.\n",
    "        \"booster\": trial.suggest_categorical(\"booster\", [\"gbtree\", \"gblinear\", \"dart\"]),\n",
    "        # L2 regularization weight.\n",
    "        \"lambda\": trial.suggest_float(\"lambda\", 1e-8, 1.0, log=True),\n",
    "        # L1 regularization weight.\n",
    "        \"alpha\": trial.suggest_float(\"alpha\", 1e-8, 1.0, log=True),\n",
    "        # sampling ratio for training data.\n",
    "        \"subsample\": trial.suggest_float(\"subsample\", 0.2, 1.0),\n",
    "        # sampling according to each tree.\n",
    "        \"colsample_bytree\": trial.suggest_float(\"colsample_bytree\", 0.7, 1.0),\n",
    "    }\n",
    "\n",
    "    if param[\"booster\"] in [\"gbtree\", \"dart\"]:\n",
    "        # maximum depth of the tree, signifies complexity of the tree.\n",
    "        param[\"max_depth\"] = trial.suggest_int(\"max_depth\", 3, 9, step=2)\n",
    "        # minimum child weight, larger the term more conservative the tree.\n",
    "        param[\"min_child_weight\"] = trial.suggest_int(\"min_child_weight\", 2, 10)\n",
    "        param[\"eta\"] = trial.suggest_float(\"eta\", 1e-8, 1.0, log=True)\n",
    "        # defines how selective algorithm is.\n",
    "        param[\"gamma\"] = trial.suggest_float(\"gamma\", 1e-8, 1.0, log=True)\n",
    "        param[\"grow_policy\"] = trial.suggest_categorical(\"grow_policy\", [\"depthwise\", \"lossguide\"])\n",
    "\n",
    "    if param[\"booster\"] == \"dart\":\n",
    "        param[\"sample_type\"] = trial.suggest_categorical(\"sample_type\", [\"uniform\", \"weighted\"])\n",
    "        param[\"normalize_type\"] = trial.suggest_categorical(\"normalize_type\", [\"tree\", \"forest\"])\n",
    "        param[\"rate_drop\"] = trial.suggest_float(\"rate_drop\", 1e-8, 1.0, log=True)\n",
    "        param[\"skip_drop\"] = trial.suggest_float(\"skip_drop\", 1e-8, 1.0, log=True)\n",
    "\n",
    "    bst = xgb.train(param, train)\n",
    "    preds = bst.predict(test)\n",
    "    pred_labels = np.rint(preds)\n",
    "    accuracy = accuracy_score(y_test, pred_labels)\n",
    "    return accuracy\n",
    "\n",
    "# Create a study object and optimize the objective function.\n",
    "study = optuna.create_study(direction='maximize')\n",
    "study.optimize(objective, n_trials=100)\n",
    "\n",
    "print(\"Number of finished trials: \", len(study.trials))\n",
    "print(\"Best trial:\")\n",
    "trial = study.best_trial\n",
    "\n",
    "print(\"  Value: {}\".format(trial.value))\n",
    "print(\"  Params: \")\n",
    "for key, value in trial.params.items():\n",
    "    print(\"    {}: {}\".format(key, value))"
   ]
  },
  {
   "cell_type": "code",
   "execution_count": 13,
   "metadata": {},
   "outputs": [
    {
     "data": {
      "application/vnd.plotly.v1+json": {
       "config": {
        "plotlyServerURL": "https://plot.ly"
       },
       "data": [
        {
         "mode": "markers",
         "name": "Objective Value",
         "type": "scatter",
         "x": [
          0,
          1,
          2,
          3,
          4,
          5,
          6,
          7,
          8,
          9,
          10,
          11,
          12,
          13,
          14,
          15,
          16,
          17,
          18,
          19,
          20,
          21,
          22,
          23,
          24,
          25,
          26,
          27,
          28,
          29,
          30,
          31,
          32,
          33,
          34,
          35,
          36,
          37,
          38,
          39,
          40,
          41,
          42,
          43,
          44,
          45,
          46,
          47,
          48,
          49,
          50,
          51,
          52,
          53,
          54,
          55,
          56,
          57,
          58,
          59,
          60,
          61,
          62,
          63,
          64,
          65,
          66,
          67,
          68,
          69,
          70,
          71,
          72,
          73,
          74,
          75,
          76,
          77,
          78,
          79,
          80,
          81,
          82,
          83,
          84,
          85,
          86,
          87,
          88,
          89,
          90,
          91,
          92,
          93,
          94,
          95,
          96,
          97,
          98,
          99
         ],
         "y": [
          0.6633563884475184,
          0.6666861388914852,
          0.663613421815123,
          0.662994205065894,
          0.6714178895223852,
          0.6652140386952051,
          0.6667211888961585,
          0.6660435554724741,
          0.666031872137583,
          0.6632161884288251,
          0.6710557061407608,
          0.670763622768483,
          0.6730418730722497,
          0.6698756893167586,
          0.6691746892232919,
          0.6507500701000093,
          0.6685905224787363,
          0.6747242732965698,
          0.6703780727170764,
          0.6686372558183008,
          0.6752617067015609,
          0.6752850733713431,
          0.676430040190672,
          0.6717683895691187,
          0.6766052902140387,
          0.6729133563884475,
          0.6697471726329564,
          0.6718618562482475,
          0.6739414898588653,
          0.6761613234881765,
          0.6727264230301897,
          0.675472006729601,
          0.6747125899616787,
          0.6743504065800542,
          0.6737662398354987,
          0.6710557061407608,
          0.6697238059631742,
          0.6641625385550052,
          0.6739765398635387,
          0.6750280400037386,
          0.6664641555285541,
          0.6680530890737452,
          0.6755304234040564,
          0.6754603233947097,
          0.6657047387606319,
          0.6742686232358164,
          0.6667796055706141,
          0.6744906065987476,
          0.6686489391531919,
          0.6736143564819141,
          0.6665809888774652,
          0.675483690064492,
          0.6754486400598186,
          0.6745256566034209,
          0.6747943733059164,
          0.6749345733246098,
          0.6754019067202542,
          0.674116739882232,
          0.6767688569025142,
          0.6759510234601365,
          0.5997639966351995,
          0.6717800729040098,
          0.6671885222918029,
          0.6765585568744743,
          0.6763132068417609,
          0.6759977567997009,
          0.6751799233573231,
          0.663625105150014,
          0.6744906065987476,
          0.6702612393681653,
          0.662258154967754,
          0.6759393401252454,
          0.6763015235068698,
          0.6704364893915319,
          0.6746191232825498,
          0.6750397233386298,
          0.6701093560145808,
          0.6720721562762875,
          0.674116739882232,
          0.6681932890924386,
          0.6754486400598186,
          0.6755654734087297,
          0.675168240022432,
          0.6748294233105898,
          0.6757056734274232,
          0.6759159734554632,
          0.6731937564258342,
          0.6710440228058697,
          0.6663940555192074,
          0.6694550892606785,
          0.6724109729881297,
          0.6758108234414432,
          0.675577156743621,
          0.6744205065894009,
          0.6715113562015141,
          0.6745139732685298,
          0.6757407234320965,
          0.6737545565006076,
          0.6747359566314609,
          0.6747826899710253
         ]
        },
        {
         "mode": "lines",
         "name": "Best Value",
         "type": "scatter",
         "x": [
          0,
          1,
          2,
          3,
          4,
          5,
          6,
          7,
          8,
          9,
          10,
          11,
          12,
          13,
          14,
          15,
          16,
          17,
          18,
          19,
          20,
          21,
          22,
          23,
          24,
          25,
          26,
          27,
          28,
          29,
          30,
          31,
          32,
          33,
          34,
          35,
          36,
          37,
          38,
          39,
          40,
          41,
          42,
          43,
          44,
          45,
          46,
          47,
          48,
          49,
          50,
          51,
          52,
          53,
          54,
          55,
          56,
          57,
          58,
          59,
          60,
          61,
          62,
          63,
          64,
          65,
          66,
          67,
          68,
          69,
          70,
          71,
          72,
          73,
          74,
          75,
          76,
          77,
          78,
          79,
          80,
          81,
          82,
          83,
          84,
          85,
          86,
          87,
          88,
          89,
          90,
          91,
          92,
          93,
          94,
          95,
          96,
          97,
          98,
          99
         ],
         "y": [
          0.6633563884475184,
          0.6666861388914852,
          0.6666861388914852,
          0.6666861388914852,
          0.6714178895223852,
          0.6714178895223852,
          0.6714178895223852,
          0.6714178895223852,
          0.6714178895223852,
          0.6714178895223852,
          0.6714178895223852,
          0.6714178895223852,
          0.6730418730722497,
          0.6730418730722497,
          0.6730418730722497,
          0.6730418730722497,
          0.6730418730722497,
          0.6747242732965698,
          0.6747242732965698,
          0.6747242732965698,
          0.6752617067015609,
          0.6752850733713431,
          0.676430040190672,
          0.676430040190672,
          0.6766052902140387,
          0.6766052902140387,
          0.6766052902140387,
          0.6766052902140387,
          0.6766052902140387,
          0.6766052902140387,
          0.6766052902140387,
          0.6766052902140387,
          0.6766052902140387,
          0.6766052902140387,
          0.6766052902140387,
          0.6766052902140387,
          0.6766052902140387,
          0.6766052902140387,
          0.6766052902140387,
          0.6766052902140387,
          0.6766052902140387,
          0.6766052902140387,
          0.6766052902140387,
          0.6766052902140387,
          0.6766052902140387,
          0.6766052902140387,
          0.6766052902140387,
          0.6766052902140387,
          0.6766052902140387,
          0.6766052902140387,
          0.6766052902140387,
          0.6766052902140387,
          0.6766052902140387,
          0.6766052902140387,
          0.6766052902140387,
          0.6766052902140387,
          0.6766052902140387,
          0.6766052902140387,
          0.6767688569025142,
          0.6767688569025142,
          0.6767688569025142,
          0.6767688569025142,
          0.6767688569025142,
          0.6767688569025142,
          0.6767688569025142,
          0.6767688569025142,
          0.6767688569025142,
          0.6767688569025142,
          0.6767688569025142,
          0.6767688569025142,
          0.6767688569025142,
          0.6767688569025142,
          0.6767688569025142,
          0.6767688569025142,
          0.6767688569025142,
          0.6767688569025142,
          0.6767688569025142,
          0.6767688569025142,
          0.6767688569025142,
          0.6767688569025142,
          0.6767688569025142,
          0.6767688569025142,
          0.6767688569025142,
          0.6767688569025142,
          0.6767688569025142,
          0.6767688569025142,
          0.6767688569025142,
          0.6767688569025142,
          0.6767688569025142,
          0.6767688569025142,
          0.6767688569025142,
          0.6767688569025142,
          0.6767688569025142,
          0.6767688569025142,
          0.6767688569025142,
          0.6767688569025142,
          0.6767688569025142,
          0.6767688569025142,
          0.6767688569025142,
          0.6767688569025142
         ]
        },
        {
         "marker": {
          "color": "#cccccc"
         },
         "mode": "markers",
         "name": "Infeasible Trial",
         "showlegend": false,
         "type": "scatter",
         "x": [],
         "y": []
        }
       ],
       "layout": {
        "template": {
         "data": {
          "bar": [
           {
            "error_x": {
             "color": "#2a3f5f"
            },
            "error_y": {
             "color": "#2a3f5f"
            },
            "marker": {
             "line": {
              "color": "#E5ECF6",
              "width": 0.5
             },
             "pattern": {
              "fillmode": "overlay",
              "size": 10,
              "solidity": 0.2
             }
            },
            "type": "bar"
           }
          ],
          "barpolar": [
           {
            "marker": {
             "line": {
              "color": "#E5ECF6",
              "width": 0.5
             },
             "pattern": {
              "fillmode": "overlay",
              "size": 10,
              "solidity": 0.2
             }
            },
            "type": "barpolar"
           }
          ],
          "carpet": [
           {
            "aaxis": {
             "endlinecolor": "#2a3f5f",
             "gridcolor": "white",
             "linecolor": "white",
             "minorgridcolor": "white",
             "startlinecolor": "#2a3f5f"
            },
            "baxis": {
             "endlinecolor": "#2a3f5f",
             "gridcolor": "white",
             "linecolor": "white",
             "minorgridcolor": "white",
             "startlinecolor": "#2a3f5f"
            },
            "type": "carpet"
           }
          ],
          "choropleth": [
           {
            "colorbar": {
             "outlinewidth": 0,
             "ticks": ""
            },
            "type": "choropleth"
           }
          ],
          "contour": [
           {
            "colorbar": {
             "outlinewidth": 0,
             "ticks": ""
            },
            "colorscale": [
             [
              0,
              "#0d0887"
             ],
             [
              0.1111111111111111,
              "#46039f"
             ],
             [
              0.2222222222222222,
              "#7201a8"
             ],
             [
              0.3333333333333333,
              "#9c179e"
             ],
             [
              0.4444444444444444,
              "#bd3786"
             ],
             [
              0.5555555555555556,
              "#d8576b"
             ],
             [
              0.6666666666666666,
              "#ed7953"
             ],
             [
              0.7777777777777778,
              "#fb9f3a"
             ],
             [
              0.8888888888888888,
              "#fdca26"
             ],
             [
              1,
              "#f0f921"
             ]
            ],
            "type": "contour"
           }
          ],
          "contourcarpet": [
           {
            "colorbar": {
             "outlinewidth": 0,
             "ticks": ""
            },
            "type": "contourcarpet"
           }
          ],
          "heatmap": [
           {
            "colorbar": {
             "outlinewidth": 0,
             "ticks": ""
            },
            "colorscale": [
             [
              0,
              "#0d0887"
             ],
             [
              0.1111111111111111,
              "#46039f"
             ],
             [
              0.2222222222222222,
              "#7201a8"
             ],
             [
              0.3333333333333333,
              "#9c179e"
             ],
             [
              0.4444444444444444,
              "#bd3786"
             ],
             [
              0.5555555555555556,
              "#d8576b"
             ],
             [
              0.6666666666666666,
              "#ed7953"
             ],
             [
              0.7777777777777778,
              "#fb9f3a"
             ],
             [
              0.8888888888888888,
              "#fdca26"
             ],
             [
              1,
              "#f0f921"
             ]
            ],
            "type": "heatmap"
           }
          ],
          "heatmapgl": [
           {
            "colorbar": {
             "outlinewidth": 0,
             "ticks": ""
            },
            "colorscale": [
             [
              0,
              "#0d0887"
             ],
             [
              0.1111111111111111,
              "#46039f"
             ],
             [
              0.2222222222222222,
              "#7201a8"
             ],
             [
              0.3333333333333333,
              "#9c179e"
             ],
             [
              0.4444444444444444,
              "#bd3786"
             ],
             [
              0.5555555555555556,
              "#d8576b"
             ],
             [
              0.6666666666666666,
              "#ed7953"
             ],
             [
              0.7777777777777778,
              "#fb9f3a"
             ],
             [
              0.8888888888888888,
              "#fdca26"
             ],
             [
              1,
              "#f0f921"
             ]
            ],
            "type": "heatmapgl"
           }
          ],
          "histogram": [
           {
            "marker": {
             "pattern": {
              "fillmode": "overlay",
              "size": 10,
              "solidity": 0.2
             }
            },
            "type": "histogram"
           }
          ],
          "histogram2d": [
           {
            "colorbar": {
             "outlinewidth": 0,
             "ticks": ""
            },
            "colorscale": [
             [
              0,
              "#0d0887"
             ],
             [
              0.1111111111111111,
              "#46039f"
             ],
             [
              0.2222222222222222,
              "#7201a8"
             ],
             [
              0.3333333333333333,
              "#9c179e"
             ],
             [
              0.4444444444444444,
              "#bd3786"
             ],
             [
              0.5555555555555556,
              "#d8576b"
             ],
             [
              0.6666666666666666,
              "#ed7953"
             ],
             [
              0.7777777777777778,
              "#fb9f3a"
             ],
             [
              0.8888888888888888,
              "#fdca26"
             ],
             [
              1,
              "#f0f921"
             ]
            ],
            "type": "histogram2d"
           }
          ],
          "histogram2dcontour": [
           {
            "colorbar": {
             "outlinewidth": 0,
             "ticks": ""
            },
            "colorscale": [
             [
              0,
              "#0d0887"
             ],
             [
              0.1111111111111111,
              "#46039f"
             ],
             [
              0.2222222222222222,
              "#7201a8"
             ],
             [
              0.3333333333333333,
              "#9c179e"
             ],
             [
              0.4444444444444444,
              "#bd3786"
             ],
             [
              0.5555555555555556,
              "#d8576b"
             ],
             [
              0.6666666666666666,
              "#ed7953"
             ],
             [
              0.7777777777777778,
              "#fb9f3a"
             ],
             [
              0.8888888888888888,
              "#fdca26"
             ],
             [
              1,
              "#f0f921"
             ]
            ],
            "type": "histogram2dcontour"
           }
          ],
          "mesh3d": [
           {
            "colorbar": {
             "outlinewidth": 0,
             "ticks": ""
            },
            "type": "mesh3d"
           }
          ],
          "parcoords": [
           {
            "line": {
             "colorbar": {
              "outlinewidth": 0,
              "ticks": ""
             }
            },
            "type": "parcoords"
           }
          ],
          "pie": [
           {
            "automargin": true,
            "type": "pie"
           }
          ],
          "scatter": [
           {
            "fillpattern": {
             "fillmode": "overlay",
             "size": 10,
             "solidity": 0.2
            },
            "type": "scatter"
           }
          ],
          "scatter3d": [
           {
            "line": {
             "colorbar": {
              "outlinewidth": 0,
              "ticks": ""
             }
            },
            "marker": {
             "colorbar": {
              "outlinewidth": 0,
              "ticks": ""
             }
            },
            "type": "scatter3d"
           }
          ],
          "scattercarpet": [
           {
            "marker": {
             "colorbar": {
              "outlinewidth": 0,
              "ticks": ""
             }
            },
            "type": "scattercarpet"
           }
          ],
          "scattergeo": [
           {
            "marker": {
             "colorbar": {
              "outlinewidth": 0,
              "ticks": ""
             }
            },
            "type": "scattergeo"
           }
          ],
          "scattergl": [
           {
            "marker": {
             "colorbar": {
              "outlinewidth": 0,
              "ticks": ""
             }
            },
            "type": "scattergl"
           }
          ],
          "scattermapbox": [
           {
            "marker": {
             "colorbar": {
              "outlinewidth": 0,
              "ticks": ""
             }
            },
            "type": "scattermapbox"
           }
          ],
          "scatterpolar": [
           {
            "marker": {
             "colorbar": {
              "outlinewidth": 0,
              "ticks": ""
             }
            },
            "type": "scatterpolar"
           }
          ],
          "scatterpolargl": [
           {
            "marker": {
             "colorbar": {
              "outlinewidth": 0,
              "ticks": ""
             }
            },
            "type": "scatterpolargl"
           }
          ],
          "scatterternary": [
           {
            "marker": {
             "colorbar": {
              "outlinewidth": 0,
              "ticks": ""
             }
            },
            "type": "scatterternary"
           }
          ],
          "surface": [
           {
            "colorbar": {
             "outlinewidth": 0,
             "ticks": ""
            },
            "colorscale": [
             [
              0,
              "#0d0887"
             ],
             [
              0.1111111111111111,
              "#46039f"
             ],
             [
              0.2222222222222222,
              "#7201a8"
             ],
             [
              0.3333333333333333,
              "#9c179e"
             ],
             [
              0.4444444444444444,
              "#bd3786"
             ],
             [
              0.5555555555555556,
              "#d8576b"
             ],
             [
              0.6666666666666666,
              "#ed7953"
             ],
             [
              0.7777777777777778,
              "#fb9f3a"
             ],
             [
              0.8888888888888888,
              "#fdca26"
             ],
             [
              1,
              "#f0f921"
             ]
            ],
            "type": "surface"
           }
          ],
          "table": [
           {
            "cells": {
             "fill": {
              "color": "#EBF0F8"
             },
             "line": {
              "color": "white"
             }
            },
            "header": {
             "fill": {
              "color": "#C8D4E3"
             },
             "line": {
              "color": "white"
             }
            },
            "type": "table"
           }
          ]
         },
         "layout": {
          "annotationdefaults": {
           "arrowcolor": "#2a3f5f",
           "arrowhead": 0,
           "arrowwidth": 1
          },
          "autotypenumbers": "strict",
          "coloraxis": {
           "colorbar": {
            "outlinewidth": 0,
            "ticks": ""
           }
          },
          "colorscale": {
           "diverging": [
            [
             0,
             "#8e0152"
            ],
            [
             0.1,
             "#c51b7d"
            ],
            [
             0.2,
             "#de77ae"
            ],
            [
             0.3,
             "#f1b6da"
            ],
            [
             0.4,
             "#fde0ef"
            ],
            [
             0.5,
             "#f7f7f7"
            ],
            [
             0.6,
             "#e6f5d0"
            ],
            [
             0.7,
             "#b8e186"
            ],
            [
             0.8,
             "#7fbc41"
            ],
            [
             0.9,
             "#4d9221"
            ],
            [
             1,
             "#276419"
            ]
           ],
           "sequential": [
            [
             0,
             "#0d0887"
            ],
            [
             0.1111111111111111,
             "#46039f"
            ],
            [
             0.2222222222222222,
             "#7201a8"
            ],
            [
             0.3333333333333333,
             "#9c179e"
            ],
            [
             0.4444444444444444,
             "#bd3786"
            ],
            [
             0.5555555555555556,
             "#d8576b"
            ],
            [
             0.6666666666666666,
             "#ed7953"
            ],
            [
             0.7777777777777778,
             "#fb9f3a"
            ],
            [
             0.8888888888888888,
             "#fdca26"
            ],
            [
             1,
             "#f0f921"
            ]
           ],
           "sequentialminus": [
            [
             0,
             "#0d0887"
            ],
            [
             0.1111111111111111,
             "#46039f"
            ],
            [
             0.2222222222222222,
             "#7201a8"
            ],
            [
             0.3333333333333333,
             "#9c179e"
            ],
            [
             0.4444444444444444,
             "#bd3786"
            ],
            [
             0.5555555555555556,
             "#d8576b"
            ],
            [
             0.6666666666666666,
             "#ed7953"
            ],
            [
             0.7777777777777778,
             "#fb9f3a"
            ],
            [
             0.8888888888888888,
             "#fdca26"
            ],
            [
             1,
             "#f0f921"
            ]
           ]
          },
          "colorway": [
           "#636efa",
           "#EF553B",
           "#00cc96",
           "#ab63fa",
           "#FFA15A",
           "#19d3f3",
           "#FF6692",
           "#B6E880",
           "#FF97FF",
           "#FECB52"
          ],
          "font": {
           "color": "#2a3f5f"
          },
          "geo": {
           "bgcolor": "white",
           "lakecolor": "white",
           "landcolor": "#E5ECF6",
           "showlakes": true,
           "showland": true,
           "subunitcolor": "white"
          },
          "hoverlabel": {
           "align": "left"
          },
          "hovermode": "closest",
          "mapbox": {
           "style": "light"
          },
          "paper_bgcolor": "white",
          "plot_bgcolor": "#E5ECF6",
          "polar": {
           "angularaxis": {
            "gridcolor": "white",
            "linecolor": "white",
            "ticks": ""
           },
           "bgcolor": "#E5ECF6",
           "radialaxis": {
            "gridcolor": "white",
            "linecolor": "white",
            "ticks": ""
           }
          },
          "scene": {
           "xaxis": {
            "backgroundcolor": "#E5ECF6",
            "gridcolor": "white",
            "gridwidth": 2,
            "linecolor": "white",
            "showbackground": true,
            "ticks": "",
            "zerolinecolor": "white"
           },
           "yaxis": {
            "backgroundcolor": "#E5ECF6",
            "gridcolor": "white",
            "gridwidth": 2,
            "linecolor": "white",
            "showbackground": true,
            "ticks": "",
            "zerolinecolor": "white"
           },
           "zaxis": {
            "backgroundcolor": "#E5ECF6",
            "gridcolor": "white",
            "gridwidth": 2,
            "linecolor": "white",
            "showbackground": true,
            "ticks": "",
            "zerolinecolor": "white"
           }
          },
          "shapedefaults": {
           "line": {
            "color": "#2a3f5f"
           }
          },
          "ternary": {
           "aaxis": {
            "gridcolor": "white",
            "linecolor": "white",
            "ticks": ""
           },
           "baxis": {
            "gridcolor": "white",
            "linecolor": "white",
            "ticks": ""
           },
           "bgcolor": "#E5ECF6",
           "caxis": {
            "gridcolor": "white",
            "linecolor": "white",
            "ticks": ""
           }
          },
          "title": {
           "x": 0.05
          },
          "xaxis": {
           "automargin": true,
           "gridcolor": "white",
           "linecolor": "white",
           "ticks": "",
           "title": {
            "standoff": 15
           },
           "zerolinecolor": "white",
           "zerolinewidth": 2
          },
          "yaxis": {
           "automargin": true,
           "gridcolor": "white",
           "linecolor": "white",
           "ticks": "",
           "title": {
            "standoff": 15
           },
           "zerolinecolor": "white",
           "zerolinewidth": 2
          }
         }
        },
        "title": {
         "text": "Optimization History Plot"
        },
        "xaxis": {
         "title": {
          "text": "Trial"
         }
        },
        "yaxis": {
         "title": {
          "text": "Objective Value"
         }
        }
       }
      }
     },
     "metadata": {},
     "output_type": "display_data"
    }
   ],
   "source": [
    "optuna.visualization.plot_optimization_history(study)"
   ]
  },
  {
   "cell_type": "code",
   "execution_count": 14,
   "metadata": {},
   "outputs": [
    {
     "data": {
      "application/vnd.plotly.v1+json": {
       "config": {
        "plotlyServerURL": "https://plot.ly"
       },
       "data": [
        {
         "cliponaxis": false,
         "hovertemplate": [
          "alpha (FloatDistribution): 0.013814624691031428<extra></extra>",
          "subsample (FloatDistribution): 0.06587288972758489<extra></extra>",
          "colsample_bytree (FloatDistribution): 0.1910786812428574<extra></extra>",
          "booster (CategoricalDistribution): 0.24239875127345287<extra></extra>",
          "lambda (FloatDistribution): 0.4868350530650735<extra></extra>"
         ],
         "name": "Objective Value",
         "orientation": "h",
         "text": [
          "0.01",
          "0.07",
          "0.19",
          "0.24",
          "0.49"
         ],
         "textposition": "outside",
         "type": "bar",
         "x": [
          0.013814624691031428,
          0.06587288972758489,
          0.1910786812428574,
          0.24239875127345287,
          0.4868350530650735
         ],
         "y": [
          "alpha",
          "subsample",
          "colsample_bytree",
          "booster",
          "lambda"
         ]
        }
       ],
       "layout": {
        "template": {
         "data": {
          "bar": [
           {
            "error_x": {
             "color": "#2a3f5f"
            },
            "error_y": {
             "color": "#2a3f5f"
            },
            "marker": {
             "line": {
              "color": "#E5ECF6",
              "width": 0.5
             },
             "pattern": {
              "fillmode": "overlay",
              "size": 10,
              "solidity": 0.2
             }
            },
            "type": "bar"
           }
          ],
          "barpolar": [
           {
            "marker": {
             "line": {
              "color": "#E5ECF6",
              "width": 0.5
             },
             "pattern": {
              "fillmode": "overlay",
              "size": 10,
              "solidity": 0.2
             }
            },
            "type": "barpolar"
           }
          ],
          "carpet": [
           {
            "aaxis": {
             "endlinecolor": "#2a3f5f",
             "gridcolor": "white",
             "linecolor": "white",
             "minorgridcolor": "white",
             "startlinecolor": "#2a3f5f"
            },
            "baxis": {
             "endlinecolor": "#2a3f5f",
             "gridcolor": "white",
             "linecolor": "white",
             "minorgridcolor": "white",
             "startlinecolor": "#2a3f5f"
            },
            "type": "carpet"
           }
          ],
          "choropleth": [
           {
            "colorbar": {
             "outlinewidth": 0,
             "ticks": ""
            },
            "type": "choropleth"
           }
          ],
          "contour": [
           {
            "colorbar": {
             "outlinewidth": 0,
             "ticks": ""
            },
            "colorscale": [
             [
              0,
              "#0d0887"
             ],
             [
              0.1111111111111111,
              "#46039f"
             ],
             [
              0.2222222222222222,
              "#7201a8"
             ],
             [
              0.3333333333333333,
              "#9c179e"
             ],
             [
              0.4444444444444444,
              "#bd3786"
             ],
             [
              0.5555555555555556,
              "#d8576b"
             ],
             [
              0.6666666666666666,
              "#ed7953"
             ],
             [
              0.7777777777777778,
              "#fb9f3a"
             ],
             [
              0.8888888888888888,
              "#fdca26"
             ],
             [
              1,
              "#f0f921"
             ]
            ],
            "type": "contour"
           }
          ],
          "contourcarpet": [
           {
            "colorbar": {
             "outlinewidth": 0,
             "ticks": ""
            },
            "type": "contourcarpet"
           }
          ],
          "heatmap": [
           {
            "colorbar": {
             "outlinewidth": 0,
             "ticks": ""
            },
            "colorscale": [
             [
              0,
              "#0d0887"
             ],
             [
              0.1111111111111111,
              "#46039f"
             ],
             [
              0.2222222222222222,
              "#7201a8"
             ],
             [
              0.3333333333333333,
              "#9c179e"
             ],
             [
              0.4444444444444444,
              "#bd3786"
             ],
             [
              0.5555555555555556,
              "#d8576b"
             ],
             [
              0.6666666666666666,
              "#ed7953"
             ],
             [
              0.7777777777777778,
              "#fb9f3a"
             ],
             [
              0.8888888888888888,
              "#fdca26"
             ],
             [
              1,
              "#f0f921"
             ]
            ],
            "type": "heatmap"
           }
          ],
          "heatmapgl": [
           {
            "colorbar": {
             "outlinewidth": 0,
             "ticks": ""
            },
            "colorscale": [
             [
              0,
              "#0d0887"
             ],
             [
              0.1111111111111111,
              "#46039f"
             ],
             [
              0.2222222222222222,
              "#7201a8"
             ],
             [
              0.3333333333333333,
              "#9c179e"
             ],
             [
              0.4444444444444444,
              "#bd3786"
             ],
             [
              0.5555555555555556,
              "#d8576b"
             ],
             [
              0.6666666666666666,
              "#ed7953"
             ],
             [
              0.7777777777777778,
              "#fb9f3a"
             ],
             [
              0.8888888888888888,
              "#fdca26"
             ],
             [
              1,
              "#f0f921"
             ]
            ],
            "type": "heatmapgl"
           }
          ],
          "histogram": [
           {
            "marker": {
             "pattern": {
              "fillmode": "overlay",
              "size": 10,
              "solidity": 0.2
             }
            },
            "type": "histogram"
           }
          ],
          "histogram2d": [
           {
            "colorbar": {
             "outlinewidth": 0,
             "ticks": ""
            },
            "colorscale": [
             [
              0,
              "#0d0887"
             ],
             [
              0.1111111111111111,
              "#46039f"
             ],
             [
              0.2222222222222222,
              "#7201a8"
             ],
             [
              0.3333333333333333,
              "#9c179e"
             ],
             [
              0.4444444444444444,
              "#bd3786"
             ],
             [
              0.5555555555555556,
              "#d8576b"
             ],
             [
              0.6666666666666666,
              "#ed7953"
             ],
             [
              0.7777777777777778,
              "#fb9f3a"
             ],
             [
              0.8888888888888888,
              "#fdca26"
             ],
             [
              1,
              "#f0f921"
             ]
            ],
            "type": "histogram2d"
           }
          ],
          "histogram2dcontour": [
           {
            "colorbar": {
             "outlinewidth": 0,
             "ticks": ""
            },
            "colorscale": [
             [
              0,
              "#0d0887"
             ],
             [
              0.1111111111111111,
              "#46039f"
             ],
             [
              0.2222222222222222,
              "#7201a8"
             ],
             [
              0.3333333333333333,
              "#9c179e"
             ],
             [
              0.4444444444444444,
              "#bd3786"
             ],
             [
              0.5555555555555556,
              "#d8576b"
             ],
             [
              0.6666666666666666,
              "#ed7953"
             ],
             [
              0.7777777777777778,
              "#fb9f3a"
             ],
             [
              0.8888888888888888,
              "#fdca26"
             ],
             [
              1,
              "#f0f921"
             ]
            ],
            "type": "histogram2dcontour"
           }
          ],
          "mesh3d": [
           {
            "colorbar": {
             "outlinewidth": 0,
             "ticks": ""
            },
            "type": "mesh3d"
           }
          ],
          "parcoords": [
           {
            "line": {
             "colorbar": {
              "outlinewidth": 0,
              "ticks": ""
             }
            },
            "type": "parcoords"
           }
          ],
          "pie": [
           {
            "automargin": true,
            "type": "pie"
           }
          ],
          "scatter": [
           {
            "fillpattern": {
             "fillmode": "overlay",
             "size": 10,
             "solidity": 0.2
            },
            "type": "scatter"
           }
          ],
          "scatter3d": [
           {
            "line": {
             "colorbar": {
              "outlinewidth": 0,
              "ticks": ""
             }
            },
            "marker": {
             "colorbar": {
              "outlinewidth": 0,
              "ticks": ""
             }
            },
            "type": "scatter3d"
           }
          ],
          "scattercarpet": [
           {
            "marker": {
             "colorbar": {
              "outlinewidth": 0,
              "ticks": ""
             }
            },
            "type": "scattercarpet"
           }
          ],
          "scattergeo": [
           {
            "marker": {
             "colorbar": {
              "outlinewidth": 0,
              "ticks": ""
             }
            },
            "type": "scattergeo"
           }
          ],
          "scattergl": [
           {
            "marker": {
             "colorbar": {
              "outlinewidth": 0,
              "ticks": ""
             }
            },
            "type": "scattergl"
           }
          ],
          "scattermapbox": [
           {
            "marker": {
             "colorbar": {
              "outlinewidth": 0,
              "ticks": ""
             }
            },
            "type": "scattermapbox"
           }
          ],
          "scatterpolar": [
           {
            "marker": {
             "colorbar": {
              "outlinewidth": 0,
              "ticks": ""
             }
            },
            "type": "scatterpolar"
           }
          ],
          "scatterpolargl": [
           {
            "marker": {
             "colorbar": {
              "outlinewidth": 0,
              "ticks": ""
             }
            },
            "type": "scatterpolargl"
           }
          ],
          "scatterternary": [
           {
            "marker": {
             "colorbar": {
              "outlinewidth": 0,
              "ticks": ""
             }
            },
            "type": "scatterternary"
           }
          ],
          "surface": [
           {
            "colorbar": {
             "outlinewidth": 0,
             "ticks": ""
            },
            "colorscale": [
             [
              0,
              "#0d0887"
             ],
             [
              0.1111111111111111,
              "#46039f"
             ],
             [
              0.2222222222222222,
              "#7201a8"
             ],
             [
              0.3333333333333333,
              "#9c179e"
             ],
             [
              0.4444444444444444,
              "#bd3786"
             ],
             [
              0.5555555555555556,
              "#d8576b"
             ],
             [
              0.6666666666666666,
              "#ed7953"
             ],
             [
              0.7777777777777778,
              "#fb9f3a"
             ],
             [
              0.8888888888888888,
              "#fdca26"
             ],
             [
              1,
              "#f0f921"
             ]
            ],
            "type": "surface"
           }
          ],
          "table": [
           {
            "cells": {
             "fill": {
              "color": "#EBF0F8"
             },
             "line": {
              "color": "white"
             }
            },
            "header": {
             "fill": {
              "color": "#C8D4E3"
             },
             "line": {
              "color": "white"
             }
            },
            "type": "table"
           }
          ]
         },
         "layout": {
          "annotationdefaults": {
           "arrowcolor": "#2a3f5f",
           "arrowhead": 0,
           "arrowwidth": 1
          },
          "autotypenumbers": "strict",
          "coloraxis": {
           "colorbar": {
            "outlinewidth": 0,
            "ticks": ""
           }
          },
          "colorscale": {
           "diverging": [
            [
             0,
             "#8e0152"
            ],
            [
             0.1,
             "#c51b7d"
            ],
            [
             0.2,
             "#de77ae"
            ],
            [
             0.3,
             "#f1b6da"
            ],
            [
             0.4,
             "#fde0ef"
            ],
            [
             0.5,
             "#f7f7f7"
            ],
            [
             0.6,
             "#e6f5d0"
            ],
            [
             0.7,
             "#b8e186"
            ],
            [
             0.8,
             "#7fbc41"
            ],
            [
             0.9,
             "#4d9221"
            ],
            [
             1,
             "#276419"
            ]
           ],
           "sequential": [
            [
             0,
             "#0d0887"
            ],
            [
             0.1111111111111111,
             "#46039f"
            ],
            [
             0.2222222222222222,
             "#7201a8"
            ],
            [
             0.3333333333333333,
             "#9c179e"
            ],
            [
             0.4444444444444444,
             "#bd3786"
            ],
            [
             0.5555555555555556,
             "#d8576b"
            ],
            [
             0.6666666666666666,
             "#ed7953"
            ],
            [
             0.7777777777777778,
             "#fb9f3a"
            ],
            [
             0.8888888888888888,
             "#fdca26"
            ],
            [
             1,
             "#f0f921"
            ]
           ],
           "sequentialminus": [
            [
             0,
             "#0d0887"
            ],
            [
             0.1111111111111111,
             "#46039f"
            ],
            [
             0.2222222222222222,
             "#7201a8"
            ],
            [
             0.3333333333333333,
             "#9c179e"
            ],
            [
             0.4444444444444444,
             "#bd3786"
            ],
            [
             0.5555555555555556,
             "#d8576b"
            ],
            [
             0.6666666666666666,
             "#ed7953"
            ],
            [
             0.7777777777777778,
             "#fb9f3a"
            ],
            [
             0.8888888888888888,
             "#fdca26"
            ],
            [
             1,
             "#f0f921"
            ]
           ]
          },
          "colorway": [
           "#636efa",
           "#EF553B",
           "#00cc96",
           "#ab63fa",
           "#FFA15A",
           "#19d3f3",
           "#FF6692",
           "#B6E880",
           "#FF97FF",
           "#FECB52"
          ],
          "font": {
           "color": "#2a3f5f"
          },
          "geo": {
           "bgcolor": "white",
           "lakecolor": "white",
           "landcolor": "#E5ECF6",
           "showlakes": true,
           "showland": true,
           "subunitcolor": "white"
          },
          "hoverlabel": {
           "align": "left"
          },
          "hovermode": "closest",
          "mapbox": {
           "style": "light"
          },
          "paper_bgcolor": "white",
          "plot_bgcolor": "#E5ECF6",
          "polar": {
           "angularaxis": {
            "gridcolor": "white",
            "linecolor": "white",
            "ticks": ""
           },
           "bgcolor": "#E5ECF6",
           "radialaxis": {
            "gridcolor": "white",
            "linecolor": "white",
            "ticks": ""
           }
          },
          "scene": {
           "xaxis": {
            "backgroundcolor": "#E5ECF6",
            "gridcolor": "white",
            "gridwidth": 2,
            "linecolor": "white",
            "showbackground": true,
            "ticks": "",
            "zerolinecolor": "white"
           },
           "yaxis": {
            "backgroundcolor": "#E5ECF6",
            "gridcolor": "white",
            "gridwidth": 2,
            "linecolor": "white",
            "showbackground": true,
            "ticks": "",
            "zerolinecolor": "white"
           },
           "zaxis": {
            "backgroundcolor": "#E5ECF6",
            "gridcolor": "white",
            "gridwidth": 2,
            "linecolor": "white",
            "showbackground": true,
            "ticks": "",
            "zerolinecolor": "white"
           }
          },
          "shapedefaults": {
           "line": {
            "color": "#2a3f5f"
           }
          },
          "ternary": {
           "aaxis": {
            "gridcolor": "white",
            "linecolor": "white",
            "ticks": ""
           },
           "baxis": {
            "gridcolor": "white",
            "linecolor": "white",
            "ticks": ""
           },
           "bgcolor": "#E5ECF6",
           "caxis": {
            "gridcolor": "white",
            "linecolor": "white",
            "ticks": ""
           }
          },
          "title": {
           "x": 0.05
          },
          "xaxis": {
           "automargin": true,
           "gridcolor": "white",
           "linecolor": "white",
           "ticks": "",
           "title": {
            "standoff": 15
           },
           "zerolinecolor": "white",
           "zerolinewidth": 2
          },
          "yaxis": {
           "automargin": true,
           "gridcolor": "white",
           "linecolor": "white",
           "ticks": "",
           "title": {
            "standoff": 15
           },
           "zerolinecolor": "white",
           "zerolinewidth": 2
          }
         }
        },
        "title": {
         "text": "Hyperparameter Importances"
        },
        "xaxis": {
         "title": {
          "text": "Hyperparameter Importance"
         }
        },
        "yaxis": {
         "title": {
          "text": "Hyperparameter"
         }
        }
       }
      }
     },
     "metadata": {},
     "output_type": "display_data"
    }
   ],
   "source": [
    "optuna.visualization.plot_param_importances(study)"
   ]
  },
  {
   "cell_type": "code",
   "execution_count": 15,
   "metadata": {},
   "outputs": [
    {
     "data": {
      "application/vnd.plotly.v1+json": {
       "config": {
        "plotlyServerURL": "https://plot.ly"
       },
       "data": [
        {
         "marker": {
          "color": [
           0,
           1,
           2,
           3,
           4,
           5,
           6,
           7,
           8,
           9,
           10,
           11,
           12,
           13,
           14,
           15,
           16,
           17,
           18,
           19,
           20,
           21,
           22,
           23,
           24,
           25,
           26,
           27,
           28,
           29,
           30,
           31,
           32,
           33,
           34,
           35,
           36,
           37,
           38,
           39,
           40,
           41,
           42,
           43,
           44,
           45,
           46,
           47,
           48,
           49,
           50,
           51,
           52,
           53,
           54,
           55,
           56,
           57,
           58,
           59,
           60,
           61,
           62,
           63,
           64,
           65,
           66,
           67,
           68,
           69,
           70,
           71,
           72,
           73,
           74,
           75,
           76,
           77,
           78,
           79,
           80,
           81,
           82,
           83,
           84,
           85,
           86,
           87,
           88,
           89,
           90,
           91,
           92,
           93,
           94,
           95,
           96,
           97,
           98,
           99
          ],
          "colorbar": {
           "title": {
            "text": "Trial"
           },
           "x": 1,
           "xpad": 40
          },
          "colorscale": [
           [
            0,
            "rgb(247,251,255)"
           ],
           [
            0.125,
            "rgb(222,235,247)"
           ],
           [
            0.25,
            "rgb(198,219,239)"
           ],
           [
            0.375,
            "rgb(158,202,225)"
           ],
           [
            0.5,
            "rgb(107,174,214)"
           ],
           [
            0.625,
            "rgb(66,146,198)"
           ],
           [
            0.75,
            "rgb(33,113,181)"
           ],
           [
            0.875,
            "rgb(8,81,156)"
           ],
           [
            1,
            "rgb(8,48,107)"
           ]
          ],
          "line": {
           "color": "Grey",
           "width": 0.5
          },
          "showscale": true
         },
         "mode": "markers",
         "name": "Feasible Trial",
         "showlegend": false,
         "type": "scatter",
         "x": [
          0.0001168925830775831,
          1.5862732264009e-7,
          0.0294983659402125,
          1.8004605810625206e-8,
          1.966736635109503e-7,
          0.15436778026272793,
          0.00006774916714328416,
          0.00029945568648174695,
          2.2550400894638325e-8,
          0.43637020597390225,
          0.000004225530143110175,
          0.0000022417990545348056,
          0.0000031508331561472706,
          0.0000015020742696498002,
          2.936828193357146e-7,
          0.000019129325725991975,
          0.0010248533222387863,
          0.0037525621600546454,
          0.0035861836476110912,
          0.00991456246832587,
          0.0013219494997128859,
          0.0009834238382810515,
          0.0012632860775079046,
          0.0007480065283891278,
          0.03727285262659606,
          0.04592051276939075,
          0.7531381795401659,
          0.08930788251992626,
          0.011215475973044675,
          0.00004722672011717033,
          0.00005037423338125488,
          0.00018335876527311547,
          0.000014307202183652108,
          0.00010460108174787046,
          0.00021861080246878776,
          0.000013618265530749238,
          0.0002608633888451638,
          0.015812188035638004,
          0.004036478195386502,
          0.2788220717087012,
          0.00003743185585921966,
          0.0005468618558336958,
          0.00014648231713353292,
          0.0001445069338813833,
          0.00000822557932294542,
          0.00003953421004757676,
          0.0021393625652884798,
          0.0000011700197852942776,
          0.0003840104761752779,
          0.00009542619095229096,
          4.356918003928698e-8,
          0.0001820761715081349,
          0.000025505696891994352,
          0.00020467077616364302,
          0.0004099199462138444,
          0.000006347519974910691,
          0.0018757267296596717,
          0.00008983435375101617,
          0.03840781339264432,
          0.04099457720059939,
          0.04686609835087426,
          0.1575340422628275,
          0.02739910630819214,
          0.007003875890391899,
          0.006873709839485944,
          0.006328400579516723,
          0.005423815797720675,
          0.021199402018774096,
          0.0075965012402682275,
          0.011218260123310463,
          0.07304933235159237,
          0.041564451721492805,
          0.0939988106337023,
          0.13239405388615505,
          0.254058289653839,
          0.8823158018301944,
          0.006344909277996708,
          0.01640123377342479,
          0.0031018952111270775,
          0.06939181533015977,
          0.0015618613766770284,
          0.033281759689551514,
          0.012592198451196596,
          0.12168436892067812,
          0.0026859373087666804,
          0.3939870457128734,
          0.057935611061130966,
          0.022785235790625687,
          0.004830291391286053,
          0.0009448347740196259,
          0.0074169168151375095,
          0.0370344396950376,
          0.22604835131351128,
          0.08135380173111605,
          0.03791112861395549,
          0.019889562307923665,
          0.007660442596201885,
          0.09797600269382752,
          0.010086619860788995,
          0.18284899613398833
         ],
         "xaxis": "x",
         "y": [
          0.6633563884475184,
          0.6666861388914852,
          0.663613421815123,
          0.662994205065894,
          0.6714178895223852,
          0.6652140386952051,
          0.6667211888961585,
          0.6660435554724741,
          0.666031872137583,
          0.6632161884288251,
          0.6710557061407608,
          0.670763622768483,
          0.6730418730722497,
          0.6698756893167586,
          0.6691746892232919,
          0.6507500701000093,
          0.6685905224787363,
          0.6747242732965698,
          0.6703780727170764,
          0.6686372558183008,
          0.6752617067015609,
          0.6752850733713431,
          0.676430040190672,
          0.6717683895691187,
          0.6766052902140387,
          0.6729133563884475,
          0.6697471726329564,
          0.6718618562482475,
          0.6739414898588653,
          0.6761613234881765,
          0.6727264230301897,
          0.675472006729601,
          0.6747125899616787,
          0.6743504065800542,
          0.6737662398354987,
          0.6710557061407608,
          0.6697238059631742,
          0.6641625385550052,
          0.6739765398635387,
          0.6750280400037386,
          0.6664641555285541,
          0.6680530890737452,
          0.6755304234040564,
          0.6754603233947097,
          0.6657047387606319,
          0.6742686232358164,
          0.6667796055706141,
          0.6744906065987476,
          0.6686489391531919,
          0.6736143564819141,
          0.6665809888774652,
          0.675483690064492,
          0.6754486400598186,
          0.6745256566034209,
          0.6747943733059164,
          0.6749345733246098,
          0.6754019067202542,
          0.674116739882232,
          0.6767688569025142,
          0.6759510234601365,
          0.5997639966351995,
          0.6717800729040098,
          0.6671885222918029,
          0.6765585568744743,
          0.6763132068417609,
          0.6759977567997009,
          0.6751799233573231,
          0.663625105150014,
          0.6744906065987476,
          0.6702612393681653,
          0.662258154967754,
          0.6759393401252454,
          0.6763015235068698,
          0.6704364893915319,
          0.6746191232825498,
          0.6750397233386298,
          0.6701093560145808,
          0.6720721562762875,
          0.674116739882232,
          0.6681932890924386,
          0.6754486400598186,
          0.6755654734087297,
          0.675168240022432,
          0.6748294233105898,
          0.6757056734274232,
          0.6759159734554632,
          0.6731937564258342,
          0.6710440228058697,
          0.6663940555192074,
          0.6694550892606785,
          0.6724109729881297,
          0.6758108234414432,
          0.675577156743621,
          0.6744205065894009,
          0.6715113562015141,
          0.6745139732685298,
          0.6757407234320965,
          0.6737545565006076,
          0.6747359566314609,
          0.6747826899710253
         ],
         "yaxis": "y"
        },
        {
         "marker": {
          "color": [
           0,
           1,
           2,
           3,
           4,
           5,
           6,
           7,
           8,
           9,
           10,
           11,
           12,
           13,
           14,
           15,
           16,
           17,
           18,
           19,
           20,
           21,
           22,
           23,
           24,
           25,
           26,
           27,
           28,
           29,
           30,
           31,
           32,
           33,
           34,
           35,
           36,
           37,
           38,
           39,
           40,
           41,
           42,
           43,
           44,
           45,
           46,
           47,
           48,
           49,
           50,
           51,
           52,
           53,
           54,
           55,
           56,
           57,
           58,
           59,
           60,
           61,
           62,
           63,
           64,
           65,
           66,
           67,
           68,
           69,
           70,
           71,
           72,
           73,
           74,
           75,
           76,
           77,
           78,
           79,
           80,
           81,
           82,
           83,
           84,
           85,
           86,
           87,
           88,
           89,
           90,
           91,
           92,
           93,
           94,
           95,
           96,
           97,
           98,
           99
          ],
          "colorbar": {
           "title": {
            "text": "Trial"
           },
           "x": 1,
           "xpad": 40
          },
          "colorscale": [
           [
            0,
            "rgb(247,251,255)"
           ],
           [
            0.125,
            "rgb(222,235,247)"
           ],
           [
            0.25,
            "rgb(198,219,239)"
           ],
           [
            0.375,
            "rgb(158,202,225)"
           ],
           [
            0.5,
            "rgb(107,174,214)"
           ],
           [
            0.625,
            "rgb(66,146,198)"
           ],
           [
            0.75,
            "rgb(33,113,181)"
           ],
           [
            0.875,
            "rgb(8,81,156)"
           ],
           [
            1,
            "rgb(8,48,107)"
           ]
          ],
          "line": {
           "color": "Grey",
           "width": 0.5
          },
          "showscale": false
         },
         "mode": "markers",
         "name": "Feasible Trial",
         "showlegend": false,
         "type": "scatter",
         "x": [
          "dart",
          "gblinear",
          "gblinear",
          "gbtree",
          "gbtree",
          "gbtree",
          "gblinear",
          "gblinear",
          "gblinear",
          "dart",
          "gbtree",
          "gbtree",
          "gbtree",
          "gbtree",
          "gbtree",
          "gbtree",
          "gbtree",
          "dart",
          "dart",
          "dart",
          "dart",
          "dart",
          "dart",
          "dart",
          "dart",
          "dart",
          "dart",
          "dart",
          "dart",
          "dart",
          "dart",
          "dart",
          "dart",
          "dart",
          "dart",
          "dart",
          "dart",
          "gblinear",
          "dart",
          "dart",
          "gblinear",
          "dart",
          "dart",
          "dart",
          "dart",
          "dart",
          "gblinear",
          "dart",
          "dart",
          "dart",
          "gblinear",
          "dart",
          "dart",
          "dart",
          "dart",
          "dart",
          "dart",
          "gbtree",
          "dart",
          "dart",
          "dart",
          "dart",
          "dart",
          "dart",
          "dart",
          "dart",
          "gbtree",
          "dart",
          "dart",
          "dart",
          "gblinear",
          "dart",
          "dart",
          "dart",
          "dart",
          "dart",
          "dart",
          "dart",
          "gbtree",
          "dart",
          "dart",
          "dart",
          "dart",
          "dart",
          "dart",
          "dart",
          "dart",
          "dart",
          "gblinear",
          "dart",
          "dart",
          "dart",
          "dart",
          "dart",
          "dart",
          "dart",
          "dart",
          "dart",
          "gbtree",
          "dart"
         ],
         "xaxis": "x2",
         "y": [
          0.6633563884475184,
          0.6666861388914852,
          0.663613421815123,
          0.662994205065894,
          0.6714178895223852,
          0.6652140386952051,
          0.6667211888961585,
          0.6660435554724741,
          0.666031872137583,
          0.6632161884288251,
          0.6710557061407608,
          0.670763622768483,
          0.6730418730722497,
          0.6698756893167586,
          0.6691746892232919,
          0.6507500701000093,
          0.6685905224787363,
          0.6747242732965698,
          0.6703780727170764,
          0.6686372558183008,
          0.6752617067015609,
          0.6752850733713431,
          0.676430040190672,
          0.6717683895691187,
          0.6766052902140387,
          0.6729133563884475,
          0.6697471726329564,
          0.6718618562482475,
          0.6739414898588653,
          0.6761613234881765,
          0.6727264230301897,
          0.675472006729601,
          0.6747125899616787,
          0.6743504065800542,
          0.6737662398354987,
          0.6710557061407608,
          0.6697238059631742,
          0.6641625385550052,
          0.6739765398635387,
          0.6750280400037386,
          0.6664641555285541,
          0.6680530890737452,
          0.6755304234040564,
          0.6754603233947097,
          0.6657047387606319,
          0.6742686232358164,
          0.6667796055706141,
          0.6744906065987476,
          0.6686489391531919,
          0.6736143564819141,
          0.6665809888774652,
          0.675483690064492,
          0.6754486400598186,
          0.6745256566034209,
          0.6747943733059164,
          0.6749345733246098,
          0.6754019067202542,
          0.674116739882232,
          0.6767688569025142,
          0.6759510234601365,
          0.5997639966351995,
          0.6717800729040098,
          0.6671885222918029,
          0.6765585568744743,
          0.6763132068417609,
          0.6759977567997009,
          0.6751799233573231,
          0.663625105150014,
          0.6744906065987476,
          0.6702612393681653,
          0.662258154967754,
          0.6759393401252454,
          0.6763015235068698,
          0.6704364893915319,
          0.6746191232825498,
          0.6750397233386298,
          0.6701093560145808,
          0.6720721562762875,
          0.674116739882232,
          0.6681932890924386,
          0.6754486400598186,
          0.6755654734087297,
          0.675168240022432,
          0.6748294233105898,
          0.6757056734274232,
          0.6759159734554632,
          0.6731937564258342,
          0.6710440228058697,
          0.6663940555192074,
          0.6694550892606785,
          0.6724109729881297,
          0.6758108234414432,
          0.675577156743621,
          0.6744205065894009,
          0.6715113562015141,
          0.6745139732685298,
          0.6757407234320965,
          0.6737545565006076,
          0.6747359566314609,
          0.6747826899710253
         ],
         "yaxis": "y2"
        },
        {
         "marker": {
          "color": [
           0,
           1,
           2,
           3,
           4,
           5,
           6,
           7,
           8,
           9,
           10,
           11,
           12,
           13,
           14,
           15,
           16,
           17,
           18,
           19,
           20,
           21,
           22,
           23,
           24,
           25,
           26,
           27,
           28,
           29,
           30,
           31,
           32,
           33,
           34,
           35,
           36,
           37,
           38,
           39,
           40,
           41,
           42,
           43,
           44,
           45,
           46,
           47,
           48,
           49,
           50,
           51,
           52,
           53,
           54,
           55,
           56,
           57,
           58,
           59,
           60,
           61,
           62,
           63,
           64,
           65,
           66,
           67,
           68,
           69,
           70,
           71,
           72,
           73,
           74,
           75,
           76,
           77,
           78,
           79,
           80,
           81,
           82,
           83,
           84,
           85,
           86,
           87,
           88,
           89,
           90,
           91,
           92,
           93,
           94,
           95,
           96,
           97,
           98,
           99
          ],
          "colorbar": {
           "title": {
            "text": "Trial"
           },
           "x": 1,
           "xpad": 40
          },
          "colorscale": [
           [
            0,
            "rgb(247,251,255)"
           ],
           [
            0.125,
            "rgb(222,235,247)"
           ],
           [
            0.25,
            "rgb(198,219,239)"
           ],
           [
            0.375,
            "rgb(158,202,225)"
           ],
           [
            0.5,
            "rgb(107,174,214)"
           ],
           [
            0.625,
            "rgb(66,146,198)"
           ],
           [
            0.75,
            "rgb(33,113,181)"
           ],
           [
            0.875,
            "rgb(8,81,156)"
           ],
           [
            1,
            "rgb(8,48,107)"
           ]
          ],
          "line": {
           "color": "Grey",
           "width": 0.5
          },
          "showscale": false
         },
         "mode": "markers",
         "name": "Feasible Trial",
         "showlegend": false,
         "type": "scatter",
         "x": [
          0.9796199744029025,
          0.8076524386714253,
          0.704932710121283,
          0.8597243882425191,
          0.8840313611769367,
          0.8124840648327536,
          0.9562380379804445,
          0.9556560484303278,
          0.7214020221903426,
          0.8224138474325706,
          0.8913356563815714,
          0.8909512152700049,
          0.901241580299171,
          0.9173657521454895,
          0.9165127999664177,
          0.7607933543441275,
          0.8498790119337714,
          0.9975471356999009,
          0.987341608945962,
          0.9417752455380881,
          0.9883118859368383,
          0.999712119933567,
          0.9980257383312466,
          0.9681465433233493,
          0.9981039884320219,
          0.9412620648084744,
          0.9296754640766652,
          0.9973356865775304,
          0.9644473651552221,
          0.9834101664219149,
          0.9766880514435163,
          0.9989482637530289,
          0.9614965517775516,
          0.9760015864820218,
          0.944542412878409,
          0.9778048216106259,
          0.7787970726102776,
          0.9818290542546055,
          0.9218407126376029,
          0.9595272541371813,
          0.8595388184859416,
          0.9988272775351106,
          0.9987054855563651,
          0.9477546727272126,
          0.98327907207635,
          0.9688456348750855,
          0.9880410568543123,
          0.9329008094098207,
          0.9537223832458993,
          0.8406618339788792,
          0.8742217539169236,
          0.950564885565071,
          0.999975439213375,
          0.9703853321870939,
          0.9036776616808618,
          0.9899859309942187,
          0.9730920275646183,
          0.9539460122693664,
          0.9866470353145465,
          0.9869360939573779,
          0.986496076520559,
          0.9860629616194372,
          0.7097846259102535,
          0.9703148929027201,
          0.9654826841263096,
          0.9341334240575566,
          0.934221934701669,
          0.9672585143426904,
          0.9584469816443542,
          0.974577163303189,
          0.9415036958864158,
          0.9897102817296669,
          0.9772750838272264,
          0.9630589181614986,
          0.979284176501414,
          0.7947828812093347,
          0.9263810251026626,
          0.9780093875062399,
          0.9640053820613879,
          0.7452364850588842,
          0.9920916341816419,
          0.9820054844461967,
          0.9701337475861437,
          0.9109675203187777,
          0.9929723491687714,
          0.9804148310105162,
          0.9579677260394018,
          0.9921570056813139,
          0.9367692826397316,
          0.946192119254912,
          0.9764123327815962,
          0.9931613514084205,
          0.9848000829414655,
          0.9691427823674299,
          0.9912258333459336,
          0.9996251330393254,
          0.9514503765090105,
          0.9734803715079402,
          0.8311491743897532,
          0.9831877733720717
         ],
         "xaxis": "x3",
         "y": [
          0.6633563884475184,
          0.6666861388914852,
          0.663613421815123,
          0.662994205065894,
          0.6714178895223852,
          0.6652140386952051,
          0.6667211888961585,
          0.6660435554724741,
          0.666031872137583,
          0.6632161884288251,
          0.6710557061407608,
          0.670763622768483,
          0.6730418730722497,
          0.6698756893167586,
          0.6691746892232919,
          0.6507500701000093,
          0.6685905224787363,
          0.6747242732965698,
          0.6703780727170764,
          0.6686372558183008,
          0.6752617067015609,
          0.6752850733713431,
          0.676430040190672,
          0.6717683895691187,
          0.6766052902140387,
          0.6729133563884475,
          0.6697471726329564,
          0.6718618562482475,
          0.6739414898588653,
          0.6761613234881765,
          0.6727264230301897,
          0.675472006729601,
          0.6747125899616787,
          0.6743504065800542,
          0.6737662398354987,
          0.6710557061407608,
          0.6697238059631742,
          0.6641625385550052,
          0.6739765398635387,
          0.6750280400037386,
          0.6664641555285541,
          0.6680530890737452,
          0.6755304234040564,
          0.6754603233947097,
          0.6657047387606319,
          0.6742686232358164,
          0.6667796055706141,
          0.6744906065987476,
          0.6686489391531919,
          0.6736143564819141,
          0.6665809888774652,
          0.675483690064492,
          0.6754486400598186,
          0.6745256566034209,
          0.6747943733059164,
          0.6749345733246098,
          0.6754019067202542,
          0.674116739882232,
          0.6767688569025142,
          0.6759510234601365,
          0.5997639966351995,
          0.6717800729040098,
          0.6671885222918029,
          0.6765585568744743,
          0.6763132068417609,
          0.6759977567997009,
          0.6751799233573231,
          0.663625105150014,
          0.6744906065987476,
          0.6702612393681653,
          0.662258154967754,
          0.6759393401252454,
          0.6763015235068698,
          0.6704364893915319,
          0.6746191232825498,
          0.6750397233386298,
          0.6701093560145808,
          0.6720721562762875,
          0.674116739882232,
          0.6681932890924386,
          0.6754486400598186,
          0.6755654734087297,
          0.675168240022432,
          0.6748294233105898,
          0.6757056734274232,
          0.6759159734554632,
          0.6731937564258342,
          0.6710440228058697,
          0.6663940555192074,
          0.6694550892606785,
          0.6724109729881297,
          0.6758108234414432,
          0.675577156743621,
          0.6744205065894009,
          0.6715113562015141,
          0.6745139732685298,
          0.6757407234320965,
          0.6737545565006076,
          0.6747359566314609,
          0.6747826899710253
         ],
         "yaxis": "y3"
        },
        {
         "marker": {
          "color": [
           0,
           1,
           2,
           3,
           4,
           5,
           6,
           7,
           8,
           9,
           10,
           11,
           12,
           13,
           14,
           15,
           16,
           17,
           18,
           19,
           20,
           21,
           22,
           23,
           24,
           25,
           26,
           27,
           28,
           29,
           30,
           31,
           32,
           33,
           34,
           35,
           36,
           37,
           38,
           39,
           40,
           41,
           42,
           43,
           44,
           45,
           46,
           47,
           48,
           49,
           50,
           51,
           52,
           53,
           54,
           55,
           56,
           57,
           58,
           59,
           60,
           61,
           62,
           63,
           64,
           65,
           66,
           67,
           68,
           69,
           70,
           71,
           72,
           73,
           74,
           75,
           76,
           77,
           78,
           79,
           80,
           81,
           82,
           83,
           84,
           85,
           86,
           87,
           88,
           89,
           90,
           91,
           92,
           93,
           94,
           95,
           96,
           97,
           98,
           99
          ],
          "colorbar": {
           "title": {
            "text": "Trial"
           },
           "x": 1,
           "xpad": 40
          },
          "colorscale": [
           [
            0,
            "rgb(247,251,255)"
           ],
           [
            0.125,
            "rgb(222,235,247)"
           ],
           [
            0.25,
            "rgb(198,219,239)"
           ],
           [
            0.375,
            "rgb(158,202,225)"
           ],
           [
            0.5,
            "rgb(107,174,214)"
           ],
           [
            0.625,
            "rgb(66,146,198)"
           ],
           [
            0.75,
            "rgb(33,113,181)"
           ],
           [
            0.875,
            "rgb(8,81,156)"
           ],
           [
            1,
            "rgb(8,48,107)"
           ]
          ],
          "line": {
           "color": "Grey",
           "width": 0.5
          },
          "showscale": false
         },
         "mode": "markers",
         "name": "Feasible Trial",
         "showlegend": false,
         "type": "scatter",
         "x": [
          0.00005689654697855204,
          4.15227464207405e-8,
          0.00002125928821891356,
          0.024783989237193674,
          0.037004627361004544,
          0.0000019956795294789526,
          1.977520075060993e-7,
          3.0396741477917156e-7,
          0.0007907764356774963,
          0.0000047329084796187245,
          0.37360336439039227,
          0.9198028355655324,
          0.8207882034459048,
          0.0037399010202307298,
          0.051965743550318855,
          0.05195582368222698,
          0.0010727798999478424,
          0.26721166445051553,
          0.7967564238815501,
          0.003917672965981669,
          0.20521871651482085,
          0.1623179961151869,
          0.14644284322528997,
          0.006493162913119863,
          0.1429235719852968,
          0.0002579639660581265,
          0.08013718783677333,
          0.014054354032805616,
          0.1785881437681206,
          0.00008556049581121591,
          0.0000409040098884051,
          0.00027512851602536146,
          0.00027317178813519665,
          0.00010578950582850571,
          1.3663396771046824e-8,
          0.000020262641080881364,
          0.000007376274625453287,
          0.0009654805715716702,
          8.896246748788068e-7,
          0.014798594555744131,
          0.00016146018602741492,
          0.10009158815311343,
          0.02351692191343303,
          0.0020897413702678706,
          0.012691757501543595,
          0.027373785341549703,
          0.000018108400674847437,
          0.4986787640663317,
          0.00006561116019243571,
          0.0004012249269691258,
          0.000007720641121634413,
          0.0032991573705640435,
          0.0018897882794330495,
          0.007063806869888212,
          0.02614421866483538,
          0.0004840703718653355,
          0.07637983611870353,
          0.005342346150637507,
          0.0018109587959834871,
          0.0017382252270679653,
          0.3807744500902495,
          0.0017391238946264016,
          0.03822796172330453,
          0.0035134121178550474,
          0.010799138956330383,
          0.0006995009500322167,
          0.0008068287113509113,
          0.007072790611525654,
          0.0005172274454489622,
          0.00013221760162013277,
          0.010896858480571937,
          0.0012806185100327453,
          0.0000440032147756811,
          0.00004955089464256079,
          0.00003547974683794435,
          0.003347192386144228,
          0.00018460433939822317,
          0.11835620412219898,
          0.000012483427098484467,
          0.043704476075904976,
          0.00009662839402111143,
          0.0025590714357236204,
          0.000570130579604259,
          0.0012241110020675648,
          0.0003086861657712432,
          0.00006839329603705058,
          0.005226951182369154,
          0.00003043680779978007,
          0.2527273388864556,
          0.019710305173869676,
          0.009272748153616452,
          0.0012336060945618177,
          0.0016349263449412315,
          0.0007883628737546935,
          0.0637527799883608,
          0.00022573836033243014,
          1.0443109104431407e-7,
          0.0000018579340368685724,
          0.540140050873591,
          0.004195110521569447
         ],
         "xaxis": "x4",
         "y": [
          0.6633563884475184,
          0.6666861388914852,
          0.663613421815123,
          0.662994205065894,
          0.6714178895223852,
          0.6652140386952051,
          0.6667211888961585,
          0.6660435554724741,
          0.666031872137583,
          0.6632161884288251,
          0.6710557061407608,
          0.670763622768483,
          0.6730418730722497,
          0.6698756893167586,
          0.6691746892232919,
          0.6507500701000093,
          0.6685905224787363,
          0.6747242732965698,
          0.6703780727170764,
          0.6686372558183008,
          0.6752617067015609,
          0.6752850733713431,
          0.676430040190672,
          0.6717683895691187,
          0.6766052902140387,
          0.6729133563884475,
          0.6697471726329564,
          0.6718618562482475,
          0.6739414898588653,
          0.6761613234881765,
          0.6727264230301897,
          0.675472006729601,
          0.6747125899616787,
          0.6743504065800542,
          0.6737662398354987,
          0.6710557061407608,
          0.6697238059631742,
          0.6641625385550052,
          0.6739765398635387,
          0.6750280400037386,
          0.6664641555285541,
          0.6680530890737452,
          0.6755304234040564,
          0.6754603233947097,
          0.6657047387606319,
          0.6742686232358164,
          0.6667796055706141,
          0.6744906065987476,
          0.6686489391531919,
          0.6736143564819141,
          0.6665809888774652,
          0.675483690064492,
          0.6754486400598186,
          0.6745256566034209,
          0.6747943733059164,
          0.6749345733246098,
          0.6754019067202542,
          0.674116739882232,
          0.6767688569025142,
          0.6759510234601365,
          0.5997639966351995,
          0.6717800729040098,
          0.6671885222918029,
          0.6765585568744743,
          0.6763132068417609,
          0.6759977567997009,
          0.6751799233573231,
          0.663625105150014,
          0.6744906065987476,
          0.6702612393681653,
          0.662258154967754,
          0.6759393401252454,
          0.6763015235068698,
          0.6704364893915319,
          0.6746191232825498,
          0.6750397233386298,
          0.6701093560145808,
          0.6720721562762875,
          0.674116739882232,
          0.6681932890924386,
          0.6754486400598186,
          0.6755654734087297,
          0.675168240022432,
          0.6748294233105898,
          0.6757056734274232,
          0.6759159734554632,
          0.6731937564258342,
          0.6710440228058697,
          0.6663940555192074,
          0.6694550892606785,
          0.6724109729881297,
          0.6758108234414432,
          0.675577156743621,
          0.6744205065894009,
          0.6715113562015141,
          0.6745139732685298,
          0.6757407234320965,
          0.6737545565006076,
          0.6747359566314609,
          0.6747826899710253
         ],
         "yaxis": "y4"
        },
        {
         "marker": {
          "color": [
           0,
           1,
           2,
           3,
           4,
           5,
           6,
           7,
           8,
           9,
           10,
           11,
           12,
           13,
           14,
           15,
           16,
           17,
           18,
           19,
           20,
           21,
           22,
           23,
           24,
           25,
           26,
           27,
           28,
           29,
           30,
           31,
           32,
           33,
           34,
           35,
           36,
           37,
           38,
           39,
           40,
           41,
           42,
           43,
           44,
           45,
           46,
           47,
           48,
           49,
           50,
           51,
           52,
           53,
           54,
           55,
           56,
           57,
           58,
           59,
           60,
           61,
           62,
           63,
           64,
           65,
           66,
           67,
           68,
           69,
           70,
           71,
           72,
           73,
           74,
           75,
           76,
           77,
           78,
           79,
           80,
           81,
           82,
           83,
           84,
           85,
           86,
           87,
           88,
           89,
           90,
           91,
           92,
           93,
           94,
           95,
           96,
           97,
           98,
           99
          ],
          "colorbar": {
           "title": {
            "text": "Trial"
           },
           "x": 1,
           "xpad": 40
          },
          "colorscale": [
           [
            0,
            "rgb(247,251,255)"
           ],
           [
            0.125,
            "rgb(222,235,247)"
           ],
           [
            0.25,
            "rgb(198,219,239)"
           ],
           [
            0.375,
            "rgb(158,202,225)"
           ],
           [
            0.5,
            "rgb(107,174,214)"
           ],
           [
            0.625,
            "rgb(66,146,198)"
           ],
           [
            0.75,
            "rgb(33,113,181)"
           ],
           [
            0.875,
            "rgb(8,81,156)"
           ],
           [
            1,
            "rgb(8,48,107)"
           ]
          ],
          "line": {
           "color": "Grey",
           "width": 0.5
          },
          "showscale": false
         },
         "mode": "markers",
         "name": "Feasible Trial",
         "showlegend": false,
         "type": "scatter",
         "x": [
          0.42233188323332604,
          0.7968380142861375,
          0.7447231292825192,
          0.7020582710019037,
          0.6234954100959912,
          0.5317702636134951,
          0.6632632249744506,
          0.20081353214057165,
          0.8517493744718854,
          0.9994425040249602,
          0.4065580410942218,
          0.3609808355582751,
          0.5210475296677453,
          0.5391856342225751,
          0.5799743561934764,
          0.2597689169377491,
          0.4818569420909526,
          0.6612985344812718,
          0.8936269253442058,
          0.3313686533702781,
          0.5017668990776787,
          0.47065920593571375,
          0.6107468803410578,
          0.4581003002393575,
          0.5931442044220562,
          0.5966020216607384,
          0.7207812965546987,
          0.5805261110861536,
          0.35665355411428157,
          0.41019634872030153,
          0.41241467572701884,
          0.4426988471610659,
          0.2818704186882241,
          0.4345295022491002,
          0.7799963025079449,
          0.6451972697824822,
          0.5633944383249481,
          0.39675682201359797,
          0.3066381717852217,
          0.6990149869449372,
          0.6190325382535844,
          0.47003981699201175,
          0.5436699314980806,
          0.5391043665159776,
          0.38152511511924203,
          0.4399559398973776,
          0.5104990752947366,
          0.6271302864623561,
          0.558502192194654,
          0.22359095317446925,
          0.6771417448195676,
          0.5181186655386172,
          0.4958747287961514,
          0.5361018274875046,
          0.602625691701264,
          0.4300842189535951,
          0.5675595794224435,
          0.36027921713647837,
          0.6467111165571134,
          0.7348614073446689,
          0.7326102188557135,
          0.765346423858674,
          0.8058326258001771,
          0.6869297997533851,
          0.680058992686807,
          0.8324236038796635,
          0.9182372421202751,
          0.8226629153202618,
          0.7045025443718222,
          0.8848299879097401,
          0.6741056899037278,
          0.6482544466375023,
          0.8390129617875168,
          0.7728428745493389,
          0.9313757062067178,
          0.9733581639445534,
          0.841489466047193,
          0.8584555400949518,
          0.7498787615629553,
          0.6250180064167911,
          0.6899062619953078,
          0.7130041263966262,
          0.7434257106481391,
          0.6671457237717449,
          0.8020108200795164,
          0.5976083720688822,
          0.7887507792422354,
          0.652108261642612,
          0.8680914396952361,
          0.8186778316754464,
          0.7238023743175891,
          0.653930030370881,
          0.628886811344224,
          0.5815289317999182,
          0.6834862792863202,
          0.6384478900639233,
          0.6118963515597176,
          0.7508737366080354,
          0.6965172998706547,
          0.8338464260425023
         ],
         "xaxis": "x5",
         "y": [
          0.6633563884475184,
          0.6666861388914852,
          0.663613421815123,
          0.662994205065894,
          0.6714178895223852,
          0.6652140386952051,
          0.6667211888961585,
          0.6660435554724741,
          0.666031872137583,
          0.6632161884288251,
          0.6710557061407608,
          0.670763622768483,
          0.6730418730722497,
          0.6698756893167586,
          0.6691746892232919,
          0.6507500701000093,
          0.6685905224787363,
          0.6747242732965698,
          0.6703780727170764,
          0.6686372558183008,
          0.6752617067015609,
          0.6752850733713431,
          0.676430040190672,
          0.6717683895691187,
          0.6766052902140387,
          0.6729133563884475,
          0.6697471726329564,
          0.6718618562482475,
          0.6739414898588653,
          0.6761613234881765,
          0.6727264230301897,
          0.675472006729601,
          0.6747125899616787,
          0.6743504065800542,
          0.6737662398354987,
          0.6710557061407608,
          0.6697238059631742,
          0.6641625385550052,
          0.6739765398635387,
          0.6750280400037386,
          0.6664641555285541,
          0.6680530890737452,
          0.6755304234040564,
          0.6754603233947097,
          0.6657047387606319,
          0.6742686232358164,
          0.6667796055706141,
          0.6744906065987476,
          0.6686489391531919,
          0.6736143564819141,
          0.6665809888774652,
          0.675483690064492,
          0.6754486400598186,
          0.6745256566034209,
          0.6747943733059164,
          0.6749345733246098,
          0.6754019067202542,
          0.674116739882232,
          0.6767688569025142,
          0.6759510234601365,
          0.5997639966351995,
          0.6717800729040098,
          0.6671885222918029,
          0.6765585568744743,
          0.6763132068417609,
          0.6759977567997009,
          0.6751799233573231,
          0.663625105150014,
          0.6744906065987476,
          0.6702612393681653,
          0.662258154967754,
          0.6759393401252454,
          0.6763015235068698,
          0.6704364893915319,
          0.6746191232825498,
          0.6750397233386298,
          0.6701093560145808,
          0.6720721562762875,
          0.674116739882232,
          0.6681932890924386,
          0.6754486400598186,
          0.6755654734087297,
          0.675168240022432,
          0.6748294233105898,
          0.6757056734274232,
          0.6759159734554632,
          0.6731937564258342,
          0.6710440228058697,
          0.6663940555192074,
          0.6694550892606785,
          0.6724109729881297,
          0.6758108234414432,
          0.675577156743621,
          0.6744205065894009,
          0.6715113562015141,
          0.6745139732685298,
          0.6757407234320965,
          0.6737545565006076,
          0.6747359566314609,
          0.6747826899710253
         ],
         "yaxis": "y5"
        }
       ],
       "layout": {
        "template": {
         "data": {
          "bar": [
           {
            "error_x": {
             "color": "#2a3f5f"
            },
            "error_y": {
             "color": "#2a3f5f"
            },
            "marker": {
             "line": {
              "color": "#E5ECF6",
              "width": 0.5
             },
             "pattern": {
              "fillmode": "overlay",
              "size": 10,
              "solidity": 0.2
             }
            },
            "type": "bar"
           }
          ],
          "barpolar": [
           {
            "marker": {
             "line": {
              "color": "#E5ECF6",
              "width": 0.5
             },
             "pattern": {
              "fillmode": "overlay",
              "size": 10,
              "solidity": 0.2
             }
            },
            "type": "barpolar"
           }
          ],
          "carpet": [
           {
            "aaxis": {
             "endlinecolor": "#2a3f5f",
             "gridcolor": "white",
             "linecolor": "white",
             "minorgridcolor": "white",
             "startlinecolor": "#2a3f5f"
            },
            "baxis": {
             "endlinecolor": "#2a3f5f",
             "gridcolor": "white",
             "linecolor": "white",
             "minorgridcolor": "white",
             "startlinecolor": "#2a3f5f"
            },
            "type": "carpet"
           }
          ],
          "choropleth": [
           {
            "colorbar": {
             "outlinewidth": 0,
             "ticks": ""
            },
            "type": "choropleth"
           }
          ],
          "contour": [
           {
            "colorbar": {
             "outlinewidth": 0,
             "ticks": ""
            },
            "colorscale": [
             [
              0,
              "#0d0887"
             ],
             [
              0.1111111111111111,
              "#46039f"
             ],
             [
              0.2222222222222222,
              "#7201a8"
             ],
             [
              0.3333333333333333,
              "#9c179e"
             ],
             [
              0.4444444444444444,
              "#bd3786"
             ],
             [
              0.5555555555555556,
              "#d8576b"
             ],
             [
              0.6666666666666666,
              "#ed7953"
             ],
             [
              0.7777777777777778,
              "#fb9f3a"
             ],
             [
              0.8888888888888888,
              "#fdca26"
             ],
             [
              1,
              "#f0f921"
             ]
            ],
            "type": "contour"
           }
          ],
          "contourcarpet": [
           {
            "colorbar": {
             "outlinewidth": 0,
             "ticks": ""
            },
            "type": "contourcarpet"
           }
          ],
          "heatmap": [
           {
            "colorbar": {
             "outlinewidth": 0,
             "ticks": ""
            },
            "colorscale": [
             [
              0,
              "#0d0887"
             ],
             [
              0.1111111111111111,
              "#46039f"
             ],
             [
              0.2222222222222222,
              "#7201a8"
             ],
             [
              0.3333333333333333,
              "#9c179e"
             ],
             [
              0.4444444444444444,
              "#bd3786"
             ],
             [
              0.5555555555555556,
              "#d8576b"
             ],
             [
              0.6666666666666666,
              "#ed7953"
             ],
             [
              0.7777777777777778,
              "#fb9f3a"
             ],
             [
              0.8888888888888888,
              "#fdca26"
             ],
             [
              1,
              "#f0f921"
             ]
            ],
            "type": "heatmap"
           }
          ],
          "heatmapgl": [
           {
            "colorbar": {
             "outlinewidth": 0,
             "ticks": ""
            },
            "colorscale": [
             [
              0,
              "#0d0887"
             ],
             [
              0.1111111111111111,
              "#46039f"
             ],
             [
              0.2222222222222222,
              "#7201a8"
             ],
             [
              0.3333333333333333,
              "#9c179e"
             ],
             [
              0.4444444444444444,
              "#bd3786"
             ],
             [
              0.5555555555555556,
              "#d8576b"
             ],
             [
              0.6666666666666666,
              "#ed7953"
             ],
             [
              0.7777777777777778,
              "#fb9f3a"
             ],
             [
              0.8888888888888888,
              "#fdca26"
             ],
             [
              1,
              "#f0f921"
             ]
            ],
            "type": "heatmapgl"
           }
          ],
          "histogram": [
           {
            "marker": {
             "pattern": {
              "fillmode": "overlay",
              "size": 10,
              "solidity": 0.2
             }
            },
            "type": "histogram"
           }
          ],
          "histogram2d": [
           {
            "colorbar": {
             "outlinewidth": 0,
             "ticks": ""
            },
            "colorscale": [
             [
              0,
              "#0d0887"
             ],
             [
              0.1111111111111111,
              "#46039f"
             ],
             [
              0.2222222222222222,
              "#7201a8"
             ],
             [
              0.3333333333333333,
              "#9c179e"
             ],
             [
              0.4444444444444444,
              "#bd3786"
             ],
             [
              0.5555555555555556,
              "#d8576b"
             ],
             [
              0.6666666666666666,
              "#ed7953"
             ],
             [
              0.7777777777777778,
              "#fb9f3a"
             ],
             [
              0.8888888888888888,
              "#fdca26"
             ],
             [
              1,
              "#f0f921"
             ]
            ],
            "type": "histogram2d"
           }
          ],
          "histogram2dcontour": [
           {
            "colorbar": {
             "outlinewidth": 0,
             "ticks": ""
            },
            "colorscale": [
             [
              0,
              "#0d0887"
             ],
             [
              0.1111111111111111,
              "#46039f"
             ],
             [
              0.2222222222222222,
              "#7201a8"
             ],
             [
              0.3333333333333333,
              "#9c179e"
             ],
             [
              0.4444444444444444,
              "#bd3786"
             ],
             [
              0.5555555555555556,
              "#d8576b"
             ],
             [
              0.6666666666666666,
              "#ed7953"
             ],
             [
              0.7777777777777778,
              "#fb9f3a"
             ],
             [
              0.8888888888888888,
              "#fdca26"
             ],
             [
              1,
              "#f0f921"
             ]
            ],
            "type": "histogram2dcontour"
           }
          ],
          "mesh3d": [
           {
            "colorbar": {
             "outlinewidth": 0,
             "ticks": ""
            },
            "type": "mesh3d"
           }
          ],
          "parcoords": [
           {
            "line": {
             "colorbar": {
              "outlinewidth": 0,
              "ticks": ""
             }
            },
            "type": "parcoords"
           }
          ],
          "pie": [
           {
            "automargin": true,
            "type": "pie"
           }
          ],
          "scatter": [
           {
            "fillpattern": {
             "fillmode": "overlay",
             "size": 10,
             "solidity": 0.2
            },
            "type": "scatter"
           }
          ],
          "scatter3d": [
           {
            "line": {
             "colorbar": {
              "outlinewidth": 0,
              "ticks": ""
             }
            },
            "marker": {
             "colorbar": {
              "outlinewidth": 0,
              "ticks": ""
             }
            },
            "type": "scatter3d"
           }
          ],
          "scattercarpet": [
           {
            "marker": {
             "colorbar": {
              "outlinewidth": 0,
              "ticks": ""
             }
            },
            "type": "scattercarpet"
           }
          ],
          "scattergeo": [
           {
            "marker": {
             "colorbar": {
              "outlinewidth": 0,
              "ticks": ""
             }
            },
            "type": "scattergeo"
           }
          ],
          "scattergl": [
           {
            "marker": {
             "colorbar": {
              "outlinewidth": 0,
              "ticks": ""
             }
            },
            "type": "scattergl"
           }
          ],
          "scattermapbox": [
           {
            "marker": {
             "colorbar": {
              "outlinewidth": 0,
              "ticks": ""
             }
            },
            "type": "scattermapbox"
           }
          ],
          "scatterpolar": [
           {
            "marker": {
             "colorbar": {
              "outlinewidth": 0,
              "ticks": ""
             }
            },
            "type": "scatterpolar"
           }
          ],
          "scatterpolargl": [
           {
            "marker": {
             "colorbar": {
              "outlinewidth": 0,
              "ticks": ""
             }
            },
            "type": "scatterpolargl"
           }
          ],
          "scatterternary": [
           {
            "marker": {
             "colorbar": {
              "outlinewidth": 0,
              "ticks": ""
             }
            },
            "type": "scatterternary"
           }
          ],
          "surface": [
           {
            "colorbar": {
             "outlinewidth": 0,
             "ticks": ""
            },
            "colorscale": [
             [
              0,
              "#0d0887"
             ],
             [
              0.1111111111111111,
              "#46039f"
             ],
             [
              0.2222222222222222,
              "#7201a8"
             ],
             [
              0.3333333333333333,
              "#9c179e"
             ],
             [
              0.4444444444444444,
              "#bd3786"
             ],
             [
              0.5555555555555556,
              "#d8576b"
             ],
             [
              0.6666666666666666,
              "#ed7953"
             ],
             [
              0.7777777777777778,
              "#fb9f3a"
             ],
             [
              0.8888888888888888,
              "#fdca26"
             ],
             [
              1,
              "#f0f921"
             ]
            ],
            "type": "surface"
           }
          ],
          "table": [
           {
            "cells": {
             "fill": {
              "color": "#EBF0F8"
             },
             "line": {
              "color": "white"
             }
            },
            "header": {
             "fill": {
              "color": "#C8D4E3"
             },
             "line": {
              "color": "white"
             }
            },
            "type": "table"
           }
          ]
         },
         "layout": {
          "annotationdefaults": {
           "arrowcolor": "#2a3f5f",
           "arrowhead": 0,
           "arrowwidth": 1
          },
          "autotypenumbers": "strict",
          "coloraxis": {
           "colorbar": {
            "outlinewidth": 0,
            "ticks": ""
           }
          },
          "colorscale": {
           "diverging": [
            [
             0,
             "#8e0152"
            ],
            [
             0.1,
             "#c51b7d"
            ],
            [
             0.2,
             "#de77ae"
            ],
            [
             0.3,
             "#f1b6da"
            ],
            [
             0.4,
             "#fde0ef"
            ],
            [
             0.5,
             "#f7f7f7"
            ],
            [
             0.6,
             "#e6f5d0"
            ],
            [
             0.7,
             "#b8e186"
            ],
            [
             0.8,
             "#7fbc41"
            ],
            [
             0.9,
             "#4d9221"
            ],
            [
             1,
             "#276419"
            ]
           ],
           "sequential": [
            [
             0,
             "#0d0887"
            ],
            [
             0.1111111111111111,
             "#46039f"
            ],
            [
             0.2222222222222222,
             "#7201a8"
            ],
            [
             0.3333333333333333,
             "#9c179e"
            ],
            [
             0.4444444444444444,
             "#bd3786"
            ],
            [
             0.5555555555555556,
             "#d8576b"
            ],
            [
             0.6666666666666666,
             "#ed7953"
            ],
            [
             0.7777777777777778,
             "#fb9f3a"
            ],
            [
             0.8888888888888888,
             "#fdca26"
            ],
            [
             1,
             "#f0f921"
            ]
           ],
           "sequentialminus": [
            [
             0,
             "#0d0887"
            ],
            [
             0.1111111111111111,
             "#46039f"
            ],
            [
             0.2222222222222222,
             "#7201a8"
            ],
            [
             0.3333333333333333,
             "#9c179e"
            ],
            [
             0.4444444444444444,
             "#bd3786"
            ],
            [
             0.5555555555555556,
             "#d8576b"
            ],
            [
             0.6666666666666666,
             "#ed7953"
            ],
            [
             0.7777777777777778,
             "#fb9f3a"
            ],
            [
             0.8888888888888888,
             "#fdca26"
            ],
            [
             1,
             "#f0f921"
            ]
           ]
          },
          "colorway": [
           "#636efa",
           "#EF553B",
           "#00cc96",
           "#ab63fa",
           "#FFA15A",
           "#19d3f3",
           "#FF6692",
           "#B6E880",
           "#FF97FF",
           "#FECB52"
          ],
          "font": {
           "color": "#2a3f5f"
          },
          "geo": {
           "bgcolor": "white",
           "lakecolor": "white",
           "landcolor": "#E5ECF6",
           "showlakes": true,
           "showland": true,
           "subunitcolor": "white"
          },
          "hoverlabel": {
           "align": "left"
          },
          "hovermode": "closest",
          "mapbox": {
           "style": "light"
          },
          "paper_bgcolor": "white",
          "plot_bgcolor": "#E5ECF6",
          "polar": {
           "angularaxis": {
            "gridcolor": "white",
            "linecolor": "white",
            "ticks": ""
           },
           "bgcolor": "#E5ECF6",
           "radialaxis": {
            "gridcolor": "white",
            "linecolor": "white",
            "ticks": ""
           }
          },
          "scene": {
           "xaxis": {
            "backgroundcolor": "#E5ECF6",
            "gridcolor": "white",
            "gridwidth": 2,
            "linecolor": "white",
            "showbackground": true,
            "ticks": "",
            "zerolinecolor": "white"
           },
           "yaxis": {
            "backgroundcolor": "#E5ECF6",
            "gridcolor": "white",
            "gridwidth": 2,
            "linecolor": "white",
            "showbackground": true,
            "ticks": "",
            "zerolinecolor": "white"
           },
           "zaxis": {
            "backgroundcolor": "#E5ECF6",
            "gridcolor": "white",
            "gridwidth": 2,
            "linecolor": "white",
            "showbackground": true,
            "ticks": "",
            "zerolinecolor": "white"
           }
          },
          "shapedefaults": {
           "line": {
            "color": "#2a3f5f"
           }
          },
          "ternary": {
           "aaxis": {
            "gridcolor": "white",
            "linecolor": "white",
            "ticks": ""
           },
           "baxis": {
            "gridcolor": "white",
            "linecolor": "white",
            "ticks": ""
           },
           "bgcolor": "#E5ECF6",
           "caxis": {
            "gridcolor": "white",
            "linecolor": "white",
            "ticks": ""
           }
          },
          "title": {
           "x": 0.05
          },
          "xaxis": {
           "automargin": true,
           "gridcolor": "white",
           "linecolor": "white",
           "ticks": "",
           "title": {
            "standoff": 15
           },
           "zerolinecolor": "white",
           "zerolinewidth": 2
          },
          "yaxis": {
           "automargin": true,
           "gridcolor": "white",
           "linecolor": "white",
           "ticks": "",
           "title": {
            "standoff": 15
           },
           "zerolinecolor": "white",
           "zerolinewidth": 2
          }
         }
        },
        "title": {
         "text": "Slice Plot"
        },
        "width": 1500,
        "xaxis": {
         "anchor": "y",
         "domain": [
          0,
          0.16799999999999998
         ],
         "title": {
          "text": "alpha"
         },
         "type": "log"
        },
        "xaxis2": {
         "anchor": "y2",
         "categoryarray": [
          "gbtree",
          "gblinear",
          "dart"
         ],
         "categoryorder": "array",
         "domain": [
          0.208,
          0.376
         ],
         "title": {
          "text": "booster"
         },
         "type": "category"
        },
        "xaxis3": {
         "anchor": "y3",
         "domain": [
          0.416,
          0.584
         ],
         "title": {
          "text": "colsample_bytree"
         }
        },
        "xaxis4": {
         "anchor": "y4",
         "domain": [
          0.624,
          0.792
         ],
         "title": {
          "text": "lambda"
         },
         "type": "log"
        },
        "xaxis5": {
         "anchor": "y5",
         "domain": [
          0.832,
          1
         ],
         "title": {
          "text": "subsample"
         }
        },
        "yaxis": {
         "anchor": "x",
         "domain": [
          0,
          1
         ],
         "title": {
          "text": "Objective Value"
         }
        },
        "yaxis2": {
         "anchor": "x2",
         "domain": [
          0,
          1
         ],
         "matches": "y",
         "showticklabels": false
        },
        "yaxis3": {
         "anchor": "x3",
         "domain": [
          0,
          1
         ],
         "matches": "y",
         "showticklabels": false
        },
        "yaxis4": {
         "anchor": "x4",
         "domain": [
          0,
          1
         ],
         "matches": "y",
         "showticklabels": false
        },
        "yaxis5": {
         "anchor": "x5",
         "domain": [
          0,
          1
         ],
         "matches": "y",
         "showticklabels": false
        }
       }
      }
     },
     "metadata": {},
     "output_type": "display_data"
    }
   ],
   "source": [
    "optuna.visualization.plot_slice(study, params = ['subsample',\n",
    "'lambda',\n",
    "'colsample_bytree',\n",
    "'alpha',\n",
    "'booster'])"
   ]
  },
  {
   "cell_type": "code",
   "execution_count": 16,
   "metadata": {},
   "outputs": [],
   "source": [
    "params = {\n",
    "    \"booster\": \"dart\",\n",
    "    \"lambda\": 1.0097915738299128e-06,\n",
    "    \"alpha\": 2.3445234888982956e-08,\n",
    "    \"subsample\": 0.7152405139734603,\n",
    "    \"colsample_bytree\": 0.8437252255677583,\n",
    "    \"max_depth\": 9,\n",
    "    \"min_child_weight\": 9,\n",
    "    \"eta\": 0.2357930936747691,\n",
    "    \"gamma\": 0.13557767476363425,\n",
    "    \"grow_policy\": \"lossguide\",\n",
    "    \"sample_type\": \"uniform\",\n",
    "    \"normalize_type\": \"tree\",\n",
    "    \"rate_drop\": 1.2065021262266629e-08,\n",
    "    \"skip_drop\": 3.1483383573651435e-05\n",
    "}\n",
    "model_xgb = xgb.train(params, train)"
   ]
  },
  {
   "cell_type": "code",
   "execution_count": 17,
   "metadata": {},
   "outputs": [
    {
     "data": {
      "text/plain": [
       "Model(tag=\"nba_shot_prediction:3qfarcmkaw5sxdax\", path=\"C:\\Users\\Sarah\\bentoml\\models\\nba_shot_prediction\\3qfarcmkaw5sxdax\\\")"
      ]
     },
     "execution_count": 17,
     "metadata": {},
     "output_type": "execute_result"
    }
   ],
   "source": [
    "# save model\n",
    "import bentoml\n",
    "bentoml.xgboost.save_model(\"nba_shot_prediction\", model_xgb)"
   ]
  },
  {
   "cell_type": "markdown",
   "metadata": {},
   "source": [
    "## Random Forest"
   ]
  },
  {
   "cell_type": "code",
   "execution_count": 18,
   "metadata": {},
   "outputs": [
    {
     "name": "stderr",
     "output_type": "stream",
     "text": [
      "[I 2024-10-14 10:25:30,027] A new study created in memory with name: no-name-b39e2d5f-3880-441e-9f1d-4ff3c73a57c6\n",
      "[I 2024-10-14 10:28:31,667] Trial 0 finished with value: 0.6772946069726142 and parameters: {'n_estimators': 476, 'max_depth': 20, 'min_samples_split': 24, 'min_samples_leaf': 18, 'max_features': 'sqrt', 'criterion': 'entropy'}. Best is trial 0 with value: 0.6772946069726142.\n",
      "[I 2024-10-14 10:29:42,696] Trial 1 finished with value: 0.6759393401252454 and parameters: {'n_estimators': 225, 'max_depth': 12, 'min_samples_split': 11, 'min_samples_leaf': 4, 'max_features': 'log2', 'criterion': 'entropy'}. Best is trial 0 with value: 0.6772946069726142.\n",
      "[I 2024-10-14 10:31:27,064] Trial 2 finished with value: 0.6771544069539209 and parameters: {'n_estimators': 291, 'max_depth': 16, 'min_samples_split': 23, 'min_samples_leaf': 29, 'max_features': 'sqrt', 'criterion': 'gini'}. Best is trial 0 with value: 0.6772946069726142.\n",
      "[I 2024-10-14 10:32:27,896] Trial 3 finished with value: 0.6635316384708851 and parameters: {'n_estimators': 417, 'max_depth': 3, 'min_samples_split': 11, 'min_samples_leaf': 5, 'max_features': 'sqrt', 'criterion': 'log_loss'}. Best is trial 0 with value: 0.6772946069726142.\n",
      "[I 2024-10-14 10:35:14,342] Trial 4 finished with value: 0.6770492569399009 and parameters: {'n_estimators': 451, 'max_depth': 17, 'min_samples_split': 16, 'min_samples_leaf': 31, 'max_features': 'log2', 'criterion': 'log_loss'}. Best is trial 0 with value: 0.6772946069726142.\n",
      "[I 2024-10-14 10:37:25,398] Trial 5 finished with value: 0.6773997569866342 and parameters: {'n_estimators': 320, 'max_depth': 18, 'min_samples_split': 4, 'min_samples_leaf': 30, 'max_features': 'log2', 'criterion': 'entropy'}. Best is trial 5 with value: 0.6773997569866342.\n",
      "[I 2024-10-14 10:39:48,703] Trial 6 finished with value: 0.6778086737078232 and parameters: {'n_estimators': 353, 'max_depth': 19, 'min_samples_split': 22, 'min_samples_leaf': 25, 'max_features': 'sqrt', 'criterion': 'entropy'}. Best is trial 6 with value: 0.6778086737078232.\n",
      "[I 2024-10-14 10:40:31,098] Trial 7 finished with value: 0.6643845219179363 and parameters: {'n_estimators': 215, 'max_depth': 4, 'min_samples_split': 20, 'min_samples_leaf': 14, 'max_features': 'log2', 'criterion': 'log_loss'}. Best is trial 6 with value: 0.6778086737078232.\n",
      "[I 2024-10-14 10:41:20,083] Trial 8 finished with value: 0.6753434900457986 and parameters: {'n_estimators': 143, 'max_depth': 11, 'min_samples_split': 17, 'min_samples_leaf': 8, 'max_features': 'sqrt', 'criterion': 'entropy'}. Best is trial 6 with value: 0.6778086737078232.\n",
      "[I 2024-10-14 10:44:08,779] Trial 9 finished with value: 0.6763599401813254 and parameters: {'n_estimators': 397, 'max_depth': 25, 'min_samples_split': 31, 'min_samples_leaf': 16, 'max_features': 'sqrt', 'criterion': 'entropy'}. Best is trial 6 with value: 0.6778086737078232.\n",
      "[I 2024-10-14 10:46:16,022] Trial 10 finished with value: 0.6770959902794653 and parameters: {'n_estimators': 347, 'max_depth': 32, 'min_samples_split': 32, 'min_samples_leaf': 23, 'max_features': 'sqrt', 'criterion': 'gini'}. Best is trial 6 with value: 0.6778086737078232.\n",
      "[I 2024-10-14 10:48:33,935] Trial 11 finished with value: 0.6769441069258809 and parameters: {'n_estimators': 320, 'max_depth': 25, 'min_samples_split': 2, 'min_samples_leaf': 25, 'max_features': 'log2', 'criterion': 'entropy'}. Best is trial 6 with value: 0.6778086737078232.\n",
      "[I 2024-10-14 10:50:19,670] Trial 12 finished with value: 0.6770492569399009 and parameters: {'n_estimators': 265, 'max_depth': 23, 'min_samples_split': 3, 'min_samples_leaf': 25, 'max_features': 'log2', 'criterion': 'entropy'}. Best is trial 6 with value: 0.6778086737078232.\n",
      "[I 2024-10-14 10:52:30,012] Trial 13 finished with value: 0.6757524067669876 and parameters: {'n_estimators': 378, 'max_depth': 12, 'min_samples_split': 8, 'min_samples_leaf': 32, 'max_features': 'log2', 'criterion': 'entropy'}. Best is trial 6 with value: 0.6778086737078232.\n",
      "[I 2024-10-14 10:54:58,397] Trial 14 finished with value: 0.6768039069071876 and parameters: {'n_estimators': 350, 'max_depth': 32, 'min_samples_split': 27, 'min_samples_leaf': 20, 'max_features': 'sqrt', 'criterion': 'entropy'}. Best is trial 6 with value: 0.6778086737078232.\n",
      "[I 2024-10-14 10:55:49,410] Trial 15 finished with value: 0.6772595569679409 and parameters: {'n_estimators': 131, 'max_depth': 20, 'min_samples_split': 14, 'min_samples_leaf': 28, 'max_features': 'log2', 'criterion': 'gini'}. Best is trial 6 with value: 0.6778086737078232.\n",
      "[I 2024-10-14 10:56:57,862] Trial 16 finished with value: 0.666557622207683 and parameters: {'n_estimators': 273, 'max_depth': 7, 'min_samples_split': 8, 'min_samples_leaf': 12, 'max_features': 'sqrt', 'criterion': 'entropy'}. Best is trial 6 with value: 0.6778086737078232.\n",
      "[I 2024-10-14 11:00:08,572] Trial 17 finished with value: 0.6770843069445742 and parameters: {'n_estimators': 500, 'max_depth': 27, 'min_samples_split': 21, 'min_samples_leaf': 21, 'max_features': 'log2', 'criterion': 'entropy'}. Best is trial 6 with value: 0.6778086737078232.\n",
      "[I 2024-10-14 11:01:24,420] Trial 18 finished with value: 0.6768155902420787 and parameters: {'n_estimators': 215, 'max_depth': 16, 'min_samples_split': 27, 'min_samples_leaf': 27, 'max_features': 'sqrt', 'criterion': 'log_loss'}. Best is trial 6 with value: 0.6778086737078232.\n",
      "[I 2024-10-14 11:04:15,513] Trial 19 finished with value: 0.6769908402654453 and parameters: {'n_estimators': 431, 'max_depth': 20, 'min_samples_split': 5, 'min_samples_leaf': 23, 'max_features': 'log2', 'criterion': 'gini'}. Best is trial 6 with value: 0.6778086737078232.\n"
     ]
    },
    {
     "name": "stdout",
     "output_type": "stream",
     "text": [
      "Number of finished trials:  20\n",
      "Best trial:\n",
      "  Value: 0.6778086737078232\n",
      "  Params: \n",
      "    n_estimators: 353\n",
      "    max_depth: 19\n",
      "    min_samples_split: 22\n",
      "    min_samples_leaf: 25\n",
      "    max_features: sqrt\n",
      "    criterion: entropy\n"
     ]
    }
   ],
   "source": [
    "from sklearn.ensemble import RandomForestClassifier\n",
    "from optuna.samplers import TPESampler\n",
    "\n",
    "\n",
    "def objective_rf(trial):\n",
    "    n_estimators = trial.suggest_int('n_estimators', 100, 500)\n",
    "    max_depth = trial.suggest_int('max_depth', 2, 32)\n",
    "    min_samples_split = trial.suggest_int('min_samples_split', 2, 32)\n",
    "    min_samples_leaf = trial.suggest_int('min_samples_leaf', 1, 32)\n",
    "    max_features = trial.suggest_categorical('max_features', ['sqrt', 'log2'])\n",
    "    criterion = trial.suggest_categorical('criterion', [\"gini\", \"entropy\", \"log_loss\"])\n",
    "\n",
    "    model = RandomForestClassifier(\n",
    "        n_estimators=n_estimators,\n",
    "        max_depth=max_depth,\n",
    "        min_samples_split=min_samples_split,\n",
    "        min_samples_leaf=min_samples_leaf,\n",
    "        max_features=max_features,\n",
    "        criterion=criterion\n",
    "    )\n",
    "\n",
    "    model.fit(X_train_resampled, y_train_resampled)\n",
    "    y_pred = model.predict(X_test_scaled)\n",
    "    \n",
    "    accuracy = accuracy_score(y_test, y_pred)\n",
    "    return accuracy\n",
    "\n",
    "# callback to stop the trial early \n",
    "pruning_callback = optuna.pruners.MedianPruner()\n",
    "\n",
    "# Create a study object and optimize the objective function.\n",
    "study = optuna.create_study(direction='maximize', pruner=[pruning_callback], sampler=TPESampler())\n",
    "study.optimize(objective_rf, n_trials=20)\n",
    "\n",
    "print(\"Number of finished trials: \", len(study.trials))\n",
    "print(\"Best trial:\")\n",
    "trial = study.best_trial\n",
    "\n",
    "print(\"  Value: {}\".format(trial.value))\n",
    "print(\"  Params: \")\n",
    "for key, value in trial.params.items():\n",
    "    print(\"    {}: {}\".format(key, value))"
   ]
  },
  {
   "cell_type": "code",
   "execution_count": 19,
   "metadata": {},
   "outputs": [
    {
     "data": {
      "application/vnd.plotly.v1+json": {
       "config": {
        "plotlyServerURL": "https://plot.ly"
       },
       "data": [
        {
         "mode": "markers",
         "name": "Objective Value",
         "type": "scatter",
         "x": [
          0,
          1,
          2,
          3,
          4,
          5,
          6,
          7,
          8,
          9,
          10,
          11,
          12,
          13,
          14,
          15,
          16,
          17,
          18,
          19
         ],
         "y": [
          0.6772946069726142,
          0.6759393401252454,
          0.6771544069539209,
          0.6635316384708851,
          0.6770492569399009,
          0.6773997569866342,
          0.6778086737078232,
          0.6643845219179363,
          0.6753434900457986,
          0.6763599401813254,
          0.6770959902794653,
          0.6769441069258809,
          0.6770492569399009,
          0.6757524067669876,
          0.6768039069071876,
          0.6772595569679409,
          0.666557622207683,
          0.6770843069445742,
          0.6768155902420787,
          0.6769908402654453
         ]
        },
        {
         "mode": "lines",
         "name": "Best Value",
         "type": "scatter",
         "x": [
          0,
          1,
          2,
          3,
          4,
          5,
          6,
          7,
          8,
          9,
          10,
          11,
          12,
          13,
          14,
          15,
          16,
          17,
          18,
          19
         ],
         "y": [
          0.6772946069726142,
          0.6772946069726142,
          0.6772946069726142,
          0.6772946069726142,
          0.6772946069726142,
          0.6773997569866342,
          0.6778086737078232,
          0.6778086737078232,
          0.6778086737078232,
          0.6778086737078232,
          0.6778086737078232,
          0.6778086737078232,
          0.6778086737078232,
          0.6778086737078232,
          0.6778086737078232,
          0.6778086737078232,
          0.6778086737078232,
          0.6778086737078232,
          0.6778086737078232,
          0.6778086737078232
         ]
        },
        {
         "marker": {
          "color": "#cccccc"
         },
         "mode": "markers",
         "name": "Infeasible Trial",
         "showlegend": false,
         "type": "scatter",
         "x": [],
         "y": []
        }
       ],
       "layout": {
        "template": {
         "data": {
          "bar": [
           {
            "error_x": {
             "color": "#2a3f5f"
            },
            "error_y": {
             "color": "#2a3f5f"
            },
            "marker": {
             "line": {
              "color": "#E5ECF6",
              "width": 0.5
             },
             "pattern": {
              "fillmode": "overlay",
              "size": 10,
              "solidity": 0.2
             }
            },
            "type": "bar"
           }
          ],
          "barpolar": [
           {
            "marker": {
             "line": {
              "color": "#E5ECF6",
              "width": 0.5
             },
             "pattern": {
              "fillmode": "overlay",
              "size": 10,
              "solidity": 0.2
             }
            },
            "type": "barpolar"
           }
          ],
          "carpet": [
           {
            "aaxis": {
             "endlinecolor": "#2a3f5f",
             "gridcolor": "white",
             "linecolor": "white",
             "minorgridcolor": "white",
             "startlinecolor": "#2a3f5f"
            },
            "baxis": {
             "endlinecolor": "#2a3f5f",
             "gridcolor": "white",
             "linecolor": "white",
             "minorgridcolor": "white",
             "startlinecolor": "#2a3f5f"
            },
            "type": "carpet"
           }
          ],
          "choropleth": [
           {
            "colorbar": {
             "outlinewidth": 0,
             "ticks": ""
            },
            "type": "choropleth"
           }
          ],
          "contour": [
           {
            "colorbar": {
             "outlinewidth": 0,
             "ticks": ""
            },
            "colorscale": [
             [
              0,
              "#0d0887"
             ],
             [
              0.1111111111111111,
              "#46039f"
             ],
             [
              0.2222222222222222,
              "#7201a8"
             ],
             [
              0.3333333333333333,
              "#9c179e"
             ],
             [
              0.4444444444444444,
              "#bd3786"
             ],
             [
              0.5555555555555556,
              "#d8576b"
             ],
             [
              0.6666666666666666,
              "#ed7953"
             ],
             [
              0.7777777777777778,
              "#fb9f3a"
             ],
             [
              0.8888888888888888,
              "#fdca26"
             ],
             [
              1,
              "#f0f921"
             ]
            ],
            "type": "contour"
           }
          ],
          "contourcarpet": [
           {
            "colorbar": {
             "outlinewidth": 0,
             "ticks": ""
            },
            "type": "contourcarpet"
           }
          ],
          "heatmap": [
           {
            "colorbar": {
             "outlinewidth": 0,
             "ticks": ""
            },
            "colorscale": [
             [
              0,
              "#0d0887"
             ],
             [
              0.1111111111111111,
              "#46039f"
             ],
             [
              0.2222222222222222,
              "#7201a8"
             ],
             [
              0.3333333333333333,
              "#9c179e"
             ],
             [
              0.4444444444444444,
              "#bd3786"
             ],
             [
              0.5555555555555556,
              "#d8576b"
             ],
             [
              0.6666666666666666,
              "#ed7953"
             ],
             [
              0.7777777777777778,
              "#fb9f3a"
             ],
             [
              0.8888888888888888,
              "#fdca26"
             ],
             [
              1,
              "#f0f921"
             ]
            ],
            "type": "heatmap"
           }
          ],
          "heatmapgl": [
           {
            "colorbar": {
             "outlinewidth": 0,
             "ticks": ""
            },
            "colorscale": [
             [
              0,
              "#0d0887"
             ],
             [
              0.1111111111111111,
              "#46039f"
             ],
             [
              0.2222222222222222,
              "#7201a8"
             ],
             [
              0.3333333333333333,
              "#9c179e"
             ],
             [
              0.4444444444444444,
              "#bd3786"
             ],
             [
              0.5555555555555556,
              "#d8576b"
             ],
             [
              0.6666666666666666,
              "#ed7953"
             ],
             [
              0.7777777777777778,
              "#fb9f3a"
             ],
             [
              0.8888888888888888,
              "#fdca26"
             ],
             [
              1,
              "#f0f921"
             ]
            ],
            "type": "heatmapgl"
           }
          ],
          "histogram": [
           {
            "marker": {
             "pattern": {
              "fillmode": "overlay",
              "size": 10,
              "solidity": 0.2
             }
            },
            "type": "histogram"
           }
          ],
          "histogram2d": [
           {
            "colorbar": {
             "outlinewidth": 0,
             "ticks": ""
            },
            "colorscale": [
             [
              0,
              "#0d0887"
             ],
             [
              0.1111111111111111,
              "#46039f"
             ],
             [
              0.2222222222222222,
              "#7201a8"
             ],
             [
              0.3333333333333333,
              "#9c179e"
             ],
             [
              0.4444444444444444,
              "#bd3786"
             ],
             [
              0.5555555555555556,
              "#d8576b"
             ],
             [
              0.6666666666666666,
              "#ed7953"
             ],
             [
              0.7777777777777778,
              "#fb9f3a"
             ],
             [
              0.8888888888888888,
              "#fdca26"
             ],
             [
              1,
              "#f0f921"
             ]
            ],
            "type": "histogram2d"
           }
          ],
          "histogram2dcontour": [
           {
            "colorbar": {
             "outlinewidth": 0,
             "ticks": ""
            },
            "colorscale": [
             [
              0,
              "#0d0887"
             ],
             [
              0.1111111111111111,
              "#46039f"
             ],
             [
              0.2222222222222222,
              "#7201a8"
             ],
             [
              0.3333333333333333,
              "#9c179e"
             ],
             [
              0.4444444444444444,
              "#bd3786"
             ],
             [
              0.5555555555555556,
              "#d8576b"
             ],
             [
              0.6666666666666666,
              "#ed7953"
             ],
             [
              0.7777777777777778,
              "#fb9f3a"
             ],
             [
              0.8888888888888888,
              "#fdca26"
             ],
             [
              1,
              "#f0f921"
             ]
            ],
            "type": "histogram2dcontour"
           }
          ],
          "mesh3d": [
           {
            "colorbar": {
             "outlinewidth": 0,
             "ticks": ""
            },
            "type": "mesh3d"
           }
          ],
          "parcoords": [
           {
            "line": {
             "colorbar": {
              "outlinewidth": 0,
              "ticks": ""
             }
            },
            "type": "parcoords"
           }
          ],
          "pie": [
           {
            "automargin": true,
            "type": "pie"
           }
          ],
          "scatter": [
           {
            "fillpattern": {
             "fillmode": "overlay",
             "size": 10,
             "solidity": 0.2
            },
            "type": "scatter"
           }
          ],
          "scatter3d": [
           {
            "line": {
             "colorbar": {
              "outlinewidth": 0,
              "ticks": ""
             }
            },
            "marker": {
             "colorbar": {
              "outlinewidth": 0,
              "ticks": ""
             }
            },
            "type": "scatter3d"
           }
          ],
          "scattercarpet": [
           {
            "marker": {
             "colorbar": {
              "outlinewidth": 0,
              "ticks": ""
             }
            },
            "type": "scattercarpet"
           }
          ],
          "scattergeo": [
           {
            "marker": {
             "colorbar": {
              "outlinewidth": 0,
              "ticks": ""
             }
            },
            "type": "scattergeo"
           }
          ],
          "scattergl": [
           {
            "marker": {
             "colorbar": {
              "outlinewidth": 0,
              "ticks": ""
             }
            },
            "type": "scattergl"
           }
          ],
          "scattermapbox": [
           {
            "marker": {
             "colorbar": {
              "outlinewidth": 0,
              "ticks": ""
             }
            },
            "type": "scattermapbox"
           }
          ],
          "scatterpolar": [
           {
            "marker": {
             "colorbar": {
              "outlinewidth": 0,
              "ticks": ""
             }
            },
            "type": "scatterpolar"
           }
          ],
          "scatterpolargl": [
           {
            "marker": {
             "colorbar": {
              "outlinewidth": 0,
              "ticks": ""
             }
            },
            "type": "scatterpolargl"
           }
          ],
          "scatterternary": [
           {
            "marker": {
             "colorbar": {
              "outlinewidth": 0,
              "ticks": ""
             }
            },
            "type": "scatterternary"
           }
          ],
          "surface": [
           {
            "colorbar": {
             "outlinewidth": 0,
             "ticks": ""
            },
            "colorscale": [
             [
              0,
              "#0d0887"
             ],
             [
              0.1111111111111111,
              "#46039f"
             ],
             [
              0.2222222222222222,
              "#7201a8"
             ],
             [
              0.3333333333333333,
              "#9c179e"
             ],
             [
              0.4444444444444444,
              "#bd3786"
             ],
             [
              0.5555555555555556,
              "#d8576b"
             ],
             [
              0.6666666666666666,
              "#ed7953"
             ],
             [
              0.7777777777777778,
              "#fb9f3a"
             ],
             [
              0.8888888888888888,
              "#fdca26"
             ],
             [
              1,
              "#f0f921"
             ]
            ],
            "type": "surface"
           }
          ],
          "table": [
           {
            "cells": {
             "fill": {
              "color": "#EBF0F8"
             },
             "line": {
              "color": "white"
             }
            },
            "header": {
             "fill": {
              "color": "#C8D4E3"
             },
             "line": {
              "color": "white"
             }
            },
            "type": "table"
           }
          ]
         },
         "layout": {
          "annotationdefaults": {
           "arrowcolor": "#2a3f5f",
           "arrowhead": 0,
           "arrowwidth": 1
          },
          "autotypenumbers": "strict",
          "coloraxis": {
           "colorbar": {
            "outlinewidth": 0,
            "ticks": ""
           }
          },
          "colorscale": {
           "diverging": [
            [
             0,
             "#8e0152"
            ],
            [
             0.1,
             "#c51b7d"
            ],
            [
             0.2,
             "#de77ae"
            ],
            [
             0.3,
             "#f1b6da"
            ],
            [
             0.4,
             "#fde0ef"
            ],
            [
             0.5,
             "#f7f7f7"
            ],
            [
             0.6,
             "#e6f5d0"
            ],
            [
             0.7,
             "#b8e186"
            ],
            [
             0.8,
             "#7fbc41"
            ],
            [
             0.9,
             "#4d9221"
            ],
            [
             1,
             "#276419"
            ]
           ],
           "sequential": [
            [
             0,
             "#0d0887"
            ],
            [
             0.1111111111111111,
             "#46039f"
            ],
            [
             0.2222222222222222,
             "#7201a8"
            ],
            [
             0.3333333333333333,
             "#9c179e"
            ],
            [
             0.4444444444444444,
             "#bd3786"
            ],
            [
             0.5555555555555556,
             "#d8576b"
            ],
            [
             0.6666666666666666,
             "#ed7953"
            ],
            [
             0.7777777777777778,
             "#fb9f3a"
            ],
            [
             0.8888888888888888,
             "#fdca26"
            ],
            [
             1,
             "#f0f921"
            ]
           ],
           "sequentialminus": [
            [
             0,
             "#0d0887"
            ],
            [
             0.1111111111111111,
             "#46039f"
            ],
            [
             0.2222222222222222,
             "#7201a8"
            ],
            [
             0.3333333333333333,
             "#9c179e"
            ],
            [
             0.4444444444444444,
             "#bd3786"
            ],
            [
             0.5555555555555556,
             "#d8576b"
            ],
            [
             0.6666666666666666,
             "#ed7953"
            ],
            [
             0.7777777777777778,
             "#fb9f3a"
            ],
            [
             0.8888888888888888,
             "#fdca26"
            ],
            [
             1,
             "#f0f921"
            ]
           ]
          },
          "colorway": [
           "#636efa",
           "#EF553B",
           "#00cc96",
           "#ab63fa",
           "#FFA15A",
           "#19d3f3",
           "#FF6692",
           "#B6E880",
           "#FF97FF",
           "#FECB52"
          ],
          "font": {
           "color": "#2a3f5f"
          },
          "geo": {
           "bgcolor": "white",
           "lakecolor": "white",
           "landcolor": "#E5ECF6",
           "showlakes": true,
           "showland": true,
           "subunitcolor": "white"
          },
          "hoverlabel": {
           "align": "left"
          },
          "hovermode": "closest",
          "mapbox": {
           "style": "light"
          },
          "paper_bgcolor": "white",
          "plot_bgcolor": "#E5ECF6",
          "polar": {
           "angularaxis": {
            "gridcolor": "white",
            "linecolor": "white",
            "ticks": ""
           },
           "bgcolor": "#E5ECF6",
           "radialaxis": {
            "gridcolor": "white",
            "linecolor": "white",
            "ticks": ""
           }
          },
          "scene": {
           "xaxis": {
            "backgroundcolor": "#E5ECF6",
            "gridcolor": "white",
            "gridwidth": 2,
            "linecolor": "white",
            "showbackground": true,
            "ticks": "",
            "zerolinecolor": "white"
           },
           "yaxis": {
            "backgroundcolor": "#E5ECF6",
            "gridcolor": "white",
            "gridwidth": 2,
            "linecolor": "white",
            "showbackground": true,
            "ticks": "",
            "zerolinecolor": "white"
           },
           "zaxis": {
            "backgroundcolor": "#E5ECF6",
            "gridcolor": "white",
            "gridwidth": 2,
            "linecolor": "white",
            "showbackground": true,
            "ticks": "",
            "zerolinecolor": "white"
           }
          },
          "shapedefaults": {
           "line": {
            "color": "#2a3f5f"
           }
          },
          "ternary": {
           "aaxis": {
            "gridcolor": "white",
            "linecolor": "white",
            "ticks": ""
           },
           "baxis": {
            "gridcolor": "white",
            "linecolor": "white",
            "ticks": ""
           },
           "bgcolor": "#E5ECF6",
           "caxis": {
            "gridcolor": "white",
            "linecolor": "white",
            "ticks": ""
           }
          },
          "title": {
           "x": 0.05
          },
          "xaxis": {
           "automargin": true,
           "gridcolor": "white",
           "linecolor": "white",
           "ticks": "",
           "title": {
            "standoff": 15
           },
           "zerolinecolor": "white",
           "zerolinewidth": 2
          },
          "yaxis": {
           "automargin": true,
           "gridcolor": "white",
           "linecolor": "white",
           "ticks": "",
           "title": {
            "standoff": 15
           },
           "zerolinecolor": "white",
           "zerolinewidth": 2
          }
         }
        },
        "title": {
         "text": "Optimization History Plot"
        },
        "xaxis": {
         "title": {
          "text": "Trial"
         }
        },
        "yaxis": {
         "title": {
          "text": "Objective Value"
         }
        }
       }
      }
     },
     "metadata": {},
     "output_type": "display_data"
    }
   ],
   "source": [
    "plot_optimization_history(study)"
   ]
  },
  {
   "cell_type": "code",
   "execution_count": 20,
   "metadata": {},
   "outputs": [
    {
     "data": {
      "application/vnd.plotly.v1+json": {
       "config": {
        "plotlyServerURL": "https://plot.ly"
       },
       "data": [
        {
         "cliponaxis": false,
         "hovertemplate": [
          "max_features (CategoricalDistribution): 0.00027130076658537014<extra></extra>",
          "n_estimators (IntDistribution): 0.0015916089362806023<extra></extra>",
          "min_samples_split (IntDistribution): 0.0020993527930374435<extra></extra>",
          "criterion (CategoricalDistribution): 0.016958865275151624<extra></extra>",
          "min_samples_leaf (IntDistribution): 0.08989978396201184<extra></extra>",
          "max_depth (IntDistribution): 0.8891790882669331<extra></extra>"
         ],
         "name": "Objective Value",
         "orientation": "h",
         "text": [
          "<0.01",
          "<0.01",
          "<0.01",
          "0.02",
          "0.09",
          "0.89"
         ],
         "textposition": "outside",
         "type": "bar",
         "x": [
          0.00027130076658537014,
          0.0015916089362806023,
          0.0020993527930374435,
          0.016958865275151624,
          0.08989978396201184,
          0.8891790882669331
         ],
         "y": [
          "max_features",
          "n_estimators",
          "min_samples_split",
          "criterion",
          "min_samples_leaf",
          "max_depth"
         ]
        }
       ],
       "layout": {
        "template": {
         "data": {
          "bar": [
           {
            "error_x": {
             "color": "#2a3f5f"
            },
            "error_y": {
             "color": "#2a3f5f"
            },
            "marker": {
             "line": {
              "color": "#E5ECF6",
              "width": 0.5
             },
             "pattern": {
              "fillmode": "overlay",
              "size": 10,
              "solidity": 0.2
             }
            },
            "type": "bar"
           }
          ],
          "barpolar": [
           {
            "marker": {
             "line": {
              "color": "#E5ECF6",
              "width": 0.5
             },
             "pattern": {
              "fillmode": "overlay",
              "size": 10,
              "solidity": 0.2
             }
            },
            "type": "barpolar"
           }
          ],
          "carpet": [
           {
            "aaxis": {
             "endlinecolor": "#2a3f5f",
             "gridcolor": "white",
             "linecolor": "white",
             "minorgridcolor": "white",
             "startlinecolor": "#2a3f5f"
            },
            "baxis": {
             "endlinecolor": "#2a3f5f",
             "gridcolor": "white",
             "linecolor": "white",
             "minorgridcolor": "white",
             "startlinecolor": "#2a3f5f"
            },
            "type": "carpet"
           }
          ],
          "choropleth": [
           {
            "colorbar": {
             "outlinewidth": 0,
             "ticks": ""
            },
            "type": "choropleth"
           }
          ],
          "contour": [
           {
            "colorbar": {
             "outlinewidth": 0,
             "ticks": ""
            },
            "colorscale": [
             [
              0,
              "#0d0887"
             ],
             [
              0.1111111111111111,
              "#46039f"
             ],
             [
              0.2222222222222222,
              "#7201a8"
             ],
             [
              0.3333333333333333,
              "#9c179e"
             ],
             [
              0.4444444444444444,
              "#bd3786"
             ],
             [
              0.5555555555555556,
              "#d8576b"
             ],
             [
              0.6666666666666666,
              "#ed7953"
             ],
             [
              0.7777777777777778,
              "#fb9f3a"
             ],
             [
              0.8888888888888888,
              "#fdca26"
             ],
             [
              1,
              "#f0f921"
             ]
            ],
            "type": "contour"
           }
          ],
          "contourcarpet": [
           {
            "colorbar": {
             "outlinewidth": 0,
             "ticks": ""
            },
            "type": "contourcarpet"
           }
          ],
          "heatmap": [
           {
            "colorbar": {
             "outlinewidth": 0,
             "ticks": ""
            },
            "colorscale": [
             [
              0,
              "#0d0887"
             ],
             [
              0.1111111111111111,
              "#46039f"
             ],
             [
              0.2222222222222222,
              "#7201a8"
             ],
             [
              0.3333333333333333,
              "#9c179e"
             ],
             [
              0.4444444444444444,
              "#bd3786"
             ],
             [
              0.5555555555555556,
              "#d8576b"
             ],
             [
              0.6666666666666666,
              "#ed7953"
             ],
             [
              0.7777777777777778,
              "#fb9f3a"
             ],
             [
              0.8888888888888888,
              "#fdca26"
             ],
             [
              1,
              "#f0f921"
             ]
            ],
            "type": "heatmap"
           }
          ],
          "heatmapgl": [
           {
            "colorbar": {
             "outlinewidth": 0,
             "ticks": ""
            },
            "colorscale": [
             [
              0,
              "#0d0887"
             ],
             [
              0.1111111111111111,
              "#46039f"
             ],
             [
              0.2222222222222222,
              "#7201a8"
             ],
             [
              0.3333333333333333,
              "#9c179e"
             ],
             [
              0.4444444444444444,
              "#bd3786"
             ],
             [
              0.5555555555555556,
              "#d8576b"
             ],
             [
              0.6666666666666666,
              "#ed7953"
             ],
             [
              0.7777777777777778,
              "#fb9f3a"
             ],
             [
              0.8888888888888888,
              "#fdca26"
             ],
             [
              1,
              "#f0f921"
             ]
            ],
            "type": "heatmapgl"
           }
          ],
          "histogram": [
           {
            "marker": {
             "pattern": {
              "fillmode": "overlay",
              "size": 10,
              "solidity": 0.2
             }
            },
            "type": "histogram"
           }
          ],
          "histogram2d": [
           {
            "colorbar": {
             "outlinewidth": 0,
             "ticks": ""
            },
            "colorscale": [
             [
              0,
              "#0d0887"
             ],
             [
              0.1111111111111111,
              "#46039f"
             ],
             [
              0.2222222222222222,
              "#7201a8"
             ],
             [
              0.3333333333333333,
              "#9c179e"
             ],
             [
              0.4444444444444444,
              "#bd3786"
             ],
             [
              0.5555555555555556,
              "#d8576b"
             ],
             [
              0.6666666666666666,
              "#ed7953"
             ],
             [
              0.7777777777777778,
              "#fb9f3a"
             ],
             [
              0.8888888888888888,
              "#fdca26"
             ],
             [
              1,
              "#f0f921"
             ]
            ],
            "type": "histogram2d"
           }
          ],
          "histogram2dcontour": [
           {
            "colorbar": {
             "outlinewidth": 0,
             "ticks": ""
            },
            "colorscale": [
             [
              0,
              "#0d0887"
             ],
             [
              0.1111111111111111,
              "#46039f"
             ],
             [
              0.2222222222222222,
              "#7201a8"
             ],
             [
              0.3333333333333333,
              "#9c179e"
             ],
             [
              0.4444444444444444,
              "#bd3786"
             ],
             [
              0.5555555555555556,
              "#d8576b"
             ],
             [
              0.6666666666666666,
              "#ed7953"
             ],
             [
              0.7777777777777778,
              "#fb9f3a"
             ],
             [
              0.8888888888888888,
              "#fdca26"
             ],
             [
              1,
              "#f0f921"
             ]
            ],
            "type": "histogram2dcontour"
           }
          ],
          "mesh3d": [
           {
            "colorbar": {
             "outlinewidth": 0,
             "ticks": ""
            },
            "type": "mesh3d"
           }
          ],
          "parcoords": [
           {
            "line": {
             "colorbar": {
              "outlinewidth": 0,
              "ticks": ""
             }
            },
            "type": "parcoords"
           }
          ],
          "pie": [
           {
            "automargin": true,
            "type": "pie"
           }
          ],
          "scatter": [
           {
            "fillpattern": {
             "fillmode": "overlay",
             "size": 10,
             "solidity": 0.2
            },
            "type": "scatter"
           }
          ],
          "scatter3d": [
           {
            "line": {
             "colorbar": {
              "outlinewidth": 0,
              "ticks": ""
             }
            },
            "marker": {
             "colorbar": {
              "outlinewidth": 0,
              "ticks": ""
             }
            },
            "type": "scatter3d"
           }
          ],
          "scattercarpet": [
           {
            "marker": {
             "colorbar": {
              "outlinewidth": 0,
              "ticks": ""
             }
            },
            "type": "scattercarpet"
           }
          ],
          "scattergeo": [
           {
            "marker": {
             "colorbar": {
              "outlinewidth": 0,
              "ticks": ""
             }
            },
            "type": "scattergeo"
           }
          ],
          "scattergl": [
           {
            "marker": {
             "colorbar": {
              "outlinewidth": 0,
              "ticks": ""
             }
            },
            "type": "scattergl"
           }
          ],
          "scattermapbox": [
           {
            "marker": {
             "colorbar": {
              "outlinewidth": 0,
              "ticks": ""
             }
            },
            "type": "scattermapbox"
           }
          ],
          "scatterpolar": [
           {
            "marker": {
             "colorbar": {
              "outlinewidth": 0,
              "ticks": ""
             }
            },
            "type": "scatterpolar"
           }
          ],
          "scatterpolargl": [
           {
            "marker": {
             "colorbar": {
              "outlinewidth": 0,
              "ticks": ""
             }
            },
            "type": "scatterpolargl"
           }
          ],
          "scatterternary": [
           {
            "marker": {
             "colorbar": {
              "outlinewidth": 0,
              "ticks": ""
             }
            },
            "type": "scatterternary"
           }
          ],
          "surface": [
           {
            "colorbar": {
             "outlinewidth": 0,
             "ticks": ""
            },
            "colorscale": [
             [
              0,
              "#0d0887"
             ],
             [
              0.1111111111111111,
              "#46039f"
             ],
             [
              0.2222222222222222,
              "#7201a8"
             ],
             [
              0.3333333333333333,
              "#9c179e"
             ],
             [
              0.4444444444444444,
              "#bd3786"
             ],
             [
              0.5555555555555556,
              "#d8576b"
             ],
             [
              0.6666666666666666,
              "#ed7953"
             ],
             [
              0.7777777777777778,
              "#fb9f3a"
             ],
             [
              0.8888888888888888,
              "#fdca26"
             ],
             [
              1,
              "#f0f921"
             ]
            ],
            "type": "surface"
           }
          ],
          "table": [
           {
            "cells": {
             "fill": {
              "color": "#EBF0F8"
             },
             "line": {
              "color": "white"
             }
            },
            "header": {
             "fill": {
              "color": "#C8D4E3"
             },
             "line": {
              "color": "white"
             }
            },
            "type": "table"
           }
          ]
         },
         "layout": {
          "annotationdefaults": {
           "arrowcolor": "#2a3f5f",
           "arrowhead": 0,
           "arrowwidth": 1
          },
          "autotypenumbers": "strict",
          "coloraxis": {
           "colorbar": {
            "outlinewidth": 0,
            "ticks": ""
           }
          },
          "colorscale": {
           "diverging": [
            [
             0,
             "#8e0152"
            ],
            [
             0.1,
             "#c51b7d"
            ],
            [
             0.2,
             "#de77ae"
            ],
            [
             0.3,
             "#f1b6da"
            ],
            [
             0.4,
             "#fde0ef"
            ],
            [
             0.5,
             "#f7f7f7"
            ],
            [
             0.6,
             "#e6f5d0"
            ],
            [
             0.7,
             "#b8e186"
            ],
            [
             0.8,
             "#7fbc41"
            ],
            [
             0.9,
             "#4d9221"
            ],
            [
             1,
             "#276419"
            ]
           ],
           "sequential": [
            [
             0,
             "#0d0887"
            ],
            [
             0.1111111111111111,
             "#46039f"
            ],
            [
             0.2222222222222222,
             "#7201a8"
            ],
            [
             0.3333333333333333,
             "#9c179e"
            ],
            [
             0.4444444444444444,
             "#bd3786"
            ],
            [
             0.5555555555555556,
             "#d8576b"
            ],
            [
             0.6666666666666666,
             "#ed7953"
            ],
            [
             0.7777777777777778,
             "#fb9f3a"
            ],
            [
             0.8888888888888888,
             "#fdca26"
            ],
            [
             1,
             "#f0f921"
            ]
           ],
           "sequentialminus": [
            [
             0,
             "#0d0887"
            ],
            [
             0.1111111111111111,
             "#46039f"
            ],
            [
             0.2222222222222222,
             "#7201a8"
            ],
            [
             0.3333333333333333,
             "#9c179e"
            ],
            [
             0.4444444444444444,
             "#bd3786"
            ],
            [
             0.5555555555555556,
             "#d8576b"
            ],
            [
             0.6666666666666666,
             "#ed7953"
            ],
            [
             0.7777777777777778,
             "#fb9f3a"
            ],
            [
             0.8888888888888888,
             "#fdca26"
            ],
            [
             1,
             "#f0f921"
            ]
           ]
          },
          "colorway": [
           "#636efa",
           "#EF553B",
           "#00cc96",
           "#ab63fa",
           "#FFA15A",
           "#19d3f3",
           "#FF6692",
           "#B6E880",
           "#FF97FF",
           "#FECB52"
          ],
          "font": {
           "color": "#2a3f5f"
          },
          "geo": {
           "bgcolor": "white",
           "lakecolor": "white",
           "landcolor": "#E5ECF6",
           "showlakes": true,
           "showland": true,
           "subunitcolor": "white"
          },
          "hoverlabel": {
           "align": "left"
          },
          "hovermode": "closest",
          "mapbox": {
           "style": "light"
          },
          "paper_bgcolor": "white",
          "plot_bgcolor": "#E5ECF6",
          "polar": {
           "angularaxis": {
            "gridcolor": "white",
            "linecolor": "white",
            "ticks": ""
           },
           "bgcolor": "#E5ECF6",
           "radialaxis": {
            "gridcolor": "white",
            "linecolor": "white",
            "ticks": ""
           }
          },
          "scene": {
           "xaxis": {
            "backgroundcolor": "#E5ECF6",
            "gridcolor": "white",
            "gridwidth": 2,
            "linecolor": "white",
            "showbackground": true,
            "ticks": "",
            "zerolinecolor": "white"
           },
           "yaxis": {
            "backgroundcolor": "#E5ECF6",
            "gridcolor": "white",
            "gridwidth": 2,
            "linecolor": "white",
            "showbackground": true,
            "ticks": "",
            "zerolinecolor": "white"
           },
           "zaxis": {
            "backgroundcolor": "#E5ECF6",
            "gridcolor": "white",
            "gridwidth": 2,
            "linecolor": "white",
            "showbackground": true,
            "ticks": "",
            "zerolinecolor": "white"
           }
          },
          "shapedefaults": {
           "line": {
            "color": "#2a3f5f"
           }
          },
          "ternary": {
           "aaxis": {
            "gridcolor": "white",
            "linecolor": "white",
            "ticks": ""
           },
           "baxis": {
            "gridcolor": "white",
            "linecolor": "white",
            "ticks": ""
           },
           "bgcolor": "#E5ECF6",
           "caxis": {
            "gridcolor": "white",
            "linecolor": "white",
            "ticks": ""
           }
          },
          "title": {
           "x": 0.05
          },
          "xaxis": {
           "automargin": true,
           "gridcolor": "white",
           "linecolor": "white",
           "ticks": "",
           "title": {
            "standoff": 15
           },
           "zerolinecolor": "white",
           "zerolinewidth": 2
          },
          "yaxis": {
           "automargin": true,
           "gridcolor": "white",
           "linecolor": "white",
           "ticks": "",
           "title": {
            "standoff": 15
           },
           "zerolinecolor": "white",
           "zerolinewidth": 2
          }
         }
        },
        "title": {
         "text": "Hyperparameter Importances"
        },
        "xaxis": {
         "title": {
          "text": "Hyperparameter Importance"
         }
        },
        "yaxis": {
         "title": {
          "text": "Hyperparameter"
         }
        }
       }
      }
     },
     "metadata": {},
     "output_type": "display_data"
    }
   ],
   "source": [
    "optuna.visualization.plot_param_importances(study)"
   ]
  },
  {
   "cell_type": "code",
   "execution_count": 21,
   "metadata": {},
   "outputs": [
    {
     "data": {
      "application/vnd.plotly.v1+json": {
       "config": {
        "plotlyServerURL": "https://plot.ly"
       },
       "data": [
        {
         "marker": {
          "color": [
           0,
           1,
           2,
           3,
           4,
           5,
           6,
           7,
           8,
           9,
           10,
           11,
           12,
           13,
           14,
           15,
           16,
           17,
           18,
           19
          ],
          "colorbar": {
           "title": {
            "text": "Trial"
           },
           "x": 1,
           "xpad": 40
          },
          "colorscale": [
           [
            0,
            "rgb(247,251,255)"
           ],
           [
            0.125,
            "rgb(222,235,247)"
           ],
           [
            0.25,
            "rgb(198,219,239)"
           ],
           [
            0.375,
            "rgb(158,202,225)"
           ],
           [
            0.5,
            "rgb(107,174,214)"
           ],
           [
            0.625,
            "rgb(66,146,198)"
           ],
           [
            0.75,
            "rgb(33,113,181)"
           ],
           [
            0.875,
            "rgb(8,81,156)"
           ],
           [
            1,
            "rgb(8,48,107)"
           ]
          ],
          "line": {
           "color": "Grey",
           "width": 0.5
          },
          "showscale": true
         },
         "mode": "markers",
         "name": "Feasible Trial",
         "showlegend": false,
         "type": "scatter",
         "x": [
          "entropy",
          "entropy",
          "gini",
          "log_loss",
          "log_loss",
          "entropy",
          "entropy",
          "log_loss",
          "entropy",
          "entropy",
          "gini",
          "entropy",
          "entropy",
          "entropy",
          "entropy",
          "gini",
          "entropy",
          "entropy",
          "log_loss",
          "gini"
         ],
         "xaxis": "x",
         "y": [
          0.6772946069726142,
          0.6759393401252454,
          0.6771544069539209,
          0.6635316384708851,
          0.6770492569399009,
          0.6773997569866342,
          0.6778086737078232,
          0.6643845219179363,
          0.6753434900457986,
          0.6763599401813254,
          0.6770959902794653,
          0.6769441069258809,
          0.6770492569399009,
          0.6757524067669876,
          0.6768039069071876,
          0.6772595569679409,
          0.666557622207683,
          0.6770843069445742,
          0.6768155902420787,
          0.6769908402654453
         ],
         "yaxis": "y"
        },
        {
         "marker": {
          "color": [
           0,
           1,
           2,
           3,
           4,
           5,
           6,
           7,
           8,
           9,
           10,
           11,
           12,
           13,
           14,
           15,
           16,
           17,
           18,
           19
          ],
          "colorbar": {
           "title": {
            "text": "Trial"
           },
           "x": 1,
           "xpad": 40
          },
          "colorscale": [
           [
            0,
            "rgb(247,251,255)"
           ],
           [
            0.125,
            "rgb(222,235,247)"
           ],
           [
            0.25,
            "rgb(198,219,239)"
           ],
           [
            0.375,
            "rgb(158,202,225)"
           ],
           [
            0.5,
            "rgb(107,174,214)"
           ],
           [
            0.625,
            "rgb(66,146,198)"
           ],
           [
            0.75,
            "rgb(33,113,181)"
           ],
           [
            0.875,
            "rgb(8,81,156)"
           ],
           [
            1,
            "rgb(8,48,107)"
           ]
          ],
          "line": {
           "color": "Grey",
           "width": 0.5
          },
          "showscale": false
         },
         "mode": "markers",
         "name": "Feasible Trial",
         "showlegend": false,
         "type": "scatter",
         "x": [
          20,
          12,
          16,
          3,
          17,
          18,
          19,
          4,
          11,
          25,
          32,
          25,
          23,
          12,
          32,
          20,
          7,
          27,
          16,
          20
         ],
         "xaxis": "x2",
         "y": [
          0.6772946069726142,
          0.6759393401252454,
          0.6771544069539209,
          0.6635316384708851,
          0.6770492569399009,
          0.6773997569866342,
          0.6778086737078232,
          0.6643845219179363,
          0.6753434900457986,
          0.6763599401813254,
          0.6770959902794653,
          0.6769441069258809,
          0.6770492569399009,
          0.6757524067669876,
          0.6768039069071876,
          0.6772595569679409,
          0.666557622207683,
          0.6770843069445742,
          0.6768155902420787,
          0.6769908402654453
         ],
         "yaxis": "y2"
        },
        {
         "marker": {
          "color": [
           0,
           1,
           2,
           3,
           4,
           5,
           6,
           7,
           8,
           9,
           10,
           11,
           12,
           13,
           14,
           15,
           16,
           17,
           18,
           19
          ],
          "colorbar": {
           "title": {
            "text": "Trial"
           },
           "x": 1,
           "xpad": 40
          },
          "colorscale": [
           [
            0,
            "rgb(247,251,255)"
           ],
           [
            0.125,
            "rgb(222,235,247)"
           ],
           [
            0.25,
            "rgb(198,219,239)"
           ],
           [
            0.375,
            "rgb(158,202,225)"
           ],
           [
            0.5,
            "rgb(107,174,214)"
           ],
           [
            0.625,
            "rgb(66,146,198)"
           ],
           [
            0.75,
            "rgb(33,113,181)"
           ],
           [
            0.875,
            "rgb(8,81,156)"
           ],
           [
            1,
            "rgb(8,48,107)"
           ]
          ],
          "line": {
           "color": "Grey",
           "width": 0.5
          },
          "showscale": false
         },
         "mode": "markers",
         "name": "Feasible Trial",
         "showlegend": false,
         "type": "scatter",
         "x": [
          "sqrt",
          "log2",
          "sqrt",
          "sqrt",
          "log2",
          "log2",
          "sqrt",
          "log2",
          "sqrt",
          "sqrt",
          "sqrt",
          "log2",
          "log2",
          "log2",
          "sqrt",
          "log2",
          "sqrt",
          "log2",
          "sqrt",
          "log2"
         ],
         "xaxis": "x3",
         "y": [
          0.6772946069726142,
          0.6759393401252454,
          0.6771544069539209,
          0.6635316384708851,
          0.6770492569399009,
          0.6773997569866342,
          0.6778086737078232,
          0.6643845219179363,
          0.6753434900457986,
          0.6763599401813254,
          0.6770959902794653,
          0.6769441069258809,
          0.6770492569399009,
          0.6757524067669876,
          0.6768039069071876,
          0.6772595569679409,
          0.666557622207683,
          0.6770843069445742,
          0.6768155902420787,
          0.6769908402654453
         ],
         "yaxis": "y3"
        },
        {
         "marker": {
          "color": [
           0,
           1,
           2,
           3,
           4,
           5,
           6,
           7,
           8,
           9,
           10,
           11,
           12,
           13,
           14,
           15,
           16,
           17,
           18,
           19
          ],
          "colorbar": {
           "title": {
            "text": "Trial"
           },
           "x": 1,
           "xpad": 40
          },
          "colorscale": [
           [
            0,
            "rgb(247,251,255)"
           ],
           [
            0.125,
            "rgb(222,235,247)"
           ],
           [
            0.25,
            "rgb(198,219,239)"
           ],
           [
            0.375,
            "rgb(158,202,225)"
           ],
           [
            0.5,
            "rgb(107,174,214)"
           ],
           [
            0.625,
            "rgb(66,146,198)"
           ],
           [
            0.75,
            "rgb(33,113,181)"
           ],
           [
            0.875,
            "rgb(8,81,156)"
           ],
           [
            1,
            "rgb(8,48,107)"
           ]
          ],
          "line": {
           "color": "Grey",
           "width": 0.5
          },
          "showscale": false
         },
         "mode": "markers",
         "name": "Feasible Trial",
         "showlegend": false,
         "type": "scatter",
         "x": [
          18,
          4,
          29,
          5,
          31,
          30,
          25,
          14,
          8,
          16,
          23,
          25,
          25,
          32,
          20,
          28,
          12,
          21,
          27,
          23
         ],
         "xaxis": "x4",
         "y": [
          0.6772946069726142,
          0.6759393401252454,
          0.6771544069539209,
          0.6635316384708851,
          0.6770492569399009,
          0.6773997569866342,
          0.6778086737078232,
          0.6643845219179363,
          0.6753434900457986,
          0.6763599401813254,
          0.6770959902794653,
          0.6769441069258809,
          0.6770492569399009,
          0.6757524067669876,
          0.6768039069071876,
          0.6772595569679409,
          0.666557622207683,
          0.6770843069445742,
          0.6768155902420787,
          0.6769908402654453
         ],
         "yaxis": "y4"
        },
        {
         "marker": {
          "color": [
           0,
           1,
           2,
           3,
           4,
           5,
           6,
           7,
           8,
           9,
           10,
           11,
           12,
           13,
           14,
           15,
           16,
           17,
           18,
           19
          ],
          "colorbar": {
           "title": {
            "text": "Trial"
           },
           "x": 1,
           "xpad": 40
          },
          "colorscale": [
           [
            0,
            "rgb(247,251,255)"
           ],
           [
            0.125,
            "rgb(222,235,247)"
           ],
           [
            0.25,
            "rgb(198,219,239)"
           ],
           [
            0.375,
            "rgb(158,202,225)"
           ],
           [
            0.5,
            "rgb(107,174,214)"
           ],
           [
            0.625,
            "rgb(66,146,198)"
           ],
           [
            0.75,
            "rgb(33,113,181)"
           ],
           [
            0.875,
            "rgb(8,81,156)"
           ],
           [
            1,
            "rgb(8,48,107)"
           ]
          ],
          "line": {
           "color": "Grey",
           "width": 0.5
          },
          "showscale": false
         },
         "mode": "markers",
         "name": "Feasible Trial",
         "showlegend": false,
         "type": "scatter",
         "x": [
          24,
          11,
          23,
          11,
          16,
          4,
          22,
          20,
          17,
          31,
          32,
          2,
          3,
          8,
          27,
          14,
          8,
          21,
          27,
          5
         ],
         "xaxis": "x5",
         "y": [
          0.6772946069726142,
          0.6759393401252454,
          0.6771544069539209,
          0.6635316384708851,
          0.6770492569399009,
          0.6773997569866342,
          0.6778086737078232,
          0.6643845219179363,
          0.6753434900457986,
          0.6763599401813254,
          0.6770959902794653,
          0.6769441069258809,
          0.6770492569399009,
          0.6757524067669876,
          0.6768039069071876,
          0.6772595569679409,
          0.666557622207683,
          0.6770843069445742,
          0.6768155902420787,
          0.6769908402654453
         ],
         "yaxis": "y5"
        },
        {
         "marker": {
          "color": [
           0,
           1,
           2,
           3,
           4,
           5,
           6,
           7,
           8,
           9,
           10,
           11,
           12,
           13,
           14,
           15,
           16,
           17,
           18,
           19
          ],
          "colorbar": {
           "title": {
            "text": "Trial"
           },
           "x": 1,
           "xpad": 40
          },
          "colorscale": [
           [
            0,
            "rgb(247,251,255)"
           ],
           [
            0.125,
            "rgb(222,235,247)"
           ],
           [
            0.25,
            "rgb(198,219,239)"
           ],
           [
            0.375,
            "rgb(158,202,225)"
           ],
           [
            0.5,
            "rgb(107,174,214)"
           ],
           [
            0.625,
            "rgb(66,146,198)"
           ],
           [
            0.75,
            "rgb(33,113,181)"
           ],
           [
            0.875,
            "rgb(8,81,156)"
           ],
           [
            1,
            "rgb(8,48,107)"
           ]
          ],
          "line": {
           "color": "Grey",
           "width": 0.5
          },
          "showscale": false
         },
         "mode": "markers",
         "name": "Feasible Trial",
         "showlegend": false,
         "type": "scatter",
         "x": [
          476,
          225,
          291,
          417,
          451,
          320,
          353,
          215,
          143,
          397,
          347,
          320,
          265,
          378,
          350,
          131,
          273,
          500,
          215,
          431
         ],
         "xaxis": "x6",
         "y": [
          0.6772946069726142,
          0.6759393401252454,
          0.6771544069539209,
          0.6635316384708851,
          0.6770492569399009,
          0.6773997569866342,
          0.6778086737078232,
          0.6643845219179363,
          0.6753434900457986,
          0.6763599401813254,
          0.6770959902794653,
          0.6769441069258809,
          0.6770492569399009,
          0.6757524067669876,
          0.6768039069071876,
          0.6772595569679409,
          0.666557622207683,
          0.6770843069445742,
          0.6768155902420787,
          0.6769908402654453
         ],
         "yaxis": "y6"
        }
       ],
       "layout": {
        "template": {
         "data": {
          "bar": [
           {
            "error_x": {
             "color": "#2a3f5f"
            },
            "error_y": {
             "color": "#2a3f5f"
            },
            "marker": {
             "line": {
              "color": "#E5ECF6",
              "width": 0.5
             },
             "pattern": {
              "fillmode": "overlay",
              "size": 10,
              "solidity": 0.2
             }
            },
            "type": "bar"
           }
          ],
          "barpolar": [
           {
            "marker": {
             "line": {
              "color": "#E5ECF6",
              "width": 0.5
             },
             "pattern": {
              "fillmode": "overlay",
              "size": 10,
              "solidity": 0.2
             }
            },
            "type": "barpolar"
           }
          ],
          "carpet": [
           {
            "aaxis": {
             "endlinecolor": "#2a3f5f",
             "gridcolor": "white",
             "linecolor": "white",
             "minorgridcolor": "white",
             "startlinecolor": "#2a3f5f"
            },
            "baxis": {
             "endlinecolor": "#2a3f5f",
             "gridcolor": "white",
             "linecolor": "white",
             "minorgridcolor": "white",
             "startlinecolor": "#2a3f5f"
            },
            "type": "carpet"
           }
          ],
          "choropleth": [
           {
            "colorbar": {
             "outlinewidth": 0,
             "ticks": ""
            },
            "type": "choropleth"
           }
          ],
          "contour": [
           {
            "colorbar": {
             "outlinewidth": 0,
             "ticks": ""
            },
            "colorscale": [
             [
              0,
              "#0d0887"
             ],
             [
              0.1111111111111111,
              "#46039f"
             ],
             [
              0.2222222222222222,
              "#7201a8"
             ],
             [
              0.3333333333333333,
              "#9c179e"
             ],
             [
              0.4444444444444444,
              "#bd3786"
             ],
             [
              0.5555555555555556,
              "#d8576b"
             ],
             [
              0.6666666666666666,
              "#ed7953"
             ],
             [
              0.7777777777777778,
              "#fb9f3a"
             ],
             [
              0.8888888888888888,
              "#fdca26"
             ],
             [
              1,
              "#f0f921"
             ]
            ],
            "type": "contour"
           }
          ],
          "contourcarpet": [
           {
            "colorbar": {
             "outlinewidth": 0,
             "ticks": ""
            },
            "type": "contourcarpet"
           }
          ],
          "heatmap": [
           {
            "colorbar": {
             "outlinewidth": 0,
             "ticks": ""
            },
            "colorscale": [
             [
              0,
              "#0d0887"
             ],
             [
              0.1111111111111111,
              "#46039f"
             ],
             [
              0.2222222222222222,
              "#7201a8"
             ],
             [
              0.3333333333333333,
              "#9c179e"
             ],
             [
              0.4444444444444444,
              "#bd3786"
             ],
             [
              0.5555555555555556,
              "#d8576b"
             ],
             [
              0.6666666666666666,
              "#ed7953"
             ],
             [
              0.7777777777777778,
              "#fb9f3a"
             ],
             [
              0.8888888888888888,
              "#fdca26"
             ],
             [
              1,
              "#f0f921"
             ]
            ],
            "type": "heatmap"
           }
          ],
          "heatmapgl": [
           {
            "colorbar": {
             "outlinewidth": 0,
             "ticks": ""
            },
            "colorscale": [
             [
              0,
              "#0d0887"
             ],
             [
              0.1111111111111111,
              "#46039f"
             ],
             [
              0.2222222222222222,
              "#7201a8"
             ],
             [
              0.3333333333333333,
              "#9c179e"
             ],
             [
              0.4444444444444444,
              "#bd3786"
             ],
             [
              0.5555555555555556,
              "#d8576b"
             ],
             [
              0.6666666666666666,
              "#ed7953"
             ],
             [
              0.7777777777777778,
              "#fb9f3a"
             ],
             [
              0.8888888888888888,
              "#fdca26"
             ],
             [
              1,
              "#f0f921"
             ]
            ],
            "type": "heatmapgl"
           }
          ],
          "histogram": [
           {
            "marker": {
             "pattern": {
              "fillmode": "overlay",
              "size": 10,
              "solidity": 0.2
             }
            },
            "type": "histogram"
           }
          ],
          "histogram2d": [
           {
            "colorbar": {
             "outlinewidth": 0,
             "ticks": ""
            },
            "colorscale": [
             [
              0,
              "#0d0887"
             ],
             [
              0.1111111111111111,
              "#46039f"
             ],
             [
              0.2222222222222222,
              "#7201a8"
             ],
             [
              0.3333333333333333,
              "#9c179e"
             ],
             [
              0.4444444444444444,
              "#bd3786"
             ],
             [
              0.5555555555555556,
              "#d8576b"
             ],
             [
              0.6666666666666666,
              "#ed7953"
             ],
             [
              0.7777777777777778,
              "#fb9f3a"
             ],
             [
              0.8888888888888888,
              "#fdca26"
             ],
             [
              1,
              "#f0f921"
             ]
            ],
            "type": "histogram2d"
           }
          ],
          "histogram2dcontour": [
           {
            "colorbar": {
             "outlinewidth": 0,
             "ticks": ""
            },
            "colorscale": [
             [
              0,
              "#0d0887"
             ],
             [
              0.1111111111111111,
              "#46039f"
             ],
             [
              0.2222222222222222,
              "#7201a8"
             ],
             [
              0.3333333333333333,
              "#9c179e"
             ],
             [
              0.4444444444444444,
              "#bd3786"
             ],
             [
              0.5555555555555556,
              "#d8576b"
             ],
             [
              0.6666666666666666,
              "#ed7953"
             ],
             [
              0.7777777777777778,
              "#fb9f3a"
             ],
             [
              0.8888888888888888,
              "#fdca26"
             ],
             [
              1,
              "#f0f921"
             ]
            ],
            "type": "histogram2dcontour"
           }
          ],
          "mesh3d": [
           {
            "colorbar": {
             "outlinewidth": 0,
             "ticks": ""
            },
            "type": "mesh3d"
           }
          ],
          "parcoords": [
           {
            "line": {
             "colorbar": {
              "outlinewidth": 0,
              "ticks": ""
             }
            },
            "type": "parcoords"
           }
          ],
          "pie": [
           {
            "automargin": true,
            "type": "pie"
           }
          ],
          "scatter": [
           {
            "fillpattern": {
             "fillmode": "overlay",
             "size": 10,
             "solidity": 0.2
            },
            "type": "scatter"
           }
          ],
          "scatter3d": [
           {
            "line": {
             "colorbar": {
              "outlinewidth": 0,
              "ticks": ""
             }
            },
            "marker": {
             "colorbar": {
              "outlinewidth": 0,
              "ticks": ""
             }
            },
            "type": "scatter3d"
           }
          ],
          "scattercarpet": [
           {
            "marker": {
             "colorbar": {
              "outlinewidth": 0,
              "ticks": ""
             }
            },
            "type": "scattercarpet"
           }
          ],
          "scattergeo": [
           {
            "marker": {
             "colorbar": {
              "outlinewidth": 0,
              "ticks": ""
             }
            },
            "type": "scattergeo"
           }
          ],
          "scattergl": [
           {
            "marker": {
             "colorbar": {
              "outlinewidth": 0,
              "ticks": ""
             }
            },
            "type": "scattergl"
           }
          ],
          "scattermapbox": [
           {
            "marker": {
             "colorbar": {
              "outlinewidth": 0,
              "ticks": ""
             }
            },
            "type": "scattermapbox"
           }
          ],
          "scatterpolar": [
           {
            "marker": {
             "colorbar": {
              "outlinewidth": 0,
              "ticks": ""
             }
            },
            "type": "scatterpolar"
           }
          ],
          "scatterpolargl": [
           {
            "marker": {
             "colorbar": {
              "outlinewidth": 0,
              "ticks": ""
             }
            },
            "type": "scatterpolargl"
           }
          ],
          "scatterternary": [
           {
            "marker": {
             "colorbar": {
              "outlinewidth": 0,
              "ticks": ""
             }
            },
            "type": "scatterternary"
           }
          ],
          "surface": [
           {
            "colorbar": {
             "outlinewidth": 0,
             "ticks": ""
            },
            "colorscale": [
             [
              0,
              "#0d0887"
             ],
             [
              0.1111111111111111,
              "#46039f"
             ],
             [
              0.2222222222222222,
              "#7201a8"
             ],
             [
              0.3333333333333333,
              "#9c179e"
             ],
             [
              0.4444444444444444,
              "#bd3786"
             ],
             [
              0.5555555555555556,
              "#d8576b"
             ],
             [
              0.6666666666666666,
              "#ed7953"
             ],
             [
              0.7777777777777778,
              "#fb9f3a"
             ],
             [
              0.8888888888888888,
              "#fdca26"
             ],
             [
              1,
              "#f0f921"
             ]
            ],
            "type": "surface"
           }
          ],
          "table": [
           {
            "cells": {
             "fill": {
              "color": "#EBF0F8"
             },
             "line": {
              "color": "white"
             }
            },
            "header": {
             "fill": {
              "color": "#C8D4E3"
             },
             "line": {
              "color": "white"
             }
            },
            "type": "table"
           }
          ]
         },
         "layout": {
          "annotationdefaults": {
           "arrowcolor": "#2a3f5f",
           "arrowhead": 0,
           "arrowwidth": 1
          },
          "autotypenumbers": "strict",
          "coloraxis": {
           "colorbar": {
            "outlinewidth": 0,
            "ticks": ""
           }
          },
          "colorscale": {
           "diverging": [
            [
             0,
             "#8e0152"
            ],
            [
             0.1,
             "#c51b7d"
            ],
            [
             0.2,
             "#de77ae"
            ],
            [
             0.3,
             "#f1b6da"
            ],
            [
             0.4,
             "#fde0ef"
            ],
            [
             0.5,
             "#f7f7f7"
            ],
            [
             0.6,
             "#e6f5d0"
            ],
            [
             0.7,
             "#b8e186"
            ],
            [
             0.8,
             "#7fbc41"
            ],
            [
             0.9,
             "#4d9221"
            ],
            [
             1,
             "#276419"
            ]
           ],
           "sequential": [
            [
             0,
             "#0d0887"
            ],
            [
             0.1111111111111111,
             "#46039f"
            ],
            [
             0.2222222222222222,
             "#7201a8"
            ],
            [
             0.3333333333333333,
             "#9c179e"
            ],
            [
             0.4444444444444444,
             "#bd3786"
            ],
            [
             0.5555555555555556,
             "#d8576b"
            ],
            [
             0.6666666666666666,
             "#ed7953"
            ],
            [
             0.7777777777777778,
             "#fb9f3a"
            ],
            [
             0.8888888888888888,
             "#fdca26"
            ],
            [
             1,
             "#f0f921"
            ]
           ],
           "sequentialminus": [
            [
             0,
             "#0d0887"
            ],
            [
             0.1111111111111111,
             "#46039f"
            ],
            [
             0.2222222222222222,
             "#7201a8"
            ],
            [
             0.3333333333333333,
             "#9c179e"
            ],
            [
             0.4444444444444444,
             "#bd3786"
            ],
            [
             0.5555555555555556,
             "#d8576b"
            ],
            [
             0.6666666666666666,
             "#ed7953"
            ],
            [
             0.7777777777777778,
             "#fb9f3a"
            ],
            [
             0.8888888888888888,
             "#fdca26"
            ],
            [
             1,
             "#f0f921"
            ]
           ]
          },
          "colorway": [
           "#636efa",
           "#EF553B",
           "#00cc96",
           "#ab63fa",
           "#FFA15A",
           "#19d3f3",
           "#FF6692",
           "#B6E880",
           "#FF97FF",
           "#FECB52"
          ],
          "font": {
           "color": "#2a3f5f"
          },
          "geo": {
           "bgcolor": "white",
           "lakecolor": "white",
           "landcolor": "#E5ECF6",
           "showlakes": true,
           "showland": true,
           "subunitcolor": "white"
          },
          "hoverlabel": {
           "align": "left"
          },
          "hovermode": "closest",
          "mapbox": {
           "style": "light"
          },
          "paper_bgcolor": "white",
          "plot_bgcolor": "#E5ECF6",
          "polar": {
           "angularaxis": {
            "gridcolor": "white",
            "linecolor": "white",
            "ticks": ""
           },
           "bgcolor": "#E5ECF6",
           "radialaxis": {
            "gridcolor": "white",
            "linecolor": "white",
            "ticks": ""
           }
          },
          "scene": {
           "xaxis": {
            "backgroundcolor": "#E5ECF6",
            "gridcolor": "white",
            "gridwidth": 2,
            "linecolor": "white",
            "showbackground": true,
            "ticks": "",
            "zerolinecolor": "white"
           },
           "yaxis": {
            "backgroundcolor": "#E5ECF6",
            "gridcolor": "white",
            "gridwidth": 2,
            "linecolor": "white",
            "showbackground": true,
            "ticks": "",
            "zerolinecolor": "white"
           },
           "zaxis": {
            "backgroundcolor": "#E5ECF6",
            "gridcolor": "white",
            "gridwidth": 2,
            "linecolor": "white",
            "showbackground": true,
            "ticks": "",
            "zerolinecolor": "white"
           }
          },
          "shapedefaults": {
           "line": {
            "color": "#2a3f5f"
           }
          },
          "ternary": {
           "aaxis": {
            "gridcolor": "white",
            "linecolor": "white",
            "ticks": ""
           },
           "baxis": {
            "gridcolor": "white",
            "linecolor": "white",
            "ticks": ""
           },
           "bgcolor": "#E5ECF6",
           "caxis": {
            "gridcolor": "white",
            "linecolor": "white",
            "ticks": ""
           }
          },
          "title": {
           "x": 0.05
          },
          "xaxis": {
           "automargin": true,
           "gridcolor": "white",
           "linecolor": "white",
           "ticks": "",
           "title": {
            "standoff": 15
           },
           "zerolinecolor": "white",
           "zerolinewidth": 2
          },
          "yaxis": {
           "automargin": true,
           "gridcolor": "white",
           "linecolor": "white",
           "ticks": "",
           "title": {
            "standoff": 15
           },
           "zerolinecolor": "white",
           "zerolinewidth": 2
          }
         }
        },
        "title": {
         "text": "Slice Plot"
        },
        "width": 1800,
        "xaxis": {
         "anchor": "y",
         "categoryarray": [
          "gini",
          "entropy",
          "log_loss"
         ],
         "categoryorder": "array",
         "domain": [
          0,
          0.1388888888888889
         ],
         "title": {
          "text": "criterion"
         },
         "type": "category"
        },
        "xaxis2": {
         "anchor": "y2",
         "domain": [
          0.17222222222222222,
          0.3111111111111111
         ],
         "title": {
          "text": "max_depth"
         }
        },
        "xaxis3": {
         "anchor": "y3",
         "categoryarray": [
          "sqrt",
          "log2"
         ],
         "categoryorder": "array",
         "domain": [
          0.34444444444444444,
          0.48333333333333334
         ],
         "title": {
          "text": "max_features"
         },
         "type": "category"
        },
        "xaxis4": {
         "anchor": "y4",
         "domain": [
          0.5166666666666667,
          0.6555555555555557
         ],
         "title": {
          "text": "min_samples_leaf"
         }
        },
        "xaxis5": {
         "anchor": "y5",
         "domain": [
          0.6888888888888889,
          0.8277777777777777
         ],
         "title": {
          "text": "min_samples_split"
         }
        },
        "xaxis6": {
         "anchor": "y6",
         "domain": [
          0.861111111111111,
          1
         ],
         "title": {
          "text": "n_estimators"
         }
        },
        "yaxis": {
         "anchor": "x",
         "domain": [
          0,
          1
         ],
         "title": {
          "text": "Objective Value"
         }
        },
        "yaxis2": {
         "anchor": "x2",
         "domain": [
          0,
          1
         ],
         "matches": "y",
         "showticklabels": false
        },
        "yaxis3": {
         "anchor": "x3",
         "domain": [
          0,
          1
         ],
         "matches": "y",
         "showticklabels": false
        },
        "yaxis4": {
         "anchor": "x4",
         "domain": [
          0,
          1
         ],
         "matches": "y",
         "showticklabels": false
        },
        "yaxis5": {
         "anchor": "x5",
         "domain": [
          0,
          1
         ],
         "matches": "y",
         "showticklabels": false
        },
        "yaxis6": {
         "anchor": "x6",
         "domain": [
          0,
          1
         ],
         "matches": "y",
         "showticklabels": false
        }
       }
      }
     },
     "metadata": {},
     "output_type": "display_data"
    }
   ],
   "source": [
    "optuna.visualization.plot_slice(study, params = ['n_estimators',\n",
    "'max_depth',\n",
    "'min_samples_split',\n",
    "'min_samples_leaf',\n",
    "'max_features',\n",
    "'criterion',])"
   ]
  },
  {
   "cell_type": "code",
   "execution_count": 23,
   "metadata": {},
   "outputs": [
    {
     "data": {
      "text/html": [
       "<style>#sk-container-id-1 {\n",
       "  /* Definition of color scheme common for light and dark mode */\n",
       "  --sklearn-color-text: black;\n",
       "  --sklearn-color-line: gray;\n",
       "  /* Definition of color scheme for unfitted estimators */\n",
       "  --sklearn-color-unfitted-level-0: #fff5e6;\n",
       "  --sklearn-color-unfitted-level-1: #f6e4d2;\n",
       "  --sklearn-color-unfitted-level-2: #ffe0b3;\n",
       "  --sklearn-color-unfitted-level-3: chocolate;\n",
       "  /* Definition of color scheme for fitted estimators */\n",
       "  --sklearn-color-fitted-level-0: #f0f8ff;\n",
       "  --sklearn-color-fitted-level-1: #d4ebff;\n",
       "  --sklearn-color-fitted-level-2: #b3dbfd;\n",
       "  --sklearn-color-fitted-level-3: cornflowerblue;\n",
       "\n",
       "  /* Specific color for light theme */\n",
       "  --sklearn-color-text-on-default-background: var(--sg-text-color, var(--theme-code-foreground, var(--jp-content-font-color1, black)));\n",
       "  --sklearn-color-background: var(--sg-background-color, var(--theme-background, var(--jp-layout-color0, white)));\n",
       "  --sklearn-color-border-box: var(--sg-text-color, var(--theme-code-foreground, var(--jp-content-font-color1, black)));\n",
       "  --sklearn-color-icon: #696969;\n",
       "\n",
       "  @media (prefers-color-scheme: dark) {\n",
       "    /* Redefinition of color scheme for dark theme */\n",
       "    --sklearn-color-text-on-default-background: var(--sg-text-color, var(--theme-code-foreground, var(--jp-content-font-color1, white)));\n",
       "    --sklearn-color-background: var(--sg-background-color, var(--theme-background, var(--jp-layout-color0, #111)));\n",
       "    --sklearn-color-border-box: var(--sg-text-color, var(--theme-code-foreground, var(--jp-content-font-color1, white)));\n",
       "    --sklearn-color-icon: #878787;\n",
       "  }\n",
       "}\n",
       "\n",
       "#sk-container-id-1 {\n",
       "  color: var(--sklearn-color-text);\n",
       "}\n",
       "\n",
       "#sk-container-id-1 pre {\n",
       "  padding: 0;\n",
       "}\n",
       "\n",
       "#sk-container-id-1 input.sk-hidden--visually {\n",
       "  border: 0;\n",
       "  clip: rect(1px 1px 1px 1px);\n",
       "  clip: rect(1px, 1px, 1px, 1px);\n",
       "  height: 1px;\n",
       "  margin: -1px;\n",
       "  overflow: hidden;\n",
       "  padding: 0;\n",
       "  position: absolute;\n",
       "  width: 1px;\n",
       "}\n",
       "\n",
       "#sk-container-id-1 div.sk-dashed-wrapped {\n",
       "  border: 1px dashed var(--sklearn-color-line);\n",
       "  margin: 0 0.4em 0.5em 0.4em;\n",
       "  box-sizing: border-box;\n",
       "  padding-bottom: 0.4em;\n",
       "  background-color: var(--sklearn-color-background);\n",
       "}\n",
       "\n",
       "#sk-container-id-1 div.sk-container {\n",
       "  /* jupyter's `normalize.less` sets `[hidden] { display: none; }`\n",
       "     but bootstrap.min.css set `[hidden] { display: none !important; }`\n",
       "     so we also need the `!important` here to be able to override the\n",
       "     default hidden behavior on the sphinx rendered scikit-learn.org.\n",
       "     See: https://github.com/scikit-learn/scikit-learn/issues/21755 */\n",
       "  display: inline-block !important;\n",
       "  position: relative;\n",
       "}\n",
       "\n",
       "#sk-container-id-1 div.sk-text-repr-fallback {\n",
       "  display: none;\n",
       "}\n",
       "\n",
       "div.sk-parallel-item,\n",
       "div.sk-serial,\n",
       "div.sk-item {\n",
       "  /* draw centered vertical line to link estimators */\n",
       "  background-image: linear-gradient(var(--sklearn-color-text-on-default-background), var(--sklearn-color-text-on-default-background));\n",
       "  background-size: 2px 100%;\n",
       "  background-repeat: no-repeat;\n",
       "  background-position: center center;\n",
       "}\n",
       "\n",
       "/* Parallel-specific style estimator block */\n",
       "\n",
       "#sk-container-id-1 div.sk-parallel-item::after {\n",
       "  content: \"\";\n",
       "  width: 100%;\n",
       "  border-bottom: 2px solid var(--sklearn-color-text-on-default-background);\n",
       "  flex-grow: 1;\n",
       "}\n",
       "\n",
       "#sk-container-id-1 div.sk-parallel {\n",
       "  display: flex;\n",
       "  align-items: stretch;\n",
       "  justify-content: center;\n",
       "  background-color: var(--sklearn-color-background);\n",
       "  position: relative;\n",
       "}\n",
       "\n",
       "#sk-container-id-1 div.sk-parallel-item {\n",
       "  display: flex;\n",
       "  flex-direction: column;\n",
       "}\n",
       "\n",
       "#sk-container-id-1 div.sk-parallel-item:first-child::after {\n",
       "  align-self: flex-end;\n",
       "  width: 50%;\n",
       "}\n",
       "\n",
       "#sk-container-id-1 div.sk-parallel-item:last-child::after {\n",
       "  align-self: flex-start;\n",
       "  width: 50%;\n",
       "}\n",
       "\n",
       "#sk-container-id-1 div.sk-parallel-item:only-child::after {\n",
       "  width: 0;\n",
       "}\n",
       "\n",
       "/* Serial-specific style estimator block */\n",
       "\n",
       "#sk-container-id-1 div.sk-serial {\n",
       "  display: flex;\n",
       "  flex-direction: column;\n",
       "  align-items: center;\n",
       "  background-color: var(--sklearn-color-background);\n",
       "  padding-right: 1em;\n",
       "  padding-left: 1em;\n",
       "}\n",
       "\n",
       "\n",
       "/* Toggleable style: style used for estimator/Pipeline/ColumnTransformer box that is\n",
       "clickable and can be expanded/collapsed.\n",
       "- Pipeline and ColumnTransformer use this feature and define the default style\n",
       "- Estimators will overwrite some part of the style using the `sk-estimator` class\n",
       "*/\n",
       "\n",
       "/* Pipeline and ColumnTransformer style (default) */\n",
       "\n",
       "#sk-container-id-1 div.sk-toggleable {\n",
       "  /* Default theme specific background. It is overwritten whether we have a\n",
       "  specific estimator or a Pipeline/ColumnTransformer */\n",
       "  background-color: var(--sklearn-color-background);\n",
       "}\n",
       "\n",
       "/* Toggleable label */\n",
       "#sk-container-id-1 label.sk-toggleable__label {\n",
       "  cursor: pointer;\n",
       "  display: block;\n",
       "  width: 100%;\n",
       "  margin-bottom: 0;\n",
       "  padding: 0.5em;\n",
       "  box-sizing: border-box;\n",
       "  text-align: center;\n",
       "}\n",
       "\n",
       "#sk-container-id-1 label.sk-toggleable__label-arrow:before {\n",
       "  /* Arrow on the left of the label */\n",
       "  content: \"▸\";\n",
       "  float: left;\n",
       "  margin-right: 0.25em;\n",
       "  color: var(--sklearn-color-icon);\n",
       "}\n",
       "\n",
       "#sk-container-id-1 label.sk-toggleable__label-arrow:hover:before {\n",
       "  color: var(--sklearn-color-text);\n",
       "}\n",
       "\n",
       "/* Toggleable content - dropdown */\n",
       "\n",
       "#sk-container-id-1 div.sk-toggleable__content {\n",
       "  max-height: 0;\n",
       "  max-width: 0;\n",
       "  overflow: hidden;\n",
       "  text-align: left;\n",
       "  /* unfitted */\n",
       "  background-color: var(--sklearn-color-unfitted-level-0);\n",
       "}\n",
       "\n",
       "#sk-container-id-1 div.sk-toggleable__content.fitted {\n",
       "  /* fitted */\n",
       "  background-color: var(--sklearn-color-fitted-level-0);\n",
       "}\n",
       "\n",
       "#sk-container-id-1 div.sk-toggleable__content pre {\n",
       "  margin: 0.2em;\n",
       "  border-radius: 0.25em;\n",
       "  color: var(--sklearn-color-text);\n",
       "  /* unfitted */\n",
       "  background-color: var(--sklearn-color-unfitted-level-0);\n",
       "}\n",
       "\n",
       "#sk-container-id-1 div.sk-toggleable__content.fitted pre {\n",
       "  /* unfitted */\n",
       "  background-color: var(--sklearn-color-fitted-level-0);\n",
       "}\n",
       "\n",
       "#sk-container-id-1 input.sk-toggleable__control:checked~div.sk-toggleable__content {\n",
       "  /* Expand drop-down */\n",
       "  max-height: 200px;\n",
       "  max-width: 100%;\n",
       "  overflow: auto;\n",
       "}\n",
       "\n",
       "#sk-container-id-1 input.sk-toggleable__control:checked~label.sk-toggleable__label-arrow:before {\n",
       "  content: \"▾\";\n",
       "}\n",
       "\n",
       "/* Pipeline/ColumnTransformer-specific style */\n",
       "\n",
       "#sk-container-id-1 div.sk-label input.sk-toggleable__control:checked~label.sk-toggleable__label {\n",
       "  color: var(--sklearn-color-text);\n",
       "  background-color: var(--sklearn-color-unfitted-level-2);\n",
       "}\n",
       "\n",
       "#sk-container-id-1 div.sk-label.fitted input.sk-toggleable__control:checked~label.sk-toggleable__label {\n",
       "  background-color: var(--sklearn-color-fitted-level-2);\n",
       "}\n",
       "\n",
       "/* Estimator-specific style */\n",
       "\n",
       "/* Colorize estimator box */\n",
       "#sk-container-id-1 div.sk-estimator input.sk-toggleable__control:checked~label.sk-toggleable__label {\n",
       "  /* unfitted */\n",
       "  background-color: var(--sklearn-color-unfitted-level-2);\n",
       "}\n",
       "\n",
       "#sk-container-id-1 div.sk-estimator.fitted input.sk-toggleable__control:checked~label.sk-toggleable__label {\n",
       "  /* fitted */\n",
       "  background-color: var(--sklearn-color-fitted-level-2);\n",
       "}\n",
       "\n",
       "#sk-container-id-1 div.sk-label label.sk-toggleable__label,\n",
       "#sk-container-id-1 div.sk-label label {\n",
       "  /* The background is the default theme color */\n",
       "  color: var(--sklearn-color-text-on-default-background);\n",
       "}\n",
       "\n",
       "/* On hover, darken the color of the background */\n",
       "#sk-container-id-1 div.sk-label:hover label.sk-toggleable__label {\n",
       "  color: var(--sklearn-color-text);\n",
       "  background-color: var(--sklearn-color-unfitted-level-2);\n",
       "}\n",
       "\n",
       "/* Label box, darken color on hover, fitted */\n",
       "#sk-container-id-1 div.sk-label.fitted:hover label.sk-toggleable__label.fitted {\n",
       "  color: var(--sklearn-color-text);\n",
       "  background-color: var(--sklearn-color-fitted-level-2);\n",
       "}\n",
       "\n",
       "/* Estimator label */\n",
       "\n",
       "#sk-container-id-1 div.sk-label label {\n",
       "  font-family: monospace;\n",
       "  font-weight: bold;\n",
       "  display: inline-block;\n",
       "  line-height: 1.2em;\n",
       "}\n",
       "\n",
       "#sk-container-id-1 div.sk-label-container {\n",
       "  text-align: center;\n",
       "}\n",
       "\n",
       "/* Estimator-specific */\n",
       "#sk-container-id-1 div.sk-estimator {\n",
       "  font-family: monospace;\n",
       "  border: 1px dotted var(--sklearn-color-border-box);\n",
       "  border-radius: 0.25em;\n",
       "  box-sizing: border-box;\n",
       "  margin-bottom: 0.5em;\n",
       "  /* unfitted */\n",
       "  background-color: var(--sklearn-color-unfitted-level-0);\n",
       "}\n",
       "\n",
       "#sk-container-id-1 div.sk-estimator.fitted {\n",
       "  /* fitted */\n",
       "  background-color: var(--sklearn-color-fitted-level-0);\n",
       "}\n",
       "\n",
       "/* on hover */\n",
       "#sk-container-id-1 div.sk-estimator:hover {\n",
       "  /* unfitted */\n",
       "  background-color: var(--sklearn-color-unfitted-level-2);\n",
       "}\n",
       "\n",
       "#sk-container-id-1 div.sk-estimator.fitted:hover {\n",
       "  /* fitted */\n",
       "  background-color: var(--sklearn-color-fitted-level-2);\n",
       "}\n",
       "\n",
       "/* Specification for estimator info (e.g. \"i\" and \"?\") */\n",
       "\n",
       "/* Common style for \"i\" and \"?\" */\n",
       "\n",
       ".sk-estimator-doc-link,\n",
       "a:link.sk-estimator-doc-link,\n",
       "a:visited.sk-estimator-doc-link {\n",
       "  float: right;\n",
       "  font-size: smaller;\n",
       "  line-height: 1em;\n",
       "  font-family: monospace;\n",
       "  background-color: var(--sklearn-color-background);\n",
       "  border-radius: 1em;\n",
       "  height: 1em;\n",
       "  width: 1em;\n",
       "  text-decoration: none !important;\n",
       "  margin-left: 1ex;\n",
       "  /* unfitted */\n",
       "  border: var(--sklearn-color-unfitted-level-1) 1pt solid;\n",
       "  color: var(--sklearn-color-unfitted-level-1);\n",
       "}\n",
       "\n",
       ".sk-estimator-doc-link.fitted,\n",
       "a:link.sk-estimator-doc-link.fitted,\n",
       "a:visited.sk-estimator-doc-link.fitted {\n",
       "  /* fitted */\n",
       "  border: var(--sklearn-color-fitted-level-1) 1pt solid;\n",
       "  color: var(--sklearn-color-fitted-level-1);\n",
       "}\n",
       "\n",
       "/* On hover */\n",
       "div.sk-estimator:hover .sk-estimator-doc-link:hover,\n",
       ".sk-estimator-doc-link:hover,\n",
       "div.sk-label-container:hover .sk-estimator-doc-link:hover,\n",
       ".sk-estimator-doc-link:hover {\n",
       "  /* unfitted */\n",
       "  background-color: var(--sklearn-color-unfitted-level-3);\n",
       "  color: var(--sklearn-color-background);\n",
       "  text-decoration: none;\n",
       "}\n",
       "\n",
       "div.sk-estimator.fitted:hover .sk-estimator-doc-link.fitted:hover,\n",
       ".sk-estimator-doc-link.fitted:hover,\n",
       "div.sk-label-container:hover .sk-estimator-doc-link.fitted:hover,\n",
       ".sk-estimator-doc-link.fitted:hover {\n",
       "  /* fitted */\n",
       "  background-color: var(--sklearn-color-fitted-level-3);\n",
       "  color: var(--sklearn-color-background);\n",
       "  text-decoration: none;\n",
       "}\n",
       "\n",
       "/* Span, style for the box shown on hovering the info icon */\n",
       ".sk-estimator-doc-link span {\n",
       "  display: none;\n",
       "  z-index: 9999;\n",
       "  position: relative;\n",
       "  font-weight: normal;\n",
       "  right: .2ex;\n",
       "  padding: .5ex;\n",
       "  margin: .5ex;\n",
       "  width: min-content;\n",
       "  min-width: 20ex;\n",
       "  max-width: 50ex;\n",
       "  color: var(--sklearn-color-text);\n",
       "  box-shadow: 2pt 2pt 4pt #999;\n",
       "  /* unfitted */\n",
       "  background: var(--sklearn-color-unfitted-level-0);\n",
       "  border: .5pt solid var(--sklearn-color-unfitted-level-3);\n",
       "}\n",
       "\n",
       ".sk-estimator-doc-link.fitted span {\n",
       "  /* fitted */\n",
       "  background: var(--sklearn-color-fitted-level-0);\n",
       "  border: var(--sklearn-color-fitted-level-3);\n",
       "}\n",
       "\n",
       ".sk-estimator-doc-link:hover span {\n",
       "  display: block;\n",
       "}\n",
       "\n",
       "/* \"?\"-specific style due to the `<a>` HTML tag */\n",
       "\n",
       "#sk-container-id-1 a.estimator_doc_link {\n",
       "  float: right;\n",
       "  font-size: 1rem;\n",
       "  line-height: 1em;\n",
       "  font-family: monospace;\n",
       "  background-color: var(--sklearn-color-background);\n",
       "  border-radius: 1rem;\n",
       "  height: 1rem;\n",
       "  width: 1rem;\n",
       "  text-decoration: none;\n",
       "  /* unfitted */\n",
       "  color: var(--sklearn-color-unfitted-level-1);\n",
       "  border: var(--sklearn-color-unfitted-level-1) 1pt solid;\n",
       "}\n",
       "\n",
       "#sk-container-id-1 a.estimator_doc_link.fitted {\n",
       "  /* fitted */\n",
       "  border: var(--sklearn-color-fitted-level-1) 1pt solid;\n",
       "  color: var(--sklearn-color-fitted-level-1);\n",
       "}\n",
       "\n",
       "/* On hover */\n",
       "#sk-container-id-1 a.estimator_doc_link:hover {\n",
       "  /* unfitted */\n",
       "  background-color: var(--sklearn-color-unfitted-level-3);\n",
       "  color: var(--sklearn-color-background);\n",
       "  text-decoration: none;\n",
       "}\n",
       "\n",
       "#sk-container-id-1 a.estimator_doc_link.fitted:hover {\n",
       "  /* fitted */\n",
       "  background-color: var(--sklearn-color-fitted-level-3);\n",
       "}\n",
       "</style><div id=\"sk-container-id-1\" class=\"sk-top-container\"><div class=\"sk-text-repr-fallback\"><pre>RandomForestClassifier(max_depth=14, max_features=&#x27;log2&#x27;, min_samples_leaf=4,\n",
       "                       min_samples_split=23, n_estimators=311)</pre><b>In a Jupyter environment, please rerun this cell to show the HTML representation or trust the notebook. <br />On GitHub, the HTML representation is unable to render, please try loading this page with nbviewer.org.</b></div><div class=\"sk-container\" hidden><div class=\"sk-item\"><div class=\"sk-estimator fitted sk-toggleable\"><input class=\"sk-toggleable__control sk-hidden--visually\" id=\"sk-estimator-id-1\" type=\"checkbox\" checked><label for=\"sk-estimator-id-1\" class=\"sk-toggleable__label fitted sk-toggleable__label-arrow fitted\">&nbsp;&nbsp;RandomForestClassifier<a class=\"sk-estimator-doc-link fitted\" rel=\"noreferrer\" target=\"_blank\" href=\"https://scikit-learn.org/1.4/modules/generated/sklearn.ensemble.RandomForestClassifier.html\">?<span>Documentation for RandomForestClassifier</span></a><span class=\"sk-estimator-doc-link fitted\">i<span>Fitted</span></span></label><div class=\"sk-toggleable__content fitted\"><pre>RandomForestClassifier(max_depth=14, max_features=&#x27;log2&#x27;, min_samples_leaf=4,\n",
       "                       min_samples_split=23, n_estimators=311)</pre></div> </div></div></div></div>"
      ],
      "text/plain": [
       "RandomForestClassifier(max_depth=14, max_features='log2', min_samples_leaf=4,\n",
       "                       min_samples_split=23, n_estimators=311)"
      ]
     },
     "execution_count": 23,
     "metadata": {},
     "output_type": "execute_result"
    }
   ],
   "source": [
    "model_rf = RandomForestClassifier(\n",
    "        n_estimators=311,\n",
    "        max_depth=14,\n",
    "        min_samples_split=23,\n",
    "        min_samples_leaf=4,\n",
    "        max_features=\"log2\",\n",
    "        criterion=\"gini\"\n",
    "    )\n",
    "model_rf.fit(X_train_resampled, y_train_resampled)\n"
   ]
  },
  {
   "cell_type": "code",
   "execution_count": 27,
   "metadata": {},
   "outputs": [
    {
     "data": {
      "text/plain": [
       "0.6825935383072743"
      ]
     },
     "execution_count": 27,
     "metadata": {},
     "output_type": "execute_result"
    }
   ],
   "source": [
    "model_rf.score(X_test_scaled, y_test)"
   ]
  },
  {
   "cell_type": "code",
   "execution_count": 33,
   "metadata": {},
   "outputs": [],
   "source": [
    "# save model\n",
    "import pickle\n",
    "with open(\"../models/trained_rf.save\", \"wb\") as f:\n",
    "    pickle.dump(model_rf, f)"
   ]
  },
  {
   "cell_type": "code",
   "execution_count": null,
   "metadata": {},
   "outputs": [],
   "source": [
    "# save model\n",
    "import bentoml\n",
    "bentoml.sklearn.save_model(\"nba_shot_prediction\", model_rf)"
   ]
  },
  {
   "cell_type": "markdown",
   "metadata": {},
   "source": [
    "# Analyse des erreurs"
   ]
  },
  {
   "cell_type": "code",
   "execution_count": null,
   "metadata": {},
   "outputs": [],
   "source": []
  }
 ],
 "metadata": {
  "kernelspec": {
   "display_name": "nba_env",
   "language": "python",
   "name": "python3"
  },
  "language_info": {
   "codemirror_mode": {
    "name": "ipython",
    "version": 3
   },
   "file_extension": ".py",
   "mimetype": "text/x-python",
   "name": "python",
   "nbconvert_exporter": "python",
   "pygments_lexer": "ipython3",
   "version": "3.12.3"
  }
 },
 "nbformat": 4,
 "nbformat_minor": 2
}
