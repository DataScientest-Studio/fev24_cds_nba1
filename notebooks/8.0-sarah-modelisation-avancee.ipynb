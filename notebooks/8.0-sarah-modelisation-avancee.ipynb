{
 "cells": [
  {
   "cell_type": "code",
   "execution_count": 12,
   "metadata": {},
   "outputs": [
    {
     "data": {
      "text/plain": [
       "Index(['Shot Distance', 'Season Type', 'Shot Zone Basic_In The Paint (Non-RA)',\n",
       "       'Shot Zone Basic_Right Corner 3', 'Shot Zone Area_Right Side(R)',\n",
       "       'Shot Zone Range_8-16 ft.', 'at_home', 'PREVIOUS_OFF_MISSED', 'Age',\n",
       "       'ASTM', 'ORBM', 'FT%', 'height', 'weight', 'C', 'SG-PG', 'E_DEF_RATING',\n",
       "       'PCT_AREA', 'DETAILLED_SHOT_TYPE_JUMP SHOT', 'target'],\n",
       "      dtype='object')"
      ]
     },
     "execution_count": 12,
     "metadata": {},
     "output_type": "execute_result"
    }
   ],
   "source": [
    "import numpy as np\n",
    "import xgboost as xgb\n",
    "import optuna\n",
    "from optuna.visualization import plot_optimization_history\n",
    "import pandas as pd \n",
    "from sklearn.metrics import accuracy_score\n",
    "from sklearn.model_selection import train_test_split\n",
    "from sklearn.feature_selection import VarianceThreshold\n",
    "from sklearn.preprocessing import StandardScaler\n",
    "\n",
    "df = pd.read_csv(\"../data/processed/all_shots_final-v2.csv\", index_col=0)\n",
    "df.drop(['PLAYER1_NAME'], axis=1, inplace=True)\n",
    "df.dropna(inplace=True)\n",
    "df.columns"
   ]
  },
  {
   "cell_type": "markdown",
   "metadata": {},
   "source": [
    "## Séparation des données"
   ]
  },
  {
   "cell_type": "code",
   "execution_count": 6,
   "metadata": {},
   "outputs": [],
   "source": [
    "# prepare data for modeling   \n",
    "X = df.drop('target', axis = 1)\n",
    "y = df.target\n",
    "\n",
    "X_train, X_test, y_train, y_test = train_test_split(X, y, test_size=0.20, stratify=y, shuffle=True)"
   ]
  },
  {
   "cell_type": "markdown",
   "metadata": {},
   "source": [
    "## Standardisation et réduction de dimension"
   ]
  },
  {
   "cell_type": "code",
   "execution_count": 7,
   "metadata": {},
   "outputs": [],
   "source": [
    "scaler = StandardScaler()\n",
    "X_train_scaled = scaler.fit_transform(X_train)\n",
    "X_test_scaled = scaler.transform(X_test)\n",
    "\n",
    "df_scaled = pd.DataFrame(X_train_scaled, columns=X_train.columns)\n",
    "df_scaled['target'] = y_train\n",
    "\n",
    "# réduction de dimensions\n",
    "sel_var = VarianceThreshold(0.0001)\n",
    "X_train_scaled = sel_var.fit_transform(X_train_scaled, y_train)\n",
    "X_test_scaled = sel_var.transform(X_test_scaled)"
   ]
  },
  {
   "cell_type": "markdown",
   "metadata": {},
   "source": [
    "## XGBoost"
   ]
  },
  {
   "cell_type": "code",
   "execution_count": 11,
   "metadata": {},
   "outputs": [
    {
     "name": "stderr",
     "output_type": "stream",
     "text": [
      "[I 2024-09-16 19:00:17,230] A new study created in memory with name: no-name-9b889ee0-0066-473d-b487-23e32383c27b\n",
      "[I 2024-09-16 19:00:18,112] Trial 0 finished with value: 0.5645644595240594 and parameters: {'booster': 'dart', 'lambda': 0.15557153652820127, 'alpha': 2.6755285060640746e-05, 'subsample': 0.602952368420502, 'colsample_bytree': 0.8826107427536958, 'max_depth': 5, 'min_child_weight': 10, 'eta': 1.7336696389530763e-08, 'gamma': 2.35501581163008e-05, 'grow_policy': 'lossguide', 'sample_type': 'weighted', 'normalize_type': 'forest', 'rate_drop': 0.2145676327389237, 'skip_drop': 0.0016388768254819736}. Best is trial 0 with value: 0.5645644595240594.\n",
      "[I 2024-09-16 19:00:18,695] Trial 1 finished with value: 0.5645644595240594 and parameters: {'booster': 'dart', 'lambda': 0.19858625246627276, 'alpha': 0.00115501571377454, 'subsample': 0.26357344119025666, 'colsample_bytree': 0.9340508917273367, 'max_depth': 3, 'min_child_weight': 4, 'eta': 0.00016896121107245156, 'gamma': 0.0404005520106074, 'grow_policy': 'lossguide', 'sample_type': 'uniform', 'normalize_type': 'tree', 'rate_drop': 1.6424337199958315e-05, 'skip_drop': 2.895025447144066e-05}. Best is trial 0 with value: 0.5645644595240594.\n",
      "[I 2024-09-16 19:00:20,326] Trial 2 finished with value: 0.5645644595240594 and parameters: {'booster': 'dart', 'lambda': 4.736263569430662e-05, 'alpha': 0.0007437857624305788, 'subsample': 0.6798583081781973, 'colsample_bytree': 0.9711442801418797, 'max_depth': 9, 'min_child_weight': 10, 'eta': 0.0040355993349634545, 'gamma': 0.9345328314124995, 'grow_policy': 'depthwise', 'sample_type': 'uniform', 'normalize_type': 'tree', 'rate_drop': 5.388464542527631e-06, 'skip_drop': 1.233433677597932e-07}. Best is trial 0 with value: 0.5645644595240594.\n",
      "[I 2024-09-16 19:00:20,502] Trial 3 finished with value: 0.6110508703813822 and parameters: {'booster': 'gblinear', 'lambda': 8.3777909873054e-06, 'alpha': 0.12284328504259612, 'subsample': 0.9233989235116469, 'colsample_bytree': 0.7571521838048887}. Best is trial 3 with value: 0.6110508703813822.\n",
      "[I 2024-09-16 19:00:21,942] Trial 4 finished with value: 0.5645644595240594 and parameters: {'booster': 'gbtree', 'lambda': 1.7775628997805606e-07, 'alpha': 1.9623591786531578e-05, 'subsample': 0.7334818846006623, 'colsample_bytree': 0.984211306223636, 'max_depth': 9, 'min_child_weight': 4, 'eta': 3.342217129203569e-07, 'gamma': 0.0020636650448478113, 'grow_policy': 'lossguide'}. Best is trial 3 with value: 0.6110508703813822.\n",
      "[I 2024-09-16 19:00:22,105] Trial 5 finished with value: 0.6746301024869705 and parameters: {'booster': 'gblinear', 'lambda': 1.5256054759476333e-05, 'alpha': 1.0262379107458528e-06, 'subsample': 0.6853266823081734, 'colsample_bytree': 0.7863436864031135}. Best is trial 5 with value: 0.6746301024869705.\n",
      "[I 2024-09-16 19:00:23,157] Trial 6 finished with value: 0.5645644595240594 and parameters: {'booster': 'dart', 'lambda': 0.007053480580525486, 'alpha': 0.006516163067481744, 'subsample': 0.3624395121522322, 'colsample_bytree': 0.8381459132589717, 'max_depth': 7, 'min_child_weight': 5, 'eta': 8.657704197673118e-06, 'gamma': 0.16758659380686064, 'grow_policy': 'lossguide', 'sample_type': 'uniform', 'normalize_type': 'forest', 'rate_drop': 0.019853185243304487, 'skip_drop': 0.00012712844895908945}. Best is trial 5 with value: 0.6746301024869705.\n",
      "[I 2024-09-16 19:00:23,305] Trial 7 finished with value: 0.6716336119952896 and parameters: {'booster': 'gblinear', 'lambda': 0.01065737607915833, 'alpha': 0.0858444431760696, 'subsample': 0.6718697345810144, 'colsample_bytree': 0.9967606631813206}. Best is trial 5 with value: 0.6746301024869705.\n",
      "[I 2024-09-16 19:00:24,454] Trial 8 finished with value: 0.5645644595240594 and parameters: {'booster': 'gbtree', 'lambda': 6.600447849986178e-08, 'alpha': 0.0008766159684043012, 'subsample': 0.3246259811206675, 'colsample_bytree': 0.7768632113785245, 'max_depth': 9, 'min_child_weight': 5, 'eta': 0.0038136473006273592, 'gamma': 0.025720789832037343, 'grow_policy': 'depthwise'}. Best is trial 5 with value: 0.6746301024869705.\n",
      "[I 2024-09-16 19:00:25,565] Trial 9 finished with value: 0.5645644595240594 and parameters: {'booster': 'gbtree', 'lambda': 1.2277381027953821e-08, 'alpha': 0.6480573022651196, 'subsample': 0.6477324308039716, 'colsample_bytree': 0.9685748477289358, 'max_depth': 7, 'min_child_weight': 2, 'eta': 3.4684875153930516e-08, 'gamma': 0.00955257092382703, 'grow_policy': 'lossguide'}. Best is trial 5 with value: 0.6746301024869705.\n",
      "[I 2024-09-16 19:00:25,758] Trial 10 finished with value: 0.6745484860144344 and parameters: {'booster': 'gblinear', 'lambda': 2.93796122345736e-06, 'alpha': 4.338072735928041e-08, 'subsample': 0.992228028535515, 'colsample_bytree': 0.7126123053659542}. Best is trial 5 with value: 0.6746301024869705.\n",
      "[I 2024-09-16 19:00:25,950] Trial 11 finished with value: 0.6745368265183579 and parameters: {'booster': 'gblinear', 'lambda': 2.958709415556389e-06, 'alpha': 4.675145568740229e-08, 'subsample': 0.8900105003551444, 'colsample_bytree': 0.703606753942083}. Best is trial 5 with value: 0.6746301024869705.\n",
      "[I 2024-09-16 19:00:26,140] Trial 12 finished with value: 0.6746650809752003 and parameters: {'booster': 'gblinear', 'lambda': 0.00076962486919096, 'alpha': 6.124972364267523e-08, 'subsample': 0.45764120336139946, 'colsample_bytree': 0.7046798176992166}. Best is trial 12 with value: 0.6746650809752003.\n",
      "[I 2024-09-16 19:00:26,350] Trial 13 finished with value: 0.6745368265183579 and parameters: {'booster': 'gblinear', 'lambda': 0.0004471206297614874, 'alpha': 9.46851672898689e-07, 'subsample': 0.4893707655914069, 'colsample_bytree': 0.7876130269678938}. Best is trial 12 with value: 0.6746650809752003.\n",
      "[I 2024-09-16 19:00:26,673] Trial 14 finished with value: 0.6745135075262048 and parameters: {'booster': 'gblinear', 'lambda': 0.0009879280576762695, 'alpha': 9.543750281098148e-07, 'subsample': 0.45760975883539834, 'colsample_bytree': 0.8313260216731054}. Best is trial 12 with value: 0.6746650809752003.\n",
      "[I 2024-09-16 19:00:27,013] Trial 15 finished with value: 0.6748049949281192 and parameters: {'booster': 'gblinear', 'lambda': 5.648226599671176e-05, 'alpha': 8.823660565624242e-07, 'subsample': 0.5024862415037743, 'colsample_bytree': 0.7444657307691874}. Best is trial 15 with value: 0.6748049949281192.\n",
      "[I 2024-09-16 19:00:27,341] Trial 16 finished with value: 0.6745951239987408 and parameters: {'booster': 'gblinear', 'lambda': 0.0002896848993194014, 'alpha': 1.7035689131433654e-07, 'subsample': 0.5041263833072, 'colsample_bytree': 0.7406902015586769}. Best is trial 15 with value: 0.6748049949281192.\n",
      "[I 2024-09-16 19:00:27,695] Trial 17 finished with value: 0.6743852530693624 and parameters: {'booster': 'gblinear', 'lambda': 0.00497578161914857, 'alpha': 1.0643553388249258e-08, 'subsample': 0.4088167504159663, 'colsample_bytree': 0.7344405573262025}. Best is trial 15 with value: 0.6748049949281192.\n",
      "[I 2024-09-16 19:00:28,006] Trial 18 finished with value: 0.6745834645026642 and parameters: {'booster': 'gblinear', 'lambda': 6.906038106656343e-05, 'alpha': 9.80354354895897e-06, 'subsample': 0.5495296408163085, 'colsample_bytree': 0.8129449892912722}. Best is trial 15 with value: 0.6748049949281192.\n",
      "[I 2024-09-16 19:00:28,897] Trial 19 finished with value: 0.679690323784206 and parameters: {'booster': 'gbtree', 'lambda': 7.2674926684083e-07, 'alpha': 2.723844014960933e-07, 'subsample': 0.24026480306357378, 'colsample_bytree': 0.8837971023479155, 'max_depth': 3, 'min_child_weight': 8, 'eta': 0.6307877373352008, 'gamma': 2.1603444014241636e-08, 'grow_policy': 'depthwise'}. Best is trial 19 with value: 0.679690323784206.\n",
      "[I 2024-09-16 19:00:29,797] Trial 20 finished with value: 0.6791889654529131 and parameters: {'booster': 'gbtree', 'lambda': 5.211037485738766e-07, 'alpha': 2.1698675823347687e-06, 'subsample': 0.21410538851533045, 'colsample_bytree': 0.877995271198283, 'max_depth': 3, 'min_child_weight': 8, 'eta': 0.5095218254296088, 'gamma': 1.956248093009034e-08, 'grow_policy': 'depthwise'}. Best is trial 19 with value: 0.679690323784206.\n",
      "[I 2024-09-16 19:00:30,660] Trial 21 finished with value: 0.674979887369268 and parameters: {'booster': 'gbtree', 'lambda': 2.888537125010617e-07, 'alpha': 3.7897323160317974e-06, 'subsample': 0.20724249555502755, 'colsample_bytree': 0.8843634497483792, 'max_depth': 3, 'min_child_weight': 8, 'eta': 0.990222713247189, 'gamma': 1.509714646965116e-08, 'grow_policy': 'depthwise'}. Best is trial 19 with value: 0.679690323784206.\n",
      "[I 2024-09-16 19:00:31,506] Trial 22 finished with value: 0.6774633600335793 and parameters: {'booster': 'gbtree', 'lambda': 3.8832351503088014e-07, 'alpha': 5.727103801128195e-06, 'subsample': 0.20342968903664818, 'colsample_bytree': 0.8847906603901432, 'max_depth': 3, 'min_child_weight': 8, 'eta': 0.6516532993954741, 'gamma': 1.2877699811707443e-08, 'grow_policy': 'depthwise'}. Best is trial 19 with value: 0.679690323784206.\n",
      "[I 2024-09-16 19:00:32,333] Trial 23 finished with value: 0.6766005573239124 and parameters: {'booster': 'gbtree', 'lambda': 9.37090333791209e-07, 'alpha': 0.00011478769204742743, 'subsample': 0.23230998012227483, 'colsample_bytree': 0.8724675206727052, 'max_depth': 3, 'min_child_weight': 8, 'eta': 0.9581763099890334, 'gamma': 1.4370790598557388e-08, 'grow_policy': 'depthwise'}. Best is trial 19 with value: 0.679690323784206.\n",
      "[I 2024-09-16 19:00:33,570] Trial 24 finished with value: 0.6726829666421817 and parameters: {'booster': 'gbtree', 'lambda': 3.143403067790891e-08, 'alpha': 2.659761881041828e-07, 'subsample': 0.30007313282251263, 'colsample_bytree': 0.9177106199195381, 'max_depth': 5, 'min_child_weight': 8, 'eta': 0.060153623106970144, 'gamma': 5.315769670783148e-07, 'grow_policy': 'depthwise'}. Best is trial 19 with value: 0.679690323784206.\n",
      "[I 2024-09-16 19:00:34,545] Trial 25 finished with value: 0.6595427145638766 and parameters: {'booster': 'gbtree', 'lambda': 5.401460204531296e-07, 'alpha': 0.00013597720439993962, 'subsample': 0.36811804823648064, 'colsample_bytree': 0.9094968877630373, 'max_depth': 3, 'min_child_weight': 7, 'eta': 0.04161805112746842, 'gamma': 4.2545068324504915e-07, 'grow_policy': 'depthwise'}. Best is trial 19 with value: 0.679690323784206.\n",
      "[I 2024-09-16 19:00:35,742] Trial 26 finished with value: 0.676670514300372 and parameters: {'booster': 'gbtree', 'lambda': 6.976099606744543e-08, 'alpha': 4.935639085505715e-06, 'subsample': 0.20450636676918799, 'colsample_bytree': 0.8606128746941805, 'max_depth': 5, 'min_child_weight': 9, 'eta': 0.07970914698436184, 'gamma': 3.677536013171013e-07, 'grow_policy': 'depthwise'}. Best is trial 19 with value: 0.679690323784206.\n",
      "[I 2024-09-16 19:00:36,641] Trial 27 finished with value: 0.6773234460806604 and parameters: {'booster': 'gbtree', 'lambda': 1.9251570936821642e-06, 'alpha': 4.2350370121526546e-05, 'subsample': 0.2849479563769415, 'colsample_bytree': 0.9042641732652021, 'max_depth': 3, 'min_child_weight': 7, 'eta': 0.5888671328426901, 'gamma': 7.638613100273445e-08, 'grow_policy': 'depthwise'}. Best is trial 19 with value: 0.679690323784206.\n",
      "[I 2024-09-16 19:00:37,980] Trial 28 finished with value: 0.5645644595240594 and parameters: {'booster': 'gbtree', 'lambda': 1.0192424774784841e-08, 'alpha': 3.000277069874986e-06, 'subsample': 0.34677485334194447, 'colsample_bytree': 0.9488961517001843, 'max_depth': 5, 'min_child_weight': 7, 'eta': 0.005632888311526819, 'gamma': 5.9712928790172016e-06, 'grow_policy': 'depthwise'}. Best is trial 19 with value: 0.679690323784206.\n",
      "[I 2024-09-16 19:00:38,791] Trial 29 finished with value: 0.6764373243788403 and parameters: {'booster': 'gbtree', 'lambda': 1.488200741558702e-05, 'alpha': 2.6493268096144927e-07, 'subsample': 0.2664071931139359, 'colsample_bytree': 0.8907084657945726, 'max_depth': 3, 'min_child_weight': 9, 'eta': 0.07264305245807746, 'gamma': 1.2893096794168039e-08, 'grow_policy': 'depthwise'}. Best is trial 19 with value: 0.679690323784206.\n",
      "[I 2024-09-16 19:00:39,671] Trial 30 finished with value: 0.5645644595240594 and parameters: {'booster': 'gbtree', 'lambda': 1.7221185727142098e-07, 'alpha': 3.6982841705016835e-05, 'subsample': 0.4075249454627481, 'colsample_bytree': 0.813112171312347, 'max_depth': 3, 'min_child_weight': 9, 'eta': 0.00020969339215117484, 'gamma': 4.694280597877466e-06, 'grow_policy': 'depthwise'}. Best is trial 19 with value: 0.679690323784206.\n",
      "[I 2024-09-16 19:00:40,558] Trial 31 finished with value: 0.679527090839134 and parameters: {'booster': 'gbtree', 'lambda': 1.6144517003954279e-06, 'alpha': 6.207540327577895e-05, 'subsample': 0.287902661633695, 'colsample_bytree': 0.8969382948048696, 'max_depth': 3, 'min_child_weight': 7, 'eta': 0.7364749855527184, 'gamma': 8.0798607983966e-08, 'grow_policy': 'depthwise'}. Best is trial 19 with value: 0.679690323784206.\n",
      "[I 2024-09-16 19:00:41,379] Trial 32 finished with value: 0.6768337472454441 and parameters: {'booster': 'gbtree', 'lambda': 9.850350672855506e-07, 'alpha': 0.0001948489328886279, 'subsample': 0.2487956876941719, 'colsample_bytree': 0.9327166343221805, 'max_depth': 3, 'min_child_weight': 6, 'eta': 0.29990729577242864, 'gamma': 1.292046483980959e-07, 'grow_policy': 'depthwise'}. Best is trial 19 with value: 0.679690323784206.\n",
      "[I 2024-09-16 19:00:42,391] Trial 33 finished with value: 0.5645644595240594 and parameters: {'booster': 'dart', 'lambda': 6.51097257260308e-06, 'alpha': 7.039737347214455e-06, 'subsample': 0.20121297731408966, 'colsample_bytree': 0.8639624508353478, 'max_depth': 3, 'min_child_weight': 8, 'eta': 0.0157000509431563, 'gamma': 5.928102488574596e-08, 'grow_policy': 'depthwise', 'sample_type': 'weighted', 'normalize_type': 'forest', 'rate_drop': 1.137469845593116e-08, 'skip_drop': 0.09108244849074262}. Best is trial 19 with value: 0.679690323784206.\n",
      "[I 2024-09-16 19:00:43,735] Trial 34 finished with value: 0.6790373920039176 and parameters: {'booster': 'gbtree', 'lambda': 0.8995889666384796, 'alpha': 0.003921098528707365, 'subsample': 0.27566271318827545, 'colsample_bytree': 0.8894922369239564, 'max_depth': 5, 'min_child_weight': 7, 'eta': 0.17822676287348294, 'gamma': 4.7036818085271245e-08, 'grow_policy': 'depthwise'}. Best is trial 19 with value: 0.679690323784206.\n",
      "[I 2024-09-16 19:00:45,094] Trial 35 finished with value: 0.6798885352175079 and parameters: {'booster': 'gbtree', 'lambda': 0.4288204116295389, 'alpha': 0.003902515014094409, 'subsample': 0.2965332527779567, 'colsample_bytree': 0.8487077367552618, 'max_depth': 5, 'min_child_weight': 6, 'eta': 0.1544430554580032, 'gamma': 2.1284707510455716e-06, 'grow_policy': 'depthwise'}. Best is trial 35 with value: 0.6798885352175079.\n",
      "[I 2024-09-16 19:00:46,697] Trial 36 finished with value: 0.5723413434071379 and parameters: {'booster': 'dart', 'lambda': 2.0794314533990438e-05, 'alpha': 0.0027754864541107765, 'subsample': 0.4003197437782513, 'colsample_bytree': 0.8299676894808217, 'max_depth': 5, 'min_child_weight': 6, 'eta': 0.022891737743652076, 'gamma': 2.268577850984295e-06, 'grow_policy': 'depthwise', 'sample_type': 'weighted', 'normalize_type': 'tree', 'rate_drop': 2.062364228924998e-08, 'skip_drop': 1.8763837258848547e-08}. Best is trial 35 with value: 0.6798885352175079.\n",
      "[I 2024-09-16 19:00:48,478] Trial 37 finished with value: 0.5645644595240594 and parameters: {'booster': 'gbtree', 'lambda': 0.08159968330364856, 'alpha': 0.009975770484390942, 'subsample': 0.3146383338798826, 'colsample_bytree': 0.8520177422088387, 'max_depth': 7, 'min_child_weight': 6, 'eta': 0.0006856265619916315, 'gamma': 1.3413775371729698e-06, 'grow_policy': 'depthwise'}. Best is trial 35 with value: 0.6798885352175079.\n",
      "[I 2024-09-16 19:00:49,870] Trial 38 finished with value: 0.6806580619585622 and parameters: {'booster': 'gbtree', 'lambda': 0.0787284757927781, 'alpha': 0.03408885556245497, 'subsample': 0.7862530343955838, 'colsample_bytree': 0.9347401757716882, 'max_depth': 5, 'min_child_weight': 5, 'eta': 0.17507982930660426, 'gamma': 0.0002422405726535881, 'grow_policy': 'depthwise'}. Best is trial 38 with value: 0.6806580619585622.\n",
      "[I 2024-09-16 19:00:51,584] Trial 39 finished with value: 0.5645644595240594 and parameters: {'booster': 'dart', 'lambda': 0.07812657843047958, 'alpha': 0.03781772838809073, 'subsample': 0.77868485745152, 'colsample_bytree': 0.9437488756987449, 'max_depth': 5, 'min_child_weight': 5, 'eta': 1.4883407504200085e-05, 'gamma': 0.00034179664545147103, 'grow_policy': 'depthwise', 'sample_type': 'weighted', 'normalize_type': 'forest', 'rate_drop': 0.0014526469477113238, 'skip_drop': 0.34291112216085434}. Best is trial 38 with value: 0.6806580619585622.\n",
      "[I 2024-09-16 19:00:53,510] Trial 40 finished with value: 0.6811477607937785 and parameters: {'booster': 'gbtree', 'lambda': 0.7546829176897849, 'alpha': 0.00036912057791001673, 'subsample': 0.7911320179106832, 'colsample_bytree': 0.9266818011634453, 'max_depth': 7, 'min_child_weight': 4, 'eta': 0.1488956384269751, 'gamma': 9.714785532108124e-05, 'grow_policy': 'depthwise'}. Best is trial 40 with value: 0.6811477607937785.\n",
      "[I 2024-09-16 19:00:55,435] Trial 41 finished with value: 0.6823720078818194 and parameters: {'booster': 'gbtree', 'lambda': 0.9390145524648489, 'alpha': 0.025410709651797907, 'subsample': 0.8081228525563927, 'colsample_bytree': 0.9246624245643007, 'max_depth': 7, 'min_child_weight': 4, 'eta': 0.17195167002647488, 'gamma': 0.0001133022939305121, 'grow_policy': 'depthwise'}. Best is trial 41 with value: 0.6823720078818194.\n",
      "[I 2024-09-16 19:00:57,414] Trial 42 finished with value: 0.6797835997528187 and parameters: {'booster': 'gbtree', 'lambda': 0.7292634588880805, 'alpha': 0.017763881515022624, 'subsample': 0.8025254841875029, 'colsample_bytree': 0.9658595997781307, 'max_depth': 7, 'min_child_weight': 3, 'eta': 0.10859308027220199, 'gamma': 0.00015404269237682592, 'grow_policy': 'depthwise'}. Best is trial 41 with value: 0.6823720078818194.\n",
      "[I 2024-09-16 19:00:59,386] Trial 43 finished with value: 0.6807280189350217 and parameters: {'booster': 'gbtree', 'lambda': 0.7595772752237736, 'alpha': 0.02337210158207361, 'subsample': 0.8163536755708546, 'colsample_bytree': 0.9674416759918997, 'max_depth': 7, 'min_child_weight': 3, 'eta': 0.14789890914740658, 'gamma': 5.9155804803257036e-05, 'grow_policy': 'depthwise'}. Best is trial 41 with value: 0.6823720078818194.\n",
      "[I 2024-09-16 19:01:01,351] Trial 44 finished with value: 0.566931337227605 and parameters: {'booster': 'gbtree', 'lambda': 0.24747540391620065, 'alpha': 0.23890994650276245, 'subsample': 0.8505544612644418, 'colsample_bytree': 0.9945041475597586, 'max_depth': 7, 'min_child_weight': 4, 'eta': 0.0155844116159625, 'gamma': 2.579244286529635e-05, 'grow_policy': 'depthwise'}. Best is trial 41 with value: 0.6823720078818194.\n",
      "[I 2024-09-16 19:01:03,358] Trial 45 finished with value: 0.6819289470309093 and parameters: {'booster': 'gbtree', 'lambda': 0.029092290842743243, 'alpha': 0.0006424578185625338, 'subsample': 0.7400655882629243, 'colsample_bytree': 0.9259104998627279, 'max_depth': 7, 'min_child_weight': 3, 'eta': 0.1665208101358589, 'gamma': 0.0007326040704618016, 'grow_policy': 'lossguide'}. Best is trial 41 with value: 0.6823720078818194.\n",
      "[I 2024-09-16 19:01:05,346] Trial 46 finished with value: 0.5645644595240594 and parameters: {'booster': 'gbtree', 'lambda': 0.028642613090204484, 'alpha': 0.00038651041351799525, 'subsample': 0.7291655594634773, 'colsample_bytree': 0.927452313397737, 'max_depth': 7, 'min_child_weight': 3, 'eta': 0.0010319964633238733, 'gamma': 0.0005719652347391611, 'grow_policy': 'lossguide'}. Best is trial 41 with value: 0.6823720078818194.\n",
      "[I 2024-09-16 19:01:07,223] Trial 47 finished with value: 0.5645644595240594 and parameters: {'booster': 'gbtree', 'lambda': 0.13867591814465813, 'alpha': 0.03952610879002554, 'subsample': 0.9482589886049262, 'colsample_bytree': 0.9594086252234659, 'max_depth': 7, 'min_child_weight': 3, 'eta': 0.007827558631313507, 'gamma': 3.1457629939334556e-05, 'grow_policy': 'lossguide'}. Best is trial 41 with value: 0.6823720078818194.\n",
      "[I 2024-09-16 19:01:10,147] Trial 48 finished with value: 0.6838644233796215 and parameters: {'booster': 'dart', 'lambda': 0.030615297168959395, 'alpha': 0.0015257927454152308, 'subsample': 0.8135837597992546, 'colsample_bytree': 0.9463547318387557, 'max_depth': 9, 'min_child_weight': 2, 'eta': 0.20585633696084846, 'gamma': 0.00180093521637705, 'grow_policy': 'lossguide', 'sample_type': 'uniform', 'normalize_type': 'tree', 'rate_drop': 8.810015707610717e-07, 'skip_drop': 2.235325676481851e-06}. Best is trial 48 with value: 0.6838644233796215.\n",
      "[I 2024-09-16 19:01:13,078] Trial 49 finished with value: 0.5645644595240594 and parameters: {'booster': 'dart', 'lambda': 0.01299956751695749, 'alpha': 0.0009954095999388597, 'subsample': 0.8476046309611948, 'colsample_bytree': 0.9821343984331216, 'max_depth': 9, 'min_child_weight': 2, 'eta': 0.001806261249128199, 'gamma': 0.0011985056484969847, 'grow_policy': 'lossguide', 'sample_type': 'uniform', 'normalize_type': 'tree', 'rate_drop': 7.329203078020086e-07, 'skip_drop': 1.6944500468421965e-06}. Best is trial 48 with value: 0.6838644233796215.\n",
      "[I 2024-09-16 19:01:16,104] Trial 50 finished with value: 0.6198887684074295 and parameters: {'booster': 'dart', 'lambda': 0.004035260708800217, 'alpha': 0.0019171428233372833, 'subsample': 0.7183445684222738, 'colsample_bytree': 0.9545435040910176, 'max_depth': 9, 'min_child_weight': 2, 'eta': 0.031567681735756845, 'gamma': 6.734744595780189e-05, 'grow_policy': 'lossguide', 'sample_type': 'uniform', 'normalize_type': 'tree', 'rate_drop': 3.255196502880459e-07, 'skip_drop': 2.110023757643105e-06}. Best is trial 48 with value: 0.6838644233796215.\n",
      "[I 2024-09-16 19:01:18,355] Trial 51 finished with value: 0.6817890330779903 and parameters: {'booster': 'dart', 'lambda': 0.032180624671430375, 'alpha': 0.0004015352472733835, 'subsample': 0.7737012114649459, 'colsample_bytree': 0.9220548325804139, 'max_depth': 7, 'min_child_weight': 4, 'eta': 0.17870361610117144, 'gamma': 0.004713626242725944, 'grow_policy': 'lossguide', 'sample_type': 'uniform', 'normalize_type': 'tree', 'rate_drop': 0.00023970846003983467, 'skip_drop': 0.003542679783218246}. Best is trial 48 with value: 0.6838644233796215.\n",
      "[I 2024-09-16 19:01:20,760] Trial 52 finished with value: 0.682325369897513 and parameters: {'booster': 'dart', 'lambda': 0.029202229254391403, 'alpha': 0.00042496974388304146, 'subsample': 0.6428095579610824, 'colsample_bytree': 0.9777448737376334, 'max_depth': 7, 'min_child_weight': 4, 'eta': 0.24444245997579336, 'gamma': 0.004069133640506244, 'grow_policy': 'lossguide', 'sample_type': 'uniform', 'normalize_type': 'tree', 'rate_drop': 0.0003919718888146087, 'skip_drop': 0.0023548023629192437}. Best is trial 48 with value: 0.6838644233796215.\n",
      "[I 2024-09-16 19:01:23,199] Trial 53 finished with value: 0.682465283850432 and parameters: {'booster': 'dart', 'lambda': 0.034411001819107834, 'alpha': 0.00039533211963119804, 'subsample': 0.615538290707663, 'colsample_bytree': 0.9186618152355863, 'max_depth': 7, 'min_child_weight': 4, 'eta': 0.2629695486661791, 'gamma': 0.004366964379391891, 'grow_policy': 'lossguide', 'sample_type': 'uniform', 'normalize_type': 'tree', 'rate_drop': 0.0004899564299551144, 'skip_drop': 0.003993833538149283}. Best is trial 48 with value: 0.6838644233796215.\n",
      "[I 2024-09-16 19:01:26,343] Trial 54 finished with value: 0.6825702193151212 and parameters: {'booster': 'dart', 'lambda': 0.03188509811775658, 'alpha': 0.00039234834493890046, 'subsample': 0.5961677382985872, 'colsample_bytree': 0.9788421557885305, 'max_depth': 9, 'min_child_weight': 4, 'eta': 0.3100703358759315, 'gamma': 0.0054987355572859355, 'grow_policy': 'lossguide', 'sample_type': 'uniform', 'normalize_type': 'tree', 'rate_drop': 0.00034409753466998095, 'skip_drop': 0.004625968768101443}. Best is trial 48 with value: 0.6838644233796215.\n",
      "[I 2024-09-16 19:01:29,496] Trial 55 finished with value: 0.6818589900544498 and parameters: {'booster': 'dart', 'lambda': 0.0021148556393290065, 'alpha': 0.001507030933153602, 'subsample': 0.6314949098466581, 'colsample_bytree': 0.9813263234625367, 'max_depth': 9, 'min_child_weight': 3, 'eta': 0.3430154432850121, 'gamma': 0.04760215240054207, 'grow_policy': 'lossguide', 'sample_type': 'uniform', 'normalize_type': 'tree', 'rate_drop': 0.0016185356821937667, 'skip_drop': 0.006454720274836729}. Best is trial 48 with value: 0.6838644233796215.\n",
      "[I 2024-09-16 19:01:32,578] Trial 56 finished with value: 0.6460176991150443 and parameters: {'booster': 'dart', 'lambda': 0.01747946790761493, 'alpha': 1.7977625846179593e-05, 'subsample': 0.5865020254176015, 'colsample_bytree': 0.9428481795938081, 'max_depth': 9, 'min_child_weight': 4, 'eta': 0.038172168668415406, 'gamma': 0.005801521582761738, 'grow_policy': 'lossguide', 'sample_type': 'uniform', 'normalize_type': 'tree', 'rate_drop': 0.00018069663218595782, 'skip_drop': 0.000723611408900154}. Best is trial 48 with value: 0.6838644233796215.\n",
      "[I 2024-09-16 19:01:35,765] Trial 57 finished with value: 0.5645644595240594 and parameters: {'booster': 'dart', 'lambda': 0.034035922547222666, 'alpha': 0.007854871867551528, 'subsample': 0.6979047573378143, 'colsample_bytree': 0.9927250066763427, 'max_depth': 9, 'min_child_weight': 4, 'eta': 2.7600174741911765e-06, 'gamma': 0.001834749237916522, 'grow_policy': 'lossguide', 'sample_type': 'uniform', 'normalize_type': 'tree', 'rate_drop': 0.002435257537615907, 'skip_drop': 0.02260220022484258}. Best is trial 48 with value: 0.6838644233796215.\n",
      "[I 2024-09-16 19:01:38,923] Trial 58 finished with value: 0.6830599181503375 and parameters: {'booster': 'dart', 'lambda': 0.0022390293266619696, 'alpha': 0.0005674883737025418, 'subsample': 0.5712135800038258, 'colsample_bytree': 0.9721061898261454, 'max_depth': 9, 'min_child_weight': 5, 'eta': 0.30467515590783883, 'gamma': 0.02062278619415028, 'grow_policy': 'lossguide', 'sample_type': 'uniform', 'normalize_type': 'tree', 'rate_drop': 3.1165829687149175e-05, 'skip_drop': 0.0003200331679316947}. Best is trial 48 with value: 0.6838644233796215.\n",
      "[I 2024-09-16 19:01:42,031] Trial 59 finished with value: 0.6823486888896662 and parameters: {'booster': 'dart', 'lambda': 0.002200533728117134, 'alpha': 0.00019871447610014215, 'subsample': 0.5614678992090537, 'colsample_bytree': 0.9752062635991745, 'max_depth': 9, 'min_child_weight': 5, 'eta': 0.338151820996857, 'gamma': 0.023576994991962936, 'grow_policy': 'lossguide', 'sample_type': 'uniform', 'normalize_type': 'tree', 'rate_drop': 4.5616012195941615e-05, 'skip_drop': 9.94433278247224e-05}. Best is trial 48 with value: 0.6838644233796215.\n",
      "[I 2024-09-16 19:01:45,075] Trial 60 finished with value: 0.682022222999522 and parameters: {'booster': 'dart', 'lambda': 0.0022300430068885944, 'alpha': 6.831139045845682e-05, 'subsample': 0.5504212023047529, 'colsample_bytree': 0.9574472050160764, 'max_depth': 9, 'min_child_weight': 5, 'eta': 0.3963546140411614, 'gamma': 0.20977188897078625, 'grow_policy': 'lossguide', 'sample_type': 'uniform', 'normalize_type': 'tree', 'rate_drop': 2.0602652099659322e-05, 'skip_drop': 0.00012114004769065707}. Best is trial 48 with value: 0.6838644233796215.\n",
      "[I 2024-09-16 19:01:48,240] Trial 61 finished with value: 0.5645644595240594 and parameters: {'booster': 'dart', 'lambda': 0.0001799995784677768, 'alpha': 0.00022846713340155051, 'subsample': 0.6005014716026588, 'colsample_bytree': 0.9747579906794824, 'max_depth': 9, 'min_child_weight': 5, 'eta': 1.9713611548412433e-08, 'gamma': 0.016150171674316326, 'grow_policy': 'lossguide', 'sample_type': 'uniform', 'normalize_type': 'tree', 'rate_drop': 8.448557884374425e-05, 'skip_drop': 0.0009112665126402494}. Best is trial 48 with value: 0.6838644233796215.\n",
      "[I 2024-09-16 19:01:51,398] Trial 62 finished with value: 0.6752480557790292 and parameters: {'booster': 'dart', 'lambda': 0.007451280369199598, 'alpha': 0.0007296951973713467, 'subsample': 0.6361581931342319, 'colsample_bytree': 0.9794680644520413, 'max_depth': 9, 'min_child_weight': 4, 'eta': 0.06454123358285838, 'gamma': 0.07776371772459707, 'grow_policy': 'lossguide', 'sample_type': 'uniform', 'normalize_type': 'tree', 'rate_drop': 0.00024107437724404498, 'skip_drop': 0.016139281344877004}. Best is trial 48 with value: 0.6838644233796215.\n",
      "[I 2024-09-16 19:01:54,487] Trial 63 finished with value: 0.6823137104014364 and parameters: {'booster': 'dart', 'lambda': 0.0008852372847205024, 'alpha': 2.0270467014538567e-05, 'subsample': 0.5613471680471495, 'colsample_bytree': 0.9901101943155748, 'max_depth': 9, 'min_child_weight': 5, 'eta': 0.3640602089569528, 'gamma': 0.002904797522811921, 'grow_policy': 'lossguide', 'sample_type': 'uniform', 'normalize_type': 'tree', 'rate_drop': 3.574326586713298e-05, 'skip_drop': 1.5355917589514792e-05}. Best is trial 48 with value: 0.6838644233796215.\n",
      "[I 2024-09-16 19:01:57,375] Trial 64 finished with value: 0.6730327515244792 and parameters: {'booster': 'dart', 'lambda': 0.002760267962962554, 'alpha': 0.00022422420820646967, 'subsample': 0.5175646589292578, 'colsample_bytree': 0.9988904342762088, 'max_depth': 9, 'min_child_weight': 5, 'eta': 0.9460669751781307, 'gamma': 0.014306169860391396, 'grow_policy': 'lossguide', 'sample_type': 'uniform', 'normalize_type': 'tree', 'rate_drop': 0.0008084183364459715, 'skip_drop': 0.0004480735868116875}. Best is trial 48 with value: 0.6838644233796215.\n",
      "[I 2024-09-16 19:02:00,416] Trial 65 finished with value: 0.6822204344328238 and parameters: {'booster': 'dart', 'lambda': 0.3120223224882206, 'alpha': 0.08876271168221651, 'subsample': 0.6685575906558289, 'colsample_bytree': 0.9703636394608076, 'max_depth': 9, 'min_child_weight': 4, 'eta': 0.3386484300667111, 'gamma': 0.008313390075499508, 'grow_policy': 'lossguide', 'sample_type': 'uniform', 'normalize_type': 'tree', 'rate_drop': 1.3312806225779612e-06, 'skip_drop': 0.007014550510943255}. Best is trial 48 with value: 0.6838644233796215.\n",
      "[I 2024-09-16 19:02:03,532] Trial 66 finished with value: 0.5645644595240594 and parameters: {'booster': 'dart', 'lambda': 0.12321179560741272, 'alpha': 9.246714991181359e-05, 'subsample': 0.4684418305126755, 'colsample_bytree': 0.9132614564091613, 'max_depth': 9, 'min_child_weight': 4, 'eta': 0.01086546138288179, 'gamma': 0.29415874028172057, 'grow_policy': 'lossguide', 'sample_type': 'uniform', 'normalize_type': 'tree', 'rate_drop': 0.008472400930873706, 'skip_drop': 0.0004502414294102513}. Best is trial 48 with value: 0.6838644233796215.\n",
      "[I 2024-09-16 19:02:06,511] Trial 67 finished with value: 0.5645644595240594 and parameters: {'booster': 'dart', 'lambda': 0.0003974455720753461, 'alpha': 0.0013207922700461307, 'subsample': 0.6197775112945639, 'colsample_bytree': 0.9395423046367639, 'max_depth': 9, 'min_child_weight': 2, 'eta': 1.0545521421871841e-07, 'gamma': 0.035377556572773375, 'grow_policy': 'lossguide', 'sample_type': 'uniform', 'normalize_type': 'tree', 'rate_drop': 6.1819232301664935e-06, 'skip_drop': 7.055535882211985e-06}. Best is trial 48 with value: 0.6838644233796215.\n",
      "[I 2024-09-16 19:02:08,936] Trial 68 finished with value: 0.6721116513344293 and parameters: {'booster': 'dart', 'lambda': 0.006841007279647402, 'alpha': 0.0006273990555097043, 'subsample': 0.5701325357466727, 'colsample_bytree': 0.9491851692762321, 'max_depth': 7, 'min_child_weight': 5, 'eta': 0.058404245820773706, 'gamma': 0.10703090849476618, 'grow_policy': 'lossguide', 'sample_type': 'uniform', 'normalize_type': 'tree', 'rate_drop': 8.914085698684382e-05, 'skip_drop': 0.03351855031136794}. Best is trial 48 with value: 0.6838644233796215.\n",
      "[I 2024-09-16 19:02:12,063] Trial 69 finished with value: 0.6811827392820082 and parameters: {'booster': 'dart', 'lambda': 0.0014545671837131464, 'alpha': 0.7303241137592464, 'subsample': 0.5293944928633789, 'colsample_bytree': 0.961365114041535, 'max_depth': 9, 'min_child_weight': 5, 'eta': 0.5431905398751287, 'gamma': 0.0030668623687249035, 'grow_policy': 'lossguide', 'sample_type': 'uniform', 'normalize_type': 'tree', 'rate_drop': 0.0005135837845994058, 'skip_drop': 0.002450810530323675}. Best is trial 48 with value: 0.6838644233796215.\n",
      "[I 2024-09-16 19:02:14,444] Trial 70 finished with value: 0.6762740914337683 and parameters: {'booster': 'dart', 'lambda': 0.057456205493048564, 'alpha': 0.0001450511344607278, 'subsample': 0.6562466471660058, 'colsample_bytree': 0.9873945131597401, 'max_depth': 7, 'min_child_weight': 6, 'eta': 0.07439591376096655, 'gamma': 0.020825703426173382, 'grow_policy': 'lossguide', 'sample_type': 'uniform', 'normalize_type': 'tree', 'rate_drop': 1.0129734348070953e-07, 'skip_drop': 0.0001741668094804089}. Best is trial 48 with value: 0.6838644233796215.\n",
      "[I 2024-09-16 19:02:17,642] Trial 71 finished with value: 0.6829316636934951 and parameters: {'booster': 'dart', 'lambda': 0.0005461465138583635, 'alpha': 1.8843436348078532e-05, 'subsample': 0.5744336043190444, 'colsample_bytree': 0.9737425459566696, 'max_depth': 9, 'min_child_weight': 5, 'eta': 0.2903514158746992, 'gamma': 0.002391666572717777, 'grow_policy': 'lossguide', 'sample_type': 'uniform', 'normalize_type': 'tree', 'rate_drop': 3.6267580610808364e-05, 'skip_drop': 8.528705729647107e-06}. Best is trial 48 with value: 0.6838644233796215.\n",
      "[I 2024-09-16 19:02:20,678] Trial 72 finished with value: 0.6823836673778959 and parameters: {'booster': 'dart', 'lambda': 0.0005907796022503766, 'alpha': 3.455670071581119e-05, 'subsample': 0.5773695497468347, 'colsample_bytree': 0.9742372726886517, 'max_depth': 9, 'min_child_weight': 4, 'eta': 0.3065410595919583, 'gamma': 0.0011292924171906228, 'grow_policy': 'lossguide', 'sample_type': 'uniform', 'normalize_type': 'tree', 'rate_drop': 2.9101228521200926e-05, 'skip_drop': 1.1043685121734856e-06}. Best is trial 48 with value: 0.6838644233796215.\n",
      "[I 2024-09-16 19:02:23,727] Trial 73 finished with value: 0.6804715100213369 and parameters: {'booster': 'dart', 'lambda': 0.00015353935260026407, 'alpha': 1.1343554048671758e-05, 'subsample': 0.5932396085236723, 'colsample_bytree': 0.9532336104695928, 'max_depth': 9, 'min_child_weight': 5, 'eta': 0.5800094474901284, 'gamma': 0.0016054500827577232, 'grow_policy': 'lossguide', 'sample_type': 'uniform', 'normalize_type': 'tree', 'rate_drop': 4.3581803390927814e-05, 'skip_drop': 7.270074974896878e-07}. Best is trial 48 with value: 0.6838644233796215.\n",
      "[I 2024-09-16 19:02:26,809] Trial 74 finished with value: 0.672869518579407 and parameters: {'booster': 'dart', 'lambda': 0.0005497089014858112, 'alpha': 3.109087027737938e-05, 'subsample': 0.4865246474956275, 'colsample_bytree': 0.9715952297211294, 'max_depth': 9, 'min_child_weight': 6, 'eta': 0.9485167363759015, 'gamma': 0.009132625727148558, 'grow_policy': 'lossguide', 'sample_type': 'uniform', 'normalize_type': 'tree', 'rate_drop': 5.3247674170286595e-06, 'skip_drop': 2.8538886855140205e-07}. Best is trial 48 with value: 0.6838644233796215.\n",
      "[I 2024-09-16 19:02:29,965] Trial 75 finished with value: 0.6797486212645889 and parameters: {'booster': 'dart', 'lambda': 0.0012982660812692704, 'alpha': 4.992060727876967e-05, 'subsample': 0.5245966717584211, 'colsample_bytree': 0.9642099700990231, 'max_depth': 9, 'min_child_weight': 3, 'eta': 0.09540671611166719, 'gamma': 0.0009668472186574119, 'grow_policy': 'lossguide', 'sample_type': 'uniform', 'normalize_type': 'tree', 'rate_drop': 5.828238765332059e-05, 'skip_drop': 5.8236333625479745e-06}. Best is trial 48 with value: 0.6838644233796215.\n",
      "[I 2024-09-16 19:02:32,947] Trial 76 finished with value: 0.639814847202304 and parameters: {'booster': 'dart', 'lambda': 0.00025024297913756754, 'alpha': 0.0024677356035106104, 'subsample': 0.612717884034899, 'colsample_bytree': 0.9467454848031224, 'max_depth': 9, 'min_child_weight': 4, 'eta': 0.036476938468293044, 'gamma': 0.0004218938035626772, 'grow_policy': 'lossguide', 'sample_type': 'uniform', 'normalize_type': 'tree', 'rate_drop': 1.2369229262146368e-05, 'skip_drop': 2.6991602017373994e-05}. Best is trial 48 with value: 0.6838644233796215.\n",
      "[I 2024-09-16 19:02:36,010] Trial 77 finished with value: 0.6818939685426796 and parameters: {'booster': 'dart', 'lambda': 3.4087039834911575e-05, 'alpha': 0.00010131094463152155, 'subsample': 0.44033731367441775, 'colsample_bytree': 0.9369662122782738, 'max_depth': 9, 'min_child_weight': 4, 'eta': 0.2729738545102446, 'gamma': 0.007021901665962855, 'grow_policy': 'lossguide', 'sample_type': 'weighted', 'normalize_type': 'forest', 'rate_drop': 2.7510081270842895e-06, 'skip_drop': 5.063934719657405e-05}. Best is trial 48 with value: 0.6838644233796215.\n",
      "[I 2024-09-16 19:02:39,129] Trial 78 finished with value: 0.5842223699091725 and parameters: {'booster': 'dart', 'lambda': 0.004804418411800176, 'alpha': 0.2406060301491235, 'subsample': 0.5765150702599797, 'colsample_bytree': 0.9054243641017994, 'max_depth': 9, 'min_child_weight': 6, 'eta': 0.02293107505812713, 'gamma': 0.00018316289671516345, 'grow_policy': 'lossguide', 'sample_type': 'uniform', 'normalize_type': 'tree', 'rate_drop': 1.680866185585675e-05, 'skip_drop': 3.7026194234813843e-06}. Best is trial 48 with value: 0.6838644233796215.\n",
      "[I 2024-09-16 19:02:39,455] Trial 79 finished with value: 0.6748866114006553 and parameters: {'booster': 'gblinear', 'lambda': 0.015052768978283408, 'alpha': 0.005365968539900125, 'subsample': 0.6866397453818547, 'colsample_bytree': 0.9886701190407963}. Best is trial 48 with value: 0.6838644233796215.\n",
      "[I 2024-09-16 19:02:42,294] Trial 80 finished with value: 0.6805414669977964 and parameters: {'booster': 'dart', 'lambda': 0.00010224640800515864, 'alpha': 1.5938147054340694e-06, 'subsample': 0.8936131607198576, 'colsample_bytree': 0.9990074537707944, 'max_depth': 9, 'min_child_weight': 5, 'eta': 0.10364630255482805, 'gamma': 0.0022482134955173127, 'grow_policy': 'lossguide', 'sample_type': 'uniform', 'normalize_type': 'tree', 'rate_drop': 0.006342306559915664, 'skip_drop': 6.440821296804774e-07}. Best is trial 48 with value: 0.6838644233796215.\n",
      "[I 2024-09-16 19:02:44,517] Trial 81 finished with value: 0.6827334522601933 and parameters: {'booster': 'dart', 'lambda': 0.0034170559454329502, 'alpha': 0.000370954633540671, 'subsample': 0.7534232116383298, 'colsample_bytree': 0.9771754748022593, 'max_depth': 7, 'min_child_weight': 4, 'eta': 0.29155778922861364, 'gamma': 0.004169359806250373, 'grow_policy': 'lossguide', 'sample_type': 'uniform', 'normalize_type': 'tree', 'rate_drop': 0.00029591619699595944, 'skip_drop': 0.0019428412745701325}. Best is trial 48 with value: 0.6838644233796215.\n",
      "[I 2024-09-16 19:02:47,713] Trial 82 finished with value: 0.680331596068418 and parameters: {'booster': 'dart', 'lambda': 0.003414778299198099, 'alpha': 0.0001864644966020092, 'subsample': 0.5471229875098012, 'colsample_bytree': 0.9739310905038532, 'max_depth': 9, 'min_child_weight': 4, 'eta': 0.4697964381151371, 'gamma': 0.012013792940338244, 'grow_policy': 'lossguide', 'sample_type': 'uniform', 'normalize_type': 'tree', 'rate_drop': 0.00014576176499152952, 'skip_drop': 0.0010569452891268818}. Best is trial 48 with value: 0.6838644233796215.\n",
      "[I 2024-09-16 19:02:49,889] Trial 83 finished with value: 0.6825702193151212 and parameters: {'booster': 'dart', 'lambda': 0.0073259171411039214, 'alpha': 0.00029260829719537657, 'subsample': 0.8778499843104555, 'colsample_bytree': 0.9642089795686388, 'max_depth': 7, 'min_child_weight': 3, 'eta': 0.2493771223590849, 'gamma': 0.03272058832785738, 'grow_policy': 'lossguide', 'sample_type': 'uniform', 'normalize_type': 'forest', 'rate_drop': 3.617360963319652e-05, 'skip_drop': 1.2004520420892472e-05}. Best is trial 48 with value: 0.6838644233796215.\n",
      "[I 2024-09-16 19:02:52,138] Trial 84 finished with value: 0.6801217251390395 and parameters: {'booster': 'dart', 'lambda': 0.008571914110041011, 'alpha': 0.00030998243625344715, 'subsample': 0.8551091865818383, 'colsample_bytree': 0.9605084004408253, 'max_depth': 7, 'min_child_weight': 3, 'eta': 0.12160067960219514, 'gamma': 0.062467717755449834, 'grow_policy': 'lossguide', 'sample_type': 'weighted', 'normalize_type': 'forest', 'rate_drop': 0.0006328464292250757, 'skip_drop': 1.1779636123556344e-05}. Best is trial 48 with value: 0.6838644233796215.\n",
      "[I 2024-09-16 19:02:54,383] Trial 85 finished with value: 0.6823486888896662 and parameters: {'booster': 'dart', 'lambda': 0.05485479108099564, 'alpha': 0.0007906058324631811, 'subsample': 0.8250172566986742, 'colsample_bytree': 0.9533822935857968, 'max_depth': 7, 'min_child_weight': 2, 'eta': 0.22406512591842048, 'gamma': 0.0011939281873238504, 'grow_policy': 'lossguide', 'sample_type': 'uniform', 'normalize_type': 'forest', 'rate_drop': 1.0344415887782186e-05, 'skip_drop': 1.259378172715961e-07}. Best is trial 48 with value: 0.6838644233796215.\n",
      "[I 2024-09-16 19:02:56,662] Trial 86 finished with value: 0.5645644595240594 and parameters: {'booster': 'dart', 'lambda': 0.0007474057236074058, 'alpha': 1.347415042261432e-05, 'subsample': 0.7587405372653176, 'colsample_bytree': 0.9841009365550778, 'max_depth': 7, 'min_child_weight': 3, 'eta': 0.00014114532727447991, 'gamma': 1.2858176360328196e-05, 'grow_policy': 'lossguide', 'sample_type': 'uniform', 'normalize_type': 'forest', 'rate_drop': 0.04898312009857331, 'skip_drop': 1.7606396692101441e-06}. Best is trial 48 with value: 0.6838644233796215.\n",
      "[I 2024-09-16 19:02:58,782] Trial 87 finished with value: 0.6711322536639966 and parameters: {'booster': 'dart', 'lambda': 0.019359129864278707, 'alpha': 7.395130224762971e-05, 'subsample': 0.9225188352464344, 'colsample_bytree': 0.9318819007959841, 'max_depth': 7, 'min_child_weight': 2, 'eta': 0.054581859770727825, 'gamma': 0.0006394729944026504, 'grow_policy': 'lossguide', 'sample_type': 'uniform', 'normalize_type': 'forest', 'rate_drop': 0.00011211053543633517, 'skip_drop': 7.537043697772592e-07}. Best is trial 48 with value: 0.6838644233796215.\n",
      "[I 2024-09-16 19:02:59,120] Trial 88 finished with value: 0.674560145510511 and parameters: {'booster': 'gblinear', 'lambda': 0.001331396368911039, 'alpha': 3.0580909797995786e-05, 'subsample': 0.8652138273283334, 'colsample_bytree': 0.9150600396718329}. Best is trial 48 with value: 0.6838644233796215.\n",
      "[I 2024-09-16 19:03:01,195] Trial 89 finished with value: 0.6821504774563644 and parameters: {'booster': 'dart', 'lambda': 0.010311795422978711, 'alpha': 0.0005070463966837657, 'subsample': 0.9844290886354076, 'colsample_bytree': 0.9673697435301624, 'max_depth': 7, 'min_child_weight': 3, 'eta': 0.20479984742686116, 'gamma': 0.004585282179386316, 'grow_policy': 'lossguide', 'sample_type': 'weighted', 'normalize_type': 'forest', 'rate_drop': 2.6417527331575658e-05, 'skip_drop': 0.00028897087786166963}. Best is trial 48 with value: 0.6838644233796215.\n",
      "[I 2024-09-16 19:03:03,383] Trial 90 finished with value: 0.6817423950936841 and parameters: {'booster': 'dart', 'lambda': 0.0056615602592512155, 'alpha': 0.012419977411958489, 'subsample': 0.8952451927601819, 'colsample_bytree': 0.9450431255864961, 'max_depth': 7, 'min_child_weight': 4, 'eta': 0.6817843898167981, 'gamma': 0.029426694772548556, 'grow_policy': 'lossguide', 'sample_type': 'uniform', 'normalize_type': 'tree', 'rate_drop': 0.00030115563601300257, 'skip_drop': 5.1368508130053015e-05}. Best is trial 48 with value: 0.6838644233796215.\n",
      "[I 2024-09-16 19:03:06,058] Trial 91 finished with value: 0.6823020509053599 and parameters: {'booster': 'dart', 'lambda': 0.0005577202641597557, 'alpha': 0.00027228457190609976, 'subsample': 0.8292216973115576, 'colsample_bytree': 0.9765033153853822, 'max_depth': 9, 'min_child_weight': 4, 'eta': 0.29539438633657356, 'gamma': 0.021946702625568613, 'grow_policy': 'lossguide', 'sample_type': 'uniform', 'normalize_type': 'tree', 'rate_drop': 0.6413335948741292, 'skip_drop': 0.0051152887666811}. Best is trial 48 with value: 0.6838644233796215.\n",
      "[I 2024-09-16 19:03:08,873] Trial 92 finished with value: 0.6826168572994276 and parameters: {'booster': 'dart', 'lambda': 0.0021815862547819548, 'alpha': 0.00014392403989724068, 'subsample': 0.8765438718565729, 'colsample_bytree': 0.985360465055521, 'max_depth': 9, 'min_child_weight': 5, 'eta': 0.4547006272302842, 'gamma': 0.002766783703158487, 'grow_policy': 'lossguide', 'sample_type': 'uniform', 'normalize_type': 'tree', 'rate_drop': 5.0193798899270575e-05, 'skip_drop': 0.0016276999884486012}. Best is trial 48 with value: 0.6838644233796215.\n",
      "[I 2024-09-16 19:03:11,907] Trial 93 finished with value: 0.6811477607937785 and parameters: {'booster': 'dart', 'lambda': 0.0016042796926143096, 'alpha': 0.0009270543914490332, 'subsample': 0.756909360968996, 'colsample_bytree': 0.983877516031552, 'max_depth': 9, 'min_child_weight': 10, 'eta': 0.1077042424193237, 'gamma': 0.0028431064434861564, 'grow_policy': 'lossguide', 'sample_type': 'uniform', 'normalize_type': 'tree', 'rate_drop': 6.426701695909306e-08, 'skip_drop': 0.002085116891770762}. Best is trial 48 with value: 0.6838644233796215.\n",
      "[I 2024-09-16 19:03:14,759] Trial 94 finished with value: 0.5645644595240594 and parameters: {'booster': 'dart', 'lambda': 0.00342803301681788, 'alpha': 4.784500976215383e-05, 'subsample': 0.8814082856123784, 'colsample_bytree': 0.9650732280803448, 'max_depth': 9, 'min_child_weight': 4, 'eta': 4.384232907104353e-05, 'gamma': 0.0018620264757032037, 'grow_policy': 'lossguide', 'sample_type': 'uniform', 'normalize_type': 'tree', 'rate_drop': 0.003044152185705845, 'skip_drop': 2.38387527667418e-06}. Best is trial 48 with value: 0.6838644233796215.\n",
      "[I 2024-09-16 19:03:16,827] Trial 95 finished with value: 0.6827101332680402 and parameters: {'booster': 'dart', 'lambda': 0.02078224710072278, 'alpha': 0.0001533100323363575, 'subsample': 0.9482216843533577, 'colsample_bytree': 0.9913034790097454, 'max_depth': 7, 'min_child_weight': 3, 'eta': 0.5237089137435369, 'gamma': 0.00037421956776789066, 'grow_policy': 'lossguide', 'sample_type': 'uniform', 'normalize_type': 'tree', 'rate_drop': 0.0011171177003453194, 'skip_drop': 0.0012415527118411166}. Best is trial 48 with value: 0.6838644233796215.\n",
      "[I 2024-09-16 19:03:18,974] Trial 96 finished with value: 0.6830249396621078 and parameters: {'booster': 'dart', 'lambda': 0.05043682136249625, 'alpha': 0.00014415756588101756, 'subsample': 0.915723845269679, 'colsample_bytree': 0.991271252844023, 'max_depth': 7, 'min_child_weight': 3, 'eta': 0.5683712240034118, 'gamma': 0.0004241548836028571, 'grow_policy': 'lossguide', 'sample_type': 'uniform', 'normalize_type': 'tree', 'rate_drop': 0.0008695497158531826, 'skip_drop': 0.00953740581922786}. Best is trial 48 with value: 0.6838644233796215.\n",
      "[I 2024-09-16 19:03:21,051] Trial 97 finished with value: 0.5645644595240594 and parameters: {'booster': 'dart', 'lambda': 0.04483052848877958, 'alpha': 0.00013212524563421184, 'subsample': 0.9258130555060656, 'colsample_bytree': 0.9954473343965154, 'max_depth': 7, 'min_child_weight': 2, 'eta': 6.917397387094671e-07, 'gamma': 0.0003453136068536321, 'grow_policy': 'lossguide', 'sample_type': 'uniform', 'normalize_type': 'tree', 'rate_drop': 0.0010929768675352171, 'skip_drop': 0.011087436280856625}. Best is trial 48 with value: 0.6838644233796215.\n",
      "[I 2024-09-16 19:03:23,151] Trial 98 finished with value: 0.6829433231895717 and parameters: {'booster': 'dart', 'lambda': 0.02281966985277765, 'alpha': 0.002018431881638713, 'subsample': 0.9711426332471182, 'colsample_bytree': 0.9899017285924424, 'max_depth': 7, 'min_child_weight': 3, 'eta': 0.5290669793313854, 'gamma': 0.0052402772798232885, 'grow_policy': 'lossguide', 'sample_type': 'uniform', 'normalize_type': 'tree', 'rate_drop': 0.00040169992986375055, 'skip_drop': 0.04155542202129508}. Best is trial 48 with value: 0.6838644233796215.\n",
      "[I 2024-09-16 19:03:25,263] Trial 99 finished with value: 0.6817190761015309 and parameters: {'booster': 'dart', 'lambda': 0.022865808921845057, 'alpha': 0.00240959999539481, 'subsample': 0.9453139156537367, 'colsample_bytree': 0.9904921634841746, 'max_depth': 7, 'min_child_weight': 3, 'eta': 0.6009715400731084, 'gamma': 0.0007374327112926764, 'grow_policy': 'lossguide', 'sample_type': 'uniform', 'normalize_type': 'tree', 'rate_drop': 0.0002324767449944238, 'skip_drop': 0.10550216837549536}. Best is trial 48 with value: 0.6838644233796215.\n",
      "[I 2024-09-16 19:03:26,771] Trial 100 finished with value: 0.681800692574067 and parameters: {'booster': 'dart', 'lambda': 0.011305365804110295, 'alpha': 0.003686765876755891, 'subsample': 0.9981728672684904, 'colsample_bytree': 0.9842012114561085, 'max_depth': 5, 'min_child_weight': 3, 'eta': 0.9096310929202654, 'gamma': 0.007634669406062247, 'grow_policy': 'lossguide', 'sample_type': 'uniform', 'normalize_type': 'tree', 'rate_drop': 0.0019002876542592757, 'skip_drop': 0.05454896418329202}. Best is trial 48 with value: 0.6838644233796215.\n",
      "[I 2024-09-16 19:03:28,894] Trial 101 finished with value: 0.6824769433465085 and parameters: {'booster': 'dart', 'lambda': 0.09645922719259312, 'alpha': 0.0014986728873567466, 'subsample': 0.9640453165456131, 'colsample_bytree': 0.9917167664597529, 'max_depth': 7, 'min_child_weight': 3, 'eta': 0.4771239731132557, 'gamma': 0.0037438340006981413, 'grow_policy': 'lossguide', 'sample_type': 'uniform', 'normalize_type': 'tree', 'rate_drop': 0.0004470284311929276, 'skip_drop': 0.0016271695839529799}. Best is trial 48 with value: 0.6838644233796215.\n",
      "[I 2024-09-16 19:03:31,004] Trial 102 finished with value: 0.682686814275887 and parameters: {'booster': 'dart', 'lambda': 0.09871168984745954, 'alpha': 0.0009472242753180171, 'subsample': 0.9767985366542967, 'colsample_bytree': 0.9990547072221836, 'max_depth': 7, 'min_child_weight': 3, 'eta': 0.583092959818197, 'gamma': 0.0030744533074271436, 'grow_policy': 'lossguide', 'sample_type': 'uniform', 'normalize_type': 'tree', 'rate_drop': 0.00037917274489619306, 'skip_drop': 0.0014071397678589702}. Best is trial 48 with value: 0.6838644233796215.\n",
      "[I 2024-09-16 19:03:33,111] Trial 103 finished with value: 0.6828617067170357 and parameters: {'booster': 'dart', 'lambda': 0.04718950821358832, 'alpha': 0.0013523217482775936, 'subsample': 0.9145690705061336, 'colsample_bytree': 0.9978571304412747, 'max_depth': 7, 'min_child_weight': 2, 'eta': 0.6196695061285651, 'gamma': 0.002024360202560265, 'grow_policy': 'lossguide', 'sample_type': 'uniform', 'normalize_type': 'tree', 'rate_drop': 0.0010362035204321376, 'skip_drop': 0.0011703319675210198}. Best is trial 48 with value: 0.6838644233796215.\n",
      "[I 2024-09-16 19:03:35,228] Trial 104 finished with value: 0.6818240115662201 and parameters: {'booster': 'dart', 'lambda': 0.19739605701181467, 'alpha': 0.0012497352358820375, 'subsample': 0.9122904053715954, 'colsample_bytree': 0.9967403668512697, 'max_depth': 7, 'min_child_weight': 2, 'eta': 0.5974479896135566, 'gamma': 0.00025611124405058297, 'grow_policy': 'lossguide', 'sample_type': 'uniform', 'normalize_type': 'tree', 'rate_drop': 0.0009686388640528225, 'skip_drop': 0.0009298644365639577}. Best is trial 48 with value: 0.6838644233796215.\n",
      "[I 2024-09-16 19:03:37,252] Trial 105 finished with value: 0.6814742266839228 and parameters: {'booster': 'dart', 'lambda': 0.04656238931768259, 'alpha': 0.0006799656038894283, 'subsample': 0.9647692431187193, 'colsample_bytree': 0.9998563683894587, 'max_depth': 7, 'min_child_weight': 2, 'eta': 0.870857782419516, 'gamma': 0.0015588911506456337, 'grow_policy': 'lossguide', 'sample_type': 'uniform', 'normalize_type': 'tree', 'rate_drop': 0.0036337046604820464, 'skip_drop': 0.011099293689748446}. Best is trial 48 with value: 0.6838644233796215.\n",
      "[I 2024-09-16 19:03:39,476] Trial 106 finished with value: 0.680634742966409 and parameters: {'booster': 'dart', 'lambda': 0.15065171653365533, 'alpha': 0.005011743507805225, 'subsample': 0.9777108332642148, 'colsample_bytree': 0.9806346754059805, 'max_depth': 7, 'min_child_weight': 2, 'eta': 0.14961085971920854, 'gamma': 0.00047708698265090904, 'grow_policy': 'lossguide', 'sample_type': 'uniform', 'normalize_type': 'tree', 'rate_drop': 0.00017384068859373122, 'skip_drop': 0.0036778906280158026}. Best is trial 48 with value: 0.6838644233796215.\n",
      "[I 2024-09-16 19:03:41,611] Trial 107 finished with value: 0.683852763883545 and parameters: {'booster': 'dart', 'lambda': 0.47963722752524024, 'alpha': 0.0016376198127565065, 'subsample': 0.945237186614586, 'colsample_bytree': 0.9871974551741795, 'max_depth': 7, 'min_child_weight': 3, 'eta': 0.4969266567810908, 'gamma': 0.011278055869486747, 'grow_policy': 'lossguide', 'sample_type': 'uniform', 'normalize_type': 'tree', 'rate_drop': 0.0003765443024427032, 'skip_drop': 0.0004874753287350046}. Best is trial 48 with value: 0.6838644233796215.\n",
      "[I 2024-09-16 19:03:43,769] Trial 108 finished with value: 0.6842025487658423 and parameters: {'booster': 'dart', 'lambda': 0.471963734954575, 'alpha': 0.0020386584763303754, 'subsample': 0.9465536968551279, 'colsample_bytree': 0.9873109128475873, 'max_depth': 7, 'min_child_weight': 3, 'eta': 0.4908885077882711, 'gamma': 0.012150546870759343, 'grow_policy': 'lossguide', 'sample_type': 'uniform', 'normalize_type': 'tree', 'rate_drop': 0.0010909808075943838, 'skip_drop': 0.0003836655733436346}. Best is trial 108 with value: 0.6842025487658423.\n",
      "[I 2024-09-16 19:03:44,140] Trial 109 finished with value: 0.6694532862289692 and parameters: {'booster': 'gblinear', 'lambda': 0.4218321759404332, 'alpha': 0.002238056151237531, 'subsample': 0.9439217551050267, 'colsample_bytree': 0.9918078836057268}. Best is trial 108 with value: 0.6842025487658423.\n",
      "[I 2024-09-16 19:03:46,206] Trial 110 finished with value: 0.6833747245444052 and parameters: {'booster': 'dart', 'lambda': 0.24010516957157915, 'alpha': 0.0019207194975981846, 'subsample': 0.9652185095001988, 'colsample_bytree': 0.9887805324458362, 'max_depth': 7, 'min_child_weight': 3, 'eta': 0.46303900262938835, 'gamma': 0.011665192076574994, 'grow_policy': 'lossguide', 'sample_type': 'uniform', 'normalize_type': 'tree', 'rate_drop': 0.0012943602626733777, 'skip_drop': 0.00048383958048554414}. Best is trial 108 with value: 0.6842025487658423.\n",
      "[I 2024-09-16 19:03:48,405] Trial 111 finished with value: 0.683269789079716 and parameters: {'booster': 'dart', 'lambda': 0.47297569004045775, 'alpha': 0.003660841797388081, 'subsample': 0.9307286634935449, 'colsample_bytree': 0.9867653578243097, 'max_depth': 7, 'min_child_weight': 3, 'eta': 0.46069015121409307, 'gamma': 0.012117064129878223, 'grow_policy': 'lossguide', 'sample_type': 'uniform', 'normalize_type': 'tree', 'rate_drop': 0.0013638779339529721, 'skip_drop': 0.0004767697438643065}. Best is trial 108 with value: 0.6842025487658423.\n",
      "[I 2024-09-16 19:03:50,621] Trial 112 finished with value: 0.6814858861799993 and parameters: {'booster': 'dart', 'lambda': 0.4690568952088183, 'alpha': 0.00781579673514211, 'subsample': 0.9065029732026084, 'colsample_bytree': 0.9701795660364494, 'max_depth': 7, 'min_child_weight': 3, 'eta': 0.4206449280111219, 'gamma': 0.016230564629355602, 'grow_policy': 'lossguide', 'sample_type': 'uniform', 'normalize_type': 'tree', 'rate_drop': 0.0014012698714964498, 'skip_drop': 0.000423041810552448}. Best is trial 108 with value: 0.6842025487658423.\n",
      "[I 2024-09-16 19:03:52,725] Trial 113 finished with value: 0.682686814275887 and parameters: {'booster': 'dart', 'lambda': 0.5754907729327289, 'alpha': 0.0018570857542338512, 'subsample': 0.9310560171671979, 'colsample_bytree': 0.98635134461954, 'max_depth': 7, 'min_child_weight': 3, 'eta': 0.9587298706099309, 'gamma': 0.010776669936201024, 'grow_policy': 'lossguide', 'sample_type': 'uniform', 'normalize_type': 'tree', 'rate_drop': 0.004896279320787815, 'skip_drop': 0.00018476953310882124}. Best is trial 108 with value: 0.6842025487658423.\n",
      "[I 2024-09-16 19:03:54,862] Trial 114 finished with value: 0.6815558431564588 and parameters: {'booster': 'dart', 'lambda': 0.28213020806898426, 'alpha': 0.003252885137705431, 'subsample': 0.9447837891580237, 'colsample_bytree': 0.9776719592648152, 'max_depth': 7, 'min_child_weight': 2, 'eta': 0.1983933375492106, 'gamma': 0.00640807334367367, 'grow_policy': 'lossguide', 'sample_type': 'uniform', 'normalize_type': 'tree', 'rate_drop': 0.0007920304108174252, 'skip_drop': 0.0006036425383289035}. Best is trial 108 with value: 0.6842025487658423.\n",
      "[I 2024-09-16 19:03:56,988] Trial 115 finished with value: 0.683048258654261 and parameters: {'booster': 'dart', 'lambda': 0.20406859937790583, 'alpha': 0.011316222603216316, 'subsample': 0.9633567326288445, 'colsample_bytree': 0.9930370285801137, 'max_depth': 7, 'min_child_weight': 3, 'eta': 0.4074686215611166, 'gamma': 0.01139547366227938, 'grow_policy': 'lossguide', 'sample_type': 'uniform', 'normalize_type': 'tree', 'rate_drop': 0.0019506596518140153, 'skip_drop': 0.00026618588689756727}. Best is trial 108 with value: 0.6842025487658423.\n",
      "[I 2024-09-16 19:03:59,196] Trial 116 finished with value: 0.6802966175801882 and parameters: {'booster': 'dart', 'lambda': 0.256547326544508, 'alpha': 0.0060074465357976975, 'subsample': 0.9657039054455826, 'colsample_bytree': 0.9706935434393851, 'max_depth': 7, 'min_child_weight': 2, 'eta': 0.11877729132518404, 'gamma': 0.05354484014480547, 'grow_policy': 'lossguide', 'sample_type': 'uniform', 'normalize_type': 'tree', 'rate_drop': 0.0018692336049956535, 'skip_drop': 0.00029285901392018426}. Best is trial 108 with value: 0.6842025487658423.\n",
      "[I 2024-09-16 19:04:01,182] Trial 117 finished with value: 0.6824769433465085 and parameters: {'booster': 'dart', 'lambda': 0.33233141920893594, 'alpha': 0.016394328614232432, 'subsample': 0.9061620714390665, 'colsample_bytree': 0.7564191637992512, 'max_depth': 7, 'min_child_weight': 3, 'eta': 0.18465504488841147, 'gamma': 0.011174353049894751, 'grow_policy': 'lossguide', 'sample_type': 'uniform', 'normalize_type': 'tree', 'rate_drop': 0.0006003795969965912, 'skip_drop': 0.00024020820710698258}. Best is trial 108 with value: 0.6842025487658423.\n",
      "[I 2024-09-16 19:04:03,221] Trial 118 finished with value: 0.5645644595240594 and parameters: {'booster': 'dart', 'lambda': 0.14203826239445255, 'alpha': 0.0017277002988502726, 'subsample': 0.9973039441287255, 'colsample_bytree': 0.980634438995499, 'max_depth': 7, 'min_child_weight': 3, 'eta': 0.00043660201754306755, 'gamma': 0.0199924577146551, 'grow_policy': 'lossguide', 'sample_type': 'weighted', 'normalize_type': 'tree', 'rate_drop': 0.012904824835241845, 'skip_drop': 9.2552100042645e-05}. Best is trial 108 with value: 0.6842025487658423.\n",
      "[I 2024-09-16 19:04:05,286] Trial 119 finished with value: 0.6836079144659368 and parameters: {'booster': 'dart', 'lambda': 0.1715653994806651, 'alpha': 0.0041247276020998334, 'subsample': 0.9290113468910528, 'colsample_bytree': 0.79172439948764, 'max_depth': 7, 'min_child_weight': 2, 'eta': 0.35787819395108855, 'gamma': 0.1307869516443021, 'grow_policy': 'lossguide', 'sample_type': 'uniform', 'normalize_type': 'tree', 'rate_drop': 0.0024040526604063254, 'skip_drop': 0.0005091798351002223}. Best is trial 108 with value: 0.6842025487658423.\n",
      "[I 2024-09-16 19:04:07,284] Trial 120 finished with value: 0.6817423950936841 and parameters: {'booster': 'dart', 'lambda': 0.07422446089088784, 'alpha': 0.011239641744155123, 'subsample': 0.9318878461594768, 'colsample_bytree': 0.7996572969718206, 'max_depth': 7, 'min_child_weight': 2, 'eta': 0.7137763011186969, 'gamma': 0.7107795110641084, 'grow_policy': 'lossguide', 'sample_type': 'uniform', 'normalize_type': 'tree', 'rate_drop': 0.00296569457947287, 'skip_drop': 0.3120866320135636}. Best is trial 108 with value: 0.6842025487658423.\n",
      "[I 2024-09-16 19:04:09,170] Trial 121 finished with value: 0.6840626348129234 and parameters: {'booster': 'dart', 'lambda': 0.5979238399709188, 'alpha': 0.004052876992463998, 'subsample': 0.96920392381291, 'colsample_bytree': 0.7888666035087304, 'max_depth': 7, 'min_child_weight': 2, 'eta': 0.37036912111716913, 'gamma': 0.09475902460902252, 'grow_policy': 'lossguide', 'sample_type': 'uniform', 'normalize_type': 'tree', 'rate_drop': 0.0018571663506914682, 'skip_drop': 0.0005517811991438029}. Best is trial 108 with value: 0.6842025487658423.\n",
      "[I 2024-09-16 19:04:11,144] Trial 122 finished with value: 0.677055277670899 and parameters: {'booster': 'dart', 'lambda': 0.21039456823649214, 'alpha': 0.004132798647272579, 'subsample': 0.9673889908446262, 'colsample_bytree': 0.8070823586166578, 'max_depth': 7, 'min_child_weight': 2, 'eta': 0.0800077230656356, 'gamma': 0.3919831590788354, 'grow_policy': 'lossguide', 'sample_type': 'uniform', 'normalize_type': 'tree', 'rate_drop': 0.0018086442188908509, 'skip_drop': 0.00039681038503258437}. Best is trial 108 with value: 0.6842025487658423.\n",
      "[I 2024-09-16 19:04:13,031] Trial 123 finished with value: 0.6837011904345495 and parameters: {'booster': 'dart', 'lambda': 0.9805678814198473, 'alpha': 0.007450164166656435, 'subsample': 0.9175505020102463, 'colsample_bytree': 0.7744644035888927, 'max_depth': 7, 'min_child_weight': 2, 'eta': 0.3507921395663659, 'gamma': 0.12128309809091613, 'grow_policy': 'lossguide', 'sample_type': 'uniform', 'normalize_type': 'tree', 'rate_drop': 0.004625429001976171, 'skip_drop': 0.0005911403784253879}. Best is trial 108 with value: 0.6842025487658423.\n",
      "[I 2024-09-16 19:04:14,927] Trial 124 finished with value: 0.6842958247344549 and parameters: {'booster': 'dart', 'lambda': 0.5843216553158332, 'alpha': 0.008346224547484793, 'subsample': 0.9624324697690939, 'colsample_bytree': 0.7716798416238866, 'max_depth': 7, 'min_child_weight': 2, 'eta': 0.40975479272603466, 'gamma': 0.0810657880992253, 'grow_policy': 'lossguide', 'sample_type': 'uniform', 'normalize_type': 'tree', 'rate_drop': 6.739285404995635e-07, 'skip_drop': 0.0006285853573123421}. Best is trial 124 with value: 0.6842958247344549.\n",
      "[I 2024-09-16 19:04:16,892] Trial 125 finished with value: 0.6841325917893829 and parameters: {'booster': 'dart', 'lambda': 0.5407187415493813, 'alpha': 0.007120794913866569, 'subsample': 0.9602865571050591, 'colsample_bytree': 0.7762575098291599, 'max_depth': 7, 'min_child_weight': 2, 'eta': 0.4089491826173128, 'gamma': 0.10972088422075742, 'grow_policy': 'lossguide', 'sample_type': 'uniform', 'normalize_type': 'tree', 'rate_drop': 1.180336605045221e-06, 'skip_drop': 0.000591111757797799}. Best is trial 124 with value: 0.6842958247344549.\n",
      "[I 2024-09-16 19:04:18,829] Trial 126 finished with value: 0.6834563410169412 and parameters: {'booster': 'dart', 'lambda': 0.9315720659969984, 'alpha': 0.04802537734068526, 'subsample': 0.9574294045622239, 'colsample_bytree': 0.7924396655124885, 'max_depth': 7, 'min_child_weight': 2, 'eta': 0.3949347862196372, 'gamma': 0.13563789736053777, 'grow_policy': 'lossguide', 'sample_type': 'uniform', 'normalize_type': 'tree', 'rate_drop': 4.789800748675198e-07, 'skip_drop': 0.0006678746757878774}. Best is trial 124 with value: 0.6842958247344549.\n",
      "[I 2024-09-16 19:04:20,729] Trial 127 finished with value: 0.6835612764816305 and parameters: {'booster': 'dart', 'lambda': 0.5916700203434176, 'alpha': 0.02586113178559588, 'subsample': 0.9551478014031626, 'colsample_bytree': 0.7745983446740907, 'max_depth': 7, 'min_child_weight': 2, 'eta': 0.38236866867586505, 'gamma': 0.1360876965630267, 'grow_policy': 'lossguide', 'sample_type': 'uniform', 'normalize_type': 'tree', 'rate_drop': 2.8038455327021725e-07, 'skip_drop': 0.0006504518229962611}. Best is trial 124 with value: 0.6842958247344549.\n",
      "[I 2024-09-16 19:04:22,626] Trial 128 finished with value: 0.681299334242774 and parameters: {'booster': 'dart', 'lambda': 0.9842296977499386, 'alpha': 0.03999571831239327, 'subsample': 0.9869980532270823, 'colsample_bytree': 0.7749514382786684, 'max_depth': 7, 'min_child_weight': 2, 'eta': 0.13359871646011642, 'gamma': 0.16185462193467756, 'grow_policy': 'lossguide', 'sample_type': 'uniform', 'normalize_type': 'tree', 'rate_drop': 4.0799949451261197e-07, 'skip_drop': 0.0006332695858245623}. Best is trial 124 with value: 0.6842958247344549.\n",
      "[I 2024-09-16 19:04:24,553] Trial 129 finished with value: 0.5645644595240594 and parameters: {'booster': 'dart', 'lambda': 0.6100154695945885, 'alpha': 0.05419072159381418, 'subsample': 0.9384707658882764, 'colsample_bytree': 0.7808433236554264, 'max_depth': 7, 'min_child_weight': 2, 'eta': 0.0026750995515567783, 'gamma': 0.10838879713906595, 'grow_policy': 'lossguide', 'sample_type': 'uniform', 'normalize_type': 'tree', 'rate_drop': 1.0998447426525573e-06, 'skip_drop': 0.00011810241643643571}. Best is trial 124 with value: 0.6842958247344549.\n",
      "[I 2024-09-16 19:04:24,887] Trial 130 finished with value: 0.6674128744155677 and parameters: {'booster': 'gblinear', 'lambda': 0.4027226657341533, 'alpha': 0.022485698155166583, 'subsample': 0.9550166484477229, 'colsample_bytree': 0.7671709155798037}. Best is trial 124 with value: 0.6842958247344549.\n",
      "[I 2024-09-16 19:04:26,949] Trial 131 finished with value: 0.6839227208600044 and parameters: {'booster': 'dart', 'lambda': 0.6542172296746026, 'alpha': 0.013147841475008125, 'subsample': 0.9554729803503159, 'colsample_bytree': 0.7933713912858533, 'max_depth': 7, 'min_child_weight': 2, 'eta': 0.4116676575685344, 'gamma': 0.09700699642422601, 'grow_policy': 'lossguide', 'sample_type': 'uniform', 'normalize_type': 'tree', 'rate_drop': 2.2674491342393516e-07, 'skip_drop': 0.0006243136075215841}. Best is trial 124 with value: 0.6842958247344549.\n",
      "[I 2024-09-16 19:04:28,946] Trial 132 finished with value: 0.6825002623386617 and parameters: {'booster': 'dart', 'lambda': 0.5877348536175254, 'alpha': 0.008365582156532478, 'subsample': 0.8998794461581335, 'colsample_bytree': 0.7935481720648596, 'max_depth': 7, 'min_child_weight': 2, 'eta': 0.21016025557644066, 'gamma': 0.09948401551205813, 'grow_policy': 'lossguide', 'sample_type': 'uniform', 'normalize_type': 'tree', 'rate_drop': 2.0994209054467238e-07, 'skip_drop': 0.0005235919397824423}. Best is trial 124 with value: 0.6842958247344549.\n",
      "[I 2024-09-16 19:04:30,843] Trial 133 finished with value: 0.6835612764816305 and parameters: {'booster': 'dart', 'lambda': 0.7407383726369443, 'alpha': 0.019470384251750232, 'subsample': 0.9818550859146297, 'colsample_bytree': 0.7648948590626168, 'max_depth': 7, 'min_child_weight': 2, 'eta': 0.3663703559275771, 'gamma': 0.25779086478372454, 'grow_policy': 'lossguide', 'sample_type': 'uniform', 'normalize_type': 'tree', 'rate_drop': 6.706727289245903e-07, 'skip_drop': 0.00016924930422020253}. Best is trial 124 with value: 0.6842958247344549.\n",
      "[I 2024-09-16 19:04:32,714] Trial 134 finished with value: 0.681077803817319 and parameters: {'booster': 'dart', 'lambda': 0.9704772480908441, 'alpha': 0.015861864490693545, 'subsample': 0.9844988222237291, 'colsample_bytree': 0.7609823912301192, 'max_depth': 7, 'min_child_weight': 2, 'eta': 0.9951064549654104, 'gamma': 0.15614763928890107, 'grow_policy': 'lossguide', 'sample_type': 'uniform', 'normalize_type': 'tree', 'rate_drop': 4.1474111254561286e-07, 'skip_drop': 0.000857186238001678}. Best is trial 124 with value: 0.6842958247344549.\n",
      "[I 2024-09-16 19:04:34,630] Trial 135 finished with value: 0.683491319505171 and parameters: {'booster': 'dart', 'lambda': 0.546030412748514, 'alpha': 0.07940978204360319, 'subsample': 0.9314054588725579, 'colsample_bytree': 0.7870096664608749, 'max_depth': 7, 'min_child_weight': 2, 'eta': 0.36050102540013473, 'gamma': 0.6374798571143611, 'grow_policy': 'lossguide', 'sample_type': 'uniform', 'normalize_type': 'tree', 'rate_drop': 7.001404482172155e-07, 'skip_drop': 0.00017265018479884677}. Best is trial 124 with value: 0.6842958247344549.\n",
      "[I 2024-09-16 19:04:36,594] Trial 136 finished with value: 0.6836195739620133 and parameters: {'booster': 'dart', 'lambda': 0.6480078282665231, 'alpha': 0.20028923090400547, 'subsample': 0.9529572166390496, 'colsample_bytree': 0.7862039155154247, 'max_depth': 7, 'min_child_weight': 2, 'eta': 0.2294511774146168, 'gamma': 0.4306880530551823, 'grow_policy': 'lossguide', 'sample_type': 'uniform', 'normalize_type': 'tree', 'rate_drop': 6.631617649380379e-07, 'skip_drop': 6.716004045539106e-05}. Best is trial 124 with value: 0.6842958247344549.\n",
      "[I 2024-09-16 19:04:38,478] Trial 137 finished with value: 0.6831182156307204 and parameters: {'booster': 'dart', 'lambda': 0.7463957850908424, 'alpha': 0.16419906076795748, 'subsample': 0.954139318104429, 'colsample_bytree': 0.7877059912848644, 'max_depth': 7, 'min_child_weight': 2, 'eta': 0.2119575593388154, 'gamma': 0.42634421046694193, 'grow_policy': 'lossguide', 'sample_type': 'uniform', 'normalize_type': 'tree', 'rate_drop': 2.073681374434129e-07, 'skip_drop': 0.00014252043513116215}. Best is trial 124 with value: 0.6842958247344549.\n",
      "[I 2024-09-16 19:04:40,398] Trial 138 finished with value: 0.6785593526647778 and parameters: {'booster': 'dart', 'lambda': 0.351185870008028, 'alpha': 0.09517822357384365, 'subsample': 0.9974426305129697, 'colsample_bytree': 0.7728922015439724, 'max_depth': 7, 'min_child_weight': 2, 'eta': 0.08535026387154868, 'gamma': 0.7150995138370803, 'grow_policy': 'lossguide', 'sample_type': 'weighted', 'normalize_type': 'tree', 'rate_drop': 7.016641112790791e-07, 'skip_drop': 6.825857376982912e-05}. Best is trial 124 with value: 0.6842958247344549.\n",
      "[I 2024-09-16 19:04:42,382] Trial 139 finished with value: 0.6837711474110089 and parameters: {'booster': 'dart', 'lambda': 0.6405264298573864, 'alpha': 0.3296182350923239, 'subsample': 0.9237705229756943, 'colsample_bytree': 0.7524314250232897, 'max_depth': 7, 'min_child_weight': 2, 'eta': 0.33951407914882986, 'gamma': 0.22317717324932076, 'grow_policy': 'lossguide', 'sample_type': 'uniform', 'normalize_type': 'tree', 'rate_drop': 2.3424441328841167e-06, 'skip_drop': 0.00019017433602823962}. Best is trial 124 with value: 0.6842958247344549.\n",
      "[I 2024-09-16 19:04:43,850] Trial 140 finished with value: 0.67960870731167 and parameters: {'booster': 'dart', 'lambda': 0.5615918822660556, 'alpha': 0.39766452903321925, 'subsample': 0.92149960952502, 'colsample_bytree': 0.7392543036357804, 'max_depth': 5, 'min_child_weight': 2, 'eta': 0.14651214565899437, 'gamma': 0.23050487901093814, 'grow_policy': 'lossguide', 'sample_type': 'uniform', 'normalize_type': 'tree', 'rate_drop': 2.1637023378423887e-06, 'skip_drop': 0.00018330358080348414}. Best is trial 124 with value: 0.6842958247344549.\n",
      "[I 2024-09-16 19:04:45,757] Trial 141 finished with value: 0.6844707171756037 and parameters: {'booster': 'dart', 'lambda': 0.6737870636722346, 'alpha': 0.05945403589338685, 'subsample': 0.9391927120384811, 'colsample_bytree': 0.751051549571555, 'max_depth': 7, 'min_child_weight': 2, 'eta': 0.32294058008813725, 'gamma': 0.4399138601349001, 'grow_policy': 'lossguide', 'sample_type': 'uniform', 'normalize_type': 'tree', 'rate_drop': 6.847639589409785e-07, 'skip_drop': 0.0007494399472731043}. Best is trial 141 with value: 0.6844707171756037.\n",
      "[I 2024-09-16 19:04:47,653] Trial 142 finished with value: 0.6839110613639279 and parameters: {'booster': 'dart', 'lambda': 0.38033637869867803, 'alpha': 0.145779973705707, 'subsample': 0.9384610562782877, 'colsample_bytree': 0.7278471880086784, 'max_depth': 7, 'min_child_weight': 2, 'eta': 0.2550505172029513, 'gamma': 0.33466481120663555, 'grow_policy': 'lossguide', 'sample_type': 'uniform', 'normalize_type': 'tree', 'rate_drop': 1.2442847446290742e-06, 'skip_drop': 0.00020347359726058433}. Best is trial 141 with value: 0.6844707171756037.\n",
      "[I 2024-09-16 19:04:49,467] Trial 143 finished with value: 0.6825585598190447 and parameters: {'booster': 'dart', 'lambda': 0.37158325175894696, 'alpha': 0.39924091548316776, 'subsample': 0.8875092074207112, 'colsample_bytree': 0.71454499366106, 'max_depth': 7, 'min_child_weight': 2, 'eta': 0.22937672417552304, 'gamma': 0.2775734623878203, 'grow_policy': 'lossguide', 'sample_type': 'uniform', 'normalize_type': 'tree', 'rate_drop': 1.2408055350872858e-06, 'skip_drop': 3.433232600386597e-05}. Best is trial 141 with value: 0.6844707171756037.\n",
      "[I 2024-09-16 19:04:51,346] Trial 144 finished with value: 0.6828500472209591 and parameters: {'booster': 'dart', 'lambda': 0.7043022725798811, 'alpha': 0.15293874839499538, 'subsample': 0.9798711172338778, 'colsample_bytree': 0.7498265955784921, 'max_depth': 7, 'min_child_weight': 2, 'eta': 0.27871505701556787, 'gamma': 0.08270427562605753, 'grow_policy': 'lossguide', 'sample_type': 'uniform', 'normalize_type': 'tree', 'rate_drop': 2.459455206093762e-07, 'skip_drop': 0.00026738276745795985}. Best is trial 141 with value: 0.6844707171756037.\n",
      "[I 2024-09-16 19:04:53,344] Trial 145 finished with value: 0.6714237410659112 and parameters: {'booster': 'dart', 'lambda': 0.18306368616418056, 'alpha': 0.03129617019841349, 'subsample': 0.9435539727979215, 'colsample_bytree': 0.7682323875626289, 'max_depth': 7, 'min_child_weight': 2, 'eta': 0.055349358247588964, 'gamma': 0.3769124923946582, 'grow_policy': 'lossguide', 'sample_type': 'uniform', 'normalize_type': 'tree', 'rate_drop': 2.80921604403593e-06, 'skip_drop': 8.030487257226926e-05}. Best is trial 141 with value: 0.6844707171756037.\n",
      "[I 2024-09-16 19:04:55,322] Trial 146 finished with value: 0.6822204344328238 and parameters: {'booster': 'dart', 'lambda': 0.3047169910124578, 'alpha': 0.3645384717170339, 'subsample': 0.9039881614050174, 'colsample_bytree': 0.7516169028699079, 'max_depth': 7, 'min_child_weight': 2, 'eta': 0.15009044236118088, 'gamma': 0.227127439168812, 'grow_policy': 'lossguide', 'sample_type': 'uniform', 'normalize_type': 'tree', 'rate_drop': 9.630196314029111e-08, 'skip_drop': 3.3737249255296627e-08}. Best is trial 141 with value: 0.6844707171756037.\n",
      "[I 2024-09-16 19:04:57,198] Trial 147 finished with value: 0.683048258654261 and parameters: {'booster': 'dart', 'lambda': 0.9863433460206008, 'alpha': 0.057023152077788346, 'subsample': 0.999859169519371, 'colsample_bytree': 0.7334790445192108, 'max_depth': 7, 'min_child_weight': 2, 'eta': 0.26011379486481734, 'gamma': 0.985831806143238, 'grow_policy': 'lossguide', 'sample_type': 'uniform', 'normalize_type': 'tree', 'rate_drop': 1.674352998466433e-06, 'skip_drop': 0.0024534909674243733}. Best is trial 141 with value: 0.6844707171756037.\n",
      "[I 2024-09-16 19:04:59,262] Trial 148 finished with value: 0.6822670724171301 and parameters: {'booster': 'dart', 'lambda': 0.675403650811, 'alpha': 0.025069745654541103, 'subsample': 0.872079061671786, 'colsample_bytree': 0.781589803159957, 'max_depth': 7, 'min_child_weight': 2, 'eta': 0.7113899344022901, 'gamma': 0.061869435399761995, 'grow_policy': 'lossguide', 'sample_type': 'uniform', 'normalize_type': 'tree', 'rate_drop': 9.738899907713357e-07, 'skip_drop': 0.0007189511759997787}. Best is trial 141 with value: 0.6844707171756037.\n",
      "[I 2024-09-16 19:05:01,181] Trial 149 finished with value: 0.6834796600090944 and parameters: {'booster': 'dart', 'lambda': 0.42565955472240696, 'alpha': 0.9973949403727578, 'subsample': 0.9212135645592836, 'colsample_bytree': 0.7251542659017124, 'max_depth': 7, 'min_child_weight': 2, 'eta': 0.35840215663044184, 'gamma': 0.4461092940096303, 'grow_policy': 'lossguide', 'sample_type': 'uniform', 'normalize_type': 'tree', 'rate_drop': 5.776708914096321e-07, 'skip_drop': 0.00033178963759586345}. Best is trial 141 with value: 0.6844707171756037.\n",
      "[I 2024-09-16 19:05:03,149] Trial 150 finished with value: 0.6792356034372194 and parameters: {'booster': 'dart', 'lambda': 0.2722818591611948, 'alpha': 0.005863061999962309, 'subsample': 0.9438590658155958, 'colsample_bytree': 0.762903688113605, 'max_depth': 7, 'min_child_weight': 2, 'eta': 0.10024821783152225, 'gamma': 0.1649351184772771, 'grow_policy': 'lossguide', 'sample_type': 'uniform', 'normalize_type': 'tree', 'rate_drop': 3.023730241443005e-07, 'skip_drop': 0.0010382800136831602}. Best is trial 141 with value: 0.6844707171756037.\n",
      "[I 2024-09-16 19:05:05,058] Trial 151 finished with value: 0.684155910781536 and parameters: {'booster': 'dart', 'lambda': 0.5024529897405766, 'alpha': 0.11199548487398937, 'subsample': 0.9282071302706597, 'colsample_bytree': 0.7817097933813721, 'max_depth': 7, 'min_child_weight': 2, 'eta': 0.3554542734414013, 'gamma': 0.5772307599077926, 'grow_policy': 'lossguide', 'sample_type': 'uniform', 'normalize_type': 'tree', 'rate_drop': 7.812459594742724e-07, 'skip_drop': 0.00016968525338548318}. Best is trial 141 with value: 0.6844707171756037.\n",
      "[I 2024-09-16 19:05:07,090] Trial 152 finished with value: 0.6817773735819138 and parameters: {'booster': 'dart', 'lambda': 0.48131740127306644, 'alpha': 0.2095031155332164, 'subsample': 0.9763501890178985, 'colsample_bytree': 0.8235025924966397, 'max_depth': 7, 'min_child_weight': 2, 'eta': 0.17526175458157467, 'gamma': 0.5348942113028953, 'grow_policy': 'lossguide', 'sample_type': 'uniform', 'normalize_type': 'tree', 'rate_drop': 3.3356692350667318e-06, 'skip_drop': 0.00012456956933449713}. Best is trial 141 with value: 0.6844707171756037.\n",
      "[I 2024-09-16 19:05:08,977] Trial 153 finished with value: 0.682908344701342 and parameters: {'booster': 'dart', 'lambda': 0.7080484556200587, 'alpha': 0.12241424908952485, 'subsample': 0.9549230006891223, 'colsample_bytree': 0.7805948603089907, 'max_depth': 7, 'min_child_weight': 2, 'eta': 0.3314045123417066, 'gamma': 0.28420623403249645, 'grow_policy': 'lossguide', 'sample_type': 'uniform', 'normalize_type': 'tree', 'rate_drop': 1.4007668879461481e-07, 'skip_drop': 0.00036691641877160697}. Best is trial 141 with value: 0.6844707171756037.\n",
      "[I 2024-09-16 19:05:10,951] Trial 154 finished with value: 0.6829666421817249 and parameters: {'booster': 'dart', 'lambda': 0.14014452258937704, 'alpha': 0.01555626930756151, 'subsample': 0.9297193166407337, 'colsample_bytree': 0.7997640690438468, 'max_depth': 7, 'min_child_weight': 2, 'eta': 0.21844905178982232, 'gamma': 0.12004926238868506, 'grow_policy': 'lossguide', 'sample_type': 'uniform', 'normalize_type': 'tree', 'rate_drop': 4.89930577199381e-08, 'skip_drop': 0.0002263005524945972}. Best is trial 141 with value: 0.6844707171756037.\n",
      "[I 2024-09-16 19:05:12,883] Trial 155 finished with value: 0.6825235813308149 and parameters: {'booster': 'dart', 'lambda': 0.33296777585465964, 'alpha': 0.0785754997904465, 'subsample': 0.8940965995668596, 'colsample_bytree': 0.7724002774886887, 'max_depth': 7, 'min_child_weight': 2, 'eta': 0.7711257873802974, 'gamma': 0.042458573336047065, 'grow_policy': 'lossguide', 'sample_type': 'uniform', 'normalize_type': 'tree', 'rate_drop': 1.6170837114404807e-06, 'skip_drop': 0.0007984464363799864}. Best is trial 141 with value: 0.6844707171756037.\n",
      "[I 2024-09-16 19:05:14,875] Trial 156 finished with value: 0.6835612764816305 and parameters: {'booster': 'dart', 'lambda': 0.4013106672367914, 'alpha': 0.009450265546120044, 'subsample': 0.9105943903440512, 'colsample_bytree': 0.7670213893387721, 'max_depth': 7, 'min_child_weight': 2, 'eta': 0.34362909561621063, 'gamma': 0.07733142951001003, 'grow_policy': 'lossguide', 'sample_type': 'uniform', 'normalize_type': 'tree', 'rate_drop': 5.194525623431125e-06, 'skip_drop': 5.661796268713773e-05}. Best is trial 141 with value: 0.6844707171756037.\n",
      "[I 2024-09-16 19:05:16,724] Trial 157 finished with value: 0.6817890330779903 and parameters: {'booster': 'dart', 'lambda': 0.6589288746478731, 'alpha': 0.3158439495895245, 'subsample': 0.9800514983756895, 'colsample_bytree': 0.748186717947433, 'max_depth': 7, 'min_child_weight': 2, 'eta': 0.1404859357344173, 'gamma': 0.19448345157272934, 'grow_policy': 'lossguide', 'sample_type': 'uniform', 'normalize_type': 'tree', 'rate_drop': 9.539469739241107e-07, 'skip_drop': 0.0003761602683008788}. Best is trial 141 with value: 0.6844707171756037.\n",
      "[I 2024-09-16 19:05:18,632] Trial 158 finished with value: 0.6825935383072743 and parameters: {'booster': 'dart', 'lambda': 0.2309134555726268, 'alpha': 0.12309800558447893, 'subsample': 0.9529204482264437, 'colsample_bytree': 0.7780455941241202, 'max_depth': 7, 'min_child_weight': 2, 'eta': 0.7245342057277777, 'gamma': 0.26809547369688974, 'grow_policy': 'lossguide', 'sample_type': 'uniform', 'normalize_type': 'tree', 'rate_drop': 3.2748005731325927e-07, 'skip_drop': 0.00019443244568249023}. Best is trial 141 with value: 0.6844707171756037.\n",
      "[I 2024-09-16 19:05:18,994] Trial 159 finished with value: 0.6658621614373826 and parameters: {'booster': 'gblinear', 'lambda': 0.5023212764688879, 'alpha': 0.020364132284865295, 'subsample': 0.8450644135252314, 'colsample_bytree': 0.7942048048989587}. Best is trial 141 with value: 0.6844707171756037.\n",
      "[I 2024-09-16 19:05:20,939] Trial 160 finished with value: 0.6840393158207703 and parameters: {'booster': 'dart', 'lambda': 0.998742942576324, 'alpha': 0.5246285850023542, 'subsample': 0.9363592942923392, 'colsample_bytree': 0.8109769172822235, 'max_depth': 7, 'min_child_weight': 2, 'eta': 0.41893574464785294, 'gamma': 0.36234022275153643, 'grow_policy': 'lossguide', 'sample_type': 'weighted', 'normalize_type': 'tree', 'rate_drop': 8.166413215837039e-07, 'skip_drop': 0.0006003013082425656}. Best is trial 141 with value: 0.6844707171756037.\n",
      "[I 2024-09-16 19:05:22,879] Trial 161 finished with value: 0.6832931080718692 and parameters: {'booster': 'dart', 'lambda': 0.9697965783333324, 'alpha': 0.2639645023546082, 'subsample': 0.9399758524525127, 'colsample_bytree': 0.7569748203983869, 'max_depth': 7, 'min_child_weight': 2, 'eta': 0.25741232688188814, 'gamma': 0.39307569395019654, 'grow_policy': 'lossguide', 'sample_type': 'weighted', 'normalize_type': 'tree', 'rate_drop': 7.536993144867526e-07, 'skip_drop': 0.0006400060790235574}. Best is trial 141 with value: 0.6844707171756037.\n",
      "[I 2024-09-16 19:05:24,924] Trial 162 finished with value: 0.6829783016778015 and parameters: {'booster': 'dart', 'lambda': 0.6712996535504837, 'alpha': 0.6367058146588472, 'subsample': 0.9152952966106535, 'colsample_bytree': 0.8040741760613951, 'max_depth': 7, 'min_child_weight': 2, 'eta': 0.4795200542307584, 'gamma': 0.12624977833088544, 'grow_policy': 'lossguide', 'sample_type': 'weighted', 'normalize_type': 'tree', 'rate_drop': 1.8747203571461844e-06, 'skip_drop': 0.0010896780360440809}. Best is trial 141 with value: 0.6844707171756037.\n",
      "[I 2024-09-16 19:05:26,952] Trial 163 finished with value: 0.683269789079716 and parameters: {'booster': 'dart', 'lambda': 0.32167843314449096, 'alpha': 0.590712616149263, 'subsample': 0.960056912432722, 'colsample_bytree': 0.8174935884899781, 'max_depth': 7, 'min_child_weight': 2, 'eta': 0.4466387131488942, 'gamma': 0.6939916531883223, 'grow_policy': 'lossguide', 'sample_type': 'weighted', 'normalize_type': 'tree', 'rate_drop': 4.929617579599461e-07, 'skip_drop': 0.0028722881807129405}. Best is trial 141 with value: 0.6844707171756037.\n",
      "[I 2024-09-16 19:05:28,852] Trial 164 finished with value: 0.682546900322968 and parameters: {'booster': 'dart', 'lambda': 0.9883641872075709, 'alpha': 0.007538909170675173, 'subsample': 0.9300411839216763, 'colsample_bytree': 0.7825215985833816, 'max_depth': 7, 'min_child_weight': 2, 'eta': 0.6413984315891949, 'gamma': 0.19370025526179196, 'grow_policy': 'lossguide', 'sample_type': 'weighted', 'normalize_type': 'tree', 'rate_drop': 1.648902265391558e-07, 'skip_drop': 0.0005314473991312122}. Best is trial 141 with value: 0.6844707171756037.\n",
      "[I 2024-09-16 19:05:30,873] Trial 165 finished with value: 0.6793638578940618 and parameters: {'booster': 'dart', 'lambda': 0.4870418396163281, 'alpha': 0.0331542855532325, 'subsample': 0.9799253859240381, 'colsample_bytree': 0.7892122159284887, 'max_depth': 7, 'min_child_weight': 2, 'eta': 0.9946655601630584, 'gamma': 0.08800909888910316, 'grow_policy': 'lossguide', 'sample_type': 'uniform', 'normalize_type': 'tree', 'rate_drop': 0.008255911374645425, 'skip_drop': 0.0002925507829913961}. Best is trial 141 with value: 0.6844707171756037.\n",
      "[I 2024-09-16 19:05:32,815] Trial 166 finished with value: 0.6823603483857428 and parameters: {'booster': 'dart', 'lambda': 0.17142872390419825, 'alpha': 0.16973058058783289, 'subsample': 0.9423079879224201, 'colsample_bytree': 0.773292574049779, 'max_depth': 7, 'min_child_weight': 2, 'eta': 0.33286987783054633, 'gamma': 0.3016372067157094, 'grow_policy': 'lossguide', 'sample_type': 'uniform', 'normalize_type': 'tree', 'rate_drop': 1.0172561104464006e-06, 'skip_drop': 0.0015599481013574736}. Best is trial 141 with value: 0.6844707171756037.\n",
      "[I 2024-09-16 19:05:34,803] Trial 167 finished with value: 0.6829316636934951 and parameters: {'booster': 'dart', 'lambda': 0.27914760579424486, 'alpha': 0.0049116941579208035, 'subsample': 0.9660127995453041, 'colsample_bytree': 0.760174989691139, 'max_depth': 7, 'min_child_weight': 2, 'eta': 0.19773498857830252, 'gamma': 0.04330022518682316, 'grow_policy': 'depthwise', 'sample_type': 'uniform', 'normalize_type': 'tree', 'rate_drop': 6.108523387918209e-07, 'skip_drop': 3.425905885389704e-05}. Best is trial 141 with value: 0.6844707171756037.\n",
      "[I 2024-09-16 19:05:36,835] Trial 168 finished with value: 0.5645644595240594 and parameters: {'booster': 'dart', 'lambda': 0.6725328565967718, 'alpha': 0.06240219380857575, 'subsample': 0.892039202776948, 'colsample_bytree': 0.7972915527613421, 'max_depth': 7, 'min_child_weight': 2, 'eta': 4.496100140435984e-05, 'gamma': 0.06663771692298416, 'grow_policy': 'lossguide', 'sample_type': 'uniform', 'normalize_type': 'forest', 'rate_drop': 3.262142376402709e-07, 'skip_drop': 0.00013280298353400438}. Best is trial 141 with value: 0.6844707171756037.\n",
      "[I 2024-09-16 19:05:38,805] Trial 169 finished with value: 0.6829549826856484 and parameters: {'booster': 'dart', 'lambda': 0.3886758682191608, 'alpha': 0.002977828185505676, 'subsample': 0.9281090799137759, 'colsample_bytree': 0.8088213425503591, 'max_depth': 7, 'min_child_weight': 2, 'eta': 0.4302999497015601, 'gamma': 0.477153879227545, 'grow_policy': 'lossguide', 'sample_type': 'uniform', 'normalize_type': 'tree', 'rate_drop': 1.3797752601395319e-06, 'skip_drop': 0.00042440972274010804}. Best is trial 141 with value: 0.6844707171756037.\n",
      "[I 2024-09-16 19:05:40,747] Trial 170 finished with value: 0.6808329543997108 and parameters: {'booster': 'dart', 'lambda': 0.5065116534498418, 'alpha': 0.5011941687205907, 'subsample': 0.9527310459236039, 'colsample_bytree': 0.7686270411623544, 'max_depth': 7, 'min_child_weight': 2, 'eta': 0.11560309287354027, 'gamma': 0.9417818268170215, 'grow_policy': 'lossguide', 'sample_type': 'uniform', 'normalize_type': 'tree', 'rate_drop': 0.005513221085549479, 'skip_drop': 0.0006962275616016771}. Best is trial 141 with value: 0.6844707171756037.\n",
      "[I 2024-09-16 19:05:42,664] Trial 171 finished with value: 0.6837944664031621 and parameters: {'booster': 'dart', 'lambda': 0.10742998962281683, 'alpha': 0.01132605367819668, 'subsample': 0.9183170726884153, 'colsample_bytree': 0.7674495513617299, 'max_depth': 7, 'min_child_weight': 2, 'eta': 0.31478569471205425, 'gamma': 0.0897322963418025, 'grow_policy': 'lossguide', 'sample_type': 'uniform', 'normalize_type': 'tree', 'rate_drop': 4.356191261316321e-06, 'skip_drop': 5.600295383595005e-05}. Best is trial 141 with value: 0.6844707171756037.\n",
      "[I 2024-09-16 19:05:44,658] Trial 172 finished with value: 0.6835029790012476 and parameters: {'booster': 'dart', 'lambda': 0.2439402842743953, 'alpha': 0.01265179892067794, 'subsample': 0.9128579435969064, 'colsample_bytree': 0.7829537614273124, 'max_depth': 7, 'min_child_weight': 2, 'eta': 0.24240184656620398, 'gamma': 0.14770549694849713, 'grow_policy': 'lossguide', 'sample_type': 'uniform', 'normalize_type': 'tree', 'rate_drop': 9.365086456012014e-07, 'skip_drop': 2.0424050795925056e-05}. Best is trial 141 with value: 0.6844707171756037.\n",
      "[I 2024-09-16 19:05:46,549] Trial 173 finished with value: 0.6836079144659368 and parameters: {'booster': 'dart', 'lambda': 0.12658413235058397, 'alpha': 0.008079305875188321, 'subsample': 0.9685854951893502, 'colsample_bytree': 0.740837245008776, 'max_depth': 7, 'min_child_weight': 2, 'eta': 0.36246023538985184, 'gamma': 0.20054429484858807, 'grow_policy': 'lossguide', 'sample_type': 'uniform', 'normalize_type': 'tree', 'rate_drop': 4.385040316780909e-06, 'skip_drop': 9.215583476739985e-05}. Best is trial 141 with value: 0.6844707171756037.\n",
      "[I 2024-09-16 19:05:48,474] Trial 174 finished with value: 0.5645644595240594 and parameters: {'booster': 'dart', 'lambda': 0.12494962781212551, 'alpha': 0.006437839224680699, 'subsample': 0.9343791434906802, 'colsample_bytree': 0.7418034084582664, 'max_depth': 7, 'min_child_weight': 2, 'eta': 4.0420737201191066e-06, 'gamma': 0.10714972812013748, 'grow_policy': 'lossguide', 'sample_type': 'uniform', 'normalize_type': 'tree', 'rate_drop': 7.4738383294997926e-06, 'skip_drop': 7.880900522760064e-05}. Best is trial 141 with value: 0.6844707171756037.\n",
      "[I 2024-09-16 19:05:50,464] Trial 175 finished with value: 0.6821854559445941 and parameters: {'booster': 'dart', 'lambda': 0.10565412035331666, 'alpha': 0.009225498685728287, 'subsample': 0.8598580096905032, 'colsample_bytree': 0.7764861034234704, 'max_depth': 7, 'min_child_weight': 2, 'eta': 0.6586805586405995, 'gamma': 0.19481800509254046, 'grow_policy': 'lossguide', 'sample_type': 'uniform', 'normalize_type': 'tree', 'rate_drop': 3.69526595892877e-06, 'skip_drop': 0.00010622821693456046}. Best is trial 141 with value: 0.6844707171756037.\n",
      "[I 2024-09-16 19:05:52,400] Trial 176 finished with value: 0.6821971154406706 and parameters: {'booster': 'dart', 'lambda': 0.17486907346696243, 'alpha': 0.003085991559618977, 'subsample': 0.9011865719913675, 'colsample_bytree': 0.7366805362489265, 'max_depth': 7, 'min_child_weight': 2, 'eta': 0.16501356795965808, 'gamma': 0.33189011000337854, 'grow_policy': 'lossguide', 'sample_type': 'uniform', 'normalize_type': 'tree', 'rate_drop': 2.0297241016866594e-06, 'skip_drop': 0.0012324356895049395}. Best is trial 141 with value: 0.6844707171756037.\n",
      "[I 2024-09-16 19:05:54,294] Trial 177 finished with value: 0.6831531941189501 and parameters: {'booster': 'dart', 'lambda': 0.3531969294663775, 'alpha': 0.005202614148788885, 'subsample': 0.9667982652315941, 'colsample_bytree': 0.7294061627316232, 'max_depth': 7, 'min_child_weight': 2, 'eta': 0.29043187709175494, 'gamma': 0.06250816117855343, 'grow_policy': 'lossguide', 'sample_type': 'weighted', 'normalize_type': 'tree', 'rate_drop': 2.3607769174204684e-06, 'skip_drop': 0.00023395669534714557}. Best is trial 141 with value: 0.6844707171756037.\n",
      "[I 2024-09-16 19:05:56,202] Trial 178 finished with value: 0.683048258654261 and parameters: {'booster': 'dart', 'lambda': 0.0706816452021569, 'alpha': 0.012566169431394837, 'subsample': 0.9476295603178007, 'colsample_bytree': 0.7236062145990939, 'max_depth': 7, 'min_child_weight': 2, 'eta': 0.477071871184961, 'gamma': 0.5569667859245027, 'grow_policy': 'lossguide', 'sample_type': 'uniform', 'normalize_type': 'tree', 'rate_drop': 3.864648986581306e-06, 'skip_drop': 0.00048418061110477596}. Best is trial 141 with value: 0.6844707171756037.\n",
      "[I 2024-09-16 19:05:58,174] Trial 179 finished with value: 0.6837594879149324 and parameters: {'booster': 'dart', 'lambda': 0.18223808979002595, 'alpha': 0.22883814944396175, 'subsample': 0.9223345977922638, 'colsample_bytree': 0.755773649245262, 'max_depth': 7, 'min_child_weight': 2, 'eta': 0.23979581974778197, 'gamma': 0.02772004114477521, 'grow_policy': 'lossguide', 'sample_type': 'uniform', 'normalize_type': 'tree', 'rate_drop': 1.421920844912361e-06, 'skip_drop': 4.1647630988293567e-05}. Best is trial 141 with value: 0.6844707171756037.\n",
      "[I 2024-09-16 19:05:59,693] Trial 180 finished with value: 0.680273298588035 and parameters: {'booster': 'dart', 'lambda': 0.18669417662448204, 'alpha': 0.2321974402463905, 'subsample': 0.8805673263548345, 'colsample_bytree': 0.8400825002493649, 'max_depth': 5, 'min_child_weight': 2, 'eta': 0.20858897089159273, 'gamma': 0.026636720044538483, 'grow_policy': 'lossguide', 'sample_type': 'uniform', 'normalize_type': 'tree', 'rate_drop': 1.6026896246884158e-06, 'skip_drop': 3.65962891339842e-05}. Best is trial 141 with value: 0.6844707171756037.\n",
      "[I 2024-09-16 19:06:01,742] Trial 181 finished with value: 0.6823370293935896 and parameters: {'booster': 'dart', 'lambda': 0.5066779959769719, 'alpha': 0.11393959253605883, 'subsample': 0.9192246625220073, 'colsample_bytree': 0.7533469114177551, 'max_depth': 7, 'min_child_weight': 2, 'eta': 0.5528170760876826, 'gamma': 0.03632169125083853, 'grow_policy': 'lossguide', 'sample_type': 'uniform', 'normalize_type': 'tree', 'rate_drop': 4.3526599134317235e-07, 'skip_drop': 0.0008844800958258443}. Best is trial 141 with value: 0.6844707171756037.\n",
      "[I 2024-09-16 19:06:03,722] Trial 182 finished with value: 0.684155910781536 and parameters: {'booster': 'dart', 'lambda': 0.2943389419482835, 'alpha': 0.17789881168852126, 'subsample': 0.9368361912455397, 'colsample_bytree': 0.7450014114842025, 'max_depth': 7, 'min_child_weight': 2, 'eta': 0.2953004659533792, 'gamma': 0.09356161647178778, 'grow_policy': 'lossguide', 'sample_type': 'uniform', 'normalize_type': 'tree', 'rate_drop': 0.0039279392732788874, 'skip_drop': 6.507093826618661e-05}. Best is trial 141 with value: 0.6844707171756037.\n",
      "[I 2024-09-16 19:06:05,684] Trial 183 finished with value: 0.6835029790012476 and parameters: {'booster': 'dart', 'lambda': 0.12071806861745629, 'alpha': 0.1954818000326265, 'subsample': 0.933857991855128, 'colsample_bytree': 0.7477883369699879, 'max_depth': 7, 'min_child_weight': 2, 'eta': 0.2479611531566197, 'gamma': 0.04788270917391572, 'grow_policy': 'lossguide', 'sample_type': 'uniform', 'normalize_type': 'tree', 'rate_drop': 0.004358949136447171, 'skip_drop': 5.3101426043398835e-05}. Best is trial 141 with value: 0.6844707171756037.\n",
      "[I 2024-09-16 19:06:07,753] Trial 184 finished with value: 0.6807396784310982 and parameters: {'booster': 'dart', 'lambda': 0.23757620839789614, 'alpha': 0.30391912796139164, 'subsample': 0.9074832232210718, 'colsample_bytree': 0.7448787625308073, 'max_depth': 7, 'min_child_weight': 2, 'eta': 0.11650076316330599, 'gamma': 0.08771225045736905, 'grow_policy': 'lossguide', 'sample_type': 'uniform', 'normalize_type': 'tree', 'rate_drop': 0.002372086943218435, 'skip_drop': 7.529891708690416e-05}. Best is trial 141 with value: 0.6844707171756037.\n",
      "[I 2024-09-16 19:06:09,737] Trial 185 finished with value: 0.6831881726071799 and parameters: {'booster': 'dart', 'lambda': 0.3443796586457253, 'alpha': 0.8719738522908925, 'subsample': 0.9423196909872196, 'colsample_bytree': 0.7546785580172953, 'max_depth': 7, 'min_child_weight': 2, 'eta': 0.1756187998419964, 'gamma': 0.2169413442446021, 'grow_policy': 'lossguide', 'sample_type': 'uniform', 'normalize_type': 'tree', 'rate_drop': 9.87198991769591e-06, 'skip_drop': 0.0001403701566360938}. Best is trial 141 with value: 0.6844707171756037.\n",
      "[I 2024-09-16 19:06:11,771] Trial 186 finished with value: 0.6834097030326349 and parameters: {'booster': 'dart', 'lambda': 0.9534474884391397, 'alpha': 0.15820352984879985, 'subsample': 0.9185825608780551, 'colsample_bytree': 0.7866110494456511, 'max_depth': 7, 'min_child_weight': 2, 'eta': 0.33143368447109317, 'gamma': 0.1114442086793888, 'grow_policy': 'lossguide', 'sample_type': 'uniform', 'normalize_type': 'tree', 'rate_drop': 0.030005781049576758, 'skip_drop': 2.1054865067767103e-05}. Best is trial 141 with value: 0.6844707171756037.\n",
      "[I 2024-09-16 19:06:13,651] Trial 187 finished with value: 0.6817423950936841 and parameters: {'booster': 'dart', 'lambda': 0.16787441873044961, 'alpha': 0.43761456446330504, 'subsample': 0.9747067225479902, 'colsample_bytree': 0.7193054523261083, 'max_depth': 7, 'min_child_weight': 2, 'eta': 0.6562536947027274, 'gamma': 0.1670164713532941, 'grow_policy': 'lossguide', 'sample_type': 'uniform', 'normalize_type': 'tree', 'rate_drop': 4.4762030696420735e-06, 'skip_drop': 4.352527246113253e-05}. Best is trial 141 with value: 0.6844707171756037.\n",
      "[I 2024-09-16 19:06:15,659] Trial 188 finished with value: 0.6744085720615155 and parameters: {'booster': 'dart', 'lambda': 0.26998570081167755, 'alpha': 0.0976736322768078, 'subsample': 0.8908463110446639, 'colsample_bytree': 0.7435927626899548, 'max_depth': 7, 'min_child_weight': 2, 'eta': 0.06546883109831102, 'gamma': 0.0759753294658429, 'grow_policy': 'lossguide', 'sample_type': 'uniform', 'normalize_type': 'tree', 'rate_drop': 0.010293443332393792, 'skip_drop': 0.000101578999144824}. Best is trial 141 with value: 0.6844707171756037.\n",
      "[I 2024-09-16 19:06:16,038] Trial 189 finished with value: 0.6736507048165379 and parameters: {'booster': 'gblinear', 'lambda': 0.08790693456329925, 'alpha': 0.004064453583593245, 'subsample': 0.9607713810226534, 'colsample_bytree': 0.731774988829663}. Best is trial 141 with value: 0.6844707171756037.\n",
      "[I 2024-09-16 19:06:18,053] Trial 190 finished with value: 0.6824886028425852 and parameters: {'booster': 'dart', 'lambda': 0.43804503583245974, 'alpha': 0.00692238978764568, 'subsample': 0.9254266949201629, 'colsample_bytree': 0.7646018462137052, 'max_depth': 7, 'min_child_weight': 2, 'eta': 0.4743411130856226, 'gamma': 0.03147742189352296, 'grow_policy': 'lossguide', 'sample_type': 'uniform', 'normalize_type': 'tree', 'rate_drop': 1.2817436884839421e-06, 'skip_drop': 0.0003207025112661113}. Best is trial 141 with value: 0.6844707171756037.\n",
      "[I 2024-09-16 19:06:19,988] Trial 191 finished with value: 0.6834446815208647 and parameters: {'booster': 'dart', 'lambda': 0.6304073921013945, 'alpha': 0.05917584495228412, 'subsample': 0.952010570438735, 'colsample_bytree': 0.7713505781735305, 'max_depth': 7, 'min_child_weight': 2, 'eta': 0.31700207013533305, 'gamma': 0.13372511931360934, 'grow_policy': 'lossguide', 'sample_type': 'uniform', 'normalize_type': 'tree', 'rate_drop': 8.014330125011791e-07, 'skip_drop': 3.30022950331433e-07}. Best is trial 141 with value: 0.6844707171756037.\n",
      "[I 2024-09-16 19:06:21,916] Trial 192 finished with value: 0.6834446815208647 and parameters: {'booster': 'dart', 'lambda': 0.7014271353248953, 'alpha': 0.033316009776979405, 'subsample': 0.9858629341153305, 'colsample_bytree': 0.8726064111557742, 'max_depth': 7, 'min_child_weight': 2, 'eta': 0.4365371718439547, 'gamma': 0.35503651228095884, 'grow_policy': 'lossguide', 'sample_type': 'uniform', 'normalize_type': 'tree', 'rate_drop': 0.003949492140158451, 'skip_drop': 0.0005144228577735805}. Best is trial 141 with value: 0.6844707171756037.\n",
      "[I 2024-09-16 19:06:23,818] Trial 193 finished with value: 0.683852763883545 and parameters: {'booster': 'dart', 'lambda': 0.5141256368966253, 'alpha': 0.28193886567799364, 'subsample': 0.9400808086179391, 'colsample_bytree': 0.7578269729870134, 'max_depth': 7, 'min_child_weight': 2, 'eta': 0.26829703609447936, 'gamma': 0.05937459737428313, 'grow_policy': 'lossguide', 'sample_type': 'uniform', 'normalize_type': 'tree', 'rate_drop': 0.002627059946275823, 'skip_drop': 0.00021476815597643763}. Best is trial 141 with value: 0.6844707171756037.\n",
      "[I 2024-09-16 19:06:25,775] Trial 194 finished with value: 0.6837011904345495 and parameters: {'booster': 'dart', 'lambda': 0.37780829143813527, 'alpha': 0.2269130951263077, 'subsample': 0.9373816565538843, 'colsample_bytree': 0.756131063058543, 'max_depth': 7, 'min_child_weight': 2, 'eta': 0.2349577146910371, 'gamma': 0.05364002871184306, 'grow_policy': 'lossguide', 'sample_type': 'uniform', 'normalize_type': 'tree', 'rate_drop': 0.002977156890297134, 'skip_drop': 0.00021136567848971112}. Best is trial 141 with value: 0.6844707171756037.\n",
      "[I 2024-09-16 19:06:27,786] Trial 195 finished with value: 0.6824419648582788 and parameters: {'booster': 'dart', 'lambda': 0.40490394765151777, 'alpha': 0.2874543698517485, 'subsample': 0.9341638765845629, 'colsample_bytree': 0.7595300873121767, 'max_depth': 7, 'min_child_weight': 2, 'eta': 0.16611637774432883, 'gamma': 0.05359080388691669, 'grow_policy': 'lossguide', 'sample_type': 'uniform', 'normalize_type': 'forest', 'rate_drop': 0.0035083004153937556, 'skip_drop': 0.00031520103618118905}. Best is trial 141 with value: 0.6844707171756037.\n",
      "[I 2024-09-16 19:06:29,768] Trial 196 finished with value: 0.68363123345809 and parameters: {'booster': 'dart', 'lambda': 0.2903700868086074, 'alpha': 0.5397900548327217, 'subsample': 0.9058419817694812, 'colsample_bytree': 0.7546525129838082, 'max_depth': 7, 'min_child_weight': 2, 'eta': 0.26258761678292053, 'gamma': 0.04289648294402921, 'grow_policy': 'lossguide', 'sample_type': 'uniform', 'normalize_type': 'tree', 'rate_drop': 0.0025755004479361262, 'skip_drop': 0.0002001446636321878}. Best is trial 141 with value: 0.6844707171756037.\n",
      "[I 2024-09-16 19:06:31,895] Trial 197 finished with value: 0.6835962549698602 and parameters: {'booster': 'dart', 'lambda': 4.83046125632951e-06, 'alpha': 0.6332905792299011, 'subsample': 0.9150936228771334, 'colsample_bytree': 0.7535030102334667, 'max_depth': 7, 'min_child_weight': 2, 'eta': 0.23719923710440602, 'gamma': 0.0368938427797742, 'grow_policy': 'depthwise', 'sample_type': 'uniform', 'normalize_type': 'tree', 'rate_drop': 0.007038322110430184, 'skip_drop': 0.00021477777464786458}. Best is trial 141 with value: 0.6844707171756037.\n",
      "[I 2024-09-16 19:06:34,103] Trial 198 finished with value: 0.6803082770762647 and parameters: {'booster': 'dart', 'lambda': 0.5040858920775387, 'alpha': 0.47207688267404835, 'subsample': 0.9011126927403671, 'colsample_bytree': 0.7573606060656651, 'max_depth': 7, 'min_child_weight': 2, 'eta': 0.11136907131355916, 'gamma': 0.024769488096109828, 'grow_policy': 'lossguide', 'sample_type': 'uniform', 'normalize_type': 'tree', 'rate_drop': 0.002584952210745051, 'skip_drop': 0.0001677321626556033}. Best is trial 141 with value: 0.6844707171756037.\n",
      "[I 2024-09-16 19:06:36,068] Trial 199 finished with value: 0.6779763778609489 and parameters: {'booster': 'dart', 'lambda': 0.2903291598765285, 'alpha': 0.1969760027881836, 'subsample': 0.9457835421513617, 'colsample_bytree': 0.7621946435585468, 'max_depth': 7, 'min_child_weight': 2, 'eta': 0.08389004670811039, 'gamma': 0.055973157115777605, 'grow_policy': 'lossguide', 'sample_type': 'weighted', 'normalize_type': 'tree', 'rate_drop': 0.014138696928274977, 'skip_drop': 0.00019943648434109725}. Best is trial 141 with value: 0.6844707171756037.\n"
     ]
    },
    {
     "name": "stdout",
     "output_type": "stream",
     "text": [
      "Number of finished trials:  200\n",
      "Best trial:\n",
      "  Value: 0.6844707171756037\n",
      "  Params: \n",
      "    booster: dart\n",
      "    lambda: 0.6737870636722346\n",
      "    alpha: 0.05945403589338685\n",
      "    subsample: 0.9391927120384811\n",
      "    colsample_bytree: 0.751051549571555\n",
      "    max_depth: 7\n",
      "    min_child_weight: 2\n",
      "    eta: 0.32294058008813725\n",
      "    gamma: 0.4399138601349001\n",
      "    grow_policy: lossguide\n",
      "    sample_type: uniform\n",
      "    normalize_type: tree\n",
      "    rate_drop: 6.847639589409785e-07\n",
      "    skip_drop: 0.0007494399472731043\n"
     ]
    }
   ],
   "source": [
    "train = xgb.DMatrix(data=X_train_scaled, label=y_train)\n",
    "test = xgb.DMatrix(data=X_test_scaled, label=y_test)\n",
    "\n",
    "\n",
    "def objective(trial):\n",
    "    param = {\n",
    "        \"verbosity\": 0,\n",
    "        \"objective\": \"binary:logistic\",\n",
    "        # use exact for small dataset.\n",
    "        \"tree_method\": \"exact\",\n",
    "        # defines booster, gblinear for linear functions.\n",
    "        \"booster\": trial.suggest_categorical(\"booster\", [\"gbtree\", \"gblinear\", \"dart\"]),\n",
    "        # L2 regularization weight.\n",
    "        \"lambda\": trial.suggest_float(\"lambda\", 1e-8, 1.0, log=True),\n",
    "        # L1 regularization weight.\n",
    "        \"alpha\": trial.suggest_float(\"alpha\", 1e-8, 1.0, log=True),\n",
    "        # sampling ratio for training data.\n",
    "        \"subsample\": trial.suggest_float(\"subsample\", 0.2, 1.0),\n",
    "        # sampling according to each tree.\n",
    "        \"colsample_bytree\": trial.suggest_float(\"colsample_bytree\", 0.7, 1.0),\n",
    "    }\n",
    "\n",
    "    if param[\"booster\"] in [\"gbtree\", \"dart\"]:\n",
    "        # maximum depth of the tree, signifies complexity of the tree.\n",
    "        param[\"max_depth\"] = trial.suggest_int(\"max_depth\", 3, 9, step=2)\n",
    "        # minimum child weight, larger the term more conservative the tree.\n",
    "        param[\"min_child_weight\"] = trial.suggest_int(\"min_child_weight\", 2, 10)\n",
    "        param[\"eta\"] = trial.suggest_float(\"eta\", 1e-8, 1.0, log=True)\n",
    "        # defines how selective algorithm is.\n",
    "        param[\"gamma\"] = trial.suggest_float(\"gamma\", 1e-8, 1.0, log=True)\n",
    "        param[\"grow_policy\"] = trial.suggest_categorical(\"grow_policy\", [\"depthwise\", \"lossguide\"])\n",
    "\n",
    "    if param[\"booster\"] == \"dart\":\n",
    "        param[\"sample_type\"] = trial.suggest_categorical(\"sample_type\", [\"uniform\", \"weighted\"])\n",
    "        param[\"normalize_type\"] = trial.suggest_categorical(\"normalize_type\", [\"tree\", \"forest\"])\n",
    "        param[\"rate_drop\"] = trial.suggest_float(\"rate_drop\", 1e-8, 1.0, log=True)\n",
    "        param[\"skip_drop\"] = trial.suggest_float(\"skip_drop\", 1e-8, 1.0, log=True)\n",
    "\n",
    "    bst = xgb.train(param, train)\n",
    "    preds = bst.predict(test)\n",
    "    pred_labels = np.rint(preds)\n",
    "    accuracy = accuracy_score(y_test, pred_labels)\n",
    "    return accuracy\n",
    "\n",
    "# Create a study object and optimize the objective function.\n",
    "study = optuna.create_study(direction='maximize')\n",
    "study.optimize(objective, n_trials=200)\n",
    "\n",
    "print(\"Number of finished trials: \", len(study.trials))\n",
    "print(\"Best trial:\")\n",
    "trial = study.best_trial\n",
    "\n",
    "print(\"  Value: {}\".format(trial.value))\n",
    "print(\"  Params: \")\n",
    "for key, value in trial.params.items():\n",
    "    print(\"    {}: {}\".format(key, value))"
   ]
  },
  {
   "cell_type": "code",
   "execution_count": 13,
   "metadata": {},
   "outputs": [
    {
     "ename": "ValueError",
     "evalue": "Mime type rendering requires nbformat>=4.2.0 but it is not installed",
     "output_type": "error",
     "traceback": [
      "\u001b[1;31m---------------------------------------------------------------------------\u001b[0m",
      "\u001b[1;31mValueError\u001b[0m                                Traceback (most recent call last)",
      "File \u001b[1;32m~\\AppData\\Roaming\\Python\\Python312\\site-packages\\IPython\\core\\formatters.py:925\u001b[0m, in \u001b[0;36mIPythonDisplayFormatter.__call__\u001b[1;34m(self, obj)\u001b[0m\n\u001b[0;32m    923\u001b[0m method \u001b[38;5;241m=\u001b[39m get_real_method(obj, \u001b[38;5;28mself\u001b[39m\u001b[38;5;241m.\u001b[39mprint_method)\n\u001b[0;32m    924\u001b[0m \u001b[38;5;28;01mif\u001b[39;00m method \u001b[38;5;129;01mis\u001b[39;00m \u001b[38;5;129;01mnot\u001b[39;00m \u001b[38;5;28;01mNone\u001b[39;00m:\n\u001b[1;32m--> 925\u001b[0m     \u001b[43mmethod\u001b[49m\u001b[43m(\u001b[49m\u001b[43m)\u001b[49m\n\u001b[0;32m    926\u001b[0m     \u001b[38;5;28;01mreturn\u001b[39;00m \u001b[38;5;28;01mTrue\u001b[39;00m\n",
      "File \u001b[1;32mc:\\Users\\Sarah\\anaconda3\\envs\\nba_env\\Lib\\site-packages\\plotly\\basedatatypes.py:832\u001b[0m, in \u001b[0;36mBaseFigure._ipython_display_\u001b[1;34m(self)\u001b[0m\n\u001b[0;32m    829\u001b[0m \u001b[38;5;28;01mimport\u001b[39;00m \u001b[38;5;21;01mplotly\u001b[39;00m\u001b[38;5;21;01m.\u001b[39;00m\u001b[38;5;21;01mio\u001b[39;00m \u001b[38;5;28;01mas\u001b[39;00m \u001b[38;5;21;01mpio\u001b[39;00m\n\u001b[0;32m    831\u001b[0m \u001b[38;5;28;01mif\u001b[39;00m pio\u001b[38;5;241m.\u001b[39mrenderers\u001b[38;5;241m.\u001b[39mrender_on_display \u001b[38;5;129;01mand\u001b[39;00m pio\u001b[38;5;241m.\u001b[39mrenderers\u001b[38;5;241m.\u001b[39mdefault:\n\u001b[1;32m--> 832\u001b[0m     \u001b[43mpio\u001b[49m\u001b[38;5;241;43m.\u001b[39;49m\u001b[43mshow\u001b[49m\u001b[43m(\u001b[49m\u001b[38;5;28;43mself\u001b[39;49m\u001b[43m)\u001b[49m\n\u001b[0;32m    833\u001b[0m \u001b[38;5;28;01melse\u001b[39;00m:\n\u001b[0;32m    834\u001b[0m     \u001b[38;5;28mprint\u001b[39m(\u001b[38;5;28mrepr\u001b[39m(\u001b[38;5;28mself\u001b[39m))\n",
      "File \u001b[1;32mc:\\Users\\Sarah\\anaconda3\\envs\\nba_env\\Lib\\site-packages\\plotly\\io\\_renderers.py:394\u001b[0m, in \u001b[0;36mshow\u001b[1;34m(fig, renderer, validate, **kwargs)\u001b[0m\n\u001b[0;32m    389\u001b[0m         \u001b[38;5;28;01mraise\u001b[39;00m \u001b[38;5;167;01mValueError\u001b[39;00m(\n\u001b[0;32m    390\u001b[0m             \u001b[38;5;124m\"\u001b[39m\u001b[38;5;124mMime type rendering requires ipython but it is not installed\u001b[39m\u001b[38;5;124m\"\u001b[39m\n\u001b[0;32m    391\u001b[0m         )\n\u001b[0;32m    393\u001b[0m     \u001b[38;5;28;01mif\u001b[39;00m \u001b[38;5;129;01mnot\u001b[39;00m nbformat \u001b[38;5;129;01mor\u001b[39;00m Version(nbformat\u001b[38;5;241m.\u001b[39m__version__) \u001b[38;5;241m<\u001b[39m Version(\u001b[38;5;124m\"\u001b[39m\u001b[38;5;124m4.2.0\u001b[39m\u001b[38;5;124m\"\u001b[39m):\n\u001b[1;32m--> 394\u001b[0m         \u001b[38;5;28;01mraise\u001b[39;00m \u001b[38;5;167;01mValueError\u001b[39;00m(\n\u001b[0;32m    395\u001b[0m             \u001b[38;5;124m\"\u001b[39m\u001b[38;5;124mMime type rendering requires nbformat>=4.2.0 but it is not installed\u001b[39m\u001b[38;5;124m\"\u001b[39m\n\u001b[0;32m    396\u001b[0m         )\n\u001b[0;32m    398\u001b[0m     ipython_display\u001b[38;5;241m.\u001b[39mdisplay(bundle, raw\u001b[38;5;241m=\u001b[39m\u001b[38;5;28;01mTrue\u001b[39;00m)\n\u001b[0;32m    400\u001b[0m \u001b[38;5;66;03m# external renderers\u001b[39;00m\n",
      "\u001b[1;31mValueError\u001b[0m: Mime type rendering requires nbformat>=4.2.0 but it is not installed"
     ]
    },
    {
     "data": {
      "application/vnd.plotly.v1+json": {
       "config": {
        "plotlyServerURL": "https://plot.ly"
       },
       "data": [
        {
         "mode": "markers",
         "name": "Objective Value",
         "type": "scatter",
         "x": [
          0,
          1,
          2,
          3,
          4,
          5,
          6,
          7,
          8,
          9,
          10,
          11,
          12,
          13,
          14,
          15,
          16,
          17,
          18,
          19,
          20,
          21,
          22,
          23,
          24,
          25,
          26,
          27,
          28,
          29,
          30,
          31,
          32,
          33,
          34,
          35,
          36,
          37,
          38,
          39,
          40,
          41,
          42,
          43,
          44,
          45,
          46,
          47,
          48,
          49,
          50,
          51,
          52,
          53,
          54,
          55,
          56,
          57,
          58,
          59,
          60,
          61,
          62,
          63,
          64,
          65,
          66,
          67,
          68,
          69,
          70,
          71,
          72,
          73,
          74,
          75,
          76,
          77,
          78,
          79,
          80,
          81,
          82,
          83,
          84,
          85,
          86,
          87,
          88,
          89,
          90,
          91,
          92,
          93,
          94,
          95,
          96,
          97,
          98,
          99,
          100,
          101,
          102,
          103,
          104,
          105,
          106,
          107,
          108,
          109,
          110,
          111,
          112,
          113,
          114,
          115,
          116,
          117,
          118,
          119,
          120,
          121,
          122,
          123,
          124,
          125,
          126,
          127,
          128,
          129,
          130,
          131,
          132,
          133,
          134,
          135,
          136,
          137,
          138,
          139,
          140,
          141,
          142,
          143,
          144,
          145,
          146,
          147,
          148,
          149,
          150,
          151,
          152,
          153,
          154,
          155,
          156,
          157,
          158,
          159,
          160,
          161,
          162,
          163,
          164,
          165,
          166,
          167,
          168,
          169,
          170,
          171,
          172,
          173,
          174,
          175,
          176,
          177,
          178,
          179,
          180,
          181,
          182,
          183,
          184,
          185,
          186,
          187,
          188,
          189,
          190,
          191,
          192,
          193,
          194,
          195,
          196,
          197,
          198,
          199
         ],
         "y": [
          0.5645644595240594,
          0.5645644595240594,
          0.5645644595240594,
          0.6110508703813822,
          0.5645644595240594,
          0.6746301024869705,
          0.5645644595240594,
          0.6716336119952896,
          0.5645644595240594,
          0.5645644595240594,
          0.6745484860144344,
          0.6745368265183579,
          0.6746650809752003,
          0.6745368265183579,
          0.6745135075262048,
          0.6748049949281192,
          0.6745951239987408,
          0.6743852530693624,
          0.6745834645026642,
          0.679690323784206,
          0.6791889654529131,
          0.674979887369268,
          0.6774633600335793,
          0.6766005573239124,
          0.6726829666421817,
          0.6595427145638766,
          0.676670514300372,
          0.6773234460806604,
          0.5645644595240594,
          0.6764373243788403,
          0.5645644595240594,
          0.679527090839134,
          0.6768337472454441,
          0.5645644595240594,
          0.6790373920039176,
          0.6798885352175079,
          0.5723413434071379,
          0.5645644595240594,
          0.6806580619585622,
          0.5645644595240594,
          0.6811477607937785,
          0.6823720078818194,
          0.6797835997528187,
          0.6807280189350217,
          0.566931337227605,
          0.6819289470309093,
          0.5645644595240594,
          0.5645644595240594,
          0.6838644233796215,
          0.5645644595240594,
          0.6198887684074295,
          0.6817890330779903,
          0.682325369897513,
          0.682465283850432,
          0.6825702193151212,
          0.6818589900544498,
          0.6460176991150443,
          0.5645644595240594,
          0.6830599181503375,
          0.6823486888896662,
          0.682022222999522,
          0.5645644595240594,
          0.6752480557790292,
          0.6823137104014364,
          0.6730327515244792,
          0.6822204344328238,
          0.5645644595240594,
          0.5645644595240594,
          0.6721116513344293,
          0.6811827392820082,
          0.6762740914337683,
          0.6829316636934951,
          0.6823836673778959,
          0.6804715100213369,
          0.672869518579407,
          0.6797486212645889,
          0.639814847202304,
          0.6818939685426796,
          0.5842223699091725,
          0.6748866114006553,
          0.6805414669977964,
          0.6827334522601933,
          0.680331596068418,
          0.6825702193151212,
          0.6801217251390395,
          0.6823486888896662,
          0.5645644595240594,
          0.6711322536639966,
          0.674560145510511,
          0.6821504774563644,
          0.6817423950936841,
          0.6823020509053599,
          0.6826168572994276,
          0.6811477607937785,
          0.5645644595240594,
          0.6827101332680402,
          0.6830249396621078,
          0.5645644595240594,
          0.6829433231895717,
          0.6817190761015309,
          0.681800692574067,
          0.6824769433465085,
          0.682686814275887,
          0.6828617067170357,
          0.6818240115662201,
          0.6814742266839228,
          0.680634742966409,
          0.683852763883545,
          0.6842025487658423,
          0.6694532862289692,
          0.6833747245444052,
          0.683269789079716,
          0.6814858861799993,
          0.682686814275887,
          0.6815558431564588,
          0.683048258654261,
          0.6802966175801882,
          0.6824769433465085,
          0.5645644595240594,
          0.6836079144659368,
          0.6817423950936841,
          0.6840626348129234,
          0.677055277670899,
          0.6837011904345495,
          0.6842958247344549,
          0.6841325917893829,
          0.6834563410169412,
          0.6835612764816305,
          0.681299334242774,
          0.5645644595240594,
          0.6674128744155677,
          0.6839227208600044,
          0.6825002623386617,
          0.6835612764816305,
          0.681077803817319,
          0.683491319505171,
          0.6836195739620133,
          0.6831182156307204,
          0.6785593526647778,
          0.6837711474110089,
          0.67960870731167,
          0.6844707171756037,
          0.6839110613639279,
          0.6825585598190447,
          0.6828500472209591,
          0.6714237410659112,
          0.6822204344328238,
          0.683048258654261,
          0.6822670724171301,
          0.6834796600090944,
          0.6792356034372194,
          0.684155910781536,
          0.6817773735819138,
          0.682908344701342,
          0.6829666421817249,
          0.6825235813308149,
          0.6835612764816305,
          0.6817890330779903,
          0.6825935383072743,
          0.6658621614373826,
          0.6840393158207703,
          0.6832931080718692,
          0.6829783016778015,
          0.683269789079716,
          0.682546900322968,
          0.6793638578940618,
          0.6823603483857428,
          0.6829316636934951,
          0.5645644595240594,
          0.6829549826856484,
          0.6808329543997108,
          0.6837944664031621,
          0.6835029790012476,
          0.6836079144659368,
          0.5645644595240594,
          0.6821854559445941,
          0.6821971154406706,
          0.6831531941189501,
          0.683048258654261,
          0.6837594879149324,
          0.680273298588035,
          0.6823370293935896,
          0.684155910781536,
          0.6835029790012476,
          0.6807396784310982,
          0.6831881726071799,
          0.6834097030326349,
          0.6817423950936841,
          0.6744085720615155,
          0.6736507048165379,
          0.6824886028425852,
          0.6834446815208647,
          0.6834446815208647,
          0.683852763883545,
          0.6837011904345495,
          0.6824419648582788,
          0.68363123345809,
          0.6835962549698602,
          0.6803082770762647,
          0.6779763778609489
         ]
        },
        {
         "mode": "lines",
         "name": "Best Value",
         "type": "scatter",
         "x": [
          0,
          1,
          2,
          3,
          4,
          5,
          6,
          7,
          8,
          9,
          10,
          11,
          12,
          13,
          14,
          15,
          16,
          17,
          18,
          19,
          20,
          21,
          22,
          23,
          24,
          25,
          26,
          27,
          28,
          29,
          30,
          31,
          32,
          33,
          34,
          35,
          36,
          37,
          38,
          39,
          40,
          41,
          42,
          43,
          44,
          45,
          46,
          47,
          48,
          49,
          50,
          51,
          52,
          53,
          54,
          55,
          56,
          57,
          58,
          59,
          60,
          61,
          62,
          63,
          64,
          65,
          66,
          67,
          68,
          69,
          70,
          71,
          72,
          73,
          74,
          75,
          76,
          77,
          78,
          79,
          80,
          81,
          82,
          83,
          84,
          85,
          86,
          87,
          88,
          89,
          90,
          91,
          92,
          93,
          94,
          95,
          96,
          97,
          98,
          99,
          100,
          101,
          102,
          103,
          104,
          105,
          106,
          107,
          108,
          109,
          110,
          111,
          112,
          113,
          114,
          115,
          116,
          117,
          118,
          119,
          120,
          121,
          122,
          123,
          124,
          125,
          126,
          127,
          128,
          129,
          130,
          131,
          132,
          133,
          134,
          135,
          136,
          137,
          138,
          139,
          140,
          141,
          142,
          143,
          144,
          145,
          146,
          147,
          148,
          149,
          150,
          151,
          152,
          153,
          154,
          155,
          156,
          157,
          158,
          159,
          160,
          161,
          162,
          163,
          164,
          165,
          166,
          167,
          168,
          169,
          170,
          171,
          172,
          173,
          174,
          175,
          176,
          177,
          178,
          179,
          180,
          181,
          182,
          183,
          184,
          185,
          186,
          187,
          188,
          189,
          190,
          191,
          192,
          193,
          194,
          195,
          196,
          197,
          198,
          199
         ],
         "y": [
          0.5645644595240594,
          0.5645644595240594,
          0.5645644595240594,
          0.6110508703813822,
          0.6110508703813822,
          0.6746301024869705,
          0.6746301024869705,
          0.6746301024869705,
          0.6746301024869705,
          0.6746301024869705,
          0.6746301024869705,
          0.6746301024869705,
          0.6746650809752003,
          0.6746650809752003,
          0.6746650809752003,
          0.6748049949281192,
          0.6748049949281192,
          0.6748049949281192,
          0.6748049949281192,
          0.679690323784206,
          0.679690323784206,
          0.679690323784206,
          0.679690323784206,
          0.679690323784206,
          0.679690323784206,
          0.679690323784206,
          0.679690323784206,
          0.679690323784206,
          0.679690323784206,
          0.679690323784206,
          0.679690323784206,
          0.679690323784206,
          0.679690323784206,
          0.679690323784206,
          0.679690323784206,
          0.6798885352175079,
          0.6798885352175079,
          0.6798885352175079,
          0.6806580619585622,
          0.6806580619585622,
          0.6811477607937785,
          0.6823720078818194,
          0.6823720078818194,
          0.6823720078818194,
          0.6823720078818194,
          0.6823720078818194,
          0.6823720078818194,
          0.6823720078818194,
          0.6838644233796215,
          0.6838644233796215,
          0.6838644233796215,
          0.6838644233796215,
          0.6838644233796215,
          0.6838644233796215,
          0.6838644233796215,
          0.6838644233796215,
          0.6838644233796215,
          0.6838644233796215,
          0.6838644233796215,
          0.6838644233796215,
          0.6838644233796215,
          0.6838644233796215,
          0.6838644233796215,
          0.6838644233796215,
          0.6838644233796215,
          0.6838644233796215,
          0.6838644233796215,
          0.6838644233796215,
          0.6838644233796215,
          0.6838644233796215,
          0.6838644233796215,
          0.6838644233796215,
          0.6838644233796215,
          0.6838644233796215,
          0.6838644233796215,
          0.6838644233796215,
          0.6838644233796215,
          0.6838644233796215,
          0.6838644233796215,
          0.6838644233796215,
          0.6838644233796215,
          0.6838644233796215,
          0.6838644233796215,
          0.6838644233796215,
          0.6838644233796215,
          0.6838644233796215,
          0.6838644233796215,
          0.6838644233796215,
          0.6838644233796215,
          0.6838644233796215,
          0.6838644233796215,
          0.6838644233796215,
          0.6838644233796215,
          0.6838644233796215,
          0.6838644233796215,
          0.6838644233796215,
          0.6838644233796215,
          0.6838644233796215,
          0.6838644233796215,
          0.6838644233796215,
          0.6838644233796215,
          0.6838644233796215,
          0.6838644233796215,
          0.6838644233796215,
          0.6838644233796215,
          0.6838644233796215,
          0.6838644233796215,
          0.6838644233796215,
          0.6842025487658423,
          0.6842025487658423,
          0.6842025487658423,
          0.6842025487658423,
          0.6842025487658423,
          0.6842025487658423,
          0.6842025487658423,
          0.6842025487658423,
          0.6842025487658423,
          0.6842025487658423,
          0.6842025487658423,
          0.6842025487658423,
          0.6842025487658423,
          0.6842025487658423,
          0.6842025487658423,
          0.6842025487658423,
          0.6842958247344549,
          0.6842958247344549,
          0.6842958247344549,
          0.6842958247344549,
          0.6842958247344549,
          0.6842958247344549,
          0.6842958247344549,
          0.6842958247344549,
          0.6842958247344549,
          0.6842958247344549,
          0.6842958247344549,
          0.6842958247344549,
          0.6842958247344549,
          0.6842958247344549,
          0.6842958247344549,
          0.6842958247344549,
          0.6842958247344549,
          0.6844707171756037,
          0.6844707171756037,
          0.6844707171756037,
          0.6844707171756037,
          0.6844707171756037,
          0.6844707171756037,
          0.6844707171756037,
          0.6844707171756037,
          0.6844707171756037,
          0.6844707171756037,
          0.6844707171756037,
          0.6844707171756037,
          0.6844707171756037,
          0.6844707171756037,
          0.6844707171756037,
          0.6844707171756037,
          0.6844707171756037,
          0.6844707171756037,
          0.6844707171756037,
          0.6844707171756037,
          0.6844707171756037,
          0.6844707171756037,
          0.6844707171756037,
          0.6844707171756037,
          0.6844707171756037,
          0.6844707171756037,
          0.6844707171756037,
          0.6844707171756037,
          0.6844707171756037,
          0.6844707171756037,
          0.6844707171756037,
          0.6844707171756037,
          0.6844707171756037,
          0.6844707171756037,
          0.6844707171756037,
          0.6844707171756037,
          0.6844707171756037,
          0.6844707171756037,
          0.6844707171756037,
          0.6844707171756037,
          0.6844707171756037,
          0.6844707171756037,
          0.6844707171756037,
          0.6844707171756037,
          0.6844707171756037,
          0.6844707171756037,
          0.6844707171756037,
          0.6844707171756037,
          0.6844707171756037,
          0.6844707171756037,
          0.6844707171756037,
          0.6844707171756037,
          0.6844707171756037,
          0.6844707171756037,
          0.6844707171756037,
          0.6844707171756037,
          0.6844707171756037,
          0.6844707171756037,
          0.6844707171756037
         ]
        },
        {
         "marker": {
          "color": "#cccccc"
         },
         "mode": "markers",
         "name": "Infeasible Trial",
         "showlegend": false,
         "type": "scatter",
         "x": [],
         "y": []
        }
       ],
       "layout": {
        "template": {
         "data": {
          "bar": [
           {
            "error_x": {
             "color": "#2a3f5f"
            },
            "error_y": {
             "color": "#2a3f5f"
            },
            "marker": {
             "line": {
              "color": "#E5ECF6",
              "width": 0.5
             },
             "pattern": {
              "fillmode": "overlay",
              "size": 10,
              "solidity": 0.2
             }
            },
            "type": "bar"
           }
          ],
          "barpolar": [
           {
            "marker": {
             "line": {
              "color": "#E5ECF6",
              "width": 0.5
             },
             "pattern": {
              "fillmode": "overlay",
              "size": 10,
              "solidity": 0.2
             }
            },
            "type": "barpolar"
           }
          ],
          "carpet": [
           {
            "aaxis": {
             "endlinecolor": "#2a3f5f",
             "gridcolor": "white",
             "linecolor": "white",
             "minorgridcolor": "white",
             "startlinecolor": "#2a3f5f"
            },
            "baxis": {
             "endlinecolor": "#2a3f5f",
             "gridcolor": "white",
             "linecolor": "white",
             "minorgridcolor": "white",
             "startlinecolor": "#2a3f5f"
            },
            "type": "carpet"
           }
          ],
          "choropleth": [
           {
            "colorbar": {
             "outlinewidth": 0,
             "ticks": ""
            },
            "type": "choropleth"
           }
          ],
          "contour": [
           {
            "colorbar": {
             "outlinewidth": 0,
             "ticks": ""
            },
            "colorscale": [
             [
              0,
              "#0d0887"
             ],
             [
              0.1111111111111111,
              "#46039f"
             ],
             [
              0.2222222222222222,
              "#7201a8"
             ],
             [
              0.3333333333333333,
              "#9c179e"
             ],
             [
              0.4444444444444444,
              "#bd3786"
             ],
             [
              0.5555555555555556,
              "#d8576b"
             ],
             [
              0.6666666666666666,
              "#ed7953"
             ],
             [
              0.7777777777777778,
              "#fb9f3a"
             ],
             [
              0.8888888888888888,
              "#fdca26"
             ],
             [
              1,
              "#f0f921"
             ]
            ],
            "type": "contour"
           }
          ],
          "contourcarpet": [
           {
            "colorbar": {
             "outlinewidth": 0,
             "ticks": ""
            },
            "type": "contourcarpet"
           }
          ],
          "heatmap": [
           {
            "colorbar": {
             "outlinewidth": 0,
             "ticks": ""
            },
            "colorscale": [
             [
              0,
              "#0d0887"
             ],
             [
              0.1111111111111111,
              "#46039f"
             ],
             [
              0.2222222222222222,
              "#7201a8"
             ],
             [
              0.3333333333333333,
              "#9c179e"
             ],
             [
              0.4444444444444444,
              "#bd3786"
             ],
             [
              0.5555555555555556,
              "#d8576b"
             ],
             [
              0.6666666666666666,
              "#ed7953"
             ],
             [
              0.7777777777777778,
              "#fb9f3a"
             ],
             [
              0.8888888888888888,
              "#fdca26"
             ],
             [
              1,
              "#f0f921"
             ]
            ],
            "type": "heatmap"
           }
          ],
          "heatmapgl": [
           {
            "colorbar": {
             "outlinewidth": 0,
             "ticks": ""
            },
            "colorscale": [
             [
              0,
              "#0d0887"
             ],
             [
              0.1111111111111111,
              "#46039f"
             ],
             [
              0.2222222222222222,
              "#7201a8"
             ],
             [
              0.3333333333333333,
              "#9c179e"
             ],
             [
              0.4444444444444444,
              "#bd3786"
             ],
             [
              0.5555555555555556,
              "#d8576b"
             ],
             [
              0.6666666666666666,
              "#ed7953"
             ],
             [
              0.7777777777777778,
              "#fb9f3a"
             ],
             [
              0.8888888888888888,
              "#fdca26"
             ],
             [
              1,
              "#f0f921"
             ]
            ],
            "type": "heatmapgl"
           }
          ],
          "histogram": [
           {
            "marker": {
             "pattern": {
              "fillmode": "overlay",
              "size": 10,
              "solidity": 0.2
             }
            },
            "type": "histogram"
           }
          ],
          "histogram2d": [
           {
            "colorbar": {
             "outlinewidth": 0,
             "ticks": ""
            },
            "colorscale": [
             [
              0,
              "#0d0887"
             ],
             [
              0.1111111111111111,
              "#46039f"
             ],
             [
              0.2222222222222222,
              "#7201a8"
             ],
             [
              0.3333333333333333,
              "#9c179e"
             ],
             [
              0.4444444444444444,
              "#bd3786"
             ],
             [
              0.5555555555555556,
              "#d8576b"
             ],
             [
              0.6666666666666666,
              "#ed7953"
             ],
             [
              0.7777777777777778,
              "#fb9f3a"
             ],
             [
              0.8888888888888888,
              "#fdca26"
             ],
             [
              1,
              "#f0f921"
             ]
            ],
            "type": "histogram2d"
           }
          ],
          "histogram2dcontour": [
           {
            "colorbar": {
             "outlinewidth": 0,
             "ticks": ""
            },
            "colorscale": [
             [
              0,
              "#0d0887"
             ],
             [
              0.1111111111111111,
              "#46039f"
             ],
             [
              0.2222222222222222,
              "#7201a8"
             ],
             [
              0.3333333333333333,
              "#9c179e"
             ],
             [
              0.4444444444444444,
              "#bd3786"
             ],
             [
              0.5555555555555556,
              "#d8576b"
             ],
             [
              0.6666666666666666,
              "#ed7953"
             ],
             [
              0.7777777777777778,
              "#fb9f3a"
             ],
             [
              0.8888888888888888,
              "#fdca26"
             ],
             [
              1,
              "#f0f921"
             ]
            ],
            "type": "histogram2dcontour"
           }
          ],
          "mesh3d": [
           {
            "colorbar": {
             "outlinewidth": 0,
             "ticks": ""
            },
            "type": "mesh3d"
           }
          ],
          "parcoords": [
           {
            "line": {
             "colorbar": {
              "outlinewidth": 0,
              "ticks": ""
             }
            },
            "type": "parcoords"
           }
          ],
          "pie": [
           {
            "automargin": true,
            "type": "pie"
           }
          ],
          "scatter": [
           {
            "fillpattern": {
             "fillmode": "overlay",
             "size": 10,
             "solidity": 0.2
            },
            "type": "scatter"
           }
          ],
          "scatter3d": [
           {
            "line": {
             "colorbar": {
              "outlinewidth": 0,
              "ticks": ""
             }
            },
            "marker": {
             "colorbar": {
              "outlinewidth": 0,
              "ticks": ""
             }
            },
            "type": "scatter3d"
           }
          ],
          "scattercarpet": [
           {
            "marker": {
             "colorbar": {
              "outlinewidth": 0,
              "ticks": ""
             }
            },
            "type": "scattercarpet"
           }
          ],
          "scattergeo": [
           {
            "marker": {
             "colorbar": {
              "outlinewidth": 0,
              "ticks": ""
             }
            },
            "type": "scattergeo"
           }
          ],
          "scattergl": [
           {
            "marker": {
             "colorbar": {
              "outlinewidth": 0,
              "ticks": ""
             }
            },
            "type": "scattergl"
           }
          ],
          "scattermapbox": [
           {
            "marker": {
             "colorbar": {
              "outlinewidth": 0,
              "ticks": ""
             }
            },
            "type": "scattermapbox"
           }
          ],
          "scatterpolar": [
           {
            "marker": {
             "colorbar": {
              "outlinewidth": 0,
              "ticks": ""
             }
            },
            "type": "scatterpolar"
           }
          ],
          "scatterpolargl": [
           {
            "marker": {
             "colorbar": {
              "outlinewidth": 0,
              "ticks": ""
             }
            },
            "type": "scatterpolargl"
           }
          ],
          "scatterternary": [
           {
            "marker": {
             "colorbar": {
              "outlinewidth": 0,
              "ticks": ""
             }
            },
            "type": "scatterternary"
           }
          ],
          "surface": [
           {
            "colorbar": {
             "outlinewidth": 0,
             "ticks": ""
            },
            "colorscale": [
             [
              0,
              "#0d0887"
             ],
             [
              0.1111111111111111,
              "#46039f"
             ],
             [
              0.2222222222222222,
              "#7201a8"
             ],
             [
              0.3333333333333333,
              "#9c179e"
             ],
             [
              0.4444444444444444,
              "#bd3786"
             ],
             [
              0.5555555555555556,
              "#d8576b"
             ],
             [
              0.6666666666666666,
              "#ed7953"
             ],
             [
              0.7777777777777778,
              "#fb9f3a"
             ],
             [
              0.8888888888888888,
              "#fdca26"
             ],
             [
              1,
              "#f0f921"
             ]
            ],
            "type": "surface"
           }
          ],
          "table": [
           {
            "cells": {
             "fill": {
              "color": "#EBF0F8"
             },
             "line": {
              "color": "white"
             }
            },
            "header": {
             "fill": {
              "color": "#C8D4E3"
             },
             "line": {
              "color": "white"
             }
            },
            "type": "table"
           }
          ]
         },
         "layout": {
          "annotationdefaults": {
           "arrowcolor": "#2a3f5f",
           "arrowhead": 0,
           "arrowwidth": 1
          },
          "autotypenumbers": "strict",
          "coloraxis": {
           "colorbar": {
            "outlinewidth": 0,
            "ticks": ""
           }
          },
          "colorscale": {
           "diverging": [
            [
             0,
             "#8e0152"
            ],
            [
             0.1,
             "#c51b7d"
            ],
            [
             0.2,
             "#de77ae"
            ],
            [
             0.3,
             "#f1b6da"
            ],
            [
             0.4,
             "#fde0ef"
            ],
            [
             0.5,
             "#f7f7f7"
            ],
            [
             0.6,
             "#e6f5d0"
            ],
            [
             0.7,
             "#b8e186"
            ],
            [
             0.8,
             "#7fbc41"
            ],
            [
             0.9,
             "#4d9221"
            ],
            [
             1,
             "#276419"
            ]
           ],
           "sequential": [
            [
             0,
             "#0d0887"
            ],
            [
             0.1111111111111111,
             "#46039f"
            ],
            [
             0.2222222222222222,
             "#7201a8"
            ],
            [
             0.3333333333333333,
             "#9c179e"
            ],
            [
             0.4444444444444444,
             "#bd3786"
            ],
            [
             0.5555555555555556,
             "#d8576b"
            ],
            [
             0.6666666666666666,
             "#ed7953"
            ],
            [
             0.7777777777777778,
             "#fb9f3a"
            ],
            [
             0.8888888888888888,
             "#fdca26"
            ],
            [
             1,
             "#f0f921"
            ]
           ],
           "sequentialminus": [
            [
             0,
             "#0d0887"
            ],
            [
             0.1111111111111111,
             "#46039f"
            ],
            [
             0.2222222222222222,
             "#7201a8"
            ],
            [
             0.3333333333333333,
             "#9c179e"
            ],
            [
             0.4444444444444444,
             "#bd3786"
            ],
            [
             0.5555555555555556,
             "#d8576b"
            ],
            [
             0.6666666666666666,
             "#ed7953"
            ],
            [
             0.7777777777777778,
             "#fb9f3a"
            ],
            [
             0.8888888888888888,
             "#fdca26"
            ],
            [
             1,
             "#f0f921"
            ]
           ]
          },
          "colorway": [
           "#636efa",
           "#EF553B",
           "#00cc96",
           "#ab63fa",
           "#FFA15A",
           "#19d3f3",
           "#FF6692",
           "#B6E880",
           "#FF97FF",
           "#FECB52"
          ],
          "font": {
           "color": "#2a3f5f"
          },
          "geo": {
           "bgcolor": "white",
           "lakecolor": "white",
           "landcolor": "#E5ECF6",
           "showlakes": true,
           "showland": true,
           "subunitcolor": "white"
          },
          "hoverlabel": {
           "align": "left"
          },
          "hovermode": "closest",
          "mapbox": {
           "style": "light"
          },
          "paper_bgcolor": "white",
          "plot_bgcolor": "#E5ECF6",
          "polar": {
           "angularaxis": {
            "gridcolor": "white",
            "linecolor": "white",
            "ticks": ""
           },
           "bgcolor": "#E5ECF6",
           "radialaxis": {
            "gridcolor": "white",
            "linecolor": "white",
            "ticks": ""
           }
          },
          "scene": {
           "xaxis": {
            "backgroundcolor": "#E5ECF6",
            "gridcolor": "white",
            "gridwidth": 2,
            "linecolor": "white",
            "showbackground": true,
            "ticks": "",
            "zerolinecolor": "white"
           },
           "yaxis": {
            "backgroundcolor": "#E5ECF6",
            "gridcolor": "white",
            "gridwidth": 2,
            "linecolor": "white",
            "showbackground": true,
            "ticks": "",
            "zerolinecolor": "white"
           },
           "zaxis": {
            "backgroundcolor": "#E5ECF6",
            "gridcolor": "white",
            "gridwidth": 2,
            "linecolor": "white",
            "showbackground": true,
            "ticks": "",
            "zerolinecolor": "white"
           }
          },
          "shapedefaults": {
           "line": {
            "color": "#2a3f5f"
           }
          },
          "ternary": {
           "aaxis": {
            "gridcolor": "white",
            "linecolor": "white",
            "ticks": ""
           },
           "baxis": {
            "gridcolor": "white",
            "linecolor": "white",
            "ticks": ""
           },
           "bgcolor": "#E5ECF6",
           "caxis": {
            "gridcolor": "white",
            "linecolor": "white",
            "ticks": ""
           }
          },
          "title": {
           "x": 0.05
          },
          "xaxis": {
           "automargin": true,
           "gridcolor": "white",
           "linecolor": "white",
           "ticks": "",
           "title": {
            "standoff": 15
           },
           "zerolinecolor": "white",
           "zerolinewidth": 2
          },
          "yaxis": {
           "automargin": true,
           "gridcolor": "white",
           "linecolor": "white",
           "ticks": "",
           "title": {
            "standoff": 15
           },
           "zerolinecolor": "white",
           "zerolinewidth": 2
          }
         }
        },
        "title": {
         "text": "Optimization History Plot"
        },
        "xaxis": {
         "title": {
          "text": "Trial"
         }
        },
        "yaxis": {
         "title": {
          "text": "Objective Value"
         }
        }
       }
      },
      "text/html": [
       "<div>                        <script type=\"text/javascript\">window.PlotlyConfig = {MathJaxConfig: 'local'};</script>\n",
       "        <script charset=\"utf-8\" src=\"https://cdn.plot.ly/plotly-2.32.0.min.js\"></script>                <div id=\"94eebffe-d58c-4090-8846-1ba640b2ab79\" class=\"plotly-graph-div\" style=\"height:100%; width:100%;\"></div>            <script type=\"text/javascript\">                                    window.PLOTLYENV=window.PLOTLYENV || {};                                    if (document.getElementById(\"94eebffe-d58c-4090-8846-1ba640b2ab79\")) {                    Plotly.newPlot(                        \"94eebffe-d58c-4090-8846-1ba640b2ab79\",                        [{\"mode\":\"markers\",\"name\":\"Objective Value\",\"x\":[0,1,2,3,4,5,6,7,8,9,10,11,12,13,14,15,16,17,18,19,20,21,22,23,24,25,26,27,28,29,30,31,32,33,34,35,36,37,38,39,40,41,42,43,44,45,46,47,48,49,50,51,52,53,54,55,56,57,58,59,60,61,62,63,64,65,66,67,68,69,70,71,72,73,74,75,76,77,78,79,80,81,82,83,84,85,86,87,88,89,90,91,92,93,94,95,96,97,98,99,100,101,102,103,104,105,106,107,108,109,110,111,112,113,114,115,116,117,118,119,120,121,122,123,124,125,126,127,128,129,130,131,132,133,134,135,136,137,138,139,140,141,142,143,144,145,146,147,148,149,150,151,152,153,154,155,156,157,158,159,160,161,162,163,164,165,166,167,168,169,170,171,172,173,174,175,176,177,178,179,180,181,182,183,184,185,186,187,188,189,190,191,192,193,194,195,196,197,198,199],\"y\":[0.5645644595240594,0.5645644595240594,0.5645644595240594,0.6110508703813822,0.5645644595240594,0.6746301024869705,0.5645644595240594,0.6716336119952896,0.5645644595240594,0.5645644595240594,0.6745484860144344,0.6745368265183579,0.6746650809752003,0.6745368265183579,0.6745135075262048,0.6748049949281192,0.6745951239987408,0.6743852530693624,0.6745834645026642,0.679690323784206,0.6791889654529131,0.674979887369268,0.6774633600335793,0.6766005573239124,0.6726829666421817,0.6595427145638766,0.676670514300372,0.6773234460806604,0.5645644595240594,0.6764373243788403,0.5645644595240594,0.679527090839134,0.6768337472454441,0.5645644595240594,0.6790373920039176,0.6798885352175079,0.5723413434071379,0.5645644595240594,0.6806580619585622,0.5645644595240594,0.6811477607937785,0.6823720078818194,0.6797835997528187,0.6807280189350217,0.566931337227605,0.6819289470309093,0.5645644595240594,0.5645644595240594,0.6838644233796215,0.5645644595240594,0.6198887684074295,0.6817890330779903,0.682325369897513,0.682465283850432,0.6825702193151212,0.6818589900544498,0.6460176991150443,0.5645644595240594,0.6830599181503375,0.6823486888896662,0.682022222999522,0.5645644595240594,0.6752480557790292,0.6823137104014364,0.6730327515244792,0.6822204344328238,0.5645644595240594,0.5645644595240594,0.6721116513344293,0.6811827392820082,0.6762740914337683,0.6829316636934951,0.6823836673778959,0.6804715100213369,0.672869518579407,0.6797486212645889,0.639814847202304,0.6818939685426796,0.5842223699091725,0.6748866114006553,0.6805414669977964,0.6827334522601933,0.680331596068418,0.6825702193151212,0.6801217251390395,0.6823486888896662,0.5645644595240594,0.6711322536639966,0.674560145510511,0.6821504774563644,0.6817423950936841,0.6823020509053599,0.6826168572994276,0.6811477607937785,0.5645644595240594,0.6827101332680402,0.6830249396621078,0.5645644595240594,0.6829433231895717,0.6817190761015309,0.681800692574067,0.6824769433465085,0.682686814275887,0.6828617067170357,0.6818240115662201,0.6814742266839228,0.680634742966409,0.683852763883545,0.6842025487658423,0.6694532862289692,0.6833747245444052,0.683269789079716,0.6814858861799993,0.682686814275887,0.6815558431564588,0.683048258654261,0.6802966175801882,0.6824769433465085,0.5645644595240594,0.6836079144659368,0.6817423950936841,0.6840626348129234,0.677055277670899,0.6837011904345495,0.6842958247344549,0.6841325917893829,0.6834563410169412,0.6835612764816305,0.681299334242774,0.5645644595240594,0.6674128744155677,0.6839227208600044,0.6825002623386617,0.6835612764816305,0.681077803817319,0.683491319505171,0.6836195739620133,0.6831182156307204,0.6785593526647778,0.6837711474110089,0.67960870731167,0.6844707171756037,0.6839110613639279,0.6825585598190447,0.6828500472209591,0.6714237410659112,0.6822204344328238,0.683048258654261,0.6822670724171301,0.6834796600090944,0.6792356034372194,0.684155910781536,0.6817773735819138,0.682908344701342,0.6829666421817249,0.6825235813308149,0.6835612764816305,0.6817890330779903,0.6825935383072743,0.6658621614373826,0.6840393158207703,0.6832931080718692,0.6829783016778015,0.683269789079716,0.682546900322968,0.6793638578940618,0.6823603483857428,0.6829316636934951,0.5645644595240594,0.6829549826856484,0.6808329543997108,0.6837944664031621,0.6835029790012476,0.6836079144659368,0.5645644595240594,0.6821854559445941,0.6821971154406706,0.6831531941189501,0.683048258654261,0.6837594879149324,0.680273298588035,0.6823370293935896,0.684155910781536,0.6835029790012476,0.6807396784310982,0.6831881726071799,0.6834097030326349,0.6817423950936841,0.6744085720615155,0.6736507048165379,0.6824886028425852,0.6834446815208647,0.6834446815208647,0.683852763883545,0.6837011904345495,0.6824419648582788,0.68363123345809,0.6835962549698602,0.6803082770762647,0.6779763778609489],\"type\":\"scatter\"},{\"mode\":\"lines\",\"name\":\"Best Value\",\"x\":[0,1,2,3,4,5,6,7,8,9,10,11,12,13,14,15,16,17,18,19,20,21,22,23,24,25,26,27,28,29,30,31,32,33,34,35,36,37,38,39,40,41,42,43,44,45,46,47,48,49,50,51,52,53,54,55,56,57,58,59,60,61,62,63,64,65,66,67,68,69,70,71,72,73,74,75,76,77,78,79,80,81,82,83,84,85,86,87,88,89,90,91,92,93,94,95,96,97,98,99,100,101,102,103,104,105,106,107,108,109,110,111,112,113,114,115,116,117,118,119,120,121,122,123,124,125,126,127,128,129,130,131,132,133,134,135,136,137,138,139,140,141,142,143,144,145,146,147,148,149,150,151,152,153,154,155,156,157,158,159,160,161,162,163,164,165,166,167,168,169,170,171,172,173,174,175,176,177,178,179,180,181,182,183,184,185,186,187,188,189,190,191,192,193,194,195,196,197,198,199],\"y\":[0.5645644595240594,0.5645644595240594,0.5645644595240594,0.6110508703813822,0.6110508703813822,0.6746301024869705,0.6746301024869705,0.6746301024869705,0.6746301024869705,0.6746301024869705,0.6746301024869705,0.6746301024869705,0.6746650809752003,0.6746650809752003,0.6746650809752003,0.6748049949281192,0.6748049949281192,0.6748049949281192,0.6748049949281192,0.679690323784206,0.679690323784206,0.679690323784206,0.679690323784206,0.679690323784206,0.679690323784206,0.679690323784206,0.679690323784206,0.679690323784206,0.679690323784206,0.679690323784206,0.679690323784206,0.679690323784206,0.679690323784206,0.679690323784206,0.679690323784206,0.6798885352175079,0.6798885352175079,0.6798885352175079,0.6806580619585622,0.6806580619585622,0.6811477607937785,0.6823720078818194,0.6823720078818194,0.6823720078818194,0.6823720078818194,0.6823720078818194,0.6823720078818194,0.6823720078818194,0.6838644233796215,0.6838644233796215,0.6838644233796215,0.6838644233796215,0.6838644233796215,0.6838644233796215,0.6838644233796215,0.6838644233796215,0.6838644233796215,0.6838644233796215,0.6838644233796215,0.6838644233796215,0.6838644233796215,0.6838644233796215,0.6838644233796215,0.6838644233796215,0.6838644233796215,0.6838644233796215,0.6838644233796215,0.6838644233796215,0.6838644233796215,0.6838644233796215,0.6838644233796215,0.6838644233796215,0.6838644233796215,0.6838644233796215,0.6838644233796215,0.6838644233796215,0.6838644233796215,0.6838644233796215,0.6838644233796215,0.6838644233796215,0.6838644233796215,0.6838644233796215,0.6838644233796215,0.6838644233796215,0.6838644233796215,0.6838644233796215,0.6838644233796215,0.6838644233796215,0.6838644233796215,0.6838644233796215,0.6838644233796215,0.6838644233796215,0.6838644233796215,0.6838644233796215,0.6838644233796215,0.6838644233796215,0.6838644233796215,0.6838644233796215,0.6838644233796215,0.6838644233796215,0.6838644233796215,0.6838644233796215,0.6838644233796215,0.6838644233796215,0.6838644233796215,0.6838644233796215,0.6838644233796215,0.6838644233796215,0.6842025487658423,0.6842025487658423,0.6842025487658423,0.6842025487658423,0.6842025487658423,0.6842025487658423,0.6842025487658423,0.6842025487658423,0.6842025487658423,0.6842025487658423,0.6842025487658423,0.6842025487658423,0.6842025487658423,0.6842025487658423,0.6842025487658423,0.6842025487658423,0.6842958247344549,0.6842958247344549,0.6842958247344549,0.6842958247344549,0.6842958247344549,0.6842958247344549,0.6842958247344549,0.6842958247344549,0.6842958247344549,0.6842958247344549,0.6842958247344549,0.6842958247344549,0.6842958247344549,0.6842958247344549,0.6842958247344549,0.6842958247344549,0.6842958247344549,0.6844707171756037,0.6844707171756037,0.6844707171756037,0.6844707171756037,0.6844707171756037,0.6844707171756037,0.6844707171756037,0.6844707171756037,0.6844707171756037,0.6844707171756037,0.6844707171756037,0.6844707171756037,0.6844707171756037,0.6844707171756037,0.6844707171756037,0.6844707171756037,0.6844707171756037,0.6844707171756037,0.6844707171756037,0.6844707171756037,0.6844707171756037,0.6844707171756037,0.6844707171756037,0.6844707171756037,0.6844707171756037,0.6844707171756037,0.6844707171756037,0.6844707171756037,0.6844707171756037,0.6844707171756037,0.6844707171756037,0.6844707171756037,0.6844707171756037,0.6844707171756037,0.6844707171756037,0.6844707171756037,0.6844707171756037,0.6844707171756037,0.6844707171756037,0.6844707171756037,0.6844707171756037,0.6844707171756037,0.6844707171756037,0.6844707171756037,0.6844707171756037,0.6844707171756037,0.6844707171756037,0.6844707171756037,0.6844707171756037,0.6844707171756037,0.6844707171756037,0.6844707171756037,0.6844707171756037,0.6844707171756037,0.6844707171756037,0.6844707171756037,0.6844707171756037,0.6844707171756037,0.6844707171756037],\"type\":\"scatter\"},{\"marker\":{\"color\":\"#cccccc\"},\"mode\":\"markers\",\"name\":\"Infeasible Trial\",\"showlegend\":false,\"x\":[],\"y\":[],\"type\":\"scatter\"}],                        {\"title\":{\"text\":\"Optimization History Plot\"},\"xaxis\":{\"title\":{\"text\":\"Trial\"}},\"yaxis\":{\"title\":{\"text\":\"Objective Value\"}},\"template\":{\"data\":{\"histogram2dcontour\":[{\"type\":\"histogram2dcontour\",\"colorbar\":{\"outlinewidth\":0,\"ticks\":\"\"},\"colorscale\":[[0.0,\"#0d0887\"],[0.1111111111111111,\"#46039f\"],[0.2222222222222222,\"#7201a8\"],[0.3333333333333333,\"#9c179e\"],[0.4444444444444444,\"#bd3786\"],[0.5555555555555556,\"#d8576b\"],[0.6666666666666666,\"#ed7953\"],[0.7777777777777778,\"#fb9f3a\"],[0.8888888888888888,\"#fdca26\"],[1.0,\"#f0f921\"]]}],\"choropleth\":[{\"type\":\"choropleth\",\"colorbar\":{\"outlinewidth\":0,\"ticks\":\"\"}}],\"histogram2d\":[{\"type\":\"histogram2d\",\"colorbar\":{\"outlinewidth\":0,\"ticks\":\"\"},\"colorscale\":[[0.0,\"#0d0887\"],[0.1111111111111111,\"#46039f\"],[0.2222222222222222,\"#7201a8\"],[0.3333333333333333,\"#9c179e\"],[0.4444444444444444,\"#bd3786\"],[0.5555555555555556,\"#d8576b\"],[0.6666666666666666,\"#ed7953\"],[0.7777777777777778,\"#fb9f3a\"],[0.8888888888888888,\"#fdca26\"],[1.0,\"#f0f921\"]]}],\"heatmap\":[{\"type\":\"heatmap\",\"colorbar\":{\"outlinewidth\":0,\"ticks\":\"\"},\"colorscale\":[[0.0,\"#0d0887\"],[0.1111111111111111,\"#46039f\"],[0.2222222222222222,\"#7201a8\"],[0.3333333333333333,\"#9c179e\"],[0.4444444444444444,\"#bd3786\"],[0.5555555555555556,\"#d8576b\"],[0.6666666666666666,\"#ed7953\"],[0.7777777777777778,\"#fb9f3a\"],[0.8888888888888888,\"#fdca26\"],[1.0,\"#f0f921\"]]}],\"heatmapgl\":[{\"type\":\"heatmapgl\",\"colorbar\":{\"outlinewidth\":0,\"ticks\":\"\"},\"colorscale\":[[0.0,\"#0d0887\"],[0.1111111111111111,\"#46039f\"],[0.2222222222222222,\"#7201a8\"],[0.3333333333333333,\"#9c179e\"],[0.4444444444444444,\"#bd3786\"],[0.5555555555555556,\"#d8576b\"],[0.6666666666666666,\"#ed7953\"],[0.7777777777777778,\"#fb9f3a\"],[0.8888888888888888,\"#fdca26\"],[1.0,\"#f0f921\"]]}],\"contourcarpet\":[{\"type\":\"contourcarpet\",\"colorbar\":{\"outlinewidth\":0,\"ticks\":\"\"}}],\"contour\":[{\"type\":\"contour\",\"colorbar\":{\"outlinewidth\":0,\"ticks\":\"\"},\"colorscale\":[[0.0,\"#0d0887\"],[0.1111111111111111,\"#46039f\"],[0.2222222222222222,\"#7201a8\"],[0.3333333333333333,\"#9c179e\"],[0.4444444444444444,\"#bd3786\"],[0.5555555555555556,\"#d8576b\"],[0.6666666666666666,\"#ed7953\"],[0.7777777777777778,\"#fb9f3a\"],[0.8888888888888888,\"#fdca26\"],[1.0,\"#f0f921\"]]}],\"surface\":[{\"type\":\"surface\",\"colorbar\":{\"outlinewidth\":0,\"ticks\":\"\"},\"colorscale\":[[0.0,\"#0d0887\"],[0.1111111111111111,\"#46039f\"],[0.2222222222222222,\"#7201a8\"],[0.3333333333333333,\"#9c179e\"],[0.4444444444444444,\"#bd3786\"],[0.5555555555555556,\"#d8576b\"],[0.6666666666666666,\"#ed7953\"],[0.7777777777777778,\"#fb9f3a\"],[0.8888888888888888,\"#fdca26\"],[1.0,\"#f0f921\"]]}],\"mesh3d\":[{\"type\":\"mesh3d\",\"colorbar\":{\"outlinewidth\":0,\"ticks\":\"\"}}],\"scatter\":[{\"fillpattern\":{\"fillmode\":\"overlay\",\"size\":10,\"solidity\":0.2},\"type\":\"scatter\"}],\"parcoords\":[{\"type\":\"parcoords\",\"line\":{\"colorbar\":{\"outlinewidth\":0,\"ticks\":\"\"}}}],\"scatterpolargl\":[{\"type\":\"scatterpolargl\",\"marker\":{\"colorbar\":{\"outlinewidth\":0,\"ticks\":\"\"}}}],\"bar\":[{\"error_x\":{\"color\":\"#2a3f5f\"},\"error_y\":{\"color\":\"#2a3f5f\"},\"marker\":{\"line\":{\"color\":\"#E5ECF6\",\"width\":0.5},\"pattern\":{\"fillmode\":\"overlay\",\"size\":10,\"solidity\":0.2}},\"type\":\"bar\"}],\"scattergeo\":[{\"type\":\"scattergeo\",\"marker\":{\"colorbar\":{\"outlinewidth\":0,\"ticks\":\"\"}}}],\"scatterpolar\":[{\"type\":\"scatterpolar\",\"marker\":{\"colorbar\":{\"outlinewidth\":0,\"ticks\":\"\"}}}],\"histogram\":[{\"marker\":{\"pattern\":{\"fillmode\":\"overlay\",\"size\":10,\"solidity\":0.2}},\"type\":\"histogram\"}],\"scattergl\":[{\"type\":\"scattergl\",\"marker\":{\"colorbar\":{\"outlinewidth\":0,\"ticks\":\"\"}}}],\"scatter3d\":[{\"type\":\"scatter3d\",\"line\":{\"colorbar\":{\"outlinewidth\":0,\"ticks\":\"\"}},\"marker\":{\"colorbar\":{\"outlinewidth\":0,\"ticks\":\"\"}}}],\"scattermapbox\":[{\"type\":\"scattermapbox\",\"marker\":{\"colorbar\":{\"outlinewidth\":0,\"ticks\":\"\"}}}],\"scatterternary\":[{\"type\":\"scatterternary\",\"marker\":{\"colorbar\":{\"outlinewidth\":0,\"ticks\":\"\"}}}],\"scattercarpet\":[{\"type\":\"scattercarpet\",\"marker\":{\"colorbar\":{\"outlinewidth\":0,\"ticks\":\"\"}}}],\"carpet\":[{\"aaxis\":{\"endlinecolor\":\"#2a3f5f\",\"gridcolor\":\"white\",\"linecolor\":\"white\",\"minorgridcolor\":\"white\",\"startlinecolor\":\"#2a3f5f\"},\"baxis\":{\"endlinecolor\":\"#2a3f5f\",\"gridcolor\":\"white\",\"linecolor\":\"white\",\"minorgridcolor\":\"white\",\"startlinecolor\":\"#2a3f5f\"},\"type\":\"carpet\"}],\"table\":[{\"cells\":{\"fill\":{\"color\":\"#EBF0F8\"},\"line\":{\"color\":\"white\"}},\"header\":{\"fill\":{\"color\":\"#C8D4E3\"},\"line\":{\"color\":\"white\"}},\"type\":\"table\"}],\"barpolar\":[{\"marker\":{\"line\":{\"color\":\"#E5ECF6\",\"width\":0.5},\"pattern\":{\"fillmode\":\"overlay\",\"size\":10,\"solidity\":0.2}},\"type\":\"barpolar\"}],\"pie\":[{\"automargin\":true,\"type\":\"pie\"}]},\"layout\":{\"autotypenumbers\":\"strict\",\"colorway\":[\"#636efa\",\"#EF553B\",\"#00cc96\",\"#ab63fa\",\"#FFA15A\",\"#19d3f3\",\"#FF6692\",\"#B6E880\",\"#FF97FF\",\"#FECB52\"],\"font\":{\"color\":\"#2a3f5f\"},\"hovermode\":\"closest\",\"hoverlabel\":{\"align\":\"left\"},\"paper_bgcolor\":\"white\",\"plot_bgcolor\":\"#E5ECF6\",\"polar\":{\"bgcolor\":\"#E5ECF6\",\"angularaxis\":{\"gridcolor\":\"white\",\"linecolor\":\"white\",\"ticks\":\"\"},\"radialaxis\":{\"gridcolor\":\"white\",\"linecolor\":\"white\",\"ticks\":\"\"}},\"ternary\":{\"bgcolor\":\"#E5ECF6\",\"aaxis\":{\"gridcolor\":\"white\",\"linecolor\":\"white\",\"ticks\":\"\"},\"baxis\":{\"gridcolor\":\"white\",\"linecolor\":\"white\",\"ticks\":\"\"},\"caxis\":{\"gridcolor\":\"white\",\"linecolor\":\"white\",\"ticks\":\"\"}},\"coloraxis\":{\"colorbar\":{\"outlinewidth\":0,\"ticks\":\"\"}},\"colorscale\":{\"sequential\":[[0.0,\"#0d0887\"],[0.1111111111111111,\"#46039f\"],[0.2222222222222222,\"#7201a8\"],[0.3333333333333333,\"#9c179e\"],[0.4444444444444444,\"#bd3786\"],[0.5555555555555556,\"#d8576b\"],[0.6666666666666666,\"#ed7953\"],[0.7777777777777778,\"#fb9f3a\"],[0.8888888888888888,\"#fdca26\"],[1.0,\"#f0f921\"]],\"sequentialminus\":[[0.0,\"#0d0887\"],[0.1111111111111111,\"#46039f\"],[0.2222222222222222,\"#7201a8\"],[0.3333333333333333,\"#9c179e\"],[0.4444444444444444,\"#bd3786\"],[0.5555555555555556,\"#d8576b\"],[0.6666666666666666,\"#ed7953\"],[0.7777777777777778,\"#fb9f3a\"],[0.8888888888888888,\"#fdca26\"],[1.0,\"#f0f921\"]],\"diverging\":[[0,\"#8e0152\"],[0.1,\"#c51b7d\"],[0.2,\"#de77ae\"],[0.3,\"#f1b6da\"],[0.4,\"#fde0ef\"],[0.5,\"#f7f7f7\"],[0.6,\"#e6f5d0\"],[0.7,\"#b8e186\"],[0.8,\"#7fbc41\"],[0.9,\"#4d9221\"],[1,\"#276419\"]]},\"xaxis\":{\"gridcolor\":\"white\",\"linecolor\":\"white\",\"ticks\":\"\",\"title\":{\"standoff\":15},\"zerolinecolor\":\"white\",\"automargin\":true,\"zerolinewidth\":2},\"yaxis\":{\"gridcolor\":\"white\",\"linecolor\":\"white\",\"ticks\":\"\",\"title\":{\"standoff\":15},\"zerolinecolor\":\"white\",\"automargin\":true,\"zerolinewidth\":2},\"scene\":{\"xaxis\":{\"backgroundcolor\":\"#E5ECF6\",\"gridcolor\":\"white\",\"linecolor\":\"white\",\"showbackground\":true,\"ticks\":\"\",\"zerolinecolor\":\"white\",\"gridwidth\":2},\"yaxis\":{\"backgroundcolor\":\"#E5ECF6\",\"gridcolor\":\"white\",\"linecolor\":\"white\",\"showbackground\":true,\"ticks\":\"\",\"zerolinecolor\":\"white\",\"gridwidth\":2},\"zaxis\":{\"backgroundcolor\":\"#E5ECF6\",\"gridcolor\":\"white\",\"linecolor\":\"white\",\"showbackground\":true,\"ticks\":\"\",\"zerolinecolor\":\"white\",\"gridwidth\":2}},\"shapedefaults\":{\"line\":{\"color\":\"#2a3f5f\"}},\"annotationdefaults\":{\"arrowcolor\":\"#2a3f5f\",\"arrowhead\":0,\"arrowwidth\":1},\"geo\":{\"bgcolor\":\"white\",\"landcolor\":\"#E5ECF6\",\"subunitcolor\":\"white\",\"showland\":true,\"showlakes\":true,\"lakecolor\":\"white\"},\"title\":{\"x\":0.05},\"mapbox\":{\"style\":\"light\"}}}},                        {\"responsive\": true}                    )                };                            </script>        </div>"
      ],
      "text/plain": [
       "Figure({\n",
       "    'data': [{'mode': 'markers',\n",
       "              'name': 'Objective Value',\n",
       "              'type': 'scatter',\n",
       "              'x': [0, 1, 2, 3, 4, 5, 6, 7, 8, 9, 10, 11, 12, 13, 14, 15, 16, 17,\n",
       "                    18, 19, 20, 21, 22, 23, 24, 25, 26, 27, 28, 29, 30, 31, 32, 33,\n",
       "                    34, 35, 36, 37, 38, 39, 40, 41, 42, 43, 44, 45, 46, 47, 48, 49,\n",
       "                    50, 51, 52, 53, 54, 55, 56, 57, 58, 59, 60, 61, 62, 63, 64, 65,\n",
       "                    66, 67, 68, 69, 70, 71, 72, 73, 74, 75, 76, 77, 78, 79, 80, 81,\n",
       "                    82, 83, 84, 85, 86, 87, 88, 89, 90, 91, 92, 93, 94, 95, 96, 97,\n",
       "                    98, 99, 100, 101, 102, 103, 104, 105, 106, 107, 108, 109, 110,\n",
       "                    111, 112, 113, 114, 115, 116, 117, 118, 119, 120, 121, 122,\n",
       "                    123, 124, 125, 126, 127, 128, 129, 130, 131, 132, 133, 134,\n",
       "                    135, 136, 137, 138, 139, 140, 141, 142, 143, 144, 145, 146,\n",
       "                    147, 148, 149, 150, 151, 152, 153, 154, 155, 156, 157, 158,\n",
       "                    159, 160, 161, 162, 163, 164, 165, 166, 167, 168, 169, 170,\n",
       "                    171, 172, 173, 174, 175, 176, 177, 178, 179, 180, 181, 182,\n",
       "                    183, 184, 185, 186, 187, 188, 189, 190, 191, 192, 193, 194,\n",
       "                    195, 196, 197, 198, 199],\n",
       "              'y': [0.5645644595240594, 0.5645644595240594, 0.5645644595240594,\n",
       "                    0.6110508703813822, 0.5645644595240594, 0.6746301024869705,\n",
       "                    0.5645644595240594, 0.6716336119952896, 0.5645644595240594,\n",
       "                    0.5645644595240594, 0.6745484860144344, 0.6745368265183579,\n",
       "                    0.6746650809752003, 0.6745368265183579, 0.6745135075262048,\n",
       "                    0.6748049949281192, 0.6745951239987408, 0.6743852530693624,\n",
       "                    0.6745834645026642, 0.679690323784206, 0.6791889654529131,\n",
       "                    0.674979887369268, 0.6774633600335793, 0.6766005573239124,\n",
       "                    0.6726829666421817, 0.6595427145638766, 0.676670514300372,\n",
       "                    0.6773234460806604, 0.5645644595240594, 0.6764373243788403,\n",
       "                    0.5645644595240594, 0.679527090839134, 0.6768337472454441,\n",
       "                    0.5645644595240594, 0.6790373920039176, 0.6798885352175079,\n",
       "                    0.5723413434071379, 0.5645644595240594, 0.6806580619585622,\n",
       "                    0.5645644595240594, 0.6811477607937785, 0.6823720078818194,\n",
       "                    0.6797835997528187, 0.6807280189350217, 0.566931337227605,\n",
       "                    0.6819289470309093, 0.5645644595240594, 0.5645644595240594,\n",
       "                    0.6838644233796215, 0.5645644595240594, 0.6198887684074295,\n",
       "                    0.6817890330779903, 0.682325369897513, 0.682465283850432,\n",
       "                    0.6825702193151212, 0.6818589900544498, 0.6460176991150443,\n",
       "                    0.5645644595240594, 0.6830599181503375, 0.6823486888896662,\n",
       "                    0.682022222999522, 0.5645644595240594, 0.6752480557790292,\n",
       "                    0.6823137104014364, 0.6730327515244792, 0.6822204344328238,\n",
       "                    0.5645644595240594, 0.5645644595240594, 0.6721116513344293,\n",
       "                    0.6811827392820082, 0.6762740914337683, 0.6829316636934951,\n",
       "                    0.6823836673778959, 0.6804715100213369, 0.672869518579407,\n",
       "                    0.6797486212645889, 0.639814847202304, 0.6818939685426796,\n",
       "                    0.5842223699091725, 0.6748866114006553, 0.6805414669977964,\n",
       "                    0.6827334522601933, 0.680331596068418, 0.6825702193151212,\n",
       "                    0.6801217251390395, 0.6823486888896662, 0.5645644595240594,\n",
       "                    0.6711322536639966, 0.674560145510511, 0.6821504774563644,\n",
       "                    0.6817423950936841, 0.6823020509053599, 0.6826168572994276,\n",
       "                    0.6811477607937785, 0.5645644595240594, 0.6827101332680402,\n",
       "                    0.6830249396621078, 0.5645644595240594, 0.6829433231895717,\n",
       "                    0.6817190761015309, 0.681800692574067, 0.6824769433465085,\n",
       "                    0.682686814275887, 0.6828617067170357, 0.6818240115662201,\n",
       "                    0.6814742266839228, 0.680634742966409, 0.683852763883545,\n",
       "                    0.6842025487658423, 0.6694532862289692, 0.6833747245444052,\n",
       "                    0.683269789079716, 0.6814858861799993, 0.682686814275887,\n",
       "                    0.6815558431564588, 0.683048258654261, 0.6802966175801882,\n",
       "                    0.6824769433465085, 0.5645644595240594, 0.6836079144659368,\n",
       "                    0.6817423950936841, 0.6840626348129234, 0.677055277670899,\n",
       "                    0.6837011904345495, 0.6842958247344549, 0.6841325917893829,\n",
       "                    0.6834563410169412, 0.6835612764816305, 0.681299334242774,\n",
       "                    0.5645644595240594, 0.6674128744155677, 0.6839227208600044,\n",
       "                    0.6825002623386617, 0.6835612764816305, 0.681077803817319,\n",
       "                    0.683491319505171, 0.6836195739620133, 0.6831182156307204,\n",
       "                    0.6785593526647778, 0.6837711474110089, 0.67960870731167,\n",
       "                    0.6844707171756037, 0.6839110613639279, 0.6825585598190447,\n",
       "                    0.6828500472209591, 0.6714237410659112, 0.6822204344328238,\n",
       "                    0.683048258654261, 0.6822670724171301, 0.6834796600090944,\n",
       "                    0.6792356034372194, 0.684155910781536, 0.6817773735819138,\n",
       "                    0.682908344701342, 0.6829666421817249, 0.6825235813308149,\n",
       "                    0.6835612764816305, 0.6817890330779903, 0.6825935383072743,\n",
       "                    0.6658621614373826, 0.6840393158207703, 0.6832931080718692,\n",
       "                    0.6829783016778015, 0.683269789079716, 0.682546900322968,\n",
       "                    0.6793638578940618, 0.6823603483857428, 0.6829316636934951,\n",
       "                    0.5645644595240594, 0.6829549826856484, 0.6808329543997108,\n",
       "                    0.6837944664031621, 0.6835029790012476, 0.6836079144659368,\n",
       "                    0.5645644595240594, 0.6821854559445941, 0.6821971154406706,\n",
       "                    0.6831531941189501, 0.683048258654261, 0.6837594879149324,\n",
       "                    0.680273298588035, 0.6823370293935896, 0.684155910781536,\n",
       "                    0.6835029790012476, 0.6807396784310982, 0.6831881726071799,\n",
       "                    0.6834097030326349, 0.6817423950936841, 0.6744085720615155,\n",
       "                    0.6736507048165379, 0.6824886028425852, 0.6834446815208647,\n",
       "                    0.6834446815208647, 0.683852763883545, 0.6837011904345495,\n",
       "                    0.6824419648582788, 0.68363123345809, 0.6835962549698602,\n",
       "                    0.6803082770762647, 0.6779763778609489]},\n",
       "             {'mode': 'lines',\n",
       "              'name': 'Best Value',\n",
       "              'type': 'scatter',\n",
       "              'x': [0, 1, 2, 3, 4, 5, 6, 7, 8, 9, 10, 11, 12, 13, 14, 15, 16, 17,\n",
       "                    18, 19, 20, 21, 22, 23, 24, 25, 26, 27, 28, 29, 30, 31, 32, 33,\n",
       "                    34, 35, 36, 37, 38, 39, 40, 41, 42, 43, 44, 45, 46, 47, 48, 49,\n",
       "                    50, 51, 52, 53, 54, 55, 56, 57, 58, 59, 60, 61, 62, 63, 64, 65,\n",
       "                    66, 67, 68, 69, 70, 71, 72, 73, 74, 75, 76, 77, 78, 79, 80, 81,\n",
       "                    82, 83, 84, 85, 86, 87, 88, 89, 90, 91, 92, 93, 94, 95, 96, 97,\n",
       "                    98, 99, 100, 101, 102, 103, 104, 105, 106, 107, 108, 109, 110,\n",
       "                    111, 112, 113, 114, 115, 116, 117, 118, 119, 120, 121, 122,\n",
       "                    123, 124, 125, 126, 127, 128, 129, 130, 131, 132, 133, 134,\n",
       "                    135, 136, 137, 138, 139, 140, 141, 142, 143, 144, 145, 146,\n",
       "                    147, 148, 149, 150, 151, 152, 153, 154, 155, 156, 157, 158,\n",
       "                    159, 160, 161, 162, 163, 164, 165, 166, 167, 168, 169, 170,\n",
       "                    171, 172, 173, 174, 175, 176, 177, 178, 179, 180, 181, 182,\n",
       "                    183, 184, 185, 186, 187, 188, 189, 190, 191, 192, 193, 194,\n",
       "                    195, 196, 197, 198, 199],\n",
       "              'y': [0.5645644595240594, 0.5645644595240594, 0.5645644595240594,\n",
       "                    0.6110508703813822, 0.6110508703813822, 0.6746301024869705,\n",
       "                    0.6746301024869705, 0.6746301024869705, 0.6746301024869705,\n",
       "                    0.6746301024869705, 0.6746301024869705, 0.6746301024869705,\n",
       "                    0.6746650809752003, 0.6746650809752003, 0.6746650809752003,\n",
       "                    0.6748049949281192, 0.6748049949281192, 0.6748049949281192,\n",
       "                    0.6748049949281192, 0.679690323784206, 0.679690323784206,\n",
       "                    0.679690323784206, 0.679690323784206, 0.679690323784206,\n",
       "                    0.679690323784206, 0.679690323784206, 0.679690323784206,\n",
       "                    0.679690323784206, 0.679690323784206, 0.679690323784206,\n",
       "                    0.679690323784206, 0.679690323784206, 0.679690323784206,\n",
       "                    0.679690323784206, 0.679690323784206, 0.6798885352175079,\n",
       "                    0.6798885352175079, 0.6798885352175079, 0.6806580619585622,\n",
       "                    0.6806580619585622, 0.6811477607937785, 0.6823720078818194,\n",
       "                    0.6823720078818194, 0.6823720078818194, 0.6823720078818194,\n",
       "                    0.6823720078818194, 0.6823720078818194, 0.6823720078818194,\n",
       "                    0.6838644233796215, 0.6838644233796215, 0.6838644233796215,\n",
       "                    0.6838644233796215, 0.6838644233796215, 0.6838644233796215,\n",
       "                    0.6838644233796215, 0.6838644233796215, 0.6838644233796215,\n",
       "                    0.6838644233796215, 0.6838644233796215, 0.6838644233796215,\n",
       "                    0.6838644233796215, 0.6838644233796215, 0.6838644233796215,\n",
       "                    0.6838644233796215, 0.6838644233796215, 0.6838644233796215,\n",
       "                    0.6838644233796215, 0.6838644233796215, 0.6838644233796215,\n",
       "                    0.6838644233796215, 0.6838644233796215, 0.6838644233796215,\n",
       "                    0.6838644233796215, 0.6838644233796215, 0.6838644233796215,\n",
       "                    0.6838644233796215, 0.6838644233796215, 0.6838644233796215,\n",
       "                    0.6838644233796215, 0.6838644233796215, 0.6838644233796215,\n",
       "                    0.6838644233796215, 0.6838644233796215, 0.6838644233796215,\n",
       "                    0.6838644233796215, 0.6838644233796215, 0.6838644233796215,\n",
       "                    0.6838644233796215, 0.6838644233796215, 0.6838644233796215,\n",
       "                    0.6838644233796215, 0.6838644233796215, 0.6838644233796215,\n",
       "                    0.6838644233796215, 0.6838644233796215, 0.6838644233796215,\n",
       "                    0.6838644233796215, 0.6838644233796215, 0.6838644233796215,\n",
       "                    0.6838644233796215, 0.6838644233796215, 0.6838644233796215,\n",
       "                    0.6838644233796215, 0.6838644233796215, 0.6838644233796215,\n",
       "                    0.6838644233796215, 0.6838644233796215, 0.6838644233796215,\n",
       "                    0.6842025487658423, 0.6842025487658423, 0.6842025487658423,\n",
       "                    0.6842025487658423, 0.6842025487658423, 0.6842025487658423,\n",
       "                    0.6842025487658423, 0.6842025487658423, 0.6842025487658423,\n",
       "                    0.6842025487658423, 0.6842025487658423, 0.6842025487658423,\n",
       "                    0.6842025487658423, 0.6842025487658423, 0.6842025487658423,\n",
       "                    0.6842025487658423, 0.6842958247344549, 0.6842958247344549,\n",
       "                    0.6842958247344549, 0.6842958247344549, 0.6842958247344549,\n",
       "                    0.6842958247344549, 0.6842958247344549, 0.6842958247344549,\n",
       "                    0.6842958247344549, 0.6842958247344549, 0.6842958247344549,\n",
       "                    0.6842958247344549, 0.6842958247344549, 0.6842958247344549,\n",
       "                    0.6842958247344549, 0.6842958247344549, 0.6842958247344549,\n",
       "                    0.6844707171756037, 0.6844707171756037, 0.6844707171756037,\n",
       "                    0.6844707171756037, 0.6844707171756037, 0.6844707171756037,\n",
       "                    0.6844707171756037, 0.6844707171756037, 0.6844707171756037,\n",
       "                    0.6844707171756037, 0.6844707171756037, 0.6844707171756037,\n",
       "                    0.6844707171756037, 0.6844707171756037, 0.6844707171756037,\n",
       "                    0.6844707171756037, 0.6844707171756037, 0.6844707171756037,\n",
       "                    0.6844707171756037, 0.6844707171756037, 0.6844707171756037,\n",
       "                    0.6844707171756037, 0.6844707171756037, 0.6844707171756037,\n",
       "                    0.6844707171756037, 0.6844707171756037, 0.6844707171756037,\n",
       "                    0.6844707171756037, 0.6844707171756037, 0.6844707171756037,\n",
       "                    0.6844707171756037, 0.6844707171756037, 0.6844707171756037,\n",
       "                    0.6844707171756037, 0.6844707171756037, 0.6844707171756037,\n",
       "                    0.6844707171756037, 0.6844707171756037, 0.6844707171756037,\n",
       "                    0.6844707171756037, 0.6844707171756037, 0.6844707171756037,\n",
       "                    0.6844707171756037, 0.6844707171756037, 0.6844707171756037,\n",
       "                    0.6844707171756037, 0.6844707171756037, 0.6844707171756037,\n",
       "                    0.6844707171756037, 0.6844707171756037, 0.6844707171756037,\n",
       "                    0.6844707171756037, 0.6844707171756037, 0.6844707171756037,\n",
       "                    0.6844707171756037, 0.6844707171756037, 0.6844707171756037,\n",
       "                    0.6844707171756037, 0.6844707171756037]},\n",
       "             {'marker': {'color': '#cccccc'},\n",
       "              'mode': 'markers',\n",
       "              'name': 'Infeasible Trial',\n",
       "              'showlegend': False,\n",
       "              'type': 'scatter',\n",
       "              'x': [],\n",
       "              'y': []}],\n",
       "    'layout': {'template': '...',\n",
       "               'title': {'text': 'Optimization History Plot'},\n",
       "               'xaxis': {'title': {'text': 'Trial'}},\n",
       "               'yaxis': {'title': {'text': 'Objective Value'}}}\n",
       "})"
      ]
     },
     "execution_count": 13,
     "metadata": {},
     "output_type": "execute_result"
    }
   ],
   "source": [
    "plot_optimization_history(study)"
   ]
  },
  {
   "cell_type": "markdown",
   "metadata": {},
   "source": [
    "## Random Forest"
   ]
  },
  {
   "cell_type": "code",
   "execution_count": 19,
   "metadata": {},
   "outputs": [
    {
     "name": "stderr",
     "output_type": "stream",
     "text": [
      "[I 2024-09-16 21:16:25,101] A new study created in memory with name: no-name-3765e719-977e-47a1-be91-7ad6952a14ef\n",
      "[I 2024-09-16 21:17:27,253] Trial 0 finished with value: 0.6821621369524409 and parameters: {'n_estimators': 212, 'max_depth': 27, 'min_samples_split': 23, 'min_samples_leaf': 21, 'max_features': 'sqrt', 'criterion': 'gini'}. Best is trial 0 with value: 0.6821621369524409.\n",
      "[I 2024-09-16 21:18:29,193] Trial 1 finished with value: 0.6774633600335793 and parameters: {'n_estimators': 455, 'max_depth': 5, 'min_samples_split': 18, 'min_samples_leaf': 14, 'max_features': 'log2', 'criterion': 'entropy'}. Best is trial 0 with value: 0.6821621369524409.\n",
      "[I 2024-09-16 21:20:10,464] Trial 2 finished with value: 0.683048258654261 and parameters: {'n_estimators': 380, 'max_depth': 15, 'min_samples_split': 21, 'min_samples_leaf': 32, 'max_features': 'sqrt', 'criterion': 'entropy'}. Best is trial 2 with value: 0.683048258654261.\n",
      "[I 2024-09-16 21:22:06,510] Trial 3 finished with value: 0.67112059416792 and parameters: {'n_estimators': 304, 'max_depth': 25, 'min_samples_split': 7, 'min_samples_leaf': 3, 'max_features': 'sqrt', 'criterion': 'log_loss'}. Best is trial 2 with value: 0.683048258654261.\n",
      "[I 2024-09-16 21:22:46,371] Trial 4 finished with value: 0.6752480557790292 and parameters: {'n_estimators': 111, 'max_depth': 32, 'min_samples_split': 2, 'min_samples_leaf': 6, 'max_features': 'sqrt', 'criterion': 'log_loss'}. Best is trial 2 with value: 0.683048258654261.\n",
      "[I 2024-09-16 21:24:45,697] Trial 5 finished with value: 0.6829433231895717 and parameters: {'n_estimators': 447, 'max_depth': 15, 'min_samples_split': 27, 'min_samples_leaf': 31, 'max_features': 'log2', 'criterion': 'entropy'}. Best is trial 2 with value: 0.683048258654261.\n",
      "[I 2024-09-16 21:26:40,155] Trial 6 finished with value: 0.6773467650728136 and parameters: {'n_estimators': 330, 'max_depth': 26, 'min_samples_split': 27, 'min_samples_leaf': 3, 'max_features': 'log2', 'criterion': 'log_loss'}. Best is trial 2 with value: 0.683048258654261.\n",
      "[I 2024-09-16 21:27:18,728] Trial 7 finished with value: 0.6770202991826694 and parameters: {'n_estimators': 110, 'max_depth': 22, 'min_samples_split': 17, 'min_samples_leaf': 2, 'max_features': 'log2', 'criterion': 'entropy'}. Best is trial 2 with value: 0.683048258654261.\n",
      "[I 2024-09-16 21:28:30,883] Trial 8 finished with value: 0.6823486888896662 and parameters: {'n_estimators': 331, 'max_depth': 10, 'min_samples_split': 12, 'min_samples_leaf': 2, 'max_features': 'sqrt', 'criterion': 'log_loss'}. Best is trial 2 with value: 0.683048258654261.\n",
      "[I 2024-09-16 21:30:36,004] Trial 9 finished with value: 0.6831998321032565 and parameters: {'n_estimators': 494, 'max_depth': 13, 'min_samples_split': 24, 'min_samples_leaf': 18, 'max_features': 'sqrt', 'criterion': 'log_loss'}. Best is trial 9 with value: 0.6831998321032565.\n",
      "[I 2024-09-16 21:31:34,325] Trial 10 finished with value: 0.676309069921998 and parameters: {'n_estimators': 500, 'max_depth': 4, 'min_samples_split': 29, 'min_samples_leaf': 20, 'max_features': 'sqrt', 'criterion': 'gini'}. Best is trial 9 with value: 0.6831998321032565.\n",
      "[I 2024-09-16 21:33:21,162] Trial 11 finished with value: 0.6831998321032565 and parameters: {'n_estimators': 396, 'max_depth': 15, 'min_samples_split': 21, 'min_samples_leaf': 30, 'max_features': 'sqrt', 'criterion': 'entropy'}. Best is trial 9 with value: 0.6831998321032565.\n",
      "[I 2024-09-16 21:34:58,371] Trial 12 finished with value: 0.6829433231895717 and parameters: {'n_estimators': 403, 'max_depth': 12, 'min_samples_split': 32, 'min_samples_leaf': 26, 'max_features': 'sqrt', 'criterion': 'log_loss'}. Best is trial 9 with value: 0.6831998321032565.\n",
      "[I 2024-09-16 21:37:31,711] Trial 13 finished with value: 0.6821971154406706 and parameters: {'n_estimators': 498, 'max_depth': 19, 'min_samples_split': 14, 'min_samples_leaf': 12, 'max_features': 'sqrt', 'criterion': 'entropy'}. Best is trial 9 with value: 0.6831998321032565.\n",
      "[I 2024-09-16 21:38:51,703] Trial 14 finished with value: 0.6815675026525354 and parameters: {'n_estimators': 397, 'max_depth': 9, 'min_samples_split': 23, 'min_samples_leaf': 25, 'max_features': 'sqrt', 'criterion': 'gini'}. Best is trial 9 with value: 0.6831998321032565.\n",
      "[I 2024-09-16 21:40:12,216] Trial 15 finished with value: 0.6819406065269858 and parameters: {'n_estimators': 252, 'max_depth': 19, 'min_samples_split': 20, 'min_samples_leaf': 9, 'max_features': 'sqrt', 'criterion': 'log_loss'}. Best is trial 9 with value: 0.6831998321032565.\n",
      "[I 2024-09-16 21:41:33,640] Trial 16 finished with value: 0.6804481910291837 and parameters: {'n_estimators': 441, 'max_depth': 8, 'min_samples_split': 25, 'min_samples_leaf': 19, 'max_features': 'sqrt', 'criterion': 'entropy'}. Best is trial 9 with value: 0.6831998321032565.\n",
      "[I 2024-09-16 21:43:07,969] Trial 17 finished with value: 0.6831182156307204 and parameters: {'n_estimators': 359, 'max_depth': 14, 'min_samples_split': 13, 'min_samples_leaf': 26, 'max_features': 'sqrt', 'criterion': 'entropy'}. Best is trial 9 with value: 0.6831998321032565.\n",
      "[I 2024-09-16 21:45:14,180] Trial 18 finished with value: 0.6830832371424908 and parameters: {'n_estimators': 434, 'max_depth': 17, 'min_samples_split': 32, 'min_samples_leaf': 16, 'max_features': 'log2', 'criterion': 'log_loss'}. Best is trial 9 with value: 0.6831998321032565.\n",
      "[I 2024-09-16 21:45:56,418] Trial 19 finished with value: 0.6798185782410484 and parameters: {'n_estimators': 247, 'max_depth': 7, 'min_samples_split': 16, 'min_samples_leaf': 28, 'max_features': 'sqrt', 'criterion': 'gini'}. Best is trial 9 with value: 0.6831998321032565.\n",
      "[I 2024-09-16 21:47:52,363] Trial 20 finished with value: 0.6829316636934951 and parameters: {'n_estimators': 482, 'max_depth': 12, 'min_samples_split': 20, 'min_samples_leaf': 23, 'max_features': 'sqrt', 'criterion': 'log_loss'}. Best is trial 9 with value: 0.6831998321032565.\n",
      "[I 2024-09-16 21:49:24,800] Trial 21 finished with value: 0.6835146384973242 and parameters: {'n_estimators': 365, 'max_depth': 13, 'min_samples_split': 9, 'min_samples_leaf': 30, 'max_features': 'sqrt', 'criterion': 'entropy'}. Best is trial 21 with value: 0.6835146384973242.\n",
      "[I 2024-09-16 21:50:50,780] Trial 22 finished with value: 0.6833980435365583 and parameters: {'n_estimators': 355, 'max_depth': 12, 'min_samples_split': 10, 'min_samples_leaf': 29, 'max_features': 'sqrt', 'criterion': 'entropy'}. Best is trial 21 with value: 0.6835146384973242.\n",
      "[I 2024-09-16 21:51:30,374] Trial 23 finished with value: 0.6829783016778015 and parameters: {'n_estimators': 172, 'max_depth': 11, 'min_samples_split': 9, 'min_samples_leaf': 29, 'max_features': 'sqrt', 'criterion': 'entropy'}. Best is trial 21 with value: 0.6835146384973242.\n",
      "[I 2024-09-16 21:51:54,196] Trial 24 finished with value: 0.670817447269929 and parameters: {'n_estimators': 286, 'max_depth': 2, 'min_samples_split': 6, 'min_samples_leaf': 23, 'max_features': 'sqrt', 'criterion': 'entropy'}. Best is trial 21 with value: 0.6835146384973242.\n",
      "[I 2024-09-16 21:53:40,417] Trial 25 finished with value: 0.6826051978033509 and parameters: {'n_estimators': 363, 'max_depth': 19, 'min_samples_split': 10, 'min_samples_leaf': 28, 'max_features': 'sqrt', 'criterion': 'entropy'}. Best is trial 21 with value: 0.6835146384973242.\n",
      "[I 2024-09-16 21:55:05,070] Trial 26 finished with value: 0.6835379574894773 and parameters: {'n_estimators': 333, 'max_depth': 13, 'min_samples_split': 3, 'min_samples_leaf': 17, 'max_features': 'log2', 'criterion': 'entropy'}. Best is trial 26 with value: 0.6835379574894773.\n",
      "[I 2024-09-16 21:56:43,778] Trial 27 finished with value: 0.6828150687327293 and parameters: {'n_estimators': 324, 'max_depth': 17, 'min_samples_split': 3, 'min_samples_leaf': 9, 'max_features': 'log2', 'criterion': 'entropy'}. Best is trial 26 with value: 0.6835379574894773.\n",
      "[I 2024-09-16 21:57:30,653] Trial 28 finished with value: 0.6796553452959763 and parameters: {'n_estimators': 278, 'max_depth': 7, 'min_samples_split': 5, 'min_samples_leaf': 32, 'max_features': 'log2', 'criterion': 'entropy'}. Best is trial 26 with value: 0.6835379574894773.\n",
      "[I 2024-09-16 21:59:13,522] Trial 29 finished with value: 0.6821388179602877 and parameters: {'n_estimators': 353, 'max_depth': 21, 'min_samples_split': 9, 'min_samples_leaf': 23, 'max_features': 'log2', 'criterion': 'gini'}. Best is trial 26 with value: 0.6835379574894773.\n"
     ]
    },
    {
     "name": "stdout",
     "output_type": "stream",
     "text": [
      "Number of finished trials:  30\n",
      "Best trial:\n",
      "  Value: 0.6835379574894773\n",
      "  Params: \n",
      "    n_estimators: 333\n",
      "    max_depth: 13\n",
      "    min_samples_split: 3\n",
      "    min_samples_leaf: 17\n",
      "    max_features: log2\n",
      "    criterion: entropy\n"
     ]
    }
   ],
   "source": [
    "from sklearn.ensemble import RandomForestClassifier\n",
    "from optuna.samplers import TPESampler\n",
    "\n",
    "\n",
    "def objective_rf(trial):\n",
    "    n_estimators = trial.suggest_int('n_estimators', 100, 500)\n",
    "    max_depth = trial.suggest_int('max_depth', 2, 32)\n",
    "    min_samples_split = trial.suggest_int('min_samples_split', 2, 32)\n",
    "    min_samples_leaf = trial.suggest_int('min_samples_leaf', 1, 32)\n",
    "    max_features = trial.suggest_categorical('max_features', ['sqrt', 'log2'])\n",
    "    criterion = trial.suggest_categorical('criterion', [\"gini\", \"entropy\", \"log_loss\"])\n",
    "\n",
    "    model = RandomForestClassifier(\n",
    "        n_estimators=n_estimators,\n",
    "        max_depth=max_depth,\n",
    "        min_samples_split=min_samples_split,\n",
    "        min_samples_leaf=min_samples_leaf,\n",
    "        max_features=max_features,\n",
    "        criterion=criterion\n",
    "    )\n",
    "\n",
    "    model.fit(X_train_scaled, y_train)\n",
    "    y_pred = model.predict(X_test_scaled)\n",
    "    \n",
    "    accuracy = accuracy_score(y_test, y_pred)\n",
    "    return accuracy\n",
    "\n",
    "# callback to stop the trial early \n",
    "pruning_callback = optuna.pruners.MedianPruner()\n",
    "\n",
    "# Create a study object and optimize the objective function.\n",
    "study = optuna.create_study(direction='maximize', pruner=[pruning_callback], sampler=TPESampler())\n",
    "study.optimize(objective_rf, n_trials=30)\n",
    "\n",
    "print(\"Number of finished trials: \", len(study.trials))\n",
    "print(\"Best trial:\")\n",
    "trial = study.best_trial\n",
    "\n",
    "print(\"  Value: {}\".format(trial.value))\n",
    "print(\"  Params: \")\n",
    "for key, value in trial.params.items():\n",
    "    print(\"    {}: {}\".format(key, value))"
   ]
  },
  {
   "cell_type": "code",
   "execution_count": 20,
   "metadata": {},
   "outputs": [
    {
     "ename": "ValueError",
     "evalue": "Mime type rendering requires nbformat>=4.2.0 but it is not installed",
     "output_type": "error",
     "traceback": [
      "\u001b[1;31m---------------------------------------------------------------------------\u001b[0m",
      "\u001b[1;31mValueError\u001b[0m                                Traceback (most recent call last)",
      "File \u001b[1;32m~\\AppData\\Roaming\\Python\\Python312\\site-packages\\IPython\\core\\formatters.py:925\u001b[0m, in \u001b[0;36mIPythonDisplayFormatter.__call__\u001b[1;34m(self, obj)\u001b[0m\n\u001b[0;32m    923\u001b[0m method \u001b[38;5;241m=\u001b[39m get_real_method(obj, \u001b[38;5;28mself\u001b[39m\u001b[38;5;241m.\u001b[39mprint_method)\n\u001b[0;32m    924\u001b[0m \u001b[38;5;28;01mif\u001b[39;00m method \u001b[38;5;129;01mis\u001b[39;00m \u001b[38;5;129;01mnot\u001b[39;00m \u001b[38;5;28;01mNone\u001b[39;00m:\n\u001b[1;32m--> 925\u001b[0m     \u001b[43mmethod\u001b[49m\u001b[43m(\u001b[49m\u001b[43m)\u001b[49m\n\u001b[0;32m    926\u001b[0m     \u001b[38;5;28;01mreturn\u001b[39;00m \u001b[38;5;28;01mTrue\u001b[39;00m\n",
      "File \u001b[1;32mc:\\Users\\Sarah\\anaconda3\\envs\\nba_env\\Lib\\site-packages\\plotly\\basedatatypes.py:832\u001b[0m, in \u001b[0;36mBaseFigure._ipython_display_\u001b[1;34m(self)\u001b[0m\n\u001b[0;32m    829\u001b[0m \u001b[38;5;28;01mimport\u001b[39;00m \u001b[38;5;21;01mplotly\u001b[39;00m\u001b[38;5;21;01m.\u001b[39;00m\u001b[38;5;21;01mio\u001b[39;00m \u001b[38;5;28;01mas\u001b[39;00m \u001b[38;5;21;01mpio\u001b[39;00m\n\u001b[0;32m    831\u001b[0m \u001b[38;5;28;01mif\u001b[39;00m pio\u001b[38;5;241m.\u001b[39mrenderers\u001b[38;5;241m.\u001b[39mrender_on_display \u001b[38;5;129;01mand\u001b[39;00m pio\u001b[38;5;241m.\u001b[39mrenderers\u001b[38;5;241m.\u001b[39mdefault:\n\u001b[1;32m--> 832\u001b[0m     \u001b[43mpio\u001b[49m\u001b[38;5;241;43m.\u001b[39;49m\u001b[43mshow\u001b[49m\u001b[43m(\u001b[49m\u001b[38;5;28;43mself\u001b[39;49m\u001b[43m)\u001b[49m\n\u001b[0;32m    833\u001b[0m \u001b[38;5;28;01melse\u001b[39;00m:\n\u001b[0;32m    834\u001b[0m     \u001b[38;5;28mprint\u001b[39m(\u001b[38;5;28mrepr\u001b[39m(\u001b[38;5;28mself\u001b[39m))\n",
      "File \u001b[1;32mc:\\Users\\Sarah\\anaconda3\\envs\\nba_env\\Lib\\site-packages\\plotly\\io\\_renderers.py:394\u001b[0m, in \u001b[0;36mshow\u001b[1;34m(fig, renderer, validate, **kwargs)\u001b[0m\n\u001b[0;32m    389\u001b[0m         \u001b[38;5;28;01mraise\u001b[39;00m \u001b[38;5;167;01mValueError\u001b[39;00m(\n\u001b[0;32m    390\u001b[0m             \u001b[38;5;124m\"\u001b[39m\u001b[38;5;124mMime type rendering requires ipython but it is not installed\u001b[39m\u001b[38;5;124m\"\u001b[39m\n\u001b[0;32m    391\u001b[0m         )\n\u001b[0;32m    393\u001b[0m     \u001b[38;5;28;01mif\u001b[39;00m \u001b[38;5;129;01mnot\u001b[39;00m nbformat \u001b[38;5;129;01mor\u001b[39;00m Version(nbformat\u001b[38;5;241m.\u001b[39m__version__) \u001b[38;5;241m<\u001b[39m Version(\u001b[38;5;124m\"\u001b[39m\u001b[38;5;124m4.2.0\u001b[39m\u001b[38;5;124m\"\u001b[39m):\n\u001b[1;32m--> 394\u001b[0m         \u001b[38;5;28;01mraise\u001b[39;00m \u001b[38;5;167;01mValueError\u001b[39;00m(\n\u001b[0;32m    395\u001b[0m             \u001b[38;5;124m\"\u001b[39m\u001b[38;5;124mMime type rendering requires nbformat>=4.2.0 but it is not installed\u001b[39m\u001b[38;5;124m\"\u001b[39m\n\u001b[0;32m    396\u001b[0m         )\n\u001b[0;32m    398\u001b[0m     ipython_display\u001b[38;5;241m.\u001b[39mdisplay(bundle, raw\u001b[38;5;241m=\u001b[39m\u001b[38;5;28;01mTrue\u001b[39;00m)\n\u001b[0;32m    400\u001b[0m \u001b[38;5;66;03m# external renderers\u001b[39;00m\n",
      "\u001b[1;31mValueError\u001b[0m: Mime type rendering requires nbformat>=4.2.0 but it is not installed"
     ]
    },
    {
     "data": {
      "application/vnd.plotly.v1+json": {
       "config": {
        "plotlyServerURL": "https://plot.ly"
       },
       "data": [
        {
         "mode": "markers",
         "name": "Objective Value",
         "type": "scatter",
         "x": [
          0,
          1,
          2,
          3,
          4,
          5,
          6,
          7,
          8,
          9,
          10,
          11,
          12,
          13,
          14,
          15,
          16,
          17,
          18,
          19,
          20,
          21,
          22,
          23,
          24,
          25,
          26,
          27,
          28,
          29
         ],
         "y": [
          0.6821621369524409,
          0.6774633600335793,
          0.683048258654261,
          0.67112059416792,
          0.6752480557790292,
          0.6829433231895717,
          0.6773467650728136,
          0.6770202991826694,
          0.6823486888896662,
          0.6831998321032565,
          0.676309069921998,
          0.6831998321032565,
          0.6829433231895717,
          0.6821971154406706,
          0.6815675026525354,
          0.6819406065269858,
          0.6804481910291837,
          0.6831182156307204,
          0.6830832371424908,
          0.6798185782410484,
          0.6829316636934951,
          0.6835146384973242,
          0.6833980435365583,
          0.6829783016778015,
          0.670817447269929,
          0.6826051978033509,
          0.6835379574894773,
          0.6828150687327293,
          0.6796553452959763,
          0.6821388179602877
         ]
        },
        {
         "mode": "lines",
         "name": "Best Value",
         "type": "scatter",
         "x": [
          0,
          1,
          2,
          3,
          4,
          5,
          6,
          7,
          8,
          9,
          10,
          11,
          12,
          13,
          14,
          15,
          16,
          17,
          18,
          19,
          20,
          21,
          22,
          23,
          24,
          25,
          26,
          27,
          28,
          29
         ],
         "y": [
          0.6821621369524409,
          0.6821621369524409,
          0.683048258654261,
          0.683048258654261,
          0.683048258654261,
          0.683048258654261,
          0.683048258654261,
          0.683048258654261,
          0.683048258654261,
          0.6831998321032565,
          0.6831998321032565,
          0.6831998321032565,
          0.6831998321032565,
          0.6831998321032565,
          0.6831998321032565,
          0.6831998321032565,
          0.6831998321032565,
          0.6831998321032565,
          0.6831998321032565,
          0.6831998321032565,
          0.6831998321032565,
          0.6835146384973242,
          0.6835146384973242,
          0.6835146384973242,
          0.6835146384973242,
          0.6835146384973242,
          0.6835379574894773,
          0.6835379574894773,
          0.6835379574894773,
          0.6835379574894773
         ]
        },
        {
         "marker": {
          "color": "#cccccc"
         },
         "mode": "markers",
         "name": "Infeasible Trial",
         "showlegend": false,
         "type": "scatter",
         "x": [],
         "y": []
        }
       ],
       "layout": {
        "template": {
         "data": {
          "bar": [
           {
            "error_x": {
             "color": "#2a3f5f"
            },
            "error_y": {
             "color": "#2a3f5f"
            },
            "marker": {
             "line": {
              "color": "#E5ECF6",
              "width": 0.5
             },
             "pattern": {
              "fillmode": "overlay",
              "size": 10,
              "solidity": 0.2
             }
            },
            "type": "bar"
           }
          ],
          "barpolar": [
           {
            "marker": {
             "line": {
              "color": "#E5ECF6",
              "width": 0.5
             },
             "pattern": {
              "fillmode": "overlay",
              "size": 10,
              "solidity": 0.2
             }
            },
            "type": "barpolar"
           }
          ],
          "carpet": [
           {
            "aaxis": {
             "endlinecolor": "#2a3f5f",
             "gridcolor": "white",
             "linecolor": "white",
             "minorgridcolor": "white",
             "startlinecolor": "#2a3f5f"
            },
            "baxis": {
             "endlinecolor": "#2a3f5f",
             "gridcolor": "white",
             "linecolor": "white",
             "minorgridcolor": "white",
             "startlinecolor": "#2a3f5f"
            },
            "type": "carpet"
           }
          ],
          "choropleth": [
           {
            "colorbar": {
             "outlinewidth": 0,
             "ticks": ""
            },
            "type": "choropleth"
           }
          ],
          "contour": [
           {
            "colorbar": {
             "outlinewidth": 0,
             "ticks": ""
            },
            "colorscale": [
             [
              0,
              "#0d0887"
             ],
             [
              0.1111111111111111,
              "#46039f"
             ],
             [
              0.2222222222222222,
              "#7201a8"
             ],
             [
              0.3333333333333333,
              "#9c179e"
             ],
             [
              0.4444444444444444,
              "#bd3786"
             ],
             [
              0.5555555555555556,
              "#d8576b"
             ],
             [
              0.6666666666666666,
              "#ed7953"
             ],
             [
              0.7777777777777778,
              "#fb9f3a"
             ],
             [
              0.8888888888888888,
              "#fdca26"
             ],
             [
              1,
              "#f0f921"
             ]
            ],
            "type": "contour"
           }
          ],
          "contourcarpet": [
           {
            "colorbar": {
             "outlinewidth": 0,
             "ticks": ""
            },
            "type": "contourcarpet"
           }
          ],
          "heatmap": [
           {
            "colorbar": {
             "outlinewidth": 0,
             "ticks": ""
            },
            "colorscale": [
             [
              0,
              "#0d0887"
             ],
             [
              0.1111111111111111,
              "#46039f"
             ],
             [
              0.2222222222222222,
              "#7201a8"
             ],
             [
              0.3333333333333333,
              "#9c179e"
             ],
             [
              0.4444444444444444,
              "#bd3786"
             ],
             [
              0.5555555555555556,
              "#d8576b"
             ],
             [
              0.6666666666666666,
              "#ed7953"
             ],
             [
              0.7777777777777778,
              "#fb9f3a"
             ],
             [
              0.8888888888888888,
              "#fdca26"
             ],
             [
              1,
              "#f0f921"
             ]
            ],
            "type": "heatmap"
           }
          ],
          "heatmapgl": [
           {
            "colorbar": {
             "outlinewidth": 0,
             "ticks": ""
            },
            "colorscale": [
             [
              0,
              "#0d0887"
             ],
             [
              0.1111111111111111,
              "#46039f"
             ],
             [
              0.2222222222222222,
              "#7201a8"
             ],
             [
              0.3333333333333333,
              "#9c179e"
             ],
             [
              0.4444444444444444,
              "#bd3786"
             ],
             [
              0.5555555555555556,
              "#d8576b"
             ],
             [
              0.6666666666666666,
              "#ed7953"
             ],
             [
              0.7777777777777778,
              "#fb9f3a"
             ],
             [
              0.8888888888888888,
              "#fdca26"
             ],
             [
              1,
              "#f0f921"
             ]
            ],
            "type": "heatmapgl"
           }
          ],
          "histogram": [
           {
            "marker": {
             "pattern": {
              "fillmode": "overlay",
              "size": 10,
              "solidity": 0.2
             }
            },
            "type": "histogram"
           }
          ],
          "histogram2d": [
           {
            "colorbar": {
             "outlinewidth": 0,
             "ticks": ""
            },
            "colorscale": [
             [
              0,
              "#0d0887"
             ],
             [
              0.1111111111111111,
              "#46039f"
             ],
             [
              0.2222222222222222,
              "#7201a8"
             ],
             [
              0.3333333333333333,
              "#9c179e"
             ],
             [
              0.4444444444444444,
              "#bd3786"
             ],
             [
              0.5555555555555556,
              "#d8576b"
             ],
             [
              0.6666666666666666,
              "#ed7953"
             ],
             [
              0.7777777777777778,
              "#fb9f3a"
             ],
             [
              0.8888888888888888,
              "#fdca26"
             ],
             [
              1,
              "#f0f921"
             ]
            ],
            "type": "histogram2d"
           }
          ],
          "histogram2dcontour": [
           {
            "colorbar": {
             "outlinewidth": 0,
             "ticks": ""
            },
            "colorscale": [
             [
              0,
              "#0d0887"
             ],
             [
              0.1111111111111111,
              "#46039f"
             ],
             [
              0.2222222222222222,
              "#7201a8"
             ],
             [
              0.3333333333333333,
              "#9c179e"
             ],
             [
              0.4444444444444444,
              "#bd3786"
             ],
             [
              0.5555555555555556,
              "#d8576b"
             ],
             [
              0.6666666666666666,
              "#ed7953"
             ],
             [
              0.7777777777777778,
              "#fb9f3a"
             ],
             [
              0.8888888888888888,
              "#fdca26"
             ],
             [
              1,
              "#f0f921"
             ]
            ],
            "type": "histogram2dcontour"
           }
          ],
          "mesh3d": [
           {
            "colorbar": {
             "outlinewidth": 0,
             "ticks": ""
            },
            "type": "mesh3d"
           }
          ],
          "parcoords": [
           {
            "line": {
             "colorbar": {
              "outlinewidth": 0,
              "ticks": ""
             }
            },
            "type": "parcoords"
           }
          ],
          "pie": [
           {
            "automargin": true,
            "type": "pie"
           }
          ],
          "scatter": [
           {
            "fillpattern": {
             "fillmode": "overlay",
             "size": 10,
             "solidity": 0.2
            },
            "type": "scatter"
           }
          ],
          "scatter3d": [
           {
            "line": {
             "colorbar": {
              "outlinewidth": 0,
              "ticks": ""
             }
            },
            "marker": {
             "colorbar": {
              "outlinewidth": 0,
              "ticks": ""
             }
            },
            "type": "scatter3d"
           }
          ],
          "scattercarpet": [
           {
            "marker": {
             "colorbar": {
              "outlinewidth": 0,
              "ticks": ""
             }
            },
            "type": "scattercarpet"
           }
          ],
          "scattergeo": [
           {
            "marker": {
             "colorbar": {
              "outlinewidth": 0,
              "ticks": ""
             }
            },
            "type": "scattergeo"
           }
          ],
          "scattergl": [
           {
            "marker": {
             "colorbar": {
              "outlinewidth": 0,
              "ticks": ""
             }
            },
            "type": "scattergl"
           }
          ],
          "scattermapbox": [
           {
            "marker": {
             "colorbar": {
              "outlinewidth": 0,
              "ticks": ""
             }
            },
            "type": "scattermapbox"
           }
          ],
          "scatterpolar": [
           {
            "marker": {
             "colorbar": {
              "outlinewidth": 0,
              "ticks": ""
             }
            },
            "type": "scatterpolar"
           }
          ],
          "scatterpolargl": [
           {
            "marker": {
             "colorbar": {
              "outlinewidth": 0,
              "ticks": ""
             }
            },
            "type": "scatterpolargl"
           }
          ],
          "scatterternary": [
           {
            "marker": {
             "colorbar": {
              "outlinewidth": 0,
              "ticks": ""
             }
            },
            "type": "scatterternary"
           }
          ],
          "surface": [
           {
            "colorbar": {
             "outlinewidth": 0,
             "ticks": ""
            },
            "colorscale": [
             [
              0,
              "#0d0887"
             ],
             [
              0.1111111111111111,
              "#46039f"
             ],
             [
              0.2222222222222222,
              "#7201a8"
             ],
             [
              0.3333333333333333,
              "#9c179e"
             ],
             [
              0.4444444444444444,
              "#bd3786"
             ],
             [
              0.5555555555555556,
              "#d8576b"
             ],
             [
              0.6666666666666666,
              "#ed7953"
             ],
             [
              0.7777777777777778,
              "#fb9f3a"
             ],
             [
              0.8888888888888888,
              "#fdca26"
             ],
             [
              1,
              "#f0f921"
             ]
            ],
            "type": "surface"
           }
          ],
          "table": [
           {
            "cells": {
             "fill": {
              "color": "#EBF0F8"
             },
             "line": {
              "color": "white"
             }
            },
            "header": {
             "fill": {
              "color": "#C8D4E3"
             },
             "line": {
              "color": "white"
             }
            },
            "type": "table"
           }
          ]
         },
         "layout": {
          "annotationdefaults": {
           "arrowcolor": "#2a3f5f",
           "arrowhead": 0,
           "arrowwidth": 1
          },
          "autotypenumbers": "strict",
          "coloraxis": {
           "colorbar": {
            "outlinewidth": 0,
            "ticks": ""
           }
          },
          "colorscale": {
           "diverging": [
            [
             0,
             "#8e0152"
            ],
            [
             0.1,
             "#c51b7d"
            ],
            [
             0.2,
             "#de77ae"
            ],
            [
             0.3,
             "#f1b6da"
            ],
            [
             0.4,
             "#fde0ef"
            ],
            [
             0.5,
             "#f7f7f7"
            ],
            [
             0.6,
             "#e6f5d0"
            ],
            [
             0.7,
             "#b8e186"
            ],
            [
             0.8,
             "#7fbc41"
            ],
            [
             0.9,
             "#4d9221"
            ],
            [
             1,
             "#276419"
            ]
           ],
           "sequential": [
            [
             0,
             "#0d0887"
            ],
            [
             0.1111111111111111,
             "#46039f"
            ],
            [
             0.2222222222222222,
             "#7201a8"
            ],
            [
             0.3333333333333333,
             "#9c179e"
            ],
            [
             0.4444444444444444,
             "#bd3786"
            ],
            [
             0.5555555555555556,
             "#d8576b"
            ],
            [
             0.6666666666666666,
             "#ed7953"
            ],
            [
             0.7777777777777778,
             "#fb9f3a"
            ],
            [
             0.8888888888888888,
             "#fdca26"
            ],
            [
             1,
             "#f0f921"
            ]
           ],
           "sequentialminus": [
            [
             0,
             "#0d0887"
            ],
            [
             0.1111111111111111,
             "#46039f"
            ],
            [
             0.2222222222222222,
             "#7201a8"
            ],
            [
             0.3333333333333333,
             "#9c179e"
            ],
            [
             0.4444444444444444,
             "#bd3786"
            ],
            [
             0.5555555555555556,
             "#d8576b"
            ],
            [
             0.6666666666666666,
             "#ed7953"
            ],
            [
             0.7777777777777778,
             "#fb9f3a"
            ],
            [
             0.8888888888888888,
             "#fdca26"
            ],
            [
             1,
             "#f0f921"
            ]
           ]
          },
          "colorway": [
           "#636efa",
           "#EF553B",
           "#00cc96",
           "#ab63fa",
           "#FFA15A",
           "#19d3f3",
           "#FF6692",
           "#B6E880",
           "#FF97FF",
           "#FECB52"
          ],
          "font": {
           "color": "#2a3f5f"
          },
          "geo": {
           "bgcolor": "white",
           "lakecolor": "white",
           "landcolor": "#E5ECF6",
           "showlakes": true,
           "showland": true,
           "subunitcolor": "white"
          },
          "hoverlabel": {
           "align": "left"
          },
          "hovermode": "closest",
          "mapbox": {
           "style": "light"
          },
          "paper_bgcolor": "white",
          "plot_bgcolor": "#E5ECF6",
          "polar": {
           "angularaxis": {
            "gridcolor": "white",
            "linecolor": "white",
            "ticks": ""
           },
           "bgcolor": "#E5ECF6",
           "radialaxis": {
            "gridcolor": "white",
            "linecolor": "white",
            "ticks": ""
           }
          },
          "scene": {
           "xaxis": {
            "backgroundcolor": "#E5ECF6",
            "gridcolor": "white",
            "gridwidth": 2,
            "linecolor": "white",
            "showbackground": true,
            "ticks": "",
            "zerolinecolor": "white"
           },
           "yaxis": {
            "backgroundcolor": "#E5ECF6",
            "gridcolor": "white",
            "gridwidth": 2,
            "linecolor": "white",
            "showbackground": true,
            "ticks": "",
            "zerolinecolor": "white"
           },
           "zaxis": {
            "backgroundcolor": "#E5ECF6",
            "gridcolor": "white",
            "gridwidth": 2,
            "linecolor": "white",
            "showbackground": true,
            "ticks": "",
            "zerolinecolor": "white"
           }
          },
          "shapedefaults": {
           "line": {
            "color": "#2a3f5f"
           }
          },
          "ternary": {
           "aaxis": {
            "gridcolor": "white",
            "linecolor": "white",
            "ticks": ""
           },
           "baxis": {
            "gridcolor": "white",
            "linecolor": "white",
            "ticks": ""
           },
           "bgcolor": "#E5ECF6",
           "caxis": {
            "gridcolor": "white",
            "linecolor": "white",
            "ticks": ""
           }
          },
          "title": {
           "x": 0.05
          },
          "xaxis": {
           "automargin": true,
           "gridcolor": "white",
           "linecolor": "white",
           "ticks": "",
           "title": {
            "standoff": 15
           },
           "zerolinecolor": "white",
           "zerolinewidth": 2
          },
          "yaxis": {
           "automargin": true,
           "gridcolor": "white",
           "linecolor": "white",
           "ticks": "",
           "title": {
            "standoff": 15
           },
           "zerolinecolor": "white",
           "zerolinewidth": 2
          }
         }
        },
        "title": {
         "text": "Optimization History Plot"
        },
        "xaxis": {
         "title": {
          "text": "Trial"
         }
        },
        "yaxis": {
         "title": {
          "text": "Objective Value"
         }
        }
       }
      },
      "text/html": [
       "<div>                        <script type=\"text/javascript\">window.PlotlyConfig = {MathJaxConfig: 'local'};</script>\n",
       "        <script charset=\"utf-8\" src=\"https://cdn.plot.ly/plotly-2.32.0.min.js\"></script>                <div id=\"8e1d4e71-98b8-4d8c-bd77-876153b7f57d\" class=\"plotly-graph-div\" style=\"height:100%; width:100%;\"></div>            <script type=\"text/javascript\">                                    window.PLOTLYENV=window.PLOTLYENV || {};                                    if (document.getElementById(\"8e1d4e71-98b8-4d8c-bd77-876153b7f57d\")) {                    Plotly.newPlot(                        \"8e1d4e71-98b8-4d8c-bd77-876153b7f57d\",                        [{\"mode\":\"markers\",\"name\":\"Objective Value\",\"x\":[0,1,2,3,4,5,6,7,8,9,10,11,12,13,14,15,16,17,18,19,20,21,22,23,24,25,26,27,28,29],\"y\":[0.6821621369524409,0.6774633600335793,0.683048258654261,0.67112059416792,0.6752480557790292,0.6829433231895717,0.6773467650728136,0.6770202991826694,0.6823486888896662,0.6831998321032565,0.676309069921998,0.6831998321032565,0.6829433231895717,0.6821971154406706,0.6815675026525354,0.6819406065269858,0.6804481910291837,0.6831182156307204,0.6830832371424908,0.6798185782410484,0.6829316636934951,0.6835146384973242,0.6833980435365583,0.6829783016778015,0.670817447269929,0.6826051978033509,0.6835379574894773,0.6828150687327293,0.6796553452959763,0.6821388179602877],\"type\":\"scatter\"},{\"mode\":\"lines\",\"name\":\"Best Value\",\"x\":[0,1,2,3,4,5,6,7,8,9,10,11,12,13,14,15,16,17,18,19,20,21,22,23,24,25,26,27,28,29],\"y\":[0.6821621369524409,0.6821621369524409,0.683048258654261,0.683048258654261,0.683048258654261,0.683048258654261,0.683048258654261,0.683048258654261,0.683048258654261,0.6831998321032565,0.6831998321032565,0.6831998321032565,0.6831998321032565,0.6831998321032565,0.6831998321032565,0.6831998321032565,0.6831998321032565,0.6831998321032565,0.6831998321032565,0.6831998321032565,0.6831998321032565,0.6835146384973242,0.6835146384973242,0.6835146384973242,0.6835146384973242,0.6835146384973242,0.6835379574894773,0.6835379574894773,0.6835379574894773,0.6835379574894773],\"type\":\"scatter\"},{\"marker\":{\"color\":\"#cccccc\"},\"mode\":\"markers\",\"name\":\"Infeasible Trial\",\"showlegend\":false,\"x\":[],\"y\":[],\"type\":\"scatter\"}],                        {\"title\":{\"text\":\"Optimization History Plot\"},\"xaxis\":{\"title\":{\"text\":\"Trial\"}},\"yaxis\":{\"title\":{\"text\":\"Objective Value\"}},\"template\":{\"data\":{\"histogram2dcontour\":[{\"type\":\"histogram2dcontour\",\"colorbar\":{\"outlinewidth\":0,\"ticks\":\"\"},\"colorscale\":[[0.0,\"#0d0887\"],[0.1111111111111111,\"#46039f\"],[0.2222222222222222,\"#7201a8\"],[0.3333333333333333,\"#9c179e\"],[0.4444444444444444,\"#bd3786\"],[0.5555555555555556,\"#d8576b\"],[0.6666666666666666,\"#ed7953\"],[0.7777777777777778,\"#fb9f3a\"],[0.8888888888888888,\"#fdca26\"],[1.0,\"#f0f921\"]]}],\"choropleth\":[{\"type\":\"choropleth\",\"colorbar\":{\"outlinewidth\":0,\"ticks\":\"\"}}],\"histogram2d\":[{\"type\":\"histogram2d\",\"colorbar\":{\"outlinewidth\":0,\"ticks\":\"\"},\"colorscale\":[[0.0,\"#0d0887\"],[0.1111111111111111,\"#46039f\"],[0.2222222222222222,\"#7201a8\"],[0.3333333333333333,\"#9c179e\"],[0.4444444444444444,\"#bd3786\"],[0.5555555555555556,\"#d8576b\"],[0.6666666666666666,\"#ed7953\"],[0.7777777777777778,\"#fb9f3a\"],[0.8888888888888888,\"#fdca26\"],[1.0,\"#f0f921\"]]}],\"heatmap\":[{\"type\":\"heatmap\",\"colorbar\":{\"outlinewidth\":0,\"ticks\":\"\"},\"colorscale\":[[0.0,\"#0d0887\"],[0.1111111111111111,\"#46039f\"],[0.2222222222222222,\"#7201a8\"],[0.3333333333333333,\"#9c179e\"],[0.4444444444444444,\"#bd3786\"],[0.5555555555555556,\"#d8576b\"],[0.6666666666666666,\"#ed7953\"],[0.7777777777777778,\"#fb9f3a\"],[0.8888888888888888,\"#fdca26\"],[1.0,\"#f0f921\"]]}],\"heatmapgl\":[{\"type\":\"heatmapgl\",\"colorbar\":{\"outlinewidth\":0,\"ticks\":\"\"},\"colorscale\":[[0.0,\"#0d0887\"],[0.1111111111111111,\"#46039f\"],[0.2222222222222222,\"#7201a8\"],[0.3333333333333333,\"#9c179e\"],[0.4444444444444444,\"#bd3786\"],[0.5555555555555556,\"#d8576b\"],[0.6666666666666666,\"#ed7953\"],[0.7777777777777778,\"#fb9f3a\"],[0.8888888888888888,\"#fdca26\"],[1.0,\"#f0f921\"]]}],\"contourcarpet\":[{\"type\":\"contourcarpet\",\"colorbar\":{\"outlinewidth\":0,\"ticks\":\"\"}}],\"contour\":[{\"type\":\"contour\",\"colorbar\":{\"outlinewidth\":0,\"ticks\":\"\"},\"colorscale\":[[0.0,\"#0d0887\"],[0.1111111111111111,\"#46039f\"],[0.2222222222222222,\"#7201a8\"],[0.3333333333333333,\"#9c179e\"],[0.4444444444444444,\"#bd3786\"],[0.5555555555555556,\"#d8576b\"],[0.6666666666666666,\"#ed7953\"],[0.7777777777777778,\"#fb9f3a\"],[0.8888888888888888,\"#fdca26\"],[1.0,\"#f0f921\"]]}],\"surface\":[{\"type\":\"surface\",\"colorbar\":{\"outlinewidth\":0,\"ticks\":\"\"},\"colorscale\":[[0.0,\"#0d0887\"],[0.1111111111111111,\"#46039f\"],[0.2222222222222222,\"#7201a8\"],[0.3333333333333333,\"#9c179e\"],[0.4444444444444444,\"#bd3786\"],[0.5555555555555556,\"#d8576b\"],[0.6666666666666666,\"#ed7953\"],[0.7777777777777778,\"#fb9f3a\"],[0.8888888888888888,\"#fdca26\"],[1.0,\"#f0f921\"]]}],\"mesh3d\":[{\"type\":\"mesh3d\",\"colorbar\":{\"outlinewidth\":0,\"ticks\":\"\"}}],\"scatter\":[{\"fillpattern\":{\"fillmode\":\"overlay\",\"size\":10,\"solidity\":0.2},\"type\":\"scatter\"}],\"parcoords\":[{\"type\":\"parcoords\",\"line\":{\"colorbar\":{\"outlinewidth\":0,\"ticks\":\"\"}}}],\"scatterpolargl\":[{\"type\":\"scatterpolargl\",\"marker\":{\"colorbar\":{\"outlinewidth\":0,\"ticks\":\"\"}}}],\"bar\":[{\"error_x\":{\"color\":\"#2a3f5f\"},\"error_y\":{\"color\":\"#2a3f5f\"},\"marker\":{\"line\":{\"color\":\"#E5ECF6\",\"width\":0.5},\"pattern\":{\"fillmode\":\"overlay\",\"size\":10,\"solidity\":0.2}},\"type\":\"bar\"}],\"scattergeo\":[{\"type\":\"scattergeo\",\"marker\":{\"colorbar\":{\"outlinewidth\":0,\"ticks\":\"\"}}}],\"scatterpolar\":[{\"type\":\"scatterpolar\",\"marker\":{\"colorbar\":{\"outlinewidth\":0,\"ticks\":\"\"}}}],\"histogram\":[{\"marker\":{\"pattern\":{\"fillmode\":\"overlay\",\"size\":10,\"solidity\":0.2}},\"type\":\"histogram\"}],\"scattergl\":[{\"type\":\"scattergl\",\"marker\":{\"colorbar\":{\"outlinewidth\":0,\"ticks\":\"\"}}}],\"scatter3d\":[{\"type\":\"scatter3d\",\"line\":{\"colorbar\":{\"outlinewidth\":0,\"ticks\":\"\"}},\"marker\":{\"colorbar\":{\"outlinewidth\":0,\"ticks\":\"\"}}}],\"scattermapbox\":[{\"type\":\"scattermapbox\",\"marker\":{\"colorbar\":{\"outlinewidth\":0,\"ticks\":\"\"}}}],\"scatterternary\":[{\"type\":\"scatterternary\",\"marker\":{\"colorbar\":{\"outlinewidth\":0,\"ticks\":\"\"}}}],\"scattercarpet\":[{\"type\":\"scattercarpet\",\"marker\":{\"colorbar\":{\"outlinewidth\":0,\"ticks\":\"\"}}}],\"carpet\":[{\"aaxis\":{\"endlinecolor\":\"#2a3f5f\",\"gridcolor\":\"white\",\"linecolor\":\"white\",\"minorgridcolor\":\"white\",\"startlinecolor\":\"#2a3f5f\"},\"baxis\":{\"endlinecolor\":\"#2a3f5f\",\"gridcolor\":\"white\",\"linecolor\":\"white\",\"minorgridcolor\":\"white\",\"startlinecolor\":\"#2a3f5f\"},\"type\":\"carpet\"}],\"table\":[{\"cells\":{\"fill\":{\"color\":\"#EBF0F8\"},\"line\":{\"color\":\"white\"}},\"header\":{\"fill\":{\"color\":\"#C8D4E3\"},\"line\":{\"color\":\"white\"}},\"type\":\"table\"}],\"barpolar\":[{\"marker\":{\"line\":{\"color\":\"#E5ECF6\",\"width\":0.5},\"pattern\":{\"fillmode\":\"overlay\",\"size\":10,\"solidity\":0.2}},\"type\":\"barpolar\"}],\"pie\":[{\"automargin\":true,\"type\":\"pie\"}]},\"layout\":{\"autotypenumbers\":\"strict\",\"colorway\":[\"#636efa\",\"#EF553B\",\"#00cc96\",\"#ab63fa\",\"#FFA15A\",\"#19d3f3\",\"#FF6692\",\"#B6E880\",\"#FF97FF\",\"#FECB52\"],\"font\":{\"color\":\"#2a3f5f\"},\"hovermode\":\"closest\",\"hoverlabel\":{\"align\":\"left\"},\"paper_bgcolor\":\"white\",\"plot_bgcolor\":\"#E5ECF6\",\"polar\":{\"bgcolor\":\"#E5ECF6\",\"angularaxis\":{\"gridcolor\":\"white\",\"linecolor\":\"white\",\"ticks\":\"\"},\"radialaxis\":{\"gridcolor\":\"white\",\"linecolor\":\"white\",\"ticks\":\"\"}},\"ternary\":{\"bgcolor\":\"#E5ECF6\",\"aaxis\":{\"gridcolor\":\"white\",\"linecolor\":\"white\",\"ticks\":\"\"},\"baxis\":{\"gridcolor\":\"white\",\"linecolor\":\"white\",\"ticks\":\"\"},\"caxis\":{\"gridcolor\":\"white\",\"linecolor\":\"white\",\"ticks\":\"\"}},\"coloraxis\":{\"colorbar\":{\"outlinewidth\":0,\"ticks\":\"\"}},\"colorscale\":{\"sequential\":[[0.0,\"#0d0887\"],[0.1111111111111111,\"#46039f\"],[0.2222222222222222,\"#7201a8\"],[0.3333333333333333,\"#9c179e\"],[0.4444444444444444,\"#bd3786\"],[0.5555555555555556,\"#d8576b\"],[0.6666666666666666,\"#ed7953\"],[0.7777777777777778,\"#fb9f3a\"],[0.8888888888888888,\"#fdca26\"],[1.0,\"#f0f921\"]],\"sequentialminus\":[[0.0,\"#0d0887\"],[0.1111111111111111,\"#46039f\"],[0.2222222222222222,\"#7201a8\"],[0.3333333333333333,\"#9c179e\"],[0.4444444444444444,\"#bd3786\"],[0.5555555555555556,\"#d8576b\"],[0.6666666666666666,\"#ed7953\"],[0.7777777777777778,\"#fb9f3a\"],[0.8888888888888888,\"#fdca26\"],[1.0,\"#f0f921\"]],\"diverging\":[[0,\"#8e0152\"],[0.1,\"#c51b7d\"],[0.2,\"#de77ae\"],[0.3,\"#f1b6da\"],[0.4,\"#fde0ef\"],[0.5,\"#f7f7f7\"],[0.6,\"#e6f5d0\"],[0.7,\"#b8e186\"],[0.8,\"#7fbc41\"],[0.9,\"#4d9221\"],[1,\"#276419\"]]},\"xaxis\":{\"gridcolor\":\"white\",\"linecolor\":\"white\",\"ticks\":\"\",\"title\":{\"standoff\":15},\"zerolinecolor\":\"white\",\"automargin\":true,\"zerolinewidth\":2},\"yaxis\":{\"gridcolor\":\"white\",\"linecolor\":\"white\",\"ticks\":\"\",\"title\":{\"standoff\":15},\"zerolinecolor\":\"white\",\"automargin\":true,\"zerolinewidth\":2},\"scene\":{\"xaxis\":{\"backgroundcolor\":\"#E5ECF6\",\"gridcolor\":\"white\",\"linecolor\":\"white\",\"showbackground\":true,\"ticks\":\"\",\"zerolinecolor\":\"white\",\"gridwidth\":2},\"yaxis\":{\"backgroundcolor\":\"#E5ECF6\",\"gridcolor\":\"white\",\"linecolor\":\"white\",\"showbackground\":true,\"ticks\":\"\",\"zerolinecolor\":\"white\",\"gridwidth\":2},\"zaxis\":{\"backgroundcolor\":\"#E5ECF6\",\"gridcolor\":\"white\",\"linecolor\":\"white\",\"showbackground\":true,\"ticks\":\"\",\"zerolinecolor\":\"white\",\"gridwidth\":2}},\"shapedefaults\":{\"line\":{\"color\":\"#2a3f5f\"}},\"annotationdefaults\":{\"arrowcolor\":\"#2a3f5f\",\"arrowhead\":0,\"arrowwidth\":1},\"geo\":{\"bgcolor\":\"white\",\"landcolor\":\"#E5ECF6\",\"subunitcolor\":\"white\",\"showland\":true,\"showlakes\":true,\"lakecolor\":\"white\"},\"title\":{\"x\":0.05},\"mapbox\":{\"style\":\"light\"}}}},                        {\"responsive\": true}                    )                };                            </script>        </div>"
      ],
      "text/plain": [
       "Figure({\n",
       "    'data': [{'mode': 'markers',\n",
       "              'name': 'Objective Value',\n",
       "              'type': 'scatter',\n",
       "              'x': [0, 1, 2, 3, 4, 5, 6, 7, 8, 9, 10, 11, 12, 13, 14, 15, 16, 17,\n",
       "                    18, 19, 20, 21, 22, 23, 24, 25, 26, 27, 28, 29],\n",
       "              'y': [0.6821621369524409, 0.6774633600335793, 0.683048258654261,\n",
       "                    0.67112059416792, 0.6752480557790292, 0.6829433231895717,\n",
       "                    0.6773467650728136, 0.6770202991826694, 0.6823486888896662,\n",
       "                    0.6831998321032565, 0.676309069921998, 0.6831998321032565,\n",
       "                    0.6829433231895717, 0.6821971154406706, 0.6815675026525354,\n",
       "                    0.6819406065269858, 0.6804481910291837, 0.6831182156307204,\n",
       "                    0.6830832371424908, 0.6798185782410484, 0.6829316636934951,\n",
       "                    0.6835146384973242, 0.6833980435365583, 0.6829783016778015,\n",
       "                    0.670817447269929, 0.6826051978033509, 0.6835379574894773,\n",
       "                    0.6828150687327293, 0.6796553452959763, 0.6821388179602877]},\n",
       "             {'mode': 'lines',\n",
       "              'name': 'Best Value',\n",
       "              'type': 'scatter',\n",
       "              'x': [0, 1, 2, 3, 4, 5, 6, 7, 8, 9, 10, 11, 12, 13, 14, 15, 16, 17,\n",
       "                    18, 19, 20, 21, 22, 23, 24, 25, 26, 27, 28, 29],\n",
       "              'y': [0.6821621369524409, 0.6821621369524409, 0.683048258654261,\n",
       "                    0.683048258654261, 0.683048258654261, 0.683048258654261,\n",
       "                    0.683048258654261, 0.683048258654261, 0.683048258654261,\n",
       "                    0.6831998321032565, 0.6831998321032565, 0.6831998321032565,\n",
       "                    0.6831998321032565, 0.6831998321032565, 0.6831998321032565,\n",
       "                    0.6831998321032565, 0.6831998321032565, 0.6831998321032565,\n",
       "                    0.6831998321032565, 0.6831998321032565, 0.6831998321032565,\n",
       "                    0.6835146384973242, 0.6835146384973242, 0.6835146384973242,\n",
       "                    0.6835146384973242, 0.6835146384973242, 0.6835379574894773,\n",
       "                    0.6835379574894773, 0.6835379574894773, 0.6835379574894773]},\n",
       "             {'marker': {'color': '#cccccc'},\n",
       "              'mode': 'markers',\n",
       "              'name': 'Infeasible Trial',\n",
       "              'showlegend': False,\n",
       "              'type': 'scatter',\n",
       "              'x': [],\n",
       "              'y': []}],\n",
       "    'layout': {'template': '...',\n",
       "               'title': {'text': 'Optimization History Plot'},\n",
       "               'xaxis': {'title': {'text': 'Trial'}},\n",
       "               'yaxis': {'title': {'text': 'Objective Value'}}}\n",
       "})"
      ]
     },
     "execution_count": 20,
     "metadata": {},
     "output_type": "execute_result"
    }
   ],
   "source": [
    "plot_optimization_history(study)\n"
   ]
  },
  {
   "cell_type": "code",
   "execution_count": 21,
   "metadata": {},
   "outputs": [
    {
     "ename": "ValueError",
     "evalue": "Mime type rendering requires nbformat>=4.2.0 but it is not installed",
     "output_type": "error",
     "traceback": [
      "\u001b[1;31m---------------------------------------------------------------------------\u001b[0m",
      "\u001b[1;31mValueError\u001b[0m                                Traceback (most recent call last)",
      "File \u001b[1;32m~\\AppData\\Roaming\\Python\\Python312\\site-packages\\IPython\\core\\formatters.py:925\u001b[0m, in \u001b[0;36mIPythonDisplayFormatter.__call__\u001b[1;34m(self, obj)\u001b[0m\n\u001b[0;32m    923\u001b[0m method \u001b[38;5;241m=\u001b[39m get_real_method(obj, \u001b[38;5;28mself\u001b[39m\u001b[38;5;241m.\u001b[39mprint_method)\n\u001b[0;32m    924\u001b[0m \u001b[38;5;28;01mif\u001b[39;00m method \u001b[38;5;129;01mis\u001b[39;00m \u001b[38;5;129;01mnot\u001b[39;00m \u001b[38;5;28;01mNone\u001b[39;00m:\n\u001b[1;32m--> 925\u001b[0m     \u001b[43mmethod\u001b[49m\u001b[43m(\u001b[49m\u001b[43m)\u001b[49m\n\u001b[0;32m    926\u001b[0m     \u001b[38;5;28;01mreturn\u001b[39;00m \u001b[38;5;28;01mTrue\u001b[39;00m\n",
      "File \u001b[1;32mc:\\Users\\Sarah\\anaconda3\\envs\\nba_env\\Lib\\site-packages\\plotly\\basedatatypes.py:832\u001b[0m, in \u001b[0;36mBaseFigure._ipython_display_\u001b[1;34m(self)\u001b[0m\n\u001b[0;32m    829\u001b[0m \u001b[38;5;28;01mimport\u001b[39;00m \u001b[38;5;21;01mplotly\u001b[39;00m\u001b[38;5;21;01m.\u001b[39;00m\u001b[38;5;21;01mio\u001b[39;00m \u001b[38;5;28;01mas\u001b[39;00m \u001b[38;5;21;01mpio\u001b[39;00m\n\u001b[0;32m    831\u001b[0m \u001b[38;5;28;01mif\u001b[39;00m pio\u001b[38;5;241m.\u001b[39mrenderers\u001b[38;5;241m.\u001b[39mrender_on_display \u001b[38;5;129;01mand\u001b[39;00m pio\u001b[38;5;241m.\u001b[39mrenderers\u001b[38;5;241m.\u001b[39mdefault:\n\u001b[1;32m--> 832\u001b[0m     \u001b[43mpio\u001b[49m\u001b[38;5;241;43m.\u001b[39;49m\u001b[43mshow\u001b[49m\u001b[43m(\u001b[49m\u001b[38;5;28;43mself\u001b[39;49m\u001b[43m)\u001b[49m\n\u001b[0;32m    833\u001b[0m \u001b[38;5;28;01melse\u001b[39;00m:\n\u001b[0;32m    834\u001b[0m     \u001b[38;5;28mprint\u001b[39m(\u001b[38;5;28mrepr\u001b[39m(\u001b[38;5;28mself\u001b[39m))\n",
      "File \u001b[1;32mc:\\Users\\Sarah\\anaconda3\\envs\\nba_env\\Lib\\site-packages\\plotly\\io\\_renderers.py:394\u001b[0m, in \u001b[0;36mshow\u001b[1;34m(fig, renderer, validate, **kwargs)\u001b[0m\n\u001b[0;32m    389\u001b[0m         \u001b[38;5;28;01mraise\u001b[39;00m \u001b[38;5;167;01mValueError\u001b[39;00m(\n\u001b[0;32m    390\u001b[0m             \u001b[38;5;124m\"\u001b[39m\u001b[38;5;124mMime type rendering requires ipython but it is not installed\u001b[39m\u001b[38;5;124m\"\u001b[39m\n\u001b[0;32m    391\u001b[0m         )\n\u001b[0;32m    393\u001b[0m     \u001b[38;5;28;01mif\u001b[39;00m \u001b[38;5;129;01mnot\u001b[39;00m nbformat \u001b[38;5;129;01mor\u001b[39;00m Version(nbformat\u001b[38;5;241m.\u001b[39m__version__) \u001b[38;5;241m<\u001b[39m Version(\u001b[38;5;124m\"\u001b[39m\u001b[38;5;124m4.2.0\u001b[39m\u001b[38;5;124m\"\u001b[39m):\n\u001b[1;32m--> 394\u001b[0m         \u001b[38;5;28;01mraise\u001b[39;00m \u001b[38;5;167;01mValueError\u001b[39;00m(\n\u001b[0;32m    395\u001b[0m             \u001b[38;5;124m\"\u001b[39m\u001b[38;5;124mMime type rendering requires nbformat>=4.2.0 but it is not installed\u001b[39m\u001b[38;5;124m\"\u001b[39m\n\u001b[0;32m    396\u001b[0m         )\n\u001b[0;32m    398\u001b[0m     ipython_display\u001b[38;5;241m.\u001b[39mdisplay(bundle, raw\u001b[38;5;241m=\u001b[39m\u001b[38;5;28;01mTrue\u001b[39;00m)\n\u001b[0;32m    400\u001b[0m \u001b[38;5;66;03m# external renderers\u001b[39;00m\n",
      "\u001b[1;31mValueError\u001b[0m: Mime type rendering requires nbformat>=4.2.0 but it is not installed"
     ]
    },
    {
     "data": {
      "application/vnd.plotly.v1+json": {
       "config": {
        "plotlyServerURL": "https://plot.ly"
       },
       "data": [
        {
         "cliponaxis": false,
         "hovertemplate": [
          "criterion (CategoricalDistribution): 0.009252275713017207<extra></extra>",
          "max_features (CategoricalDistribution): 0.016860524205585647<extra></extra>",
          "n_estimators (IntDistribution): 0.11753735559645057<extra></extra>",
          "min_samples_split (IntDistribution): 0.13949586459615063<extra></extra>",
          "min_samples_leaf (IntDistribution): 0.19009482563751487<extra></extra>",
          "max_depth (IntDistribution): 0.5267591542512812<extra></extra>"
         ],
         "name": "Objective Value",
         "orientation": "h",
         "text": [
          "<0.01",
          "0.02",
          "0.12",
          "0.14",
          "0.19",
          "0.53"
         ],
         "textposition": "outside",
         "type": "bar",
         "x": [
          0.009252275713017207,
          0.016860524205585647,
          0.11753735559645057,
          0.13949586459615063,
          0.19009482563751487,
          0.5267591542512812
         ],
         "y": [
          "criterion",
          "max_features",
          "n_estimators",
          "min_samples_split",
          "min_samples_leaf",
          "max_depth"
         ]
        }
       ],
       "layout": {
        "template": {
         "data": {
          "bar": [
           {
            "error_x": {
             "color": "#2a3f5f"
            },
            "error_y": {
             "color": "#2a3f5f"
            },
            "marker": {
             "line": {
              "color": "#E5ECF6",
              "width": 0.5
             },
             "pattern": {
              "fillmode": "overlay",
              "size": 10,
              "solidity": 0.2
             }
            },
            "type": "bar"
           }
          ],
          "barpolar": [
           {
            "marker": {
             "line": {
              "color": "#E5ECF6",
              "width": 0.5
             },
             "pattern": {
              "fillmode": "overlay",
              "size": 10,
              "solidity": 0.2
             }
            },
            "type": "barpolar"
           }
          ],
          "carpet": [
           {
            "aaxis": {
             "endlinecolor": "#2a3f5f",
             "gridcolor": "white",
             "linecolor": "white",
             "minorgridcolor": "white",
             "startlinecolor": "#2a3f5f"
            },
            "baxis": {
             "endlinecolor": "#2a3f5f",
             "gridcolor": "white",
             "linecolor": "white",
             "minorgridcolor": "white",
             "startlinecolor": "#2a3f5f"
            },
            "type": "carpet"
           }
          ],
          "choropleth": [
           {
            "colorbar": {
             "outlinewidth": 0,
             "ticks": ""
            },
            "type": "choropleth"
           }
          ],
          "contour": [
           {
            "colorbar": {
             "outlinewidth": 0,
             "ticks": ""
            },
            "colorscale": [
             [
              0,
              "#0d0887"
             ],
             [
              0.1111111111111111,
              "#46039f"
             ],
             [
              0.2222222222222222,
              "#7201a8"
             ],
             [
              0.3333333333333333,
              "#9c179e"
             ],
             [
              0.4444444444444444,
              "#bd3786"
             ],
             [
              0.5555555555555556,
              "#d8576b"
             ],
             [
              0.6666666666666666,
              "#ed7953"
             ],
             [
              0.7777777777777778,
              "#fb9f3a"
             ],
             [
              0.8888888888888888,
              "#fdca26"
             ],
             [
              1,
              "#f0f921"
             ]
            ],
            "type": "contour"
           }
          ],
          "contourcarpet": [
           {
            "colorbar": {
             "outlinewidth": 0,
             "ticks": ""
            },
            "type": "contourcarpet"
           }
          ],
          "heatmap": [
           {
            "colorbar": {
             "outlinewidth": 0,
             "ticks": ""
            },
            "colorscale": [
             [
              0,
              "#0d0887"
             ],
             [
              0.1111111111111111,
              "#46039f"
             ],
             [
              0.2222222222222222,
              "#7201a8"
             ],
             [
              0.3333333333333333,
              "#9c179e"
             ],
             [
              0.4444444444444444,
              "#bd3786"
             ],
             [
              0.5555555555555556,
              "#d8576b"
             ],
             [
              0.6666666666666666,
              "#ed7953"
             ],
             [
              0.7777777777777778,
              "#fb9f3a"
             ],
             [
              0.8888888888888888,
              "#fdca26"
             ],
             [
              1,
              "#f0f921"
             ]
            ],
            "type": "heatmap"
           }
          ],
          "heatmapgl": [
           {
            "colorbar": {
             "outlinewidth": 0,
             "ticks": ""
            },
            "colorscale": [
             [
              0,
              "#0d0887"
             ],
             [
              0.1111111111111111,
              "#46039f"
             ],
             [
              0.2222222222222222,
              "#7201a8"
             ],
             [
              0.3333333333333333,
              "#9c179e"
             ],
             [
              0.4444444444444444,
              "#bd3786"
             ],
             [
              0.5555555555555556,
              "#d8576b"
             ],
             [
              0.6666666666666666,
              "#ed7953"
             ],
             [
              0.7777777777777778,
              "#fb9f3a"
             ],
             [
              0.8888888888888888,
              "#fdca26"
             ],
             [
              1,
              "#f0f921"
             ]
            ],
            "type": "heatmapgl"
           }
          ],
          "histogram": [
           {
            "marker": {
             "pattern": {
              "fillmode": "overlay",
              "size": 10,
              "solidity": 0.2
             }
            },
            "type": "histogram"
           }
          ],
          "histogram2d": [
           {
            "colorbar": {
             "outlinewidth": 0,
             "ticks": ""
            },
            "colorscale": [
             [
              0,
              "#0d0887"
             ],
             [
              0.1111111111111111,
              "#46039f"
             ],
             [
              0.2222222222222222,
              "#7201a8"
             ],
             [
              0.3333333333333333,
              "#9c179e"
             ],
             [
              0.4444444444444444,
              "#bd3786"
             ],
             [
              0.5555555555555556,
              "#d8576b"
             ],
             [
              0.6666666666666666,
              "#ed7953"
             ],
             [
              0.7777777777777778,
              "#fb9f3a"
             ],
             [
              0.8888888888888888,
              "#fdca26"
             ],
             [
              1,
              "#f0f921"
             ]
            ],
            "type": "histogram2d"
           }
          ],
          "histogram2dcontour": [
           {
            "colorbar": {
             "outlinewidth": 0,
             "ticks": ""
            },
            "colorscale": [
             [
              0,
              "#0d0887"
             ],
             [
              0.1111111111111111,
              "#46039f"
             ],
             [
              0.2222222222222222,
              "#7201a8"
             ],
             [
              0.3333333333333333,
              "#9c179e"
             ],
             [
              0.4444444444444444,
              "#bd3786"
             ],
             [
              0.5555555555555556,
              "#d8576b"
             ],
             [
              0.6666666666666666,
              "#ed7953"
             ],
             [
              0.7777777777777778,
              "#fb9f3a"
             ],
             [
              0.8888888888888888,
              "#fdca26"
             ],
             [
              1,
              "#f0f921"
             ]
            ],
            "type": "histogram2dcontour"
           }
          ],
          "mesh3d": [
           {
            "colorbar": {
             "outlinewidth": 0,
             "ticks": ""
            },
            "type": "mesh3d"
           }
          ],
          "parcoords": [
           {
            "line": {
             "colorbar": {
              "outlinewidth": 0,
              "ticks": ""
             }
            },
            "type": "parcoords"
           }
          ],
          "pie": [
           {
            "automargin": true,
            "type": "pie"
           }
          ],
          "scatter": [
           {
            "fillpattern": {
             "fillmode": "overlay",
             "size": 10,
             "solidity": 0.2
            },
            "type": "scatter"
           }
          ],
          "scatter3d": [
           {
            "line": {
             "colorbar": {
              "outlinewidth": 0,
              "ticks": ""
             }
            },
            "marker": {
             "colorbar": {
              "outlinewidth": 0,
              "ticks": ""
             }
            },
            "type": "scatter3d"
           }
          ],
          "scattercarpet": [
           {
            "marker": {
             "colorbar": {
              "outlinewidth": 0,
              "ticks": ""
             }
            },
            "type": "scattercarpet"
           }
          ],
          "scattergeo": [
           {
            "marker": {
             "colorbar": {
              "outlinewidth": 0,
              "ticks": ""
             }
            },
            "type": "scattergeo"
           }
          ],
          "scattergl": [
           {
            "marker": {
             "colorbar": {
              "outlinewidth": 0,
              "ticks": ""
             }
            },
            "type": "scattergl"
           }
          ],
          "scattermapbox": [
           {
            "marker": {
             "colorbar": {
              "outlinewidth": 0,
              "ticks": ""
             }
            },
            "type": "scattermapbox"
           }
          ],
          "scatterpolar": [
           {
            "marker": {
             "colorbar": {
              "outlinewidth": 0,
              "ticks": ""
             }
            },
            "type": "scatterpolar"
           }
          ],
          "scatterpolargl": [
           {
            "marker": {
             "colorbar": {
              "outlinewidth": 0,
              "ticks": ""
             }
            },
            "type": "scatterpolargl"
           }
          ],
          "scatterternary": [
           {
            "marker": {
             "colorbar": {
              "outlinewidth": 0,
              "ticks": ""
             }
            },
            "type": "scatterternary"
           }
          ],
          "surface": [
           {
            "colorbar": {
             "outlinewidth": 0,
             "ticks": ""
            },
            "colorscale": [
             [
              0,
              "#0d0887"
             ],
             [
              0.1111111111111111,
              "#46039f"
             ],
             [
              0.2222222222222222,
              "#7201a8"
             ],
             [
              0.3333333333333333,
              "#9c179e"
             ],
             [
              0.4444444444444444,
              "#bd3786"
             ],
             [
              0.5555555555555556,
              "#d8576b"
             ],
             [
              0.6666666666666666,
              "#ed7953"
             ],
             [
              0.7777777777777778,
              "#fb9f3a"
             ],
             [
              0.8888888888888888,
              "#fdca26"
             ],
             [
              1,
              "#f0f921"
             ]
            ],
            "type": "surface"
           }
          ],
          "table": [
           {
            "cells": {
             "fill": {
              "color": "#EBF0F8"
             },
             "line": {
              "color": "white"
             }
            },
            "header": {
             "fill": {
              "color": "#C8D4E3"
             },
             "line": {
              "color": "white"
             }
            },
            "type": "table"
           }
          ]
         },
         "layout": {
          "annotationdefaults": {
           "arrowcolor": "#2a3f5f",
           "arrowhead": 0,
           "arrowwidth": 1
          },
          "autotypenumbers": "strict",
          "coloraxis": {
           "colorbar": {
            "outlinewidth": 0,
            "ticks": ""
           }
          },
          "colorscale": {
           "diverging": [
            [
             0,
             "#8e0152"
            ],
            [
             0.1,
             "#c51b7d"
            ],
            [
             0.2,
             "#de77ae"
            ],
            [
             0.3,
             "#f1b6da"
            ],
            [
             0.4,
             "#fde0ef"
            ],
            [
             0.5,
             "#f7f7f7"
            ],
            [
             0.6,
             "#e6f5d0"
            ],
            [
             0.7,
             "#b8e186"
            ],
            [
             0.8,
             "#7fbc41"
            ],
            [
             0.9,
             "#4d9221"
            ],
            [
             1,
             "#276419"
            ]
           ],
           "sequential": [
            [
             0,
             "#0d0887"
            ],
            [
             0.1111111111111111,
             "#46039f"
            ],
            [
             0.2222222222222222,
             "#7201a8"
            ],
            [
             0.3333333333333333,
             "#9c179e"
            ],
            [
             0.4444444444444444,
             "#bd3786"
            ],
            [
             0.5555555555555556,
             "#d8576b"
            ],
            [
             0.6666666666666666,
             "#ed7953"
            ],
            [
             0.7777777777777778,
             "#fb9f3a"
            ],
            [
             0.8888888888888888,
             "#fdca26"
            ],
            [
             1,
             "#f0f921"
            ]
           ],
           "sequentialminus": [
            [
             0,
             "#0d0887"
            ],
            [
             0.1111111111111111,
             "#46039f"
            ],
            [
             0.2222222222222222,
             "#7201a8"
            ],
            [
             0.3333333333333333,
             "#9c179e"
            ],
            [
             0.4444444444444444,
             "#bd3786"
            ],
            [
             0.5555555555555556,
             "#d8576b"
            ],
            [
             0.6666666666666666,
             "#ed7953"
            ],
            [
             0.7777777777777778,
             "#fb9f3a"
            ],
            [
             0.8888888888888888,
             "#fdca26"
            ],
            [
             1,
             "#f0f921"
            ]
           ]
          },
          "colorway": [
           "#636efa",
           "#EF553B",
           "#00cc96",
           "#ab63fa",
           "#FFA15A",
           "#19d3f3",
           "#FF6692",
           "#B6E880",
           "#FF97FF",
           "#FECB52"
          ],
          "font": {
           "color": "#2a3f5f"
          },
          "geo": {
           "bgcolor": "white",
           "lakecolor": "white",
           "landcolor": "#E5ECF6",
           "showlakes": true,
           "showland": true,
           "subunitcolor": "white"
          },
          "hoverlabel": {
           "align": "left"
          },
          "hovermode": "closest",
          "mapbox": {
           "style": "light"
          },
          "paper_bgcolor": "white",
          "plot_bgcolor": "#E5ECF6",
          "polar": {
           "angularaxis": {
            "gridcolor": "white",
            "linecolor": "white",
            "ticks": ""
           },
           "bgcolor": "#E5ECF6",
           "radialaxis": {
            "gridcolor": "white",
            "linecolor": "white",
            "ticks": ""
           }
          },
          "scene": {
           "xaxis": {
            "backgroundcolor": "#E5ECF6",
            "gridcolor": "white",
            "gridwidth": 2,
            "linecolor": "white",
            "showbackground": true,
            "ticks": "",
            "zerolinecolor": "white"
           },
           "yaxis": {
            "backgroundcolor": "#E5ECF6",
            "gridcolor": "white",
            "gridwidth": 2,
            "linecolor": "white",
            "showbackground": true,
            "ticks": "",
            "zerolinecolor": "white"
           },
           "zaxis": {
            "backgroundcolor": "#E5ECF6",
            "gridcolor": "white",
            "gridwidth": 2,
            "linecolor": "white",
            "showbackground": true,
            "ticks": "",
            "zerolinecolor": "white"
           }
          },
          "shapedefaults": {
           "line": {
            "color": "#2a3f5f"
           }
          },
          "ternary": {
           "aaxis": {
            "gridcolor": "white",
            "linecolor": "white",
            "ticks": ""
           },
           "baxis": {
            "gridcolor": "white",
            "linecolor": "white",
            "ticks": ""
           },
           "bgcolor": "#E5ECF6",
           "caxis": {
            "gridcolor": "white",
            "linecolor": "white",
            "ticks": ""
           }
          },
          "title": {
           "x": 0.05
          },
          "xaxis": {
           "automargin": true,
           "gridcolor": "white",
           "linecolor": "white",
           "ticks": "",
           "title": {
            "standoff": 15
           },
           "zerolinecolor": "white",
           "zerolinewidth": 2
          },
          "yaxis": {
           "automargin": true,
           "gridcolor": "white",
           "linecolor": "white",
           "ticks": "",
           "title": {
            "standoff": 15
           },
           "zerolinecolor": "white",
           "zerolinewidth": 2
          }
         }
        },
        "title": {
         "text": "Hyperparameter Importances"
        },
        "xaxis": {
         "title": {
          "text": "Hyperparameter Importance"
         }
        },
        "yaxis": {
         "title": {
          "text": "Hyperparameter"
         }
        }
       }
      },
      "text/html": [
       "<div>                        <script type=\"text/javascript\">window.PlotlyConfig = {MathJaxConfig: 'local'};</script>\n",
       "        <script charset=\"utf-8\" src=\"https://cdn.plot.ly/plotly-2.32.0.min.js\"></script>                <div id=\"85efcf1f-8f2f-42b8-9f9f-f5373e2790ee\" class=\"plotly-graph-div\" style=\"height:100%; width:100%;\"></div>            <script type=\"text/javascript\">                                    window.PLOTLYENV=window.PLOTLYENV || {};                                    if (document.getElementById(\"85efcf1f-8f2f-42b8-9f9f-f5373e2790ee\")) {                    Plotly.newPlot(                        \"85efcf1f-8f2f-42b8-9f9f-f5373e2790ee\",                        [{\"cliponaxis\":false,\"hovertemplate\":[\"criterion (CategoricalDistribution): 0.009252275713017207\\u003cextra\\u003e\\u003c\\u002fextra\\u003e\",\"max_features (CategoricalDistribution): 0.016860524205585647\\u003cextra\\u003e\\u003c\\u002fextra\\u003e\",\"n_estimators (IntDistribution): 0.11753735559645057\\u003cextra\\u003e\\u003c\\u002fextra\\u003e\",\"min_samples_split (IntDistribution): 0.13949586459615063\\u003cextra\\u003e\\u003c\\u002fextra\\u003e\",\"min_samples_leaf (IntDistribution): 0.19009482563751487\\u003cextra\\u003e\\u003c\\u002fextra\\u003e\",\"max_depth (IntDistribution): 0.5267591542512812\\u003cextra\\u003e\\u003c\\u002fextra\\u003e\"],\"name\":\"Objective Value\",\"orientation\":\"h\",\"text\":[\"\\u003c0.01\",\"0.02\",\"0.12\",\"0.14\",\"0.19\",\"0.53\"],\"textposition\":\"outside\",\"x\":[0.009252275713017207,0.016860524205585647,0.11753735559645057,0.13949586459615063,0.19009482563751487,0.5267591542512812],\"y\":[\"criterion\",\"max_features\",\"n_estimators\",\"min_samples_split\",\"min_samples_leaf\",\"max_depth\"],\"type\":\"bar\"}],                        {\"title\":{\"text\":\"Hyperparameter Importances\"},\"xaxis\":{\"title\":{\"text\":\"Hyperparameter Importance\"}},\"yaxis\":{\"title\":{\"text\":\"Hyperparameter\"}},\"template\":{\"data\":{\"histogram2dcontour\":[{\"type\":\"histogram2dcontour\",\"colorbar\":{\"outlinewidth\":0,\"ticks\":\"\"},\"colorscale\":[[0.0,\"#0d0887\"],[0.1111111111111111,\"#46039f\"],[0.2222222222222222,\"#7201a8\"],[0.3333333333333333,\"#9c179e\"],[0.4444444444444444,\"#bd3786\"],[0.5555555555555556,\"#d8576b\"],[0.6666666666666666,\"#ed7953\"],[0.7777777777777778,\"#fb9f3a\"],[0.8888888888888888,\"#fdca26\"],[1.0,\"#f0f921\"]]}],\"choropleth\":[{\"type\":\"choropleth\",\"colorbar\":{\"outlinewidth\":0,\"ticks\":\"\"}}],\"histogram2d\":[{\"type\":\"histogram2d\",\"colorbar\":{\"outlinewidth\":0,\"ticks\":\"\"},\"colorscale\":[[0.0,\"#0d0887\"],[0.1111111111111111,\"#46039f\"],[0.2222222222222222,\"#7201a8\"],[0.3333333333333333,\"#9c179e\"],[0.4444444444444444,\"#bd3786\"],[0.5555555555555556,\"#d8576b\"],[0.6666666666666666,\"#ed7953\"],[0.7777777777777778,\"#fb9f3a\"],[0.8888888888888888,\"#fdca26\"],[1.0,\"#f0f921\"]]}],\"heatmap\":[{\"type\":\"heatmap\",\"colorbar\":{\"outlinewidth\":0,\"ticks\":\"\"},\"colorscale\":[[0.0,\"#0d0887\"],[0.1111111111111111,\"#46039f\"],[0.2222222222222222,\"#7201a8\"],[0.3333333333333333,\"#9c179e\"],[0.4444444444444444,\"#bd3786\"],[0.5555555555555556,\"#d8576b\"],[0.6666666666666666,\"#ed7953\"],[0.7777777777777778,\"#fb9f3a\"],[0.8888888888888888,\"#fdca26\"],[1.0,\"#f0f921\"]]}],\"heatmapgl\":[{\"type\":\"heatmapgl\",\"colorbar\":{\"outlinewidth\":0,\"ticks\":\"\"},\"colorscale\":[[0.0,\"#0d0887\"],[0.1111111111111111,\"#46039f\"],[0.2222222222222222,\"#7201a8\"],[0.3333333333333333,\"#9c179e\"],[0.4444444444444444,\"#bd3786\"],[0.5555555555555556,\"#d8576b\"],[0.6666666666666666,\"#ed7953\"],[0.7777777777777778,\"#fb9f3a\"],[0.8888888888888888,\"#fdca26\"],[1.0,\"#f0f921\"]]}],\"contourcarpet\":[{\"type\":\"contourcarpet\",\"colorbar\":{\"outlinewidth\":0,\"ticks\":\"\"}}],\"contour\":[{\"type\":\"contour\",\"colorbar\":{\"outlinewidth\":0,\"ticks\":\"\"},\"colorscale\":[[0.0,\"#0d0887\"],[0.1111111111111111,\"#46039f\"],[0.2222222222222222,\"#7201a8\"],[0.3333333333333333,\"#9c179e\"],[0.4444444444444444,\"#bd3786\"],[0.5555555555555556,\"#d8576b\"],[0.6666666666666666,\"#ed7953\"],[0.7777777777777778,\"#fb9f3a\"],[0.8888888888888888,\"#fdca26\"],[1.0,\"#f0f921\"]]}],\"surface\":[{\"type\":\"surface\",\"colorbar\":{\"outlinewidth\":0,\"ticks\":\"\"},\"colorscale\":[[0.0,\"#0d0887\"],[0.1111111111111111,\"#46039f\"],[0.2222222222222222,\"#7201a8\"],[0.3333333333333333,\"#9c179e\"],[0.4444444444444444,\"#bd3786\"],[0.5555555555555556,\"#d8576b\"],[0.6666666666666666,\"#ed7953\"],[0.7777777777777778,\"#fb9f3a\"],[0.8888888888888888,\"#fdca26\"],[1.0,\"#f0f921\"]]}],\"mesh3d\":[{\"type\":\"mesh3d\",\"colorbar\":{\"outlinewidth\":0,\"ticks\":\"\"}}],\"scatter\":[{\"fillpattern\":{\"fillmode\":\"overlay\",\"size\":10,\"solidity\":0.2},\"type\":\"scatter\"}],\"parcoords\":[{\"type\":\"parcoords\",\"line\":{\"colorbar\":{\"outlinewidth\":0,\"ticks\":\"\"}}}],\"scatterpolargl\":[{\"type\":\"scatterpolargl\",\"marker\":{\"colorbar\":{\"outlinewidth\":0,\"ticks\":\"\"}}}],\"bar\":[{\"error_x\":{\"color\":\"#2a3f5f\"},\"error_y\":{\"color\":\"#2a3f5f\"},\"marker\":{\"line\":{\"color\":\"#E5ECF6\",\"width\":0.5},\"pattern\":{\"fillmode\":\"overlay\",\"size\":10,\"solidity\":0.2}},\"type\":\"bar\"}],\"scattergeo\":[{\"type\":\"scattergeo\",\"marker\":{\"colorbar\":{\"outlinewidth\":0,\"ticks\":\"\"}}}],\"scatterpolar\":[{\"type\":\"scatterpolar\",\"marker\":{\"colorbar\":{\"outlinewidth\":0,\"ticks\":\"\"}}}],\"histogram\":[{\"marker\":{\"pattern\":{\"fillmode\":\"overlay\",\"size\":10,\"solidity\":0.2}},\"type\":\"histogram\"}],\"scattergl\":[{\"type\":\"scattergl\",\"marker\":{\"colorbar\":{\"outlinewidth\":0,\"ticks\":\"\"}}}],\"scatter3d\":[{\"type\":\"scatter3d\",\"line\":{\"colorbar\":{\"outlinewidth\":0,\"ticks\":\"\"}},\"marker\":{\"colorbar\":{\"outlinewidth\":0,\"ticks\":\"\"}}}],\"scattermapbox\":[{\"type\":\"scattermapbox\",\"marker\":{\"colorbar\":{\"outlinewidth\":0,\"ticks\":\"\"}}}],\"scatterternary\":[{\"type\":\"scatterternary\",\"marker\":{\"colorbar\":{\"outlinewidth\":0,\"ticks\":\"\"}}}],\"scattercarpet\":[{\"type\":\"scattercarpet\",\"marker\":{\"colorbar\":{\"outlinewidth\":0,\"ticks\":\"\"}}}],\"carpet\":[{\"aaxis\":{\"endlinecolor\":\"#2a3f5f\",\"gridcolor\":\"white\",\"linecolor\":\"white\",\"minorgridcolor\":\"white\",\"startlinecolor\":\"#2a3f5f\"},\"baxis\":{\"endlinecolor\":\"#2a3f5f\",\"gridcolor\":\"white\",\"linecolor\":\"white\",\"minorgridcolor\":\"white\",\"startlinecolor\":\"#2a3f5f\"},\"type\":\"carpet\"}],\"table\":[{\"cells\":{\"fill\":{\"color\":\"#EBF0F8\"},\"line\":{\"color\":\"white\"}},\"header\":{\"fill\":{\"color\":\"#C8D4E3\"},\"line\":{\"color\":\"white\"}},\"type\":\"table\"}],\"barpolar\":[{\"marker\":{\"line\":{\"color\":\"#E5ECF6\",\"width\":0.5},\"pattern\":{\"fillmode\":\"overlay\",\"size\":10,\"solidity\":0.2}},\"type\":\"barpolar\"}],\"pie\":[{\"automargin\":true,\"type\":\"pie\"}]},\"layout\":{\"autotypenumbers\":\"strict\",\"colorway\":[\"#636efa\",\"#EF553B\",\"#00cc96\",\"#ab63fa\",\"#FFA15A\",\"#19d3f3\",\"#FF6692\",\"#B6E880\",\"#FF97FF\",\"#FECB52\"],\"font\":{\"color\":\"#2a3f5f\"},\"hovermode\":\"closest\",\"hoverlabel\":{\"align\":\"left\"},\"paper_bgcolor\":\"white\",\"plot_bgcolor\":\"#E5ECF6\",\"polar\":{\"bgcolor\":\"#E5ECF6\",\"angularaxis\":{\"gridcolor\":\"white\",\"linecolor\":\"white\",\"ticks\":\"\"},\"radialaxis\":{\"gridcolor\":\"white\",\"linecolor\":\"white\",\"ticks\":\"\"}},\"ternary\":{\"bgcolor\":\"#E5ECF6\",\"aaxis\":{\"gridcolor\":\"white\",\"linecolor\":\"white\",\"ticks\":\"\"},\"baxis\":{\"gridcolor\":\"white\",\"linecolor\":\"white\",\"ticks\":\"\"},\"caxis\":{\"gridcolor\":\"white\",\"linecolor\":\"white\",\"ticks\":\"\"}},\"coloraxis\":{\"colorbar\":{\"outlinewidth\":0,\"ticks\":\"\"}},\"colorscale\":{\"sequential\":[[0.0,\"#0d0887\"],[0.1111111111111111,\"#46039f\"],[0.2222222222222222,\"#7201a8\"],[0.3333333333333333,\"#9c179e\"],[0.4444444444444444,\"#bd3786\"],[0.5555555555555556,\"#d8576b\"],[0.6666666666666666,\"#ed7953\"],[0.7777777777777778,\"#fb9f3a\"],[0.8888888888888888,\"#fdca26\"],[1.0,\"#f0f921\"]],\"sequentialminus\":[[0.0,\"#0d0887\"],[0.1111111111111111,\"#46039f\"],[0.2222222222222222,\"#7201a8\"],[0.3333333333333333,\"#9c179e\"],[0.4444444444444444,\"#bd3786\"],[0.5555555555555556,\"#d8576b\"],[0.6666666666666666,\"#ed7953\"],[0.7777777777777778,\"#fb9f3a\"],[0.8888888888888888,\"#fdca26\"],[1.0,\"#f0f921\"]],\"diverging\":[[0,\"#8e0152\"],[0.1,\"#c51b7d\"],[0.2,\"#de77ae\"],[0.3,\"#f1b6da\"],[0.4,\"#fde0ef\"],[0.5,\"#f7f7f7\"],[0.6,\"#e6f5d0\"],[0.7,\"#b8e186\"],[0.8,\"#7fbc41\"],[0.9,\"#4d9221\"],[1,\"#276419\"]]},\"xaxis\":{\"gridcolor\":\"white\",\"linecolor\":\"white\",\"ticks\":\"\",\"title\":{\"standoff\":15},\"zerolinecolor\":\"white\",\"automargin\":true,\"zerolinewidth\":2},\"yaxis\":{\"gridcolor\":\"white\",\"linecolor\":\"white\",\"ticks\":\"\",\"title\":{\"standoff\":15},\"zerolinecolor\":\"white\",\"automargin\":true,\"zerolinewidth\":2},\"scene\":{\"xaxis\":{\"backgroundcolor\":\"#E5ECF6\",\"gridcolor\":\"white\",\"linecolor\":\"white\",\"showbackground\":true,\"ticks\":\"\",\"zerolinecolor\":\"white\",\"gridwidth\":2},\"yaxis\":{\"backgroundcolor\":\"#E5ECF6\",\"gridcolor\":\"white\",\"linecolor\":\"white\",\"showbackground\":true,\"ticks\":\"\",\"zerolinecolor\":\"white\",\"gridwidth\":2},\"zaxis\":{\"backgroundcolor\":\"#E5ECF6\",\"gridcolor\":\"white\",\"linecolor\":\"white\",\"showbackground\":true,\"ticks\":\"\",\"zerolinecolor\":\"white\",\"gridwidth\":2}},\"shapedefaults\":{\"line\":{\"color\":\"#2a3f5f\"}},\"annotationdefaults\":{\"arrowcolor\":\"#2a3f5f\",\"arrowhead\":0,\"arrowwidth\":1},\"geo\":{\"bgcolor\":\"white\",\"landcolor\":\"#E5ECF6\",\"subunitcolor\":\"white\",\"showland\":true,\"showlakes\":true,\"lakecolor\":\"white\"},\"title\":{\"x\":0.05},\"mapbox\":{\"style\":\"light\"}}}},                        {\"responsive\": true}                    )                };                            </script>        </div>"
      ],
      "text/plain": [
       "Figure({\n",
       "    'data': [{'cliponaxis': False,\n",
       "              'hovertemplate': [criterion (CategoricalDistribution):\n",
       "                                0.009252275713017207<extra></extra>, max_features\n",
       "                                (CategoricalDistribution):\n",
       "                                0.016860524205585647<extra></extra>, n_estimators\n",
       "                                (IntDistribution):\n",
       "                                0.11753735559645057<extra></extra>,\n",
       "                                min_samples_split (IntDistribution):\n",
       "                                0.13949586459615063<extra></extra>,\n",
       "                                min_samples_leaf (IntDistribution):\n",
       "                                0.19009482563751487<extra></extra>, max_depth\n",
       "                                (IntDistribution):\n",
       "                                0.5267591542512812<extra></extra>],\n",
       "              'name': 'Objective Value',\n",
       "              'orientation': 'h',\n",
       "              'text': [<0.01, 0.02, 0.12, 0.14, 0.19, 0.53],\n",
       "              'textposition': 'outside',\n",
       "              'type': 'bar',\n",
       "              'x': [0.009252275713017207, 0.016860524205585647,\n",
       "                    0.11753735559645057, 0.13949586459615063, 0.19009482563751487,\n",
       "                    0.5267591542512812],\n",
       "              'y': [criterion, max_features, n_estimators, min_samples_split,\n",
       "                    min_samples_leaf, max_depth]}],\n",
       "    'layout': {'template': '...',\n",
       "               'title': {'text': 'Hyperparameter Importances'},\n",
       "               'xaxis': {'title': {'text': 'Hyperparameter Importance'}},\n",
       "               'yaxis': {'title': {'text': 'Hyperparameter'}}}\n",
       "})"
      ]
     },
     "execution_count": 21,
     "metadata": {},
     "output_type": "execute_result"
    }
   ],
   "source": [
    "optuna.visualization.plot_param_importances(study)\n"
   ]
  },
  {
   "cell_type": "code",
   "execution_count": 22,
   "metadata": {},
   "outputs": [
    {
     "ename": "ValueError",
     "evalue": "Mime type rendering requires nbformat>=4.2.0 but it is not installed",
     "output_type": "error",
     "traceback": [
      "\u001b[1;31m---------------------------------------------------------------------------\u001b[0m",
      "\u001b[1;31mValueError\u001b[0m                                Traceback (most recent call last)",
      "File \u001b[1;32m~\\AppData\\Roaming\\Python\\Python312\\site-packages\\IPython\\core\\formatters.py:925\u001b[0m, in \u001b[0;36mIPythonDisplayFormatter.__call__\u001b[1;34m(self, obj)\u001b[0m\n\u001b[0;32m    923\u001b[0m method \u001b[38;5;241m=\u001b[39m get_real_method(obj, \u001b[38;5;28mself\u001b[39m\u001b[38;5;241m.\u001b[39mprint_method)\n\u001b[0;32m    924\u001b[0m \u001b[38;5;28;01mif\u001b[39;00m method \u001b[38;5;129;01mis\u001b[39;00m \u001b[38;5;129;01mnot\u001b[39;00m \u001b[38;5;28;01mNone\u001b[39;00m:\n\u001b[1;32m--> 925\u001b[0m     \u001b[43mmethod\u001b[49m\u001b[43m(\u001b[49m\u001b[43m)\u001b[49m\n\u001b[0;32m    926\u001b[0m     \u001b[38;5;28;01mreturn\u001b[39;00m \u001b[38;5;28;01mTrue\u001b[39;00m\n",
      "File \u001b[1;32mc:\\Users\\Sarah\\anaconda3\\envs\\nba_env\\Lib\\site-packages\\plotly\\basedatatypes.py:832\u001b[0m, in \u001b[0;36mBaseFigure._ipython_display_\u001b[1;34m(self)\u001b[0m\n\u001b[0;32m    829\u001b[0m \u001b[38;5;28;01mimport\u001b[39;00m \u001b[38;5;21;01mplotly\u001b[39;00m\u001b[38;5;21;01m.\u001b[39;00m\u001b[38;5;21;01mio\u001b[39;00m \u001b[38;5;28;01mas\u001b[39;00m \u001b[38;5;21;01mpio\u001b[39;00m\n\u001b[0;32m    831\u001b[0m \u001b[38;5;28;01mif\u001b[39;00m pio\u001b[38;5;241m.\u001b[39mrenderers\u001b[38;5;241m.\u001b[39mrender_on_display \u001b[38;5;129;01mand\u001b[39;00m pio\u001b[38;5;241m.\u001b[39mrenderers\u001b[38;5;241m.\u001b[39mdefault:\n\u001b[1;32m--> 832\u001b[0m     \u001b[43mpio\u001b[49m\u001b[38;5;241;43m.\u001b[39;49m\u001b[43mshow\u001b[49m\u001b[43m(\u001b[49m\u001b[38;5;28;43mself\u001b[39;49m\u001b[43m)\u001b[49m\n\u001b[0;32m    833\u001b[0m \u001b[38;5;28;01melse\u001b[39;00m:\n\u001b[0;32m    834\u001b[0m     \u001b[38;5;28mprint\u001b[39m(\u001b[38;5;28mrepr\u001b[39m(\u001b[38;5;28mself\u001b[39m))\n",
      "File \u001b[1;32mc:\\Users\\Sarah\\anaconda3\\envs\\nba_env\\Lib\\site-packages\\plotly\\io\\_renderers.py:394\u001b[0m, in \u001b[0;36mshow\u001b[1;34m(fig, renderer, validate, **kwargs)\u001b[0m\n\u001b[0;32m    389\u001b[0m         \u001b[38;5;28;01mraise\u001b[39;00m \u001b[38;5;167;01mValueError\u001b[39;00m(\n\u001b[0;32m    390\u001b[0m             \u001b[38;5;124m\"\u001b[39m\u001b[38;5;124mMime type rendering requires ipython but it is not installed\u001b[39m\u001b[38;5;124m\"\u001b[39m\n\u001b[0;32m    391\u001b[0m         )\n\u001b[0;32m    393\u001b[0m     \u001b[38;5;28;01mif\u001b[39;00m \u001b[38;5;129;01mnot\u001b[39;00m nbformat \u001b[38;5;129;01mor\u001b[39;00m Version(nbformat\u001b[38;5;241m.\u001b[39m__version__) \u001b[38;5;241m<\u001b[39m Version(\u001b[38;5;124m\"\u001b[39m\u001b[38;5;124m4.2.0\u001b[39m\u001b[38;5;124m\"\u001b[39m):\n\u001b[1;32m--> 394\u001b[0m         \u001b[38;5;28;01mraise\u001b[39;00m \u001b[38;5;167;01mValueError\u001b[39;00m(\n\u001b[0;32m    395\u001b[0m             \u001b[38;5;124m\"\u001b[39m\u001b[38;5;124mMime type rendering requires nbformat>=4.2.0 but it is not installed\u001b[39m\u001b[38;5;124m\"\u001b[39m\n\u001b[0;32m    396\u001b[0m         )\n\u001b[0;32m    398\u001b[0m     ipython_display\u001b[38;5;241m.\u001b[39mdisplay(bundle, raw\u001b[38;5;241m=\u001b[39m\u001b[38;5;28;01mTrue\u001b[39;00m)\n\u001b[0;32m    400\u001b[0m \u001b[38;5;66;03m# external renderers\u001b[39;00m\n",
      "\u001b[1;31mValueError\u001b[0m: Mime type rendering requires nbformat>=4.2.0 but it is not installed"
     ]
    },
    {
     "data": {
      "application/vnd.plotly.v1+json": {
       "config": {
        "plotlyServerURL": "https://plot.ly"
       },
       "data": [
        {
         "marker": {
          "color": [
           0,
           1,
           2,
           3,
           4,
           5,
           6,
           7,
           8,
           9,
           10,
           11,
           12,
           13,
           14,
           15,
           16,
           17,
           18,
           19,
           20,
           21,
           22,
           23,
           24,
           25,
           26,
           27,
           28,
           29
          ],
          "colorbar": {
           "title": {
            "text": "Trial"
           },
           "x": 1,
           "xpad": 40
          },
          "colorscale": [
           [
            0,
            "rgb(247,251,255)"
           ],
           [
            0.125,
            "rgb(222,235,247)"
           ],
           [
            0.25,
            "rgb(198,219,239)"
           ],
           [
            0.375,
            "rgb(158,202,225)"
           ],
           [
            0.5,
            "rgb(107,174,214)"
           ],
           [
            0.625,
            "rgb(66,146,198)"
           ],
           [
            0.75,
            "rgb(33,113,181)"
           ],
           [
            0.875,
            "rgb(8,81,156)"
           ],
           [
            1,
            "rgb(8,48,107)"
           ]
          ],
          "line": {
           "color": "Grey",
           "width": 0.5
          },
          "showscale": true
         },
         "mode": "markers",
         "name": "Feasible Trial",
         "showlegend": false,
         "type": "scatter",
         "x": [
          "gini",
          "entropy",
          "entropy",
          "log_loss",
          "log_loss",
          "entropy",
          "log_loss",
          "entropy",
          "log_loss",
          "log_loss",
          "gini",
          "entropy",
          "log_loss",
          "entropy",
          "gini",
          "log_loss",
          "entropy",
          "entropy",
          "log_loss",
          "gini",
          "log_loss",
          "entropy",
          "entropy",
          "entropy",
          "entropy",
          "entropy",
          "entropy",
          "entropy",
          "entropy",
          "gini"
         ],
         "xaxis": "x",
         "y": [
          0.6821621369524409,
          0.6774633600335793,
          0.683048258654261,
          0.67112059416792,
          0.6752480557790292,
          0.6829433231895717,
          0.6773467650728136,
          0.6770202991826694,
          0.6823486888896662,
          0.6831998321032565,
          0.676309069921998,
          0.6831998321032565,
          0.6829433231895717,
          0.6821971154406706,
          0.6815675026525354,
          0.6819406065269858,
          0.6804481910291837,
          0.6831182156307204,
          0.6830832371424908,
          0.6798185782410484,
          0.6829316636934951,
          0.6835146384973242,
          0.6833980435365583,
          0.6829783016778015,
          0.670817447269929,
          0.6826051978033509,
          0.6835379574894773,
          0.6828150687327293,
          0.6796553452959763,
          0.6821388179602877
         ],
         "yaxis": "y"
        },
        {
         "marker": {
          "color": [
           0,
           1,
           2,
           3,
           4,
           5,
           6,
           7,
           8,
           9,
           10,
           11,
           12,
           13,
           14,
           15,
           16,
           17,
           18,
           19,
           20,
           21,
           22,
           23,
           24,
           25,
           26,
           27,
           28,
           29
          ],
          "colorbar": {
           "title": {
            "text": "Trial"
           },
           "x": 1,
           "xpad": 40
          },
          "colorscale": [
           [
            0,
            "rgb(247,251,255)"
           ],
           [
            0.125,
            "rgb(222,235,247)"
           ],
           [
            0.25,
            "rgb(198,219,239)"
           ],
           [
            0.375,
            "rgb(158,202,225)"
           ],
           [
            0.5,
            "rgb(107,174,214)"
           ],
           [
            0.625,
            "rgb(66,146,198)"
           ],
           [
            0.75,
            "rgb(33,113,181)"
           ],
           [
            0.875,
            "rgb(8,81,156)"
           ],
           [
            1,
            "rgb(8,48,107)"
           ]
          ],
          "line": {
           "color": "Grey",
           "width": 0.5
          },
          "showscale": false
         },
         "mode": "markers",
         "name": "Feasible Trial",
         "showlegend": false,
         "type": "scatter",
         "x": [
          27,
          5,
          15,
          25,
          32,
          15,
          26,
          22,
          10,
          13,
          4,
          15,
          12,
          19,
          9,
          19,
          8,
          14,
          17,
          7,
          12,
          13,
          12,
          11,
          2,
          19,
          13,
          17,
          7,
          21
         ],
         "xaxis": "x2",
         "y": [
          0.6821621369524409,
          0.6774633600335793,
          0.683048258654261,
          0.67112059416792,
          0.6752480557790292,
          0.6829433231895717,
          0.6773467650728136,
          0.6770202991826694,
          0.6823486888896662,
          0.6831998321032565,
          0.676309069921998,
          0.6831998321032565,
          0.6829433231895717,
          0.6821971154406706,
          0.6815675026525354,
          0.6819406065269858,
          0.6804481910291837,
          0.6831182156307204,
          0.6830832371424908,
          0.6798185782410484,
          0.6829316636934951,
          0.6835146384973242,
          0.6833980435365583,
          0.6829783016778015,
          0.670817447269929,
          0.6826051978033509,
          0.6835379574894773,
          0.6828150687327293,
          0.6796553452959763,
          0.6821388179602877
         ],
         "yaxis": "y2"
        },
        {
         "marker": {
          "color": [
           0,
           1,
           2,
           3,
           4,
           5,
           6,
           7,
           8,
           9,
           10,
           11,
           12,
           13,
           14,
           15,
           16,
           17,
           18,
           19,
           20,
           21,
           22,
           23,
           24,
           25,
           26,
           27,
           28,
           29
          ],
          "colorbar": {
           "title": {
            "text": "Trial"
           },
           "x": 1,
           "xpad": 40
          },
          "colorscale": [
           [
            0,
            "rgb(247,251,255)"
           ],
           [
            0.125,
            "rgb(222,235,247)"
           ],
           [
            0.25,
            "rgb(198,219,239)"
           ],
           [
            0.375,
            "rgb(158,202,225)"
           ],
           [
            0.5,
            "rgb(107,174,214)"
           ],
           [
            0.625,
            "rgb(66,146,198)"
           ],
           [
            0.75,
            "rgb(33,113,181)"
           ],
           [
            0.875,
            "rgb(8,81,156)"
           ],
           [
            1,
            "rgb(8,48,107)"
           ]
          ],
          "line": {
           "color": "Grey",
           "width": 0.5
          },
          "showscale": false
         },
         "mode": "markers",
         "name": "Feasible Trial",
         "showlegend": false,
         "type": "scatter",
         "x": [
          "sqrt",
          "log2",
          "sqrt",
          "sqrt",
          "sqrt",
          "log2",
          "log2",
          "log2",
          "sqrt",
          "sqrt",
          "sqrt",
          "sqrt",
          "sqrt",
          "sqrt",
          "sqrt",
          "sqrt",
          "sqrt",
          "sqrt",
          "log2",
          "sqrt",
          "sqrt",
          "sqrt",
          "sqrt",
          "sqrt",
          "sqrt",
          "sqrt",
          "log2",
          "log2",
          "log2",
          "log2"
         ],
         "xaxis": "x3",
         "y": [
          0.6821621369524409,
          0.6774633600335793,
          0.683048258654261,
          0.67112059416792,
          0.6752480557790292,
          0.6829433231895717,
          0.6773467650728136,
          0.6770202991826694,
          0.6823486888896662,
          0.6831998321032565,
          0.676309069921998,
          0.6831998321032565,
          0.6829433231895717,
          0.6821971154406706,
          0.6815675026525354,
          0.6819406065269858,
          0.6804481910291837,
          0.6831182156307204,
          0.6830832371424908,
          0.6798185782410484,
          0.6829316636934951,
          0.6835146384973242,
          0.6833980435365583,
          0.6829783016778015,
          0.670817447269929,
          0.6826051978033509,
          0.6835379574894773,
          0.6828150687327293,
          0.6796553452959763,
          0.6821388179602877
         ],
         "yaxis": "y3"
        },
        {
         "marker": {
          "color": [
           0,
           1,
           2,
           3,
           4,
           5,
           6,
           7,
           8,
           9,
           10,
           11,
           12,
           13,
           14,
           15,
           16,
           17,
           18,
           19,
           20,
           21,
           22,
           23,
           24,
           25,
           26,
           27,
           28,
           29
          ],
          "colorbar": {
           "title": {
            "text": "Trial"
           },
           "x": 1,
           "xpad": 40
          },
          "colorscale": [
           [
            0,
            "rgb(247,251,255)"
           ],
           [
            0.125,
            "rgb(222,235,247)"
           ],
           [
            0.25,
            "rgb(198,219,239)"
           ],
           [
            0.375,
            "rgb(158,202,225)"
           ],
           [
            0.5,
            "rgb(107,174,214)"
           ],
           [
            0.625,
            "rgb(66,146,198)"
           ],
           [
            0.75,
            "rgb(33,113,181)"
           ],
           [
            0.875,
            "rgb(8,81,156)"
           ],
           [
            1,
            "rgb(8,48,107)"
           ]
          ],
          "line": {
           "color": "Grey",
           "width": 0.5
          },
          "showscale": false
         },
         "mode": "markers",
         "name": "Feasible Trial",
         "showlegend": false,
         "type": "scatter",
         "x": [
          21,
          14,
          32,
          3,
          6,
          31,
          3,
          2,
          2,
          18,
          20,
          30,
          26,
          12,
          25,
          9,
          19,
          26,
          16,
          28,
          23,
          30,
          29,
          29,
          23,
          28,
          17,
          9,
          32,
          23
         ],
         "xaxis": "x4",
         "y": [
          0.6821621369524409,
          0.6774633600335793,
          0.683048258654261,
          0.67112059416792,
          0.6752480557790292,
          0.6829433231895717,
          0.6773467650728136,
          0.6770202991826694,
          0.6823486888896662,
          0.6831998321032565,
          0.676309069921998,
          0.6831998321032565,
          0.6829433231895717,
          0.6821971154406706,
          0.6815675026525354,
          0.6819406065269858,
          0.6804481910291837,
          0.6831182156307204,
          0.6830832371424908,
          0.6798185782410484,
          0.6829316636934951,
          0.6835146384973242,
          0.6833980435365583,
          0.6829783016778015,
          0.670817447269929,
          0.6826051978033509,
          0.6835379574894773,
          0.6828150687327293,
          0.6796553452959763,
          0.6821388179602877
         ],
         "yaxis": "y4"
        },
        {
         "marker": {
          "color": [
           0,
           1,
           2,
           3,
           4,
           5,
           6,
           7,
           8,
           9,
           10,
           11,
           12,
           13,
           14,
           15,
           16,
           17,
           18,
           19,
           20,
           21,
           22,
           23,
           24,
           25,
           26,
           27,
           28,
           29
          ],
          "colorbar": {
           "title": {
            "text": "Trial"
           },
           "x": 1,
           "xpad": 40
          },
          "colorscale": [
           [
            0,
            "rgb(247,251,255)"
           ],
           [
            0.125,
            "rgb(222,235,247)"
           ],
           [
            0.25,
            "rgb(198,219,239)"
           ],
           [
            0.375,
            "rgb(158,202,225)"
           ],
           [
            0.5,
            "rgb(107,174,214)"
           ],
           [
            0.625,
            "rgb(66,146,198)"
           ],
           [
            0.75,
            "rgb(33,113,181)"
           ],
           [
            0.875,
            "rgb(8,81,156)"
           ],
           [
            1,
            "rgb(8,48,107)"
           ]
          ],
          "line": {
           "color": "Grey",
           "width": 0.5
          },
          "showscale": false
         },
         "mode": "markers",
         "name": "Feasible Trial",
         "showlegend": false,
         "type": "scatter",
         "x": [
          23,
          18,
          21,
          7,
          2,
          27,
          27,
          17,
          12,
          24,
          29,
          21,
          32,
          14,
          23,
          20,
          25,
          13,
          32,
          16,
          20,
          9,
          10,
          9,
          6,
          10,
          3,
          3,
          5,
          9
         ],
         "xaxis": "x5",
         "y": [
          0.6821621369524409,
          0.6774633600335793,
          0.683048258654261,
          0.67112059416792,
          0.6752480557790292,
          0.6829433231895717,
          0.6773467650728136,
          0.6770202991826694,
          0.6823486888896662,
          0.6831998321032565,
          0.676309069921998,
          0.6831998321032565,
          0.6829433231895717,
          0.6821971154406706,
          0.6815675026525354,
          0.6819406065269858,
          0.6804481910291837,
          0.6831182156307204,
          0.6830832371424908,
          0.6798185782410484,
          0.6829316636934951,
          0.6835146384973242,
          0.6833980435365583,
          0.6829783016778015,
          0.670817447269929,
          0.6826051978033509,
          0.6835379574894773,
          0.6828150687327293,
          0.6796553452959763,
          0.6821388179602877
         ],
         "yaxis": "y5"
        },
        {
         "marker": {
          "color": [
           0,
           1,
           2,
           3,
           4,
           5,
           6,
           7,
           8,
           9,
           10,
           11,
           12,
           13,
           14,
           15,
           16,
           17,
           18,
           19,
           20,
           21,
           22,
           23,
           24,
           25,
           26,
           27,
           28,
           29
          ],
          "colorbar": {
           "title": {
            "text": "Trial"
           },
           "x": 1,
           "xpad": 40
          },
          "colorscale": [
           [
            0,
            "rgb(247,251,255)"
           ],
           [
            0.125,
            "rgb(222,235,247)"
           ],
           [
            0.25,
            "rgb(198,219,239)"
           ],
           [
            0.375,
            "rgb(158,202,225)"
           ],
           [
            0.5,
            "rgb(107,174,214)"
           ],
           [
            0.625,
            "rgb(66,146,198)"
           ],
           [
            0.75,
            "rgb(33,113,181)"
           ],
           [
            0.875,
            "rgb(8,81,156)"
           ],
           [
            1,
            "rgb(8,48,107)"
           ]
          ],
          "line": {
           "color": "Grey",
           "width": 0.5
          },
          "showscale": false
         },
         "mode": "markers",
         "name": "Feasible Trial",
         "showlegend": false,
         "type": "scatter",
         "x": [
          212,
          455,
          380,
          304,
          111,
          447,
          330,
          110,
          331,
          494,
          500,
          396,
          403,
          498,
          397,
          252,
          441,
          359,
          434,
          247,
          482,
          365,
          355,
          172,
          286,
          363,
          333,
          324,
          278,
          353
         ],
         "xaxis": "x6",
         "y": [
          0.6821621369524409,
          0.6774633600335793,
          0.683048258654261,
          0.67112059416792,
          0.6752480557790292,
          0.6829433231895717,
          0.6773467650728136,
          0.6770202991826694,
          0.6823486888896662,
          0.6831998321032565,
          0.676309069921998,
          0.6831998321032565,
          0.6829433231895717,
          0.6821971154406706,
          0.6815675026525354,
          0.6819406065269858,
          0.6804481910291837,
          0.6831182156307204,
          0.6830832371424908,
          0.6798185782410484,
          0.6829316636934951,
          0.6835146384973242,
          0.6833980435365583,
          0.6829783016778015,
          0.670817447269929,
          0.6826051978033509,
          0.6835379574894773,
          0.6828150687327293,
          0.6796553452959763,
          0.6821388179602877
         ],
         "yaxis": "y6"
        }
       ],
       "layout": {
        "template": {
         "data": {
          "bar": [
           {
            "error_x": {
             "color": "#2a3f5f"
            },
            "error_y": {
             "color": "#2a3f5f"
            },
            "marker": {
             "line": {
              "color": "#E5ECF6",
              "width": 0.5
             },
             "pattern": {
              "fillmode": "overlay",
              "size": 10,
              "solidity": 0.2
             }
            },
            "type": "bar"
           }
          ],
          "barpolar": [
           {
            "marker": {
             "line": {
              "color": "#E5ECF6",
              "width": 0.5
             },
             "pattern": {
              "fillmode": "overlay",
              "size": 10,
              "solidity": 0.2
             }
            },
            "type": "barpolar"
           }
          ],
          "carpet": [
           {
            "aaxis": {
             "endlinecolor": "#2a3f5f",
             "gridcolor": "white",
             "linecolor": "white",
             "minorgridcolor": "white",
             "startlinecolor": "#2a3f5f"
            },
            "baxis": {
             "endlinecolor": "#2a3f5f",
             "gridcolor": "white",
             "linecolor": "white",
             "minorgridcolor": "white",
             "startlinecolor": "#2a3f5f"
            },
            "type": "carpet"
           }
          ],
          "choropleth": [
           {
            "colorbar": {
             "outlinewidth": 0,
             "ticks": ""
            },
            "type": "choropleth"
           }
          ],
          "contour": [
           {
            "colorbar": {
             "outlinewidth": 0,
             "ticks": ""
            },
            "colorscale": [
             [
              0,
              "#0d0887"
             ],
             [
              0.1111111111111111,
              "#46039f"
             ],
             [
              0.2222222222222222,
              "#7201a8"
             ],
             [
              0.3333333333333333,
              "#9c179e"
             ],
             [
              0.4444444444444444,
              "#bd3786"
             ],
             [
              0.5555555555555556,
              "#d8576b"
             ],
             [
              0.6666666666666666,
              "#ed7953"
             ],
             [
              0.7777777777777778,
              "#fb9f3a"
             ],
             [
              0.8888888888888888,
              "#fdca26"
             ],
             [
              1,
              "#f0f921"
             ]
            ],
            "type": "contour"
           }
          ],
          "contourcarpet": [
           {
            "colorbar": {
             "outlinewidth": 0,
             "ticks": ""
            },
            "type": "contourcarpet"
           }
          ],
          "heatmap": [
           {
            "colorbar": {
             "outlinewidth": 0,
             "ticks": ""
            },
            "colorscale": [
             [
              0,
              "#0d0887"
             ],
             [
              0.1111111111111111,
              "#46039f"
             ],
             [
              0.2222222222222222,
              "#7201a8"
             ],
             [
              0.3333333333333333,
              "#9c179e"
             ],
             [
              0.4444444444444444,
              "#bd3786"
             ],
             [
              0.5555555555555556,
              "#d8576b"
             ],
             [
              0.6666666666666666,
              "#ed7953"
             ],
             [
              0.7777777777777778,
              "#fb9f3a"
             ],
             [
              0.8888888888888888,
              "#fdca26"
             ],
             [
              1,
              "#f0f921"
             ]
            ],
            "type": "heatmap"
           }
          ],
          "heatmapgl": [
           {
            "colorbar": {
             "outlinewidth": 0,
             "ticks": ""
            },
            "colorscale": [
             [
              0,
              "#0d0887"
             ],
             [
              0.1111111111111111,
              "#46039f"
             ],
             [
              0.2222222222222222,
              "#7201a8"
             ],
             [
              0.3333333333333333,
              "#9c179e"
             ],
             [
              0.4444444444444444,
              "#bd3786"
             ],
             [
              0.5555555555555556,
              "#d8576b"
             ],
             [
              0.6666666666666666,
              "#ed7953"
             ],
             [
              0.7777777777777778,
              "#fb9f3a"
             ],
             [
              0.8888888888888888,
              "#fdca26"
             ],
             [
              1,
              "#f0f921"
             ]
            ],
            "type": "heatmapgl"
           }
          ],
          "histogram": [
           {
            "marker": {
             "pattern": {
              "fillmode": "overlay",
              "size": 10,
              "solidity": 0.2
             }
            },
            "type": "histogram"
           }
          ],
          "histogram2d": [
           {
            "colorbar": {
             "outlinewidth": 0,
             "ticks": ""
            },
            "colorscale": [
             [
              0,
              "#0d0887"
             ],
             [
              0.1111111111111111,
              "#46039f"
             ],
             [
              0.2222222222222222,
              "#7201a8"
             ],
             [
              0.3333333333333333,
              "#9c179e"
             ],
             [
              0.4444444444444444,
              "#bd3786"
             ],
             [
              0.5555555555555556,
              "#d8576b"
             ],
             [
              0.6666666666666666,
              "#ed7953"
             ],
             [
              0.7777777777777778,
              "#fb9f3a"
             ],
             [
              0.8888888888888888,
              "#fdca26"
             ],
             [
              1,
              "#f0f921"
             ]
            ],
            "type": "histogram2d"
           }
          ],
          "histogram2dcontour": [
           {
            "colorbar": {
             "outlinewidth": 0,
             "ticks": ""
            },
            "colorscale": [
             [
              0,
              "#0d0887"
             ],
             [
              0.1111111111111111,
              "#46039f"
             ],
             [
              0.2222222222222222,
              "#7201a8"
             ],
             [
              0.3333333333333333,
              "#9c179e"
             ],
             [
              0.4444444444444444,
              "#bd3786"
             ],
             [
              0.5555555555555556,
              "#d8576b"
             ],
             [
              0.6666666666666666,
              "#ed7953"
             ],
             [
              0.7777777777777778,
              "#fb9f3a"
             ],
             [
              0.8888888888888888,
              "#fdca26"
             ],
             [
              1,
              "#f0f921"
             ]
            ],
            "type": "histogram2dcontour"
           }
          ],
          "mesh3d": [
           {
            "colorbar": {
             "outlinewidth": 0,
             "ticks": ""
            },
            "type": "mesh3d"
           }
          ],
          "parcoords": [
           {
            "line": {
             "colorbar": {
              "outlinewidth": 0,
              "ticks": ""
             }
            },
            "type": "parcoords"
           }
          ],
          "pie": [
           {
            "automargin": true,
            "type": "pie"
           }
          ],
          "scatter": [
           {
            "fillpattern": {
             "fillmode": "overlay",
             "size": 10,
             "solidity": 0.2
            },
            "type": "scatter"
           }
          ],
          "scatter3d": [
           {
            "line": {
             "colorbar": {
              "outlinewidth": 0,
              "ticks": ""
             }
            },
            "marker": {
             "colorbar": {
              "outlinewidth": 0,
              "ticks": ""
             }
            },
            "type": "scatter3d"
           }
          ],
          "scattercarpet": [
           {
            "marker": {
             "colorbar": {
              "outlinewidth": 0,
              "ticks": ""
             }
            },
            "type": "scattercarpet"
           }
          ],
          "scattergeo": [
           {
            "marker": {
             "colorbar": {
              "outlinewidth": 0,
              "ticks": ""
             }
            },
            "type": "scattergeo"
           }
          ],
          "scattergl": [
           {
            "marker": {
             "colorbar": {
              "outlinewidth": 0,
              "ticks": ""
             }
            },
            "type": "scattergl"
           }
          ],
          "scattermapbox": [
           {
            "marker": {
             "colorbar": {
              "outlinewidth": 0,
              "ticks": ""
             }
            },
            "type": "scattermapbox"
           }
          ],
          "scatterpolar": [
           {
            "marker": {
             "colorbar": {
              "outlinewidth": 0,
              "ticks": ""
             }
            },
            "type": "scatterpolar"
           }
          ],
          "scatterpolargl": [
           {
            "marker": {
             "colorbar": {
              "outlinewidth": 0,
              "ticks": ""
             }
            },
            "type": "scatterpolargl"
           }
          ],
          "scatterternary": [
           {
            "marker": {
             "colorbar": {
              "outlinewidth": 0,
              "ticks": ""
             }
            },
            "type": "scatterternary"
           }
          ],
          "surface": [
           {
            "colorbar": {
             "outlinewidth": 0,
             "ticks": ""
            },
            "colorscale": [
             [
              0,
              "#0d0887"
             ],
             [
              0.1111111111111111,
              "#46039f"
             ],
             [
              0.2222222222222222,
              "#7201a8"
             ],
             [
              0.3333333333333333,
              "#9c179e"
             ],
             [
              0.4444444444444444,
              "#bd3786"
             ],
             [
              0.5555555555555556,
              "#d8576b"
             ],
             [
              0.6666666666666666,
              "#ed7953"
             ],
             [
              0.7777777777777778,
              "#fb9f3a"
             ],
             [
              0.8888888888888888,
              "#fdca26"
             ],
             [
              1,
              "#f0f921"
             ]
            ],
            "type": "surface"
           }
          ],
          "table": [
           {
            "cells": {
             "fill": {
              "color": "#EBF0F8"
             },
             "line": {
              "color": "white"
             }
            },
            "header": {
             "fill": {
              "color": "#C8D4E3"
             },
             "line": {
              "color": "white"
             }
            },
            "type": "table"
           }
          ]
         },
         "layout": {
          "annotationdefaults": {
           "arrowcolor": "#2a3f5f",
           "arrowhead": 0,
           "arrowwidth": 1
          },
          "autotypenumbers": "strict",
          "coloraxis": {
           "colorbar": {
            "outlinewidth": 0,
            "ticks": ""
           }
          },
          "colorscale": {
           "diverging": [
            [
             0,
             "#8e0152"
            ],
            [
             0.1,
             "#c51b7d"
            ],
            [
             0.2,
             "#de77ae"
            ],
            [
             0.3,
             "#f1b6da"
            ],
            [
             0.4,
             "#fde0ef"
            ],
            [
             0.5,
             "#f7f7f7"
            ],
            [
             0.6,
             "#e6f5d0"
            ],
            [
             0.7,
             "#b8e186"
            ],
            [
             0.8,
             "#7fbc41"
            ],
            [
             0.9,
             "#4d9221"
            ],
            [
             1,
             "#276419"
            ]
           ],
           "sequential": [
            [
             0,
             "#0d0887"
            ],
            [
             0.1111111111111111,
             "#46039f"
            ],
            [
             0.2222222222222222,
             "#7201a8"
            ],
            [
             0.3333333333333333,
             "#9c179e"
            ],
            [
             0.4444444444444444,
             "#bd3786"
            ],
            [
             0.5555555555555556,
             "#d8576b"
            ],
            [
             0.6666666666666666,
             "#ed7953"
            ],
            [
             0.7777777777777778,
             "#fb9f3a"
            ],
            [
             0.8888888888888888,
             "#fdca26"
            ],
            [
             1,
             "#f0f921"
            ]
           ],
           "sequentialminus": [
            [
             0,
             "#0d0887"
            ],
            [
             0.1111111111111111,
             "#46039f"
            ],
            [
             0.2222222222222222,
             "#7201a8"
            ],
            [
             0.3333333333333333,
             "#9c179e"
            ],
            [
             0.4444444444444444,
             "#bd3786"
            ],
            [
             0.5555555555555556,
             "#d8576b"
            ],
            [
             0.6666666666666666,
             "#ed7953"
            ],
            [
             0.7777777777777778,
             "#fb9f3a"
            ],
            [
             0.8888888888888888,
             "#fdca26"
            ],
            [
             1,
             "#f0f921"
            ]
           ]
          },
          "colorway": [
           "#636efa",
           "#EF553B",
           "#00cc96",
           "#ab63fa",
           "#FFA15A",
           "#19d3f3",
           "#FF6692",
           "#B6E880",
           "#FF97FF",
           "#FECB52"
          ],
          "font": {
           "color": "#2a3f5f"
          },
          "geo": {
           "bgcolor": "white",
           "lakecolor": "white",
           "landcolor": "#E5ECF6",
           "showlakes": true,
           "showland": true,
           "subunitcolor": "white"
          },
          "hoverlabel": {
           "align": "left"
          },
          "hovermode": "closest",
          "mapbox": {
           "style": "light"
          },
          "paper_bgcolor": "white",
          "plot_bgcolor": "#E5ECF6",
          "polar": {
           "angularaxis": {
            "gridcolor": "white",
            "linecolor": "white",
            "ticks": ""
           },
           "bgcolor": "#E5ECF6",
           "radialaxis": {
            "gridcolor": "white",
            "linecolor": "white",
            "ticks": ""
           }
          },
          "scene": {
           "xaxis": {
            "backgroundcolor": "#E5ECF6",
            "gridcolor": "white",
            "gridwidth": 2,
            "linecolor": "white",
            "showbackground": true,
            "ticks": "",
            "zerolinecolor": "white"
           },
           "yaxis": {
            "backgroundcolor": "#E5ECF6",
            "gridcolor": "white",
            "gridwidth": 2,
            "linecolor": "white",
            "showbackground": true,
            "ticks": "",
            "zerolinecolor": "white"
           },
           "zaxis": {
            "backgroundcolor": "#E5ECF6",
            "gridcolor": "white",
            "gridwidth": 2,
            "linecolor": "white",
            "showbackground": true,
            "ticks": "",
            "zerolinecolor": "white"
           }
          },
          "shapedefaults": {
           "line": {
            "color": "#2a3f5f"
           }
          },
          "ternary": {
           "aaxis": {
            "gridcolor": "white",
            "linecolor": "white",
            "ticks": ""
           },
           "baxis": {
            "gridcolor": "white",
            "linecolor": "white",
            "ticks": ""
           },
           "bgcolor": "#E5ECF6",
           "caxis": {
            "gridcolor": "white",
            "linecolor": "white",
            "ticks": ""
           }
          },
          "title": {
           "x": 0.05
          },
          "xaxis": {
           "automargin": true,
           "gridcolor": "white",
           "linecolor": "white",
           "ticks": "",
           "title": {
            "standoff": 15
           },
           "zerolinecolor": "white",
           "zerolinewidth": 2
          },
          "yaxis": {
           "automargin": true,
           "gridcolor": "white",
           "linecolor": "white",
           "ticks": "",
           "title": {
            "standoff": 15
           },
           "zerolinecolor": "white",
           "zerolinewidth": 2
          }
         }
        },
        "title": {
         "text": "Slice Plot"
        },
        "width": 1800,
        "xaxis": {
         "anchor": "y",
         "categoryarray": [
          "gini",
          "entropy",
          "log_loss"
         ],
         "categoryorder": "array",
         "domain": [
          0,
          0.1388888888888889
         ],
         "title": {
          "text": "criterion"
         },
         "type": "category"
        },
        "xaxis2": {
         "anchor": "y2",
         "domain": [
          0.17222222222222222,
          0.3111111111111111
         ],
         "title": {
          "text": "max_depth"
         }
        },
        "xaxis3": {
         "anchor": "y3",
         "categoryarray": [
          "sqrt",
          "log2"
         ],
         "categoryorder": "array",
         "domain": [
          0.34444444444444444,
          0.48333333333333334
         ],
         "title": {
          "text": "max_features"
         },
         "type": "category"
        },
        "xaxis4": {
         "anchor": "y4",
         "domain": [
          0.5166666666666667,
          0.6555555555555557
         ],
         "title": {
          "text": "min_samples_leaf"
         }
        },
        "xaxis5": {
         "anchor": "y5",
         "domain": [
          0.6888888888888889,
          0.8277777777777777
         ],
         "title": {
          "text": "min_samples_split"
         }
        },
        "xaxis6": {
         "anchor": "y6",
         "domain": [
          0.861111111111111,
          1
         ],
         "title": {
          "text": "n_estimators"
         }
        },
        "yaxis": {
         "anchor": "x",
         "domain": [
          0,
          1
         ],
         "title": {
          "text": "Objective Value"
         }
        },
        "yaxis2": {
         "anchor": "x2",
         "domain": [
          0,
          1
         ],
         "matches": "y",
         "showticklabels": false
        },
        "yaxis3": {
         "anchor": "x3",
         "domain": [
          0,
          1
         ],
         "matches": "y",
         "showticklabels": false
        },
        "yaxis4": {
         "anchor": "x4",
         "domain": [
          0,
          1
         ],
         "matches": "y",
         "showticklabels": false
        },
        "yaxis5": {
         "anchor": "x5",
         "domain": [
          0,
          1
         ],
         "matches": "y",
         "showticklabels": false
        },
        "yaxis6": {
         "anchor": "x6",
         "domain": [
          0,
          1
         ],
         "matches": "y",
         "showticklabels": false
        }
       }
      },
      "text/html": [
       "<div>                        <script type=\"text/javascript\">window.PlotlyConfig = {MathJaxConfig: 'local'};</script>\n",
       "        <script charset=\"utf-8\" src=\"https://cdn.plot.ly/plotly-2.32.0.min.js\"></script>                <div id=\"e0a2ad49-5ed3-46d9-a2f3-c8250507285d\" class=\"plotly-graph-div\" style=\"height:100%; width:1800px;\"></div>            <script type=\"text/javascript\">                                    window.PLOTLYENV=window.PLOTLYENV || {};                                    if (document.getElementById(\"e0a2ad49-5ed3-46d9-a2f3-c8250507285d\")) {                    Plotly.newPlot(                        \"e0a2ad49-5ed3-46d9-a2f3-c8250507285d\",                        [{\"marker\":{\"color\":[0,1,2,3,4,5,6,7,8,9,10,11,12,13,14,15,16,17,18,19,20,21,22,23,24,25,26,27,28,29],\"colorbar\":{\"title\":{\"text\":\"Trial\"},\"x\":1.0,\"xpad\":40},\"colorscale\":[[0.0,\"rgb(247,251,255)\"],[0.125,\"rgb(222,235,247)\"],[0.25,\"rgb(198,219,239)\"],[0.375,\"rgb(158,202,225)\"],[0.5,\"rgb(107,174,214)\"],[0.625,\"rgb(66,146,198)\"],[0.75,\"rgb(33,113,181)\"],[0.875,\"rgb(8,81,156)\"],[1.0,\"rgb(8,48,107)\"]],\"line\":{\"color\":\"Grey\",\"width\":0.5},\"showscale\":true},\"mode\":\"markers\",\"name\":\"Feasible Trial\",\"showlegend\":false,\"x\":[\"gini\",\"entropy\",\"entropy\",\"log_loss\",\"log_loss\",\"entropy\",\"log_loss\",\"entropy\",\"log_loss\",\"log_loss\",\"gini\",\"entropy\",\"log_loss\",\"entropy\",\"gini\",\"log_loss\",\"entropy\",\"entropy\",\"log_loss\",\"gini\",\"log_loss\",\"entropy\",\"entropy\",\"entropy\",\"entropy\",\"entropy\",\"entropy\",\"entropy\",\"entropy\",\"gini\"],\"y\":[0.6821621369524409,0.6774633600335793,0.683048258654261,0.67112059416792,0.6752480557790292,0.6829433231895717,0.6773467650728136,0.6770202991826694,0.6823486888896662,0.6831998321032565,0.676309069921998,0.6831998321032565,0.6829433231895717,0.6821971154406706,0.6815675026525354,0.6819406065269858,0.6804481910291837,0.6831182156307204,0.6830832371424908,0.6798185782410484,0.6829316636934951,0.6835146384973242,0.6833980435365583,0.6829783016778015,0.670817447269929,0.6826051978033509,0.6835379574894773,0.6828150687327293,0.6796553452959763,0.6821388179602877],\"type\":\"scatter\",\"xaxis\":\"x\",\"yaxis\":\"y\"},{\"marker\":{\"color\":[0,1,2,3,4,5,6,7,8,9,10,11,12,13,14,15,16,17,18,19,20,21,22,23,24,25,26,27,28,29],\"colorbar\":{\"title\":{\"text\":\"Trial\"},\"x\":1.0,\"xpad\":40},\"colorscale\":[[0.0,\"rgb(247,251,255)\"],[0.125,\"rgb(222,235,247)\"],[0.25,\"rgb(198,219,239)\"],[0.375,\"rgb(158,202,225)\"],[0.5,\"rgb(107,174,214)\"],[0.625,\"rgb(66,146,198)\"],[0.75,\"rgb(33,113,181)\"],[0.875,\"rgb(8,81,156)\"],[1.0,\"rgb(8,48,107)\"]],\"line\":{\"color\":\"Grey\",\"width\":0.5},\"showscale\":false},\"mode\":\"markers\",\"name\":\"Feasible Trial\",\"showlegend\":false,\"x\":[27,5,15,25,32,15,26,22,10,13,4,15,12,19,9,19,8,14,17,7,12,13,12,11,2,19,13,17,7,21],\"y\":[0.6821621369524409,0.6774633600335793,0.683048258654261,0.67112059416792,0.6752480557790292,0.6829433231895717,0.6773467650728136,0.6770202991826694,0.6823486888896662,0.6831998321032565,0.676309069921998,0.6831998321032565,0.6829433231895717,0.6821971154406706,0.6815675026525354,0.6819406065269858,0.6804481910291837,0.6831182156307204,0.6830832371424908,0.6798185782410484,0.6829316636934951,0.6835146384973242,0.6833980435365583,0.6829783016778015,0.670817447269929,0.6826051978033509,0.6835379574894773,0.6828150687327293,0.6796553452959763,0.6821388179602877],\"type\":\"scatter\",\"xaxis\":\"x2\",\"yaxis\":\"y2\"},{\"marker\":{\"color\":[0,1,2,3,4,5,6,7,8,9,10,11,12,13,14,15,16,17,18,19,20,21,22,23,24,25,26,27,28,29],\"colorbar\":{\"title\":{\"text\":\"Trial\"},\"x\":1.0,\"xpad\":40},\"colorscale\":[[0.0,\"rgb(247,251,255)\"],[0.125,\"rgb(222,235,247)\"],[0.25,\"rgb(198,219,239)\"],[0.375,\"rgb(158,202,225)\"],[0.5,\"rgb(107,174,214)\"],[0.625,\"rgb(66,146,198)\"],[0.75,\"rgb(33,113,181)\"],[0.875,\"rgb(8,81,156)\"],[1.0,\"rgb(8,48,107)\"]],\"line\":{\"color\":\"Grey\",\"width\":0.5},\"showscale\":false},\"mode\":\"markers\",\"name\":\"Feasible Trial\",\"showlegend\":false,\"x\":[\"sqrt\",\"log2\",\"sqrt\",\"sqrt\",\"sqrt\",\"log2\",\"log2\",\"log2\",\"sqrt\",\"sqrt\",\"sqrt\",\"sqrt\",\"sqrt\",\"sqrt\",\"sqrt\",\"sqrt\",\"sqrt\",\"sqrt\",\"log2\",\"sqrt\",\"sqrt\",\"sqrt\",\"sqrt\",\"sqrt\",\"sqrt\",\"sqrt\",\"log2\",\"log2\",\"log2\",\"log2\"],\"y\":[0.6821621369524409,0.6774633600335793,0.683048258654261,0.67112059416792,0.6752480557790292,0.6829433231895717,0.6773467650728136,0.6770202991826694,0.6823486888896662,0.6831998321032565,0.676309069921998,0.6831998321032565,0.6829433231895717,0.6821971154406706,0.6815675026525354,0.6819406065269858,0.6804481910291837,0.6831182156307204,0.6830832371424908,0.6798185782410484,0.6829316636934951,0.6835146384973242,0.6833980435365583,0.6829783016778015,0.670817447269929,0.6826051978033509,0.6835379574894773,0.6828150687327293,0.6796553452959763,0.6821388179602877],\"type\":\"scatter\",\"xaxis\":\"x3\",\"yaxis\":\"y3\"},{\"marker\":{\"color\":[0,1,2,3,4,5,6,7,8,9,10,11,12,13,14,15,16,17,18,19,20,21,22,23,24,25,26,27,28,29],\"colorbar\":{\"title\":{\"text\":\"Trial\"},\"x\":1.0,\"xpad\":40},\"colorscale\":[[0.0,\"rgb(247,251,255)\"],[0.125,\"rgb(222,235,247)\"],[0.25,\"rgb(198,219,239)\"],[0.375,\"rgb(158,202,225)\"],[0.5,\"rgb(107,174,214)\"],[0.625,\"rgb(66,146,198)\"],[0.75,\"rgb(33,113,181)\"],[0.875,\"rgb(8,81,156)\"],[1.0,\"rgb(8,48,107)\"]],\"line\":{\"color\":\"Grey\",\"width\":0.5},\"showscale\":false},\"mode\":\"markers\",\"name\":\"Feasible Trial\",\"showlegend\":false,\"x\":[21,14,32,3,6,31,3,2,2,18,20,30,26,12,25,9,19,26,16,28,23,30,29,29,23,28,17,9,32,23],\"y\":[0.6821621369524409,0.6774633600335793,0.683048258654261,0.67112059416792,0.6752480557790292,0.6829433231895717,0.6773467650728136,0.6770202991826694,0.6823486888896662,0.6831998321032565,0.676309069921998,0.6831998321032565,0.6829433231895717,0.6821971154406706,0.6815675026525354,0.6819406065269858,0.6804481910291837,0.6831182156307204,0.6830832371424908,0.6798185782410484,0.6829316636934951,0.6835146384973242,0.6833980435365583,0.6829783016778015,0.670817447269929,0.6826051978033509,0.6835379574894773,0.6828150687327293,0.6796553452959763,0.6821388179602877],\"type\":\"scatter\",\"xaxis\":\"x4\",\"yaxis\":\"y4\"},{\"marker\":{\"color\":[0,1,2,3,4,5,6,7,8,9,10,11,12,13,14,15,16,17,18,19,20,21,22,23,24,25,26,27,28,29],\"colorbar\":{\"title\":{\"text\":\"Trial\"},\"x\":1.0,\"xpad\":40},\"colorscale\":[[0.0,\"rgb(247,251,255)\"],[0.125,\"rgb(222,235,247)\"],[0.25,\"rgb(198,219,239)\"],[0.375,\"rgb(158,202,225)\"],[0.5,\"rgb(107,174,214)\"],[0.625,\"rgb(66,146,198)\"],[0.75,\"rgb(33,113,181)\"],[0.875,\"rgb(8,81,156)\"],[1.0,\"rgb(8,48,107)\"]],\"line\":{\"color\":\"Grey\",\"width\":0.5},\"showscale\":false},\"mode\":\"markers\",\"name\":\"Feasible Trial\",\"showlegend\":false,\"x\":[23,18,21,7,2,27,27,17,12,24,29,21,32,14,23,20,25,13,32,16,20,9,10,9,6,10,3,3,5,9],\"y\":[0.6821621369524409,0.6774633600335793,0.683048258654261,0.67112059416792,0.6752480557790292,0.6829433231895717,0.6773467650728136,0.6770202991826694,0.6823486888896662,0.6831998321032565,0.676309069921998,0.6831998321032565,0.6829433231895717,0.6821971154406706,0.6815675026525354,0.6819406065269858,0.6804481910291837,0.6831182156307204,0.6830832371424908,0.6798185782410484,0.6829316636934951,0.6835146384973242,0.6833980435365583,0.6829783016778015,0.670817447269929,0.6826051978033509,0.6835379574894773,0.6828150687327293,0.6796553452959763,0.6821388179602877],\"type\":\"scatter\",\"xaxis\":\"x5\",\"yaxis\":\"y5\"},{\"marker\":{\"color\":[0,1,2,3,4,5,6,7,8,9,10,11,12,13,14,15,16,17,18,19,20,21,22,23,24,25,26,27,28,29],\"colorbar\":{\"title\":{\"text\":\"Trial\"},\"x\":1.0,\"xpad\":40},\"colorscale\":[[0.0,\"rgb(247,251,255)\"],[0.125,\"rgb(222,235,247)\"],[0.25,\"rgb(198,219,239)\"],[0.375,\"rgb(158,202,225)\"],[0.5,\"rgb(107,174,214)\"],[0.625,\"rgb(66,146,198)\"],[0.75,\"rgb(33,113,181)\"],[0.875,\"rgb(8,81,156)\"],[1.0,\"rgb(8,48,107)\"]],\"line\":{\"color\":\"Grey\",\"width\":0.5},\"showscale\":false},\"mode\":\"markers\",\"name\":\"Feasible Trial\",\"showlegend\":false,\"x\":[212,455,380,304,111,447,330,110,331,494,500,396,403,498,397,252,441,359,434,247,482,365,355,172,286,363,333,324,278,353],\"y\":[0.6821621369524409,0.6774633600335793,0.683048258654261,0.67112059416792,0.6752480557790292,0.6829433231895717,0.6773467650728136,0.6770202991826694,0.6823486888896662,0.6831998321032565,0.676309069921998,0.6831998321032565,0.6829433231895717,0.6821971154406706,0.6815675026525354,0.6819406065269858,0.6804481910291837,0.6831182156307204,0.6830832371424908,0.6798185782410484,0.6829316636934951,0.6835146384973242,0.6833980435365583,0.6829783016778015,0.670817447269929,0.6826051978033509,0.6835379574894773,0.6828150687327293,0.6796553452959763,0.6821388179602877],\"type\":\"scatter\",\"xaxis\":\"x6\",\"yaxis\":\"y6\"}],                        {\"template\":{\"data\":{\"histogram2dcontour\":[{\"type\":\"histogram2dcontour\",\"colorbar\":{\"outlinewidth\":0,\"ticks\":\"\"},\"colorscale\":[[0.0,\"#0d0887\"],[0.1111111111111111,\"#46039f\"],[0.2222222222222222,\"#7201a8\"],[0.3333333333333333,\"#9c179e\"],[0.4444444444444444,\"#bd3786\"],[0.5555555555555556,\"#d8576b\"],[0.6666666666666666,\"#ed7953\"],[0.7777777777777778,\"#fb9f3a\"],[0.8888888888888888,\"#fdca26\"],[1.0,\"#f0f921\"]]}],\"choropleth\":[{\"type\":\"choropleth\",\"colorbar\":{\"outlinewidth\":0,\"ticks\":\"\"}}],\"histogram2d\":[{\"type\":\"histogram2d\",\"colorbar\":{\"outlinewidth\":0,\"ticks\":\"\"},\"colorscale\":[[0.0,\"#0d0887\"],[0.1111111111111111,\"#46039f\"],[0.2222222222222222,\"#7201a8\"],[0.3333333333333333,\"#9c179e\"],[0.4444444444444444,\"#bd3786\"],[0.5555555555555556,\"#d8576b\"],[0.6666666666666666,\"#ed7953\"],[0.7777777777777778,\"#fb9f3a\"],[0.8888888888888888,\"#fdca26\"],[1.0,\"#f0f921\"]]}],\"heatmap\":[{\"type\":\"heatmap\",\"colorbar\":{\"outlinewidth\":0,\"ticks\":\"\"},\"colorscale\":[[0.0,\"#0d0887\"],[0.1111111111111111,\"#46039f\"],[0.2222222222222222,\"#7201a8\"],[0.3333333333333333,\"#9c179e\"],[0.4444444444444444,\"#bd3786\"],[0.5555555555555556,\"#d8576b\"],[0.6666666666666666,\"#ed7953\"],[0.7777777777777778,\"#fb9f3a\"],[0.8888888888888888,\"#fdca26\"],[1.0,\"#f0f921\"]]}],\"heatmapgl\":[{\"type\":\"heatmapgl\",\"colorbar\":{\"outlinewidth\":0,\"ticks\":\"\"},\"colorscale\":[[0.0,\"#0d0887\"],[0.1111111111111111,\"#46039f\"],[0.2222222222222222,\"#7201a8\"],[0.3333333333333333,\"#9c179e\"],[0.4444444444444444,\"#bd3786\"],[0.5555555555555556,\"#d8576b\"],[0.6666666666666666,\"#ed7953\"],[0.7777777777777778,\"#fb9f3a\"],[0.8888888888888888,\"#fdca26\"],[1.0,\"#f0f921\"]]}],\"contourcarpet\":[{\"type\":\"contourcarpet\",\"colorbar\":{\"outlinewidth\":0,\"ticks\":\"\"}}],\"contour\":[{\"type\":\"contour\",\"colorbar\":{\"outlinewidth\":0,\"ticks\":\"\"},\"colorscale\":[[0.0,\"#0d0887\"],[0.1111111111111111,\"#46039f\"],[0.2222222222222222,\"#7201a8\"],[0.3333333333333333,\"#9c179e\"],[0.4444444444444444,\"#bd3786\"],[0.5555555555555556,\"#d8576b\"],[0.6666666666666666,\"#ed7953\"],[0.7777777777777778,\"#fb9f3a\"],[0.8888888888888888,\"#fdca26\"],[1.0,\"#f0f921\"]]}],\"surface\":[{\"type\":\"surface\",\"colorbar\":{\"outlinewidth\":0,\"ticks\":\"\"},\"colorscale\":[[0.0,\"#0d0887\"],[0.1111111111111111,\"#46039f\"],[0.2222222222222222,\"#7201a8\"],[0.3333333333333333,\"#9c179e\"],[0.4444444444444444,\"#bd3786\"],[0.5555555555555556,\"#d8576b\"],[0.6666666666666666,\"#ed7953\"],[0.7777777777777778,\"#fb9f3a\"],[0.8888888888888888,\"#fdca26\"],[1.0,\"#f0f921\"]]}],\"mesh3d\":[{\"type\":\"mesh3d\",\"colorbar\":{\"outlinewidth\":0,\"ticks\":\"\"}}],\"scatter\":[{\"fillpattern\":{\"fillmode\":\"overlay\",\"size\":10,\"solidity\":0.2},\"type\":\"scatter\"}],\"parcoords\":[{\"type\":\"parcoords\",\"line\":{\"colorbar\":{\"outlinewidth\":0,\"ticks\":\"\"}}}],\"scatterpolargl\":[{\"type\":\"scatterpolargl\",\"marker\":{\"colorbar\":{\"outlinewidth\":0,\"ticks\":\"\"}}}],\"bar\":[{\"error_x\":{\"color\":\"#2a3f5f\"},\"error_y\":{\"color\":\"#2a3f5f\"},\"marker\":{\"line\":{\"color\":\"#E5ECF6\",\"width\":0.5},\"pattern\":{\"fillmode\":\"overlay\",\"size\":10,\"solidity\":0.2}},\"type\":\"bar\"}],\"scattergeo\":[{\"type\":\"scattergeo\",\"marker\":{\"colorbar\":{\"outlinewidth\":0,\"ticks\":\"\"}}}],\"scatterpolar\":[{\"type\":\"scatterpolar\",\"marker\":{\"colorbar\":{\"outlinewidth\":0,\"ticks\":\"\"}}}],\"histogram\":[{\"marker\":{\"pattern\":{\"fillmode\":\"overlay\",\"size\":10,\"solidity\":0.2}},\"type\":\"histogram\"}],\"scattergl\":[{\"type\":\"scattergl\",\"marker\":{\"colorbar\":{\"outlinewidth\":0,\"ticks\":\"\"}}}],\"scatter3d\":[{\"type\":\"scatter3d\",\"line\":{\"colorbar\":{\"outlinewidth\":0,\"ticks\":\"\"}},\"marker\":{\"colorbar\":{\"outlinewidth\":0,\"ticks\":\"\"}}}],\"scattermapbox\":[{\"type\":\"scattermapbox\",\"marker\":{\"colorbar\":{\"outlinewidth\":0,\"ticks\":\"\"}}}],\"scatterternary\":[{\"type\":\"scatterternary\",\"marker\":{\"colorbar\":{\"outlinewidth\":0,\"ticks\":\"\"}}}],\"scattercarpet\":[{\"type\":\"scattercarpet\",\"marker\":{\"colorbar\":{\"outlinewidth\":0,\"ticks\":\"\"}}}],\"carpet\":[{\"aaxis\":{\"endlinecolor\":\"#2a3f5f\",\"gridcolor\":\"white\",\"linecolor\":\"white\",\"minorgridcolor\":\"white\",\"startlinecolor\":\"#2a3f5f\"},\"baxis\":{\"endlinecolor\":\"#2a3f5f\",\"gridcolor\":\"white\",\"linecolor\":\"white\",\"minorgridcolor\":\"white\",\"startlinecolor\":\"#2a3f5f\"},\"type\":\"carpet\"}],\"table\":[{\"cells\":{\"fill\":{\"color\":\"#EBF0F8\"},\"line\":{\"color\":\"white\"}},\"header\":{\"fill\":{\"color\":\"#C8D4E3\"},\"line\":{\"color\":\"white\"}},\"type\":\"table\"}],\"barpolar\":[{\"marker\":{\"line\":{\"color\":\"#E5ECF6\",\"width\":0.5},\"pattern\":{\"fillmode\":\"overlay\",\"size\":10,\"solidity\":0.2}},\"type\":\"barpolar\"}],\"pie\":[{\"automargin\":true,\"type\":\"pie\"}]},\"layout\":{\"autotypenumbers\":\"strict\",\"colorway\":[\"#636efa\",\"#EF553B\",\"#00cc96\",\"#ab63fa\",\"#FFA15A\",\"#19d3f3\",\"#FF6692\",\"#B6E880\",\"#FF97FF\",\"#FECB52\"],\"font\":{\"color\":\"#2a3f5f\"},\"hovermode\":\"closest\",\"hoverlabel\":{\"align\":\"left\"},\"paper_bgcolor\":\"white\",\"plot_bgcolor\":\"#E5ECF6\",\"polar\":{\"bgcolor\":\"#E5ECF6\",\"angularaxis\":{\"gridcolor\":\"white\",\"linecolor\":\"white\",\"ticks\":\"\"},\"radialaxis\":{\"gridcolor\":\"white\",\"linecolor\":\"white\",\"ticks\":\"\"}},\"ternary\":{\"bgcolor\":\"#E5ECF6\",\"aaxis\":{\"gridcolor\":\"white\",\"linecolor\":\"white\",\"ticks\":\"\"},\"baxis\":{\"gridcolor\":\"white\",\"linecolor\":\"white\",\"ticks\":\"\"},\"caxis\":{\"gridcolor\":\"white\",\"linecolor\":\"white\",\"ticks\":\"\"}},\"coloraxis\":{\"colorbar\":{\"outlinewidth\":0,\"ticks\":\"\"}},\"colorscale\":{\"sequential\":[[0.0,\"#0d0887\"],[0.1111111111111111,\"#46039f\"],[0.2222222222222222,\"#7201a8\"],[0.3333333333333333,\"#9c179e\"],[0.4444444444444444,\"#bd3786\"],[0.5555555555555556,\"#d8576b\"],[0.6666666666666666,\"#ed7953\"],[0.7777777777777778,\"#fb9f3a\"],[0.8888888888888888,\"#fdca26\"],[1.0,\"#f0f921\"]],\"sequentialminus\":[[0.0,\"#0d0887\"],[0.1111111111111111,\"#46039f\"],[0.2222222222222222,\"#7201a8\"],[0.3333333333333333,\"#9c179e\"],[0.4444444444444444,\"#bd3786\"],[0.5555555555555556,\"#d8576b\"],[0.6666666666666666,\"#ed7953\"],[0.7777777777777778,\"#fb9f3a\"],[0.8888888888888888,\"#fdca26\"],[1.0,\"#f0f921\"]],\"diverging\":[[0,\"#8e0152\"],[0.1,\"#c51b7d\"],[0.2,\"#de77ae\"],[0.3,\"#f1b6da\"],[0.4,\"#fde0ef\"],[0.5,\"#f7f7f7\"],[0.6,\"#e6f5d0\"],[0.7,\"#b8e186\"],[0.8,\"#7fbc41\"],[0.9,\"#4d9221\"],[1,\"#276419\"]]},\"xaxis\":{\"gridcolor\":\"white\",\"linecolor\":\"white\",\"ticks\":\"\",\"title\":{\"standoff\":15},\"zerolinecolor\":\"white\",\"automargin\":true,\"zerolinewidth\":2},\"yaxis\":{\"gridcolor\":\"white\",\"linecolor\":\"white\",\"ticks\":\"\",\"title\":{\"standoff\":15},\"zerolinecolor\":\"white\",\"automargin\":true,\"zerolinewidth\":2},\"scene\":{\"xaxis\":{\"backgroundcolor\":\"#E5ECF6\",\"gridcolor\":\"white\",\"linecolor\":\"white\",\"showbackground\":true,\"ticks\":\"\",\"zerolinecolor\":\"white\",\"gridwidth\":2},\"yaxis\":{\"backgroundcolor\":\"#E5ECF6\",\"gridcolor\":\"white\",\"linecolor\":\"white\",\"showbackground\":true,\"ticks\":\"\",\"zerolinecolor\":\"white\",\"gridwidth\":2},\"zaxis\":{\"backgroundcolor\":\"#E5ECF6\",\"gridcolor\":\"white\",\"linecolor\":\"white\",\"showbackground\":true,\"ticks\":\"\",\"zerolinecolor\":\"white\",\"gridwidth\":2}},\"shapedefaults\":{\"line\":{\"color\":\"#2a3f5f\"}},\"annotationdefaults\":{\"arrowcolor\":\"#2a3f5f\",\"arrowhead\":0,\"arrowwidth\":1},\"geo\":{\"bgcolor\":\"white\",\"landcolor\":\"#E5ECF6\",\"subunitcolor\":\"white\",\"showland\":true,\"showlakes\":true,\"lakecolor\":\"white\"},\"title\":{\"x\":0.05},\"mapbox\":{\"style\":\"light\"}}},\"xaxis\":{\"anchor\":\"y\",\"domain\":[0.0,0.1388888888888889],\"title\":{\"text\":\"criterion\"},\"type\":\"category\",\"categoryorder\":\"array\",\"categoryarray\":[\"gini\",\"entropy\",\"log_loss\"]},\"yaxis\":{\"anchor\":\"x\",\"domain\":[0.0,1.0],\"title\":{\"text\":\"Objective Value\"}},\"xaxis2\":{\"anchor\":\"y2\",\"domain\":[0.17222222222222222,0.3111111111111111],\"title\":{\"text\":\"max_depth\"}},\"yaxis2\":{\"anchor\":\"x2\",\"domain\":[0.0,1.0],\"matches\":\"y\",\"showticklabels\":false},\"xaxis3\":{\"anchor\":\"y3\",\"domain\":[0.34444444444444444,0.48333333333333334],\"title\":{\"text\":\"max_features\"},\"type\":\"category\",\"categoryorder\":\"array\",\"categoryarray\":[\"sqrt\",\"log2\"]},\"yaxis3\":{\"anchor\":\"x3\",\"domain\":[0.0,1.0],\"matches\":\"y\",\"showticklabels\":false},\"xaxis4\":{\"anchor\":\"y4\",\"domain\":[0.5166666666666667,0.6555555555555557],\"title\":{\"text\":\"min_samples_leaf\"}},\"yaxis4\":{\"anchor\":\"x4\",\"domain\":[0.0,1.0],\"matches\":\"y\",\"showticklabels\":false},\"xaxis5\":{\"anchor\":\"y5\",\"domain\":[0.6888888888888889,0.8277777777777777],\"title\":{\"text\":\"min_samples_split\"}},\"yaxis5\":{\"anchor\":\"x5\",\"domain\":[0.0,1.0],\"matches\":\"y\",\"showticklabels\":false},\"xaxis6\":{\"anchor\":\"y6\",\"domain\":[0.861111111111111,1.0],\"title\":{\"text\":\"n_estimators\"}},\"yaxis6\":{\"anchor\":\"x6\",\"domain\":[0.0,1.0],\"matches\":\"y\",\"showticklabels\":false},\"title\":{\"text\":\"Slice Plot\"},\"width\":1800},                        {\"responsive\": true}                    )                };                            </script>        </div>"
      ],
      "text/plain": [
       "Figure({\n",
       "    'data': [{'marker': {'color': [0, 1, 2, 3, 4, 5, 6, 7, 8, 9, 10, 11, 12, 13,\n",
       "                                   14, 15, 16, 17, 18, 19, 20, 21, 22, 23, 24, 25,\n",
       "                                   26, 27, 28, 29],\n",
       "                         'colorbar': {'title': {'text': 'Trial'}, 'x': 1.0, 'xpad': 40},\n",
       "                         'colorscale': [[0.0, 'rgb(247,251,255)'], [0.125,\n",
       "                                        'rgb(222,235,247)'], [0.25,\n",
       "                                        'rgb(198,219,239)'], [0.375,\n",
       "                                        'rgb(158,202,225)'], [0.5,\n",
       "                                        'rgb(107,174,214)'], [0.625,\n",
       "                                        'rgb(66,146,198)'], [0.75,\n",
       "                                        'rgb(33,113,181)'], [0.875,\n",
       "                                        'rgb(8,81,156)'], [1.0, 'rgb(8,48,107)']],\n",
       "                         'line': {'color': 'Grey', 'width': 0.5},\n",
       "                         'showscale': True},\n",
       "              'mode': 'markers',\n",
       "              'name': 'Feasible Trial',\n",
       "              'showlegend': False,\n",
       "              'type': 'scatter',\n",
       "              'x': [gini, entropy, entropy, log_loss, log_loss, entropy, log_loss,\n",
       "                    entropy, log_loss, log_loss, gini, entropy, log_loss, entropy,\n",
       "                    gini, log_loss, entropy, entropy, log_loss, gini, log_loss,\n",
       "                    entropy, entropy, entropy, entropy, entropy, entropy, entropy,\n",
       "                    entropy, gini],\n",
       "              'xaxis': 'x',\n",
       "              'y': [0.6821621369524409, 0.6774633600335793, 0.683048258654261,\n",
       "                    0.67112059416792, 0.6752480557790292, 0.6829433231895717,\n",
       "                    0.6773467650728136, 0.6770202991826694, 0.6823486888896662,\n",
       "                    0.6831998321032565, 0.676309069921998, 0.6831998321032565,\n",
       "                    0.6829433231895717, 0.6821971154406706, 0.6815675026525354,\n",
       "                    0.6819406065269858, 0.6804481910291837, 0.6831182156307204,\n",
       "                    0.6830832371424908, 0.6798185782410484, 0.6829316636934951,\n",
       "                    0.6835146384973242, 0.6833980435365583, 0.6829783016778015,\n",
       "                    0.670817447269929, 0.6826051978033509, 0.6835379574894773,\n",
       "                    0.6828150687327293, 0.6796553452959763, 0.6821388179602877],\n",
       "              'yaxis': 'y'},\n",
       "             {'marker': {'color': [0, 1, 2, 3, 4, 5, 6, 7, 8, 9, 10, 11, 12, 13,\n",
       "                                   14, 15, 16, 17, 18, 19, 20, 21, 22, 23, 24, 25,\n",
       "                                   26, 27, 28, 29],\n",
       "                         'colorbar': {'title': {'text': 'Trial'}, 'x': 1.0, 'xpad': 40},\n",
       "                         'colorscale': [[0.0, 'rgb(247,251,255)'], [0.125,\n",
       "                                        'rgb(222,235,247)'], [0.25,\n",
       "                                        'rgb(198,219,239)'], [0.375,\n",
       "                                        'rgb(158,202,225)'], [0.5,\n",
       "                                        'rgb(107,174,214)'], [0.625,\n",
       "                                        'rgb(66,146,198)'], [0.75,\n",
       "                                        'rgb(33,113,181)'], [0.875,\n",
       "                                        'rgb(8,81,156)'], [1.0, 'rgb(8,48,107)']],\n",
       "                         'line': {'color': 'Grey', 'width': 0.5},\n",
       "                         'showscale': False},\n",
       "              'mode': 'markers',\n",
       "              'name': 'Feasible Trial',\n",
       "              'showlegend': False,\n",
       "              'type': 'scatter',\n",
       "              'x': [27, 5, 15, 25, 32, 15, 26, 22, 10, 13, 4, 15, 12, 19, 9, 19,\n",
       "                    8, 14, 17, 7, 12, 13, 12, 11, 2, 19, 13, 17, 7, 21],\n",
       "              'xaxis': 'x2',\n",
       "              'y': [0.6821621369524409, 0.6774633600335793, 0.683048258654261,\n",
       "                    0.67112059416792, 0.6752480557790292, 0.6829433231895717,\n",
       "                    0.6773467650728136, 0.6770202991826694, 0.6823486888896662,\n",
       "                    0.6831998321032565, 0.676309069921998, 0.6831998321032565,\n",
       "                    0.6829433231895717, 0.6821971154406706, 0.6815675026525354,\n",
       "                    0.6819406065269858, 0.6804481910291837, 0.6831182156307204,\n",
       "                    0.6830832371424908, 0.6798185782410484, 0.6829316636934951,\n",
       "                    0.6835146384973242, 0.6833980435365583, 0.6829783016778015,\n",
       "                    0.670817447269929, 0.6826051978033509, 0.6835379574894773,\n",
       "                    0.6828150687327293, 0.6796553452959763, 0.6821388179602877],\n",
       "              'yaxis': 'y2'},\n",
       "             {'marker': {'color': [0, 1, 2, 3, 4, 5, 6, 7, 8, 9, 10, 11, 12, 13,\n",
       "                                   14, 15, 16, 17, 18, 19, 20, 21, 22, 23, 24, 25,\n",
       "                                   26, 27, 28, 29],\n",
       "                         'colorbar': {'title': {'text': 'Trial'}, 'x': 1.0, 'xpad': 40},\n",
       "                         'colorscale': [[0.0, 'rgb(247,251,255)'], [0.125,\n",
       "                                        'rgb(222,235,247)'], [0.25,\n",
       "                                        'rgb(198,219,239)'], [0.375,\n",
       "                                        'rgb(158,202,225)'], [0.5,\n",
       "                                        'rgb(107,174,214)'], [0.625,\n",
       "                                        'rgb(66,146,198)'], [0.75,\n",
       "                                        'rgb(33,113,181)'], [0.875,\n",
       "                                        'rgb(8,81,156)'], [1.0, 'rgb(8,48,107)']],\n",
       "                         'line': {'color': 'Grey', 'width': 0.5},\n",
       "                         'showscale': False},\n",
       "              'mode': 'markers',\n",
       "              'name': 'Feasible Trial',\n",
       "              'showlegend': False,\n",
       "              'type': 'scatter',\n",
       "              'x': [sqrt, log2, sqrt, sqrt, sqrt, log2, log2, log2, sqrt, sqrt,\n",
       "                    sqrt, sqrt, sqrt, sqrt, sqrt, sqrt, sqrt, sqrt, log2, sqrt,\n",
       "                    sqrt, sqrt, sqrt, sqrt, sqrt, sqrt, log2, log2, log2, log2],\n",
       "              'xaxis': 'x3',\n",
       "              'y': [0.6821621369524409, 0.6774633600335793, 0.683048258654261,\n",
       "                    0.67112059416792, 0.6752480557790292, 0.6829433231895717,\n",
       "                    0.6773467650728136, 0.6770202991826694, 0.6823486888896662,\n",
       "                    0.6831998321032565, 0.676309069921998, 0.6831998321032565,\n",
       "                    0.6829433231895717, 0.6821971154406706, 0.6815675026525354,\n",
       "                    0.6819406065269858, 0.6804481910291837, 0.6831182156307204,\n",
       "                    0.6830832371424908, 0.6798185782410484, 0.6829316636934951,\n",
       "                    0.6835146384973242, 0.6833980435365583, 0.6829783016778015,\n",
       "                    0.670817447269929, 0.6826051978033509, 0.6835379574894773,\n",
       "                    0.6828150687327293, 0.6796553452959763, 0.6821388179602877],\n",
       "              'yaxis': 'y3'},\n",
       "             {'marker': {'color': [0, 1, 2, 3, 4, 5, 6, 7, 8, 9, 10, 11, 12, 13,\n",
       "                                   14, 15, 16, 17, 18, 19, 20, 21, 22, 23, 24, 25,\n",
       "                                   26, 27, 28, 29],\n",
       "                         'colorbar': {'title': {'text': 'Trial'}, 'x': 1.0, 'xpad': 40},\n",
       "                         'colorscale': [[0.0, 'rgb(247,251,255)'], [0.125,\n",
       "                                        'rgb(222,235,247)'], [0.25,\n",
       "                                        'rgb(198,219,239)'], [0.375,\n",
       "                                        'rgb(158,202,225)'], [0.5,\n",
       "                                        'rgb(107,174,214)'], [0.625,\n",
       "                                        'rgb(66,146,198)'], [0.75,\n",
       "                                        'rgb(33,113,181)'], [0.875,\n",
       "                                        'rgb(8,81,156)'], [1.0, 'rgb(8,48,107)']],\n",
       "                         'line': {'color': 'Grey', 'width': 0.5},\n",
       "                         'showscale': False},\n",
       "              'mode': 'markers',\n",
       "              'name': 'Feasible Trial',\n",
       "              'showlegend': False,\n",
       "              'type': 'scatter',\n",
       "              'x': [21, 14, 32, 3, 6, 31, 3, 2, 2, 18, 20, 30, 26, 12, 25, 9, 19,\n",
       "                    26, 16, 28, 23, 30, 29, 29, 23, 28, 17, 9, 32, 23],\n",
       "              'xaxis': 'x4',\n",
       "              'y': [0.6821621369524409, 0.6774633600335793, 0.683048258654261,\n",
       "                    0.67112059416792, 0.6752480557790292, 0.6829433231895717,\n",
       "                    0.6773467650728136, 0.6770202991826694, 0.6823486888896662,\n",
       "                    0.6831998321032565, 0.676309069921998, 0.6831998321032565,\n",
       "                    0.6829433231895717, 0.6821971154406706, 0.6815675026525354,\n",
       "                    0.6819406065269858, 0.6804481910291837, 0.6831182156307204,\n",
       "                    0.6830832371424908, 0.6798185782410484, 0.6829316636934951,\n",
       "                    0.6835146384973242, 0.6833980435365583, 0.6829783016778015,\n",
       "                    0.670817447269929, 0.6826051978033509, 0.6835379574894773,\n",
       "                    0.6828150687327293, 0.6796553452959763, 0.6821388179602877],\n",
       "              'yaxis': 'y4'},\n",
       "             {'marker': {'color': [0, 1, 2, 3, 4, 5, 6, 7, 8, 9, 10, 11, 12, 13,\n",
       "                                   14, 15, 16, 17, 18, 19, 20, 21, 22, 23, 24, 25,\n",
       "                                   26, 27, 28, 29],\n",
       "                         'colorbar': {'title': {'text': 'Trial'}, 'x': 1.0, 'xpad': 40},\n",
       "                         'colorscale': [[0.0, 'rgb(247,251,255)'], [0.125,\n",
       "                                        'rgb(222,235,247)'], [0.25,\n",
       "                                        'rgb(198,219,239)'], [0.375,\n",
       "                                        'rgb(158,202,225)'], [0.5,\n",
       "                                        'rgb(107,174,214)'], [0.625,\n",
       "                                        'rgb(66,146,198)'], [0.75,\n",
       "                                        'rgb(33,113,181)'], [0.875,\n",
       "                                        'rgb(8,81,156)'], [1.0, 'rgb(8,48,107)']],\n",
       "                         'line': {'color': 'Grey', 'width': 0.5},\n",
       "                         'showscale': False},\n",
       "              'mode': 'markers',\n",
       "              'name': 'Feasible Trial',\n",
       "              'showlegend': False,\n",
       "              'type': 'scatter',\n",
       "              'x': [23, 18, 21, 7, 2, 27, 27, 17, 12, 24, 29, 21, 32, 14, 23, 20,\n",
       "                    25, 13, 32, 16, 20, 9, 10, 9, 6, 10, 3, 3, 5, 9],\n",
       "              'xaxis': 'x5',\n",
       "              'y': [0.6821621369524409, 0.6774633600335793, 0.683048258654261,\n",
       "                    0.67112059416792, 0.6752480557790292, 0.6829433231895717,\n",
       "                    0.6773467650728136, 0.6770202991826694, 0.6823486888896662,\n",
       "                    0.6831998321032565, 0.676309069921998, 0.6831998321032565,\n",
       "                    0.6829433231895717, 0.6821971154406706, 0.6815675026525354,\n",
       "                    0.6819406065269858, 0.6804481910291837, 0.6831182156307204,\n",
       "                    0.6830832371424908, 0.6798185782410484, 0.6829316636934951,\n",
       "                    0.6835146384973242, 0.6833980435365583, 0.6829783016778015,\n",
       "                    0.670817447269929, 0.6826051978033509, 0.6835379574894773,\n",
       "                    0.6828150687327293, 0.6796553452959763, 0.6821388179602877],\n",
       "              'yaxis': 'y5'},\n",
       "             {'marker': {'color': [0, 1, 2, 3, 4, 5, 6, 7, 8, 9, 10, 11, 12, 13,\n",
       "                                   14, 15, 16, 17, 18, 19, 20, 21, 22, 23, 24, 25,\n",
       "                                   26, 27, 28, 29],\n",
       "                         'colorbar': {'title': {'text': 'Trial'}, 'x': 1.0, 'xpad': 40},\n",
       "                         'colorscale': [[0.0, 'rgb(247,251,255)'], [0.125,\n",
       "                                        'rgb(222,235,247)'], [0.25,\n",
       "                                        'rgb(198,219,239)'], [0.375,\n",
       "                                        'rgb(158,202,225)'], [0.5,\n",
       "                                        'rgb(107,174,214)'], [0.625,\n",
       "                                        'rgb(66,146,198)'], [0.75,\n",
       "                                        'rgb(33,113,181)'], [0.875,\n",
       "                                        'rgb(8,81,156)'], [1.0, 'rgb(8,48,107)']],\n",
       "                         'line': {'color': 'Grey', 'width': 0.5},\n",
       "                         'showscale': False},\n",
       "              'mode': 'markers',\n",
       "              'name': 'Feasible Trial',\n",
       "              'showlegend': False,\n",
       "              'type': 'scatter',\n",
       "              'x': [212, 455, 380, 304, 111, 447, 330, 110, 331, 494, 500, 396,\n",
       "                    403, 498, 397, 252, 441, 359, 434, 247, 482, 365, 355, 172,\n",
       "                    286, 363, 333, 324, 278, 353],\n",
       "              'xaxis': 'x6',\n",
       "              'y': [0.6821621369524409, 0.6774633600335793, 0.683048258654261,\n",
       "                    0.67112059416792, 0.6752480557790292, 0.6829433231895717,\n",
       "                    0.6773467650728136, 0.6770202991826694, 0.6823486888896662,\n",
       "                    0.6831998321032565, 0.676309069921998, 0.6831998321032565,\n",
       "                    0.6829433231895717, 0.6821971154406706, 0.6815675026525354,\n",
       "                    0.6819406065269858, 0.6804481910291837, 0.6831182156307204,\n",
       "                    0.6830832371424908, 0.6798185782410484, 0.6829316636934951,\n",
       "                    0.6835146384973242, 0.6833980435365583, 0.6829783016778015,\n",
       "                    0.670817447269929, 0.6826051978033509, 0.6835379574894773,\n",
       "                    0.6828150687327293, 0.6796553452959763, 0.6821388179602877],\n",
       "              'yaxis': 'y6'}],\n",
       "    'layout': {'template': '...',\n",
       "               'title': {'text': 'Slice Plot'},\n",
       "               'width': 1800,\n",
       "               'xaxis': {'anchor': 'y',\n",
       "                         'categoryarray': [gini, entropy, log_loss],\n",
       "                         'categoryorder': 'array',\n",
       "                         'domain': [0.0, 0.1388888888888889],\n",
       "                         'title': {'text': 'criterion'},\n",
       "                         'type': 'category'},\n",
       "               'xaxis2': {'anchor': 'y2',\n",
       "                          'domain': [0.17222222222222222, 0.3111111111111111],\n",
       "                          'title': {'text': 'max_depth'}},\n",
       "               'xaxis3': {'anchor': 'y3',\n",
       "                          'categoryarray': [sqrt, log2],\n",
       "                          'categoryorder': 'array',\n",
       "                          'domain': [0.34444444444444444, 0.48333333333333334],\n",
       "                          'title': {'text': 'max_features'},\n",
       "                          'type': 'category'},\n",
       "               'xaxis4': {'anchor': 'y4',\n",
       "                          'domain': [0.5166666666666667, 0.6555555555555557],\n",
       "                          'title': {'text': 'min_samples_leaf'}},\n",
       "               'xaxis5': {'anchor': 'y5',\n",
       "                          'domain': [0.6888888888888889, 0.8277777777777777],\n",
       "                          'title': {'text': 'min_samples_split'}},\n",
       "               'xaxis6': {'anchor': 'y6', 'domain': [0.861111111111111, 1.0], 'title': {'text': 'n_estimators'}},\n",
       "               'yaxis': {'anchor': 'x', 'domain': [0.0, 1.0], 'title': {'text': 'Objective Value'}},\n",
       "               'yaxis2': {'anchor': 'x2', 'domain': [0.0, 1.0], 'matches': 'y', 'showticklabels': False},\n",
       "               'yaxis3': {'anchor': 'x3', 'domain': [0.0, 1.0], 'matches': 'y', 'showticklabels': False},\n",
       "               'yaxis4': {'anchor': 'x4', 'domain': [0.0, 1.0], 'matches': 'y', 'showticklabels': False},\n",
       "               'yaxis5': {'anchor': 'x5', 'domain': [0.0, 1.0], 'matches': 'y', 'showticklabels': False},\n",
       "               'yaxis6': {'anchor': 'x6', 'domain': [0.0, 1.0], 'matches': 'y', 'showticklabels': False}}\n",
       "})"
      ]
     },
     "execution_count": 22,
     "metadata": {},
     "output_type": "execute_result"
    }
   ],
   "source": [
    "optuna.visualization.plot_slice(study, params = ['n_estimators',\n",
    "'max_depth',\n",
    "'min_samples_split',\n",
    "'min_samples_leaf',\n",
    "'max_features',\n",
    "'criterion',])"
   ]
  },
  {
   "cell_type": "code",
   "execution_count": null,
   "metadata": {},
   "outputs": [],
   "source": []
  }
 ],
 "metadata": {
  "kernelspec": {
   "display_name": "nba_env",
   "language": "python",
   "name": "python3"
  },
  "language_info": {
   "codemirror_mode": {
    "name": "ipython",
    "version": 3
   },
   "file_extension": ".py",
   "mimetype": "text/x-python",
   "name": "python",
   "nbconvert_exporter": "python",
   "pygments_lexer": "ipython3",
   "version": "3.12.3"
  }
 },
 "nbformat": 4,
 "nbformat_minor": 2
}
