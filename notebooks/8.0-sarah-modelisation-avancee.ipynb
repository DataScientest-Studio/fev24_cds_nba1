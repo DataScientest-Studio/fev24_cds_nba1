{
 "cells": [
  {
   "cell_type": "code",
   "execution_count": 10,
   "metadata": {},
   "outputs": [
    {
     "data": {
      "text/plain": [
       "Index(['Shot Distance', 'Season Type', 'Shot Zone Basic_In The Paint (Non-RA)',\n",
       "       'Shot Zone Basic_Right Corner 3', 'Shot Zone Area_Right Side(R)',\n",
       "       'Shot Zone Range_8-16 ft.', 'at_home', 'PREVIOUS_OFF_MISSED', 'Age',\n",
       "       'ASTM', 'ORBM', 'FT%', 'height', 'weight', 'C', 'SG-PG', 'E_DEF_RATING',\n",
       "       'PCT_AREA', 'DETAILLED_SHOT_TYPE_JUMP SHOT', 'target'],\n",
       "      dtype='object')"
      ]
     },
     "execution_count": 10,
     "metadata": {},
     "output_type": "execute_result"
    }
   ],
   "source": [
    "import numpy as np\n",
    "import xgboost as xgb\n",
    "import optuna\n",
    "from optuna.visualization import plot_optimization_history\n",
    "import pandas as pd \n",
    "from sklearn.metrics import accuracy_score, f1_score\n",
    "from sklearn.model_selection import train_test_split\n",
    "from sklearn.feature_selection import VarianceThreshold\n",
    "from sklearn.preprocessing import StandardScaler\n",
    "\n",
    "df = pd.read_csv(\"../data/processed/all_shots_final-v2.csv\", index_col=0)\n",
    "df.drop(['PLAYER1_NAME'], axis=1, inplace=True)\n",
    "df.dropna(inplace=True)\n",
    "df.columns"
   ]
  },
  {
   "cell_type": "markdown",
   "metadata": {},
   "source": [
    "## Séparation des données"
   ]
  },
  {
   "cell_type": "code",
   "execution_count": 11,
   "metadata": {},
   "outputs": [],
   "source": [
    "# prepare data for modeling   \n",
    "X = df.drop('target', axis = 1)\n",
    "y = df.target\n",
    "\n",
    "X_train, X_test, y_train, y_test = train_test_split(X, y, test_size=0.20, stratify=y, shuffle=True)"
   ]
  },
  {
   "cell_type": "markdown",
   "metadata": {},
   "source": [
    "## Standardisation et réduction de dimension"
   ]
  },
  {
   "cell_type": "code",
   "execution_count": 12,
   "metadata": {},
   "outputs": [],
   "source": [
    "scaler = StandardScaler()\n",
    "X_train_scaled = scaler.fit_transform(X_train)\n",
    "X_test_scaled = scaler.transform(X_test)\n",
    "\n",
    "df_scaled = pd.DataFrame(X_train_scaled, columns=X_train.columns)\n",
    "df_scaled['target'] = y_train\n",
    "\n",
    "# réduction de dimensions\n",
    "sel_var = VarianceThreshold(0.0001)\n",
    "X_train_scaled = sel_var.fit_transform(X_train_scaled, y_train)\n",
    "X_test_scaled = sel_var.transform(X_test_scaled)"
   ]
  },
  {
   "cell_type": "markdown",
   "metadata": {},
   "source": [
    "## XGBoost"
   ]
  },
  {
   "cell_type": "code",
   "execution_count": 16,
   "metadata": {},
   "outputs": [
    {
     "name": "stderr",
     "output_type": "stream",
     "text": [
      "[I 2024-09-29 09:32:20,392] A new study created in memory with name: no-name-d4924156-25cc-48dd-82b9-510226349833\n",
      "[I 2024-09-29 09:32:21,973] Trial 0 finished with value: 0.5645644595240594 and parameters: {'booster': 'dart', 'lambda': 0.00017663455485090256, 'alpha': 0.0011451390130396597, 'subsample': 0.6729488573361504, 'colsample_bytree': 0.7746800468691908, 'max_depth': 9, 'min_child_weight': 4, 'eta': 0.0006354985924249337, 'gamma': 1.0875921433686762e-05, 'grow_policy': 'lossguide', 'sample_type': 'weighted', 'normalize_type': 'forest', 'rate_drop': 0.012235251293054293, 'skip_drop': 0.0008846827664908837}. Best is trial 0 with value: 0.5645644595240594.\n",
      "[I 2024-09-29 09:32:22,163] Trial 1 finished with value: 0.6739305327223757 and parameters: {'booster': 'gblinear', 'lambda': 0.016589581779152967, 'alpha': 1.2094464151932313e-08, 'subsample': 0.8053680207424867, 'colsample_bytree': 0.7350641807360068}. Best is trial 1 with value: 0.6739305327223757.\n",
      "[I 2024-09-29 09:32:22,331] Trial 2 finished with value: 0.6740587871792181 and parameters: {'booster': 'gblinear', 'lambda': 0.0002946874806740835, 'alpha': 7.061111413598189e-07, 'subsample': 0.7532558342755147, 'colsample_bytree': 0.9463351107543431}. Best is trial 2 with value: 0.6740587871792181.\n",
      "[I 2024-09-29 09:32:22,472] Trial 3 finished with value: 0.5645644595240594 and parameters: {'booster': 'gblinear', 'lambda': 0.0002567073732869018, 'alpha': 0.8866006585339498, 'subsample': 0.9263709895433914, 'colsample_bytree': 0.9718609857266597}. Best is trial 2 with value: 0.6740587871792181.\n",
      "[I 2024-09-29 09:32:22,637] Trial 4 finished with value: 0.6752247367868761 and parameters: {'booster': 'gblinear', 'lambda': 5.69088919570516e-05, 'alpha': 0.006164340132814618, 'subsample': 0.6434090617258775, 'colsample_bytree': 0.8470079847763676}. Best is trial 4 with value: 0.6752247367868761.\n",
      "[I 2024-09-29 09:32:23,488] Trial 5 finished with value: 0.5645644595240594 and parameters: {'booster': 'dart', 'lambda': 0.0002362299322576453, 'alpha': 0.0022740045685392596, 'subsample': 0.49406716314459004, 'colsample_bytree': 0.9005006156676503, 'max_depth': 5, 'min_child_weight': 6, 'eta': 9.384818383261973e-08, 'gamma': 4.737659378013459e-05, 'grow_policy': 'depthwise', 'sample_type': 'weighted', 'normalize_type': 'tree', 'rate_drop': 0.00029632454333644093, 'skip_drop': 6.774571347848054e-07}. Best is trial 4 with value: 0.6752247367868761.\n",
      "[I 2024-09-29 09:32:23,883] Trial 6 finished with value: 0.6765306003474529 and parameters: {'booster': 'gbtree', 'lambda': 5.0794460776542196e-08, 'alpha': 3.2983150813660233e-07, 'subsample': 0.7919017150754073, 'colsample_bytree': 0.7007733270689646, 'max_depth': 3, 'min_child_weight': 10, 'eta': 0.39942287449122316, 'gamma': 0.03038705379341389, 'grow_policy': 'lossguide'}. Best is trial 6 with value: 0.6765306003474529.\n",
      "[I 2024-09-29 09:32:24,037] Trial 7 finished with value: 0.6740704466752947 and parameters: {'booster': 'gblinear', 'lambda': 0.00037260252254052743, 'alpha': 2.429573252265458e-07, 'subsample': 0.28901690691590265, 'colsample_bytree': 0.7050282569866582}. Best is trial 6 with value: 0.6765306003474529.\n",
      "[I 2024-09-29 09:32:24,968] Trial 8 finished with value: 0.5645644595240594 and parameters: {'booster': 'gbtree', 'lambda': 4.255507311144443e-07, 'alpha': 0.0020032067995748117, 'subsample': 0.205866822439598, 'colsample_bytree': 0.9759472683752777, 'max_depth': 7, 'min_child_weight': 8, 'eta': 2.5447660797160656e-06, 'gamma': 5.490470836952319e-06, 'grow_policy': 'lossguide'}. Best is trial 6 with value: 0.6765306003474529.\n",
      "[I 2024-09-29 09:32:26,013] Trial 9 finished with value: 0.5645644595240594 and parameters: {'booster': 'dart', 'lambda': 0.004752276186938671, 'alpha': 0.00041512579285493613, 'subsample': 0.3803874724935423, 'colsample_bytree': 0.759713352573459, 'max_depth': 7, 'min_child_weight': 3, 'eta': 6.78600708902378e-05, 'gamma': 0.0003443195843803464, 'grow_policy': 'depthwise', 'sample_type': 'weighted', 'normalize_type': 'forest', 'rate_drop': 6.394159651730093e-05, 'skip_drop': 3.544196350666959e-07}. Best is trial 6 with value: 0.6765306003474529.\n",
      "[I 2024-09-29 09:32:26,438] Trial 10 finished with value: 0.6770202991826694 and parameters: {'booster': 'gbtree', 'lambda': 1.4667140312791672e-08, 'alpha': 8.484494515479239e-06, 'subsample': 0.9938043903786268, 'colsample_bytree': 0.8330673193431718, 'max_depth': 3, 'min_child_weight': 10, 'eta': 0.5661204108536254, 'gamma': 0.9812355253968497, 'grow_policy': 'lossguide'}. Best is trial 10 with value: 0.6770202991826694.\n",
      "[I 2024-09-29 09:32:26,878] Trial 11 finished with value: 0.6774866790257326 and parameters: {'booster': 'gbtree', 'lambda': 3.527594772536513e-08, 'alpha': 8.133467560031941e-06, 'subsample': 0.9654627322524638, 'colsample_bytree': 0.8114586481547498, 'max_depth': 3, 'min_child_weight': 10, 'eta': 0.983440512784924, 'gamma': 0.8428461126878931, 'grow_policy': 'lossguide'}. Best is trial 11 with value: 0.6774866790257326.\n",
      "[I 2024-09-29 09:32:27,336] Trial 12 finished with value: 0.6781279513099444 and parameters: {'booster': 'gbtree', 'lambda': 1.0306274533770173e-08, 'alpha': 4.8657089248510754e-06, 'subsample': 0.9773070108561712, 'colsample_bytree': 0.8335484146320662, 'max_depth': 3, 'min_child_weight': 10, 'eta': 0.43932210380965137, 'gamma': 0.7134553193898917, 'grow_policy': 'lossguide'}. Best is trial 12 with value: 0.6781279513099444.\n",
      "[I 2024-09-29 09:32:27,820] Trial 13 finished with value: 0.5645644595240594 and parameters: {'booster': 'gbtree', 'lambda': 1.4343766285051843e-06, 'alpha': 1.1918050898581142e-05, 'subsample': 0.9001108320339827, 'colsample_bytree': 0.8099811515213953, 'max_depth': 3, 'min_child_weight': 8, 'eta': 0.007599022313820056, 'gamma': 1.1917400032208648e-08, 'grow_policy': 'lossguide'}. Best is trial 12 with value: 0.6781279513099444.\n",
      "[I 2024-09-29 09:32:28,473] Trial 14 finished with value: 0.6653724626021663 and parameters: {'booster': 'gbtree', 'lambda': 0.7649838383745826, 'alpha': 2.644798662957866e-05, 'subsample': 0.9815070073786271, 'colsample_bytree': 0.9003899997689329, 'max_depth': 5, 'min_child_weight': 8, 'eta': 0.04624666078628184, 'gamma': 0.5492852606749173, 'grow_policy': 'lossguide'}. Best is trial 12 with value: 0.6781279513099444.\n",
      "[I 2024-09-29 09:32:29,014] Trial 15 finished with value: 0.5645644595240594 and parameters: {'booster': 'gbtree', 'lambda': 5.169079274580253e-07, 'alpha': 2.064716865213716e-06, 'subsample': 0.5238431663466159, 'colsample_bytree': 0.7966585967588291, 'max_depth': 3, 'min_child_weight': 10, 'eta': 0.007941321821088866, 'gamma': 0.006832159593768382, 'grow_policy': 'lossguide'}. Best is trial 12 with value: 0.6781279513099444.\n",
      "[I 2024-09-29 09:32:29,742] Trial 16 finished with value: 0.680191682115499 and parameters: {'booster': 'gbtree', 'lambda': 3.7464323183338406e-06, 'alpha': 0.0001232411444965965, 'subsample': 0.8679627075310142, 'colsample_bytree': 0.8866019782683039, 'max_depth': 5, 'min_child_weight': 6, 'eta': 0.7739198875306327, 'gamma': 0.02693650648881633, 'grow_policy': 'depthwise'}. Best is trial 16 with value: 0.680191682115499.\n",
      "[I 2024-09-29 09:32:30,444] Trial 17 finished with value: 0.5666748283139202 and parameters: {'booster': 'gbtree', 'lambda': 1.1258281977022069e-05, 'alpha': 0.03490800333137301, 'subsample': 0.8385490400235437, 'colsample_bytree': 0.8834462193481605, 'max_depth': 5, 'min_child_weight': 6, 'eta': 0.01868149025995766, 'gamma': 0.01601779609057383, 'grow_policy': 'depthwise'}. Best is trial 16 with value: 0.680191682115499.\n",
      "[I 2024-09-29 09:32:31,247] Trial 18 finished with value: 0.5645644595240594 and parameters: {'booster': 'gbtree', 'lambda': 4.166383117471618e-06, 'alpha': 9.270992213192295e-05, 'subsample': 0.7201733041705977, 'colsample_bytree': 0.8788519023758957, 'max_depth': 5, 'min_child_weight': 5, 'eta': 0.0001882416345064327, 'gamma': 0.0014335044436268017, 'grow_policy': 'depthwise'}. Best is trial 16 with value: 0.680191682115499.\n",
      "[I 2024-09-29 09:32:32,189] Trial 19 finished with value: 0.676390686394534 and parameters: {'booster': 'gbtree', 'lambda': 1.5701776016079522e-07, 'alpha': 4.812562213961896e-08, 'subsample': 0.8701328224152292, 'colsample_bytree': 0.92501257439117, 'max_depth': 7, 'min_child_weight': 2, 'eta': 0.06407787062103, 'gamma': 0.06395999590277153, 'grow_policy': 'depthwise'}. Best is trial 16 with value: 0.680191682115499.\n",
      "[I 2024-09-29 09:32:33,041] Trial 20 finished with value: 0.5645644595240594 and parameters: {'booster': 'dart', 'lambda': 1.8432720377813048e-05, 'alpha': 0.00016718852040888474, 'subsample': 0.5456522650632121, 'colsample_bytree': 0.8653944408391973, 'max_depth': 5, 'min_child_weight': 7, 'eta': 0.0015381521260796258, 'gamma': 0.07970571745037613, 'grow_policy': 'depthwise', 'sample_type': 'uniform', 'normalize_type': 'tree', 'rate_drop': 1.32969252380502e-08, 'skip_drop': 0.12184418328447415}. Best is trial 16 with value: 0.680191682115499.\n",
      "[I 2024-09-29 09:32:33,476] Trial 21 finished with value: 0.67872258560985 and parameters: {'booster': 'gbtree', 'lambda': 1.12657560669485e-08, 'alpha': 2.7533301873336584e-06, 'subsample': 0.9260053041552174, 'colsample_bytree': 0.813566847262665, 'max_depth': 3, 'min_child_weight': 9, 'eta': 0.7592179656945305, 'gamma': 0.574629072371495, 'grow_policy': 'lossguide'}. Best is trial 16 with value: 0.680191682115499.\n",
      "[I 2024-09-29 09:32:33,948] Trial 22 finished with value: 0.6771485536395117 and parameters: {'booster': 'gbtree', 'lambda': 1.1344858977560853e-08, 'alpha': 1.8903133367431702e-06, 'subsample': 0.8882559705080622, 'colsample_bytree': 0.8438735857775769, 'max_depth': 3, 'min_child_weight': 9, 'eta': 0.11019267309854741, 'gamma': 0.26044020766960807, 'grow_policy': 'lossguide'}. Best is trial 16 with value: 0.680191682115499.\n",
      "[I 2024-09-29 09:32:34,387] Trial 23 finished with value: 0.6768687257336737 and parameters: {'booster': 'gbtree', 'lambda': 1.4563517814139267e-07, 'alpha': 4.8501951817287105e-05, 'subsample': 0.9218898689085158, 'colsample_bytree': 0.8268360496780185, 'max_depth': 3, 'min_child_weight': 7, 'eta': 0.17065251814555182, 'gamma': 0.0048349380283786445, 'grow_policy': 'depthwise'}. Best is trial 16 with value: 0.680191682115499.\n",
      "[I 2024-09-29 09:32:35,001] Trial 24 finished with value: 0.5645644595240594 and parameters: {'booster': 'gbtree', 'lambda': 2.2794081126575973e-06, 'alpha': 2.5118473269649554e-06, 'subsample': 0.851152212574513, 'colsample_bytree': 0.7866208793491016, 'max_depth': 5, 'min_child_weight': 9, 'eta': 6.86880357350501e-06, 'gamma': 0.13246194352049342, 'grow_policy': 'lossguide'}. Best is trial 16 with value: 0.680191682115499.\n",
      "[I 2024-09-29 09:32:35,607] Trial 25 finished with value: 0.678582671656931 and parameters: {'booster': 'gbtree', 'lambda': 1.517750384349298e-07, 'alpha': 4.7175536113536835e-08, 'subsample': 0.7286805409215839, 'colsample_bytree': 0.9230442330552705, 'max_depth': 3, 'min_child_weight': 6, 'eta': 0.7680016346464321, 'gamma': 0.0011985998358388953, 'grow_policy': 'lossguide'}. Best is trial 16 with value: 0.680191682115499.\n",
      "[I 2024-09-29 09:32:37,011] Trial 26 finished with value: 0.5645644595240594 and parameters: {'booster': 'gbtree', 'lambda': 1.42729017323352e-07, 'alpha': 4.073338713093635e-08, 'subsample': 0.7074243736106912, 'colsample_bytree': 0.9329828336769216, 'max_depth': 9, 'min_child_weight': 5, 'eta': 0.0033660169947043396, 'gamma': 0.0009471965215038781, 'grow_policy': 'depthwise'}. Best is trial 16 with value: 0.680191682115499.\n",
      "[I 2024-09-29 09:32:37,933] Trial 27 finished with value: 0.5645644595240594 and parameters: {'booster': 'gbtree', 'lambda': 9.263268221694215e-07, 'alpha': 1.5045402111711732e-07, 'subsample': 0.6010472277965057, 'colsample_bytree': 0.996903858667863, 'max_depth': 5, 'min_child_weight': 6, 'eta': 1.9725348486780175e-08, 'gamma': 9.382532677147382e-05, 'grow_policy': 'lossguide'}. Best is trial 16 with value: 0.680191682115499.\n",
      "[I 2024-09-29 09:32:38,544] Trial 28 finished with value: 0.5645644595240594 and parameters: {'booster': 'dart', 'lambda': 6.250465351099296e-08, 'alpha': 1.2145308056461768e-08, 'subsample': 0.7580975399165784, 'colsample_bytree': 0.9029088153982888, 'max_depth': 3, 'min_child_weight': 5, 'eta': 0.035600749459376364, 'gamma': 2.5854136912026833e-07, 'grow_policy': 'depthwise', 'sample_type': 'uniform', 'normalize_type': 'tree', 'rate_drop': 0.9376857615114164, 'skip_drop': 0.277233506166302}. Best is trial 16 with value: 0.680191682115499.\n",
      "[I 2024-09-29 09:32:39,803] Trial 29 finished with value: 0.6816141406368417 and parameters: {'booster': 'gbtree', 'lambda': 1.1105270868974914e-05, 'alpha': 6.767137965115558e-07, 'subsample': 0.6550895195011325, 'colsample_bytree': 0.8695928824981252, 'max_depth': 7, 'min_child_weight': 7, 'eta': 0.16031967938328112, 'gamma': 0.0034578580031325826, 'grow_policy': 'lossguide'}. Best is trial 29 with value: 0.6816141406368417.\n",
      "[I 2024-09-29 09:32:41,547] Trial 30 finished with value: 0.6810661443212425 and parameters: {'booster': 'dart', 'lambda': 5.4473676987508355e-05, 'alpha': 0.0004828040058966788, 'subsample': 0.6544476058646931, 'colsample_bytree': 0.8663629140489884, 'max_depth': 7, 'min_child_weight': 7, 'eta': 0.1285871327804372, 'gamma': 0.00855714301931149, 'grow_policy': 'lossguide', 'sample_type': 'uniform', 'normalize_type': 'forest', 'rate_drop': 2.14823062694215e-08, 'skip_drop': 1.325687487614362e-08}. Best is trial 29 with value: 0.6816141406368417.\n",
      "[I 2024-09-29 09:32:43,161] Trial 31 finished with value: 0.6802849580841116 and parameters: {'booster': 'dart', 'lambda': 0.0019478545074704389, 'alpha': 0.00025827731240911876, 'subsample': 0.4465142244949752, 'colsample_bytree': 0.8701338592989977, 'max_depth': 7, 'min_child_weight': 7, 'eta': 0.1375308380347511, 'gamma': 0.007766746429960348, 'grow_policy': 'lossguide', 'sample_type': 'uniform', 'normalize_type': 'forest', 'rate_drop': 1.601863354776556e-08, 'skip_drop': 1.6250525462967687e-08}. Best is trial 29 with value: 0.6816141406368417.\n",
      "[I 2024-09-29 09:32:44,756] Trial 32 finished with value: 0.6812760152506209 and parameters: {'booster': 'dart', 'lambda': 0.0047162249807889516, 'alpha': 0.0004171063819378436, 'subsample': 0.4798303545569113, 'colsample_bytree': 0.8675023577207528, 'max_depth': 7, 'min_child_weight': 7, 'eta': 0.1322768600544613, 'gamma': 0.006417537846511308, 'grow_policy': 'lossguide', 'sample_type': 'uniform', 'normalize_type': 'forest', 'rate_drop': 3.746110166897828e-08, 'skip_drop': 1.212797630189123e-08}. Best is trial 29 with value: 0.6816141406368417.\n",
      "[I 2024-09-29 09:32:46,411] Trial 33 finished with value: 0.5677824804411953 and parameters: {'booster': 'dart', 'lambda': 0.002596216878458668, 'alpha': 0.000504920751396847, 'subsample': 0.4301238659507254, 'colsample_bytree': 0.8605568344720829, 'max_depth': 7, 'min_child_weight': 7, 'eta': 0.016368494250338247, 'gamma': 0.005421101480405833, 'grow_policy': 'lossguide', 'sample_type': 'uniform', 'normalize_type': 'forest', 'rate_drop': 1.2390299139424626e-08, 'skip_drop': 2.2349244810602e-08}. Best is trial 29 with value: 0.6816141406368417.\n",
      "[I 2024-09-29 09:32:48,039] Trial 34 finished with value: 0.6807746569193279 and parameters: {'booster': 'dart', 'lambda': 0.03896065174985104, 'alpha': 0.012575181356249463, 'subsample': 0.4326558512830296, 'colsample_bytree': 0.8624216246610887, 'max_depth': 7, 'min_child_weight': 7, 'eta': 0.1439698111741143, 'gamma': 0.000349131509907191, 'grow_policy': 'lossguide', 'sample_type': 'uniform', 'normalize_type': 'forest', 'rate_drop': 3.185642997659791e-07, 'skip_drop': 1.579230847476362e-08}. Best is trial 29 with value: 0.6816141406368417.\n",
      "[I 2024-09-29 09:32:50,143] Trial 35 finished with value: 0.5645644595240594 and parameters: {'booster': 'dart', 'lambda': 0.04426212529232652, 'alpha': 0.04136538891336599, 'subsample': 0.6533181693821106, 'colsample_bytree': 0.8526679875213047, 'max_depth': 9, 'min_child_weight': 8, 'eta': 0.0006220864314488271, 'gamma': 0.00019144210695392282, 'grow_policy': 'lossguide', 'sample_type': 'uniform', 'normalize_type': 'forest', 'rate_drop': 1.0291667246121046e-06, 'skip_drop': 1.018548808597159e-08}. Best is trial 29 with value: 0.6816141406368417.\n",
      "[I 2024-09-29 09:32:52,535] Trial 36 finished with value: 0.6814159292035398 and parameters: {'booster': 'dart', 'lambda': 0.03751889830263587, 'alpha': 0.017317697424105542, 'subsample': 0.5935315323557822, 'colsample_bytree': 0.9105382597175595, 'max_depth': 9, 'min_child_weight': 7, 'eta': 0.15296507677700635, 'gamma': 0.0025416429744895535, 'grow_policy': 'lossguide', 'sample_type': 'uniform', 'normalize_type': 'forest', 'rate_drop': 8.461917286257703e-07, 'skip_drop': 1.5229897531431156e-06}. Best is trial 29 with value: 0.6816141406368417.\n",
      "[I 2024-09-29 09:32:54,746] Trial 37 finished with value: 0.5645644595240594 and parameters: {'booster': 'dart', 'lambda': 0.5163482999764647, 'alpha': 0.555976897514931, 'subsample': 0.5971829682080594, 'colsample_bytree': 0.9073705864251539, 'max_depth': 9, 'min_child_weight': 4, 'eta': 0.005271993814892552, 'gamma': 0.001825558994988095, 'grow_policy': 'lossguide', 'sample_type': 'uniform', 'normalize_type': 'forest', 'rate_drop': 6.753495244827271e-07, 'skip_drop': 2.8156838946706106e-06}. Best is trial 29 with value: 0.6816141406368417.\n",
      "[I 2024-09-29 09:32:56,972] Trial 38 finished with value: 0.5841407534366365 and parameters: {'booster': 'dart', 'lambda': 4.865829129463835e-05, 'alpha': 0.13702261256162124, 'subsample': 0.599095080209126, 'colsample_bytree': 0.9444346658255063, 'max_depth': 9, 'min_child_weight': 8, 'eta': 0.02250576417116924, 'gamma': 2.0704716415685104e-05, 'grow_policy': 'lossguide', 'sample_type': 'uniform', 'normalize_type': 'forest', 'rate_drop': 3.526485910204403e-07, 'skip_drop': 2.7592867083649692e-05}. Best is trial 29 with value: 0.6816141406368417.\n",
      "[I 2024-09-29 09:32:57,217] Trial 39 finished with value: 0.6739421922184523 and parameters: {'booster': 'gblinear', 'lambda': 0.0008227197984629926, 'alpha': 0.0010697165365388674, 'subsample': 0.5569451000799532, 'colsample_bytree': 0.9606980527339897}. Best is trial 29 with value: 0.6816141406368417.\n",
      "[I 2024-09-29 09:32:58,864] Trial 40 finished with value: 0.5645644595240594 and parameters: {'booster': 'dart', 'lambda': 0.1433954363804841, 'alpha': 0.004828512822077445, 'subsample': 0.4911312991544456, 'colsample_bytree': 0.9102909526356394, 'max_depth': 7, 'min_child_weight': 7, 'eta': 0.0012504205840033443, 'gamma': 2.7620216281319674e-06, 'grow_policy': 'lossguide', 'sample_type': 'uniform', 'normalize_type': 'forest', 'rate_drop': 9.264994309193142e-06, 'skip_drop': 2.748454925134304e-07}. Best is trial 29 with value: 0.6816141406368417.\n",
      "[I 2024-09-29 09:33:00,530] Trial 41 finished with value: 0.6796320263038231 and parameters: {'booster': 'dart', 'lambda': 0.012500808467537464, 'alpha': 0.019211904897836914, 'subsample': 0.3560966747371159, 'colsample_bytree': 0.884194310115905, 'max_depth': 7, 'min_child_weight': 7, 'eta': 0.17655667100260958, 'gamma': 0.00041785577146829893, 'grow_policy': 'lossguide', 'sample_type': 'uniform', 'normalize_type': 'forest', 'rate_drop': 1.64177541727428e-07, 'skip_drop': 7.939801754517021e-08}. Best is trial 29 with value: 0.6816141406368417.\n",
      "[I 2024-09-29 09:33:02,163] Trial 42 finished with value: 0.679911854209661 and parameters: {'booster': 'dart', 'lambda': 0.021550153886507207, 'alpha': 0.00837989629988712, 'subsample': 0.6719833843461236, 'colsample_bytree': 0.8482044015723594, 'max_depth': 7, 'min_child_weight': 7, 'eta': 0.09864096219596627, 'gamma': 5.5662108865233346e-05, 'grow_policy': 'lossguide', 'sample_type': 'uniform', 'normalize_type': 'forest', 'rate_drop': 1.3656199507064446e-07, 'skip_drop': 9.442292084426312e-06}. Best is trial 29 with value: 0.6816141406368417.\n",
      "[I 2024-09-29 09:33:03,747] Trial 43 finished with value: 0.6808212949036343 and parameters: {'booster': 'dart', 'lambda': 0.09953882983496692, 'alpha': 0.0011955649476340995, 'subsample': 0.45272341187165877, 'colsample_bytree': 0.8694726125095829, 'max_depth': 7, 'min_child_weight': 8, 'eta': 0.2792266272693418, 'gamma': 0.0027886889129215098, 'grow_policy': 'lossguide', 'sample_type': 'uniform', 'normalize_type': 'forest', 'rate_drop': 4.113320473188182e-06, 'skip_drop': 0.0002619090629416396}. Best is trial 29 with value: 0.6816141406368417.\n",
      "[I 2024-09-29 09:33:05,903] Trial 44 finished with value: 0.6821271584642111 and parameters: {'booster': 'dart', 'lambda': 0.00015132666528114774, 'alpha': 0.0007924451904003184, 'subsample': 0.6238928821113294, 'colsample_bytree': 0.8986582213479409, 'max_depth': 9, 'min_child_weight': 8, 'eta': 0.2618840671161039, 'gamma': 0.019113784352968063, 'grow_policy': 'lossguide', 'sample_type': 'uniform', 'normalize_type': 'forest', 'rate_drop': 6.091609162701869e-06, 'skip_drop': 0.0006658553325996296}. Best is trial 44 with value: 0.6821271584642111.\n",
      "[I 2024-09-29 09:33:06,144] Trial 45 finished with value: 0.6739305327223757 and parameters: {'booster': 'gblinear', 'lambda': 7.005819644550437e-05, 'alpha': 0.00046253507462241353, 'subsample': 0.631893909364537, 'colsample_bytree': 0.9169693231267456}. Best is trial 44 with value: 0.6821271584642111.\n",
      "[I 2024-09-29 09:33:08,198] Trial 46 finished with value: 0.5645644595240594 and parameters: {'booster': 'dart', 'lambda': 0.00017761771096788074, 'alpha': 0.002244616987781639, 'subsample': 0.7817553564427457, 'colsample_bytree': 0.8948017984170532, 'max_depth': 9, 'min_child_weight': 9, 'eta': 7.317379666499058e-07, 'gamma': 0.021376315955631723, 'grow_policy': 'lossguide', 'sample_type': 'uniform', 'normalize_type': 'forest', 'rate_drop': 2.0706456928813062e-05, 'skip_drop': 0.0030961968940259434}. Best is trial 44 with value: 0.6821271584642111.\n",
      "[I 2024-09-29 09:33:09,999] Trial 47 finished with value: 0.6594610980913405 and parameters: {'booster': 'dart', 'lambda': 0.0006530198121338279, 'alpha': 2.2633788744447686e-05, 'subsample': 0.6983956929665117, 'colsample_bytree': 0.7619174769256916, 'max_depth': 9, 'min_child_weight': 8, 'eta': 0.0430707893234382, 'gamma': 0.012560878978882086, 'grow_policy': 'lossguide', 'sample_type': 'uniform', 'normalize_type': 'forest', 'rate_drop': 6.150746160432666e-08, 'skip_drop': 0.006843969250486643}. Best is trial 44 with value: 0.6821271584642111.\n",
      "[I 2024-09-29 09:33:12,152] Trial 48 finished with value: 0.5645644595240594 and parameters: {'booster': 'dart', 'lambda': 0.007332562214217916, 'alpha': 0.0033060088333697643, 'subsample': 0.5754497610304697, 'colsample_bytree': 0.939511944199696, 'max_depth': 9, 'min_child_weight': 6, 'eta': 2.5833237451863658e-05, 'gamma': 0.030238051380501996, 'grow_policy': 'lossguide', 'sample_type': 'uniform', 'normalize_type': 'forest', 'rate_drop': 1.799501057305417e-06, 'skip_drop': 2.1270279593508313e-06}. Best is trial 44 with value: 0.6821271584642111.\n",
      "[I 2024-09-29 09:33:12,387] Trial 49 finished with value: 0.6740937656674478 and parameters: {'booster': 'gblinear', 'lambda': 3.497550268088866e-05, 'alpha': 4.1680599242801316e-05, 'subsample': 0.5138208379399198, 'colsample_bytree': 0.9601790649835447}. Best is trial 44 with value: 0.6821271584642111.\n",
      "[I 2024-09-29 09:33:14,370] Trial 50 finished with value: 0.6816840976133012 and parameters: {'booster': 'dart', 'lambda': 8.237026370690902e-06, 'alpha': 0.0009095763311571298, 'subsample': 0.6365547264277267, 'colsample_bytree': 0.8897766439102534, 'max_depth': 9, 'min_child_weight': 8, 'eta': 0.3513318040327771, 'gamma': 0.003376690541624512, 'grow_policy': 'lossguide', 'sample_type': 'uniform', 'normalize_type': 'forest', 'rate_drop': 5.309952748664782e-08, 'skip_drop': 8.456775450587637e-05}. Best is trial 44 with value: 0.6821271584642111.\n",
      "[I 2024-09-29 09:33:16,343] Trial 51 finished with value: 0.681217717770238 and parameters: {'booster': 'dart', 'lambda': 8.890290917371105e-06, 'alpha': 0.0006605483030042633, 'subsample': 0.6564820667745506, 'colsample_bytree': 0.8850234980457297, 'max_depth': 9, 'min_child_weight': 8, 'eta': 0.3234949383453375, 'gamma': 0.004782480547585173, 'grow_policy': 'lossguide', 'sample_type': 'uniform', 'normalize_type': 'forest', 'rate_drop': 8.456337821973936e-08, 'skip_drop': 7.842343685547675e-05}. Best is trial 44 with value: 0.6821271584642111.\n",
      "[I 2024-09-29 09:33:18,376] Trial 52 finished with value: 0.681077803817319 and parameters: {'booster': 'dart', 'lambda': 9.293036301770825e-06, 'alpha': 0.0008081315679075477, 'subsample': 0.624009236080427, 'colsample_bytree': 0.8934817401486614, 'max_depth': 9, 'min_child_weight': 8, 'eta': 0.3203825076089858, 'gamma': 0.0006106640725814162, 'grow_policy': 'lossguide', 'sample_type': 'uniform', 'normalize_type': 'forest', 'rate_drop': 7.749580731319567e-08, 'skip_drop': 8.866584353821522e-05}. Best is trial 44 with value: 0.6821271584642111.\n",
      "[I 2024-09-29 09:33:20,347] Trial 53 finished with value: 0.6811827392820082 and parameters: {'booster': 'dart', 'lambda': 1.877093082806698e-05, 'alpha': 0.00021073559203864343, 'subsample': 0.6742097527562649, 'colsample_bytree': 0.8780557036271588, 'max_depth': 9, 'min_child_weight': 9, 'eta': 0.3735484717223107, 'gamma': 0.0022620840118106433, 'grow_policy': 'lossguide', 'sample_type': 'uniform', 'normalize_type': 'forest', 'rate_drop': 6.574789818902499e-08, 'skip_drop': 9.90067093575632e-05}. Best is trial 44 with value: 0.6821271584642111.\n",
      "[I 2024-09-29 09:33:22,421] Trial 54 finished with value: 0.6748516329124256 and parameters: {'booster': 'dart', 'lambda': 5.510296007483065e-06, 'alpha': 6.90066761693756e-05, 'subsample': 0.48183668567229754, 'colsample_bytree': 0.9133996159201178, 'max_depth': 9, 'min_child_weight': 8, 'eta': 0.05864745312324951, 'gamma': 0.05167162648673847, 'grow_policy': 'lossguide', 'sample_type': 'uniform', 'normalize_type': 'forest', 'rate_drop': 2.2423749795467995e-06, 'skip_drop': 1.4071135851588969e-05}. Best is trial 44 with value: 0.6821271584642111.\n",
      "[I 2024-09-29 09:33:24,327] Trial 55 finished with value: 0.5654272622337263 and parameters: {'booster': 'dart', 'lambda': 0.00012648319711205806, 'alpha': 0.002330407681615806, 'subsample': 0.5500414768641113, 'colsample_bytree': 0.836864936473694, 'max_depth': 9, 'min_child_weight': 8, 'eta': 0.013326433270177424, 'gamma': 0.015166725323289585, 'grow_policy': 'lossguide', 'sample_type': 'weighted', 'normalize_type': 'tree', 'rate_drop': 4.212423581621135e-07, 'skip_drop': 0.0006848748346209926}. Best is trial 44 with value: 0.6821271584642111.\n",
      "[I 2024-09-29 09:33:26,324] Trial 56 finished with value: 0.6809378898644001 and parameters: {'booster': 'dart', 'lambda': 2.3609753182322802e-05, 'alpha': 0.06258513237908052, 'subsample': 0.38845876021291514, 'colsample_bytree': 0.8896654178385113, 'max_depth': 9, 'min_child_weight': 9, 'eta': 0.3333773815138472, 'gamma': 0.0035543904879131766, 'grow_policy': 'lossguide', 'sample_type': 'uniform', 'normalize_type': 'forest', 'rate_drop': 1.6038139467531617e-05, 'skip_drop': 0.0034087767651492873}. Best is trial 44 with value: 0.6821271584642111.\n",
      "[I 2024-09-29 09:33:28,357] Trial 57 finished with value: 0.6780696538295615 and parameters: {'booster': 'dart', 'lambda': 0.00040613726364559254, 'alpha': 8.722819568856754e-07, 'subsample': 0.7542750349782319, 'colsample_bytree': 0.8777152787368048, 'max_depth': 9, 'min_child_weight': 7, 'eta': 0.8170230097491149, 'gamma': 0.00016745429259042326, 'grow_policy': 'lossguide', 'sample_type': 'uniform', 'normalize_type': 'forest', 'rate_drop': 0.0003882744444521738, 'skip_drop': 3.4065957182832534e-05}. Best is trial 44 with value: 0.6821271584642111.\n",
      "[I 2024-09-29 09:33:28,657] Trial 58 finished with value: 0.6749099303928084 and parameters: {'booster': 'gblinear', 'lambda': 9.484636465674676e-06, 'alpha': 0.0054991117098776385, 'subsample': 0.6195870608058645, 'colsample_bytree': 0.9285018073254518}. Best is trial 44 with value: 0.6821271584642111.\n",
      "[I 2024-09-29 09:33:30,824] Trial 59 finished with value: 0.6650226777198689 and parameters: {'booster': 'dart', 'lambda': 2.17078253200275e-06, 'alpha': 0.1469340932356078, 'subsample': 0.5786515319904848, 'colsample_bytree': 0.853881205445016, 'max_depth': 9, 'min_child_weight': 8, 'eta': 0.04422757873290103, 'gamma': 0.227541243514415, 'grow_policy': 'lossguide', 'sample_type': 'uniform', 'normalize_type': 'forest', 'rate_drop': 5.258260442602689e-08, 'skip_drop': 0.012911571956868656}. Best is trial 44 with value: 0.6821271584642111.\n",
      "[I 2024-09-29 09:33:33,256] Trial 60 finished with value: 0.6811011228094722 and parameters: {'booster': 'dart', 'lambda': 5.794979081460496e-07, 'alpha': 0.0014409851603062105, 'subsample': 0.6803475449511388, 'colsample_bytree': 0.826684104186634, 'max_depth': 9, 'min_child_weight': 6, 'eta': 0.30940095676953777, 'gamma': 0.001029615068506767, 'grow_policy': 'lossguide', 'sample_type': 'weighted', 'normalize_type': 'forest', 'rate_drop': 7.874839981989248e-07, 'skip_drop': 0.0005650095892100577}. Best is trial 44 with value: 0.6821271584642111.\n",
      "[I 2024-09-29 09:33:35,593] Trial 61 finished with value: 0.6815791621486119 and parameters: {'booster': 'dart', 'lambda': 1.361968933771414e-05, 'alpha': 1.5235310717410962e-05, 'subsample': 0.6925911330915436, 'colsample_bytree': 0.878387026421243, 'max_depth': 9, 'min_child_weight': 9, 'eta': 0.3677890843624189, 'gamma': 0.002734374501860045, 'grow_policy': 'lossguide', 'sample_type': 'uniform', 'normalize_type': 'forest', 'rate_drop': 6.238881249247209e-08, 'skip_drop': 0.00017248901818164945}. Best is trial 44 with value: 0.6821271584642111.\n",
      "[I 2024-09-29 09:33:37,765] Trial 62 finished with value: 0.6737789592733802 and parameters: {'booster': 'dart', 'lambda': 4.494428845740974e-06, 'alpha': 1.1110020818814702e-05, 'subsample': 0.730177120478782, 'colsample_bytree': 0.8995097079474814, 'max_depth': 9, 'min_child_weight': 9, 'eta': 0.9853519071483712, 'gamma': 0.04017380736726892, 'grow_policy': 'lossguide', 'sample_type': 'uniform', 'normalize_type': 'forest', 'rate_drop': 5.088687209780921e-08, 'skip_drop': 0.0001654354313055554}. Best is trial 44 with value: 0.6821271584642111.\n",
      "[I 2024-09-29 09:33:39,997] Trial 63 finished with value: 0.6800984061468863 and parameters: {'booster': 'dart', 'lambda': 0.00010713092694613351, 'alpha': 0.00011431096125171484, 'subsample': 0.5256979648614366, 'colsample_bytree': 0.8772691518936162, 'max_depth': 9, 'min_child_weight': 10, 'eta': 0.0838778194148519, 'gamma': 0.0032482668718404883, 'grow_policy': 'lossguide', 'sample_type': 'uniform', 'normalize_type': 'forest', 'rate_drop': 2.058231235961625e-07, 'skip_drop': 3.3629400888060393e-06}. Best is trial 44 with value: 0.6821271584642111.\n",
      "[I 2024-09-29 09:33:42,107] Trial 64 finished with value: 0.6825002623386617 and parameters: {'booster': 'dart', 'lambda': 1.303404994206173e-05, 'alpha': 6.454856185869622e-07, 'subsample': 0.8191347191918659, 'colsample_bytree': 0.9196810546722414, 'max_depth': 9, 'min_child_weight': 9, 'eta': 0.20917153769547342, 'gamma': 0.007251916468275961, 'grow_policy': 'lossguide', 'sample_type': 'weighted', 'normalize_type': 'tree', 'rate_drop': 3.619491687740653e-08, 'skip_drop': 0.0016364341160963528}. Best is trial 64 with value: 0.6825002623386617.\n",
      "[I 2024-09-29 09:33:43,877] Trial 65 finished with value: 0.5948674898270897 and parameters: {'booster': 'dart', 'lambda': 1.5262916269751e-06, 'alpha': 3.067275731930734e-07, 'subsample': 0.7874735960339385, 'colsample_bytree': 0.9546649463669086, 'max_depth': 7, 'min_child_weight': 9, 'eta': 0.026187953518568566, 'gamma': 0.00967160846549668, 'grow_policy': 'lossguide', 'sample_type': 'weighted', 'normalize_type': 'tree', 'rate_drop': 0.00010822924960496171, 'skip_drop': 0.02061420766812011}. Best is trial 64 with value: 0.6825002623386617.\n",
      "[I 2024-09-29 09:33:45,619] Trial 66 finished with value: 0.6811011228094722 and parameters: {'booster': 'dart', 'lambda': 0.003068517241234773, 'alpha': 6.899874960215372e-07, 'subsample': 0.8169249637752003, 'colsample_bytree': 0.7248844782159973, 'max_depth': 9, 'min_child_weight': 10, 'eta': 0.19638629479095943, 'gamma': 0.13775021883631242, 'grow_policy': 'lossguide', 'sample_type': 'weighted', 'normalize_type': 'tree', 'rate_drop': 2.462535855576746e-08, 'skip_drop': 0.0008655460604656511}. Best is trial 64 with value: 0.6825002623386617.\n",
      "[I 2024-09-29 09:33:47,478] Trial 67 finished with value: 0.6761225179847727 and parameters: {'booster': 'dart', 'lambda': 2.2744195890646624e-05, 'alpha': 2.542182211286341e-05, 'subsample': 0.2471310019087788, 'colsample_bytree': 0.921319042516469, 'max_depth': 9, 'min_child_weight': 9, 'eta': 0.5491829612863529, 'gamma': 0.0007045553971626827, 'grow_policy': 'lossguide', 'sample_type': 'weighted', 'normalize_type': 'tree', 'rate_drop': 4.12038975750894e-06, 'skip_drop': 0.03933393764162957}. Best is trial 64 with value: 0.6825002623386617.\n",
      "[I 2024-09-29 09:33:49,695] Trial 68 finished with value: 0.6780696538295615 and parameters: {'booster': 'dart', 'lambda': 0.00025640124937966537, 'alpha': 4.8468202980693394e-06, 'subsample': 0.6958914093415213, 'colsample_bytree': 0.9059178379606614, 'max_depth': 9, 'min_child_weight': 8, 'eta': 0.07252111692732512, 'gamma': 0.0015720039971194157, 'grow_policy': 'lossguide', 'sample_type': 'weighted', 'normalize_type': 'tree', 'rate_drop': 0.0028215720224404406, 'skip_drop': 0.001632183755418637}. Best is trial 64 with value: 0.6825002623386617.\n",
      "[I 2024-09-29 09:33:49,966] Trial 69 finished with value: 0.6722282462951952 and parameters: {'booster': 'gblinear', 'lambda': 0.14820115241538812, 'alpha': 1.1069793122543056e-06, 'subsample': 0.8206494495881864, 'colsample_bytree': 0.9333677057907926}. Best is trial 64 with value: 0.6825002623386617.\n",
      "[I 2024-09-29 09:33:51,660] Trial 70 finished with value: 0.5645644595240594 and parameters: {'booster': 'dart', 'lambda': 0.0013436147955808195, 'alpha': 1.9144492860569445e-07, 'subsample': 0.5746779479385455, 'colsample_bytree': 0.8989109886161597, 'max_depth': 7, 'min_child_weight': 10, 'eta': 0.009015317111413367, 'gamma': 0.019207511490290402, 'grow_policy': 'depthwise', 'sample_type': 'weighted', 'normalize_type': 'tree', 'rate_drop': 2.8176565490989998e-08, 'skip_drop': 8.731044878611962e-08}. Best is trial 64 with value: 0.6825002623386617.\n",
      "[I 2024-09-29 09:33:53,748] Trial 71 finished with value: 0.6807629974232514 and parameters: {'booster': 'dart', 'lambda': 7.275386330952612e-06, 'alpha': 0.00029125284704099657, 'subsample': 0.6497616580727875, 'colsample_bytree': 0.8881460784734516, 'max_depth': 9, 'min_child_weight': 8, 'eta': 0.511405887416819, 'gamma': 0.0053744446434485366, 'grow_policy': 'lossguide', 'sample_type': 'uniform', 'normalize_type': 'forest', 'rate_drop': 1.3211665549700414e-07, 'skip_drop': 0.00029262786721244145}. Best is trial 64 with value: 0.6825002623386617.\n",
      "[I 2024-09-29 09:33:55,833] Trial 72 finished with value: 0.682243753424977 and parameters: {'booster': 'dart', 'lambda': 1.4367221635281357e-05, 'alpha': 4.0462596667377603e-07, 'subsample': 0.6216162943315238, 'colsample_bytree': 0.8579362205843034, 'max_depth': 9, 'min_child_weight': 9, 'eta': 0.2110328664849175, 'gamma': 0.003782114575506416, 'grow_policy': 'lossguide', 'sample_type': 'uniform', 'normalize_type': 'forest', 'rate_drop': 1.3248150842572166e-08, 'skip_drop': 2.9715130937573856e-05}. Best is trial 64 with value: 0.6825002623386617.\n",
      "[I 2024-09-29 09:33:57,913] Trial 73 finished with value: 0.6825235813308149 and parameters: {'booster': 'dart', 'lambda': 2.5517568742238127e-06, 'alpha': 9.651693744681854e-08, 'subsample': 0.6190809495377076, 'colsample_bytree': 0.8555735582337082, 'max_depth': 9, 'min_child_weight': 9, 'eta': 0.18453318312461062, 'gamma': 0.00819052695500196, 'grow_policy': 'lossguide', 'sample_type': 'uniform', 'normalize_type': 'tree', 'rate_drop': 1.8614057381674074e-08, 'skip_drop': 4.350235521676744e-05}. Best is trial 73 with value: 0.6825235813308149.\n",
      "[I 2024-09-29 09:34:00,060] Trial 74 finished with value: 0.6821621369524409 and parameters: {'booster': 'dart', 'lambda': 2.944244677823386e-06, 'alpha': 2.406747765458144e-08, 'subsample': 0.6085776907840392, 'colsample_bytree': 0.8558695790421981, 'max_depth': 9, 'min_child_weight': 9, 'eta': 0.21411503266767495, 'gamma': 0.0798666112365168, 'grow_policy': 'lossguide', 'sample_type': 'uniform', 'normalize_type': 'tree', 'rate_drop': 1.1017962600141886e-08, 'skip_drop': 3.262479190530957e-05}. Best is trial 73 with value: 0.6825235813308149.\n",
      "[I 2024-09-29 09:34:01,931] Trial 75 finished with value: 0.6781745892942507 and parameters: {'booster': 'gbtree', 'lambda': 2.790038445988905e-06, 'alpha': 8.740758688593511e-08, 'subsample': 0.6171371300717958, 'colsample_bytree': 0.8602008477118881, 'max_depth': 9, 'min_child_weight': 9, 'eta': 0.06954014318468658, 'gamma': 0.03373961963579617, 'grow_policy': 'lossguide'}. Best is trial 73 with value: 0.6825235813308149.\n",
      "[I 2024-09-29 09:34:03,906] Trial 76 finished with value: 0.6825352408268914 and parameters: {'booster': 'dart', 'lambda': 1.0097915738299128e-06, 'alpha': 2.3445234888982956e-08, 'subsample': 0.7152405139734603, 'colsample_bytree': 0.8437252255677583, 'max_depth': 9, 'min_child_weight': 9, 'eta': 0.2357930936747691, 'gamma': 0.13557767476363425, 'grow_policy': 'lossguide', 'sample_type': 'uniform', 'normalize_type': 'tree', 'rate_drop': 1.2065021262266629e-08, 'skip_drop': 3.1483383573651435e-05}. Best is trial 76 with value: 0.6825352408268914.\n",
      "[I 2024-09-29 09:34:05,854] Trial 77 finished with value: 0.6822204344328238 and parameters: {'booster': 'dart', 'lambda': 4.754139658875314e-07, 'alpha': 1.6194062512903545e-08, 'subsample': 0.7338655451600452, 'colsample_bytree': 0.8390102858052222, 'max_depth': 9, 'min_child_weight': 10, 'eta': 0.2361936040040745, 'gamma': 0.11324304993827855, 'grow_policy': 'lossguide', 'sample_type': 'weighted', 'normalize_type': 'tree', 'rate_drop': 1.259616086816341e-08, 'skip_drop': 8.145307303773065e-06}. Best is trial 76 with value: 0.6825352408268914.\n",
      "[I 2024-09-29 09:34:07,852] Trial 78 finished with value: 0.6022829293317943 and parameters: {'booster': 'dart', 'lambda': 3.557182572797994e-07, 'alpha': 1.5402637346585933e-08, 'subsample': 0.7209026922923928, 'colsample_bytree': 0.8009939010346956, 'max_depth': 9, 'min_child_weight': 10, 'eta': 0.029632030268817913, 'gamma': 0.0883932437667147, 'grow_policy': 'lossguide', 'sample_type': 'weighted', 'normalize_type': 'tree', 'rate_drop': 1.0326237768109893e-08, 'skip_drop': 1.0486186021684509e-05}. Best is trial 76 with value: 0.6825352408268914.\n",
      "[I 2024-09-29 09:34:09,885] Trial 79 finished with value: 0.6824419648582788 and parameters: {'booster': 'dart', 'lambda': 8.311639530801074e-07, 'alpha': 2.3012312732234438e-08, 'subsample': 0.7400178822717242, 'colsample_bytree': 0.8403319519902835, 'max_depth': 9, 'min_child_weight': 10, 'eta': 0.2235449387174668, 'gamma': 0.3300149755039578, 'grow_policy': 'depthwise', 'sample_type': 'weighted', 'normalize_type': 'tree', 'rate_drop': 1.110018143920499e-08, 'skip_drop': 4.675571401356215e-05}. Best is trial 76 with value: 0.6825352408268914.\n",
      "[I 2024-09-29 09:34:11,964] Trial 80 finished with value: 0.682465283850432 and parameters: {'booster': 'dart', 'lambda': 8.641907202976593e-07, 'alpha': 2.8343678613564854e-08, 'subsample': 0.7627555337587454, 'colsample_bytree': 0.8206204587706184, 'max_depth': 9, 'min_child_weight': 10, 'eta': 0.20598634678309985, 'gamma': 0.970255118698099, 'grow_policy': 'depthwise', 'sample_type': 'weighted', 'normalize_type': 'tree', 'rate_drop': 1.2276202192781385e-08, 'skip_drop': 3.6731766601038445e-05}. Best is trial 76 with value: 0.6825352408268914.\n",
      "[I 2024-09-29 09:34:13,884] Trial 81 finished with value: 0.6794571338626745 and parameters: {'booster': 'dart', 'lambda': 8.590195589853365e-07, 'alpha': 2.3269109489940843e-08, 'subsample': 0.7697581028711095, 'colsample_bytree': 0.8212103418060431, 'max_depth': 9, 'min_child_weight': 10, 'eta': 0.6366653084724363, 'gamma': 0.36769433555288916, 'grow_policy': 'depthwise', 'sample_type': 'weighted', 'normalize_type': 'tree', 'rate_drop': 1.3161967755469448e-08, 'skip_drop': 3.060424588623027e-05}. Best is trial 76 with value: 0.6825352408268914.\n",
      "[I 2024-09-29 09:34:16,015] Trial 82 finished with value: 0.6821737964485175 and parameters: {'booster': 'dart', 'lambda': 3.1140572469698774e-07, 'alpha': 1.1637210447866818e-07, 'subsample': 0.7486663869115524, 'colsample_bytree': 0.8408910273728978, 'max_depth': 9, 'min_child_weight': 10, 'eta': 0.21480176787763638, 'gamma': 0.46191779563542074, 'grow_policy': 'depthwise', 'sample_type': 'weighted', 'normalize_type': 'tree', 'rate_drop': 1.0151409235582776e-08, 'skip_drop': 6.168333842865726e-06}. Best is trial 76 with value: 0.6825352408268914.\n",
      "[I 2024-09-29 09:34:18,095] Trial 83 finished with value: 0.6807513379271748 and parameters: {'booster': 'dart', 'lambda': 3.4198188785576936e-07, 'alpha': 7.89456446673968e-08, 'subsample': 0.7378274062296274, 'colsample_bytree': 0.8399913997503511, 'max_depth': 9, 'min_child_weight': 10, 'eta': 0.09308588560689308, 'gamma': 0.9254668874547238, 'grow_policy': 'depthwise', 'sample_type': 'weighted', 'normalize_type': 'tree', 'rate_drop': 1.1464779435255898e-08, 'skip_drop': 5.744997427706968e-06}. Best is trial 76 with value: 0.6825352408268914.\n",
      "[I 2024-09-29 09:34:20,163] Trial 84 finished with value: 0.6810661443212425 and parameters: {'booster': 'dart', 'lambda': 8.964030444577472e-08, 'alpha': 2.9129568543816323e-08, 'subsample': 0.7472024551916591, 'colsample_bytree': 0.8153606893911696, 'max_depth': 9, 'min_child_weight': 10, 'eta': 0.180726052160673, 'gamma': 0.5006959929557366, 'grow_policy': 'depthwise', 'sample_type': 'weighted', 'normalize_type': 'tree', 'rate_drop': 2.240167285783406e-08, 'skip_drop': 2.1439963907894816e-05}. Best is trial 76 with value: 0.6825352408268914.\n",
      "[I 2024-09-29 09:34:22,111] Trial 85 finished with value: 0.5645644595240594 and parameters: {'booster': 'dart', 'lambda': 3.1982215939647696e-08, 'alpha': 1.1111190906881421e-07, 'subsample': 0.8429989770040285, 'colsample_bytree': 0.805048995461355, 'max_depth': 9, 'min_child_weight': 10, 'eta': 5.622674160774925e-07, 'gamma': 0.18946596176535188, 'grow_policy': 'depthwise', 'sample_type': 'weighted', 'normalize_type': 'tree', 'rate_drop': 1.0018371035399866e-08, 'skip_drop': 4.080609533308538e-05}. Best is trial 76 with value: 0.6825352408268914.\n",
      "[I 2024-09-29 09:34:24,181] Trial 86 finished with value: 0.6719950563736635 and parameters: {'booster': 'dart', 'lambda': 1.1191299701091208e-06, 'alpha': 5.8328057005441935e-08, 'subsample': 0.8053881759143525, 'colsample_bytree': 0.7894836520493559, 'max_depth': 9, 'min_child_weight': 10, 'eta': 0.05234175059959114, 'gamma': 0.3423111176734836, 'grow_policy': 'depthwise', 'sample_type': 'weighted', 'normalize_type': 'tree', 'rate_drop': 2.4610879623553504e-08, 'skip_drop': 9.601722082554083e-07}. Best is trial 76 with value: 0.6825352408268914.\n",
      "[I 2024-09-29 09:34:26,454] Trial 87 finished with value: 0.5645644595240594 and parameters: {'booster': 'dart', 'lambda': 2.7746903141564313e-07, 'alpha': 1.0899599840311232e-08, 'subsample': 0.7709317883128681, 'colsample_bytree': 0.8308753165144915, 'max_depth': 9, 'min_child_weight': 9, 'eta': 0.00010853072415465232, 'gamma': 0.10957676998750619, 'grow_policy': 'depthwise', 'sample_type': 'weighted', 'normalize_type': 'tree', 'rate_drop': 2.455932768326721e-08, 'skip_drop': 4.399570230146337e-06}. Best is trial 76 with value: 0.6825352408268914.\n",
      "[I 2024-09-29 09:34:28,509] Trial 88 finished with value: 0.6810428253290893 and parameters: {'booster': 'dart', 'lambda': 1.9036373572639782e-06, 'alpha': 2.2619965770447595e-08, 'subsample': 0.7965961749973556, 'colsample_bytree': 0.8437859902799513, 'max_depth': 9, 'min_child_weight': 10, 'eta': 0.10721757946817757, 'gamma': 0.47850750740362996, 'grow_policy': 'depthwise', 'sample_type': 'weighted', 'normalize_type': 'tree', 'rate_drop': 2.2401676603761598e-08, 'skip_drop': 8.030677800175132e-06}. Best is trial 76 with value: 0.6825352408268914.\n",
      "[I 2024-09-29 09:34:30,459] Trial 89 finished with value: 0.6807979759114811 and parameters: {'booster': 'dart', 'lambda': 2.2010812038150834e-07, 'alpha': 4.0222134921282527e-07, 'subsample': 0.8633495679554635, 'colsample_bytree': 0.8540022235066458, 'max_depth': 9, 'min_child_weight': 10, 'eta': 0.5535160256040745, 'gamma': 0.9821829085955187, 'grow_policy': 'depthwise', 'sample_type': 'weighted', 'normalize_type': 'tree', 'rate_drop': 1.0317592148481541e-08, 'skip_drop': 0.8278487132877709}. Best is trial 76 with value: 0.6825352408268914.\n",
      "[I 2024-09-29 09:34:32,491] Trial 90 finished with value: 0.6819755850152156 and parameters: {'booster': 'dart', 'lambda': 8.352435334088649e-07, 'alpha': 3.661378187780248e-08, 'subsample': 0.8267721702134401, 'colsample_bytree': 0.8226545444342652, 'max_depth': 9, 'min_child_weight': 9, 'eta': 0.20866088679132477, 'gamma': 0.06193881349622406, 'grow_policy': 'depthwise', 'sample_type': 'weighted', 'normalize_type': 'tree', 'rate_drop': 3.231253019807189e-08, 'skip_drop': 1.6229621909671327e-05}. Best is trial 76 with value: 0.6825352408268914.\n",
      "[I 2024-09-29 09:34:34,540] Trial 91 finished with value: 0.6815325241643057 and parameters: {'booster': 'dart', 'lambda': 3.1395154002698703e-06, 'alpha': 5.915998624663202e-08, 'subsample': 0.7131045379625948, 'colsample_bytree': 0.8383872557011773, 'max_depth': 9, 'min_child_weight': 9, 'eta': 0.1885383908135288, 'gamma': 0.2442179485544253, 'grow_policy': 'depthwise', 'sample_type': 'weighted', 'normalize_type': 'tree', 'rate_drop': 1.8484491645071807e-08, 'skip_drop': 5.216497985995974e-05}. Best is trial 76 with value: 0.6825352408268914.\n",
      "[I 2024-09-29 09:34:36,631] Trial 92 finished with value: 0.6822320939289004 and parameters: {'booster': 'dart', 'lambda': 6.003263744835176e-07, 'alpha': 1.7696009656288418e-08, 'subsample': 0.7659173058922771, 'colsample_bytree': 0.8482201961154338, 'max_depth': 9, 'min_child_weight': 10, 'eta': 0.23569538172534127, 'gamma': 0.14098949015159498, 'grow_policy': 'depthwise', 'sample_type': 'weighted', 'normalize_type': 'tree', 'rate_drop': 3.4780985404874805e-08, 'skip_drop': 5.110816001264988e-05}. Best is trial 76 with value: 0.6825352408268914.\n",
      "[I 2024-09-29 09:34:38,686] Trial 93 finished with value: 0.6740587871792181 and parameters: {'booster': 'dart', 'lambda': 5.684283143432923e-07, 'alpha': 1.8475435812382283e-08, 'subsample': 0.7733288489187494, 'colsample_bytree': 0.8464332005915589, 'max_depth': 9, 'min_child_weight': 10, 'eta': 0.10295701152028297, 'gamma': 0.09113059824375307, 'grow_policy': 'depthwise', 'sample_type': 'weighted', 'normalize_type': 'tree', 'rate_drop': 0.4756048808287933, 'skip_drop': 5.403970995556595e-05}. Best is trial 76 with value: 0.6825352408268914.\n",
      "[I 2024-09-29 09:34:40,740] Trial 94 finished with value: 0.6797253022724358 and parameters: {'booster': 'dart', 'lambda': 1.3124964298761541e-06, 'alpha': 1.4002169091082014e-07, 'subsample': 0.7482078666116339, 'colsample_bytree': 0.8315396933116164, 'max_depth': 9, 'min_child_weight': 10, 'eta': 0.5058661181969929, 'gamma': 0.20139283998699703, 'grow_policy': 'depthwise', 'sample_type': 'weighted', 'normalize_type': 'tree', 'rate_drop': 3.533419456975278e-08, 'skip_drop': 1.8065140985432107e-05}. Best is trial 76 with value: 0.6825352408268914.\n",
      "[I 2024-09-29 09:34:42,972] Trial 95 finished with value: 0.6762974104259214 and parameters: {'booster': 'dart', 'lambda': 3.5292089939620684e-06, 'alpha': 3.352689511092908e-08, 'subsample': 0.7142729216339615, 'colsample_bytree': 0.8569576813653725, 'max_depth': 9, 'min_child_weight': 9, 'eta': 0.9792053510294066, 'gamma': 0.14871716936313586, 'grow_policy': 'depthwise', 'sample_type': 'weighted', 'normalize_type': 'tree', 'rate_drop': 1.2196904457678407e-07, 'skip_drop': 0.00016169034952913456}. Best is trial 76 with value: 0.6825352408268914.\n",
      "[I 2024-09-29 09:34:45,108] Trial 96 finished with value: 0.6606970046754579 and parameters: {'booster': 'dart', 'lambda': 2.033966164454961e-07, 'alpha': 1.0755604366392676e-08, 'subsample': 0.88775487498666, 'colsample_bytree': 0.8176195313941793, 'max_depth': 9, 'min_child_weight': 10, 'eta': 0.04427230454584054, 'gamma': 0.3239729470421611, 'grow_policy': 'depthwise', 'sample_type': 'weighted', 'normalize_type': 'tree', 'rate_drop': 1.7919283060476763e-08, 'skip_drop': 7.043482371305937e-06}. Best is trial 76 with value: 0.6825352408268914.\n",
      "[I 2024-09-29 09:34:47,174] Trial 97 finished with value: 0.5709888418622547 and parameters: {'booster': 'dart', 'lambda': 6.185361177866023e-07, 'alpha': 4.336081303376962e-07, 'subsample': 0.9533423824021618, 'colsample_bytree': 0.8500223478827857, 'max_depth': 9, 'min_child_weight': 2, 'eta': 0.017045854229879493, 'gamma': 0.658115870877456, 'grow_policy': 'depthwise', 'sample_type': 'weighted', 'normalize_type': 'tree', 'rate_drop': 3.588258621610901e-08, 'skip_drop': 5.24114368220632e-05}. Best is trial 76 with value: 0.6825352408268914.\n",
      "[I 2024-09-29 09:34:47,439] Trial 98 finished with value: 0.6740238086909883 and parameters: {'booster': 'gblinear', 'lambda': 9.366776963594423e-08, 'alpha': 7.844357755605108e-08, 'subsample': 0.8048777023432143, 'colsample_bytree': 0.9814911865491801}. Best is trial 76 with value: 0.6825352408268914.\n",
      "[I 2024-09-29 09:34:49,761] Trial 99 finished with value: 0.6810894633133956 and parameters: {'booster': 'dart', 'lambda': 5.681454963035444e-06, 'alpha': 5.2048247414308855e-08, 'subsample': 0.6723531466886914, 'colsample_bytree': 0.8083815331838533, 'max_depth': 9, 'min_child_weight': 9, 'eta': 0.20871014797803222, 'gamma': 0.05467497681166556, 'grow_policy': 'depthwise', 'sample_type': 'weighted', 'normalize_type': 'tree', 'rate_drop': 1.7444759976324117e-08, 'skip_drop': 2.7489896301125767e-05}. Best is trial 76 with value: 0.6825352408268914.\n"
     ]
    },
    {
     "name": "stdout",
     "output_type": "stream",
     "text": [
      "Number of finished trials:  100\n",
      "Best trial:\n",
      "  Value: 0.6825352408268914\n",
      "  Params: \n",
      "    booster: dart\n",
      "    lambda: 1.0097915738299128e-06\n",
      "    alpha: 2.3445234888982956e-08\n",
      "    subsample: 0.7152405139734603\n",
      "    colsample_bytree: 0.8437252255677583\n",
      "    max_depth: 9\n",
      "    min_child_weight: 9\n",
      "    eta: 0.2357930936747691\n",
      "    gamma: 0.13557767476363425\n",
      "    grow_policy: lossguide\n",
      "    sample_type: uniform\n",
      "    normalize_type: tree\n",
      "    rate_drop: 1.2065021262266629e-08\n",
      "    skip_drop: 3.1483383573651435e-05\n"
     ]
    }
   ],
   "source": [
    "train = xgb.DMatrix(data=X_train_scaled, label=y_train)\n",
    "test = xgb.DMatrix(data=X_test_scaled, label=y_test)\n",
    "\n",
    "\n",
    "def objective(trial):\n",
    "    param = {\n",
    "        \"verbosity\": 0,\n",
    "        \"objective\": \"binary:logistic\",\n",
    "        # use exact for small dataset.\n",
    "        \"tree_method\": \"exact\",\n",
    "        # defines booster, gblinear for linear functions.\n",
    "        \"booster\": trial.suggest_categorical(\"booster\", [\"gbtree\", \"gblinear\", \"dart\"]),\n",
    "        # L2 regularization weight.\n",
    "        \"lambda\": trial.suggest_float(\"lambda\", 1e-8, 1.0, log=True),\n",
    "        # L1 regularization weight.\n",
    "        \"alpha\": trial.suggest_float(\"alpha\", 1e-8, 1.0, log=True),\n",
    "        # sampling ratio for training data.\n",
    "        \"subsample\": trial.suggest_float(\"subsample\", 0.2, 1.0),\n",
    "        # sampling according to each tree.\n",
    "        \"colsample_bytree\": trial.suggest_float(\"colsample_bytree\", 0.7, 1.0),\n",
    "    }\n",
    "\n",
    "    if param[\"booster\"] in [\"gbtree\", \"dart\"]:\n",
    "        # maximum depth of the tree, signifies complexity of the tree.\n",
    "        param[\"max_depth\"] = trial.suggest_int(\"max_depth\", 3, 9, step=2)\n",
    "        # minimum child weight, larger the term more conservative the tree.\n",
    "        param[\"min_child_weight\"] = trial.suggest_int(\"min_child_weight\", 2, 10)\n",
    "        param[\"eta\"] = trial.suggest_float(\"eta\", 1e-8, 1.0, log=True)\n",
    "        # defines how selective algorithm is.\n",
    "        param[\"gamma\"] = trial.suggest_float(\"gamma\", 1e-8, 1.0, log=True)\n",
    "        param[\"grow_policy\"] = trial.suggest_categorical(\"grow_policy\", [\"depthwise\", \"lossguide\"])\n",
    "\n",
    "    if param[\"booster\"] == \"dart\":\n",
    "        param[\"sample_type\"] = trial.suggest_categorical(\"sample_type\", [\"uniform\", \"weighted\"])\n",
    "        param[\"normalize_type\"] = trial.suggest_categorical(\"normalize_type\", [\"tree\", \"forest\"])\n",
    "        param[\"rate_drop\"] = trial.suggest_float(\"rate_drop\", 1e-8, 1.0, log=True)\n",
    "        param[\"skip_drop\"] = trial.suggest_float(\"skip_drop\", 1e-8, 1.0, log=True)\n",
    "\n",
    "    bst = xgb.train(param, train)\n",
    "    preds = bst.predict(test)\n",
    "    pred_labels = np.rint(preds)\n",
    "    accuracy = accuracy_score(y_test, pred_labels)\n",
    "    return accuracy\n",
    "\n",
    "# Create a study object and optimize the objective function.\n",
    "study = optuna.create_study(direction='maximize')\n",
    "study.optimize(objective, n_trials=100)\n",
    "\n",
    "print(\"Number of finished trials: \", len(study.trials))\n",
    "print(\"Best trial:\")\n",
    "trial = study.best_trial\n",
    "\n",
    "print(\"  Value: {}\".format(trial.value))\n",
    "print(\"  Params: \")\n",
    "for key, value in trial.params.items():\n",
    "    print(\"    {}: {}\".format(key, value))"
   ]
  },
  {
   "cell_type": "code",
   "execution_count": 17,
   "metadata": {},
   "outputs": [
    {
     "ename": "ValueError",
     "evalue": "Mime type rendering requires nbformat>=4.2.0 but it is not installed",
     "output_type": "error",
     "traceback": [
      "\u001b[1;31m---------------------------------------------------------------------------\u001b[0m",
      "\u001b[1;31mValueError\u001b[0m                                Traceback (most recent call last)",
      "File \u001b[1;32m~\\AppData\\Roaming\\Python\\Python312\\site-packages\\IPython\\core\\formatters.py:925\u001b[0m, in \u001b[0;36mIPythonDisplayFormatter.__call__\u001b[1;34m(self, obj)\u001b[0m\n\u001b[0;32m    923\u001b[0m method \u001b[38;5;241m=\u001b[39m get_real_method(obj, \u001b[38;5;28mself\u001b[39m\u001b[38;5;241m.\u001b[39mprint_method)\n\u001b[0;32m    924\u001b[0m \u001b[38;5;28;01mif\u001b[39;00m method \u001b[38;5;129;01mis\u001b[39;00m \u001b[38;5;129;01mnot\u001b[39;00m \u001b[38;5;28;01mNone\u001b[39;00m:\n\u001b[1;32m--> 925\u001b[0m     \u001b[43mmethod\u001b[49m\u001b[43m(\u001b[49m\u001b[43m)\u001b[49m\n\u001b[0;32m    926\u001b[0m     \u001b[38;5;28;01mreturn\u001b[39;00m \u001b[38;5;28;01mTrue\u001b[39;00m\n",
      "File \u001b[1;32mc:\\Users\\Sarah\\anaconda3\\envs\\nba_env\\Lib\\site-packages\\plotly\\basedatatypes.py:832\u001b[0m, in \u001b[0;36mBaseFigure._ipython_display_\u001b[1;34m(self)\u001b[0m\n\u001b[0;32m    829\u001b[0m \u001b[38;5;28;01mimport\u001b[39;00m \u001b[38;5;21;01mplotly\u001b[39;00m\u001b[38;5;21;01m.\u001b[39;00m\u001b[38;5;21;01mio\u001b[39;00m \u001b[38;5;28;01mas\u001b[39;00m \u001b[38;5;21;01mpio\u001b[39;00m\n\u001b[0;32m    831\u001b[0m \u001b[38;5;28;01mif\u001b[39;00m pio\u001b[38;5;241m.\u001b[39mrenderers\u001b[38;5;241m.\u001b[39mrender_on_display \u001b[38;5;129;01mand\u001b[39;00m pio\u001b[38;5;241m.\u001b[39mrenderers\u001b[38;5;241m.\u001b[39mdefault:\n\u001b[1;32m--> 832\u001b[0m     \u001b[43mpio\u001b[49m\u001b[38;5;241;43m.\u001b[39;49m\u001b[43mshow\u001b[49m\u001b[43m(\u001b[49m\u001b[38;5;28;43mself\u001b[39;49m\u001b[43m)\u001b[49m\n\u001b[0;32m    833\u001b[0m \u001b[38;5;28;01melse\u001b[39;00m:\n\u001b[0;32m    834\u001b[0m     \u001b[38;5;28mprint\u001b[39m(\u001b[38;5;28mrepr\u001b[39m(\u001b[38;5;28mself\u001b[39m))\n",
      "File \u001b[1;32mc:\\Users\\Sarah\\anaconda3\\envs\\nba_env\\Lib\\site-packages\\plotly\\io\\_renderers.py:394\u001b[0m, in \u001b[0;36mshow\u001b[1;34m(fig, renderer, validate, **kwargs)\u001b[0m\n\u001b[0;32m    389\u001b[0m         \u001b[38;5;28;01mraise\u001b[39;00m \u001b[38;5;167;01mValueError\u001b[39;00m(\n\u001b[0;32m    390\u001b[0m             \u001b[38;5;124m\"\u001b[39m\u001b[38;5;124mMime type rendering requires ipython but it is not installed\u001b[39m\u001b[38;5;124m\"\u001b[39m\n\u001b[0;32m    391\u001b[0m         )\n\u001b[0;32m    393\u001b[0m     \u001b[38;5;28;01mif\u001b[39;00m \u001b[38;5;129;01mnot\u001b[39;00m nbformat \u001b[38;5;129;01mor\u001b[39;00m Version(nbformat\u001b[38;5;241m.\u001b[39m__version__) \u001b[38;5;241m<\u001b[39m Version(\u001b[38;5;124m\"\u001b[39m\u001b[38;5;124m4.2.0\u001b[39m\u001b[38;5;124m\"\u001b[39m):\n\u001b[1;32m--> 394\u001b[0m         \u001b[38;5;28;01mraise\u001b[39;00m \u001b[38;5;167;01mValueError\u001b[39;00m(\n\u001b[0;32m    395\u001b[0m             \u001b[38;5;124m\"\u001b[39m\u001b[38;5;124mMime type rendering requires nbformat>=4.2.0 but it is not installed\u001b[39m\u001b[38;5;124m\"\u001b[39m\n\u001b[0;32m    396\u001b[0m         )\n\u001b[0;32m    398\u001b[0m     ipython_display\u001b[38;5;241m.\u001b[39mdisplay(bundle, raw\u001b[38;5;241m=\u001b[39m\u001b[38;5;28;01mTrue\u001b[39;00m)\n\u001b[0;32m    400\u001b[0m \u001b[38;5;66;03m# external renderers\u001b[39;00m\n",
      "\u001b[1;31mValueError\u001b[0m: Mime type rendering requires nbformat>=4.2.0 but it is not installed"
     ]
    },
    {
     "data": {
      "application/vnd.plotly.v1+json": {
       "config": {
        "plotlyServerURL": "https://plot.ly"
       },
       "data": [
        {
         "mode": "markers",
         "name": "Objective Value",
         "type": "scatter",
         "x": [
          0,
          1,
          2,
          3,
          4,
          5,
          6,
          7,
          8,
          9,
          10,
          11,
          12,
          13,
          14,
          15,
          16,
          17,
          18,
          19,
          20,
          21,
          22,
          23,
          24,
          25,
          26,
          27,
          28,
          29,
          30,
          31,
          32,
          33,
          34,
          35,
          36,
          37,
          38,
          39,
          40,
          41,
          42,
          43,
          44,
          45,
          46,
          47,
          48,
          49,
          50,
          51,
          52,
          53,
          54,
          55,
          56,
          57,
          58,
          59,
          60,
          61,
          62,
          63,
          64,
          65,
          66,
          67,
          68,
          69,
          70,
          71,
          72,
          73,
          74,
          75,
          76,
          77,
          78,
          79,
          80,
          81,
          82,
          83,
          84,
          85,
          86,
          87,
          88,
          89,
          90,
          91,
          92,
          93,
          94,
          95,
          96,
          97,
          98,
          99
         ],
         "y": [
          0.5645644595240594,
          0.6739305327223757,
          0.6740587871792181,
          0.5645644595240594,
          0.6752247367868761,
          0.5645644595240594,
          0.6765306003474529,
          0.6740704466752947,
          0.5645644595240594,
          0.5645644595240594,
          0.6770202991826694,
          0.6774866790257326,
          0.6781279513099444,
          0.5645644595240594,
          0.6653724626021663,
          0.5645644595240594,
          0.680191682115499,
          0.5666748283139202,
          0.5645644595240594,
          0.676390686394534,
          0.5645644595240594,
          0.67872258560985,
          0.6771485536395117,
          0.6768687257336737,
          0.5645644595240594,
          0.678582671656931,
          0.5645644595240594,
          0.5645644595240594,
          0.5645644595240594,
          0.6816141406368417,
          0.6810661443212425,
          0.6802849580841116,
          0.6812760152506209,
          0.5677824804411953,
          0.6807746569193279,
          0.5645644595240594,
          0.6814159292035398,
          0.5645644595240594,
          0.5841407534366365,
          0.6739421922184523,
          0.5645644595240594,
          0.6796320263038231,
          0.679911854209661,
          0.6808212949036343,
          0.6821271584642111,
          0.6739305327223757,
          0.5645644595240594,
          0.6594610980913405,
          0.5645644595240594,
          0.6740937656674478,
          0.6816840976133012,
          0.681217717770238,
          0.681077803817319,
          0.6811827392820082,
          0.6748516329124256,
          0.5654272622337263,
          0.6809378898644001,
          0.6780696538295615,
          0.6749099303928084,
          0.6650226777198689,
          0.6811011228094722,
          0.6815791621486119,
          0.6737789592733802,
          0.6800984061468863,
          0.6825002623386617,
          0.5948674898270897,
          0.6811011228094722,
          0.6761225179847727,
          0.6780696538295615,
          0.6722282462951952,
          0.5645644595240594,
          0.6807629974232514,
          0.682243753424977,
          0.6825235813308149,
          0.6821621369524409,
          0.6781745892942507,
          0.6825352408268914,
          0.6822204344328238,
          0.6022829293317943,
          0.6824419648582788,
          0.682465283850432,
          0.6794571338626745,
          0.6821737964485175,
          0.6807513379271748,
          0.6810661443212425,
          0.5645644595240594,
          0.6719950563736635,
          0.5645644595240594,
          0.6810428253290893,
          0.6807979759114811,
          0.6819755850152156,
          0.6815325241643057,
          0.6822320939289004,
          0.6740587871792181,
          0.6797253022724358,
          0.6762974104259214,
          0.6606970046754579,
          0.5709888418622547,
          0.6740238086909883,
          0.6810894633133956
         ]
        },
        {
         "mode": "lines",
         "name": "Best Value",
         "type": "scatter",
         "x": [
          0,
          1,
          2,
          3,
          4,
          5,
          6,
          7,
          8,
          9,
          10,
          11,
          12,
          13,
          14,
          15,
          16,
          17,
          18,
          19,
          20,
          21,
          22,
          23,
          24,
          25,
          26,
          27,
          28,
          29,
          30,
          31,
          32,
          33,
          34,
          35,
          36,
          37,
          38,
          39,
          40,
          41,
          42,
          43,
          44,
          45,
          46,
          47,
          48,
          49,
          50,
          51,
          52,
          53,
          54,
          55,
          56,
          57,
          58,
          59,
          60,
          61,
          62,
          63,
          64,
          65,
          66,
          67,
          68,
          69,
          70,
          71,
          72,
          73,
          74,
          75,
          76,
          77,
          78,
          79,
          80,
          81,
          82,
          83,
          84,
          85,
          86,
          87,
          88,
          89,
          90,
          91,
          92,
          93,
          94,
          95,
          96,
          97,
          98,
          99
         ],
         "y": [
          0.5645644595240594,
          0.6739305327223757,
          0.6740587871792181,
          0.6740587871792181,
          0.6752247367868761,
          0.6752247367868761,
          0.6765306003474529,
          0.6765306003474529,
          0.6765306003474529,
          0.6765306003474529,
          0.6770202991826694,
          0.6774866790257326,
          0.6781279513099444,
          0.6781279513099444,
          0.6781279513099444,
          0.6781279513099444,
          0.680191682115499,
          0.680191682115499,
          0.680191682115499,
          0.680191682115499,
          0.680191682115499,
          0.680191682115499,
          0.680191682115499,
          0.680191682115499,
          0.680191682115499,
          0.680191682115499,
          0.680191682115499,
          0.680191682115499,
          0.680191682115499,
          0.6816141406368417,
          0.6816141406368417,
          0.6816141406368417,
          0.6816141406368417,
          0.6816141406368417,
          0.6816141406368417,
          0.6816141406368417,
          0.6816141406368417,
          0.6816141406368417,
          0.6816141406368417,
          0.6816141406368417,
          0.6816141406368417,
          0.6816141406368417,
          0.6816141406368417,
          0.6816141406368417,
          0.6821271584642111,
          0.6821271584642111,
          0.6821271584642111,
          0.6821271584642111,
          0.6821271584642111,
          0.6821271584642111,
          0.6821271584642111,
          0.6821271584642111,
          0.6821271584642111,
          0.6821271584642111,
          0.6821271584642111,
          0.6821271584642111,
          0.6821271584642111,
          0.6821271584642111,
          0.6821271584642111,
          0.6821271584642111,
          0.6821271584642111,
          0.6821271584642111,
          0.6821271584642111,
          0.6821271584642111,
          0.6825002623386617,
          0.6825002623386617,
          0.6825002623386617,
          0.6825002623386617,
          0.6825002623386617,
          0.6825002623386617,
          0.6825002623386617,
          0.6825002623386617,
          0.6825002623386617,
          0.6825235813308149,
          0.6825235813308149,
          0.6825235813308149,
          0.6825352408268914,
          0.6825352408268914,
          0.6825352408268914,
          0.6825352408268914,
          0.6825352408268914,
          0.6825352408268914,
          0.6825352408268914,
          0.6825352408268914,
          0.6825352408268914,
          0.6825352408268914,
          0.6825352408268914,
          0.6825352408268914,
          0.6825352408268914,
          0.6825352408268914,
          0.6825352408268914,
          0.6825352408268914,
          0.6825352408268914,
          0.6825352408268914,
          0.6825352408268914,
          0.6825352408268914,
          0.6825352408268914,
          0.6825352408268914,
          0.6825352408268914,
          0.6825352408268914
         ]
        },
        {
         "marker": {
          "color": "#cccccc"
         },
         "mode": "markers",
         "name": "Infeasible Trial",
         "showlegend": false,
         "type": "scatter",
         "x": [],
         "y": []
        }
       ],
       "layout": {
        "template": {
         "data": {
          "bar": [
           {
            "error_x": {
             "color": "#2a3f5f"
            },
            "error_y": {
             "color": "#2a3f5f"
            },
            "marker": {
             "line": {
              "color": "#E5ECF6",
              "width": 0.5
             },
             "pattern": {
              "fillmode": "overlay",
              "size": 10,
              "solidity": 0.2
             }
            },
            "type": "bar"
           }
          ],
          "barpolar": [
           {
            "marker": {
             "line": {
              "color": "#E5ECF6",
              "width": 0.5
             },
             "pattern": {
              "fillmode": "overlay",
              "size": 10,
              "solidity": 0.2
             }
            },
            "type": "barpolar"
           }
          ],
          "carpet": [
           {
            "aaxis": {
             "endlinecolor": "#2a3f5f",
             "gridcolor": "white",
             "linecolor": "white",
             "minorgridcolor": "white",
             "startlinecolor": "#2a3f5f"
            },
            "baxis": {
             "endlinecolor": "#2a3f5f",
             "gridcolor": "white",
             "linecolor": "white",
             "minorgridcolor": "white",
             "startlinecolor": "#2a3f5f"
            },
            "type": "carpet"
           }
          ],
          "choropleth": [
           {
            "colorbar": {
             "outlinewidth": 0,
             "ticks": ""
            },
            "type": "choropleth"
           }
          ],
          "contour": [
           {
            "colorbar": {
             "outlinewidth": 0,
             "ticks": ""
            },
            "colorscale": [
             [
              0,
              "#0d0887"
             ],
             [
              0.1111111111111111,
              "#46039f"
             ],
             [
              0.2222222222222222,
              "#7201a8"
             ],
             [
              0.3333333333333333,
              "#9c179e"
             ],
             [
              0.4444444444444444,
              "#bd3786"
             ],
             [
              0.5555555555555556,
              "#d8576b"
             ],
             [
              0.6666666666666666,
              "#ed7953"
             ],
             [
              0.7777777777777778,
              "#fb9f3a"
             ],
             [
              0.8888888888888888,
              "#fdca26"
             ],
             [
              1,
              "#f0f921"
             ]
            ],
            "type": "contour"
           }
          ],
          "contourcarpet": [
           {
            "colorbar": {
             "outlinewidth": 0,
             "ticks": ""
            },
            "type": "contourcarpet"
           }
          ],
          "heatmap": [
           {
            "colorbar": {
             "outlinewidth": 0,
             "ticks": ""
            },
            "colorscale": [
             [
              0,
              "#0d0887"
             ],
             [
              0.1111111111111111,
              "#46039f"
             ],
             [
              0.2222222222222222,
              "#7201a8"
             ],
             [
              0.3333333333333333,
              "#9c179e"
             ],
             [
              0.4444444444444444,
              "#bd3786"
             ],
             [
              0.5555555555555556,
              "#d8576b"
             ],
             [
              0.6666666666666666,
              "#ed7953"
             ],
             [
              0.7777777777777778,
              "#fb9f3a"
             ],
             [
              0.8888888888888888,
              "#fdca26"
             ],
             [
              1,
              "#f0f921"
             ]
            ],
            "type": "heatmap"
           }
          ],
          "heatmapgl": [
           {
            "colorbar": {
             "outlinewidth": 0,
             "ticks": ""
            },
            "colorscale": [
             [
              0,
              "#0d0887"
             ],
             [
              0.1111111111111111,
              "#46039f"
             ],
             [
              0.2222222222222222,
              "#7201a8"
             ],
             [
              0.3333333333333333,
              "#9c179e"
             ],
             [
              0.4444444444444444,
              "#bd3786"
             ],
             [
              0.5555555555555556,
              "#d8576b"
             ],
             [
              0.6666666666666666,
              "#ed7953"
             ],
             [
              0.7777777777777778,
              "#fb9f3a"
             ],
             [
              0.8888888888888888,
              "#fdca26"
             ],
             [
              1,
              "#f0f921"
             ]
            ],
            "type": "heatmapgl"
           }
          ],
          "histogram": [
           {
            "marker": {
             "pattern": {
              "fillmode": "overlay",
              "size": 10,
              "solidity": 0.2
             }
            },
            "type": "histogram"
           }
          ],
          "histogram2d": [
           {
            "colorbar": {
             "outlinewidth": 0,
             "ticks": ""
            },
            "colorscale": [
             [
              0,
              "#0d0887"
             ],
             [
              0.1111111111111111,
              "#46039f"
             ],
             [
              0.2222222222222222,
              "#7201a8"
             ],
             [
              0.3333333333333333,
              "#9c179e"
             ],
             [
              0.4444444444444444,
              "#bd3786"
             ],
             [
              0.5555555555555556,
              "#d8576b"
             ],
             [
              0.6666666666666666,
              "#ed7953"
             ],
             [
              0.7777777777777778,
              "#fb9f3a"
             ],
             [
              0.8888888888888888,
              "#fdca26"
             ],
             [
              1,
              "#f0f921"
             ]
            ],
            "type": "histogram2d"
           }
          ],
          "histogram2dcontour": [
           {
            "colorbar": {
             "outlinewidth": 0,
             "ticks": ""
            },
            "colorscale": [
             [
              0,
              "#0d0887"
             ],
             [
              0.1111111111111111,
              "#46039f"
             ],
             [
              0.2222222222222222,
              "#7201a8"
             ],
             [
              0.3333333333333333,
              "#9c179e"
             ],
             [
              0.4444444444444444,
              "#bd3786"
             ],
             [
              0.5555555555555556,
              "#d8576b"
             ],
             [
              0.6666666666666666,
              "#ed7953"
             ],
             [
              0.7777777777777778,
              "#fb9f3a"
             ],
             [
              0.8888888888888888,
              "#fdca26"
             ],
             [
              1,
              "#f0f921"
             ]
            ],
            "type": "histogram2dcontour"
           }
          ],
          "mesh3d": [
           {
            "colorbar": {
             "outlinewidth": 0,
             "ticks": ""
            },
            "type": "mesh3d"
           }
          ],
          "parcoords": [
           {
            "line": {
             "colorbar": {
              "outlinewidth": 0,
              "ticks": ""
             }
            },
            "type": "parcoords"
           }
          ],
          "pie": [
           {
            "automargin": true,
            "type": "pie"
           }
          ],
          "scatter": [
           {
            "fillpattern": {
             "fillmode": "overlay",
             "size": 10,
             "solidity": 0.2
            },
            "type": "scatter"
           }
          ],
          "scatter3d": [
           {
            "line": {
             "colorbar": {
              "outlinewidth": 0,
              "ticks": ""
             }
            },
            "marker": {
             "colorbar": {
              "outlinewidth": 0,
              "ticks": ""
             }
            },
            "type": "scatter3d"
           }
          ],
          "scattercarpet": [
           {
            "marker": {
             "colorbar": {
              "outlinewidth": 0,
              "ticks": ""
             }
            },
            "type": "scattercarpet"
           }
          ],
          "scattergeo": [
           {
            "marker": {
             "colorbar": {
              "outlinewidth": 0,
              "ticks": ""
             }
            },
            "type": "scattergeo"
           }
          ],
          "scattergl": [
           {
            "marker": {
             "colorbar": {
              "outlinewidth": 0,
              "ticks": ""
             }
            },
            "type": "scattergl"
           }
          ],
          "scattermapbox": [
           {
            "marker": {
             "colorbar": {
              "outlinewidth": 0,
              "ticks": ""
             }
            },
            "type": "scattermapbox"
           }
          ],
          "scatterpolar": [
           {
            "marker": {
             "colorbar": {
              "outlinewidth": 0,
              "ticks": ""
             }
            },
            "type": "scatterpolar"
           }
          ],
          "scatterpolargl": [
           {
            "marker": {
             "colorbar": {
              "outlinewidth": 0,
              "ticks": ""
             }
            },
            "type": "scatterpolargl"
           }
          ],
          "scatterternary": [
           {
            "marker": {
             "colorbar": {
              "outlinewidth": 0,
              "ticks": ""
             }
            },
            "type": "scatterternary"
           }
          ],
          "surface": [
           {
            "colorbar": {
             "outlinewidth": 0,
             "ticks": ""
            },
            "colorscale": [
             [
              0,
              "#0d0887"
             ],
             [
              0.1111111111111111,
              "#46039f"
             ],
             [
              0.2222222222222222,
              "#7201a8"
             ],
             [
              0.3333333333333333,
              "#9c179e"
             ],
             [
              0.4444444444444444,
              "#bd3786"
             ],
             [
              0.5555555555555556,
              "#d8576b"
             ],
             [
              0.6666666666666666,
              "#ed7953"
             ],
             [
              0.7777777777777778,
              "#fb9f3a"
             ],
             [
              0.8888888888888888,
              "#fdca26"
             ],
             [
              1,
              "#f0f921"
             ]
            ],
            "type": "surface"
           }
          ],
          "table": [
           {
            "cells": {
             "fill": {
              "color": "#EBF0F8"
             },
             "line": {
              "color": "white"
             }
            },
            "header": {
             "fill": {
              "color": "#C8D4E3"
             },
             "line": {
              "color": "white"
             }
            },
            "type": "table"
           }
          ]
         },
         "layout": {
          "annotationdefaults": {
           "arrowcolor": "#2a3f5f",
           "arrowhead": 0,
           "arrowwidth": 1
          },
          "autotypenumbers": "strict",
          "coloraxis": {
           "colorbar": {
            "outlinewidth": 0,
            "ticks": ""
           }
          },
          "colorscale": {
           "diverging": [
            [
             0,
             "#8e0152"
            ],
            [
             0.1,
             "#c51b7d"
            ],
            [
             0.2,
             "#de77ae"
            ],
            [
             0.3,
             "#f1b6da"
            ],
            [
             0.4,
             "#fde0ef"
            ],
            [
             0.5,
             "#f7f7f7"
            ],
            [
             0.6,
             "#e6f5d0"
            ],
            [
             0.7,
             "#b8e186"
            ],
            [
             0.8,
             "#7fbc41"
            ],
            [
             0.9,
             "#4d9221"
            ],
            [
             1,
             "#276419"
            ]
           ],
           "sequential": [
            [
             0,
             "#0d0887"
            ],
            [
             0.1111111111111111,
             "#46039f"
            ],
            [
             0.2222222222222222,
             "#7201a8"
            ],
            [
             0.3333333333333333,
             "#9c179e"
            ],
            [
             0.4444444444444444,
             "#bd3786"
            ],
            [
             0.5555555555555556,
             "#d8576b"
            ],
            [
             0.6666666666666666,
             "#ed7953"
            ],
            [
             0.7777777777777778,
             "#fb9f3a"
            ],
            [
             0.8888888888888888,
             "#fdca26"
            ],
            [
             1,
             "#f0f921"
            ]
           ],
           "sequentialminus": [
            [
             0,
             "#0d0887"
            ],
            [
             0.1111111111111111,
             "#46039f"
            ],
            [
             0.2222222222222222,
             "#7201a8"
            ],
            [
             0.3333333333333333,
             "#9c179e"
            ],
            [
             0.4444444444444444,
             "#bd3786"
            ],
            [
             0.5555555555555556,
             "#d8576b"
            ],
            [
             0.6666666666666666,
             "#ed7953"
            ],
            [
             0.7777777777777778,
             "#fb9f3a"
            ],
            [
             0.8888888888888888,
             "#fdca26"
            ],
            [
             1,
             "#f0f921"
            ]
           ]
          },
          "colorway": [
           "#636efa",
           "#EF553B",
           "#00cc96",
           "#ab63fa",
           "#FFA15A",
           "#19d3f3",
           "#FF6692",
           "#B6E880",
           "#FF97FF",
           "#FECB52"
          ],
          "font": {
           "color": "#2a3f5f"
          },
          "geo": {
           "bgcolor": "white",
           "lakecolor": "white",
           "landcolor": "#E5ECF6",
           "showlakes": true,
           "showland": true,
           "subunitcolor": "white"
          },
          "hoverlabel": {
           "align": "left"
          },
          "hovermode": "closest",
          "mapbox": {
           "style": "light"
          },
          "paper_bgcolor": "white",
          "plot_bgcolor": "#E5ECF6",
          "polar": {
           "angularaxis": {
            "gridcolor": "white",
            "linecolor": "white",
            "ticks": ""
           },
           "bgcolor": "#E5ECF6",
           "radialaxis": {
            "gridcolor": "white",
            "linecolor": "white",
            "ticks": ""
           }
          },
          "scene": {
           "xaxis": {
            "backgroundcolor": "#E5ECF6",
            "gridcolor": "white",
            "gridwidth": 2,
            "linecolor": "white",
            "showbackground": true,
            "ticks": "",
            "zerolinecolor": "white"
           },
           "yaxis": {
            "backgroundcolor": "#E5ECF6",
            "gridcolor": "white",
            "gridwidth": 2,
            "linecolor": "white",
            "showbackground": true,
            "ticks": "",
            "zerolinecolor": "white"
           },
           "zaxis": {
            "backgroundcolor": "#E5ECF6",
            "gridcolor": "white",
            "gridwidth": 2,
            "linecolor": "white",
            "showbackground": true,
            "ticks": "",
            "zerolinecolor": "white"
           }
          },
          "shapedefaults": {
           "line": {
            "color": "#2a3f5f"
           }
          },
          "ternary": {
           "aaxis": {
            "gridcolor": "white",
            "linecolor": "white",
            "ticks": ""
           },
           "baxis": {
            "gridcolor": "white",
            "linecolor": "white",
            "ticks": ""
           },
           "bgcolor": "#E5ECF6",
           "caxis": {
            "gridcolor": "white",
            "linecolor": "white",
            "ticks": ""
           }
          },
          "title": {
           "x": 0.05
          },
          "xaxis": {
           "automargin": true,
           "gridcolor": "white",
           "linecolor": "white",
           "ticks": "",
           "title": {
            "standoff": 15
           },
           "zerolinecolor": "white",
           "zerolinewidth": 2
          },
          "yaxis": {
           "automargin": true,
           "gridcolor": "white",
           "linecolor": "white",
           "ticks": "",
           "title": {
            "standoff": 15
           },
           "zerolinecolor": "white",
           "zerolinewidth": 2
          }
         }
        },
        "title": {
         "text": "Optimization History Plot"
        },
        "xaxis": {
         "title": {
          "text": "Trial"
         }
        },
        "yaxis": {
         "title": {
          "text": "Objective Value"
         }
        }
       }
      },
      "text/html": [
       "<div>                        <script type=\"text/javascript\">window.PlotlyConfig = {MathJaxConfig: 'local'};</script>\n",
       "        <script charset=\"utf-8\" src=\"https://cdn.plot.ly/plotly-2.32.0.min.js\"></script>                <div id=\"f21ece26-c75e-4153-919f-c4a63b1be739\" class=\"plotly-graph-div\" style=\"height:100%; width:100%;\"></div>            <script type=\"text/javascript\">                                    window.PLOTLYENV=window.PLOTLYENV || {};                                    if (document.getElementById(\"f21ece26-c75e-4153-919f-c4a63b1be739\")) {                    Plotly.newPlot(                        \"f21ece26-c75e-4153-919f-c4a63b1be739\",                        [{\"mode\":\"markers\",\"name\":\"Objective Value\",\"x\":[0,1,2,3,4,5,6,7,8,9,10,11,12,13,14,15,16,17,18,19,20,21,22,23,24,25,26,27,28,29,30,31,32,33,34,35,36,37,38,39,40,41,42,43,44,45,46,47,48,49,50,51,52,53,54,55,56,57,58,59,60,61,62,63,64,65,66,67,68,69,70,71,72,73,74,75,76,77,78,79,80,81,82,83,84,85,86,87,88,89,90,91,92,93,94,95,96,97,98,99],\"y\":[0.5645644595240594,0.6739305327223757,0.6740587871792181,0.5645644595240594,0.6752247367868761,0.5645644595240594,0.6765306003474529,0.6740704466752947,0.5645644595240594,0.5645644595240594,0.6770202991826694,0.6774866790257326,0.6781279513099444,0.5645644595240594,0.6653724626021663,0.5645644595240594,0.680191682115499,0.5666748283139202,0.5645644595240594,0.676390686394534,0.5645644595240594,0.67872258560985,0.6771485536395117,0.6768687257336737,0.5645644595240594,0.678582671656931,0.5645644595240594,0.5645644595240594,0.5645644595240594,0.6816141406368417,0.6810661443212425,0.6802849580841116,0.6812760152506209,0.5677824804411953,0.6807746569193279,0.5645644595240594,0.6814159292035398,0.5645644595240594,0.5841407534366365,0.6739421922184523,0.5645644595240594,0.6796320263038231,0.679911854209661,0.6808212949036343,0.6821271584642111,0.6739305327223757,0.5645644595240594,0.6594610980913405,0.5645644595240594,0.6740937656674478,0.6816840976133012,0.681217717770238,0.681077803817319,0.6811827392820082,0.6748516329124256,0.5654272622337263,0.6809378898644001,0.6780696538295615,0.6749099303928084,0.6650226777198689,0.6811011228094722,0.6815791621486119,0.6737789592733802,0.6800984061468863,0.6825002623386617,0.5948674898270897,0.6811011228094722,0.6761225179847727,0.6780696538295615,0.6722282462951952,0.5645644595240594,0.6807629974232514,0.682243753424977,0.6825235813308149,0.6821621369524409,0.6781745892942507,0.6825352408268914,0.6822204344328238,0.6022829293317943,0.6824419648582788,0.682465283850432,0.6794571338626745,0.6821737964485175,0.6807513379271748,0.6810661443212425,0.5645644595240594,0.6719950563736635,0.5645644595240594,0.6810428253290893,0.6807979759114811,0.6819755850152156,0.6815325241643057,0.6822320939289004,0.6740587871792181,0.6797253022724358,0.6762974104259214,0.6606970046754579,0.5709888418622547,0.6740238086909883,0.6810894633133956],\"type\":\"scatter\"},{\"mode\":\"lines\",\"name\":\"Best Value\",\"x\":[0,1,2,3,4,5,6,7,8,9,10,11,12,13,14,15,16,17,18,19,20,21,22,23,24,25,26,27,28,29,30,31,32,33,34,35,36,37,38,39,40,41,42,43,44,45,46,47,48,49,50,51,52,53,54,55,56,57,58,59,60,61,62,63,64,65,66,67,68,69,70,71,72,73,74,75,76,77,78,79,80,81,82,83,84,85,86,87,88,89,90,91,92,93,94,95,96,97,98,99],\"y\":[0.5645644595240594,0.6739305327223757,0.6740587871792181,0.6740587871792181,0.6752247367868761,0.6752247367868761,0.6765306003474529,0.6765306003474529,0.6765306003474529,0.6765306003474529,0.6770202991826694,0.6774866790257326,0.6781279513099444,0.6781279513099444,0.6781279513099444,0.6781279513099444,0.680191682115499,0.680191682115499,0.680191682115499,0.680191682115499,0.680191682115499,0.680191682115499,0.680191682115499,0.680191682115499,0.680191682115499,0.680191682115499,0.680191682115499,0.680191682115499,0.680191682115499,0.6816141406368417,0.6816141406368417,0.6816141406368417,0.6816141406368417,0.6816141406368417,0.6816141406368417,0.6816141406368417,0.6816141406368417,0.6816141406368417,0.6816141406368417,0.6816141406368417,0.6816141406368417,0.6816141406368417,0.6816141406368417,0.6816141406368417,0.6821271584642111,0.6821271584642111,0.6821271584642111,0.6821271584642111,0.6821271584642111,0.6821271584642111,0.6821271584642111,0.6821271584642111,0.6821271584642111,0.6821271584642111,0.6821271584642111,0.6821271584642111,0.6821271584642111,0.6821271584642111,0.6821271584642111,0.6821271584642111,0.6821271584642111,0.6821271584642111,0.6821271584642111,0.6821271584642111,0.6825002623386617,0.6825002623386617,0.6825002623386617,0.6825002623386617,0.6825002623386617,0.6825002623386617,0.6825002623386617,0.6825002623386617,0.6825002623386617,0.6825235813308149,0.6825235813308149,0.6825235813308149,0.6825352408268914,0.6825352408268914,0.6825352408268914,0.6825352408268914,0.6825352408268914,0.6825352408268914,0.6825352408268914,0.6825352408268914,0.6825352408268914,0.6825352408268914,0.6825352408268914,0.6825352408268914,0.6825352408268914,0.6825352408268914,0.6825352408268914,0.6825352408268914,0.6825352408268914,0.6825352408268914,0.6825352408268914,0.6825352408268914,0.6825352408268914,0.6825352408268914,0.6825352408268914,0.6825352408268914],\"type\":\"scatter\"},{\"marker\":{\"color\":\"#cccccc\"},\"mode\":\"markers\",\"name\":\"Infeasible Trial\",\"showlegend\":false,\"x\":[],\"y\":[],\"type\":\"scatter\"}],                        {\"title\":{\"text\":\"Optimization History Plot\"},\"xaxis\":{\"title\":{\"text\":\"Trial\"}},\"yaxis\":{\"title\":{\"text\":\"Objective Value\"}},\"template\":{\"data\":{\"histogram2dcontour\":[{\"type\":\"histogram2dcontour\",\"colorbar\":{\"outlinewidth\":0,\"ticks\":\"\"},\"colorscale\":[[0.0,\"#0d0887\"],[0.1111111111111111,\"#46039f\"],[0.2222222222222222,\"#7201a8\"],[0.3333333333333333,\"#9c179e\"],[0.4444444444444444,\"#bd3786\"],[0.5555555555555556,\"#d8576b\"],[0.6666666666666666,\"#ed7953\"],[0.7777777777777778,\"#fb9f3a\"],[0.8888888888888888,\"#fdca26\"],[1.0,\"#f0f921\"]]}],\"choropleth\":[{\"type\":\"choropleth\",\"colorbar\":{\"outlinewidth\":0,\"ticks\":\"\"}}],\"histogram2d\":[{\"type\":\"histogram2d\",\"colorbar\":{\"outlinewidth\":0,\"ticks\":\"\"},\"colorscale\":[[0.0,\"#0d0887\"],[0.1111111111111111,\"#46039f\"],[0.2222222222222222,\"#7201a8\"],[0.3333333333333333,\"#9c179e\"],[0.4444444444444444,\"#bd3786\"],[0.5555555555555556,\"#d8576b\"],[0.6666666666666666,\"#ed7953\"],[0.7777777777777778,\"#fb9f3a\"],[0.8888888888888888,\"#fdca26\"],[1.0,\"#f0f921\"]]}],\"heatmap\":[{\"type\":\"heatmap\",\"colorbar\":{\"outlinewidth\":0,\"ticks\":\"\"},\"colorscale\":[[0.0,\"#0d0887\"],[0.1111111111111111,\"#46039f\"],[0.2222222222222222,\"#7201a8\"],[0.3333333333333333,\"#9c179e\"],[0.4444444444444444,\"#bd3786\"],[0.5555555555555556,\"#d8576b\"],[0.6666666666666666,\"#ed7953\"],[0.7777777777777778,\"#fb9f3a\"],[0.8888888888888888,\"#fdca26\"],[1.0,\"#f0f921\"]]}],\"heatmapgl\":[{\"type\":\"heatmapgl\",\"colorbar\":{\"outlinewidth\":0,\"ticks\":\"\"},\"colorscale\":[[0.0,\"#0d0887\"],[0.1111111111111111,\"#46039f\"],[0.2222222222222222,\"#7201a8\"],[0.3333333333333333,\"#9c179e\"],[0.4444444444444444,\"#bd3786\"],[0.5555555555555556,\"#d8576b\"],[0.6666666666666666,\"#ed7953\"],[0.7777777777777778,\"#fb9f3a\"],[0.8888888888888888,\"#fdca26\"],[1.0,\"#f0f921\"]]}],\"contourcarpet\":[{\"type\":\"contourcarpet\",\"colorbar\":{\"outlinewidth\":0,\"ticks\":\"\"}}],\"contour\":[{\"type\":\"contour\",\"colorbar\":{\"outlinewidth\":0,\"ticks\":\"\"},\"colorscale\":[[0.0,\"#0d0887\"],[0.1111111111111111,\"#46039f\"],[0.2222222222222222,\"#7201a8\"],[0.3333333333333333,\"#9c179e\"],[0.4444444444444444,\"#bd3786\"],[0.5555555555555556,\"#d8576b\"],[0.6666666666666666,\"#ed7953\"],[0.7777777777777778,\"#fb9f3a\"],[0.8888888888888888,\"#fdca26\"],[1.0,\"#f0f921\"]]}],\"surface\":[{\"type\":\"surface\",\"colorbar\":{\"outlinewidth\":0,\"ticks\":\"\"},\"colorscale\":[[0.0,\"#0d0887\"],[0.1111111111111111,\"#46039f\"],[0.2222222222222222,\"#7201a8\"],[0.3333333333333333,\"#9c179e\"],[0.4444444444444444,\"#bd3786\"],[0.5555555555555556,\"#d8576b\"],[0.6666666666666666,\"#ed7953\"],[0.7777777777777778,\"#fb9f3a\"],[0.8888888888888888,\"#fdca26\"],[1.0,\"#f0f921\"]]}],\"mesh3d\":[{\"type\":\"mesh3d\",\"colorbar\":{\"outlinewidth\":0,\"ticks\":\"\"}}],\"scatter\":[{\"fillpattern\":{\"fillmode\":\"overlay\",\"size\":10,\"solidity\":0.2},\"type\":\"scatter\"}],\"parcoords\":[{\"type\":\"parcoords\",\"line\":{\"colorbar\":{\"outlinewidth\":0,\"ticks\":\"\"}}}],\"scatterpolargl\":[{\"type\":\"scatterpolargl\",\"marker\":{\"colorbar\":{\"outlinewidth\":0,\"ticks\":\"\"}}}],\"bar\":[{\"error_x\":{\"color\":\"#2a3f5f\"},\"error_y\":{\"color\":\"#2a3f5f\"},\"marker\":{\"line\":{\"color\":\"#E5ECF6\",\"width\":0.5},\"pattern\":{\"fillmode\":\"overlay\",\"size\":10,\"solidity\":0.2}},\"type\":\"bar\"}],\"scattergeo\":[{\"type\":\"scattergeo\",\"marker\":{\"colorbar\":{\"outlinewidth\":0,\"ticks\":\"\"}}}],\"scatterpolar\":[{\"type\":\"scatterpolar\",\"marker\":{\"colorbar\":{\"outlinewidth\":0,\"ticks\":\"\"}}}],\"histogram\":[{\"marker\":{\"pattern\":{\"fillmode\":\"overlay\",\"size\":10,\"solidity\":0.2}},\"type\":\"histogram\"}],\"scattergl\":[{\"type\":\"scattergl\",\"marker\":{\"colorbar\":{\"outlinewidth\":0,\"ticks\":\"\"}}}],\"scatter3d\":[{\"type\":\"scatter3d\",\"line\":{\"colorbar\":{\"outlinewidth\":0,\"ticks\":\"\"}},\"marker\":{\"colorbar\":{\"outlinewidth\":0,\"ticks\":\"\"}}}],\"scattermapbox\":[{\"type\":\"scattermapbox\",\"marker\":{\"colorbar\":{\"outlinewidth\":0,\"ticks\":\"\"}}}],\"scatterternary\":[{\"type\":\"scatterternary\",\"marker\":{\"colorbar\":{\"outlinewidth\":0,\"ticks\":\"\"}}}],\"scattercarpet\":[{\"type\":\"scattercarpet\",\"marker\":{\"colorbar\":{\"outlinewidth\":0,\"ticks\":\"\"}}}],\"carpet\":[{\"aaxis\":{\"endlinecolor\":\"#2a3f5f\",\"gridcolor\":\"white\",\"linecolor\":\"white\",\"minorgridcolor\":\"white\",\"startlinecolor\":\"#2a3f5f\"},\"baxis\":{\"endlinecolor\":\"#2a3f5f\",\"gridcolor\":\"white\",\"linecolor\":\"white\",\"minorgridcolor\":\"white\",\"startlinecolor\":\"#2a3f5f\"},\"type\":\"carpet\"}],\"table\":[{\"cells\":{\"fill\":{\"color\":\"#EBF0F8\"},\"line\":{\"color\":\"white\"}},\"header\":{\"fill\":{\"color\":\"#C8D4E3\"},\"line\":{\"color\":\"white\"}},\"type\":\"table\"}],\"barpolar\":[{\"marker\":{\"line\":{\"color\":\"#E5ECF6\",\"width\":0.5},\"pattern\":{\"fillmode\":\"overlay\",\"size\":10,\"solidity\":0.2}},\"type\":\"barpolar\"}],\"pie\":[{\"automargin\":true,\"type\":\"pie\"}]},\"layout\":{\"autotypenumbers\":\"strict\",\"colorway\":[\"#636efa\",\"#EF553B\",\"#00cc96\",\"#ab63fa\",\"#FFA15A\",\"#19d3f3\",\"#FF6692\",\"#B6E880\",\"#FF97FF\",\"#FECB52\"],\"font\":{\"color\":\"#2a3f5f\"},\"hovermode\":\"closest\",\"hoverlabel\":{\"align\":\"left\"},\"paper_bgcolor\":\"white\",\"plot_bgcolor\":\"#E5ECF6\",\"polar\":{\"bgcolor\":\"#E5ECF6\",\"angularaxis\":{\"gridcolor\":\"white\",\"linecolor\":\"white\",\"ticks\":\"\"},\"radialaxis\":{\"gridcolor\":\"white\",\"linecolor\":\"white\",\"ticks\":\"\"}},\"ternary\":{\"bgcolor\":\"#E5ECF6\",\"aaxis\":{\"gridcolor\":\"white\",\"linecolor\":\"white\",\"ticks\":\"\"},\"baxis\":{\"gridcolor\":\"white\",\"linecolor\":\"white\",\"ticks\":\"\"},\"caxis\":{\"gridcolor\":\"white\",\"linecolor\":\"white\",\"ticks\":\"\"}},\"coloraxis\":{\"colorbar\":{\"outlinewidth\":0,\"ticks\":\"\"}},\"colorscale\":{\"sequential\":[[0.0,\"#0d0887\"],[0.1111111111111111,\"#46039f\"],[0.2222222222222222,\"#7201a8\"],[0.3333333333333333,\"#9c179e\"],[0.4444444444444444,\"#bd3786\"],[0.5555555555555556,\"#d8576b\"],[0.6666666666666666,\"#ed7953\"],[0.7777777777777778,\"#fb9f3a\"],[0.8888888888888888,\"#fdca26\"],[1.0,\"#f0f921\"]],\"sequentialminus\":[[0.0,\"#0d0887\"],[0.1111111111111111,\"#46039f\"],[0.2222222222222222,\"#7201a8\"],[0.3333333333333333,\"#9c179e\"],[0.4444444444444444,\"#bd3786\"],[0.5555555555555556,\"#d8576b\"],[0.6666666666666666,\"#ed7953\"],[0.7777777777777778,\"#fb9f3a\"],[0.8888888888888888,\"#fdca26\"],[1.0,\"#f0f921\"]],\"diverging\":[[0,\"#8e0152\"],[0.1,\"#c51b7d\"],[0.2,\"#de77ae\"],[0.3,\"#f1b6da\"],[0.4,\"#fde0ef\"],[0.5,\"#f7f7f7\"],[0.6,\"#e6f5d0\"],[0.7,\"#b8e186\"],[0.8,\"#7fbc41\"],[0.9,\"#4d9221\"],[1,\"#276419\"]]},\"xaxis\":{\"gridcolor\":\"white\",\"linecolor\":\"white\",\"ticks\":\"\",\"title\":{\"standoff\":15},\"zerolinecolor\":\"white\",\"automargin\":true,\"zerolinewidth\":2},\"yaxis\":{\"gridcolor\":\"white\",\"linecolor\":\"white\",\"ticks\":\"\",\"title\":{\"standoff\":15},\"zerolinecolor\":\"white\",\"automargin\":true,\"zerolinewidth\":2},\"scene\":{\"xaxis\":{\"backgroundcolor\":\"#E5ECF6\",\"gridcolor\":\"white\",\"linecolor\":\"white\",\"showbackground\":true,\"ticks\":\"\",\"zerolinecolor\":\"white\",\"gridwidth\":2},\"yaxis\":{\"backgroundcolor\":\"#E5ECF6\",\"gridcolor\":\"white\",\"linecolor\":\"white\",\"showbackground\":true,\"ticks\":\"\",\"zerolinecolor\":\"white\",\"gridwidth\":2},\"zaxis\":{\"backgroundcolor\":\"#E5ECF6\",\"gridcolor\":\"white\",\"linecolor\":\"white\",\"showbackground\":true,\"ticks\":\"\",\"zerolinecolor\":\"white\",\"gridwidth\":2}},\"shapedefaults\":{\"line\":{\"color\":\"#2a3f5f\"}},\"annotationdefaults\":{\"arrowcolor\":\"#2a3f5f\",\"arrowhead\":0,\"arrowwidth\":1},\"geo\":{\"bgcolor\":\"white\",\"landcolor\":\"#E5ECF6\",\"subunitcolor\":\"white\",\"showland\":true,\"showlakes\":true,\"lakecolor\":\"white\"},\"title\":{\"x\":0.05},\"mapbox\":{\"style\":\"light\"}}}},                        {\"responsive\": true}                    )                };                            </script>        </div>"
      ],
      "text/plain": [
       "Figure({\n",
       "    'data': [{'mode': 'markers',\n",
       "              'name': 'Objective Value',\n",
       "              'type': 'scatter',\n",
       "              'x': [0, 1, 2, 3, 4, 5, 6, 7, 8, 9, 10, 11, 12, 13, 14, 15, 16, 17,\n",
       "                    18, 19, 20, 21, 22, 23, 24, 25, 26, 27, 28, 29, 30, 31, 32, 33,\n",
       "                    34, 35, 36, 37, 38, 39, 40, 41, 42, 43, 44, 45, 46, 47, 48, 49,\n",
       "                    50, 51, 52, 53, 54, 55, 56, 57, 58, 59, 60, 61, 62, 63, 64, 65,\n",
       "                    66, 67, 68, 69, 70, 71, 72, 73, 74, 75, 76, 77, 78, 79, 80, 81,\n",
       "                    82, 83, 84, 85, 86, 87, 88, 89, 90, 91, 92, 93, 94, 95, 96, 97,\n",
       "                    98, 99],\n",
       "              'y': [0.5645644595240594, 0.6739305327223757, 0.6740587871792181,\n",
       "                    0.5645644595240594, 0.6752247367868761, 0.5645644595240594,\n",
       "                    0.6765306003474529, 0.6740704466752947, 0.5645644595240594,\n",
       "                    0.5645644595240594, 0.6770202991826694, 0.6774866790257326,\n",
       "                    0.6781279513099444, 0.5645644595240594, 0.6653724626021663,\n",
       "                    0.5645644595240594, 0.680191682115499, 0.5666748283139202,\n",
       "                    0.5645644595240594, 0.676390686394534, 0.5645644595240594,\n",
       "                    0.67872258560985, 0.6771485536395117, 0.6768687257336737,\n",
       "                    0.5645644595240594, 0.678582671656931, 0.5645644595240594,\n",
       "                    0.5645644595240594, 0.5645644595240594, 0.6816141406368417,\n",
       "                    0.6810661443212425, 0.6802849580841116, 0.6812760152506209,\n",
       "                    0.5677824804411953, 0.6807746569193279, 0.5645644595240594,\n",
       "                    0.6814159292035398, 0.5645644595240594, 0.5841407534366365,\n",
       "                    0.6739421922184523, 0.5645644595240594, 0.6796320263038231,\n",
       "                    0.679911854209661, 0.6808212949036343, 0.6821271584642111,\n",
       "                    0.6739305327223757, 0.5645644595240594, 0.6594610980913405,\n",
       "                    0.5645644595240594, 0.6740937656674478, 0.6816840976133012,\n",
       "                    0.681217717770238, 0.681077803817319, 0.6811827392820082,\n",
       "                    0.6748516329124256, 0.5654272622337263, 0.6809378898644001,\n",
       "                    0.6780696538295615, 0.6749099303928084, 0.6650226777198689,\n",
       "                    0.6811011228094722, 0.6815791621486119, 0.6737789592733802,\n",
       "                    0.6800984061468863, 0.6825002623386617, 0.5948674898270897,\n",
       "                    0.6811011228094722, 0.6761225179847727, 0.6780696538295615,\n",
       "                    0.6722282462951952, 0.5645644595240594, 0.6807629974232514,\n",
       "                    0.682243753424977, 0.6825235813308149, 0.6821621369524409,\n",
       "                    0.6781745892942507, 0.6825352408268914, 0.6822204344328238,\n",
       "                    0.6022829293317943, 0.6824419648582788, 0.682465283850432,\n",
       "                    0.6794571338626745, 0.6821737964485175, 0.6807513379271748,\n",
       "                    0.6810661443212425, 0.5645644595240594, 0.6719950563736635,\n",
       "                    0.5645644595240594, 0.6810428253290893, 0.6807979759114811,\n",
       "                    0.6819755850152156, 0.6815325241643057, 0.6822320939289004,\n",
       "                    0.6740587871792181, 0.6797253022724358, 0.6762974104259214,\n",
       "                    0.6606970046754579, 0.5709888418622547, 0.6740238086909883,\n",
       "                    0.6810894633133956]},\n",
       "             {'mode': 'lines',\n",
       "              'name': 'Best Value',\n",
       "              'type': 'scatter',\n",
       "              'x': [0, 1, 2, 3, 4, 5, 6, 7, 8, 9, 10, 11, 12, 13, 14, 15, 16, 17,\n",
       "                    18, 19, 20, 21, 22, 23, 24, 25, 26, 27, 28, 29, 30, 31, 32, 33,\n",
       "                    34, 35, 36, 37, 38, 39, 40, 41, 42, 43, 44, 45, 46, 47, 48, 49,\n",
       "                    50, 51, 52, 53, 54, 55, 56, 57, 58, 59, 60, 61, 62, 63, 64, 65,\n",
       "                    66, 67, 68, 69, 70, 71, 72, 73, 74, 75, 76, 77, 78, 79, 80, 81,\n",
       "                    82, 83, 84, 85, 86, 87, 88, 89, 90, 91, 92, 93, 94, 95, 96, 97,\n",
       "                    98, 99],\n",
       "              'y': [0.5645644595240594, 0.6739305327223757, 0.6740587871792181,\n",
       "                    0.6740587871792181, 0.6752247367868761, 0.6752247367868761,\n",
       "                    0.6765306003474529, 0.6765306003474529, 0.6765306003474529,\n",
       "                    0.6765306003474529, 0.6770202991826694, 0.6774866790257326,\n",
       "                    0.6781279513099444, 0.6781279513099444, 0.6781279513099444,\n",
       "                    0.6781279513099444, 0.680191682115499, 0.680191682115499,\n",
       "                    0.680191682115499, 0.680191682115499, 0.680191682115499,\n",
       "                    0.680191682115499, 0.680191682115499, 0.680191682115499,\n",
       "                    0.680191682115499, 0.680191682115499, 0.680191682115499,\n",
       "                    0.680191682115499, 0.680191682115499, 0.6816141406368417,\n",
       "                    0.6816141406368417, 0.6816141406368417, 0.6816141406368417,\n",
       "                    0.6816141406368417, 0.6816141406368417, 0.6816141406368417,\n",
       "                    0.6816141406368417, 0.6816141406368417, 0.6816141406368417,\n",
       "                    0.6816141406368417, 0.6816141406368417, 0.6816141406368417,\n",
       "                    0.6816141406368417, 0.6816141406368417, 0.6821271584642111,\n",
       "                    0.6821271584642111, 0.6821271584642111, 0.6821271584642111,\n",
       "                    0.6821271584642111, 0.6821271584642111, 0.6821271584642111,\n",
       "                    0.6821271584642111, 0.6821271584642111, 0.6821271584642111,\n",
       "                    0.6821271584642111, 0.6821271584642111, 0.6821271584642111,\n",
       "                    0.6821271584642111, 0.6821271584642111, 0.6821271584642111,\n",
       "                    0.6821271584642111, 0.6821271584642111, 0.6821271584642111,\n",
       "                    0.6821271584642111, 0.6825002623386617, 0.6825002623386617,\n",
       "                    0.6825002623386617, 0.6825002623386617, 0.6825002623386617,\n",
       "                    0.6825002623386617, 0.6825002623386617, 0.6825002623386617,\n",
       "                    0.6825002623386617, 0.6825235813308149, 0.6825235813308149,\n",
       "                    0.6825235813308149, 0.6825352408268914, 0.6825352408268914,\n",
       "                    0.6825352408268914, 0.6825352408268914, 0.6825352408268914,\n",
       "                    0.6825352408268914, 0.6825352408268914, 0.6825352408268914,\n",
       "                    0.6825352408268914, 0.6825352408268914, 0.6825352408268914,\n",
       "                    0.6825352408268914, 0.6825352408268914, 0.6825352408268914,\n",
       "                    0.6825352408268914, 0.6825352408268914, 0.6825352408268914,\n",
       "                    0.6825352408268914, 0.6825352408268914, 0.6825352408268914,\n",
       "                    0.6825352408268914, 0.6825352408268914, 0.6825352408268914,\n",
       "                    0.6825352408268914]},\n",
       "             {'marker': {'color': '#cccccc'},\n",
       "              'mode': 'markers',\n",
       "              'name': 'Infeasible Trial',\n",
       "              'showlegend': False,\n",
       "              'type': 'scatter',\n",
       "              'x': [],\n",
       "              'y': []}],\n",
       "    'layout': {'template': '...',\n",
       "               'title': {'text': 'Optimization History Plot'},\n",
       "               'xaxis': {'title': {'text': 'Trial'}},\n",
       "               'yaxis': {'title': {'text': 'Objective Value'}}}\n",
       "})"
      ]
     },
     "execution_count": 17,
     "metadata": {},
     "output_type": "execute_result"
    }
   ],
   "source": [
    "optuna.visualization.plot_optimization_history(study)"
   ]
  },
  {
   "cell_type": "code",
   "execution_count": 18,
   "metadata": {},
   "outputs": [
    {
     "ename": "ValueError",
     "evalue": "Mime type rendering requires nbformat>=4.2.0 but it is not installed",
     "output_type": "error",
     "traceback": [
      "\u001b[1;31m---------------------------------------------------------------------------\u001b[0m",
      "\u001b[1;31mValueError\u001b[0m                                Traceback (most recent call last)",
      "File \u001b[1;32m~\\AppData\\Roaming\\Python\\Python312\\site-packages\\IPython\\core\\formatters.py:925\u001b[0m, in \u001b[0;36mIPythonDisplayFormatter.__call__\u001b[1;34m(self, obj)\u001b[0m\n\u001b[0;32m    923\u001b[0m method \u001b[38;5;241m=\u001b[39m get_real_method(obj, \u001b[38;5;28mself\u001b[39m\u001b[38;5;241m.\u001b[39mprint_method)\n\u001b[0;32m    924\u001b[0m \u001b[38;5;28;01mif\u001b[39;00m method \u001b[38;5;129;01mis\u001b[39;00m \u001b[38;5;129;01mnot\u001b[39;00m \u001b[38;5;28;01mNone\u001b[39;00m:\n\u001b[1;32m--> 925\u001b[0m     \u001b[43mmethod\u001b[49m\u001b[43m(\u001b[49m\u001b[43m)\u001b[49m\n\u001b[0;32m    926\u001b[0m     \u001b[38;5;28;01mreturn\u001b[39;00m \u001b[38;5;28;01mTrue\u001b[39;00m\n",
      "File \u001b[1;32mc:\\Users\\Sarah\\anaconda3\\envs\\nba_env\\Lib\\site-packages\\plotly\\basedatatypes.py:832\u001b[0m, in \u001b[0;36mBaseFigure._ipython_display_\u001b[1;34m(self)\u001b[0m\n\u001b[0;32m    829\u001b[0m \u001b[38;5;28;01mimport\u001b[39;00m \u001b[38;5;21;01mplotly\u001b[39;00m\u001b[38;5;21;01m.\u001b[39;00m\u001b[38;5;21;01mio\u001b[39;00m \u001b[38;5;28;01mas\u001b[39;00m \u001b[38;5;21;01mpio\u001b[39;00m\n\u001b[0;32m    831\u001b[0m \u001b[38;5;28;01mif\u001b[39;00m pio\u001b[38;5;241m.\u001b[39mrenderers\u001b[38;5;241m.\u001b[39mrender_on_display \u001b[38;5;129;01mand\u001b[39;00m pio\u001b[38;5;241m.\u001b[39mrenderers\u001b[38;5;241m.\u001b[39mdefault:\n\u001b[1;32m--> 832\u001b[0m     \u001b[43mpio\u001b[49m\u001b[38;5;241;43m.\u001b[39;49m\u001b[43mshow\u001b[49m\u001b[43m(\u001b[49m\u001b[38;5;28;43mself\u001b[39;49m\u001b[43m)\u001b[49m\n\u001b[0;32m    833\u001b[0m \u001b[38;5;28;01melse\u001b[39;00m:\n\u001b[0;32m    834\u001b[0m     \u001b[38;5;28mprint\u001b[39m(\u001b[38;5;28mrepr\u001b[39m(\u001b[38;5;28mself\u001b[39m))\n",
      "File \u001b[1;32mc:\\Users\\Sarah\\anaconda3\\envs\\nba_env\\Lib\\site-packages\\plotly\\io\\_renderers.py:394\u001b[0m, in \u001b[0;36mshow\u001b[1;34m(fig, renderer, validate, **kwargs)\u001b[0m\n\u001b[0;32m    389\u001b[0m         \u001b[38;5;28;01mraise\u001b[39;00m \u001b[38;5;167;01mValueError\u001b[39;00m(\n\u001b[0;32m    390\u001b[0m             \u001b[38;5;124m\"\u001b[39m\u001b[38;5;124mMime type rendering requires ipython but it is not installed\u001b[39m\u001b[38;5;124m\"\u001b[39m\n\u001b[0;32m    391\u001b[0m         )\n\u001b[0;32m    393\u001b[0m     \u001b[38;5;28;01mif\u001b[39;00m \u001b[38;5;129;01mnot\u001b[39;00m nbformat \u001b[38;5;129;01mor\u001b[39;00m Version(nbformat\u001b[38;5;241m.\u001b[39m__version__) \u001b[38;5;241m<\u001b[39m Version(\u001b[38;5;124m\"\u001b[39m\u001b[38;5;124m4.2.0\u001b[39m\u001b[38;5;124m\"\u001b[39m):\n\u001b[1;32m--> 394\u001b[0m         \u001b[38;5;28;01mraise\u001b[39;00m \u001b[38;5;167;01mValueError\u001b[39;00m(\n\u001b[0;32m    395\u001b[0m             \u001b[38;5;124m\"\u001b[39m\u001b[38;5;124mMime type rendering requires nbformat>=4.2.0 but it is not installed\u001b[39m\u001b[38;5;124m\"\u001b[39m\n\u001b[0;32m    396\u001b[0m         )\n\u001b[0;32m    398\u001b[0m     ipython_display\u001b[38;5;241m.\u001b[39mdisplay(bundle, raw\u001b[38;5;241m=\u001b[39m\u001b[38;5;28;01mTrue\u001b[39;00m)\n\u001b[0;32m    400\u001b[0m \u001b[38;5;66;03m# external renderers\u001b[39;00m\n",
      "\u001b[1;31mValueError\u001b[0m: Mime type rendering requires nbformat>=4.2.0 but it is not installed"
     ]
    },
    {
     "data": {
      "application/vnd.plotly.v1+json": {
       "config": {
        "plotlyServerURL": "https://plot.ly"
       },
       "data": [
        {
         "cliponaxis": false,
         "hovertemplate": [
          "booster (CategoricalDistribution): 0.07726350893741019<extra></extra>",
          "lambda (FloatDistribution): 0.08462061923529836<extra></extra>",
          "alpha (FloatDistribution): 0.14080752882677103<extra></extra>",
          "colsample_bytree (FloatDistribution): 0.3191073061752919<extra></extra>",
          "subsample (FloatDistribution): 0.37820103682522854<extra></extra>"
         ],
         "name": "Objective Value",
         "orientation": "h",
         "text": [
          "0.08",
          "0.08",
          "0.14",
          "0.32",
          "0.38"
         ],
         "textposition": "outside",
         "type": "bar",
         "x": [
          0.07726350893741019,
          0.08462061923529836,
          0.14080752882677103,
          0.3191073061752919,
          0.37820103682522854
         ],
         "y": [
          "booster",
          "lambda",
          "alpha",
          "colsample_bytree",
          "subsample"
         ]
        }
       ],
       "layout": {
        "template": {
         "data": {
          "bar": [
           {
            "error_x": {
             "color": "#2a3f5f"
            },
            "error_y": {
             "color": "#2a3f5f"
            },
            "marker": {
             "line": {
              "color": "#E5ECF6",
              "width": 0.5
             },
             "pattern": {
              "fillmode": "overlay",
              "size": 10,
              "solidity": 0.2
             }
            },
            "type": "bar"
           }
          ],
          "barpolar": [
           {
            "marker": {
             "line": {
              "color": "#E5ECF6",
              "width": 0.5
             },
             "pattern": {
              "fillmode": "overlay",
              "size": 10,
              "solidity": 0.2
             }
            },
            "type": "barpolar"
           }
          ],
          "carpet": [
           {
            "aaxis": {
             "endlinecolor": "#2a3f5f",
             "gridcolor": "white",
             "linecolor": "white",
             "minorgridcolor": "white",
             "startlinecolor": "#2a3f5f"
            },
            "baxis": {
             "endlinecolor": "#2a3f5f",
             "gridcolor": "white",
             "linecolor": "white",
             "minorgridcolor": "white",
             "startlinecolor": "#2a3f5f"
            },
            "type": "carpet"
           }
          ],
          "choropleth": [
           {
            "colorbar": {
             "outlinewidth": 0,
             "ticks": ""
            },
            "type": "choropleth"
           }
          ],
          "contour": [
           {
            "colorbar": {
             "outlinewidth": 0,
             "ticks": ""
            },
            "colorscale": [
             [
              0,
              "#0d0887"
             ],
             [
              0.1111111111111111,
              "#46039f"
             ],
             [
              0.2222222222222222,
              "#7201a8"
             ],
             [
              0.3333333333333333,
              "#9c179e"
             ],
             [
              0.4444444444444444,
              "#bd3786"
             ],
             [
              0.5555555555555556,
              "#d8576b"
             ],
             [
              0.6666666666666666,
              "#ed7953"
             ],
             [
              0.7777777777777778,
              "#fb9f3a"
             ],
             [
              0.8888888888888888,
              "#fdca26"
             ],
             [
              1,
              "#f0f921"
             ]
            ],
            "type": "contour"
           }
          ],
          "contourcarpet": [
           {
            "colorbar": {
             "outlinewidth": 0,
             "ticks": ""
            },
            "type": "contourcarpet"
           }
          ],
          "heatmap": [
           {
            "colorbar": {
             "outlinewidth": 0,
             "ticks": ""
            },
            "colorscale": [
             [
              0,
              "#0d0887"
             ],
             [
              0.1111111111111111,
              "#46039f"
             ],
             [
              0.2222222222222222,
              "#7201a8"
             ],
             [
              0.3333333333333333,
              "#9c179e"
             ],
             [
              0.4444444444444444,
              "#bd3786"
             ],
             [
              0.5555555555555556,
              "#d8576b"
             ],
             [
              0.6666666666666666,
              "#ed7953"
             ],
             [
              0.7777777777777778,
              "#fb9f3a"
             ],
             [
              0.8888888888888888,
              "#fdca26"
             ],
             [
              1,
              "#f0f921"
             ]
            ],
            "type": "heatmap"
           }
          ],
          "heatmapgl": [
           {
            "colorbar": {
             "outlinewidth": 0,
             "ticks": ""
            },
            "colorscale": [
             [
              0,
              "#0d0887"
             ],
             [
              0.1111111111111111,
              "#46039f"
             ],
             [
              0.2222222222222222,
              "#7201a8"
             ],
             [
              0.3333333333333333,
              "#9c179e"
             ],
             [
              0.4444444444444444,
              "#bd3786"
             ],
             [
              0.5555555555555556,
              "#d8576b"
             ],
             [
              0.6666666666666666,
              "#ed7953"
             ],
             [
              0.7777777777777778,
              "#fb9f3a"
             ],
             [
              0.8888888888888888,
              "#fdca26"
             ],
             [
              1,
              "#f0f921"
             ]
            ],
            "type": "heatmapgl"
           }
          ],
          "histogram": [
           {
            "marker": {
             "pattern": {
              "fillmode": "overlay",
              "size": 10,
              "solidity": 0.2
             }
            },
            "type": "histogram"
           }
          ],
          "histogram2d": [
           {
            "colorbar": {
             "outlinewidth": 0,
             "ticks": ""
            },
            "colorscale": [
             [
              0,
              "#0d0887"
             ],
             [
              0.1111111111111111,
              "#46039f"
             ],
             [
              0.2222222222222222,
              "#7201a8"
             ],
             [
              0.3333333333333333,
              "#9c179e"
             ],
             [
              0.4444444444444444,
              "#bd3786"
             ],
             [
              0.5555555555555556,
              "#d8576b"
             ],
             [
              0.6666666666666666,
              "#ed7953"
             ],
             [
              0.7777777777777778,
              "#fb9f3a"
             ],
             [
              0.8888888888888888,
              "#fdca26"
             ],
             [
              1,
              "#f0f921"
             ]
            ],
            "type": "histogram2d"
           }
          ],
          "histogram2dcontour": [
           {
            "colorbar": {
             "outlinewidth": 0,
             "ticks": ""
            },
            "colorscale": [
             [
              0,
              "#0d0887"
             ],
             [
              0.1111111111111111,
              "#46039f"
             ],
             [
              0.2222222222222222,
              "#7201a8"
             ],
             [
              0.3333333333333333,
              "#9c179e"
             ],
             [
              0.4444444444444444,
              "#bd3786"
             ],
             [
              0.5555555555555556,
              "#d8576b"
             ],
             [
              0.6666666666666666,
              "#ed7953"
             ],
             [
              0.7777777777777778,
              "#fb9f3a"
             ],
             [
              0.8888888888888888,
              "#fdca26"
             ],
             [
              1,
              "#f0f921"
             ]
            ],
            "type": "histogram2dcontour"
           }
          ],
          "mesh3d": [
           {
            "colorbar": {
             "outlinewidth": 0,
             "ticks": ""
            },
            "type": "mesh3d"
           }
          ],
          "parcoords": [
           {
            "line": {
             "colorbar": {
              "outlinewidth": 0,
              "ticks": ""
             }
            },
            "type": "parcoords"
           }
          ],
          "pie": [
           {
            "automargin": true,
            "type": "pie"
           }
          ],
          "scatter": [
           {
            "fillpattern": {
             "fillmode": "overlay",
             "size": 10,
             "solidity": 0.2
            },
            "type": "scatter"
           }
          ],
          "scatter3d": [
           {
            "line": {
             "colorbar": {
              "outlinewidth": 0,
              "ticks": ""
             }
            },
            "marker": {
             "colorbar": {
              "outlinewidth": 0,
              "ticks": ""
             }
            },
            "type": "scatter3d"
           }
          ],
          "scattercarpet": [
           {
            "marker": {
             "colorbar": {
              "outlinewidth": 0,
              "ticks": ""
             }
            },
            "type": "scattercarpet"
           }
          ],
          "scattergeo": [
           {
            "marker": {
             "colorbar": {
              "outlinewidth": 0,
              "ticks": ""
             }
            },
            "type": "scattergeo"
           }
          ],
          "scattergl": [
           {
            "marker": {
             "colorbar": {
              "outlinewidth": 0,
              "ticks": ""
             }
            },
            "type": "scattergl"
           }
          ],
          "scattermapbox": [
           {
            "marker": {
             "colorbar": {
              "outlinewidth": 0,
              "ticks": ""
             }
            },
            "type": "scattermapbox"
           }
          ],
          "scatterpolar": [
           {
            "marker": {
             "colorbar": {
              "outlinewidth": 0,
              "ticks": ""
             }
            },
            "type": "scatterpolar"
           }
          ],
          "scatterpolargl": [
           {
            "marker": {
             "colorbar": {
              "outlinewidth": 0,
              "ticks": ""
             }
            },
            "type": "scatterpolargl"
           }
          ],
          "scatterternary": [
           {
            "marker": {
             "colorbar": {
              "outlinewidth": 0,
              "ticks": ""
             }
            },
            "type": "scatterternary"
           }
          ],
          "surface": [
           {
            "colorbar": {
             "outlinewidth": 0,
             "ticks": ""
            },
            "colorscale": [
             [
              0,
              "#0d0887"
             ],
             [
              0.1111111111111111,
              "#46039f"
             ],
             [
              0.2222222222222222,
              "#7201a8"
             ],
             [
              0.3333333333333333,
              "#9c179e"
             ],
             [
              0.4444444444444444,
              "#bd3786"
             ],
             [
              0.5555555555555556,
              "#d8576b"
             ],
             [
              0.6666666666666666,
              "#ed7953"
             ],
             [
              0.7777777777777778,
              "#fb9f3a"
             ],
             [
              0.8888888888888888,
              "#fdca26"
             ],
             [
              1,
              "#f0f921"
             ]
            ],
            "type": "surface"
           }
          ],
          "table": [
           {
            "cells": {
             "fill": {
              "color": "#EBF0F8"
             },
             "line": {
              "color": "white"
             }
            },
            "header": {
             "fill": {
              "color": "#C8D4E3"
             },
             "line": {
              "color": "white"
             }
            },
            "type": "table"
           }
          ]
         },
         "layout": {
          "annotationdefaults": {
           "arrowcolor": "#2a3f5f",
           "arrowhead": 0,
           "arrowwidth": 1
          },
          "autotypenumbers": "strict",
          "coloraxis": {
           "colorbar": {
            "outlinewidth": 0,
            "ticks": ""
           }
          },
          "colorscale": {
           "diverging": [
            [
             0,
             "#8e0152"
            ],
            [
             0.1,
             "#c51b7d"
            ],
            [
             0.2,
             "#de77ae"
            ],
            [
             0.3,
             "#f1b6da"
            ],
            [
             0.4,
             "#fde0ef"
            ],
            [
             0.5,
             "#f7f7f7"
            ],
            [
             0.6,
             "#e6f5d0"
            ],
            [
             0.7,
             "#b8e186"
            ],
            [
             0.8,
             "#7fbc41"
            ],
            [
             0.9,
             "#4d9221"
            ],
            [
             1,
             "#276419"
            ]
           ],
           "sequential": [
            [
             0,
             "#0d0887"
            ],
            [
             0.1111111111111111,
             "#46039f"
            ],
            [
             0.2222222222222222,
             "#7201a8"
            ],
            [
             0.3333333333333333,
             "#9c179e"
            ],
            [
             0.4444444444444444,
             "#bd3786"
            ],
            [
             0.5555555555555556,
             "#d8576b"
            ],
            [
             0.6666666666666666,
             "#ed7953"
            ],
            [
             0.7777777777777778,
             "#fb9f3a"
            ],
            [
             0.8888888888888888,
             "#fdca26"
            ],
            [
             1,
             "#f0f921"
            ]
           ],
           "sequentialminus": [
            [
             0,
             "#0d0887"
            ],
            [
             0.1111111111111111,
             "#46039f"
            ],
            [
             0.2222222222222222,
             "#7201a8"
            ],
            [
             0.3333333333333333,
             "#9c179e"
            ],
            [
             0.4444444444444444,
             "#bd3786"
            ],
            [
             0.5555555555555556,
             "#d8576b"
            ],
            [
             0.6666666666666666,
             "#ed7953"
            ],
            [
             0.7777777777777778,
             "#fb9f3a"
            ],
            [
             0.8888888888888888,
             "#fdca26"
            ],
            [
             1,
             "#f0f921"
            ]
           ]
          },
          "colorway": [
           "#636efa",
           "#EF553B",
           "#00cc96",
           "#ab63fa",
           "#FFA15A",
           "#19d3f3",
           "#FF6692",
           "#B6E880",
           "#FF97FF",
           "#FECB52"
          ],
          "font": {
           "color": "#2a3f5f"
          },
          "geo": {
           "bgcolor": "white",
           "lakecolor": "white",
           "landcolor": "#E5ECF6",
           "showlakes": true,
           "showland": true,
           "subunitcolor": "white"
          },
          "hoverlabel": {
           "align": "left"
          },
          "hovermode": "closest",
          "mapbox": {
           "style": "light"
          },
          "paper_bgcolor": "white",
          "plot_bgcolor": "#E5ECF6",
          "polar": {
           "angularaxis": {
            "gridcolor": "white",
            "linecolor": "white",
            "ticks": ""
           },
           "bgcolor": "#E5ECF6",
           "radialaxis": {
            "gridcolor": "white",
            "linecolor": "white",
            "ticks": ""
           }
          },
          "scene": {
           "xaxis": {
            "backgroundcolor": "#E5ECF6",
            "gridcolor": "white",
            "gridwidth": 2,
            "linecolor": "white",
            "showbackground": true,
            "ticks": "",
            "zerolinecolor": "white"
           },
           "yaxis": {
            "backgroundcolor": "#E5ECF6",
            "gridcolor": "white",
            "gridwidth": 2,
            "linecolor": "white",
            "showbackground": true,
            "ticks": "",
            "zerolinecolor": "white"
           },
           "zaxis": {
            "backgroundcolor": "#E5ECF6",
            "gridcolor": "white",
            "gridwidth": 2,
            "linecolor": "white",
            "showbackground": true,
            "ticks": "",
            "zerolinecolor": "white"
           }
          },
          "shapedefaults": {
           "line": {
            "color": "#2a3f5f"
           }
          },
          "ternary": {
           "aaxis": {
            "gridcolor": "white",
            "linecolor": "white",
            "ticks": ""
           },
           "baxis": {
            "gridcolor": "white",
            "linecolor": "white",
            "ticks": ""
           },
           "bgcolor": "#E5ECF6",
           "caxis": {
            "gridcolor": "white",
            "linecolor": "white",
            "ticks": ""
           }
          },
          "title": {
           "x": 0.05
          },
          "xaxis": {
           "automargin": true,
           "gridcolor": "white",
           "linecolor": "white",
           "ticks": "",
           "title": {
            "standoff": 15
           },
           "zerolinecolor": "white",
           "zerolinewidth": 2
          },
          "yaxis": {
           "automargin": true,
           "gridcolor": "white",
           "linecolor": "white",
           "ticks": "",
           "title": {
            "standoff": 15
           },
           "zerolinecolor": "white",
           "zerolinewidth": 2
          }
         }
        },
        "title": {
         "text": "Hyperparameter Importances"
        },
        "xaxis": {
         "title": {
          "text": "Hyperparameter Importance"
         }
        },
        "yaxis": {
         "title": {
          "text": "Hyperparameter"
         }
        }
       }
      },
      "text/html": [
       "<div>                        <script type=\"text/javascript\">window.PlotlyConfig = {MathJaxConfig: 'local'};</script>\n",
       "        <script charset=\"utf-8\" src=\"https://cdn.plot.ly/plotly-2.32.0.min.js\"></script>                <div id=\"c33f45b2-f86a-46d9-8c9a-fbd11e48544c\" class=\"plotly-graph-div\" style=\"height:100%; width:100%;\"></div>            <script type=\"text/javascript\">                                    window.PLOTLYENV=window.PLOTLYENV || {};                                    if (document.getElementById(\"c33f45b2-f86a-46d9-8c9a-fbd11e48544c\")) {                    Plotly.newPlot(                        \"c33f45b2-f86a-46d9-8c9a-fbd11e48544c\",                        [{\"cliponaxis\":false,\"hovertemplate\":[\"booster (CategoricalDistribution): 0.07726350893741019\\u003cextra\\u003e\\u003c\\u002fextra\\u003e\",\"lambda (FloatDistribution): 0.08462061923529836\\u003cextra\\u003e\\u003c\\u002fextra\\u003e\",\"alpha (FloatDistribution): 0.14080752882677103\\u003cextra\\u003e\\u003c\\u002fextra\\u003e\",\"colsample_bytree (FloatDistribution): 0.3191073061752919\\u003cextra\\u003e\\u003c\\u002fextra\\u003e\",\"subsample (FloatDistribution): 0.37820103682522854\\u003cextra\\u003e\\u003c\\u002fextra\\u003e\"],\"name\":\"Objective Value\",\"orientation\":\"h\",\"text\":[\"0.08\",\"0.08\",\"0.14\",\"0.32\",\"0.38\"],\"textposition\":\"outside\",\"x\":[0.07726350893741019,0.08462061923529836,0.14080752882677103,0.3191073061752919,0.37820103682522854],\"y\":[\"booster\",\"lambda\",\"alpha\",\"colsample_bytree\",\"subsample\"],\"type\":\"bar\"}],                        {\"title\":{\"text\":\"Hyperparameter Importances\"},\"xaxis\":{\"title\":{\"text\":\"Hyperparameter Importance\"}},\"yaxis\":{\"title\":{\"text\":\"Hyperparameter\"}},\"template\":{\"data\":{\"histogram2dcontour\":[{\"type\":\"histogram2dcontour\",\"colorbar\":{\"outlinewidth\":0,\"ticks\":\"\"},\"colorscale\":[[0.0,\"#0d0887\"],[0.1111111111111111,\"#46039f\"],[0.2222222222222222,\"#7201a8\"],[0.3333333333333333,\"#9c179e\"],[0.4444444444444444,\"#bd3786\"],[0.5555555555555556,\"#d8576b\"],[0.6666666666666666,\"#ed7953\"],[0.7777777777777778,\"#fb9f3a\"],[0.8888888888888888,\"#fdca26\"],[1.0,\"#f0f921\"]]}],\"choropleth\":[{\"type\":\"choropleth\",\"colorbar\":{\"outlinewidth\":0,\"ticks\":\"\"}}],\"histogram2d\":[{\"type\":\"histogram2d\",\"colorbar\":{\"outlinewidth\":0,\"ticks\":\"\"},\"colorscale\":[[0.0,\"#0d0887\"],[0.1111111111111111,\"#46039f\"],[0.2222222222222222,\"#7201a8\"],[0.3333333333333333,\"#9c179e\"],[0.4444444444444444,\"#bd3786\"],[0.5555555555555556,\"#d8576b\"],[0.6666666666666666,\"#ed7953\"],[0.7777777777777778,\"#fb9f3a\"],[0.8888888888888888,\"#fdca26\"],[1.0,\"#f0f921\"]]}],\"heatmap\":[{\"type\":\"heatmap\",\"colorbar\":{\"outlinewidth\":0,\"ticks\":\"\"},\"colorscale\":[[0.0,\"#0d0887\"],[0.1111111111111111,\"#46039f\"],[0.2222222222222222,\"#7201a8\"],[0.3333333333333333,\"#9c179e\"],[0.4444444444444444,\"#bd3786\"],[0.5555555555555556,\"#d8576b\"],[0.6666666666666666,\"#ed7953\"],[0.7777777777777778,\"#fb9f3a\"],[0.8888888888888888,\"#fdca26\"],[1.0,\"#f0f921\"]]}],\"heatmapgl\":[{\"type\":\"heatmapgl\",\"colorbar\":{\"outlinewidth\":0,\"ticks\":\"\"},\"colorscale\":[[0.0,\"#0d0887\"],[0.1111111111111111,\"#46039f\"],[0.2222222222222222,\"#7201a8\"],[0.3333333333333333,\"#9c179e\"],[0.4444444444444444,\"#bd3786\"],[0.5555555555555556,\"#d8576b\"],[0.6666666666666666,\"#ed7953\"],[0.7777777777777778,\"#fb9f3a\"],[0.8888888888888888,\"#fdca26\"],[1.0,\"#f0f921\"]]}],\"contourcarpet\":[{\"type\":\"contourcarpet\",\"colorbar\":{\"outlinewidth\":0,\"ticks\":\"\"}}],\"contour\":[{\"type\":\"contour\",\"colorbar\":{\"outlinewidth\":0,\"ticks\":\"\"},\"colorscale\":[[0.0,\"#0d0887\"],[0.1111111111111111,\"#46039f\"],[0.2222222222222222,\"#7201a8\"],[0.3333333333333333,\"#9c179e\"],[0.4444444444444444,\"#bd3786\"],[0.5555555555555556,\"#d8576b\"],[0.6666666666666666,\"#ed7953\"],[0.7777777777777778,\"#fb9f3a\"],[0.8888888888888888,\"#fdca26\"],[1.0,\"#f0f921\"]]}],\"surface\":[{\"type\":\"surface\",\"colorbar\":{\"outlinewidth\":0,\"ticks\":\"\"},\"colorscale\":[[0.0,\"#0d0887\"],[0.1111111111111111,\"#46039f\"],[0.2222222222222222,\"#7201a8\"],[0.3333333333333333,\"#9c179e\"],[0.4444444444444444,\"#bd3786\"],[0.5555555555555556,\"#d8576b\"],[0.6666666666666666,\"#ed7953\"],[0.7777777777777778,\"#fb9f3a\"],[0.8888888888888888,\"#fdca26\"],[1.0,\"#f0f921\"]]}],\"mesh3d\":[{\"type\":\"mesh3d\",\"colorbar\":{\"outlinewidth\":0,\"ticks\":\"\"}}],\"scatter\":[{\"fillpattern\":{\"fillmode\":\"overlay\",\"size\":10,\"solidity\":0.2},\"type\":\"scatter\"}],\"parcoords\":[{\"type\":\"parcoords\",\"line\":{\"colorbar\":{\"outlinewidth\":0,\"ticks\":\"\"}}}],\"scatterpolargl\":[{\"type\":\"scatterpolargl\",\"marker\":{\"colorbar\":{\"outlinewidth\":0,\"ticks\":\"\"}}}],\"bar\":[{\"error_x\":{\"color\":\"#2a3f5f\"},\"error_y\":{\"color\":\"#2a3f5f\"},\"marker\":{\"line\":{\"color\":\"#E5ECF6\",\"width\":0.5},\"pattern\":{\"fillmode\":\"overlay\",\"size\":10,\"solidity\":0.2}},\"type\":\"bar\"}],\"scattergeo\":[{\"type\":\"scattergeo\",\"marker\":{\"colorbar\":{\"outlinewidth\":0,\"ticks\":\"\"}}}],\"scatterpolar\":[{\"type\":\"scatterpolar\",\"marker\":{\"colorbar\":{\"outlinewidth\":0,\"ticks\":\"\"}}}],\"histogram\":[{\"marker\":{\"pattern\":{\"fillmode\":\"overlay\",\"size\":10,\"solidity\":0.2}},\"type\":\"histogram\"}],\"scattergl\":[{\"type\":\"scattergl\",\"marker\":{\"colorbar\":{\"outlinewidth\":0,\"ticks\":\"\"}}}],\"scatter3d\":[{\"type\":\"scatter3d\",\"line\":{\"colorbar\":{\"outlinewidth\":0,\"ticks\":\"\"}},\"marker\":{\"colorbar\":{\"outlinewidth\":0,\"ticks\":\"\"}}}],\"scattermapbox\":[{\"type\":\"scattermapbox\",\"marker\":{\"colorbar\":{\"outlinewidth\":0,\"ticks\":\"\"}}}],\"scatterternary\":[{\"type\":\"scatterternary\",\"marker\":{\"colorbar\":{\"outlinewidth\":0,\"ticks\":\"\"}}}],\"scattercarpet\":[{\"type\":\"scattercarpet\",\"marker\":{\"colorbar\":{\"outlinewidth\":0,\"ticks\":\"\"}}}],\"carpet\":[{\"aaxis\":{\"endlinecolor\":\"#2a3f5f\",\"gridcolor\":\"white\",\"linecolor\":\"white\",\"minorgridcolor\":\"white\",\"startlinecolor\":\"#2a3f5f\"},\"baxis\":{\"endlinecolor\":\"#2a3f5f\",\"gridcolor\":\"white\",\"linecolor\":\"white\",\"minorgridcolor\":\"white\",\"startlinecolor\":\"#2a3f5f\"},\"type\":\"carpet\"}],\"table\":[{\"cells\":{\"fill\":{\"color\":\"#EBF0F8\"},\"line\":{\"color\":\"white\"}},\"header\":{\"fill\":{\"color\":\"#C8D4E3\"},\"line\":{\"color\":\"white\"}},\"type\":\"table\"}],\"barpolar\":[{\"marker\":{\"line\":{\"color\":\"#E5ECF6\",\"width\":0.5},\"pattern\":{\"fillmode\":\"overlay\",\"size\":10,\"solidity\":0.2}},\"type\":\"barpolar\"}],\"pie\":[{\"automargin\":true,\"type\":\"pie\"}]},\"layout\":{\"autotypenumbers\":\"strict\",\"colorway\":[\"#636efa\",\"#EF553B\",\"#00cc96\",\"#ab63fa\",\"#FFA15A\",\"#19d3f3\",\"#FF6692\",\"#B6E880\",\"#FF97FF\",\"#FECB52\"],\"font\":{\"color\":\"#2a3f5f\"},\"hovermode\":\"closest\",\"hoverlabel\":{\"align\":\"left\"},\"paper_bgcolor\":\"white\",\"plot_bgcolor\":\"#E5ECF6\",\"polar\":{\"bgcolor\":\"#E5ECF6\",\"angularaxis\":{\"gridcolor\":\"white\",\"linecolor\":\"white\",\"ticks\":\"\"},\"radialaxis\":{\"gridcolor\":\"white\",\"linecolor\":\"white\",\"ticks\":\"\"}},\"ternary\":{\"bgcolor\":\"#E5ECF6\",\"aaxis\":{\"gridcolor\":\"white\",\"linecolor\":\"white\",\"ticks\":\"\"},\"baxis\":{\"gridcolor\":\"white\",\"linecolor\":\"white\",\"ticks\":\"\"},\"caxis\":{\"gridcolor\":\"white\",\"linecolor\":\"white\",\"ticks\":\"\"}},\"coloraxis\":{\"colorbar\":{\"outlinewidth\":0,\"ticks\":\"\"}},\"colorscale\":{\"sequential\":[[0.0,\"#0d0887\"],[0.1111111111111111,\"#46039f\"],[0.2222222222222222,\"#7201a8\"],[0.3333333333333333,\"#9c179e\"],[0.4444444444444444,\"#bd3786\"],[0.5555555555555556,\"#d8576b\"],[0.6666666666666666,\"#ed7953\"],[0.7777777777777778,\"#fb9f3a\"],[0.8888888888888888,\"#fdca26\"],[1.0,\"#f0f921\"]],\"sequentialminus\":[[0.0,\"#0d0887\"],[0.1111111111111111,\"#46039f\"],[0.2222222222222222,\"#7201a8\"],[0.3333333333333333,\"#9c179e\"],[0.4444444444444444,\"#bd3786\"],[0.5555555555555556,\"#d8576b\"],[0.6666666666666666,\"#ed7953\"],[0.7777777777777778,\"#fb9f3a\"],[0.8888888888888888,\"#fdca26\"],[1.0,\"#f0f921\"]],\"diverging\":[[0,\"#8e0152\"],[0.1,\"#c51b7d\"],[0.2,\"#de77ae\"],[0.3,\"#f1b6da\"],[0.4,\"#fde0ef\"],[0.5,\"#f7f7f7\"],[0.6,\"#e6f5d0\"],[0.7,\"#b8e186\"],[0.8,\"#7fbc41\"],[0.9,\"#4d9221\"],[1,\"#276419\"]]},\"xaxis\":{\"gridcolor\":\"white\",\"linecolor\":\"white\",\"ticks\":\"\",\"title\":{\"standoff\":15},\"zerolinecolor\":\"white\",\"automargin\":true,\"zerolinewidth\":2},\"yaxis\":{\"gridcolor\":\"white\",\"linecolor\":\"white\",\"ticks\":\"\",\"title\":{\"standoff\":15},\"zerolinecolor\":\"white\",\"automargin\":true,\"zerolinewidth\":2},\"scene\":{\"xaxis\":{\"backgroundcolor\":\"#E5ECF6\",\"gridcolor\":\"white\",\"linecolor\":\"white\",\"showbackground\":true,\"ticks\":\"\",\"zerolinecolor\":\"white\",\"gridwidth\":2},\"yaxis\":{\"backgroundcolor\":\"#E5ECF6\",\"gridcolor\":\"white\",\"linecolor\":\"white\",\"showbackground\":true,\"ticks\":\"\",\"zerolinecolor\":\"white\",\"gridwidth\":2},\"zaxis\":{\"backgroundcolor\":\"#E5ECF6\",\"gridcolor\":\"white\",\"linecolor\":\"white\",\"showbackground\":true,\"ticks\":\"\",\"zerolinecolor\":\"white\",\"gridwidth\":2}},\"shapedefaults\":{\"line\":{\"color\":\"#2a3f5f\"}},\"annotationdefaults\":{\"arrowcolor\":\"#2a3f5f\",\"arrowhead\":0,\"arrowwidth\":1},\"geo\":{\"bgcolor\":\"white\",\"landcolor\":\"#E5ECF6\",\"subunitcolor\":\"white\",\"showland\":true,\"showlakes\":true,\"lakecolor\":\"white\"},\"title\":{\"x\":0.05},\"mapbox\":{\"style\":\"light\"}}}},                        {\"responsive\": true}                    )                };                            </script>        </div>"
      ],
      "text/plain": [
       "Figure({\n",
       "    'data': [{'cliponaxis': False,\n",
       "              'hovertemplate': [booster (CategoricalDistribution):\n",
       "                                0.07726350893741019<extra></extra>, lambda\n",
       "                                (FloatDistribution):\n",
       "                                0.08462061923529836<extra></extra>, alpha\n",
       "                                (FloatDistribution):\n",
       "                                0.14080752882677103<extra></extra>,\n",
       "                                colsample_bytree (FloatDistribution):\n",
       "                                0.3191073061752919<extra></extra>, subsample\n",
       "                                (FloatDistribution):\n",
       "                                0.37820103682522854<extra></extra>],\n",
       "              'name': 'Objective Value',\n",
       "              'orientation': 'h',\n",
       "              'text': [0.08, 0.08, 0.14, 0.32, 0.38],\n",
       "              'textposition': 'outside',\n",
       "              'type': 'bar',\n",
       "              'x': [0.07726350893741019, 0.08462061923529836, 0.14080752882677103,\n",
       "                    0.3191073061752919, 0.37820103682522854],\n",
       "              'y': [booster, lambda, alpha, colsample_bytree, subsample]}],\n",
       "    'layout': {'template': '...',\n",
       "               'title': {'text': 'Hyperparameter Importances'},\n",
       "               'xaxis': {'title': {'text': 'Hyperparameter Importance'}},\n",
       "               'yaxis': {'title': {'text': 'Hyperparameter'}}}\n",
       "})"
      ]
     },
     "execution_count": 18,
     "metadata": {},
     "output_type": "execute_result"
    }
   ],
   "source": [
    "optuna.visualization.plot_param_importances(study)"
   ]
  },
  {
   "cell_type": "code",
   "execution_count": 19,
   "metadata": {},
   "outputs": [
    {
     "ename": "ValueError",
     "evalue": "Mime type rendering requires nbformat>=4.2.0 but it is not installed",
     "output_type": "error",
     "traceback": [
      "\u001b[1;31m---------------------------------------------------------------------------\u001b[0m",
      "\u001b[1;31mValueError\u001b[0m                                Traceback (most recent call last)",
      "File \u001b[1;32m~\\AppData\\Roaming\\Python\\Python312\\site-packages\\IPython\\core\\formatters.py:925\u001b[0m, in \u001b[0;36mIPythonDisplayFormatter.__call__\u001b[1;34m(self, obj)\u001b[0m\n\u001b[0;32m    923\u001b[0m method \u001b[38;5;241m=\u001b[39m get_real_method(obj, \u001b[38;5;28mself\u001b[39m\u001b[38;5;241m.\u001b[39mprint_method)\n\u001b[0;32m    924\u001b[0m \u001b[38;5;28;01mif\u001b[39;00m method \u001b[38;5;129;01mis\u001b[39;00m \u001b[38;5;129;01mnot\u001b[39;00m \u001b[38;5;28;01mNone\u001b[39;00m:\n\u001b[1;32m--> 925\u001b[0m     \u001b[43mmethod\u001b[49m\u001b[43m(\u001b[49m\u001b[43m)\u001b[49m\n\u001b[0;32m    926\u001b[0m     \u001b[38;5;28;01mreturn\u001b[39;00m \u001b[38;5;28;01mTrue\u001b[39;00m\n",
      "File \u001b[1;32mc:\\Users\\Sarah\\anaconda3\\envs\\nba_env\\Lib\\site-packages\\plotly\\basedatatypes.py:832\u001b[0m, in \u001b[0;36mBaseFigure._ipython_display_\u001b[1;34m(self)\u001b[0m\n\u001b[0;32m    829\u001b[0m \u001b[38;5;28;01mimport\u001b[39;00m \u001b[38;5;21;01mplotly\u001b[39;00m\u001b[38;5;21;01m.\u001b[39;00m\u001b[38;5;21;01mio\u001b[39;00m \u001b[38;5;28;01mas\u001b[39;00m \u001b[38;5;21;01mpio\u001b[39;00m\n\u001b[0;32m    831\u001b[0m \u001b[38;5;28;01mif\u001b[39;00m pio\u001b[38;5;241m.\u001b[39mrenderers\u001b[38;5;241m.\u001b[39mrender_on_display \u001b[38;5;129;01mand\u001b[39;00m pio\u001b[38;5;241m.\u001b[39mrenderers\u001b[38;5;241m.\u001b[39mdefault:\n\u001b[1;32m--> 832\u001b[0m     \u001b[43mpio\u001b[49m\u001b[38;5;241;43m.\u001b[39;49m\u001b[43mshow\u001b[49m\u001b[43m(\u001b[49m\u001b[38;5;28;43mself\u001b[39;49m\u001b[43m)\u001b[49m\n\u001b[0;32m    833\u001b[0m \u001b[38;5;28;01melse\u001b[39;00m:\n\u001b[0;32m    834\u001b[0m     \u001b[38;5;28mprint\u001b[39m(\u001b[38;5;28mrepr\u001b[39m(\u001b[38;5;28mself\u001b[39m))\n",
      "File \u001b[1;32mc:\\Users\\Sarah\\anaconda3\\envs\\nba_env\\Lib\\site-packages\\plotly\\io\\_renderers.py:394\u001b[0m, in \u001b[0;36mshow\u001b[1;34m(fig, renderer, validate, **kwargs)\u001b[0m\n\u001b[0;32m    389\u001b[0m         \u001b[38;5;28;01mraise\u001b[39;00m \u001b[38;5;167;01mValueError\u001b[39;00m(\n\u001b[0;32m    390\u001b[0m             \u001b[38;5;124m\"\u001b[39m\u001b[38;5;124mMime type rendering requires ipython but it is not installed\u001b[39m\u001b[38;5;124m\"\u001b[39m\n\u001b[0;32m    391\u001b[0m         )\n\u001b[0;32m    393\u001b[0m     \u001b[38;5;28;01mif\u001b[39;00m \u001b[38;5;129;01mnot\u001b[39;00m nbformat \u001b[38;5;129;01mor\u001b[39;00m Version(nbformat\u001b[38;5;241m.\u001b[39m__version__) \u001b[38;5;241m<\u001b[39m Version(\u001b[38;5;124m\"\u001b[39m\u001b[38;5;124m4.2.0\u001b[39m\u001b[38;5;124m\"\u001b[39m):\n\u001b[1;32m--> 394\u001b[0m         \u001b[38;5;28;01mraise\u001b[39;00m \u001b[38;5;167;01mValueError\u001b[39;00m(\n\u001b[0;32m    395\u001b[0m             \u001b[38;5;124m\"\u001b[39m\u001b[38;5;124mMime type rendering requires nbformat>=4.2.0 but it is not installed\u001b[39m\u001b[38;5;124m\"\u001b[39m\n\u001b[0;32m    396\u001b[0m         )\n\u001b[0;32m    398\u001b[0m     ipython_display\u001b[38;5;241m.\u001b[39mdisplay(bundle, raw\u001b[38;5;241m=\u001b[39m\u001b[38;5;28;01mTrue\u001b[39;00m)\n\u001b[0;32m    400\u001b[0m \u001b[38;5;66;03m# external renderers\u001b[39;00m\n",
      "\u001b[1;31mValueError\u001b[0m: Mime type rendering requires nbformat>=4.2.0 but it is not installed"
     ]
    },
    {
     "data": {
      "application/vnd.plotly.v1+json": {
       "config": {
        "plotlyServerURL": "https://plot.ly"
       },
       "data": [
        {
         "marker": {
          "color": [
           0,
           1,
           2,
           3,
           4,
           5,
           6,
           7,
           8,
           9,
           10,
           11,
           12,
           13,
           14,
           15,
           16,
           17,
           18,
           19,
           20,
           21,
           22,
           23,
           24,
           25,
           26,
           27,
           28,
           29,
           30,
           31,
           32,
           33,
           34,
           35,
           36,
           37,
           38,
           39,
           40,
           41,
           42,
           43,
           44,
           45,
           46,
           47,
           48,
           49,
           50,
           51,
           52,
           53,
           54,
           55,
           56,
           57,
           58,
           59,
           60,
           61,
           62,
           63,
           64,
           65,
           66,
           67,
           68,
           69,
           70,
           71,
           72,
           73,
           74,
           75,
           76,
           77,
           78,
           79,
           80,
           81,
           82,
           83,
           84,
           85,
           86,
           87,
           88,
           89,
           90,
           91,
           92,
           93,
           94,
           95,
           96,
           97,
           98,
           99
          ],
          "colorbar": {
           "title": {
            "text": "Trial"
           },
           "x": 1,
           "xpad": 40
          },
          "colorscale": [
           [
            0,
            "rgb(247,251,255)"
           ],
           [
            0.125,
            "rgb(222,235,247)"
           ],
           [
            0.25,
            "rgb(198,219,239)"
           ],
           [
            0.375,
            "rgb(158,202,225)"
           ],
           [
            0.5,
            "rgb(107,174,214)"
           ],
           [
            0.625,
            "rgb(66,146,198)"
           ],
           [
            0.75,
            "rgb(33,113,181)"
           ],
           [
            0.875,
            "rgb(8,81,156)"
           ],
           [
            1,
            "rgb(8,48,107)"
           ]
          ],
          "line": {
           "color": "Grey",
           "width": 0.5
          },
          "showscale": true
         },
         "mode": "markers",
         "name": "Feasible Trial",
         "showlegend": false,
         "type": "scatter",
         "x": [
          0.0011451390130396597,
          1.2094464151932313e-8,
          7.061111413598189e-7,
          0.8866006585339498,
          0.006164340132814618,
          0.0022740045685392596,
          3.2983150813660233e-7,
          2.429573252265458e-7,
          0.0020032067995748117,
          0.00041512579285493613,
          0.000008484494515479239,
          0.000008133467560031941,
          0.0000048657089248510754,
          0.000011918050898581142,
          0.00002644798662957866,
          0.000002064716865213716,
          0.0001232411444965965,
          0.03490800333137301,
          0.00009270992213192295,
          4.812562213961896e-8,
          0.00016718852040888474,
          0.0000027533301873336584,
          0.0000018903133367431702,
          0.000048501951817287105,
          0.0000025118473269649554,
          4.7175536113536835e-8,
          4.073338713093635e-8,
          1.5045402111711732e-7,
          1.2145308056461768e-8,
          6.767137965115558e-7,
          0.0004828040058966788,
          0.00025827731240911876,
          0.0004171063819378436,
          0.000504920751396847,
          0.012575181356249463,
          0.04136538891336599,
          0.017317697424105542,
          0.555976897514931,
          0.13702261256162124,
          0.0010697165365388674,
          0.004828512822077445,
          0.019211904897836914,
          0.00837989629988712,
          0.0011955649476340995,
          0.0007924451904003184,
          0.00046253507462241353,
          0.002244616987781639,
          0.000022633788744447686,
          0.0033060088333697643,
          0.000041680599242801316,
          0.0009095763311571298,
          0.0006605483030042633,
          0.0008081315679075477,
          0.00021073559203864343,
          0.0000690066761693756,
          0.002330407681615806,
          0.06258513237908052,
          8.722819568856754e-7,
          0.0054991117098776385,
          0.1469340932356078,
          0.0014409851603062105,
          0.000015235310717410962,
          0.000011110020818814702,
          0.00011431096125171484,
          6.454856185869622e-7,
          3.067275731930734e-7,
          6.899874960215372e-7,
          0.00002542182211286341,
          0.0000048468202980693394,
          0.0000011069793122543056,
          1.9144492860569445e-7,
          0.00029125284704099657,
          4.0462596667377603e-7,
          9.651693744681854e-8,
          2.406747765458144e-8,
          8.740758688593511e-8,
          2.3445234888982956e-8,
          1.6194062512903545e-8,
          1.5402637346585933e-8,
          2.3012312732234438e-8,
          2.8343678613564854e-8,
          2.3269109489940843e-8,
          1.1637210447866818e-7,
          7.89456446673968e-8,
          2.9129568543816323e-8,
          1.1111190906881421e-7,
          5.8328057005441935e-8,
          1.0899599840311232e-8,
          2.2619965770447595e-8,
          4.0222134921282527e-7,
          3.661378187780248e-8,
          5.915998624663202e-8,
          1.7696009656288418e-8,
          1.8475435812382283e-8,
          1.4002169091082014e-7,
          3.352689511092908e-8,
          1.0755604366392676e-8,
          4.336081303376962e-7,
          7.844357755605108e-8,
          5.2048247414308855e-8
         ],
         "xaxis": "x",
         "y": [
          0.5645644595240594,
          0.6739305327223757,
          0.6740587871792181,
          0.5645644595240594,
          0.6752247367868761,
          0.5645644595240594,
          0.6765306003474529,
          0.6740704466752947,
          0.5645644595240594,
          0.5645644595240594,
          0.6770202991826694,
          0.6774866790257326,
          0.6781279513099444,
          0.5645644595240594,
          0.6653724626021663,
          0.5645644595240594,
          0.680191682115499,
          0.5666748283139202,
          0.5645644595240594,
          0.676390686394534,
          0.5645644595240594,
          0.67872258560985,
          0.6771485536395117,
          0.6768687257336737,
          0.5645644595240594,
          0.678582671656931,
          0.5645644595240594,
          0.5645644595240594,
          0.5645644595240594,
          0.6816141406368417,
          0.6810661443212425,
          0.6802849580841116,
          0.6812760152506209,
          0.5677824804411953,
          0.6807746569193279,
          0.5645644595240594,
          0.6814159292035398,
          0.5645644595240594,
          0.5841407534366365,
          0.6739421922184523,
          0.5645644595240594,
          0.6796320263038231,
          0.679911854209661,
          0.6808212949036343,
          0.6821271584642111,
          0.6739305327223757,
          0.5645644595240594,
          0.6594610980913405,
          0.5645644595240594,
          0.6740937656674478,
          0.6816840976133012,
          0.681217717770238,
          0.681077803817319,
          0.6811827392820082,
          0.6748516329124256,
          0.5654272622337263,
          0.6809378898644001,
          0.6780696538295615,
          0.6749099303928084,
          0.6650226777198689,
          0.6811011228094722,
          0.6815791621486119,
          0.6737789592733802,
          0.6800984061468863,
          0.6825002623386617,
          0.5948674898270897,
          0.6811011228094722,
          0.6761225179847727,
          0.6780696538295615,
          0.6722282462951952,
          0.5645644595240594,
          0.6807629974232514,
          0.682243753424977,
          0.6825235813308149,
          0.6821621369524409,
          0.6781745892942507,
          0.6825352408268914,
          0.6822204344328238,
          0.6022829293317943,
          0.6824419648582788,
          0.682465283850432,
          0.6794571338626745,
          0.6821737964485175,
          0.6807513379271748,
          0.6810661443212425,
          0.5645644595240594,
          0.6719950563736635,
          0.5645644595240594,
          0.6810428253290893,
          0.6807979759114811,
          0.6819755850152156,
          0.6815325241643057,
          0.6822320939289004,
          0.6740587871792181,
          0.6797253022724358,
          0.6762974104259214,
          0.6606970046754579,
          0.5709888418622547,
          0.6740238086909883,
          0.6810894633133956
         ],
         "yaxis": "y"
        },
        {
         "marker": {
          "color": [
           0,
           1,
           2,
           3,
           4,
           5,
           6,
           7,
           8,
           9,
           10,
           11,
           12,
           13,
           14,
           15,
           16,
           17,
           18,
           19,
           20,
           21,
           22,
           23,
           24,
           25,
           26,
           27,
           28,
           29,
           30,
           31,
           32,
           33,
           34,
           35,
           36,
           37,
           38,
           39,
           40,
           41,
           42,
           43,
           44,
           45,
           46,
           47,
           48,
           49,
           50,
           51,
           52,
           53,
           54,
           55,
           56,
           57,
           58,
           59,
           60,
           61,
           62,
           63,
           64,
           65,
           66,
           67,
           68,
           69,
           70,
           71,
           72,
           73,
           74,
           75,
           76,
           77,
           78,
           79,
           80,
           81,
           82,
           83,
           84,
           85,
           86,
           87,
           88,
           89,
           90,
           91,
           92,
           93,
           94,
           95,
           96,
           97,
           98,
           99
          ],
          "colorbar": {
           "title": {
            "text": "Trial"
           },
           "x": 1,
           "xpad": 40
          },
          "colorscale": [
           [
            0,
            "rgb(247,251,255)"
           ],
           [
            0.125,
            "rgb(222,235,247)"
           ],
           [
            0.25,
            "rgb(198,219,239)"
           ],
           [
            0.375,
            "rgb(158,202,225)"
           ],
           [
            0.5,
            "rgb(107,174,214)"
           ],
           [
            0.625,
            "rgb(66,146,198)"
           ],
           [
            0.75,
            "rgb(33,113,181)"
           ],
           [
            0.875,
            "rgb(8,81,156)"
           ],
           [
            1,
            "rgb(8,48,107)"
           ]
          ],
          "line": {
           "color": "Grey",
           "width": 0.5
          },
          "showscale": false
         },
         "mode": "markers",
         "name": "Feasible Trial",
         "showlegend": false,
         "type": "scatter",
         "x": [
          "dart",
          "gblinear",
          "gblinear",
          "gblinear",
          "gblinear",
          "dart",
          "gbtree",
          "gblinear",
          "gbtree",
          "dart",
          "gbtree",
          "gbtree",
          "gbtree",
          "gbtree",
          "gbtree",
          "gbtree",
          "gbtree",
          "gbtree",
          "gbtree",
          "gbtree",
          "dart",
          "gbtree",
          "gbtree",
          "gbtree",
          "gbtree",
          "gbtree",
          "gbtree",
          "gbtree",
          "dart",
          "gbtree",
          "dart",
          "dart",
          "dart",
          "dart",
          "dart",
          "dart",
          "dart",
          "dart",
          "dart",
          "gblinear",
          "dart",
          "dart",
          "dart",
          "dart",
          "dart",
          "gblinear",
          "dart",
          "dart",
          "dart",
          "gblinear",
          "dart",
          "dart",
          "dart",
          "dart",
          "dart",
          "dart",
          "dart",
          "dart",
          "gblinear",
          "dart",
          "dart",
          "dart",
          "dart",
          "dart",
          "dart",
          "dart",
          "dart",
          "dart",
          "dart",
          "gblinear",
          "dart",
          "dart",
          "dart",
          "dart",
          "dart",
          "gbtree",
          "dart",
          "dart",
          "dart",
          "dart",
          "dart",
          "dart",
          "dart",
          "dart",
          "dart",
          "dart",
          "dart",
          "dart",
          "dart",
          "dart",
          "dart",
          "dart",
          "dart",
          "dart",
          "dart",
          "dart",
          "dart",
          "dart",
          "gblinear",
          "dart"
         ],
         "xaxis": "x2",
         "y": [
          0.5645644595240594,
          0.6739305327223757,
          0.6740587871792181,
          0.5645644595240594,
          0.6752247367868761,
          0.5645644595240594,
          0.6765306003474529,
          0.6740704466752947,
          0.5645644595240594,
          0.5645644595240594,
          0.6770202991826694,
          0.6774866790257326,
          0.6781279513099444,
          0.5645644595240594,
          0.6653724626021663,
          0.5645644595240594,
          0.680191682115499,
          0.5666748283139202,
          0.5645644595240594,
          0.676390686394534,
          0.5645644595240594,
          0.67872258560985,
          0.6771485536395117,
          0.6768687257336737,
          0.5645644595240594,
          0.678582671656931,
          0.5645644595240594,
          0.5645644595240594,
          0.5645644595240594,
          0.6816141406368417,
          0.6810661443212425,
          0.6802849580841116,
          0.6812760152506209,
          0.5677824804411953,
          0.6807746569193279,
          0.5645644595240594,
          0.6814159292035398,
          0.5645644595240594,
          0.5841407534366365,
          0.6739421922184523,
          0.5645644595240594,
          0.6796320263038231,
          0.679911854209661,
          0.6808212949036343,
          0.6821271584642111,
          0.6739305327223757,
          0.5645644595240594,
          0.6594610980913405,
          0.5645644595240594,
          0.6740937656674478,
          0.6816840976133012,
          0.681217717770238,
          0.681077803817319,
          0.6811827392820082,
          0.6748516329124256,
          0.5654272622337263,
          0.6809378898644001,
          0.6780696538295615,
          0.6749099303928084,
          0.6650226777198689,
          0.6811011228094722,
          0.6815791621486119,
          0.6737789592733802,
          0.6800984061468863,
          0.6825002623386617,
          0.5948674898270897,
          0.6811011228094722,
          0.6761225179847727,
          0.6780696538295615,
          0.6722282462951952,
          0.5645644595240594,
          0.6807629974232514,
          0.682243753424977,
          0.6825235813308149,
          0.6821621369524409,
          0.6781745892942507,
          0.6825352408268914,
          0.6822204344328238,
          0.6022829293317943,
          0.6824419648582788,
          0.682465283850432,
          0.6794571338626745,
          0.6821737964485175,
          0.6807513379271748,
          0.6810661443212425,
          0.5645644595240594,
          0.6719950563736635,
          0.5645644595240594,
          0.6810428253290893,
          0.6807979759114811,
          0.6819755850152156,
          0.6815325241643057,
          0.6822320939289004,
          0.6740587871792181,
          0.6797253022724358,
          0.6762974104259214,
          0.6606970046754579,
          0.5709888418622547,
          0.6740238086909883,
          0.6810894633133956
         ],
         "yaxis": "y2"
        },
        {
         "marker": {
          "color": [
           0,
           1,
           2,
           3,
           4,
           5,
           6,
           7,
           8,
           9,
           10,
           11,
           12,
           13,
           14,
           15,
           16,
           17,
           18,
           19,
           20,
           21,
           22,
           23,
           24,
           25,
           26,
           27,
           28,
           29,
           30,
           31,
           32,
           33,
           34,
           35,
           36,
           37,
           38,
           39,
           40,
           41,
           42,
           43,
           44,
           45,
           46,
           47,
           48,
           49,
           50,
           51,
           52,
           53,
           54,
           55,
           56,
           57,
           58,
           59,
           60,
           61,
           62,
           63,
           64,
           65,
           66,
           67,
           68,
           69,
           70,
           71,
           72,
           73,
           74,
           75,
           76,
           77,
           78,
           79,
           80,
           81,
           82,
           83,
           84,
           85,
           86,
           87,
           88,
           89,
           90,
           91,
           92,
           93,
           94,
           95,
           96,
           97,
           98,
           99
          ],
          "colorbar": {
           "title": {
            "text": "Trial"
           },
           "x": 1,
           "xpad": 40
          },
          "colorscale": [
           [
            0,
            "rgb(247,251,255)"
           ],
           [
            0.125,
            "rgb(222,235,247)"
           ],
           [
            0.25,
            "rgb(198,219,239)"
           ],
           [
            0.375,
            "rgb(158,202,225)"
           ],
           [
            0.5,
            "rgb(107,174,214)"
           ],
           [
            0.625,
            "rgb(66,146,198)"
           ],
           [
            0.75,
            "rgb(33,113,181)"
           ],
           [
            0.875,
            "rgb(8,81,156)"
           ],
           [
            1,
            "rgb(8,48,107)"
           ]
          ],
          "line": {
           "color": "Grey",
           "width": 0.5
          },
          "showscale": false
         },
         "mode": "markers",
         "name": "Feasible Trial",
         "showlegend": false,
         "type": "scatter",
         "x": [
          0.7746800468691908,
          0.7350641807360068,
          0.9463351107543431,
          0.9718609857266597,
          0.8470079847763676,
          0.9005006156676503,
          0.7007733270689646,
          0.7050282569866582,
          0.9759472683752777,
          0.759713352573459,
          0.8330673193431718,
          0.8114586481547498,
          0.8335484146320662,
          0.8099811515213953,
          0.9003899997689329,
          0.7966585967588291,
          0.8866019782683039,
          0.8834462193481605,
          0.8788519023758957,
          0.92501257439117,
          0.8653944408391973,
          0.813566847262665,
          0.8438735857775769,
          0.8268360496780185,
          0.7866208793491016,
          0.9230442330552705,
          0.9329828336769216,
          0.996903858667863,
          0.9029088153982888,
          0.8695928824981252,
          0.8663629140489884,
          0.8701338592989977,
          0.8675023577207528,
          0.8605568344720829,
          0.8624216246610887,
          0.8526679875213047,
          0.9105382597175595,
          0.9073705864251539,
          0.9444346658255063,
          0.9606980527339897,
          0.9102909526356394,
          0.884194310115905,
          0.8482044015723594,
          0.8694726125095829,
          0.8986582213479409,
          0.9169693231267456,
          0.8948017984170532,
          0.7619174769256916,
          0.939511944199696,
          0.9601790649835447,
          0.8897766439102534,
          0.8850234980457297,
          0.8934817401486614,
          0.8780557036271588,
          0.9133996159201178,
          0.836864936473694,
          0.8896654178385113,
          0.8777152787368048,
          0.9285018073254518,
          0.853881205445016,
          0.826684104186634,
          0.878387026421243,
          0.8995097079474814,
          0.8772691518936162,
          0.9196810546722414,
          0.9546649463669086,
          0.7248844782159973,
          0.921319042516469,
          0.9059178379606614,
          0.9333677057907926,
          0.8989109886161597,
          0.8881460784734516,
          0.8579362205843034,
          0.8555735582337082,
          0.8558695790421981,
          0.8602008477118881,
          0.8437252255677583,
          0.8390102858052222,
          0.8009939010346956,
          0.8403319519902835,
          0.8206204587706184,
          0.8212103418060431,
          0.8408910273728978,
          0.8399913997503511,
          0.8153606893911696,
          0.805048995461355,
          0.7894836520493559,
          0.8308753165144915,
          0.8437859902799513,
          0.8540022235066458,
          0.8226545444342652,
          0.8383872557011773,
          0.8482201961154338,
          0.8464332005915589,
          0.8315396933116164,
          0.8569576813653725,
          0.8176195313941793,
          0.8500223478827857,
          0.9814911865491801,
          0.8083815331838533
         ],
         "xaxis": "x3",
         "y": [
          0.5645644595240594,
          0.6739305327223757,
          0.6740587871792181,
          0.5645644595240594,
          0.6752247367868761,
          0.5645644595240594,
          0.6765306003474529,
          0.6740704466752947,
          0.5645644595240594,
          0.5645644595240594,
          0.6770202991826694,
          0.6774866790257326,
          0.6781279513099444,
          0.5645644595240594,
          0.6653724626021663,
          0.5645644595240594,
          0.680191682115499,
          0.5666748283139202,
          0.5645644595240594,
          0.676390686394534,
          0.5645644595240594,
          0.67872258560985,
          0.6771485536395117,
          0.6768687257336737,
          0.5645644595240594,
          0.678582671656931,
          0.5645644595240594,
          0.5645644595240594,
          0.5645644595240594,
          0.6816141406368417,
          0.6810661443212425,
          0.6802849580841116,
          0.6812760152506209,
          0.5677824804411953,
          0.6807746569193279,
          0.5645644595240594,
          0.6814159292035398,
          0.5645644595240594,
          0.5841407534366365,
          0.6739421922184523,
          0.5645644595240594,
          0.6796320263038231,
          0.679911854209661,
          0.6808212949036343,
          0.6821271584642111,
          0.6739305327223757,
          0.5645644595240594,
          0.6594610980913405,
          0.5645644595240594,
          0.6740937656674478,
          0.6816840976133012,
          0.681217717770238,
          0.681077803817319,
          0.6811827392820082,
          0.6748516329124256,
          0.5654272622337263,
          0.6809378898644001,
          0.6780696538295615,
          0.6749099303928084,
          0.6650226777198689,
          0.6811011228094722,
          0.6815791621486119,
          0.6737789592733802,
          0.6800984061468863,
          0.6825002623386617,
          0.5948674898270897,
          0.6811011228094722,
          0.6761225179847727,
          0.6780696538295615,
          0.6722282462951952,
          0.5645644595240594,
          0.6807629974232514,
          0.682243753424977,
          0.6825235813308149,
          0.6821621369524409,
          0.6781745892942507,
          0.6825352408268914,
          0.6822204344328238,
          0.6022829293317943,
          0.6824419648582788,
          0.682465283850432,
          0.6794571338626745,
          0.6821737964485175,
          0.6807513379271748,
          0.6810661443212425,
          0.5645644595240594,
          0.6719950563736635,
          0.5645644595240594,
          0.6810428253290893,
          0.6807979759114811,
          0.6819755850152156,
          0.6815325241643057,
          0.6822320939289004,
          0.6740587871792181,
          0.6797253022724358,
          0.6762974104259214,
          0.6606970046754579,
          0.5709888418622547,
          0.6740238086909883,
          0.6810894633133956
         ],
         "yaxis": "y3"
        },
        {
         "marker": {
          "color": [
           0,
           1,
           2,
           3,
           4,
           5,
           6,
           7,
           8,
           9,
           10,
           11,
           12,
           13,
           14,
           15,
           16,
           17,
           18,
           19,
           20,
           21,
           22,
           23,
           24,
           25,
           26,
           27,
           28,
           29,
           30,
           31,
           32,
           33,
           34,
           35,
           36,
           37,
           38,
           39,
           40,
           41,
           42,
           43,
           44,
           45,
           46,
           47,
           48,
           49,
           50,
           51,
           52,
           53,
           54,
           55,
           56,
           57,
           58,
           59,
           60,
           61,
           62,
           63,
           64,
           65,
           66,
           67,
           68,
           69,
           70,
           71,
           72,
           73,
           74,
           75,
           76,
           77,
           78,
           79,
           80,
           81,
           82,
           83,
           84,
           85,
           86,
           87,
           88,
           89,
           90,
           91,
           92,
           93,
           94,
           95,
           96,
           97,
           98,
           99
          ],
          "colorbar": {
           "title": {
            "text": "Trial"
           },
           "x": 1,
           "xpad": 40
          },
          "colorscale": [
           [
            0,
            "rgb(247,251,255)"
           ],
           [
            0.125,
            "rgb(222,235,247)"
           ],
           [
            0.25,
            "rgb(198,219,239)"
           ],
           [
            0.375,
            "rgb(158,202,225)"
           ],
           [
            0.5,
            "rgb(107,174,214)"
           ],
           [
            0.625,
            "rgb(66,146,198)"
           ],
           [
            0.75,
            "rgb(33,113,181)"
           ],
           [
            0.875,
            "rgb(8,81,156)"
           ],
           [
            1,
            "rgb(8,48,107)"
           ]
          ],
          "line": {
           "color": "Grey",
           "width": 0.5
          },
          "showscale": false
         },
         "mode": "markers",
         "name": "Feasible Trial",
         "showlegend": false,
         "type": "scatter",
         "x": [
          0.00017663455485090256,
          0.016589581779152967,
          0.0002946874806740835,
          0.0002567073732869018,
          0.0000569088919570516,
          0.0002362299322576453,
          5.0794460776542196e-8,
          0.00037260252254052743,
          4.255507311144443e-7,
          0.004752276186938671,
          1.4667140312791672e-8,
          3.527594772536513e-8,
          1.0306274533770173e-8,
          0.0000014343766285051843,
          0.7649838383745826,
          5.169079274580253e-7,
          0.0000037464323183338406,
          0.000011258281977022069,
          0.000004166383117471618,
          1.5701776016079522e-7,
          0.000018432720377813048,
          1.12657560669485e-8,
          1.1344858977560853e-8,
          1.4563517814139267e-7,
          0.0000022794081126575973,
          1.517750384349298e-7,
          1.42729017323352e-7,
          9.263268221694215e-7,
          6.250465351099296e-8,
          0.000011105270868974914,
          0.000054473676987508355,
          0.0019478545074704389,
          0.0047162249807889516,
          0.002596216878458668,
          0.03896065174985104,
          0.04426212529232652,
          0.03751889830263587,
          0.5163482999764647,
          0.00004865829129463835,
          0.0008227197984629926,
          0.1433954363804841,
          0.012500808467537464,
          0.021550153886507207,
          0.09953882983496692,
          0.00015132666528114774,
          0.00007005819644550437,
          0.00017761771096788074,
          0.0006530198121338279,
          0.007332562214217916,
          0.00003497550268088866,
          0.000008237026370690902,
          0.000008890290917371105,
          0.000009293036301770825,
          0.00001877093082806698,
          0.000005510296007483065,
          0.00012648319711205806,
          0.000023609753182322802,
          0.00040613726364559254,
          0.000009484636465674676,
          0.00000217078253200275,
          5.794979081460496e-7,
          0.00001361968933771414,
          0.000004494428845740974,
          0.00010713092694613351,
          0.00001303404994206173,
          0.0000015262916269751,
          0.003068517241234773,
          0.000022744195890646624,
          0.00025640124937966537,
          0.14820115241538812,
          0.0013436147955808195,
          0.000007275386330952612,
          0.000014367221635281357,
          0.0000025517568742238127,
          0.000002944244677823386,
          0.000002790038445988905,
          0.0000010097915738299128,
          4.754139658875314e-7,
          3.557182572797994e-7,
          8.311639530801074e-7,
          8.641907202976593e-7,
          8.590195589853365e-7,
          3.1140572469698774e-7,
          3.4198188785576936e-7,
          8.964030444577472e-8,
          3.1982215939647696e-8,
          0.0000011191299701091208,
          2.7746903141564313e-7,
          0.0000019036373572639782,
          2.2010812038150834e-7,
          8.352435334088649e-7,
          0.0000031395154002698703,
          6.003263744835176e-7,
          5.684283143432923e-7,
          0.0000013124964298761541,
          0.0000035292089939620684,
          2.033966164454961e-7,
          6.185361177866023e-7,
          9.366776963594423e-8,
          0.000005681454963035444
         ],
         "xaxis": "x4",
         "y": [
          0.5645644595240594,
          0.6739305327223757,
          0.6740587871792181,
          0.5645644595240594,
          0.6752247367868761,
          0.5645644595240594,
          0.6765306003474529,
          0.6740704466752947,
          0.5645644595240594,
          0.5645644595240594,
          0.6770202991826694,
          0.6774866790257326,
          0.6781279513099444,
          0.5645644595240594,
          0.6653724626021663,
          0.5645644595240594,
          0.680191682115499,
          0.5666748283139202,
          0.5645644595240594,
          0.676390686394534,
          0.5645644595240594,
          0.67872258560985,
          0.6771485536395117,
          0.6768687257336737,
          0.5645644595240594,
          0.678582671656931,
          0.5645644595240594,
          0.5645644595240594,
          0.5645644595240594,
          0.6816141406368417,
          0.6810661443212425,
          0.6802849580841116,
          0.6812760152506209,
          0.5677824804411953,
          0.6807746569193279,
          0.5645644595240594,
          0.6814159292035398,
          0.5645644595240594,
          0.5841407534366365,
          0.6739421922184523,
          0.5645644595240594,
          0.6796320263038231,
          0.679911854209661,
          0.6808212949036343,
          0.6821271584642111,
          0.6739305327223757,
          0.5645644595240594,
          0.6594610980913405,
          0.5645644595240594,
          0.6740937656674478,
          0.6816840976133012,
          0.681217717770238,
          0.681077803817319,
          0.6811827392820082,
          0.6748516329124256,
          0.5654272622337263,
          0.6809378898644001,
          0.6780696538295615,
          0.6749099303928084,
          0.6650226777198689,
          0.6811011228094722,
          0.6815791621486119,
          0.6737789592733802,
          0.6800984061468863,
          0.6825002623386617,
          0.5948674898270897,
          0.6811011228094722,
          0.6761225179847727,
          0.6780696538295615,
          0.6722282462951952,
          0.5645644595240594,
          0.6807629974232514,
          0.682243753424977,
          0.6825235813308149,
          0.6821621369524409,
          0.6781745892942507,
          0.6825352408268914,
          0.6822204344328238,
          0.6022829293317943,
          0.6824419648582788,
          0.682465283850432,
          0.6794571338626745,
          0.6821737964485175,
          0.6807513379271748,
          0.6810661443212425,
          0.5645644595240594,
          0.6719950563736635,
          0.5645644595240594,
          0.6810428253290893,
          0.6807979759114811,
          0.6819755850152156,
          0.6815325241643057,
          0.6822320939289004,
          0.6740587871792181,
          0.6797253022724358,
          0.6762974104259214,
          0.6606970046754579,
          0.5709888418622547,
          0.6740238086909883,
          0.6810894633133956
         ],
         "yaxis": "y4"
        },
        {
         "marker": {
          "color": [
           0,
           1,
           2,
           3,
           4,
           5,
           6,
           7,
           8,
           9,
           10,
           11,
           12,
           13,
           14,
           15,
           16,
           17,
           18,
           19,
           20,
           21,
           22,
           23,
           24,
           25,
           26,
           27,
           28,
           29,
           30,
           31,
           32,
           33,
           34,
           35,
           36,
           37,
           38,
           39,
           40,
           41,
           42,
           43,
           44,
           45,
           46,
           47,
           48,
           49,
           50,
           51,
           52,
           53,
           54,
           55,
           56,
           57,
           58,
           59,
           60,
           61,
           62,
           63,
           64,
           65,
           66,
           67,
           68,
           69,
           70,
           71,
           72,
           73,
           74,
           75,
           76,
           77,
           78,
           79,
           80,
           81,
           82,
           83,
           84,
           85,
           86,
           87,
           88,
           89,
           90,
           91,
           92,
           93,
           94,
           95,
           96,
           97,
           98,
           99
          ],
          "colorbar": {
           "title": {
            "text": "Trial"
           },
           "x": 1,
           "xpad": 40
          },
          "colorscale": [
           [
            0,
            "rgb(247,251,255)"
           ],
           [
            0.125,
            "rgb(222,235,247)"
           ],
           [
            0.25,
            "rgb(198,219,239)"
           ],
           [
            0.375,
            "rgb(158,202,225)"
           ],
           [
            0.5,
            "rgb(107,174,214)"
           ],
           [
            0.625,
            "rgb(66,146,198)"
           ],
           [
            0.75,
            "rgb(33,113,181)"
           ],
           [
            0.875,
            "rgb(8,81,156)"
           ],
           [
            1,
            "rgb(8,48,107)"
           ]
          ],
          "line": {
           "color": "Grey",
           "width": 0.5
          },
          "showscale": false
         },
         "mode": "markers",
         "name": "Feasible Trial",
         "showlegend": false,
         "type": "scatter",
         "x": [
          0.6729488573361504,
          0.8053680207424867,
          0.7532558342755147,
          0.9263709895433914,
          0.6434090617258775,
          0.49406716314459004,
          0.7919017150754073,
          0.28901690691590265,
          0.205866822439598,
          0.3803874724935423,
          0.9938043903786268,
          0.9654627322524638,
          0.9773070108561712,
          0.9001108320339827,
          0.9815070073786271,
          0.5238431663466159,
          0.8679627075310142,
          0.8385490400235437,
          0.7201733041705977,
          0.8701328224152292,
          0.5456522650632121,
          0.9260053041552174,
          0.8882559705080622,
          0.9218898689085158,
          0.851152212574513,
          0.7286805409215839,
          0.7074243736106912,
          0.6010472277965057,
          0.7580975399165784,
          0.6550895195011325,
          0.6544476058646931,
          0.4465142244949752,
          0.4798303545569113,
          0.4301238659507254,
          0.4326558512830296,
          0.6533181693821106,
          0.5935315323557822,
          0.5971829682080594,
          0.599095080209126,
          0.5569451000799532,
          0.4911312991544456,
          0.3560966747371159,
          0.6719833843461236,
          0.45272341187165877,
          0.6238928821113294,
          0.631893909364537,
          0.7817553564427457,
          0.6983956929665117,
          0.5754497610304697,
          0.5138208379399198,
          0.6365547264277267,
          0.6564820667745506,
          0.624009236080427,
          0.6742097527562649,
          0.48183668567229754,
          0.5500414768641113,
          0.38845876021291514,
          0.7542750349782319,
          0.6195870608058645,
          0.5786515319904848,
          0.6803475449511388,
          0.6925911330915436,
          0.730177120478782,
          0.5256979648614366,
          0.8191347191918659,
          0.7874735960339385,
          0.8169249637752003,
          0.2471310019087788,
          0.6958914093415213,
          0.8206494495881864,
          0.5746779479385455,
          0.6497616580727875,
          0.6216162943315238,
          0.6190809495377076,
          0.6085776907840392,
          0.6171371300717958,
          0.7152405139734603,
          0.7338655451600452,
          0.7209026922923928,
          0.7400178822717242,
          0.7627555337587454,
          0.7697581028711095,
          0.7486663869115524,
          0.7378274062296274,
          0.7472024551916591,
          0.8429989770040285,
          0.8053881759143525,
          0.7709317883128681,
          0.7965961749973556,
          0.8633495679554635,
          0.8267721702134401,
          0.7131045379625948,
          0.7659173058922771,
          0.7733288489187494,
          0.7482078666116339,
          0.7142729216339615,
          0.88775487498666,
          0.9533423824021618,
          0.8048777023432143,
          0.6723531466886914
         ],
         "xaxis": "x5",
         "y": [
          0.5645644595240594,
          0.6739305327223757,
          0.6740587871792181,
          0.5645644595240594,
          0.6752247367868761,
          0.5645644595240594,
          0.6765306003474529,
          0.6740704466752947,
          0.5645644595240594,
          0.5645644595240594,
          0.6770202991826694,
          0.6774866790257326,
          0.6781279513099444,
          0.5645644595240594,
          0.6653724626021663,
          0.5645644595240594,
          0.680191682115499,
          0.5666748283139202,
          0.5645644595240594,
          0.676390686394534,
          0.5645644595240594,
          0.67872258560985,
          0.6771485536395117,
          0.6768687257336737,
          0.5645644595240594,
          0.678582671656931,
          0.5645644595240594,
          0.5645644595240594,
          0.5645644595240594,
          0.6816141406368417,
          0.6810661443212425,
          0.6802849580841116,
          0.6812760152506209,
          0.5677824804411953,
          0.6807746569193279,
          0.5645644595240594,
          0.6814159292035398,
          0.5645644595240594,
          0.5841407534366365,
          0.6739421922184523,
          0.5645644595240594,
          0.6796320263038231,
          0.679911854209661,
          0.6808212949036343,
          0.6821271584642111,
          0.6739305327223757,
          0.5645644595240594,
          0.6594610980913405,
          0.5645644595240594,
          0.6740937656674478,
          0.6816840976133012,
          0.681217717770238,
          0.681077803817319,
          0.6811827392820082,
          0.6748516329124256,
          0.5654272622337263,
          0.6809378898644001,
          0.6780696538295615,
          0.6749099303928084,
          0.6650226777198689,
          0.6811011228094722,
          0.6815791621486119,
          0.6737789592733802,
          0.6800984061468863,
          0.6825002623386617,
          0.5948674898270897,
          0.6811011228094722,
          0.6761225179847727,
          0.6780696538295615,
          0.6722282462951952,
          0.5645644595240594,
          0.6807629974232514,
          0.682243753424977,
          0.6825235813308149,
          0.6821621369524409,
          0.6781745892942507,
          0.6825352408268914,
          0.6822204344328238,
          0.6022829293317943,
          0.6824419648582788,
          0.682465283850432,
          0.6794571338626745,
          0.6821737964485175,
          0.6807513379271748,
          0.6810661443212425,
          0.5645644595240594,
          0.6719950563736635,
          0.5645644595240594,
          0.6810428253290893,
          0.6807979759114811,
          0.6819755850152156,
          0.6815325241643057,
          0.6822320939289004,
          0.6740587871792181,
          0.6797253022724358,
          0.6762974104259214,
          0.6606970046754579,
          0.5709888418622547,
          0.6740238086909883,
          0.6810894633133956
         ],
         "yaxis": "y5"
        }
       ],
       "layout": {
        "template": {
         "data": {
          "bar": [
           {
            "error_x": {
             "color": "#2a3f5f"
            },
            "error_y": {
             "color": "#2a3f5f"
            },
            "marker": {
             "line": {
              "color": "#E5ECF6",
              "width": 0.5
             },
             "pattern": {
              "fillmode": "overlay",
              "size": 10,
              "solidity": 0.2
             }
            },
            "type": "bar"
           }
          ],
          "barpolar": [
           {
            "marker": {
             "line": {
              "color": "#E5ECF6",
              "width": 0.5
             },
             "pattern": {
              "fillmode": "overlay",
              "size": 10,
              "solidity": 0.2
             }
            },
            "type": "barpolar"
           }
          ],
          "carpet": [
           {
            "aaxis": {
             "endlinecolor": "#2a3f5f",
             "gridcolor": "white",
             "linecolor": "white",
             "minorgridcolor": "white",
             "startlinecolor": "#2a3f5f"
            },
            "baxis": {
             "endlinecolor": "#2a3f5f",
             "gridcolor": "white",
             "linecolor": "white",
             "minorgridcolor": "white",
             "startlinecolor": "#2a3f5f"
            },
            "type": "carpet"
           }
          ],
          "choropleth": [
           {
            "colorbar": {
             "outlinewidth": 0,
             "ticks": ""
            },
            "type": "choropleth"
           }
          ],
          "contour": [
           {
            "colorbar": {
             "outlinewidth": 0,
             "ticks": ""
            },
            "colorscale": [
             [
              0,
              "#0d0887"
             ],
             [
              0.1111111111111111,
              "#46039f"
             ],
             [
              0.2222222222222222,
              "#7201a8"
             ],
             [
              0.3333333333333333,
              "#9c179e"
             ],
             [
              0.4444444444444444,
              "#bd3786"
             ],
             [
              0.5555555555555556,
              "#d8576b"
             ],
             [
              0.6666666666666666,
              "#ed7953"
             ],
             [
              0.7777777777777778,
              "#fb9f3a"
             ],
             [
              0.8888888888888888,
              "#fdca26"
             ],
             [
              1,
              "#f0f921"
             ]
            ],
            "type": "contour"
           }
          ],
          "contourcarpet": [
           {
            "colorbar": {
             "outlinewidth": 0,
             "ticks": ""
            },
            "type": "contourcarpet"
           }
          ],
          "heatmap": [
           {
            "colorbar": {
             "outlinewidth": 0,
             "ticks": ""
            },
            "colorscale": [
             [
              0,
              "#0d0887"
             ],
             [
              0.1111111111111111,
              "#46039f"
             ],
             [
              0.2222222222222222,
              "#7201a8"
             ],
             [
              0.3333333333333333,
              "#9c179e"
             ],
             [
              0.4444444444444444,
              "#bd3786"
             ],
             [
              0.5555555555555556,
              "#d8576b"
             ],
             [
              0.6666666666666666,
              "#ed7953"
             ],
             [
              0.7777777777777778,
              "#fb9f3a"
             ],
             [
              0.8888888888888888,
              "#fdca26"
             ],
             [
              1,
              "#f0f921"
             ]
            ],
            "type": "heatmap"
           }
          ],
          "heatmapgl": [
           {
            "colorbar": {
             "outlinewidth": 0,
             "ticks": ""
            },
            "colorscale": [
             [
              0,
              "#0d0887"
             ],
             [
              0.1111111111111111,
              "#46039f"
             ],
             [
              0.2222222222222222,
              "#7201a8"
             ],
             [
              0.3333333333333333,
              "#9c179e"
             ],
             [
              0.4444444444444444,
              "#bd3786"
             ],
             [
              0.5555555555555556,
              "#d8576b"
             ],
             [
              0.6666666666666666,
              "#ed7953"
             ],
             [
              0.7777777777777778,
              "#fb9f3a"
             ],
             [
              0.8888888888888888,
              "#fdca26"
             ],
             [
              1,
              "#f0f921"
             ]
            ],
            "type": "heatmapgl"
           }
          ],
          "histogram": [
           {
            "marker": {
             "pattern": {
              "fillmode": "overlay",
              "size": 10,
              "solidity": 0.2
             }
            },
            "type": "histogram"
           }
          ],
          "histogram2d": [
           {
            "colorbar": {
             "outlinewidth": 0,
             "ticks": ""
            },
            "colorscale": [
             [
              0,
              "#0d0887"
             ],
             [
              0.1111111111111111,
              "#46039f"
             ],
             [
              0.2222222222222222,
              "#7201a8"
             ],
             [
              0.3333333333333333,
              "#9c179e"
             ],
             [
              0.4444444444444444,
              "#bd3786"
             ],
             [
              0.5555555555555556,
              "#d8576b"
             ],
             [
              0.6666666666666666,
              "#ed7953"
             ],
             [
              0.7777777777777778,
              "#fb9f3a"
             ],
             [
              0.8888888888888888,
              "#fdca26"
             ],
             [
              1,
              "#f0f921"
             ]
            ],
            "type": "histogram2d"
           }
          ],
          "histogram2dcontour": [
           {
            "colorbar": {
             "outlinewidth": 0,
             "ticks": ""
            },
            "colorscale": [
             [
              0,
              "#0d0887"
             ],
             [
              0.1111111111111111,
              "#46039f"
             ],
             [
              0.2222222222222222,
              "#7201a8"
             ],
             [
              0.3333333333333333,
              "#9c179e"
             ],
             [
              0.4444444444444444,
              "#bd3786"
             ],
             [
              0.5555555555555556,
              "#d8576b"
             ],
             [
              0.6666666666666666,
              "#ed7953"
             ],
             [
              0.7777777777777778,
              "#fb9f3a"
             ],
             [
              0.8888888888888888,
              "#fdca26"
             ],
             [
              1,
              "#f0f921"
             ]
            ],
            "type": "histogram2dcontour"
           }
          ],
          "mesh3d": [
           {
            "colorbar": {
             "outlinewidth": 0,
             "ticks": ""
            },
            "type": "mesh3d"
           }
          ],
          "parcoords": [
           {
            "line": {
             "colorbar": {
              "outlinewidth": 0,
              "ticks": ""
             }
            },
            "type": "parcoords"
           }
          ],
          "pie": [
           {
            "automargin": true,
            "type": "pie"
           }
          ],
          "scatter": [
           {
            "fillpattern": {
             "fillmode": "overlay",
             "size": 10,
             "solidity": 0.2
            },
            "type": "scatter"
           }
          ],
          "scatter3d": [
           {
            "line": {
             "colorbar": {
              "outlinewidth": 0,
              "ticks": ""
             }
            },
            "marker": {
             "colorbar": {
              "outlinewidth": 0,
              "ticks": ""
             }
            },
            "type": "scatter3d"
           }
          ],
          "scattercarpet": [
           {
            "marker": {
             "colorbar": {
              "outlinewidth": 0,
              "ticks": ""
             }
            },
            "type": "scattercarpet"
           }
          ],
          "scattergeo": [
           {
            "marker": {
             "colorbar": {
              "outlinewidth": 0,
              "ticks": ""
             }
            },
            "type": "scattergeo"
           }
          ],
          "scattergl": [
           {
            "marker": {
             "colorbar": {
              "outlinewidth": 0,
              "ticks": ""
             }
            },
            "type": "scattergl"
           }
          ],
          "scattermapbox": [
           {
            "marker": {
             "colorbar": {
              "outlinewidth": 0,
              "ticks": ""
             }
            },
            "type": "scattermapbox"
           }
          ],
          "scatterpolar": [
           {
            "marker": {
             "colorbar": {
              "outlinewidth": 0,
              "ticks": ""
             }
            },
            "type": "scatterpolar"
           }
          ],
          "scatterpolargl": [
           {
            "marker": {
             "colorbar": {
              "outlinewidth": 0,
              "ticks": ""
             }
            },
            "type": "scatterpolargl"
           }
          ],
          "scatterternary": [
           {
            "marker": {
             "colorbar": {
              "outlinewidth": 0,
              "ticks": ""
             }
            },
            "type": "scatterternary"
           }
          ],
          "surface": [
           {
            "colorbar": {
             "outlinewidth": 0,
             "ticks": ""
            },
            "colorscale": [
             [
              0,
              "#0d0887"
             ],
             [
              0.1111111111111111,
              "#46039f"
             ],
             [
              0.2222222222222222,
              "#7201a8"
             ],
             [
              0.3333333333333333,
              "#9c179e"
             ],
             [
              0.4444444444444444,
              "#bd3786"
             ],
             [
              0.5555555555555556,
              "#d8576b"
             ],
             [
              0.6666666666666666,
              "#ed7953"
             ],
             [
              0.7777777777777778,
              "#fb9f3a"
             ],
             [
              0.8888888888888888,
              "#fdca26"
             ],
             [
              1,
              "#f0f921"
             ]
            ],
            "type": "surface"
           }
          ],
          "table": [
           {
            "cells": {
             "fill": {
              "color": "#EBF0F8"
             },
             "line": {
              "color": "white"
             }
            },
            "header": {
             "fill": {
              "color": "#C8D4E3"
             },
             "line": {
              "color": "white"
             }
            },
            "type": "table"
           }
          ]
         },
         "layout": {
          "annotationdefaults": {
           "arrowcolor": "#2a3f5f",
           "arrowhead": 0,
           "arrowwidth": 1
          },
          "autotypenumbers": "strict",
          "coloraxis": {
           "colorbar": {
            "outlinewidth": 0,
            "ticks": ""
           }
          },
          "colorscale": {
           "diverging": [
            [
             0,
             "#8e0152"
            ],
            [
             0.1,
             "#c51b7d"
            ],
            [
             0.2,
             "#de77ae"
            ],
            [
             0.3,
             "#f1b6da"
            ],
            [
             0.4,
             "#fde0ef"
            ],
            [
             0.5,
             "#f7f7f7"
            ],
            [
             0.6,
             "#e6f5d0"
            ],
            [
             0.7,
             "#b8e186"
            ],
            [
             0.8,
             "#7fbc41"
            ],
            [
             0.9,
             "#4d9221"
            ],
            [
             1,
             "#276419"
            ]
           ],
           "sequential": [
            [
             0,
             "#0d0887"
            ],
            [
             0.1111111111111111,
             "#46039f"
            ],
            [
             0.2222222222222222,
             "#7201a8"
            ],
            [
             0.3333333333333333,
             "#9c179e"
            ],
            [
             0.4444444444444444,
             "#bd3786"
            ],
            [
             0.5555555555555556,
             "#d8576b"
            ],
            [
             0.6666666666666666,
             "#ed7953"
            ],
            [
             0.7777777777777778,
             "#fb9f3a"
            ],
            [
             0.8888888888888888,
             "#fdca26"
            ],
            [
             1,
             "#f0f921"
            ]
           ],
           "sequentialminus": [
            [
             0,
             "#0d0887"
            ],
            [
             0.1111111111111111,
             "#46039f"
            ],
            [
             0.2222222222222222,
             "#7201a8"
            ],
            [
             0.3333333333333333,
             "#9c179e"
            ],
            [
             0.4444444444444444,
             "#bd3786"
            ],
            [
             0.5555555555555556,
             "#d8576b"
            ],
            [
             0.6666666666666666,
             "#ed7953"
            ],
            [
             0.7777777777777778,
             "#fb9f3a"
            ],
            [
             0.8888888888888888,
             "#fdca26"
            ],
            [
             1,
             "#f0f921"
            ]
           ]
          },
          "colorway": [
           "#636efa",
           "#EF553B",
           "#00cc96",
           "#ab63fa",
           "#FFA15A",
           "#19d3f3",
           "#FF6692",
           "#B6E880",
           "#FF97FF",
           "#FECB52"
          ],
          "font": {
           "color": "#2a3f5f"
          },
          "geo": {
           "bgcolor": "white",
           "lakecolor": "white",
           "landcolor": "#E5ECF6",
           "showlakes": true,
           "showland": true,
           "subunitcolor": "white"
          },
          "hoverlabel": {
           "align": "left"
          },
          "hovermode": "closest",
          "mapbox": {
           "style": "light"
          },
          "paper_bgcolor": "white",
          "plot_bgcolor": "#E5ECF6",
          "polar": {
           "angularaxis": {
            "gridcolor": "white",
            "linecolor": "white",
            "ticks": ""
           },
           "bgcolor": "#E5ECF6",
           "radialaxis": {
            "gridcolor": "white",
            "linecolor": "white",
            "ticks": ""
           }
          },
          "scene": {
           "xaxis": {
            "backgroundcolor": "#E5ECF6",
            "gridcolor": "white",
            "gridwidth": 2,
            "linecolor": "white",
            "showbackground": true,
            "ticks": "",
            "zerolinecolor": "white"
           },
           "yaxis": {
            "backgroundcolor": "#E5ECF6",
            "gridcolor": "white",
            "gridwidth": 2,
            "linecolor": "white",
            "showbackground": true,
            "ticks": "",
            "zerolinecolor": "white"
           },
           "zaxis": {
            "backgroundcolor": "#E5ECF6",
            "gridcolor": "white",
            "gridwidth": 2,
            "linecolor": "white",
            "showbackground": true,
            "ticks": "",
            "zerolinecolor": "white"
           }
          },
          "shapedefaults": {
           "line": {
            "color": "#2a3f5f"
           }
          },
          "ternary": {
           "aaxis": {
            "gridcolor": "white",
            "linecolor": "white",
            "ticks": ""
           },
           "baxis": {
            "gridcolor": "white",
            "linecolor": "white",
            "ticks": ""
           },
           "bgcolor": "#E5ECF6",
           "caxis": {
            "gridcolor": "white",
            "linecolor": "white",
            "ticks": ""
           }
          },
          "title": {
           "x": 0.05
          },
          "xaxis": {
           "automargin": true,
           "gridcolor": "white",
           "linecolor": "white",
           "ticks": "",
           "title": {
            "standoff": 15
           },
           "zerolinecolor": "white",
           "zerolinewidth": 2
          },
          "yaxis": {
           "automargin": true,
           "gridcolor": "white",
           "linecolor": "white",
           "ticks": "",
           "title": {
            "standoff": 15
           },
           "zerolinecolor": "white",
           "zerolinewidth": 2
          }
         }
        },
        "title": {
         "text": "Slice Plot"
        },
        "width": 1500,
        "xaxis": {
         "anchor": "y",
         "domain": [
          0,
          0.16799999999999998
         ],
         "title": {
          "text": "alpha"
         },
         "type": "log"
        },
        "xaxis2": {
         "anchor": "y2",
         "categoryarray": [
          "gbtree",
          "gblinear",
          "dart"
         ],
         "categoryorder": "array",
         "domain": [
          0.208,
          0.376
         ],
         "title": {
          "text": "booster"
         },
         "type": "category"
        },
        "xaxis3": {
         "anchor": "y3",
         "domain": [
          0.416,
          0.584
         ],
         "title": {
          "text": "colsample_bytree"
         }
        },
        "xaxis4": {
         "anchor": "y4",
         "domain": [
          0.624,
          0.792
         ],
         "title": {
          "text": "lambda"
         },
         "type": "log"
        },
        "xaxis5": {
         "anchor": "y5",
         "domain": [
          0.832,
          1
         ],
         "title": {
          "text": "subsample"
         }
        },
        "yaxis": {
         "anchor": "x",
         "domain": [
          0,
          1
         ],
         "title": {
          "text": "Objective Value"
         }
        },
        "yaxis2": {
         "anchor": "x2",
         "domain": [
          0,
          1
         ],
         "matches": "y",
         "showticklabels": false
        },
        "yaxis3": {
         "anchor": "x3",
         "domain": [
          0,
          1
         ],
         "matches": "y",
         "showticklabels": false
        },
        "yaxis4": {
         "anchor": "x4",
         "domain": [
          0,
          1
         ],
         "matches": "y",
         "showticklabels": false
        },
        "yaxis5": {
         "anchor": "x5",
         "domain": [
          0,
          1
         ],
         "matches": "y",
         "showticklabels": false
        }
       }
      },
      "text/html": [
       "<div>                        <script type=\"text/javascript\">window.PlotlyConfig = {MathJaxConfig: 'local'};</script>\n",
       "        <script charset=\"utf-8\" src=\"https://cdn.plot.ly/plotly-2.32.0.min.js\"></script>                <div id=\"5e8e07c8-d016-47be-a3e7-a7a966c442e5\" class=\"plotly-graph-div\" style=\"height:100%; width:1500px;\"></div>            <script type=\"text/javascript\">                                    window.PLOTLYENV=window.PLOTLYENV || {};                                    if (document.getElementById(\"5e8e07c8-d016-47be-a3e7-a7a966c442e5\")) {                    Plotly.newPlot(                        \"5e8e07c8-d016-47be-a3e7-a7a966c442e5\",                        [{\"marker\":{\"color\":[0,1,2,3,4,5,6,7,8,9,10,11,12,13,14,15,16,17,18,19,20,21,22,23,24,25,26,27,28,29,30,31,32,33,34,35,36,37,38,39,40,41,42,43,44,45,46,47,48,49,50,51,52,53,54,55,56,57,58,59,60,61,62,63,64,65,66,67,68,69,70,71,72,73,74,75,76,77,78,79,80,81,82,83,84,85,86,87,88,89,90,91,92,93,94,95,96,97,98,99],\"colorbar\":{\"title\":{\"text\":\"Trial\"},\"x\":1.0,\"xpad\":40},\"colorscale\":[[0.0,\"rgb(247,251,255)\"],[0.125,\"rgb(222,235,247)\"],[0.25,\"rgb(198,219,239)\"],[0.375,\"rgb(158,202,225)\"],[0.5,\"rgb(107,174,214)\"],[0.625,\"rgb(66,146,198)\"],[0.75,\"rgb(33,113,181)\"],[0.875,\"rgb(8,81,156)\"],[1.0,\"rgb(8,48,107)\"]],\"line\":{\"color\":\"Grey\",\"width\":0.5},\"showscale\":true},\"mode\":\"markers\",\"name\":\"Feasible Trial\",\"showlegend\":false,\"x\":[0.0011451390130396597,1.2094464151932313e-08,7.061111413598189e-07,0.8866006585339498,0.006164340132814618,0.0022740045685392596,3.2983150813660233e-07,2.429573252265458e-07,0.0020032067995748117,0.00041512579285493613,8.484494515479239e-06,8.133467560031941e-06,4.8657089248510754e-06,1.1918050898581142e-05,2.644798662957866e-05,2.064716865213716e-06,0.0001232411444965965,0.03490800333137301,9.270992213192295e-05,4.812562213961896e-08,0.00016718852040888474,2.7533301873336584e-06,1.8903133367431702e-06,4.8501951817287105e-05,2.5118473269649554e-06,4.7175536113536835e-08,4.073338713093635e-08,1.5045402111711732e-07,1.2145308056461768e-08,6.767137965115558e-07,0.0004828040058966788,0.00025827731240911876,0.0004171063819378436,0.000504920751396847,0.012575181356249463,0.04136538891336599,0.017317697424105542,0.555976897514931,0.13702261256162124,0.0010697165365388674,0.004828512822077445,0.019211904897836914,0.00837989629988712,0.0011955649476340995,0.0007924451904003184,0.00046253507462241353,0.002244616987781639,2.2633788744447686e-05,0.0033060088333697643,4.1680599242801316e-05,0.0009095763311571298,0.0006605483030042633,0.0008081315679075477,0.00021073559203864343,6.90066761693756e-05,0.002330407681615806,0.06258513237908052,8.722819568856754e-07,0.0054991117098776385,0.1469340932356078,0.0014409851603062105,1.5235310717410962e-05,1.1110020818814702e-05,0.00011431096125171484,6.454856185869622e-07,3.067275731930734e-07,6.899874960215372e-07,2.542182211286341e-05,4.8468202980693394e-06,1.1069793122543056e-06,1.9144492860569445e-07,0.00029125284704099657,4.0462596667377603e-07,9.651693744681854e-08,2.406747765458144e-08,8.740758688593511e-08,2.3445234888982956e-08,1.6194062512903545e-08,1.5402637346585933e-08,2.3012312732234438e-08,2.8343678613564854e-08,2.3269109489940843e-08,1.1637210447866818e-07,7.89456446673968e-08,2.9129568543816323e-08,1.1111190906881421e-07,5.8328057005441935e-08,1.0899599840311232e-08,2.2619965770447595e-08,4.0222134921282527e-07,3.661378187780248e-08,5.915998624663202e-08,1.7696009656288418e-08,1.8475435812382283e-08,1.4002169091082014e-07,3.352689511092908e-08,1.0755604366392676e-08,4.336081303376962e-07,7.844357755605108e-08,5.2048247414308855e-08],\"y\":[0.5645644595240594,0.6739305327223757,0.6740587871792181,0.5645644595240594,0.6752247367868761,0.5645644595240594,0.6765306003474529,0.6740704466752947,0.5645644595240594,0.5645644595240594,0.6770202991826694,0.6774866790257326,0.6781279513099444,0.5645644595240594,0.6653724626021663,0.5645644595240594,0.680191682115499,0.5666748283139202,0.5645644595240594,0.676390686394534,0.5645644595240594,0.67872258560985,0.6771485536395117,0.6768687257336737,0.5645644595240594,0.678582671656931,0.5645644595240594,0.5645644595240594,0.5645644595240594,0.6816141406368417,0.6810661443212425,0.6802849580841116,0.6812760152506209,0.5677824804411953,0.6807746569193279,0.5645644595240594,0.6814159292035398,0.5645644595240594,0.5841407534366365,0.6739421922184523,0.5645644595240594,0.6796320263038231,0.679911854209661,0.6808212949036343,0.6821271584642111,0.6739305327223757,0.5645644595240594,0.6594610980913405,0.5645644595240594,0.6740937656674478,0.6816840976133012,0.681217717770238,0.681077803817319,0.6811827392820082,0.6748516329124256,0.5654272622337263,0.6809378898644001,0.6780696538295615,0.6749099303928084,0.6650226777198689,0.6811011228094722,0.6815791621486119,0.6737789592733802,0.6800984061468863,0.6825002623386617,0.5948674898270897,0.6811011228094722,0.6761225179847727,0.6780696538295615,0.6722282462951952,0.5645644595240594,0.6807629974232514,0.682243753424977,0.6825235813308149,0.6821621369524409,0.6781745892942507,0.6825352408268914,0.6822204344328238,0.6022829293317943,0.6824419648582788,0.682465283850432,0.6794571338626745,0.6821737964485175,0.6807513379271748,0.6810661443212425,0.5645644595240594,0.6719950563736635,0.5645644595240594,0.6810428253290893,0.6807979759114811,0.6819755850152156,0.6815325241643057,0.6822320939289004,0.6740587871792181,0.6797253022724358,0.6762974104259214,0.6606970046754579,0.5709888418622547,0.6740238086909883,0.6810894633133956],\"type\":\"scatter\",\"xaxis\":\"x\",\"yaxis\":\"y\"},{\"marker\":{\"color\":[0,1,2,3,4,5,6,7,8,9,10,11,12,13,14,15,16,17,18,19,20,21,22,23,24,25,26,27,28,29,30,31,32,33,34,35,36,37,38,39,40,41,42,43,44,45,46,47,48,49,50,51,52,53,54,55,56,57,58,59,60,61,62,63,64,65,66,67,68,69,70,71,72,73,74,75,76,77,78,79,80,81,82,83,84,85,86,87,88,89,90,91,92,93,94,95,96,97,98,99],\"colorbar\":{\"title\":{\"text\":\"Trial\"},\"x\":1.0,\"xpad\":40},\"colorscale\":[[0.0,\"rgb(247,251,255)\"],[0.125,\"rgb(222,235,247)\"],[0.25,\"rgb(198,219,239)\"],[0.375,\"rgb(158,202,225)\"],[0.5,\"rgb(107,174,214)\"],[0.625,\"rgb(66,146,198)\"],[0.75,\"rgb(33,113,181)\"],[0.875,\"rgb(8,81,156)\"],[1.0,\"rgb(8,48,107)\"]],\"line\":{\"color\":\"Grey\",\"width\":0.5},\"showscale\":false},\"mode\":\"markers\",\"name\":\"Feasible Trial\",\"showlegend\":false,\"x\":[\"dart\",\"gblinear\",\"gblinear\",\"gblinear\",\"gblinear\",\"dart\",\"gbtree\",\"gblinear\",\"gbtree\",\"dart\",\"gbtree\",\"gbtree\",\"gbtree\",\"gbtree\",\"gbtree\",\"gbtree\",\"gbtree\",\"gbtree\",\"gbtree\",\"gbtree\",\"dart\",\"gbtree\",\"gbtree\",\"gbtree\",\"gbtree\",\"gbtree\",\"gbtree\",\"gbtree\",\"dart\",\"gbtree\",\"dart\",\"dart\",\"dart\",\"dart\",\"dart\",\"dart\",\"dart\",\"dart\",\"dart\",\"gblinear\",\"dart\",\"dart\",\"dart\",\"dart\",\"dart\",\"gblinear\",\"dart\",\"dart\",\"dart\",\"gblinear\",\"dart\",\"dart\",\"dart\",\"dart\",\"dart\",\"dart\",\"dart\",\"dart\",\"gblinear\",\"dart\",\"dart\",\"dart\",\"dart\",\"dart\",\"dart\",\"dart\",\"dart\",\"dart\",\"dart\",\"gblinear\",\"dart\",\"dart\",\"dart\",\"dart\",\"dart\",\"gbtree\",\"dart\",\"dart\",\"dart\",\"dart\",\"dart\",\"dart\",\"dart\",\"dart\",\"dart\",\"dart\",\"dart\",\"dart\",\"dart\",\"dart\",\"dart\",\"dart\",\"dart\",\"dart\",\"dart\",\"dart\",\"dart\",\"dart\",\"gblinear\",\"dart\"],\"y\":[0.5645644595240594,0.6739305327223757,0.6740587871792181,0.5645644595240594,0.6752247367868761,0.5645644595240594,0.6765306003474529,0.6740704466752947,0.5645644595240594,0.5645644595240594,0.6770202991826694,0.6774866790257326,0.6781279513099444,0.5645644595240594,0.6653724626021663,0.5645644595240594,0.680191682115499,0.5666748283139202,0.5645644595240594,0.676390686394534,0.5645644595240594,0.67872258560985,0.6771485536395117,0.6768687257336737,0.5645644595240594,0.678582671656931,0.5645644595240594,0.5645644595240594,0.5645644595240594,0.6816141406368417,0.6810661443212425,0.6802849580841116,0.6812760152506209,0.5677824804411953,0.6807746569193279,0.5645644595240594,0.6814159292035398,0.5645644595240594,0.5841407534366365,0.6739421922184523,0.5645644595240594,0.6796320263038231,0.679911854209661,0.6808212949036343,0.6821271584642111,0.6739305327223757,0.5645644595240594,0.6594610980913405,0.5645644595240594,0.6740937656674478,0.6816840976133012,0.681217717770238,0.681077803817319,0.6811827392820082,0.6748516329124256,0.5654272622337263,0.6809378898644001,0.6780696538295615,0.6749099303928084,0.6650226777198689,0.6811011228094722,0.6815791621486119,0.6737789592733802,0.6800984061468863,0.6825002623386617,0.5948674898270897,0.6811011228094722,0.6761225179847727,0.6780696538295615,0.6722282462951952,0.5645644595240594,0.6807629974232514,0.682243753424977,0.6825235813308149,0.6821621369524409,0.6781745892942507,0.6825352408268914,0.6822204344328238,0.6022829293317943,0.6824419648582788,0.682465283850432,0.6794571338626745,0.6821737964485175,0.6807513379271748,0.6810661443212425,0.5645644595240594,0.6719950563736635,0.5645644595240594,0.6810428253290893,0.6807979759114811,0.6819755850152156,0.6815325241643057,0.6822320939289004,0.6740587871792181,0.6797253022724358,0.6762974104259214,0.6606970046754579,0.5709888418622547,0.6740238086909883,0.6810894633133956],\"type\":\"scatter\",\"xaxis\":\"x2\",\"yaxis\":\"y2\"},{\"marker\":{\"color\":[0,1,2,3,4,5,6,7,8,9,10,11,12,13,14,15,16,17,18,19,20,21,22,23,24,25,26,27,28,29,30,31,32,33,34,35,36,37,38,39,40,41,42,43,44,45,46,47,48,49,50,51,52,53,54,55,56,57,58,59,60,61,62,63,64,65,66,67,68,69,70,71,72,73,74,75,76,77,78,79,80,81,82,83,84,85,86,87,88,89,90,91,92,93,94,95,96,97,98,99],\"colorbar\":{\"title\":{\"text\":\"Trial\"},\"x\":1.0,\"xpad\":40},\"colorscale\":[[0.0,\"rgb(247,251,255)\"],[0.125,\"rgb(222,235,247)\"],[0.25,\"rgb(198,219,239)\"],[0.375,\"rgb(158,202,225)\"],[0.5,\"rgb(107,174,214)\"],[0.625,\"rgb(66,146,198)\"],[0.75,\"rgb(33,113,181)\"],[0.875,\"rgb(8,81,156)\"],[1.0,\"rgb(8,48,107)\"]],\"line\":{\"color\":\"Grey\",\"width\":0.5},\"showscale\":false},\"mode\":\"markers\",\"name\":\"Feasible Trial\",\"showlegend\":false,\"x\":[0.7746800468691908,0.7350641807360068,0.9463351107543431,0.9718609857266597,0.8470079847763676,0.9005006156676503,0.7007733270689646,0.7050282569866582,0.9759472683752777,0.759713352573459,0.8330673193431718,0.8114586481547498,0.8335484146320662,0.8099811515213953,0.9003899997689329,0.7966585967588291,0.8866019782683039,0.8834462193481605,0.8788519023758957,0.92501257439117,0.8653944408391973,0.813566847262665,0.8438735857775769,0.8268360496780185,0.7866208793491016,0.9230442330552705,0.9329828336769216,0.996903858667863,0.9029088153982888,0.8695928824981252,0.8663629140489884,0.8701338592989977,0.8675023577207528,0.8605568344720829,0.8624216246610887,0.8526679875213047,0.9105382597175595,0.9073705864251539,0.9444346658255063,0.9606980527339897,0.9102909526356394,0.884194310115905,0.8482044015723594,0.8694726125095829,0.8986582213479409,0.9169693231267456,0.8948017984170532,0.7619174769256916,0.939511944199696,0.9601790649835447,0.8897766439102534,0.8850234980457297,0.8934817401486614,0.8780557036271588,0.9133996159201178,0.836864936473694,0.8896654178385113,0.8777152787368048,0.9285018073254518,0.853881205445016,0.826684104186634,0.878387026421243,0.8995097079474814,0.8772691518936162,0.9196810546722414,0.9546649463669086,0.7248844782159973,0.921319042516469,0.9059178379606614,0.9333677057907926,0.8989109886161597,0.8881460784734516,0.8579362205843034,0.8555735582337082,0.8558695790421981,0.8602008477118881,0.8437252255677583,0.8390102858052222,0.8009939010346956,0.8403319519902835,0.8206204587706184,0.8212103418060431,0.8408910273728978,0.8399913997503511,0.8153606893911696,0.805048995461355,0.7894836520493559,0.8308753165144915,0.8437859902799513,0.8540022235066458,0.8226545444342652,0.8383872557011773,0.8482201961154338,0.8464332005915589,0.8315396933116164,0.8569576813653725,0.8176195313941793,0.8500223478827857,0.9814911865491801,0.8083815331838533],\"y\":[0.5645644595240594,0.6739305327223757,0.6740587871792181,0.5645644595240594,0.6752247367868761,0.5645644595240594,0.6765306003474529,0.6740704466752947,0.5645644595240594,0.5645644595240594,0.6770202991826694,0.6774866790257326,0.6781279513099444,0.5645644595240594,0.6653724626021663,0.5645644595240594,0.680191682115499,0.5666748283139202,0.5645644595240594,0.676390686394534,0.5645644595240594,0.67872258560985,0.6771485536395117,0.6768687257336737,0.5645644595240594,0.678582671656931,0.5645644595240594,0.5645644595240594,0.5645644595240594,0.6816141406368417,0.6810661443212425,0.6802849580841116,0.6812760152506209,0.5677824804411953,0.6807746569193279,0.5645644595240594,0.6814159292035398,0.5645644595240594,0.5841407534366365,0.6739421922184523,0.5645644595240594,0.6796320263038231,0.679911854209661,0.6808212949036343,0.6821271584642111,0.6739305327223757,0.5645644595240594,0.6594610980913405,0.5645644595240594,0.6740937656674478,0.6816840976133012,0.681217717770238,0.681077803817319,0.6811827392820082,0.6748516329124256,0.5654272622337263,0.6809378898644001,0.6780696538295615,0.6749099303928084,0.6650226777198689,0.6811011228094722,0.6815791621486119,0.6737789592733802,0.6800984061468863,0.6825002623386617,0.5948674898270897,0.6811011228094722,0.6761225179847727,0.6780696538295615,0.6722282462951952,0.5645644595240594,0.6807629974232514,0.682243753424977,0.6825235813308149,0.6821621369524409,0.6781745892942507,0.6825352408268914,0.6822204344328238,0.6022829293317943,0.6824419648582788,0.682465283850432,0.6794571338626745,0.6821737964485175,0.6807513379271748,0.6810661443212425,0.5645644595240594,0.6719950563736635,0.5645644595240594,0.6810428253290893,0.6807979759114811,0.6819755850152156,0.6815325241643057,0.6822320939289004,0.6740587871792181,0.6797253022724358,0.6762974104259214,0.6606970046754579,0.5709888418622547,0.6740238086909883,0.6810894633133956],\"type\":\"scatter\",\"xaxis\":\"x3\",\"yaxis\":\"y3\"},{\"marker\":{\"color\":[0,1,2,3,4,5,6,7,8,9,10,11,12,13,14,15,16,17,18,19,20,21,22,23,24,25,26,27,28,29,30,31,32,33,34,35,36,37,38,39,40,41,42,43,44,45,46,47,48,49,50,51,52,53,54,55,56,57,58,59,60,61,62,63,64,65,66,67,68,69,70,71,72,73,74,75,76,77,78,79,80,81,82,83,84,85,86,87,88,89,90,91,92,93,94,95,96,97,98,99],\"colorbar\":{\"title\":{\"text\":\"Trial\"},\"x\":1.0,\"xpad\":40},\"colorscale\":[[0.0,\"rgb(247,251,255)\"],[0.125,\"rgb(222,235,247)\"],[0.25,\"rgb(198,219,239)\"],[0.375,\"rgb(158,202,225)\"],[0.5,\"rgb(107,174,214)\"],[0.625,\"rgb(66,146,198)\"],[0.75,\"rgb(33,113,181)\"],[0.875,\"rgb(8,81,156)\"],[1.0,\"rgb(8,48,107)\"]],\"line\":{\"color\":\"Grey\",\"width\":0.5},\"showscale\":false},\"mode\":\"markers\",\"name\":\"Feasible Trial\",\"showlegend\":false,\"x\":[0.00017663455485090256,0.016589581779152967,0.0002946874806740835,0.0002567073732869018,5.69088919570516e-05,0.0002362299322576453,5.0794460776542196e-08,0.00037260252254052743,4.255507311144443e-07,0.004752276186938671,1.4667140312791672e-08,3.527594772536513e-08,1.0306274533770173e-08,1.4343766285051843e-06,0.7649838383745826,5.169079274580253e-07,3.7464323183338406e-06,1.1258281977022069e-05,4.166383117471618e-06,1.5701776016079522e-07,1.8432720377813048e-05,1.12657560669485e-08,1.1344858977560853e-08,1.4563517814139267e-07,2.2794081126575973e-06,1.517750384349298e-07,1.42729017323352e-07,9.263268221694215e-07,6.250465351099296e-08,1.1105270868974914e-05,5.4473676987508355e-05,0.0019478545074704389,0.0047162249807889516,0.002596216878458668,0.03896065174985104,0.04426212529232652,0.03751889830263587,0.5163482999764647,4.865829129463835e-05,0.0008227197984629926,0.1433954363804841,0.012500808467537464,0.021550153886507207,0.09953882983496692,0.00015132666528114774,7.005819644550437e-05,0.00017761771096788074,0.0006530198121338279,0.007332562214217916,3.497550268088866e-05,8.237026370690902e-06,8.890290917371105e-06,9.293036301770825e-06,1.877093082806698e-05,5.510296007483065e-06,0.00012648319711205806,2.3609753182322802e-05,0.00040613726364559254,9.484636465674676e-06,2.17078253200275e-06,5.794979081460496e-07,1.361968933771414e-05,4.494428845740974e-06,0.00010713092694613351,1.303404994206173e-05,1.5262916269751e-06,0.003068517241234773,2.2744195890646624e-05,0.00025640124937966537,0.14820115241538812,0.0013436147955808195,7.275386330952612e-06,1.4367221635281357e-05,2.5517568742238127e-06,2.944244677823386e-06,2.790038445988905e-06,1.0097915738299128e-06,4.754139658875314e-07,3.557182572797994e-07,8.311639530801074e-07,8.641907202976593e-07,8.590195589853365e-07,3.1140572469698774e-07,3.4198188785576936e-07,8.964030444577472e-08,3.1982215939647696e-08,1.1191299701091208e-06,2.7746903141564313e-07,1.9036373572639782e-06,2.2010812038150834e-07,8.352435334088649e-07,3.1395154002698703e-06,6.003263744835176e-07,5.684283143432923e-07,1.3124964298761541e-06,3.5292089939620684e-06,2.033966164454961e-07,6.185361177866023e-07,9.366776963594423e-08,5.681454963035444e-06],\"y\":[0.5645644595240594,0.6739305327223757,0.6740587871792181,0.5645644595240594,0.6752247367868761,0.5645644595240594,0.6765306003474529,0.6740704466752947,0.5645644595240594,0.5645644595240594,0.6770202991826694,0.6774866790257326,0.6781279513099444,0.5645644595240594,0.6653724626021663,0.5645644595240594,0.680191682115499,0.5666748283139202,0.5645644595240594,0.676390686394534,0.5645644595240594,0.67872258560985,0.6771485536395117,0.6768687257336737,0.5645644595240594,0.678582671656931,0.5645644595240594,0.5645644595240594,0.5645644595240594,0.6816141406368417,0.6810661443212425,0.6802849580841116,0.6812760152506209,0.5677824804411953,0.6807746569193279,0.5645644595240594,0.6814159292035398,0.5645644595240594,0.5841407534366365,0.6739421922184523,0.5645644595240594,0.6796320263038231,0.679911854209661,0.6808212949036343,0.6821271584642111,0.6739305327223757,0.5645644595240594,0.6594610980913405,0.5645644595240594,0.6740937656674478,0.6816840976133012,0.681217717770238,0.681077803817319,0.6811827392820082,0.6748516329124256,0.5654272622337263,0.6809378898644001,0.6780696538295615,0.6749099303928084,0.6650226777198689,0.6811011228094722,0.6815791621486119,0.6737789592733802,0.6800984061468863,0.6825002623386617,0.5948674898270897,0.6811011228094722,0.6761225179847727,0.6780696538295615,0.6722282462951952,0.5645644595240594,0.6807629974232514,0.682243753424977,0.6825235813308149,0.6821621369524409,0.6781745892942507,0.6825352408268914,0.6822204344328238,0.6022829293317943,0.6824419648582788,0.682465283850432,0.6794571338626745,0.6821737964485175,0.6807513379271748,0.6810661443212425,0.5645644595240594,0.6719950563736635,0.5645644595240594,0.6810428253290893,0.6807979759114811,0.6819755850152156,0.6815325241643057,0.6822320939289004,0.6740587871792181,0.6797253022724358,0.6762974104259214,0.6606970046754579,0.5709888418622547,0.6740238086909883,0.6810894633133956],\"type\":\"scatter\",\"xaxis\":\"x4\",\"yaxis\":\"y4\"},{\"marker\":{\"color\":[0,1,2,3,4,5,6,7,8,9,10,11,12,13,14,15,16,17,18,19,20,21,22,23,24,25,26,27,28,29,30,31,32,33,34,35,36,37,38,39,40,41,42,43,44,45,46,47,48,49,50,51,52,53,54,55,56,57,58,59,60,61,62,63,64,65,66,67,68,69,70,71,72,73,74,75,76,77,78,79,80,81,82,83,84,85,86,87,88,89,90,91,92,93,94,95,96,97,98,99],\"colorbar\":{\"title\":{\"text\":\"Trial\"},\"x\":1.0,\"xpad\":40},\"colorscale\":[[0.0,\"rgb(247,251,255)\"],[0.125,\"rgb(222,235,247)\"],[0.25,\"rgb(198,219,239)\"],[0.375,\"rgb(158,202,225)\"],[0.5,\"rgb(107,174,214)\"],[0.625,\"rgb(66,146,198)\"],[0.75,\"rgb(33,113,181)\"],[0.875,\"rgb(8,81,156)\"],[1.0,\"rgb(8,48,107)\"]],\"line\":{\"color\":\"Grey\",\"width\":0.5},\"showscale\":false},\"mode\":\"markers\",\"name\":\"Feasible Trial\",\"showlegend\":false,\"x\":[0.6729488573361504,0.8053680207424867,0.7532558342755147,0.9263709895433914,0.6434090617258775,0.49406716314459004,0.7919017150754073,0.28901690691590265,0.205866822439598,0.3803874724935423,0.9938043903786268,0.9654627322524638,0.9773070108561712,0.9001108320339827,0.9815070073786271,0.5238431663466159,0.8679627075310142,0.8385490400235437,0.7201733041705977,0.8701328224152292,0.5456522650632121,0.9260053041552174,0.8882559705080622,0.9218898689085158,0.851152212574513,0.7286805409215839,0.7074243736106912,0.6010472277965057,0.7580975399165784,0.6550895195011325,0.6544476058646931,0.4465142244949752,0.4798303545569113,0.4301238659507254,0.4326558512830296,0.6533181693821106,0.5935315323557822,0.5971829682080594,0.599095080209126,0.5569451000799532,0.4911312991544456,0.3560966747371159,0.6719833843461236,0.45272341187165877,0.6238928821113294,0.631893909364537,0.7817553564427457,0.6983956929665117,0.5754497610304697,0.5138208379399198,0.6365547264277267,0.6564820667745506,0.624009236080427,0.6742097527562649,0.48183668567229754,0.5500414768641113,0.38845876021291514,0.7542750349782319,0.6195870608058645,0.5786515319904848,0.6803475449511388,0.6925911330915436,0.730177120478782,0.5256979648614366,0.8191347191918659,0.7874735960339385,0.8169249637752003,0.2471310019087788,0.6958914093415213,0.8206494495881864,0.5746779479385455,0.6497616580727875,0.6216162943315238,0.6190809495377076,0.6085776907840392,0.6171371300717958,0.7152405139734603,0.7338655451600452,0.7209026922923928,0.7400178822717242,0.7627555337587454,0.7697581028711095,0.7486663869115524,0.7378274062296274,0.7472024551916591,0.8429989770040285,0.8053881759143525,0.7709317883128681,0.7965961749973556,0.8633495679554635,0.8267721702134401,0.7131045379625948,0.7659173058922771,0.7733288489187494,0.7482078666116339,0.7142729216339615,0.88775487498666,0.9533423824021618,0.8048777023432143,0.6723531466886914],\"y\":[0.5645644595240594,0.6739305327223757,0.6740587871792181,0.5645644595240594,0.6752247367868761,0.5645644595240594,0.6765306003474529,0.6740704466752947,0.5645644595240594,0.5645644595240594,0.6770202991826694,0.6774866790257326,0.6781279513099444,0.5645644595240594,0.6653724626021663,0.5645644595240594,0.680191682115499,0.5666748283139202,0.5645644595240594,0.676390686394534,0.5645644595240594,0.67872258560985,0.6771485536395117,0.6768687257336737,0.5645644595240594,0.678582671656931,0.5645644595240594,0.5645644595240594,0.5645644595240594,0.6816141406368417,0.6810661443212425,0.6802849580841116,0.6812760152506209,0.5677824804411953,0.6807746569193279,0.5645644595240594,0.6814159292035398,0.5645644595240594,0.5841407534366365,0.6739421922184523,0.5645644595240594,0.6796320263038231,0.679911854209661,0.6808212949036343,0.6821271584642111,0.6739305327223757,0.5645644595240594,0.6594610980913405,0.5645644595240594,0.6740937656674478,0.6816840976133012,0.681217717770238,0.681077803817319,0.6811827392820082,0.6748516329124256,0.5654272622337263,0.6809378898644001,0.6780696538295615,0.6749099303928084,0.6650226777198689,0.6811011228094722,0.6815791621486119,0.6737789592733802,0.6800984061468863,0.6825002623386617,0.5948674898270897,0.6811011228094722,0.6761225179847727,0.6780696538295615,0.6722282462951952,0.5645644595240594,0.6807629974232514,0.682243753424977,0.6825235813308149,0.6821621369524409,0.6781745892942507,0.6825352408268914,0.6822204344328238,0.6022829293317943,0.6824419648582788,0.682465283850432,0.6794571338626745,0.6821737964485175,0.6807513379271748,0.6810661443212425,0.5645644595240594,0.6719950563736635,0.5645644595240594,0.6810428253290893,0.6807979759114811,0.6819755850152156,0.6815325241643057,0.6822320939289004,0.6740587871792181,0.6797253022724358,0.6762974104259214,0.6606970046754579,0.5709888418622547,0.6740238086909883,0.6810894633133956],\"type\":\"scatter\",\"xaxis\":\"x5\",\"yaxis\":\"y5\"}],                        {\"template\":{\"data\":{\"histogram2dcontour\":[{\"type\":\"histogram2dcontour\",\"colorbar\":{\"outlinewidth\":0,\"ticks\":\"\"},\"colorscale\":[[0.0,\"#0d0887\"],[0.1111111111111111,\"#46039f\"],[0.2222222222222222,\"#7201a8\"],[0.3333333333333333,\"#9c179e\"],[0.4444444444444444,\"#bd3786\"],[0.5555555555555556,\"#d8576b\"],[0.6666666666666666,\"#ed7953\"],[0.7777777777777778,\"#fb9f3a\"],[0.8888888888888888,\"#fdca26\"],[1.0,\"#f0f921\"]]}],\"choropleth\":[{\"type\":\"choropleth\",\"colorbar\":{\"outlinewidth\":0,\"ticks\":\"\"}}],\"histogram2d\":[{\"type\":\"histogram2d\",\"colorbar\":{\"outlinewidth\":0,\"ticks\":\"\"},\"colorscale\":[[0.0,\"#0d0887\"],[0.1111111111111111,\"#46039f\"],[0.2222222222222222,\"#7201a8\"],[0.3333333333333333,\"#9c179e\"],[0.4444444444444444,\"#bd3786\"],[0.5555555555555556,\"#d8576b\"],[0.6666666666666666,\"#ed7953\"],[0.7777777777777778,\"#fb9f3a\"],[0.8888888888888888,\"#fdca26\"],[1.0,\"#f0f921\"]]}],\"heatmap\":[{\"type\":\"heatmap\",\"colorbar\":{\"outlinewidth\":0,\"ticks\":\"\"},\"colorscale\":[[0.0,\"#0d0887\"],[0.1111111111111111,\"#46039f\"],[0.2222222222222222,\"#7201a8\"],[0.3333333333333333,\"#9c179e\"],[0.4444444444444444,\"#bd3786\"],[0.5555555555555556,\"#d8576b\"],[0.6666666666666666,\"#ed7953\"],[0.7777777777777778,\"#fb9f3a\"],[0.8888888888888888,\"#fdca26\"],[1.0,\"#f0f921\"]]}],\"heatmapgl\":[{\"type\":\"heatmapgl\",\"colorbar\":{\"outlinewidth\":0,\"ticks\":\"\"},\"colorscale\":[[0.0,\"#0d0887\"],[0.1111111111111111,\"#46039f\"],[0.2222222222222222,\"#7201a8\"],[0.3333333333333333,\"#9c179e\"],[0.4444444444444444,\"#bd3786\"],[0.5555555555555556,\"#d8576b\"],[0.6666666666666666,\"#ed7953\"],[0.7777777777777778,\"#fb9f3a\"],[0.8888888888888888,\"#fdca26\"],[1.0,\"#f0f921\"]]}],\"contourcarpet\":[{\"type\":\"contourcarpet\",\"colorbar\":{\"outlinewidth\":0,\"ticks\":\"\"}}],\"contour\":[{\"type\":\"contour\",\"colorbar\":{\"outlinewidth\":0,\"ticks\":\"\"},\"colorscale\":[[0.0,\"#0d0887\"],[0.1111111111111111,\"#46039f\"],[0.2222222222222222,\"#7201a8\"],[0.3333333333333333,\"#9c179e\"],[0.4444444444444444,\"#bd3786\"],[0.5555555555555556,\"#d8576b\"],[0.6666666666666666,\"#ed7953\"],[0.7777777777777778,\"#fb9f3a\"],[0.8888888888888888,\"#fdca26\"],[1.0,\"#f0f921\"]]}],\"surface\":[{\"type\":\"surface\",\"colorbar\":{\"outlinewidth\":0,\"ticks\":\"\"},\"colorscale\":[[0.0,\"#0d0887\"],[0.1111111111111111,\"#46039f\"],[0.2222222222222222,\"#7201a8\"],[0.3333333333333333,\"#9c179e\"],[0.4444444444444444,\"#bd3786\"],[0.5555555555555556,\"#d8576b\"],[0.6666666666666666,\"#ed7953\"],[0.7777777777777778,\"#fb9f3a\"],[0.8888888888888888,\"#fdca26\"],[1.0,\"#f0f921\"]]}],\"mesh3d\":[{\"type\":\"mesh3d\",\"colorbar\":{\"outlinewidth\":0,\"ticks\":\"\"}}],\"scatter\":[{\"fillpattern\":{\"fillmode\":\"overlay\",\"size\":10,\"solidity\":0.2},\"type\":\"scatter\"}],\"parcoords\":[{\"type\":\"parcoords\",\"line\":{\"colorbar\":{\"outlinewidth\":0,\"ticks\":\"\"}}}],\"scatterpolargl\":[{\"type\":\"scatterpolargl\",\"marker\":{\"colorbar\":{\"outlinewidth\":0,\"ticks\":\"\"}}}],\"bar\":[{\"error_x\":{\"color\":\"#2a3f5f\"},\"error_y\":{\"color\":\"#2a3f5f\"},\"marker\":{\"line\":{\"color\":\"#E5ECF6\",\"width\":0.5},\"pattern\":{\"fillmode\":\"overlay\",\"size\":10,\"solidity\":0.2}},\"type\":\"bar\"}],\"scattergeo\":[{\"type\":\"scattergeo\",\"marker\":{\"colorbar\":{\"outlinewidth\":0,\"ticks\":\"\"}}}],\"scatterpolar\":[{\"type\":\"scatterpolar\",\"marker\":{\"colorbar\":{\"outlinewidth\":0,\"ticks\":\"\"}}}],\"histogram\":[{\"marker\":{\"pattern\":{\"fillmode\":\"overlay\",\"size\":10,\"solidity\":0.2}},\"type\":\"histogram\"}],\"scattergl\":[{\"type\":\"scattergl\",\"marker\":{\"colorbar\":{\"outlinewidth\":0,\"ticks\":\"\"}}}],\"scatter3d\":[{\"type\":\"scatter3d\",\"line\":{\"colorbar\":{\"outlinewidth\":0,\"ticks\":\"\"}},\"marker\":{\"colorbar\":{\"outlinewidth\":0,\"ticks\":\"\"}}}],\"scattermapbox\":[{\"type\":\"scattermapbox\",\"marker\":{\"colorbar\":{\"outlinewidth\":0,\"ticks\":\"\"}}}],\"scatterternary\":[{\"type\":\"scatterternary\",\"marker\":{\"colorbar\":{\"outlinewidth\":0,\"ticks\":\"\"}}}],\"scattercarpet\":[{\"type\":\"scattercarpet\",\"marker\":{\"colorbar\":{\"outlinewidth\":0,\"ticks\":\"\"}}}],\"carpet\":[{\"aaxis\":{\"endlinecolor\":\"#2a3f5f\",\"gridcolor\":\"white\",\"linecolor\":\"white\",\"minorgridcolor\":\"white\",\"startlinecolor\":\"#2a3f5f\"},\"baxis\":{\"endlinecolor\":\"#2a3f5f\",\"gridcolor\":\"white\",\"linecolor\":\"white\",\"minorgridcolor\":\"white\",\"startlinecolor\":\"#2a3f5f\"},\"type\":\"carpet\"}],\"table\":[{\"cells\":{\"fill\":{\"color\":\"#EBF0F8\"},\"line\":{\"color\":\"white\"}},\"header\":{\"fill\":{\"color\":\"#C8D4E3\"},\"line\":{\"color\":\"white\"}},\"type\":\"table\"}],\"barpolar\":[{\"marker\":{\"line\":{\"color\":\"#E5ECF6\",\"width\":0.5},\"pattern\":{\"fillmode\":\"overlay\",\"size\":10,\"solidity\":0.2}},\"type\":\"barpolar\"}],\"pie\":[{\"automargin\":true,\"type\":\"pie\"}]},\"layout\":{\"autotypenumbers\":\"strict\",\"colorway\":[\"#636efa\",\"#EF553B\",\"#00cc96\",\"#ab63fa\",\"#FFA15A\",\"#19d3f3\",\"#FF6692\",\"#B6E880\",\"#FF97FF\",\"#FECB52\"],\"font\":{\"color\":\"#2a3f5f\"},\"hovermode\":\"closest\",\"hoverlabel\":{\"align\":\"left\"},\"paper_bgcolor\":\"white\",\"plot_bgcolor\":\"#E5ECF6\",\"polar\":{\"bgcolor\":\"#E5ECF6\",\"angularaxis\":{\"gridcolor\":\"white\",\"linecolor\":\"white\",\"ticks\":\"\"},\"radialaxis\":{\"gridcolor\":\"white\",\"linecolor\":\"white\",\"ticks\":\"\"}},\"ternary\":{\"bgcolor\":\"#E5ECF6\",\"aaxis\":{\"gridcolor\":\"white\",\"linecolor\":\"white\",\"ticks\":\"\"},\"baxis\":{\"gridcolor\":\"white\",\"linecolor\":\"white\",\"ticks\":\"\"},\"caxis\":{\"gridcolor\":\"white\",\"linecolor\":\"white\",\"ticks\":\"\"}},\"coloraxis\":{\"colorbar\":{\"outlinewidth\":0,\"ticks\":\"\"}},\"colorscale\":{\"sequential\":[[0.0,\"#0d0887\"],[0.1111111111111111,\"#46039f\"],[0.2222222222222222,\"#7201a8\"],[0.3333333333333333,\"#9c179e\"],[0.4444444444444444,\"#bd3786\"],[0.5555555555555556,\"#d8576b\"],[0.6666666666666666,\"#ed7953\"],[0.7777777777777778,\"#fb9f3a\"],[0.8888888888888888,\"#fdca26\"],[1.0,\"#f0f921\"]],\"sequentialminus\":[[0.0,\"#0d0887\"],[0.1111111111111111,\"#46039f\"],[0.2222222222222222,\"#7201a8\"],[0.3333333333333333,\"#9c179e\"],[0.4444444444444444,\"#bd3786\"],[0.5555555555555556,\"#d8576b\"],[0.6666666666666666,\"#ed7953\"],[0.7777777777777778,\"#fb9f3a\"],[0.8888888888888888,\"#fdca26\"],[1.0,\"#f0f921\"]],\"diverging\":[[0,\"#8e0152\"],[0.1,\"#c51b7d\"],[0.2,\"#de77ae\"],[0.3,\"#f1b6da\"],[0.4,\"#fde0ef\"],[0.5,\"#f7f7f7\"],[0.6,\"#e6f5d0\"],[0.7,\"#b8e186\"],[0.8,\"#7fbc41\"],[0.9,\"#4d9221\"],[1,\"#276419\"]]},\"xaxis\":{\"gridcolor\":\"white\",\"linecolor\":\"white\",\"ticks\":\"\",\"title\":{\"standoff\":15},\"zerolinecolor\":\"white\",\"automargin\":true,\"zerolinewidth\":2},\"yaxis\":{\"gridcolor\":\"white\",\"linecolor\":\"white\",\"ticks\":\"\",\"title\":{\"standoff\":15},\"zerolinecolor\":\"white\",\"automargin\":true,\"zerolinewidth\":2},\"scene\":{\"xaxis\":{\"backgroundcolor\":\"#E5ECF6\",\"gridcolor\":\"white\",\"linecolor\":\"white\",\"showbackground\":true,\"ticks\":\"\",\"zerolinecolor\":\"white\",\"gridwidth\":2},\"yaxis\":{\"backgroundcolor\":\"#E5ECF6\",\"gridcolor\":\"white\",\"linecolor\":\"white\",\"showbackground\":true,\"ticks\":\"\",\"zerolinecolor\":\"white\",\"gridwidth\":2},\"zaxis\":{\"backgroundcolor\":\"#E5ECF6\",\"gridcolor\":\"white\",\"linecolor\":\"white\",\"showbackground\":true,\"ticks\":\"\",\"zerolinecolor\":\"white\",\"gridwidth\":2}},\"shapedefaults\":{\"line\":{\"color\":\"#2a3f5f\"}},\"annotationdefaults\":{\"arrowcolor\":\"#2a3f5f\",\"arrowhead\":0,\"arrowwidth\":1},\"geo\":{\"bgcolor\":\"white\",\"landcolor\":\"#E5ECF6\",\"subunitcolor\":\"white\",\"showland\":true,\"showlakes\":true,\"lakecolor\":\"white\"},\"title\":{\"x\":0.05},\"mapbox\":{\"style\":\"light\"}}},\"xaxis\":{\"anchor\":\"y\",\"domain\":[0.0,0.16799999999999998],\"title\":{\"text\":\"alpha\"},\"type\":\"log\"},\"yaxis\":{\"anchor\":\"x\",\"domain\":[0.0,1.0],\"title\":{\"text\":\"Objective Value\"}},\"xaxis2\":{\"anchor\":\"y2\",\"domain\":[0.208,0.376],\"title\":{\"text\":\"booster\"},\"type\":\"category\",\"categoryorder\":\"array\",\"categoryarray\":[\"gbtree\",\"gblinear\",\"dart\"]},\"yaxis2\":{\"anchor\":\"x2\",\"domain\":[0.0,1.0],\"matches\":\"y\",\"showticklabels\":false},\"xaxis3\":{\"anchor\":\"y3\",\"domain\":[0.416,0.584],\"title\":{\"text\":\"colsample_bytree\"}},\"yaxis3\":{\"anchor\":\"x3\",\"domain\":[0.0,1.0],\"matches\":\"y\",\"showticklabels\":false},\"xaxis4\":{\"anchor\":\"y4\",\"domain\":[0.624,0.792],\"title\":{\"text\":\"lambda\"},\"type\":\"log\"},\"yaxis4\":{\"anchor\":\"x4\",\"domain\":[0.0,1.0],\"matches\":\"y\",\"showticklabels\":false},\"xaxis5\":{\"anchor\":\"y5\",\"domain\":[0.832,1.0],\"title\":{\"text\":\"subsample\"}},\"yaxis5\":{\"anchor\":\"x5\",\"domain\":[0.0,1.0],\"matches\":\"y\",\"showticklabels\":false},\"title\":{\"text\":\"Slice Plot\"},\"width\":1500},                        {\"responsive\": true}                    )                };                            </script>        </div>"
      ],
      "text/plain": [
       "Figure({\n",
       "    'data': [{'marker': {'color': [0, 1, 2, 3, 4, 5, 6, 7, 8, 9, 10, 11, 12, 13,\n",
       "                                   14, 15, 16, 17, 18, 19, 20, 21, 22, 23, 24, 25,\n",
       "                                   26, 27, 28, 29, 30, 31, 32, 33, 34, 35, 36, 37,\n",
       "                                   38, 39, 40, 41, 42, 43, 44, 45, 46, 47, 48, 49,\n",
       "                                   50, 51, 52, 53, 54, 55, 56, 57, 58, 59, 60, 61,\n",
       "                                   62, 63, 64, 65, 66, 67, 68, 69, 70, 71, 72, 73,\n",
       "                                   74, 75, 76, 77, 78, 79, 80, 81, 82, 83, 84, 85,\n",
       "                                   86, 87, 88, 89, 90, 91, 92, 93, 94, 95, 96, 97,\n",
       "                                   98, 99],\n",
       "                         'colorbar': {'title': {'text': 'Trial'}, 'x': 1.0, 'xpad': 40},\n",
       "                         'colorscale': [[0.0, 'rgb(247,251,255)'], [0.125,\n",
       "                                        'rgb(222,235,247)'], [0.25,\n",
       "                                        'rgb(198,219,239)'], [0.375,\n",
       "                                        'rgb(158,202,225)'], [0.5,\n",
       "                                        'rgb(107,174,214)'], [0.625,\n",
       "                                        'rgb(66,146,198)'], [0.75,\n",
       "                                        'rgb(33,113,181)'], [0.875,\n",
       "                                        'rgb(8,81,156)'], [1.0, 'rgb(8,48,107)']],\n",
       "                         'line': {'color': 'Grey', 'width': 0.5},\n",
       "                         'showscale': True},\n",
       "              'mode': 'markers',\n",
       "              'name': 'Feasible Trial',\n",
       "              'showlegend': False,\n",
       "              'type': 'scatter',\n",
       "              'x': [0.0011451390130396597, 1.2094464151932313e-08,\n",
       "                    7.061111413598189e-07, 0.8866006585339498,\n",
       "                    0.006164340132814618, 0.0022740045685392596,\n",
       "                    3.2983150813660233e-07, 2.429573252265458e-07,\n",
       "                    0.0020032067995748117, 0.00041512579285493613,\n",
       "                    8.484494515479239e-06, 8.133467560031941e-06,\n",
       "                    4.8657089248510754e-06, 1.1918050898581142e-05,\n",
       "                    2.644798662957866e-05, 2.064716865213716e-06,\n",
       "                    0.0001232411444965965, 0.03490800333137301,\n",
       "                    9.270992213192295e-05, 4.812562213961896e-08,\n",
       "                    0.00016718852040888474, 2.7533301873336584e-06,\n",
       "                    1.8903133367431702e-06, 4.8501951817287105e-05,\n",
       "                    2.5118473269649554e-06, 4.7175536113536835e-08,\n",
       "                    4.073338713093635e-08, 1.5045402111711732e-07,\n",
       "                    1.2145308056461768e-08, 6.767137965115558e-07,\n",
       "                    0.0004828040058966788, 0.00025827731240911876,\n",
       "                    0.0004171063819378436, 0.000504920751396847,\n",
       "                    0.012575181356249463, 0.04136538891336599,\n",
       "                    0.017317697424105542, 0.555976897514931, 0.13702261256162124,\n",
       "                    0.0010697165365388674, 0.004828512822077445,\n",
       "                    0.019211904897836914, 0.00837989629988712,\n",
       "                    0.0011955649476340995, 0.0007924451904003184,\n",
       "                    0.00046253507462241353, 0.002244616987781639,\n",
       "                    2.2633788744447686e-05, 0.0033060088333697643,\n",
       "                    4.1680599242801316e-05, 0.0009095763311571298,\n",
       "                    0.0006605483030042633, 0.0008081315679075477,\n",
       "                    0.00021073559203864343, 6.90066761693756e-05,\n",
       "                    0.002330407681615806, 0.06258513237908052,\n",
       "                    8.722819568856754e-07, 0.0054991117098776385,\n",
       "                    0.1469340932356078, 0.0014409851603062105,\n",
       "                    1.5235310717410962e-05, 1.1110020818814702e-05,\n",
       "                    0.00011431096125171484, 6.454856185869622e-07,\n",
       "                    3.067275731930734e-07, 6.899874960215372e-07,\n",
       "                    2.542182211286341e-05, 4.8468202980693394e-06,\n",
       "                    1.1069793122543056e-06, 1.9144492860569445e-07,\n",
       "                    0.00029125284704099657, 4.0462596667377603e-07,\n",
       "                    9.651693744681854e-08, 2.406747765458144e-08,\n",
       "                    8.740758688593511e-08, 2.3445234888982956e-08,\n",
       "                    1.6194062512903545e-08, 1.5402637346585933e-08,\n",
       "                    2.3012312732234438e-08, 2.8343678613564854e-08,\n",
       "                    2.3269109489940843e-08, 1.1637210447866818e-07,\n",
       "                    7.89456446673968e-08, 2.9129568543816323e-08,\n",
       "                    1.1111190906881421e-07, 5.8328057005441935e-08,\n",
       "                    1.0899599840311232e-08, 2.2619965770447595e-08,\n",
       "                    4.0222134921282527e-07, 3.661378187780248e-08,\n",
       "                    5.915998624663202e-08, 1.7696009656288418e-08,\n",
       "                    1.8475435812382283e-08, 1.4002169091082014e-07,\n",
       "                    3.352689511092908e-08, 1.0755604366392676e-08,\n",
       "                    4.336081303376962e-07, 7.844357755605108e-08,\n",
       "                    5.2048247414308855e-08],\n",
       "              'xaxis': 'x',\n",
       "              'y': [0.5645644595240594, 0.6739305327223757, 0.6740587871792181,\n",
       "                    0.5645644595240594, 0.6752247367868761, 0.5645644595240594,\n",
       "                    0.6765306003474529, 0.6740704466752947, 0.5645644595240594,\n",
       "                    0.5645644595240594, 0.6770202991826694, 0.6774866790257326,\n",
       "                    0.6781279513099444, 0.5645644595240594, 0.6653724626021663,\n",
       "                    0.5645644595240594, 0.680191682115499, 0.5666748283139202,\n",
       "                    0.5645644595240594, 0.676390686394534, 0.5645644595240594,\n",
       "                    0.67872258560985, 0.6771485536395117, 0.6768687257336737,\n",
       "                    0.5645644595240594, 0.678582671656931, 0.5645644595240594,\n",
       "                    0.5645644595240594, 0.5645644595240594, 0.6816141406368417,\n",
       "                    0.6810661443212425, 0.6802849580841116, 0.6812760152506209,\n",
       "                    0.5677824804411953, 0.6807746569193279, 0.5645644595240594,\n",
       "                    0.6814159292035398, 0.5645644595240594, 0.5841407534366365,\n",
       "                    0.6739421922184523, 0.5645644595240594, 0.6796320263038231,\n",
       "                    0.679911854209661, 0.6808212949036343, 0.6821271584642111,\n",
       "                    0.6739305327223757, 0.5645644595240594, 0.6594610980913405,\n",
       "                    0.5645644595240594, 0.6740937656674478, 0.6816840976133012,\n",
       "                    0.681217717770238, 0.681077803817319, 0.6811827392820082,\n",
       "                    0.6748516329124256, 0.5654272622337263, 0.6809378898644001,\n",
       "                    0.6780696538295615, 0.6749099303928084, 0.6650226777198689,\n",
       "                    0.6811011228094722, 0.6815791621486119, 0.6737789592733802,\n",
       "                    0.6800984061468863, 0.6825002623386617, 0.5948674898270897,\n",
       "                    0.6811011228094722, 0.6761225179847727, 0.6780696538295615,\n",
       "                    0.6722282462951952, 0.5645644595240594, 0.6807629974232514,\n",
       "                    0.682243753424977, 0.6825235813308149, 0.6821621369524409,\n",
       "                    0.6781745892942507, 0.6825352408268914, 0.6822204344328238,\n",
       "                    0.6022829293317943, 0.6824419648582788, 0.682465283850432,\n",
       "                    0.6794571338626745, 0.6821737964485175, 0.6807513379271748,\n",
       "                    0.6810661443212425, 0.5645644595240594, 0.6719950563736635,\n",
       "                    0.5645644595240594, 0.6810428253290893, 0.6807979759114811,\n",
       "                    0.6819755850152156, 0.6815325241643057, 0.6822320939289004,\n",
       "                    0.6740587871792181, 0.6797253022724358, 0.6762974104259214,\n",
       "                    0.6606970046754579, 0.5709888418622547, 0.6740238086909883,\n",
       "                    0.6810894633133956],\n",
       "              'yaxis': 'y'},\n",
       "             {'marker': {'color': [0, 1, 2, 3, 4, 5, 6, 7, 8, 9, 10, 11, 12, 13,\n",
       "                                   14, 15, 16, 17, 18, 19, 20, 21, 22, 23, 24, 25,\n",
       "                                   26, 27, 28, 29, 30, 31, 32, 33, 34, 35, 36, 37,\n",
       "                                   38, 39, 40, 41, 42, 43, 44, 45, 46, 47, 48, 49,\n",
       "                                   50, 51, 52, 53, 54, 55, 56, 57, 58, 59, 60, 61,\n",
       "                                   62, 63, 64, 65, 66, 67, 68, 69, 70, 71, 72, 73,\n",
       "                                   74, 75, 76, 77, 78, 79, 80, 81, 82, 83, 84, 85,\n",
       "                                   86, 87, 88, 89, 90, 91, 92, 93, 94, 95, 96, 97,\n",
       "                                   98, 99],\n",
       "                         'colorbar': {'title': {'text': 'Trial'}, 'x': 1.0, 'xpad': 40},\n",
       "                         'colorscale': [[0.0, 'rgb(247,251,255)'], [0.125,\n",
       "                                        'rgb(222,235,247)'], [0.25,\n",
       "                                        'rgb(198,219,239)'], [0.375,\n",
       "                                        'rgb(158,202,225)'], [0.5,\n",
       "                                        'rgb(107,174,214)'], [0.625,\n",
       "                                        'rgb(66,146,198)'], [0.75,\n",
       "                                        'rgb(33,113,181)'], [0.875,\n",
       "                                        'rgb(8,81,156)'], [1.0, 'rgb(8,48,107)']],\n",
       "                         'line': {'color': 'Grey', 'width': 0.5},\n",
       "                         'showscale': False},\n",
       "              'mode': 'markers',\n",
       "              'name': 'Feasible Trial',\n",
       "              'showlegend': False,\n",
       "              'type': 'scatter',\n",
       "              'x': [dart, gblinear, gblinear, gblinear, gblinear, dart, gbtree,\n",
       "                    gblinear, gbtree, dart, gbtree, gbtree, gbtree, gbtree, gbtree,\n",
       "                    gbtree, gbtree, gbtree, gbtree, gbtree, dart, gbtree, gbtree,\n",
       "                    gbtree, gbtree, gbtree, gbtree, gbtree, dart, gbtree, dart,\n",
       "                    dart, dart, dart, dart, dart, dart, dart, dart, gblinear, dart,\n",
       "                    dart, dart, dart, dart, gblinear, dart, dart, dart, gblinear,\n",
       "                    dart, dart, dart, dart, dart, dart, dart, dart, gblinear, dart,\n",
       "                    dart, dart, dart, dart, dart, dart, dart, dart, dart, gblinear,\n",
       "                    dart, dart, dart, dart, dart, gbtree, dart, dart, dart, dart,\n",
       "                    dart, dart, dart, dart, dart, dart, dart, dart, dart, dart,\n",
       "                    dart, dart, dart, dart, dart, dart, dart, dart, gblinear, dart],\n",
       "              'xaxis': 'x2',\n",
       "              'y': [0.5645644595240594, 0.6739305327223757, 0.6740587871792181,\n",
       "                    0.5645644595240594, 0.6752247367868761, 0.5645644595240594,\n",
       "                    0.6765306003474529, 0.6740704466752947, 0.5645644595240594,\n",
       "                    0.5645644595240594, 0.6770202991826694, 0.6774866790257326,\n",
       "                    0.6781279513099444, 0.5645644595240594, 0.6653724626021663,\n",
       "                    0.5645644595240594, 0.680191682115499, 0.5666748283139202,\n",
       "                    0.5645644595240594, 0.676390686394534, 0.5645644595240594,\n",
       "                    0.67872258560985, 0.6771485536395117, 0.6768687257336737,\n",
       "                    0.5645644595240594, 0.678582671656931, 0.5645644595240594,\n",
       "                    0.5645644595240594, 0.5645644595240594, 0.6816141406368417,\n",
       "                    0.6810661443212425, 0.6802849580841116, 0.6812760152506209,\n",
       "                    0.5677824804411953, 0.6807746569193279, 0.5645644595240594,\n",
       "                    0.6814159292035398, 0.5645644595240594, 0.5841407534366365,\n",
       "                    0.6739421922184523, 0.5645644595240594, 0.6796320263038231,\n",
       "                    0.679911854209661, 0.6808212949036343, 0.6821271584642111,\n",
       "                    0.6739305327223757, 0.5645644595240594, 0.6594610980913405,\n",
       "                    0.5645644595240594, 0.6740937656674478, 0.6816840976133012,\n",
       "                    0.681217717770238, 0.681077803817319, 0.6811827392820082,\n",
       "                    0.6748516329124256, 0.5654272622337263, 0.6809378898644001,\n",
       "                    0.6780696538295615, 0.6749099303928084, 0.6650226777198689,\n",
       "                    0.6811011228094722, 0.6815791621486119, 0.6737789592733802,\n",
       "                    0.6800984061468863, 0.6825002623386617, 0.5948674898270897,\n",
       "                    0.6811011228094722, 0.6761225179847727, 0.6780696538295615,\n",
       "                    0.6722282462951952, 0.5645644595240594, 0.6807629974232514,\n",
       "                    0.682243753424977, 0.6825235813308149, 0.6821621369524409,\n",
       "                    0.6781745892942507, 0.6825352408268914, 0.6822204344328238,\n",
       "                    0.6022829293317943, 0.6824419648582788, 0.682465283850432,\n",
       "                    0.6794571338626745, 0.6821737964485175, 0.6807513379271748,\n",
       "                    0.6810661443212425, 0.5645644595240594, 0.6719950563736635,\n",
       "                    0.5645644595240594, 0.6810428253290893, 0.6807979759114811,\n",
       "                    0.6819755850152156, 0.6815325241643057, 0.6822320939289004,\n",
       "                    0.6740587871792181, 0.6797253022724358, 0.6762974104259214,\n",
       "                    0.6606970046754579, 0.5709888418622547, 0.6740238086909883,\n",
       "                    0.6810894633133956],\n",
       "              'yaxis': 'y2'},\n",
       "             {'marker': {'color': [0, 1, 2, 3, 4, 5, 6, 7, 8, 9, 10, 11, 12, 13,\n",
       "                                   14, 15, 16, 17, 18, 19, 20, 21, 22, 23, 24, 25,\n",
       "                                   26, 27, 28, 29, 30, 31, 32, 33, 34, 35, 36, 37,\n",
       "                                   38, 39, 40, 41, 42, 43, 44, 45, 46, 47, 48, 49,\n",
       "                                   50, 51, 52, 53, 54, 55, 56, 57, 58, 59, 60, 61,\n",
       "                                   62, 63, 64, 65, 66, 67, 68, 69, 70, 71, 72, 73,\n",
       "                                   74, 75, 76, 77, 78, 79, 80, 81, 82, 83, 84, 85,\n",
       "                                   86, 87, 88, 89, 90, 91, 92, 93, 94, 95, 96, 97,\n",
       "                                   98, 99],\n",
       "                         'colorbar': {'title': {'text': 'Trial'}, 'x': 1.0, 'xpad': 40},\n",
       "                         'colorscale': [[0.0, 'rgb(247,251,255)'], [0.125,\n",
       "                                        'rgb(222,235,247)'], [0.25,\n",
       "                                        'rgb(198,219,239)'], [0.375,\n",
       "                                        'rgb(158,202,225)'], [0.5,\n",
       "                                        'rgb(107,174,214)'], [0.625,\n",
       "                                        'rgb(66,146,198)'], [0.75,\n",
       "                                        'rgb(33,113,181)'], [0.875,\n",
       "                                        'rgb(8,81,156)'], [1.0, 'rgb(8,48,107)']],\n",
       "                         'line': {'color': 'Grey', 'width': 0.5},\n",
       "                         'showscale': False},\n",
       "              'mode': 'markers',\n",
       "              'name': 'Feasible Trial',\n",
       "              'showlegend': False,\n",
       "              'type': 'scatter',\n",
       "              'x': [0.7746800468691908, 0.7350641807360068, 0.9463351107543431,\n",
       "                    0.9718609857266597, 0.8470079847763676, 0.9005006156676503,\n",
       "                    0.7007733270689646, 0.7050282569866582, 0.9759472683752777,\n",
       "                    0.759713352573459, 0.8330673193431718, 0.8114586481547498,\n",
       "                    0.8335484146320662, 0.8099811515213953, 0.9003899997689329,\n",
       "                    0.7966585967588291, 0.8866019782683039, 0.8834462193481605,\n",
       "                    0.8788519023758957, 0.92501257439117, 0.8653944408391973,\n",
       "                    0.813566847262665, 0.8438735857775769, 0.8268360496780185,\n",
       "                    0.7866208793491016, 0.9230442330552705, 0.9329828336769216,\n",
       "                    0.996903858667863, 0.9029088153982888, 0.8695928824981252,\n",
       "                    0.8663629140489884, 0.8701338592989977, 0.8675023577207528,\n",
       "                    0.8605568344720829, 0.8624216246610887, 0.8526679875213047,\n",
       "                    0.9105382597175595, 0.9073705864251539, 0.9444346658255063,\n",
       "                    0.9606980527339897, 0.9102909526356394, 0.884194310115905,\n",
       "                    0.8482044015723594, 0.8694726125095829, 0.8986582213479409,\n",
       "                    0.9169693231267456, 0.8948017984170532, 0.7619174769256916,\n",
       "                    0.939511944199696, 0.9601790649835447, 0.8897766439102534,\n",
       "                    0.8850234980457297, 0.8934817401486614, 0.8780557036271588,\n",
       "                    0.9133996159201178, 0.836864936473694, 0.8896654178385113,\n",
       "                    0.8777152787368048, 0.9285018073254518, 0.853881205445016,\n",
       "                    0.826684104186634, 0.878387026421243, 0.8995097079474814,\n",
       "                    0.8772691518936162, 0.9196810546722414, 0.9546649463669086,\n",
       "                    0.7248844782159973, 0.921319042516469, 0.9059178379606614,\n",
       "                    0.9333677057907926, 0.8989109886161597, 0.8881460784734516,\n",
       "                    0.8579362205843034, 0.8555735582337082, 0.8558695790421981,\n",
       "                    0.8602008477118881, 0.8437252255677583, 0.8390102858052222,\n",
       "                    0.8009939010346956, 0.8403319519902835, 0.8206204587706184,\n",
       "                    0.8212103418060431, 0.8408910273728978, 0.8399913997503511,\n",
       "                    0.8153606893911696, 0.805048995461355, 0.7894836520493559,\n",
       "                    0.8308753165144915, 0.8437859902799513, 0.8540022235066458,\n",
       "                    0.8226545444342652, 0.8383872557011773, 0.8482201961154338,\n",
       "                    0.8464332005915589, 0.8315396933116164, 0.8569576813653725,\n",
       "                    0.8176195313941793, 0.8500223478827857, 0.9814911865491801,\n",
       "                    0.8083815331838533],\n",
       "              'xaxis': 'x3',\n",
       "              'y': [0.5645644595240594, 0.6739305327223757, 0.6740587871792181,\n",
       "                    0.5645644595240594, 0.6752247367868761, 0.5645644595240594,\n",
       "                    0.6765306003474529, 0.6740704466752947, 0.5645644595240594,\n",
       "                    0.5645644595240594, 0.6770202991826694, 0.6774866790257326,\n",
       "                    0.6781279513099444, 0.5645644595240594, 0.6653724626021663,\n",
       "                    0.5645644595240594, 0.680191682115499, 0.5666748283139202,\n",
       "                    0.5645644595240594, 0.676390686394534, 0.5645644595240594,\n",
       "                    0.67872258560985, 0.6771485536395117, 0.6768687257336737,\n",
       "                    0.5645644595240594, 0.678582671656931, 0.5645644595240594,\n",
       "                    0.5645644595240594, 0.5645644595240594, 0.6816141406368417,\n",
       "                    0.6810661443212425, 0.6802849580841116, 0.6812760152506209,\n",
       "                    0.5677824804411953, 0.6807746569193279, 0.5645644595240594,\n",
       "                    0.6814159292035398, 0.5645644595240594, 0.5841407534366365,\n",
       "                    0.6739421922184523, 0.5645644595240594, 0.6796320263038231,\n",
       "                    0.679911854209661, 0.6808212949036343, 0.6821271584642111,\n",
       "                    0.6739305327223757, 0.5645644595240594, 0.6594610980913405,\n",
       "                    0.5645644595240594, 0.6740937656674478, 0.6816840976133012,\n",
       "                    0.681217717770238, 0.681077803817319, 0.6811827392820082,\n",
       "                    0.6748516329124256, 0.5654272622337263, 0.6809378898644001,\n",
       "                    0.6780696538295615, 0.6749099303928084, 0.6650226777198689,\n",
       "                    0.6811011228094722, 0.6815791621486119, 0.6737789592733802,\n",
       "                    0.6800984061468863, 0.6825002623386617, 0.5948674898270897,\n",
       "                    0.6811011228094722, 0.6761225179847727, 0.6780696538295615,\n",
       "                    0.6722282462951952, 0.5645644595240594, 0.6807629974232514,\n",
       "                    0.682243753424977, 0.6825235813308149, 0.6821621369524409,\n",
       "                    0.6781745892942507, 0.6825352408268914, 0.6822204344328238,\n",
       "                    0.6022829293317943, 0.6824419648582788, 0.682465283850432,\n",
       "                    0.6794571338626745, 0.6821737964485175, 0.6807513379271748,\n",
       "                    0.6810661443212425, 0.5645644595240594, 0.6719950563736635,\n",
       "                    0.5645644595240594, 0.6810428253290893, 0.6807979759114811,\n",
       "                    0.6819755850152156, 0.6815325241643057, 0.6822320939289004,\n",
       "                    0.6740587871792181, 0.6797253022724358, 0.6762974104259214,\n",
       "                    0.6606970046754579, 0.5709888418622547, 0.6740238086909883,\n",
       "                    0.6810894633133956],\n",
       "              'yaxis': 'y3'},\n",
       "             {'marker': {'color': [0, 1, 2, 3, 4, 5, 6, 7, 8, 9, 10, 11, 12, 13,\n",
       "                                   14, 15, 16, 17, 18, 19, 20, 21, 22, 23, 24, 25,\n",
       "                                   26, 27, 28, 29, 30, 31, 32, 33, 34, 35, 36, 37,\n",
       "                                   38, 39, 40, 41, 42, 43, 44, 45, 46, 47, 48, 49,\n",
       "                                   50, 51, 52, 53, 54, 55, 56, 57, 58, 59, 60, 61,\n",
       "                                   62, 63, 64, 65, 66, 67, 68, 69, 70, 71, 72, 73,\n",
       "                                   74, 75, 76, 77, 78, 79, 80, 81, 82, 83, 84, 85,\n",
       "                                   86, 87, 88, 89, 90, 91, 92, 93, 94, 95, 96, 97,\n",
       "                                   98, 99],\n",
       "                         'colorbar': {'title': {'text': 'Trial'}, 'x': 1.0, 'xpad': 40},\n",
       "                         'colorscale': [[0.0, 'rgb(247,251,255)'], [0.125,\n",
       "                                        'rgb(222,235,247)'], [0.25,\n",
       "                                        'rgb(198,219,239)'], [0.375,\n",
       "                                        'rgb(158,202,225)'], [0.5,\n",
       "                                        'rgb(107,174,214)'], [0.625,\n",
       "                                        'rgb(66,146,198)'], [0.75,\n",
       "                                        'rgb(33,113,181)'], [0.875,\n",
       "                                        'rgb(8,81,156)'], [1.0, 'rgb(8,48,107)']],\n",
       "                         'line': {'color': 'Grey', 'width': 0.5},\n",
       "                         'showscale': False},\n",
       "              'mode': 'markers',\n",
       "              'name': 'Feasible Trial',\n",
       "              'showlegend': False,\n",
       "              'type': 'scatter',\n",
       "              'x': [0.00017663455485090256, 0.016589581779152967,\n",
       "                    0.0002946874806740835, 0.0002567073732869018,\n",
       "                    5.69088919570516e-05, 0.0002362299322576453,\n",
       "                    5.0794460776542196e-08, 0.00037260252254052743,\n",
       "                    4.255507311144443e-07, 0.004752276186938671,\n",
       "                    1.4667140312791672e-08, 3.527594772536513e-08,\n",
       "                    1.0306274533770173e-08, 1.4343766285051843e-06,\n",
       "                    0.7649838383745826, 5.169079274580253e-07,\n",
       "                    3.7464323183338406e-06, 1.1258281977022069e-05,\n",
       "                    4.166383117471618e-06, 1.5701776016079522e-07,\n",
       "                    1.8432720377813048e-05, 1.12657560669485e-08,\n",
       "                    1.1344858977560853e-08, 1.4563517814139267e-07,\n",
       "                    2.2794081126575973e-06, 1.517750384349298e-07,\n",
       "                    1.42729017323352e-07, 9.263268221694215e-07,\n",
       "                    6.250465351099296e-08, 1.1105270868974914e-05,\n",
       "                    5.4473676987508355e-05, 0.0019478545074704389,\n",
       "                    0.0047162249807889516, 0.002596216878458668,\n",
       "                    0.03896065174985104, 0.04426212529232652, 0.03751889830263587,\n",
       "                    0.5163482999764647, 4.865829129463835e-05,\n",
       "                    0.0008227197984629926, 0.1433954363804841,\n",
       "                    0.012500808467537464, 0.021550153886507207,\n",
       "                    0.09953882983496692, 0.00015132666528114774,\n",
       "                    7.005819644550437e-05, 0.00017761771096788074,\n",
       "                    0.0006530198121338279, 0.007332562214217916,\n",
       "                    3.497550268088866e-05, 8.237026370690902e-06,\n",
       "                    8.890290917371105e-06, 9.293036301770825e-06,\n",
       "                    1.877093082806698e-05, 5.510296007483065e-06,\n",
       "                    0.00012648319711205806, 2.3609753182322802e-05,\n",
       "                    0.00040613726364559254, 9.484636465674676e-06,\n",
       "                    2.17078253200275e-06, 5.794979081460496e-07,\n",
       "                    1.361968933771414e-05, 4.494428845740974e-06,\n",
       "                    0.00010713092694613351, 1.303404994206173e-05,\n",
       "                    1.5262916269751e-06, 0.003068517241234773,\n",
       "                    2.2744195890646624e-05, 0.00025640124937966537,\n",
       "                    0.14820115241538812, 0.0013436147955808195,\n",
       "                    7.275386330952612e-06, 1.4367221635281357e-05,\n",
       "                    2.5517568742238127e-06, 2.944244677823386e-06,\n",
       "                    2.790038445988905e-06, 1.0097915738299128e-06,\n",
       "                    4.754139658875314e-07, 3.557182572797994e-07,\n",
       "                    8.311639530801074e-07, 8.641907202976593e-07,\n",
       "                    8.590195589853365e-07, 3.1140572469698774e-07,\n",
       "                    3.4198188785576936e-07, 8.964030444577472e-08,\n",
       "                    3.1982215939647696e-08, 1.1191299701091208e-06,\n",
       "                    2.7746903141564313e-07, 1.9036373572639782e-06,\n",
       "                    2.2010812038150834e-07, 8.352435334088649e-07,\n",
       "                    3.1395154002698703e-06, 6.003263744835176e-07,\n",
       "                    5.684283143432923e-07, 1.3124964298761541e-06,\n",
       "                    3.5292089939620684e-06, 2.033966164454961e-07,\n",
       "                    6.185361177866023e-07, 9.366776963594423e-08,\n",
       "                    5.681454963035444e-06],\n",
       "              'xaxis': 'x4',\n",
       "              'y': [0.5645644595240594, 0.6739305327223757, 0.6740587871792181,\n",
       "                    0.5645644595240594, 0.6752247367868761, 0.5645644595240594,\n",
       "                    0.6765306003474529, 0.6740704466752947, 0.5645644595240594,\n",
       "                    0.5645644595240594, 0.6770202991826694, 0.6774866790257326,\n",
       "                    0.6781279513099444, 0.5645644595240594, 0.6653724626021663,\n",
       "                    0.5645644595240594, 0.680191682115499, 0.5666748283139202,\n",
       "                    0.5645644595240594, 0.676390686394534, 0.5645644595240594,\n",
       "                    0.67872258560985, 0.6771485536395117, 0.6768687257336737,\n",
       "                    0.5645644595240594, 0.678582671656931, 0.5645644595240594,\n",
       "                    0.5645644595240594, 0.5645644595240594, 0.6816141406368417,\n",
       "                    0.6810661443212425, 0.6802849580841116, 0.6812760152506209,\n",
       "                    0.5677824804411953, 0.6807746569193279, 0.5645644595240594,\n",
       "                    0.6814159292035398, 0.5645644595240594, 0.5841407534366365,\n",
       "                    0.6739421922184523, 0.5645644595240594, 0.6796320263038231,\n",
       "                    0.679911854209661, 0.6808212949036343, 0.6821271584642111,\n",
       "                    0.6739305327223757, 0.5645644595240594, 0.6594610980913405,\n",
       "                    0.5645644595240594, 0.6740937656674478, 0.6816840976133012,\n",
       "                    0.681217717770238, 0.681077803817319, 0.6811827392820082,\n",
       "                    0.6748516329124256, 0.5654272622337263, 0.6809378898644001,\n",
       "                    0.6780696538295615, 0.6749099303928084, 0.6650226777198689,\n",
       "                    0.6811011228094722, 0.6815791621486119, 0.6737789592733802,\n",
       "                    0.6800984061468863, 0.6825002623386617, 0.5948674898270897,\n",
       "                    0.6811011228094722, 0.6761225179847727, 0.6780696538295615,\n",
       "                    0.6722282462951952, 0.5645644595240594, 0.6807629974232514,\n",
       "                    0.682243753424977, 0.6825235813308149, 0.6821621369524409,\n",
       "                    0.6781745892942507, 0.6825352408268914, 0.6822204344328238,\n",
       "                    0.6022829293317943, 0.6824419648582788, 0.682465283850432,\n",
       "                    0.6794571338626745, 0.6821737964485175, 0.6807513379271748,\n",
       "                    0.6810661443212425, 0.5645644595240594, 0.6719950563736635,\n",
       "                    0.5645644595240594, 0.6810428253290893, 0.6807979759114811,\n",
       "                    0.6819755850152156, 0.6815325241643057, 0.6822320939289004,\n",
       "                    0.6740587871792181, 0.6797253022724358, 0.6762974104259214,\n",
       "                    0.6606970046754579, 0.5709888418622547, 0.6740238086909883,\n",
       "                    0.6810894633133956],\n",
       "              'yaxis': 'y4'},\n",
       "             {'marker': {'color': [0, 1, 2, 3, 4, 5, 6, 7, 8, 9, 10, 11, 12, 13,\n",
       "                                   14, 15, 16, 17, 18, 19, 20, 21, 22, 23, 24, 25,\n",
       "                                   26, 27, 28, 29, 30, 31, 32, 33, 34, 35, 36, 37,\n",
       "                                   38, 39, 40, 41, 42, 43, 44, 45, 46, 47, 48, 49,\n",
       "                                   50, 51, 52, 53, 54, 55, 56, 57, 58, 59, 60, 61,\n",
       "                                   62, 63, 64, 65, 66, 67, 68, 69, 70, 71, 72, 73,\n",
       "                                   74, 75, 76, 77, 78, 79, 80, 81, 82, 83, 84, 85,\n",
       "                                   86, 87, 88, 89, 90, 91, 92, 93, 94, 95, 96, 97,\n",
       "                                   98, 99],\n",
       "                         'colorbar': {'title': {'text': 'Trial'}, 'x': 1.0, 'xpad': 40},\n",
       "                         'colorscale': [[0.0, 'rgb(247,251,255)'], [0.125,\n",
       "                                        'rgb(222,235,247)'], [0.25,\n",
       "                                        'rgb(198,219,239)'], [0.375,\n",
       "                                        'rgb(158,202,225)'], [0.5,\n",
       "                                        'rgb(107,174,214)'], [0.625,\n",
       "                                        'rgb(66,146,198)'], [0.75,\n",
       "                                        'rgb(33,113,181)'], [0.875,\n",
       "                                        'rgb(8,81,156)'], [1.0, 'rgb(8,48,107)']],\n",
       "                         'line': {'color': 'Grey', 'width': 0.5},\n",
       "                         'showscale': False},\n",
       "              'mode': 'markers',\n",
       "              'name': 'Feasible Trial',\n",
       "              'showlegend': False,\n",
       "              'type': 'scatter',\n",
       "              'x': [0.6729488573361504, 0.8053680207424867, 0.7532558342755147,\n",
       "                    0.9263709895433914, 0.6434090617258775, 0.49406716314459004,\n",
       "                    0.7919017150754073, 0.28901690691590265, 0.205866822439598,\n",
       "                    0.3803874724935423, 0.9938043903786268, 0.9654627322524638,\n",
       "                    0.9773070108561712, 0.9001108320339827, 0.9815070073786271,\n",
       "                    0.5238431663466159, 0.8679627075310142, 0.8385490400235437,\n",
       "                    0.7201733041705977, 0.8701328224152292, 0.5456522650632121,\n",
       "                    0.9260053041552174, 0.8882559705080622, 0.9218898689085158,\n",
       "                    0.851152212574513, 0.7286805409215839, 0.7074243736106912,\n",
       "                    0.6010472277965057, 0.7580975399165784, 0.6550895195011325,\n",
       "                    0.6544476058646931, 0.4465142244949752, 0.4798303545569113,\n",
       "                    0.4301238659507254, 0.4326558512830296, 0.6533181693821106,\n",
       "                    0.5935315323557822, 0.5971829682080594, 0.599095080209126,\n",
       "                    0.5569451000799532, 0.4911312991544456, 0.3560966747371159,\n",
       "                    0.6719833843461236, 0.45272341187165877, 0.6238928821113294,\n",
       "                    0.631893909364537, 0.7817553564427457, 0.6983956929665117,\n",
       "                    0.5754497610304697, 0.5138208379399198, 0.6365547264277267,\n",
       "                    0.6564820667745506, 0.624009236080427, 0.6742097527562649,\n",
       "                    0.48183668567229754, 0.5500414768641113, 0.38845876021291514,\n",
       "                    0.7542750349782319, 0.6195870608058645, 0.5786515319904848,\n",
       "                    0.6803475449511388, 0.6925911330915436, 0.730177120478782,\n",
       "                    0.5256979648614366, 0.8191347191918659, 0.7874735960339385,\n",
       "                    0.8169249637752003, 0.2471310019087788, 0.6958914093415213,\n",
       "                    0.8206494495881864, 0.5746779479385455, 0.6497616580727875,\n",
       "                    0.6216162943315238, 0.6190809495377076, 0.6085776907840392,\n",
       "                    0.6171371300717958, 0.7152405139734603, 0.7338655451600452,\n",
       "                    0.7209026922923928, 0.7400178822717242, 0.7627555337587454,\n",
       "                    0.7697581028711095, 0.7486663869115524, 0.7378274062296274,\n",
       "                    0.7472024551916591, 0.8429989770040285, 0.8053881759143525,\n",
       "                    0.7709317883128681, 0.7965961749973556, 0.8633495679554635,\n",
       "                    0.8267721702134401, 0.7131045379625948, 0.7659173058922771,\n",
       "                    0.7733288489187494, 0.7482078666116339, 0.7142729216339615,\n",
       "                    0.88775487498666, 0.9533423824021618, 0.8048777023432143,\n",
       "                    0.6723531466886914],\n",
       "              'xaxis': 'x5',\n",
       "              'y': [0.5645644595240594, 0.6739305327223757, 0.6740587871792181,\n",
       "                    0.5645644595240594, 0.6752247367868761, 0.5645644595240594,\n",
       "                    0.6765306003474529, 0.6740704466752947, 0.5645644595240594,\n",
       "                    0.5645644595240594, 0.6770202991826694, 0.6774866790257326,\n",
       "                    0.6781279513099444, 0.5645644595240594, 0.6653724626021663,\n",
       "                    0.5645644595240594, 0.680191682115499, 0.5666748283139202,\n",
       "                    0.5645644595240594, 0.676390686394534, 0.5645644595240594,\n",
       "                    0.67872258560985, 0.6771485536395117, 0.6768687257336737,\n",
       "                    0.5645644595240594, 0.678582671656931, 0.5645644595240594,\n",
       "                    0.5645644595240594, 0.5645644595240594, 0.6816141406368417,\n",
       "                    0.6810661443212425, 0.6802849580841116, 0.6812760152506209,\n",
       "                    0.5677824804411953, 0.6807746569193279, 0.5645644595240594,\n",
       "                    0.6814159292035398, 0.5645644595240594, 0.5841407534366365,\n",
       "                    0.6739421922184523, 0.5645644595240594, 0.6796320263038231,\n",
       "                    0.679911854209661, 0.6808212949036343, 0.6821271584642111,\n",
       "                    0.6739305327223757, 0.5645644595240594, 0.6594610980913405,\n",
       "                    0.5645644595240594, 0.6740937656674478, 0.6816840976133012,\n",
       "                    0.681217717770238, 0.681077803817319, 0.6811827392820082,\n",
       "                    0.6748516329124256, 0.5654272622337263, 0.6809378898644001,\n",
       "                    0.6780696538295615, 0.6749099303928084, 0.6650226777198689,\n",
       "                    0.6811011228094722, 0.6815791621486119, 0.6737789592733802,\n",
       "                    0.6800984061468863, 0.6825002623386617, 0.5948674898270897,\n",
       "                    0.6811011228094722, 0.6761225179847727, 0.6780696538295615,\n",
       "                    0.6722282462951952, 0.5645644595240594, 0.6807629974232514,\n",
       "                    0.682243753424977, 0.6825235813308149, 0.6821621369524409,\n",
       "                    0.6781745892942507, 0.6825352408268914, 0.6822204344328238,\n",
       "                    0.6022829293317943, 0.6824419648582788, 0.682465283850432,\n",
       "                    0.6794571338626745, 0.6821737964485175, 0.6807513379271748,\n",
       "                    0.6810661443212425, 0.5645644595240594, 0.6719950563736635,\n",
       "                    0.5645644595240594, 0.6810428253290893, 0.6807979759114811,\n",
       "                    0.6819755850152156, 0.6815325241643057, 0.6822320939289004,\n",
       "                    0.6740587871792181, 0.6797253022724358, 0.6762974104259214,\n",
       "                    0.6606970046754579, 0.5709888418622547, 0.6740238086909883,\n",
       "                    0.6810894633133956],\n",
       "              'yaxis': 'y5'}],\n",
       "    'layout': {'template': '...',\n",
       "               'title': {'text': 'Slice Plot'},\n",
       "               'width': 1500,\n",
       "               'xaxis': {'anchor': 'y', 'domain': [0.0, 0.16799999999999998], 'title': {'text': 'alpha'}, 'type': 'log'},\n",
       "               'xaxis2': {'anchor': 'y2',\n",
       "                          'categoryarray': [gbtree, gblinear, dart],\n",
       "                          'categoryorder': 'array',\n",
       "                          'domain': [0.208, 0.376],\n",
       "                          'title': {'text': 'booster'},\n",
       "                          'type': 'category'},\n",
       "               'xaxis3': {'anchor': 'y3', 'domain': [0.416, 0.584], 'title': {'text': 'colsample_bytree'}},\n",
       "               'xaxis4': {'anchor': 'y4', 'domain': [0.624, 0.792], 'title': {'text': 'lambda'}, 'type': 'log'},\n",
       "               'xaxis5': {'anchor': 'y5', 'domain': [0.832, 1.0], 'title': {'text': 'subsample'}},\n",
       "               'yaxis': {'anchor': 'x', 'domain': [0.0, 1.0], 'title': {'text': 'Objective Value'}},\n",
       "               'yaxis2': {'anchor': 'x2', 'domain': [0.0, 1.0], 'matches': 'y', 'showticklabels': False},\n",
       "               'yaxis3': {'anchor': 'x3', 'domain': [0.0, 1.0], 'matches': 'y', 'showticklabels': False},\n",
       "               'yaxis4': {'anchor': 'x4', 'domain': [0.0, 1.0], 'matches': 'y', 'showticklabels': False},\n",
       "               'yaxis5': {'anchor': 'x5', 'domain': [0.0, 1.0], 'matches': 'y', 'showticklabels': False}}\n",
       "})"
      ]
     },
     "execution_count": 19,
     "metadata": {},
     "output_type": "execute_result"
    }
   ],
   "source": [
    "optuna.visualization.plot_slice(study, params = ['subsample',\n",
    "'lambda',\n",
    "'colsample_bytree',\n",
    "'alpha',\n",
    "'booster'])"
   ]
  },
  {
   "cell_type": "code",
   "execution_count": 39,
   "metadata": {},
   "outputs": [],
   "source": [
    "params = {\n",
    "    \"booster\": \"dart\",\n",
    "    \"lambda\": 1.0097915738299128e-06,\n",
    "    \"alpha\": 2.3445234888982956e-08,\n",
    "    \"subsample\": 0.7152405139734603,\n",
    "    \"colsample_bytree\": 0.8437252255677583,\n",
    "    \"max_depth\": 9,\n",
    "    \"min_child_weight\": 9,\n",
    "    \"eta\": 0.2357930936747691,\n",
    "    \"gamma\": 0.13557767476363425,\n",
    "    \"grow_policy\": \"lossguide\",\n",
    "    \"sample_type\": \"uniform\",\n",
    "    \"normalize_type\": \"tree\",\n",
    "    \"rate_drop\": 1.2065021262266629e-08,\n",
    "    \"skip_drop\": 3.1483383573651435e-05\n",
    "}\n",
    "model_xgb = xgb.train(params, train)"
   ]
  },
  {
   "cell_type": "code",
   "execution_count": 40,
   "metadata": {},
   "outputs": [],
   "source": [
    "# save model\n",
    "model_xgb.save_model(\"../reports/trained_xgb.save\")"
   ]
  },
  {
   "cell_type": "markdown",
   "metadata": {},
   "source": [
    "## Random Forest"
   ]
  },
  {
   "cell_type": "code",
   "execution_count": 20,
   "metadata": {},
   "outputs": [
    {
     "name": "stderr",
     "output_type": "stream",
     "text": [
      "[I 2024-09-29 09:35:16,649] A new study created in memory with name: no-name-6f775522-6b0e-46b2-89e0-2fd03ab494de\n",
      "[I 2024-09-29 09:36:03,131] Trial 0 finished with value: 0.6813926102113866 and parameters: {'n_estimators': 149, 'max_depth': 23, 'min_samples_split': 31, 'min_samples_leaf': 18, 'max_features': 'sqrt', 'criterion': 'gini'}. Best is trial 0 with value: 0.6813926102113866.\n",
      "[I 2024-09-29 09:36:27,094] Trial 1 finished with value: 0.6769969801905161 and parameters: {'n_estimators': 177, 'max_depth': 5, 'min_samples_split': 9, 'min_samples_leaf': 16, 'max_features': 'log2', 'criterion': 'gini'}. Best is trial 0 with value: 0.6813926102113866.\n",
      "[I 2024-09-29 09:38:47,590] Trial 2 finished with value: 0.681217717770238 and parameters: {'n_estimators': 397, 'max_depth': 32, 'min_samples_split': 30, 'min_samples_leaf': 16, 'max_features': 'sqrt', 'criterion': 'log_loss'}. Best is trial 0 with value: 0.6813926102113866.\n",
      "[I 2024-09-29 09:40:31,878] Trial 3 finished with value: 0.682546900322968 and parameters: {'n_estimators': 361, 'max_depth': 16, 'min_samples_split': 30, 'min_samples_leaf': 23, 'max_features': 'sqrt', 'criterion': 'entropy'}. Best is trial 3 with value: 0.682546900322968.\n",
      "[I 2024-09-29 09:42:03,334] Trial 4 finished with value: 0.6811594202898551 and parameters: {'n_estimators': 276, 'max_depth': 21, 'min_samples_split': 4, 'min_samples_leaf': 11, 'max_features': 'sqrt', 'criterion': 'entropy'}. Best is trial 3 with value: 0.682546900322968.\n",
      "[I 2024-09-29 09:42:17,243] Trial 5 finished with value: 0.6711905511443795 and parameters: {'n_estimators': 130, 'max_depth': 3, 'min_samples_split': 16, 'min_samples_leaf': 19, 'max_features': 'sqrt', 'criterion': 'entropy'}. Best is trial 3 with value: 0.682546900322968.\n",
      "[I 2024-09-29 09:44:34,107] Trial 6 finished with value: 0.6825585598190447 and parameters: {'n_estimators': 436, 'max_depth': 15, 'min_samples_split': 22, 'min_samples_leaf': 3, 'max_features': 'sqrt', 'criterion': 'log_loss'}. Best is trial 6 with value: 0.6825585598190447.\n",
      "[I 2024-09-29 09:46:13,989] Trial 7 finished with value: 0.682465283850432 and parameters: {'n_estimators': 400, 'max_depth': 11, 'min_samples_split': 22, 'min_samples_leaf': 19, 'max_features': 'sqrt', 'criterion': 'gini'}. Best is trial 6 with value: 0.6825585598190447.\n",
      "[I 2024-09-29 09:46:37,734] Trial 8 finished with value: 0.6818939685426796 and parameters: {'n_estimators': 102, 'max_depth': 10, 'min_samples_split': 14, 'min_samples_leaf': 18, 'max_features': 'log2', 'criterion': 'log_loss'}. Best is trial 6 with value: 0.6825585598190447.\n",
      "[I 2024-09-29 09:47:18,660] Trial 9 finished with value: 0.680634742966409 and parameters: {'n_estimators': 123, 'max_depth': 17, 'min_samples_split': 7, 'min_samples_leaf': 2, 'max_features': 'sqrt', 'criterion': 'log_loss'}. Best is trial 6 with value: 0.6825585598190447.\n",
      "[I 2024-09-29 09:48:49,917] Trial 10 finished with value: 0.6824769433465085 and parameters: {'n_estimators': 286, 'max_depth': 29, 'min_samples_split': 23, 'min_samples_leaf': 30, 'max_features': 'log2', 'criterion': 'log_loss'}. Best is trial 6 with value: 0.6825585598190447.\n",
      "[I 2024-09-29 09:51:09,421] Trial 11 finished with value: 0.6824536243543554 and parameters: {'n_estimators': 486, 'max_depth': 15, 'min_samples_split': 25, 'min_samples_leaf': 28, 'max_features': 'sqrt', 'criterion': 'entropy'}. Best is trial 6 with value: 0.6825585598190447.\n",
      "[I 2024-09-29 09:53:25,636] Trial 12 finished with value: 0.6781745892942507 and parameters: {'n_estimators': 386, 'max_depth': 22, 'min_samples_split': 27, 'min_samples_leaf': 1, 'max_features': 'sqrt', 'criterion': 'entropy'}. Best is trial 6 with value: 0.6825585598190447.\n",
      "[I 2024-09-29 09:55:33,299] Trial 13 finished with value: 0.6824186458661257 and parameters: {'n_estimators': 470, 'max_depth': 12, 'min_samples_split': 20, 'min_samples_leaf': 24, 'max_features': 'sqrt', 'criterion': 'log_loss'}. Best is trial 6 with value: 0.6825585598190447.\n",
      "[I 2024-09-29 09:56:38,338] Trial 14 finished with value: 0.6789557755313815 and parameters: {'n_estimators': 348, 'max_depth': 7, 'min_samples_split': 32, 'min_samples_leaf': 7, 'max_features': 'log2', 'criterion': 'entropy'}. Best is trial 6 with value: 0.6825585598190447.\n",
      "[I 2024-09-29 09:57:46,243] Trial 15 finished with value: 0.6821971154406706 and parameters: {'n_estimators': 225, 'max_depth': 18, 'min_samples_split': 27, 'min_samples_leaf': 24, 'max_features': 'sqrt', 'criterion': 'log_loss'}. Best is trial 6 with value: 0.6825585598190447.\n",
      "[I 2024-09-29 10:00:34,192] Trial 16 finished with value: 0.6801567036272692 and parameters: {'n_estimators': 452, 'max_depth': 25, 'min_samples_split': 13, 'min_samples_leaf': 11, 'max_features': 'sqrt', 'criterion': 'entropy'}. Best is trial 6 with value: 0.6825585598190447.\n",
      "[I 2024-09-29 10:02:15,172] Trial 17 finished with value: 0.683048258654261 and parameters: {'n_estimators': 330, 'max_depth': 14, 'min_samples_split': 19, 'min_samples_leaf': 6, 'max_features': 'sqrt', 'criterion': 'entropy'}. Best is trial 17 with value: 0.683048258654261.\n",
      "[I 2024-09-29 10:03:44,360] Trial 18 finished with value: 0.6825119218347383 and parameters: {'n_estimators': 326, 'max_depth': 13, 'min_samples_split': 19, 'min_samples_leaf': 5, 'max_features': 'log2', 'criterion': 'log_loss'}. Best is trial 17 with value: 0.683048258654261.\n",
      "[I 2024-09-29 10:05:08,910] Trial 19 finished with value: 0.6796436857998998 and parameters: {'n_estimators': 440, 'max_depth': 7, 'min_samples_split': 11, 'min_samples_leaf': 9, 'max_features': 'sqrt', 'criterion': 'gini'}. Best is trial 17 with value: 0.683048258654261.\n",
      "[I 2024-09-29 10:06:28,937] Trial 20 finished with value: 0.6791539869646834 and parameters: {'n_estimators': 227, 'max_depth': 20, 'min_samples_split': 17, 'min_samples_leaf': 4, 'max_features': 'sqrt', 'criterion': 'log_loss'}. Best is trial 17 with value: 0.683048258654261.\n",
      "[I 2024-09-29 10:08:10,489] Trial 21 finished with value: 0.682406986370049 and parameters: {'n_estimators': 352, 'max_depth': 15, 'min_samples_split': 26, 'min_samples_leaf': 23, 'max_features': 'sqrt', 'criterion': 'entropy'}. Best is trial 17 with value: 0.683048258654261.\n",
      "[I 2024-09-29 10:09:57,037] Trial 22 finished with value: 0.682465283850432 and parameters: {'n_estimators': 367, 'max_depth': 15, 'min_samples_split': 22, 'min_samples_leaf': 12, 'max_features': 'sqrt', 'criterion': 'entropy'}. Best is trial 17 with value: 0.683048258654261.\n",
      "[I 2024-09-29 10:11:22,902] Trial 23 finished with value: 0.6810078468408596 and parameters: {'n_estimators': 418, 'max_depth': 9, 'min_samples_split': 29, 'min_samples_leaf': 6, 'max_features': 'sqrt', 'criterion': 'entropy'}. Best is trial 17 with value: 0.683048258654261.\n",
      "[I 2024-09-29 10:12:57,892] Trial 24 finished with value: 0.6818473305583733 and parameters: {'n_estimators': 316, 'max_depth': 18, 'min_samples_split': 19, 'min_samples_leaf': 14, 'max_features': 'sqrt', 'criterion': 'entropy'}. Best is trial 17 with value: 0.683048258654261.\n",
      "[I 2024-09-29 10:15:10,242] Trial 25 finished with value: 0.6825702193151212 and parameters: {'n_estimators': 499, 'max_depth': 14, 'min_samples_split': 25, 'min_samples_leaf': 21, 'max_features': 'sqrt', 'criterion': 'entropy'}. Best is trial 17 with value: 0.683048258654261.\n",
      "[I 2024-09-29 10:17:10,291] Trial 26 finished with value: 0.6825119218347383 and parameters: {'n_estimators': 494, 'max_depth': 13, 'min_samples_split': 24, 'min_samples_leaf': 8, 'max_features': 'log2', 'criterion': 'entropy'}. Best is trial 17 with value: 0.683048258654261.\n",
      "[I 2024-09-29 10:20:27,646] Trial 27 finished with value: 0.6731376869891683 and parameters: {'n_estimators': 430, 'max_depth': 26, 'min_samples_split': 17, 'min_samples_leaf': 2, 'max_features': 'sqrt', 'criterion': 'entropy'}. Best is trial 17 with value: 0.683048258654261.\n",
      "[I 2024-09-29 10:23:01,875] Trial 28 finished with value: 0.6820338824955985 and parameters: {'n_estimators': 500, 'max_depth': 19, 'min_samples_split': 21, 'min_samples_leaf': 21, 'max_features': 'sqrt', 'criterion': 'gini'}. Best is trial 17 with value: 0.683048258654261.\n",
      "[I 2024-09-29 10:25:05,217] Trial 29 finished with value: 0.6824419648582788 and parameters: {'n_estimators': 466, 'max_depth': 13, 'min_samples_split': 28, 'min_samples_leaf': 4, 'max_features': 'sqrt', 'criterion': 'log_loss'}. Best is trial 17 with value: 0.683048258654261.\n",
      "[I 2024-09-29 10:26:00,459] Trial 30 finished with value: 0.681299334242774 and parameters: {'n_estimators': 259, 'max_depth': 9, 'min_samples_split': 24, 'min_samples_leaf': 27, 'max_features': 'sqrt', 'criterion': 'gini'}. Best is trial 17 with value: 0.683048258654261.\n",
      "[I 2024-09-29 10:28:13,335] Trial 31 finished with value: 0.682406986370049 and parameters: {'n_estimators': 420, 'max_depth': 16, 'min_samples_split': 32, 'min_samples_leaf': 21, 'max_features': 'sqrt', 'criterion': 'entropy'}. Best is trial 17 with value: 0.683048258654261.\n",
      "[I 2024-09-29 10:29:44,320] Trial 32 finished with value: 0.6826051978033509 and parameters: {'n_estimators': 374, 'max_depth': 14, 'min_samples_split': 30, 'min_samples_leaf': 26, 'max_features': 'sqrt', 'criterion': 'entropy'}. Best is trial 17 with value: 0.683048258654261.\n",
      "[I 2024-09-29 10:31:22,711] Trial 33 finished with value: 0.6823720078818194 and parameters: {'n_estimators': 382, 'max_depth': 14, 'min_samples_split': 29, 'min_samples_leaf': 26, 'max_features': 'sqrt', 'criterion': 'entropy'}. Best is trial 17 with value: 0.683048258654261.\n",
      "[I 2024-09-29 10:32:47,861] Trial 34 finished with value: 0.6824186458661257 and parameters: {'n_estimators': 320, 'max_depth': 11, 'min_samples_split': 25, 'min_samples_leaf': 32, 'max_features': 'sqrt', 'criterion': 'entropy'}. Best is trial 17 with value: 0.683048258654261.\n",
      "[I 2024-09-29 10:33:58,209] Trial 35 finished with value: 0.6792356034372194 and parameters: {'n_estimators': 404, 'max_depth': 7, 'min_samples_split': 20, 'min_samples_leaf': 15, 'max_features': 'sqrt', 'criterion': 'entropy'}. Best is trial 17 with value: 0.683048258654261.\n",
      "[I 2024-09-29 10:36:27,710] Trial 36 finished with value: 0.6818589900544498 and parameters: {'n_estimators': 454, 'max_depth': 24, 'min_samples_split': 30, 'min_samples_leaf': 21, 'max_features': 'log2', 'criterion': 'entropy'}. Best is trial 17 with value: 0.683048258654261.\n",
      "[I 2024-09-29 10:37:07,352] Trial 37 finished with value: 0.6753063532594121 and parameters: {'n_estimators': 340, 'max_depth': 4, 'min_samples_split': 15, 'min_samples_leaf': 29, 'max_features': 'sqrt', 'criterion': 'gini'}. Best is trial 17 with value: 0.683048258654261.\n",
      "[I 2024-09-29 10:39:28,850] Trial 38 finished with value: 0.6817890330779903 and parameters: {'n_estimators': 369, 'max_depth': 17, 'min_samples_split': 18, 'min_samples_leaf': 17, 'max_features': 'sqrt', 'criterion': 'log_loss'}. Best is trial 17 with value: 0.683048258654261.\n",
      "[I 2024-09-29 10:41:40,377] Trial 39 finished with value: 0.6824769433465085 and parameters: {'n_estimators': 405, 'max_depth': 21, 'min_samples_split': 22, 'min_samples_leaf': 26, 'max_features': 'sqrt', 'criterion': 'entropy'}. Best is trial 17 with value: 0.683048258654261.\n",
      "[I 2024-09-29 10:43:23,479] Trial 40 finished with value: 0.6819989040073688 and parameters: {'n_estimators': 476, 'max_depth': 10, 'min_samples_split': 26, 'min_samples_leaf': 13, 'max_features': 'log2', 'criterion': 'log_loss'}. Best is trial 17 with value: 0.683048258654261.\n",
      "[I 2024-09-29 10:45:09,476] Trial 41 finished with value: 0.6824769433465085 and parameters: {'n_estimators': 298, 'max_depth': 16, 'min_samples_split': 30, 'min_samples_leaf': 23, 'max_features': 'sqrt', 'criterion': 'entropy'}. Best is trial 17 with value: 0.683048258654261.\n",
      "[I 2024-09-29 10:46:49,254] Trial 42 finished with value: 0.6823603483857428 and parameters: {'n_estimators': 368, 'max_depth': 12, 'min_samples_split': 31, 'min_samples_leaf': 19, 'max_features': 'sqrt', 'criterion': 'entropy'}. Best is trial 17 with value: 0.683048258654261.\n",
      "[I 2024-09-29 10:48:14,492] Trial 43 finished with value: 0.6822204344328238 and parameters: {'n_estimators': 265, 'max_depth': 19, 'min_samples_split': 4, 'min_samples_leaf': 25, 'max_features': 'sqrt', 'criterion': 'entropy'}. Best is trial 17 with value: 0.683048258654261.\n",
      "[I 2024-09-29 10:50:08,815] Trial 44 finished with value: 0.6823486888896662 and parameters: {'n_estimators': 388, 'max_depth': 14, 'min_samples_split': 28, 'min_samples_leaf': 22, 'max_features': 'sqrt', 'criterion': 'entropy'}. Best is trial 17 with value: 0.683048258654261.\n",
      "[I 2024-09-29 10:52:21,858] Trial 45 finished with value: 0.6820805204799049 and parameters: {'n_estimators': 442, 'max_depth': 17, 'min_samples_split': 23, 'min_samples_leaf': 17, 'max_features': 'sqrt', 'criterion': 'entropy'}. Best is trial 17 with value: 0.683048258654261.\n",
      "[I 2024-09-29 10:53:29,819] Trial 46 finished with value: 0.6825818788111978 and parameters: {'n_estimators': 337, 'max_depth': 11, 'min_samples_split': 27, 'min_samples_leaf': 9, 'max_features': 'sqrt', 'criterion': 'log_loss'}. Best is trial 17 with value: 0.683048258654261.\n",
      "[I 2024-09-29 10:54:54,882] Trial 47 finished with value: 0.6827451117562698 and parameters: {'n_estimators': 341, 'max_depth': 11, 'min_samples_split': 25, 'min_samples_leaf': 9, 'max_features': 'sqrt', 'criterion': 'log_loss'}. Best is trial 17 with value: 0.683048258654261.\n",
      "[I 2024-09-29 10:55:39,505] Trial 48 finished with value: 0.6808329543997108 and parameters: {'n_estimators': 165, 'max_depth': 9, 'min_samples_split': 27, 'min_samples_leaf': 9, 'max_features': 'sqrt', 'criterion': 'log_loss'}. Best is trial 17 with value: 0.683048258654261.\n",
      "[I 2024-09-29 10:56:48,741] Trial 49 finished with value: 0.6822554129210535 and parameters: {'n_estimators': 296, 'max_depth': 11, 'min_samples_split': 25, 'min_samples_leaf': 10, 'max_features': 'sqrt', 'criterion': 'log_loss'}. Best is trial 17 with value: 0.683048258654261.\n",
      "[I 2024-09-29 10:57:19,233] Trial 50 finished with value: 0.6677276808096354 and parameters: {'n_estimators': 334, 'max_depth': 2, 'min_samples_split': 9, 'min_samples_leaf': 6, 'max_features': 'log2', 'criterion': 'log_loss'}. Best is trial 17 with value: 0.683048258654261.\n",
      "[I 2024-09-29 10:58:46,123] Trial 51 finished with value: 0.6824886028425852 and parameters: {'n_estimators': 352, 'max_depth': 12, 'min_samples_split': 23, 'min_samples_leaf': 3, 'max_features': 'sqrt', 'criterion': 'log_loss'}. Best is trial 17 with value: 0.683048258654261.\n",
      "[I 2024-09-29 11:00:09,286] Trial 52 finished with value: 0.6829666421817249 and parameters: {'n_estimators': 304, 'max_depth': 14, 'min_samples_split': 21, 'min_samples_leaf': 1, 'max_features': 'sqrt', 'criterion': 'log_loss'}. Best is trial 17 with value: 0.683048258654261.\n",
      "[I 2024-09-29 11:00:52,066] Trial 53 finished with value: 0.678221227278557 and parameters: {'n_estimators': 308, 'max_depth': 6, 'min_samples_split': 20, 'min_samples_leaf': 1, 'max_features': 'sqrt', 'criterion': 'log_loss'}. Best is trial 17 with value: 0.683048258654261.\n",
      "[I 2024-09-29 11:02:01,848] Trial 54 finished with value: 0.6828383877248825 and parameters: {'n_estimators': 279, 'max_depth': 14, 'min_samples_split': 26, 'min_samples_leaf': 7, 'max_features': 'sqrt', 'criterion': 'log_loss'}. Best is trial 17 with value: 0.683048258654261.\n",
      "[I 2024-09-29 11:03:29,519] Trial 55 finished with value: 0.6785943311530076 and parameters: {'n_estimators': 223, 'max_depth': 32, 'min_samples_split': 28, 'min_samples_leaf': 7, 'max_features': 'sqrt', 'criterion': 'log_loss'}. Best is trial 17 with value: 0.683048258654261.\n",
      "[I 2024-09-29 11:04:44,543] Trial 56 finished with value: 0.6819872445112922 and parameters: {'n_estimators': 280, 'max_depth': 10, 'min_samples_split': 26, 'min_samples_leaf': 11, 'max_features': 'sqrt', 'criterion': 'log_loss'}. Best is trial 17 with value: 0.683048258654261.\n",
      "[I 2024-09-29 11:05:28,071] Trial 57 finished with value: 0.6799235137057377 and parameters: {'n_estimators': 249, 'max_depth': 8, 'min_samples_split': 21, 'min_samples_leaf': 5, 'max_features': 'sqrt', 'criterion': 'log_loss'}. Best is trial 17 with value: 0.683048258654261.\n",
      "[I 2024-09-29 11:06:59,038] Trial 58 finished with value: 0.682686814275887 and parameters: {'n_estimators': 242, 'max_depth': 12, 'min_samples_split': 31, 'min_samples_leaf': 9, 'max_features': 'sqrt', 'criterion': 'log_loss'}. Best is trial 17 with value: 0.683048258654261.\n",
      "[I 2024-09-29 11:08:47,231] Trial 59 finished with value: 0.6825818788111978 and parameters: {'n_estimators': 215, 'max_depth': 13, 'min_samples_split': 31, 'min_samples_leaf': 7, 'max_features': 'sqrt', 'criterion': 'log_loss'}. Best is trial 17 with value: 0.683048258654261.\n",
      "[I 2024-09-29 11:10:38,962] Trial 60 finished with value: 0.6826285167955041 and parameters: {'n_estimators': 202, 'max_depth': 15, 'min_samples_split': 29, 'min_samples_leaf': 3, 'max_features': 'log2', 'criterion': 'log_loss'}. Best is trial 17 with value: 0.683048258654261.\n",
      "[I 2024-09-29 11:12:46,353] Trial 61 finished with value: 0.6825002623386617 and parameters: {'n_estimators': 240, 'max_depth': 16, 'min_samples_split': 32, 'min_samples_leaf': 3, 'max_features': 'log2', 'criterion': 'log_loss'}. Best is trial 17 with value: 0.683048258654261.\n",
      "[I 2024-09-29 11:13:34,791] Trial 62 finished with value: 0.6827217927641167 and parameters: {'n_estimators': 193, 'max_depth': 14, 'min_samples_split': 29, 'min_samples_leaf': 5, 'max_features': 'log2', 'criterion': 'log_loss'}. Best is trial 17 with value: 0.683048258654261.\n",
      "[I 2024-09-29 11:14:29,766] Trial 63 finished with value: 0.6828733662131122 and parameters: {'n_estimators': 197, 'max_depth': 15, 'min_samples_split': 29, 'min_samples_leaf': 5, 'max_features': 'log2', 'criterion': 'log_loss'}. Best is trial 17 with value: 0.683048258654261.\n",
      "[I 2024-09-29 11:15:14,220] Trial 64 finished with value: 0.6826168572994276 and parameters: {'n_estimators': 192, 'max_depth': 12, 'min_samples_split': 29, 'min_samples_leaf': 5, 'max_features': 'log2', 'criterion': 'log_loss'}. Best is trial 17 with value: 0.683048258654261.\n",
      "[I 2024-09-29 11:16:04,033] Trial 65 finished with value: 0.6813576317231569 and parameters: {'n_estimators': 148, 'max_depth': 18, 'min_samples_split': 16, 'min_samples_leaf': 6, 'max_features': 'log2', 'criterion': 'log_loss'}. Best is trial 17 with value: 0.683048258654261.\n",
      "[I 2024-09-29 11:16:49,520] Trial 66 finished with value: 0.6819989040073688 and parameters: {'n_estimators': 176, 'max_depth': 13, 'min_samples_split': 24, 'min_samples_leaf': 8, 'max_features': 'log2', 'criterion': 'log_loss'}. Best is trial 17 with value: 0.683048258654261.\n",
      "[I 2024-09-29 11:18:19,985] Trial 67 finished with value: 0.682908344701342 and parameters: {'n_estimators': 269, 'max_depth': 15, 'min_samples_split': 28, 'min_samples_leaf': 1, 'max_features': 'log2', 'criterion': 'log_loss'}. Best is trial 17 with value: 0.683048258654261.\n",
      "[I 2024-09-29 11:19:57,582] Trial 68 finished with value: 0.6817773735819138 and parameters: {'n_estimators': 269, 'max_depth': 16, 'min_samples_split': 26, 'min_samples_leaf': 2, 'max_features': 'log2', 'criterion': 'log_loss'}. Best is trial 17 with value: 0.683048258654261.\n",
      "[I 2024-09-29 11:21:24,310] Trial 69 finished with value: 0.6821971154406706 and parameters: {'n_estimators': 288, 'max_depth': 15, 'min_samples_split': 28, 'min_samples_leaf': 1, 'max_features': 'log2', 'criterion': 'log_loss'}. Best is trial 17 with value: 0.683048258654261.\n",
      "[I 2024-09-29 11:23:03,994] Trial 70 finished with value: 0.6830832371424908 and parameters: {'n_estimators': 311, 'max_depth': 14, 'min_samples_split': 23, 'min_samples_leaf': 4, 'max_features': 'log2', 'criterion': 'gini'}. Best is trial 70 with value: 0.6830832371424908.\n",
      "[I 2024-09-29 11:24:42,708] Trial 71 finished with value: 0.6828383877248825 and parameters: {'n_estimators': 306, 'max_depth': 14, 'min_samples_split': 23, 'min_samples_leaf': 4, 'max_features': 'log2', 'criterion': 'gini'}. Best is trial 70 with value: 0.6830832371424908.\n",
      "[I 2024-09-29 11:26:12,252] Trial 72 finished with value: 0.6824186458661257 and parameters: {'n_estimators': 321, 'max_depth': 14, 'min_samples_split': 23, 'min_samples_leaf': 4, 'max_features': 'log2', 'criterion': 'gini'}. Best is trial 70 with value: 0.6830832371424908.\n",
      "[I 2024-09-29 11:27:57,316] Trial 73 finished with value: 0.6815441836603822 and parameters: {'n_estimators': 309, 'max_depth': 17, 'min_samples_split': 21, 'min_samples_leaf': 3, 'max_features': 'log2', 'criterion': 'gini'}. Best is trial 70 with value: 0.6830832371424908.\n",
      "[I 2024-09-29 11:29:41,091] Trial 74 finished with value: 0.6804715100213369 and parameters: {'n_estimators': 275, 'max_depth': 18, 'min_samples_split': 19, 'min_samples_leaf': 2, 'max_features': 'log2', 'criterion': 'gini'}. Best is trial 70 with value: 0.6830832371424908.\n",
      "[I 2024-09-29 11:31:35,623] Trial 75 finished with value: 0.682325369897513 and parameters: {'n_estimators': 331, 'max_depth': 15, 'min_samples_split': 24, 'min_samples_leaf': 4, 'max_features': 'log2', 'criterion': 'gini'}. Best is trial 70 with value: 0.6830832371424908.\n",
      "[I 2024-09-29 11:32:51,896] Trial 76 finished with value: 0.6821621369524409 and parameters: {'n_estimators': 306, 'max_depth': 13, 'min_samples_split': 21, 'min_samples_leaf': 6, 'max_features': 'log2', 'criterion': 'gini'}. Best is trial 70 with value: 0.6830832371424908.\n",
      "[I 2024-09-29 11:34:03,800] Trial 77 finished with value: 0.6825235813308149 and parameters: {'n_estimators': 292, 'max_depth': 11, 'min_samples_split': 25, 'min_samples_leaf': 1, 'max_features': 'log2', 'criterion': 'gini'}. Best is trial 70 with value: 0.6830832371424908.\n",
      "[I 2024-09-29 11:35:10,850] Trial 78 finished with value: 0.6822554129210535 and parameters: {'n_estimators': 258, 'max_depth': 16, 'min_samples_split': 22, 'min_samples_leaf': 2, 'max_features': 'log2', 'criterion': 'gini'}. Best is trial 70 with value: 0.6830832371424908.\n",
      "[I 2024-09-29 11:35:42,002] Trial 79 finished with value: 0.67960870731167 and parameters: {'n_estimators': 113, 'max_depth': 19, 'min_samples_split': 18, 'min_samples_leaf': 4, 'max_features': 'log2', 'criterion': 'gini'}. Best is trial 70 with value: 0.6830832371424908.\n",
      "[I 2024-09-29 11:37:07,243] Trial 80 finished with value: 0.6830599181503375 and parameters: {'n_estimators': 358, 'max_depth': 14, 'min_samples_split': 27, 'min_samples_leaf': 8, 'max_features': 'log2', 'criterion': 'gini'}. Best is trial 70 with value: 0.6830832371424908.\n",
      "[I 2024-09-29 11:38:45,808] Trial 81 finished with value: 0.6823836673778959 and parameters: {'n_estimators': 357, 'max_depth': 14, 'min_samples_split': 27, 'min_samples_leaf': 8, 'max_features': 'log2', 'criterion': 'gini'}. Best is trial 70 with value: 0.6830832371424908.\n",
      "[I 2024-09-29 11:40:14,641] Trial 82 finished with value: 0.6824769433465085 and parameters: {'n_estimators': 342, 'max_depth': 13, 'min_samples_split': 26, 'min_samples_leaf': 7, 'max_features': 'log2', 'criterion': 'gini'}. Best is trial 70 with value: 0.6830832371424908.\n",
      "[I 2024-09-29 11:41:37,665] Trial 83 finished with value: 0.6825119218347383 and parameters: {'n_estimators': 321, 'max_depth': 15, 'min_samples_split': 23, 'min_samples_leaf': 10, 'max_features': 'log2', 'criterion': 'gini'}. Best is trial 70 with value: 0.6830832371424908.\n",
      "[I 2024-09-29 11:43:00,742] Trial 84 finished with value: 0.6818589900544498 and parameters: {'n_estimators': 281, 'max_depth': 17, 'min_samples_split': 24, 'min_samples_leaf': 5, 'max_features': 'log2', 'criterion': 'gini'}. Best is trial 70 with value: 0.6830832371424908.\n",
      "[I 2024-09-29 11:44:33,160] Trial 85 finished with value: 0.6818356710622967 and parameters: {'n_estimators': 346, 'max_depth': 10, 'min_samples_split': 20, 'min_samples_leaf': 4, 'max_features': 'log2', 'criterion': 'gini'}. Best is trial 70 with value: 0.6830832371424908.\n",
      "[I 2024-09-29 11:46:02,430] Trial 86 finished with value: 0.6825935383072743 and parameters: {'n_estimators': 313, 'max_depth': 12, 'min_samples_split': 22, 'min_samples_leaf': 7, 'max_features': 'log2', 'criterion': 'log_loss'}. Best is trial 70 with value: 0.6830832371424908.\n",
      "[I 2024-09-29 11:48:05,868] Trial 87 finished with value: 0.6825002623386617 and parameters: {'n_estimators': 301, 'max_depth': 14, 'min_samples_split': 25, 'min_samples_leaf': 6, 'max_features': 'log2', 'criterion': 'gini'}. Best is trial 70 with value: 0.6830832371424908.\n",
      "[I 2024-09-29 11:49:40,378] Trial 88 finished with value: 0.6827101332680402 and parameters: {'n_estimators': 327, 'max_depth': 13, 'min_samples_split': 18, 'min_samples_leaf': 3, 'max_features': 'log2', 'criterion': 'log_loss'}. Best is trial 70 with value: 0.6830832371424908.\n",
      "[I 2024-09-29 11:51:24,553] Trial 89 finished with value: 0.6825702193151212 and parameters: {'n_estimators': 379, 'max_depth': 11, 'min_samples_split': 28, 'min_samples_leaf': 8, 'max_features': 'log2', 'criterion': 'log_loss'}. Best is trial 70 with value: 0.6830832371424908.\n",
      "[I 2024-09-29 11:53:22,331] Trial 90 finished with value: 0.6824536243543554 and parameters: {'n_estimators': 359, 'max_depth': 16, 'min_samples_split': 27, 'min_samples_leaf': 10, 'max_features': 'log2', 'criterion': 'gini'}. Best is trial 70 with value: 0.6830832371424908.\n",
      "[I 2024-09-29 11:54:07,379] Trial 91 finished with value: 0.6826751547798104 and parameters: {'n_estimators': 143, 'max_depth': 15, 'min_samples_split': 29, 'min_samples_leaf': 5, 'max_features': 'log2', 'criterion': 'log_loss'}. Best is trial 70 with value: 0.6830832371424908.\n",
      "[I 2024-09-29 11:55:24,834] Trial 92 finished with value: 0.6774400410414262 and parameters: {'n_estimators': 197, 'max_depth': 29, 'min_samples_split': 26, 'min_samples_leaf': 5, 'max_features': 'log2', 'criterion': 'log_loss'}. Best is trial 70 with value: 0.6830832371424908.\n",
      "[I 2024-09-29 11:56:22,563] Trial 93 finished with value: 0.682686814275887 and parameters: {'n_estimators': 172, 'max_depth': 14, 'min_samples_split': 30, 'min_samples_leaf': 2, 'max_features': 'log2', 'criterion': 'log_loss'}. Best is trial 70 with value: 0.6830832371424908.\n",
      "[I 2024-09-29 11:57:57,596] Trial 94 finished with value: 0.6823486888896662 and parameters: {'n_estimators': 287, 'max_depth': 15, 'min_samples_split': 27, 'min_samples_leaf': 6, 'max_features': 'log2', 'criterion': 'log_loss'}. Best is trial 70 with value: 0.6830832371424908.\n",
      "[I 2024-09-29 11:58:47,012] Trial 95 finished with value: 0.6828383877248825 and parameters: {'n_estimators': 162, 'max_depth': 14, 'min_samples_split': 24, 'min_samples_leaf': 4, 'max_features': 'sqrt', 'criterion': 'log_loss'}. Best is trial 70 with value: 0.6830832371424908.\n",
      "[I 2024-09-29 12:00:17,288] Trial 96 finished with value: 0.6828034092366528 and parameters: {'n_estimators': 334, 'max_depth': 12, 'min_samples_split': 24, 'min_samples_leaf': 1, 'max_features': 'sqrt', 'criterion': 'log_loss'}. Best is trial 70 with value: 0.6830832371424908.\n",
      "[I 2024-09-29 12:02:02,789] Trial 97 finished with value: 0.6822554129210535 and parameters: {'n_estimators': 302, 'max_depth': 16, 'min_samples_split': 23, 'min_samples_leaf': 1, 'max_features': 'sqrt', 'criterion': 'log_loss'}. Best is trial 70 with value: 0.6830832371424908.\n",
      "[I 2024-09-29 12:02:44,336] Trial 98 finished with value: 0.6823720078818194 and parameters: {'n_estimators': 158, 'max_depth': 12, 'min_samples_split': 2, 'min_samples_leaf': 2, 'max_features': 'sqrt', 'criterion': 'log_loss'}. Best is trial 70 with value: 0.6830832371424908.\n",
      "[I 2024-09-29 12:04:17,047] Trial 99 finished with value: 0.6813226532349271 and parameters: {'n_estimators': 319, 'max_depth': 17, 'min_samples_split': 21, 'min_samples_leaf': 3, 'max_features': 'sqrt', 'criterion': 'gini'}. Best is trial 70 with value: 0.6830832371424908.\n"
     ]
    },
    {
     "name": "stdout",
     "output_type": "stream",
     "text": [
      "Number of finished trials:  100\n",
      "Best trial:\n",
      "  Value: 0.6830832371424908\n",
      "  Params: \n",
      "    n_estimators: 311\n",
      "    max_depth: 14\n",
      "    min_samples_split: 23\n",
      "    min_samples_leaf: 4\n",
      "    max_features: log2\n",
      "    criterion: gini\n"
     ]
    }
   ],
   "source": [
    "from sklearn.ensemble import RandomForestClassifier\n",
    "from optuna.samplers import TPESampler\n",
    "\n",
    "\n",
    "def objective_rf(trial):\n",
    "    n_estimators = trial.suggest_int('n_estimators', 100, 500)\n",
    "    max_depth = trial.suggest_int('max_depth', 2, 32)\n",
    "    min_samples_split = trial.suggest_int('min_samples_split', 2, 32)\n",
    "    min_samples_leaf = trial.suggest_int('min_samples_leaf', 1, 32)\n",
    "    max_features = trial.suggest_categorical('max_features', ['sqrt', 'log2'])\n",
    "    criterion = trial.suggest_categorical('criterion', [\"gini\", \"entropy\", \"log_loss\"])\n",
    "\n",
    "    model = RandomForestClassifier(\n",
    "        n_estimators=n_estimators,\n",
    "        max_depth=max_depth,\n",
    "        min_samples_split=min_samples_split,\n",
    "        min_samples_leaf=min_samples_leaf,\n",
    "        max_features=max_features,\n",
    "        criterion=criterion\n",
    "    )\n",
    "\n",
    "    model.fit(X_train_scaled, y_train)\n",
    "    y_pred = model.predict(X_test_scaled)\n",
    "    \n",
    "    accuracy = accuracy_score(y_test, y_pred)\n",
    "    return accuracy\n",
    "\n",
    "# callback to stop the trial early \n",
    "pruning_callback = optuna.pruners.MedianPruner()\n",
    "\n",
    "# Create a study object and optimize the objective function.\n",
    "study = optuna.create_study(direction='maximize', pruner=[pruning_callback], sampler=TPESampler())\n",
    "study.optimize(objective_rf, n_trials=100)\n",
    "\n",
    "print(\"Number of finished trials: \", len(study.trials))\n",
    "print(\"Best trial:\")\n",
    "trial = study.best_trial\n",
    "\n",
    "print(\"  Value: {}\".format(trial.value))\n",
    "print(\"  Params: \")\n",
    "for key, value in trial.params.items():\n",
    "    print(\"    {}: {}\".format(key, value))"
   ]
  },
  {
   "cell_type": "code",
   "execution_count": 21,
   "metadata": {},
   "outputs": [
    {
     "ename": "ValueError",
     "evalue": "Mime type rendering requires nbformat>=4.2.0 but it is not installed",
     "output_type": "error",
     "traceback": [
      "\u001b[1;31m---------------------------------------------------------------------------\u001b[0m",
      "\u001b[1;31mValueError\u001b[0m                                Traceback (most recent call last)",
      "File \u001b[1;32m~\\AppData\\Roaming\\Python\\Python312\\site-packages\\IPython\\core\\formatters.py:925\u001b[0m, in \u001b[0;36mIPythonDisplayFormatter.__call__\u001b[1;34m(self, obj)\u001b[0m\n\u001b[0;32m    923\u001b[0m method \u001b[38;5;241m=\u001b[39m get_real_method(obj, \u001b[38;5;28mself\u001b[39m\u001b[38;5;241m.\u001b[39mprint_method)\n\u001b[0;32m    924\u001b[0m \u001b[38;5;28;01mif\u001b[39;00m method \u001b[38;5;129;01mis\u001b[39;00m \u001b[38;5;129;01mnot\u001b[39;00m \u001b[38;5;28;01mNone\u001b[39;00m:\n\u001b[1;32m--> 925\u001b[0m     \u001b[43mmethod\u001b[49m\u001b[43m(\u001b[49m\u001b[43m)\u001b[49m\n\u001b[0;32m    926\u001b[0m     \u001b[38;5;28;01mreturn\u001b[39;00m \u001b[38;5;28;01mTrue\u001b[39;00m\n",
      "File \u001b[1;32mc:\\Users\\Sarah\\anaconda3\\envs\\nba_env\\Lib\\site-packages\\plotly\\basedatatypes.py:832\u001b[0m, in \u001b[0;36mBaseFigure._ipython_display_\u001b[1;34m(self)\u001b[0m\n\u001b[0;32m    829\u001b[0m \u001b[38;5;28;01mimport\u001b[39;00m \u001b[38;5;21;01mplotly\u001b[39;00m\u001b[38;5;21;01m.\u001b[39;00m\u001b[38;5;21;01mio\u001b[39;00m \u001b[38;5;28;01mas\u001b[39;00m \u001b[38;5;21;01mpio\u001b[39;00m\n\u001b[0;32m    831\u001b[0m \u001b[38;5;28;01mif\u001b[39;00m pio\u001b[38;5;241m.\u001b[39mrenderers\u001b[38;5;241m.\u001b[39mrender_on_display \u001b[38;5;129;01mand\u001b[39;00m pio\u001b[38;5;241m.\u001b[39mrenderers\u001b[38;5;241m.\u001b[39mdefault:\n\u001b[1;32m--> 832\u001b[0m     \u001b[43mpio\u001b[49m\u001b[38;5;241;43m.\u001b[39;49m\u001b[43mshow\u001b[49m\u001b[43m(\u001b[49m\u001b[38;5;28;43mself\u001b[39;49m\u001b[43m)\u001b[49m\n\u001b[0;32m    833\u001b[0m \u001b[38;5;28;01melse\u001b[39;00m:\n\u001b[0;32m    834\u001b[0m     \u001b[38;5;28mprint\u001b[39m(\u001b[38;5;28mrepr\u001b[39m(\u001b[38;5;28mself\u001b[39m))\n",
      "File \u001b[1;32mc:\\Users\\Sarah\\anaconda3\\envs\\nba_env\\Lib\\site-packages\\plotly\\io\\_renderers.py:394\u001b[0m, in \u001b[0;36mshow\u001b[1;34m(fig, renderer, validate, **kwargs)\u001b[0m\n\u001b[0;32m    389\u001b[0m         \u001b[38;5;28;01mraise\u001b[39;00m \u001b[38;5;167;01mValueError\u001b[39;00m(\n\u001b[0;32m    390\u001b[0m             \u001b[38;5;124m\"\u001b[39m\u001b[38;5;124mMime type rendering requires ipython but it is not installed\u001b[39m\u001b[38;5;124m\"\u001b[39m\n\u001b[0;32m    391\u001b[0m         )\n\u001b[0;32m    393\u001b[0m     \u001b[38;5;28;01mif\u001b[39;00m \u001b[38;5;129;01mnot\u001b[39;00m nbformat \u001b[38;5;129;01mor\u001b[39;00m Version(nbformat\u001b[38;5;241m.\u001b[39m__version__) \u001b[38;5;241m<\u001b[39m Version(\u001b[38;5;124m\"\u001b[39m\u001b[38;5;124m4.2.0\u001b[39m\u001b[38;5;124m\"\u001b[39m):\n\u001b[1;32m--> 394\u001b[0m         \u001b[38;5;28;01mraise\u001b[39;00m \u001b[38;5;167;01mValueError\u001b[39;00m(\n\u001b[0;32m    395\u001b[0m             \u001b[38;5;124m\"\u001b[39m\u001b[38;5;124mMime type rendering requires nbformat>=4.2.0 but it is not installed\u001b[39m\u001b[38;5;124m\"\u001b[39m\n\u001b[0;32m    396\u001b[0m         )\n\u001b[0;32m    398\u001b[0m     ipython_display\u001b[38;5;241m.\u001b[39mdisplay(bundle, raw\u001b[38;5;241m=\u001b[39m\u001b[38;5;28;01mTrue\u001b[39;00m)\n\u001b[0;32m    400\u001b[0m \u001b[38;5;66;03m# external renderers\u001b[39;00m\n",
      "\u001b[1;31mValueError\u001b[0m: Mime type rendering requires nbformat>=4.2.0 but it is not installed"
     ]
    },
    {
     "data": {
      "application/vnd.plotly.v1+json": {
       "config": {
        "plotlyServerURL": "https://plot.ly"
       },
       "data": [
        {
         "mode": "markers",
         "name": "Objective Value",
         "type": "scatter",
         "x": [
          0,
          1,
          2,
          3,
          4,
          5,
          6,
          7,
          8,
          9,
          10,
          11,
          12,
          13,
          14,
          15,
          16,
          17,
          18,
          19,
          20,
          21,
          22,
          23,
          24,
          25,
          26,
          27,
          28,
          29,
          30,
          31,
          32,
          33,
          34,
          35,
          36,
          37,
          38,
          39,
          40,
          41,
          42,
          43,
          44,
          45,
          46,
          47,
          48,
          49,
          50,
          51,
          52,
          53,
          54,
          55,
          56,
          57,
          58,
          59,
          60,
          61,
          62,
          63,
          64,
          65,
          66,
          67,
          68,
          69,
          70,
          71,
          72,
          73,
          74,
          75,
          76,
          77,
          78,
          79,
          80,
          81,
          82,
          83,
          84,
          85,
          86,
          87,
          88,
          89,
          90,
          91,
          92,
          93,
          94,
          95,
          96,
          97,
          98,
          99
         ],
         "y": [
          0.6813926102113866,
          0.6769969801905161,
          0.681217717770238,
          0.682546900322968,
          0.6811594202898551,
          0.6711905511443795,
          0.6825585598190447,
          0.682465283850432,
          0.6818939685426796,
          0.680634742966409,
          0.6824769433465085,
          0.6824536243543554,
          0.6781745892942507,
          0.6824186458661257,
          0.6789557755313815,
          0.6821971154406706,
          0.6801567036272692,
          0.683048258654261,
          0.6825119218347383,
          0.6796436857998998,
          0.6791539869646834,
          0.682406986370049,
          0.682465283850432,
          0.6810078468408596,
          0.6818473305583733,
          0.6825702193151212,
          0.6825119218347383,
          0.6731376869891683,
          0.6820338824955985,
          0.6824419648582788,
          0.681299334242774,
          0.682406986370049,
          0.6826051978033509,
          0.6823720078818194,
          0.6824186458661257,
          0.6792356034372194,
          0.6818589900544498,
          0.6753063532594121,
          0.6817890330779903,
          0.6824769433465085,
          0.6819989040073688,
          0.6824769433465085,
          0.6823603483857428,
          0.6822204344328238,
          0.6823486888896662,
          0.6820805204799049,
          0.6825818788111978,
          0.6827451117562698,
          0.6808329543997108,
          0.6822554129210535,
          0.6677276808096354,
          0.6824886028425852,
          0.6829666421817249,
          0.678221227278557,
          0.6828383877248825,
          0.6785943311530076,
          0.6819872445112922,
          0.6799235137057377,
          0.682686814275887,
          0.6825818788111978,
          0.6826285167955041,
          0.6825002623386617,
          0.6827217927641167,
          0.6828733662131122,
          0.6826168572994276,
          0.6813576317231569,
          0.6819989040073688,
          0.682908344701342,
          0.6817773735819138,
          0.6821971154406706,
          0.6830832371424908,
          0.6828383877248825,
          0.6824186458661257,
          0.6815441836603822,
          0.6804715100213369,
          0.682325369897513,
          0.6821621369524409,
          0.6825235813308149,
          0.6822554129210535,
          0.67960870731167,
          0.6830599181503375,
          0.6823836673778959,
          0.6824769433465085,
          0.6825119218347383,
          0.6818589900544498,
          0.6818356710622967,
          0.6825935383072743,
          0.6825002623386617,
          0.6827101332680402,
          0.6825702193151212,
          0.6824536243543554,
          0.6826751547798104,
          0.6774400410414262,
          0.682686814275887,
          0.6823486888896662,
          0.6828383877248825,
          0.6828034092366528,
          0.6822554129210535,
          0.6823720078818194,
          0.6813226532349271
         ]
        },
        {
         "mode": "lines",
         "name": "Best Value",
         "type": "scatter",
         "x": [
          0,
          1,
          2,
          3,
          4,
          5,
          6,
          7,
          8,
          9,
          10,
          11,
          12,
          13,
          14,
          15,
          16,
          17,
          18,
          19,
          20,
          21,
          22,
          23,
          24,
          25,
          26,
          27,
          28,
          29,
          30,
          31,
          32,
          33,
          34,
          35,
          36,
          37,
          38,
          39,
          40,
          41,
          42,
          43,
          44,
          45,
          46,
          47,
          48,
          49,
          50,
          51,
          52,
          53,
          54,
          55,
          56,
          57,
          58,
          59,
          60,
          61,
          62,
          63,
          64,
          65,
          66,
          67,
          68,
          69,
          70,
          71,
          72,
          73,
          74,
          75,
          76,
          77,
          78,
          79,
          80,
          81,
          82,
          83,
          84,
          85,
          86,
          87,
          88,
          89,
          90,
          91,
          92,
          93,
          94,
          95,
          96,
          97,
          98,
          99
         ],
         "y": [
          0.6813926102113866,
          0.6813926102113866,
          0.6813926102113866,
          0.682546900322968,
          0.682546900322968,
          0.682546900322968,
          0.6825585598190447,
          0.6825585598190447,
          0.6825585598190447,
          0.6825585598190447,
          0.6825585598190447,
          0.6825585598190447,
          0.6825585598190447,
          0.6825585598190447,
          0.6825585598190447,
          0.6825585598190447,
          0.6825585598190447,
          0.683048258654261,
          0.683048258654261,
          0.683048258654261,
          0.683048258654261,
          0.683048258654261,
          0.683048258654261,
          0.683048258654261,
          0.683048258654261,
          0.683048258654261,
          0.683048258654261,
          0.683048258654261,
          0.683048258654261,
          0.683048258654261,
          0.683048258654261,
          0.683048258654261,
          0.683048258654261,
          0.683048258654261,
          0.683048258654261,
          0.683048258654261,
          0.683048258654261,
          0.683048258654261,
          0.683048258654261,
          0.683048258654261,
          0.683048258654261,
          0.683048258654261,
          0.683048258654261,
          0.683048258654261,
          0.683048258654261,
          0.683048258654261,
          0.683048258654261,
          0.683048258654261,
          0.683048258654261,
          0.683048258654261,
          0.683048258654261,
          0.683048258654261,
          0.683048258654261,
          0.683048258654261,
          0.683048258654261,
          0.683048258654261,
          0.683048258654261,
          0.683048258654261,
          0.683048258654261,
          0.683048258654261,
          0.683048258654261,
          0.683048258654261,
          0.683048258654261,
          0.683048258654261,
          0.683048258654261,
          0.683048258654261,
          0.683048258654261,
          0.683048258654261,
          0.683048258654261,
          0.683048258654261,
          0.6830832371424908,
          0.6830832371424908,
          0.6830832371424908,
          0.6830832371424908,
          0.6830832371424908,
          0.6830832371424908,
          0.6830832371424908,
          0.6830832371424908,
          0.6830832371424908,
          0.6830832371424908,
          0.6830832371424908,
          0.6830832371424908,
          0.6830832371424908,
          0.6830832371424908,
          0.6830832371424908,
          0.6830832371424908,
          0.6830832371424908,
          0.6830832371424908,
          0.6830832371424908,
          0.6830832371424908,
          0.6830832371424908,
          0.6830832371424908,
          0.6830832371424908,
          0.6830832371424908,
          0.6830832371424908,
          0.6830832371424908,
          0.6830832371424908,
          0.6830832371424908,
          0.6830832371424908,
          0.6830832371424908
         ]
        },
        {
         "marker": {
          "color": "#cccccc"
         },
         "mode": "markers",
         "name": "Infeasible Trial",
         "showlegend": false,
         "type": "scatter",
         "x": [],
         "y": []
        }
       ],
       "layout": {
        "template": {
         "data": {
          "bar": [
           {
            "error_x": {
             "color": "#2a3f5f"
            },
            "error_y": {
             "color": "#2a3f5f"
            },
            "marker": {
             "line": {
              "color": "#E5ECF6",
              "width": 0.5
             },
             "pattern": {
              "fillmode": "overlay",
              "size": 10,
              "solidity": 0.2
             }
            },
            "type": "bar"
           }
          ],
          "barpolar": [
           {
            "marker": {
             "line": {
              "color": "#E5ECF6",
              "width": 0.5
             },
             "pattern": {
              "fillmode": "overlay",
              "size": 10,
              "solidity": 0.2
             }
            },
            "type": "barpolar"
           }
          ],
          "carpet": [
           {
            "aaxis": {
             "endlinecolor": "#2a3f5f",
             "gridcolor": "white",
             "linecolor": "white",
             "minorgridcolor": "white",
             "startlinecolor": "#2a3f5f"
            },
            "baxis": {
             "endlinecolor": "#2a3f5f",
             "gridcolor": "white",
             "linecolor": "white",
             "minorgridcolor": "white",
             "startlinecolor": "#2a3f5f"
            },
            "type": "carpet"
           }
          ],
          "choropleth": [
           {
            "colorbar": {
             "outlinewidth": 0,
             "ticks": ""
            },
            "type": "choropleth"
           }
          ],
          "contour": [
           {
            "colorbar": {
             "outlinewidth": 0,
             "ticks": ""
            },
            "colorscale": [
             [
              0,
              "#0d0887"
             ],
             [
              0.1111111111111111,
              "#46039f"
             ],
             [
              0.2222222222222222,
              "#7201a8"
             ],
             [
              0.3333333333333333,
              "#9c179e"
             ],
             [
              0.4444444444444444,
              "#bd3786"
             ],
             [
              0.5555555555555556,
              "#d8576b"
             ],
             [
              0.6666666666666666,
              "#ed7953"
             ],
             [
              0.7777777777777778,
              "#fb9f3a"
             ],
             [
              0.8888888888888888,
              "#fdca26"
             ],
             [
              1,
              "#f0f921"
             ]
            ],
            "type": "contour"
           }
          ],
          "contourcarpet": [
           {
            "colorbar": {
             "outlinewidth": 0,
             "ticks": ""
            },
            "type": "contourcarpet"
           }
          ],
          "heatmap": [
           {
            "colorbar": {
             "outlinewidth": 0,
             "ticks": ""
            },
            "colorscale": [
             [
              0,
              "#0d0887"
             ],
             [
              0.1111111111111111,
              "#46039f"
             ],
             [
              0.2222222222222222,
              "#7201a8"
             ],
             [
              0.3333333333333333,
              "#9c179e"
             ],
             [
              0.4444444444444444,
              "#bd3786"
             ],
             [
              0.5555555555555556,
              "#d8576b"
             ],
             [
              0.6666666666666666,
              "#ed7953"
             ],
             [
              0.7777777777777778,
              "#fb9f3a"
             ],
             [
              0.8888888888888888,
              "#fdca26"
             ],
             [
              1,
              "#f0f921"
             ]
            ],
            "type": "heatmap"
           }
          ],
          "heatmapgl": [
           {
            "colorbar": {
             "outlinewidth": 0,
             "ticks": ""
            },
            "colorscale": [
             [
              0,
              "#0d0887"
             ],
             [
              0.1111111111111111,
              "#46039f"
             ],
             [
              0.2222222222222222,
              "#7201a8"
             ],
             [
              0.3333333333333333,
              "#9c179e"
             ],
             [
              0.4444444444444444,
              "#bd3786"
             ],
             [
              0.5555555555555556,
              "#d8576b"
             ],
             [
              0.6666666666666666,
              "#ed7953"
             ],
             [
              0.7777777777777778,
              "#fb9f3a"
             ],
             [
              0.8888888888888888,
              "#fdca26"
             ],
             [
              1,
              "#f0f921"
             ]
            ],
            "type": "heatmapgl"
           }
          ],
          "histogram": [
           {
            "marker": {
             "pattern": {
              "fillmode": "overlay",
              "size": 10,
              "solidity": 0.2
             }
            },
            "type": "histogram"
           }
          ],
          "histogram2d": [
           {
            "colorbar": {
             "outlinewidth": 0,
             "ticks": ""
            },
            "colorscale": [
             [
              0,
              "#0d0887"
             ],
             [
              0.1111111111111111,
              "#46039f"
             ],
             [
              0.2222222222222222,
              "#7201a8"
             ],
             [
              0.3333333333333333,
              "#9c179e"
             ],
             [
              0.4444444444444444,
              "#bd3786"
             ],
             [
              0.5555555555555556,
              "#d8576b"
             ],
             [
              0.6666666666666666,
              "#ed7953"
             ],
             [
              0.7777777777777778,
              "#fb9f3a"
             ],
             [
              0.8888888888888888,
              "#fdca26"
             ],
             [
              1,
              "#f0f921"
             ]
            ],
            "type": "histogram2d"
           }
          ],
          "histogram2dcontour": [
           {
            "colorbar": {
             "outlinewidth": 0,
             "ticks": ""
            },
            "colorscale": [
             [
              0,
              "#0d0887"
             ],
             [
              0.1111111111111111,
              "#46039f"
             ],
             [
              0.2222222222222222,
              "#7201a8"
             ],
             [
              0.3333333333333333,
              "#9c179e"
             ],
             [
              0.4444444444444444,
              "#bd3786"
             ],
             [
              0.5555555555555556,
              "#d8576b"
             ],
             [
              0.6666666666666666,
              "#ed7953"
             ],
             [
              0.7777777777777778,
              "#fb9f3a"
             ],
             [
              0.8888888888888888,
              "#fdca26"
             ],
             [
              1,
              "#f0f921"
             ]
            ],
            "type": "histogram2dcontour"
           }
          ],
          "mesh3d": [
           {
            "colorbar": {
             "outlinewidth": 0,
             "ticks": ""
            },
            "type": "mesh3d"
           }
          ],
          "parcoords": [
           {
            "line": {
             "colorbar": {
              "outlinewidth": 0,
              "ticks": ""
             }
            },
            "type": "parcoords"
           }
          ],
          "pie": [
           {
            "automargin": true,
            "type": "pie"
           }
          ],
          "scatter": [
           {
            "fillpattern": {
             "fillmode": "overlay",
             "size": 10,
             "solidity": 0.2
            },
            "type": "scatter"
           }
          ],
          "scatter3d": [
           {
            "line": {
             "colorbar": {
              "outlinewidth": 0,
              "ticks": ""
             }
            },
            "marker": {
             "colorbar": {
              "outlinewidth": 0,
              "ticks": ""
             }
            },
            "type": "scatter3d"
           }
          ],
          "scattercarpet": [
           {
            "marker": {
             "colorbar": {
              "outlinewidth": 0,
              "ticks": ""
             }
            },
            "type": "scattercarpet"
           }
          ],
          "scattergeo": [
           {
            "marker": {
             "colorbar": {
              "outlinewidth": 0,
              "ticks": ""
             }
            },
            "type": "scattergeo"
           }
          ],
          "scattergl": [
           {
            "marker": {
             "colorbar": {
              "outlinewidth": 0,
              "ticks": ""
             }
            },
            "type": "scattergl"
           }
          ],
          "scattermapbox": [
           {
            "marker": {
             "colorbar": {
              "outlinewidth": 0,
              "ticks": ""
             }
            },
            "type": "scattermapbox"
           }
          ],
          "scatterpolar": [
           {
            "marker": {
             "colorbar": {
              "outlinewidth": 0,
              "ticks": ""
             }
            },
            "type": "scatterpolar"
           }
          ],
          "scatterpolargl": [
           {
            "marker": {
             "colorbar": {
              "outlinewidth": 0,
              "ticks": ""
             }
            },
            "type": "scatterpolargl"
           }
          ],
          "scatterternary": [
           {
            "marker": {
             "colorbar": {
              "outlinewidth": 0,
              "ticks": ""
             }
            },
            "type": "scatterternary"
           }
          ],
          "surface": [
           {
            "colorbar": {
             "outlinewidth": 0,
             "ticks": ""
            },
            "colorscale": [
             [
              0,
              "#0d0887"
             ],
             [
              0.1111111111111111,
              "#46039f"
             ],
             [
              0.2222222222222222,
              "#7201a8"
             ],
             [
              0.3333333333333333,
              "#9c179e"
             ],
             [
              0.4444444444444444,
              "#bd3786"
             ],
             [
              0.5555555555555556,
              "#d8576b"
             ],
             [
              0.6666666666666666,
              "#ed7953"
             ],
             [
              0.7777777777777778,
              "#fb9f3a"
             ],
             [
              0.8888888888888888,
              "#fdca26"
             ],
             [
              1,
              "#f0f921"
             ]
            ],
            "type": "surface"
           }
          ],
          "table": [
           {
            "cells": {
             "fill": {
              "color": "#EBF0F8"
             },
             "line": {
              "color": "white"
             }
            },
            "header": {
             "fill": {
              "color": "#C8D4E3"
             },
             "line": {
              "color": "white"
             }
            },
            "type": "table"
           }
          ]
         },
         "layout": {
          "annotationdefaults": {
           "arrowcolor": "#2a3f5f",
           "arrowhead": 0,
           "arrowwidth": 1
          },
          "autotypenumbers": "strict",
          "coloraxis": {
           "colorbar": {
            "outlinewidth": 0,
            "ticks": ""
           }
          },
          "colorscale": {
           "diverging": [
            [
             0,
             "#8e0152"
            ],
            [
             0.1,
             "#c51b7d"
            ],
            [
             0.2,
             "#de77ae"
            ],
            [
             0.3,
             "#f1b6da"
            ],
            [
             0.4,
             "#fde0ef"
            ],
            [
             0.5,
             "#f7f7f7"
            ],
            [
             0.6,
             "#e6f5d0"
            ],
            [
             0.7,
             "#b8e186"
            ],
            [
             0.8,
             "#7fbc41"
            ],
            [
             0.9,
             "#4d9221"
            ],
            [
             1,
             "#276419"
            ]
           ],
           "sequential": [
            [
             0,
             "#0d0887"
            ],
            [
             0.1111111111111111,
             "#46039f"
            ],
            [
             0.2222222222222222,
             "#7201a8"
            ],
            [
             0.3333333333333333,
             "#9c179e"
            ],
            [
             0.4444444444444444,
             "#bd3786"
            ],
            [
             0.5555555555555556,
             "#d8576b"
            ],
            [
             0.6666666666666666,
             "#ed7953"
            ],
            [
             0.7777777777777778,
             "#fb9f3a"
            ],
            [
             0.8888888888888888,
             "#fdca26"
            ],
            [
             1,
             "#f0f921"
            ]
           ],
           "sequentialminus": [
            [
             0,
             "#0d0887"
            ],
            [
             0.1111111111111111,
             "#46039f"
            ],
            [
             0.2222222222222222,
             "#7201a8"
            ],
            [
             0.3333333333333333,
             "#9c179e"
            ],
            [
             0.4444444444444444,
             "#bd3786"
            ],
            [
             0.5555555555555556,
             "#d8576b"
            ],
            [
             0.6666666666666666,
             "#ed7953"
            ],
            [
             0.7777777777777778,
             "#fb9f3a"
            ],
            [
             0.8888888888888888,
             "#fdca26"
            ],
            [
             1,
             "#f0f921"
            ]
           ]
          },
          "colorway": [
           "#636efa",
           "#EF553B",
           "#00cc96",
           "#ab63fa",
           "#FFA15A",
           "#19d3f3",
           "#FF6692",
           "#B6E880",
           "#FF97FF",
           "#FECB52"
          ],
          "font": {
           "color": "#2a3f5f"
          },
          "geo": {
           "bgcolor": "white",
           "lakecolor": "white",
           "landcolor": "#E5ECF6",
           "showlakes": true,
           "showland": true,
           "subunitcolor": "white"
          },
          "hoverlabel": {
           "align": "left"
          },
          "hovermode": "closest",
          "mapbox": {
           "style": "light"
          },
          "paper_bgcolor": "white",
          "plot_bgcolor": "#E5ECF6",
          "polar": {
           "angularaxis": {
            "gridcolor": "white",
            "linecolor": "white",
            "ticks": ""
           },
           "bgcolor": "#E5ECF6",
           "radialaxis": {
            "gridcolor": "white",
            "linecolor": "white",
            "ticks": ""
           }
          },
          "scene": {
           "xaxis": {
            "backgroundcolor": "#E5ECF6",
            "gridcolor": "white",
            "gridwidth": 2,
            "linecolor": "white",
            "showbackground": true,
            "ticks": "",
            "zerolinecolor": "white"
           },
           "yaxis": {
            "backgroundcolor": "#E5ECF6",
            "gridcolor": "white",
            "gridwidth": 2,
            "linecolor": "white",
            "showbackground": true,
            "ticks": "",
            "zerolinecolor": "white"
           },
           "zaxis": {
            "backgroundcolor": "#E5ECF6",
            "gridcolor": "white",
            "gridwidth": 2,
            "linecolor": "white",
            "showbackground": true,
            "ticks": "",
            "zerolinecolor": "white"
           }
          },
          "shapedefaults": {
           "line": {
            "color": "#2a3f5f"
           }
          },
          "ternary": {
           "aaxis": {
            "gridcolor": "white",
            "linecolor": "white",
            "ticks": ""
           },
           "baxis": {
            "gridcolor": "white",
            "linecolor": "white",
            "ticks": ""
           },
           "bgcolor": "#E5ECF6",
           "caxis": {
            "gridcolor": "white",
            "linecolor": "white",
            "ticks": ""
           }
          },
          "title": {
           "x": 0.05
          },
          "xaxis": {
           "automargin": true,
           "gridcolor": "white",
           "linecolor": "white",
           "ticks": "",
           "title": {
            "standoff": 15
           },
           "zerolinecolor": "white",
           "zerolinewidth": 2
          },
          "yaxis": {
           "automargin": true,
           "gridcolor": "white",
           "linecolor": "white",
           "ticks": "",
           "title": {
            "standoff": 15
           },
           "zerolinecolor": "white",
           "zerolinewidth": 2
          }
         }
        },
        "title": {
         "text": "Optimization History Plot"
        },
        "xaxis": {
         "title": {
          "text": "Trial"
         }
        },
        "yaxis": {
         "title": {
          "text": "Objective Value"
         }
        }
       }
      },
      "text/html": [
       "<div>                        <script type=\"text/javascript\">window.PlotlyConfig = {MathJaxConfig: 'local'};</script>\n",
       "        <script charset=\"utf-8\" src=\"https://cdn.plot.ly/plotly-2.32.0.min.js\"></script>                <div id=\"da6b1bdb-4570-4792-bc53-9a1943a9d9c8\" class=\"plotly-graph-div\" style=\"height:100%; width:100%;\"></div>            <script type=\"text/javascript\">                                    window.PLOTLYENV=window.PLOTLYENV || {};                                    if (document.getElementById(\"da6b1bdb-4570-4792-bc53-9a1943a9d9c8\")) {                    Plotly.newPlot(                        \"da6b1bdb-4570-4792-bc53-9a1943a9d9c8\",                        [{\"mode\":\"markers\",\"name\":\"Objective Value\",\"x\":[0,1,2,3,4,5,6,7,8,9,10,11,12,13,14,15,16,17,18,19,20,21,22,23,24,25,26,27,28,29,30,31,32,33,34,35,36,37,38,39,40,41,42,43,44,45,46,47,48,49,50,51,52,53,54,55,56,57,58,59,60,61,62,63,64,65,66,67,68,69,70,71,72,73,74,75,76,77,78,79,80,81,82,83,84,85,86,87,88,89,90,91,92,93,94,95,96,97,98,99],\"y\":[0.6813926102113866,0.6769969801905161,0.681217717770238,0.682546900322968,0.6811594202898551,0.6711905511443795,0.6825585598190447,0.682465283850432,0.6818939685426796,0.680634742966409,0.6824769433465085,0.6824536243543554,0.6781745892942507,0.6824186458661257,0.6789557755313815,0.6821971154406706,0.6801567036272692,0.683048258654261,0.6825119218347383,0.6796436857998998,0.6791539869646834,0.682406986370049,0.682465283850432,0.6810078468408596,0.6818473305583733,0.6825702193151212,0.6825119218347383,0.6731376869891683,0.6820338824955985,0.6824419648582788,0.681299334242774,0.682406986370049,0.6826051978033509,0.6823720078818194,0.6824186458661257,0.6792356034372194,0.6818589900544498,0.6753063532594121,0.6817890330779903,0.6824769433465085,0.6819989040073688,0.6824769433465085,0.6823603483857428,0.6822204344328238,0.6823486888896662,0.6820805204799049,0.6825818788111978,0.6827451117562698,0.6808329543997108,0.6822554129210535,0.6677276808096354,0.6824886028425852,0.6829666421817249,0.678221227278557,0.6828383877248825,0.6785943311530076,0.6819872445112922,0.6799235137057377,0.682686814275887,0.6825818788111978,0.6826285167955041,0.6825002623386617,0.6827217927641167,0.6828733662131122,0.6826168572994276,0.6813576317231569,0.6819989040073688,0.682908344701342,0.6817773735819138,0.6821971154406706,0.6830832371424908,0.6828383877248825,0.6824186458661257,0.6815441836603822,0.6804715100213369,0.682325369897513,0.6821621369524409,0.6825235813308149,0.6822554129210535,0.67960870731167,0.6830599181503375,0.6823836673778959,0.6824769433465085,0.6825119218347383,0.6818589900544498,0.6818356710622967,0.6825935383072743,0.6825002623386617,0.6827101332680402,0.6825702193151212,0.6824536243543554,0.6826751547798104,0.6774400410414262,0.682686814275887,0.6823486888896662,0.6828383877248825,0.6828034092366528,0.6822554129210535,0.6823720078818194,0.6813226532349271],\"type\":\"scatter\"},{\"mode\":\"lines\",\"name\":\"Best Value\",\"x\":[0,1,2,3,4,5,6,7,8,9,10,11,12,13,14,15,16,17,18,19,20,21,22,23,24,25,26,27,28,29,30,31,32,33,34,35,36,37,38,39,40,41,42,43,44,45,46,47,48,49,50,51,52,53,54,55,56,57,58,59,60,61,62,63,64,65,66,67,68,69,70,71,72,73,74,75,76,77,78,79,80,81,82,83,84,85,86,87,88,89,90,91,92,93,94,95,96,97,98,99],\"y\":[0.6813926102113866,0.6813926102113866,0.6813926102113866,0.682546900322968,0.682546900322968,0.682546900322968,0.6825585598190447,0.6825585598190447,0.6825585598190447,0.6825585598190447,0.6825585598190447,0.6825585598190447,0.6825585598190447,0.6825585598190447,0.6825585598190447,0.6825585598190447,0.6825585598190447,0.683048258654261,0.683048258654261,0.683048258654261,0.683048258654261,0.683048258654261,0.683048258654261,0.683048258654261,0.683048258654261,0.683048258654261,0.683048258654261,0.683048258654261,0.683048258654261,0.683048258654261,0.683048258654261,0.683048258654261,0.683048258654261,0.683048258654261,0.683048258654261,0.683048258654261,0.683048258654261,0.683048258654261,0.683048258654261,0.683048258654261,0.683048258654261,0.683048258654261,0.683048258654261,0.683048258654261,0.683048258654261,0.683048258654261,0.683048258654261,0.683048258654261,0.683048258654261,0.683048258654261,0.683048258654261,0.683048258654261,0.683048258654261,0.683048258654261,0.683048258654261,0.683048258654261,0.683048258654261,0.683048258654261,0.683048258654261,0.683048258654261,0.683048258654261,0.683048258654261,0.683048258654261,0.683048258654261,0.683048258654261,0.683048258654261,0.683048258654261,0.683048258654261,0.683048258654261,0.683048258654261,0.6830832371424908,0.6830832371424908,0.6830832371424908,0.6830832371424908,0.6830832371424908,0.6830832371424908,0.6830832371424908,0.6830832371424908,0.6830832371424908,0.6830832371424908,0.6830832371424908,0.6830832371424908,0.6830832371424908,0.6830832371424908,0.6830832371424908,0.6830832371424908,0.6830832371424908,0.6830832371424908,0.6830832371424908,0.6830832371424908,0.6830832371424908,0.6830832371424908,0.6830832371424908,0.6830832371424908,0.6830832371424908,0.6830832371424908,0.6830832371424908,0.6830832371424908,0.6830832371424908,0.6830832371424908],\"type\":\"scatter\"},{\"marker\":{\"color\":\"#cccccc\"},\"mode\":\"markers\",\"name\":\"Infeasible Trial\",\"showlegend\":false,\"x\":[],\"y\":[],\"type\":\"scatter\"}],                        {\"title\":{\"text\":\"Optimization History Plot\"},\"xaxis\":{\"title\":{\"text\":\"Trial\"}},\"yaxis\":{\"title\":{\"text\":\"Objective Value\"}},\"template\":{\"data\":{\"histogram2dcontour\":[{\"type\":\"histogram2dcontour\",\"colorbar\":{\"outlinewidth\":0,\"ticks\":\"\"},\"colorscale\":[[0.0,\"#0d0887\"],[0.1111111111111111,\"#46039f\"],[0.2222222222222222,\"#7201a8\"],[0.3333333333333333,\"#9c179e\"],[0.4444444444444444,\"#bd3786\"],[0.5555555555555556,\"#d8576b\"],[0.6666666666666666,\"#ed7953\"],[0.7777777777777778,\"#fb9f3a\"],[0.8888888888888888,\"#fdca26\"],[1.0,\"#f0f921\"]]}],\"choropleth\":[{\"type\":\"choropleth\",\"colorbar\":{\"outlinewidth\":0,\"ticks\":\"\"}}],\"histogram2d\":[{\"type\":\"histogram2d\",\"colorbar\":{\"outlinewidth\":0,\"ticks\":\"\"},\"colorscale\":[[0.0,\"#0d0887\"],[0.1111111111111111,\"#46039f\"],[0.2222222222222222,\"#7201a8\"],[0.3333333333333333,\"#9c179e\"],[0.4444444444444444,\"#bd3786\"],[0.5555555555555556,\"#d8576b\"],[0.6666666666666666,\"#ed7953\"],[0.7777777777777778,\"#fb9f3a\"],[0.8888888888888888,\"#fdca26\"],[1.0,\"#f0f921\"]]}],\"heatmap\":[{\"type\":\"heatmap\",\"colorbar\":{\"outlinewidth\":0,\"ticks\":\"\"},\"colorscale\":[[0.0,\"#0d0887\"],[0.1111111111111111,\"#46039f\"],[0.2222222222222222,\"#7201a8\"],[0.3333333333333333,\"#9c179e\"],[0.4444444444444444,\"#bd3786\"],[0.5555555555555556,\"#d8576b\"],[0.6666666666666666,\"#ed7953\"],[0.7777777777777778,\"#fb9f3a\"],[0.8888888888888888,\"#fdca26\"],[1.0,\"#f0f921\"]]}],\"heatmapgl\":[{\"type\":\"heatmapgl\",\"colorbar\":{\"outlinewidth\":0,\"ticks\":\"\"},\"colorscale\":[[0.0,\"#0d0887\"],[0.1111111111111111,\"#46039f\"],[0.2222222222222222,\"#7201a8\"],[0.3333333333333333,\"#9c179e\"],[0.4444444444444444,\"#bd3786\"],[0.5555555555555556,\"#d8576b\"],[0.6666666666666666,\"#ed7953\"],[0.7777777777777778,\"#fb9f3a\"],[0.8888888888888888,\"#fdca26\"],[1.0,\"#f0f921\"]]}],\"contourcarpet\":[{\"type\":\"contourcarpet\",\"colorbar\":{\"outlinewidth\":0,\"ticks\":\"\"}}],\"contour\":[{\"type\":\"contour\",\"colorbar\":{\"outlinewidth\":0,\"ticks\":\"\"},\"colorscale\":[[0.0,\"#0d0887\"],[0.1111111111111111,\"#46039f\"],[0.2222222222222222,\"#7201a8\"],[0.3333333333333333,\"#9c179e\"],[0.4444444444444444,\"#bd3786\"],[0.5555555555555556,\"#d8576b\"],[0.6666666666666666,\"#ed7953\"],[0.7777777777777778,\"#fb9f3a\"],[0.8888888888888888,\"#fdca26\"],[1.0,\"#f0f921\"]]}],\"surface\":[{\"type\":\"surface\",\"colorbar\":{\"outlinewidth\":0,\"ticks\":\"\"},\"colorscale\":[[0.0,\"#0d0887\"],[0.1111111111111111,\"#46039f\"],[0.2222222222222222,\"#7201a8\"],[0.3333333333333333,\"#9c179e\"],[0.4444444444444444,\"#bd3786\"],[0.5555555555555556,\"#d8576b\"],[0.6666666666666666,\"#ed7953\"],[0.7777777777777778,\"#fb9f3a\"],[0.8888888888888888,\"#fdca26\"],[1.0,\"#f0f921\"]]}],\"mesh3d\":[{\"type\":\"mesh3d\",\"colorbar\":{\"outlinewidth\":0,\"ticks\":\"\"}}],\"scatter\":[{\"fillpattern\":{\"fillmode\":\"overlay\",\"size\":10,\"solidity\":0.2},\"type\":\"scatter\"}],\"parcoords\":[{\"type\":\"parcoords\",\"line\":{\"colorbar\":{\"outlinewidth\":0,\"ticks\":\"\"}}}],\"scatterpolargl\":[{\"type\":\"scatterpolargl\",\"marker\":{\"colorbar\":{\"outlinewidth\":0,\"ticks\":\"\"}}}],\"bar\":[{\"error_x\":{\"color\":\"#2a3f5f\"},\"error_y\":{\"color\":\"#2a3f5f\"},\"marker\":{\"line\":{\"color\":\"#E5ECF6\",\"width\":0.5},\"pattern\":{\"fillmode\":\"overlay\",\"size\":10,\"solidity\":0.2}},\"type\":\"bar\"}],\"scattergeo\":[{\"type\":\"scattergeo\",\"marker\":{\"colorbar\":{\"outlinewidth\":0,\"ticks\":\"\"}}}],\"scatterpolar\":[{\"type\":\"scatterpolar\",\"marker\":{\"colorbar\":{\"outlinewidth\":0,\"ticks\":\"\"}}}],\"histogram\":[{\"marker\":{\"pattern\":{\"fillmode\":\"overlay\",\"size\":10,\"solidity\":0.2}},\"type\":\"histogram\"}],\"scattergl\":[{\"type\":\"scattergl\",\"marker\":{\"colorbar\":{\"outlinewidth\":0,\"ticks\":\"\"}}}],\"scatter3d\":[{\"type\":\"scatter3d\",\"line\":{\"colorbar\":{\"outlinewidth\":0,\"ticks\":\"\"}},\"marker\":{\"colorbar\":{\"outlinewidth\":0,\"ticks\":\"\"}}}],\"scattermapbox\":[{\"type\":\"scattermapbox\",\"marker\":{\"colorbar\":{\"outlinewidth\":0,\"ticks\":\"\"}}}],\"scatterternary\":[{\"type\":\"scatterternary\",\"marker\":{\"colorbar\":{\"outlinewidth\":0,\"ticks\":\"\"}}}],\"scattercarpet\":[{\"type\":\"scattercarpet\",\"marker\":{\"colorbar\":{\"outlinewidth\":0,\"ticks\":\"\"}}}],\"carpet\":[{\"aaxis\":{\"endlinecolor\":\"#2a3f5f\",\"gridcolor\":\"white\",\"linecolor\":\"white\",\"minorgridcolor\":\"white\",\"startlinecolor\":\"#2a3f5f\"},\"baxis\":{\"endlinecolor\":\"#2a3f5f\",\"gridcolor\":\"white\",\"linecolor\":\"white\",\"minorgridcolor\":\"white\",\"startlinecolor\":\"#2a3f5f\"},\"type\":\"carpet\"}],\"table\":[{\"cells\":{\"fill\":{\"color\":\"#EBF0F8\"},\"line\":{\"color\":\"white\"}},\"header\":{\"fill\":{\"color\":\"#C8D4E3\"},\"line\":{\"color\":\"white\"}},\"type\":\"table\"}],\"barpolar\":[{\"marker\":{\"line\":{\"color\":\"#E5ECF6\",\"width\":0.5},\"pattern\":{\"fillmode\":\"overlay\",\"size\":10,\"solidity\":0.2}},\"type\":\"barpolar\"}],\"pie\":[{\"automargin\":true,\"type\":\"pie\"}]},\"layout\":{\"autotypenumbers\":\"strict\",\"colorway\":[\"#636efa\",\"#EF553B\",\"#00cc96\",\"#ab63fa\",\"#FFA15A\",\"#19d3f3\",\"#FF6692\",\"#B6E880\",\"#FF97FF\",\"#FECB52\"],\"font\":{\"color\":\"#2a3f5f\"},\"hovermode\":\"closest\",\"hoverlabel\":{\"align\":\"left\"},\"paper_bgcolor\":\"white\",\"plot_bgcolor\":\"#E5ECF6\",\"polar\":{\"bgcolor\":\"#E5ECF6\",\"angularaxis\":{\"gridcolor\":\"white\",\"linecolor\":\"white\",\"ticks\":\"\"},\"radialaxis\":{\"gridcolor\":\"white\",\"linecolor\":\"white\",\"ticks\":\"\"}},\"ternary\":{\"bgcolor\":\"#E5ECF6\",\"aaxis\":{\"gridcolor\":\"white\",\"linecolor\":\"white\",\"ticks\":\"\"},\"baxis\":{\"gridcolor\":\"white\",\"linecolor\":\"white\",\"ticks\":\"\"},\"caxis\":{\"gridcolor\":\"white\",\"linecolor\":\"white\",\"ticks\":\"\"}},\"coloraxis\":{\"colorbar\":{\"outlinewidth\":0,\"ticks\":\"\"}},\"colorscale\":{\"sequential\":[[0.0,\"#0d0887\"],[0.1111111111111111,\"#46039f\"],[0.2222222222222222,\"#7201a8\"],[0.3333333333333333,\"#9c179e\"],[0.4444444444444444,\"#bd3786\"],[0.5555555555555556,\"#d8576b\"],[0.6666666666666666,\"#ed7953\"],[0.7777777777777778,\"#fb9f3a\"],[0.8888888888888888,\"#fdca26\"],[1.0,\"#f0f921\"]],\"sequentialminus\":[[0.0,\"#0d0887\"],[0.1111111111111111,\"#46039f\"],[0.2222222222222222,\"#7201a8\"],[0.3333333333333333,\"#9c179e\"],[0.4444444444444444,\"#bd3786\"],[0.5555555555555556,\"#d8576b\"],[0.6666666666666666,\"#ed7953\"],[0.7777777777777778,\"#fb9f3a\"],[0.8888888888888888,\"#fdca26\"],[1.0,\"#f0f921\"]],\"diverging\":[[0,\"#8e0152\"],[0.1,\"#c51b7d\"],[0.2,\"#de77ae\"],[0.3,\"#f1b6da\"],[0.4,\"#fde0ef\"],[0.5,\"#f7f7f7\"],[0.6,\"#e6f5d0\"],[0.7,\"#b8e186\"],[0.8,\"#7fbc41\"],[0.9,\"#4d9221\"],[1,\"#276419\"]]},\"xaxis\":{\"gridcolor\":\"white\",\"linecolor\":\"white\",\"ticks\":\"\",\"title\":{\"standoff\":15},\"zerolinecolor\":\"white\",\"automargin\":true,\"zerolinewidth\":2},\"yaxis\":{\"gridcolor\":\"white\",\"linecolor\":\"white\",\"ticks\":\"\",\"title\":{\"standoff\":15},\"zerolinecolor\":\"white\",\"automargin\":true,\"zerolinewidth\":2},\"scene\":{\"xaxis\":{\"backgroundcolor\":\"#E5ECF6\",\"gridcolor\":\"white\",\"linecolor\":\"white\",\"showbackground\":true,\"ticks\":\"\",\"zerolinecolor\":\"white\",\"gridwidth\":2},\"yaxis\":{\"backgroundcolor\":\"#E5ECF6\",\"gridcolor\":\"white\",\"linecolor\":\"white\",\"showbackground\":true,\"ticks\":\"\",\"zerolinecolor\":\"white\",\"gridwidth\":2},\"zaxis\":{\"backgroundcolor\":\"#E5ECF6\",\"gridcolor\":\"white\",\"linecolor\":\"white\",\"showbackground\":true,\"ticks\":\"\",\"zerolinecolor\":\"white\",\"gridwidth\":2}},\"shapedefaults\":{\"line\":{\"color\":\"#2a3f5f\"}},\"annotationdefaults\":{\"arrowcolor\":\"#2a3f5f\",\"arrowhead\":0,\"arrowwidth\":1},\"geo\":{\"bgcolor\":\"white\",\"landcolor\":\"#E5ECF6\",\"subunitcolor\":\"white\",\"showland\":true,\"showlakes\":true,\"lakecolor\":\"white\"},\"title\":{\"x\":0.05},\"mapbox\":{\"style\":\"light\"}}}},                        {\"responsive\": true}                    )                };                            </script>        </div>"
      ],
      "text/plain": [
       "Figure({\n",
       "    'data': [{'mode': 'markers',\n",
       "              'name': 'Objective Value',\n",
       "              'type': 'scatter',\n",
       "              'x': [0, 1, 2, 3, 4, 5, 6, 7, 8, 9, 10, 11, 12, 13, 14, 15, 16, 17,\n",
       "                    18, 19, 20, 21, 22, 23, 24, 25, 26, 27, 28, 29, 30, 31, 32, 33,\n",
       "                    34, 35, 36, 37, 38, 39, 40, 41, 42, 43, 44, 45, 46, 47, 48, 49,\n",
       "                    50, 51, 52, 53, 54, 55, 56, 57, 58, 59, 60, 61, 62, 63, 64, 65,\n",
       "                    66, 67, 68, 69, 70, 71, 72, 73, 74, 75, 76, 77, 78, 79, 80, 81,\n",
       "                    82, 83, 84, 85, 86, 87, 88, 89, 90, 91, 92, 93, 94, 95, 96, 97,\n",
       "                    98, 99],\n",
       "              'y': [0.6813926102113866, 0.6769969801905161, 0.681217717770238,\n",
       "                    0.682546900322968, 0.6811594202898551, 0.6711905511443795,\n",
       "                    0.6825585598190447, 0.682465283850432, 0.6818939685426796,\n",
       "                    0.680634742966409, 0.6824769433465085, 0.6824536243543554,\n",
       "                    0.6781745892942507, 0.6824186458661257, 0.6789557755313815,\n",
       "                    0.6821971154406706, 0.6801567036272692, 0.683048258654261,\n",
       "                    0.6825119218347383, 0.6796436857998998, 0.6791539869646834,\n",
       "                    0.682406986370049, 0.682465283850432, 0.6810078468408596,\n",
       "                    0.6818473305583733, 0.6825702193151212, 0.6825119218347383,\n",
       "                    0.6731376869891683, 0.6820338824955985, 0.6824419648582788,\n",
       "                    0.681299334242774, 0.682406986370049, 0.6826051978033509,\n",
       "                    0.6823720078818194, 0.6824186458661257, 0.6792356034372194,\n",
       "                    0.6818589900544498, 0.6753063532594121, 0.6817890330779903,\n",
       "                    0.6824769433465085, 0.6819989040073688, 0.6824769433465085,\n",
       "                    0.6823603483857428, 0.6822204344328238, 0.6823486888896662,\n",
       "                    0.6820805204799049, 0.6825818788111978, 0.6827451117562698,\n",
       "                    0.6808329543997108, 0.6822554129210535, 0.6677276808096354,\n",
       "                    0.6824886028425852, 0.6829666421817249, 0.678221227278557,\n",
       "                    0.6828383877248825, 0.6785943311530076, 0.6819872445112922,\n",
       "                    0.6799235137057377, 0.682686814275887, 0.6825818788111978,\n",
       "                    0.6826285167955041, 0.6825002623386617, 0.6827217927641167,\n",
       "                    0.6828733662131122, 0.6826168572994276, 0.6813576317231569,\n",
       "                    0.6819989040073688, 0.682908344701342, 0.6817773735819138,\n",
       "                    0.6821971154406706, 0.6830832371424908, 0.6828383877248825,\n",
       "                    0.6824186458661257, 0.6815441836603822, 0.6804715100213369,\n",
       "                    0.682325369897513, 0.6821621369524409, 0.6825235813308149,\n",
       "                    0.6822554129210535, 0.67960870731167, 0.6830599181503375,\n",
       "                    0.6823836673778959, 0.6824769433465085, 0.6825119218347383,\n",
       "                    0.6818589900544498, 0.6818356710622967, 0.6825935383072743,\n",
       "                    0.6825002623386617, 0.6827101332680402, 0.6825702193151212,\n",
       "                    0.6824536243543554, 0.6826751547798104, 0.6774400410414262,\n",
       "                    0.682686814275887, 0.6823486888896662, 0.6828383877248825,\n",
       "                    0.6828034092366528, 0.6822554129210535, 0.6823720078818194,\n",
       "                    0.6813226532349271]},\n",
       "             {'mode': 'lines',\n",
       "              'name': 'Best Value',\n",
       "              'type': 'scatter',\n",
       "              'x': [0, 1, 2, 3, 4, 5, 6, 7, 8, 9, 10, 11, 12, 13, 14, 15, 16, 17,\n",
       "                    18, 19, 20, 21, 22, 23, 24, 25, 26, 27, 28, 29, 30, 31, 32, 33,\n",
       "                    34, 35, 36, 37, 38, 39, 40, 41, 42, 43, 44, 45, 46, 47, 48, 49,\n",
       "                    50, 51, 52, 53, 54, 55, 56, 57, 58, 59, 60, 61, 62, 63, 64, 65,\n",
       "                    66, 67, 68, 69, 70, 71, 72, 73, 74, 75, 76, 77, 78, 79, 80, 81,\n",
       "                    82, 83, 84, 85, 86, 87, 88, 89, 90, 91, 92, 93, 94, 95, 96, 97,\n",
       "                    98, 99],\n",
       "              'y': [0.6813926102113866, 0.6813926102113866, 0.6813926102113866,\n",
       "                    0.682546900322968, 0.682546900322968, 0.682546900322968,\n",
       "                    0.6825585598190447, 0.6825585598190447, 0.6825585598190447,\n",
       "                    0.6825585598190447, 0.6825585598190447, 0.6825585598190447,\n",
       "                    0.6825585598190447, 0.6825585598190447, 0.6825585598190447,\n",
       "                    0.6825585598190447, 0.6825585598190447, 0.683048258654261,\n",
       "                    0.683048258654261, 0.683048258654261, 0.683048258654261,\n",
       "                    0.683048258654261, 0.683048258654261, 0.683048258654261,\n",
       "                    0.683048258654261, 0.683048258654261, 0.683048258654261,\n",
       "                    0.683048258654261, 0.683048258654261, 0.683048258654261,\n",
       "                    0.683048258654261, 0.683048258654261, 0.683048258654261,\n",
       "                    0.683048258654261, 0.683048258654261, 0.683048258654261,\n",
       "                    0.683048258654261, 0.683048258654261, 0.683048258654261,\n",
       "                    0.683048258654261, 0.683048258654261, 0.683048258654261,\n",
       "                    0.683048258654261, 0.683048258654261, 0.683048258654261,\n",
       "                    0.683048258654261, 0.683048258654261, 0.683048258654261,\n",
       "                    0.683048258654261, 0.683048258654261, 0.683048258654261,\n",
       "                    0.683048258654261, 0.683048258654261, 0.683048258654261,\n",
       "                    0.683048258654261, 0.683048258654261, 0.683048258654261,\n",
       "                    0.683048258654261, 0.683048258654261, 0.683048258654261,\n",
       "                    0.683048258654261, 0.683048258654261, 0.683048258654261,\n",
       "                    0.683048258654261, 0.683048258654261, 0.683048258654261,\n",
       "                    0.683048258654261, 0.683048258654261, 0.683048258654261,\n",
       "                    0.683048258654261, 0.6830832371424908, 0.6830832371424908,\n",
       "                    0.6830832371424908, 0.6830832371424908, 0.6830832371424908,\n",
       "                    0.6830832371424908, 0.6830832371424908, 0.6830832371424908,\n",
       "                    0.6830832371424908, 0.6830832371424908, 0.6830832371424908,\n",
       "                    0.6830832371424908, 0.6830832371424908, 0.6830832371424908,\n",
       "                    0.6830832371424908, 0.6830832371424908, 0.6830832371424908,\n",
       "                    0.6830832371424908, 0.6830832371424908, 0.6830832371424908,\n",
       "                    0.6830832371424908, 0.6830832371424908, 0.6830832371424908,\n",
       "                    0.6830832371424908, 0.6830832371424908, 0.6830832371424908,\n",
       "                    0.6830832371424908, 0.6830832371424908, 0.6830832371424908,\n",
       "                    0.6830832371424908]},\n",
       "             {'marker': {'color': '#cccccc'},\n",
       "              'mode': 'markers',\n",
       "              'name': 'Infeasible Trial',\n",
       "              'showlegend': False,\n",
       "              'type': 'scatter',\n",
       "              'x': [],\n",
       "              'y': []}],\n",
       "    'layout': {'template': '...',\n",
       "               'title': {'text': 'Optimization History Plot'},\n",
       "               'xaxis': {'title': {'text': 'Trial'}},\n",
       "               'yaxis': {'title': {'text': 'Objective Value'}}}\n",
       "})"
      ]
     },
     "execution_count": 21,
     "metadata": {},
     "output_type": "execute_result"
    }
   ],
   "source": [
    "plot_optimization_history(study)"
   ]
  },
  {
   "cell_type": "code",
   "execution_count": 22,
   "metadata": {},
   "outputs": [
    {
     "ename": "ValueError",
     "evalue": "Mime type rendering requires nbformat>=4.2.0 but it is not installed",
     "output_type": "error",
     "traceback": [
      "\u001b[1;31m---------------------------------------------------------------------------\u001b[0m",
      "\u001b[1;31mValueError\u001b[0m                                Traceback (most recent call last)",
      "File \u001b[1;32m~\\AppData\\Roaming\\Python\\Python312\\site-packages\\IPython\\core\\formatters.py:925\u001b[0m, in \u001b[0;36mIPythonDisplayFormatter.__call__\u001b[1;34m(self, obj)\u001b[0m\n\u001b[0;32m    923\u001b[0m method \u001b[38;5;241m=\u001b[39m get_real_method(obj, \u001b[38;5;28mself\u001b[39m\u001b[38;5;241m.\u001b[39mprint_method)\n\u001b[0;32m    924\u001b[0m \u001b[38;5;28;01mif\u001b[39;00m method \u001b[38;5;129;01mis\u001b[39;00m \u001b[38;5;129;01mnot\u001b[39;00m \u001b[38;5;28;01mNone\u001b[39;00m:\n\u001b[1;32m--> 925\u001b[0m     \u001b[43mmethod\u001b[49m\u001b[43m(\u001b[49m\u001b[43m)\u001b[49m\n\u001b[0;32m    926\u001b[0m     \u001b[38;5;28;01mreturn\u001b[39;00m \u001b[38;5;28;01mTrue\u001b[39;00m\n",
      "File \u001b[1;32mc:\\Users\\Sarah\\anaconda3\\envs\\nba_env\\Lib\\site-packages\\plotly\\basedatatypes.py:832\u001b[0m, in \u001b[0;36mBaseFigure._ipython_display_\u001b[1;34m(self)\u001b[0m\n\u001b[0;32m    829\u001b[0m \u001b[38;5;28;01mimport\u001b[39;00m \u001b[38;5;21;01mplotly\u001b[39;00m\u001b[38;5;21;01m.\u001b[39;00m\u001b[38;5;21;01mio\u001b[39;00m \u001b[38;5;28;01mas\u001b[39;00m \u001b[38;5;21;01mpio\u001b[39;00m\n\u001b[0;32m    831\u001b[0m \u001b[38;5;28;01mif\u001b[39;00m pio\u001b[38;5;241m.\u001b[39mrenderers\u001b[38;5;241m.\u001b[39mrender_on_display \u001b[38;5;129;01mand\u001b[39;00m pio\u001b[38;5;241m.\u001b[39mrenderers\u001b[38;5;241m.\u001b[39mdefault:\n\u001b[1;32m--> 832\u001b[0m     \u001b[43mpio\u001b[49m\u001b[38;5;241;43m.\u001b[39;49m\u001b[43mshow\u001b[49m\u001b[43m(\u001b[49m\u001b[38;5;28;43mself\u001b[39;49m\u001b[43m)\u001b[49m\n\u001b[0;32m    833\u001b[0m \u001b[38;5;28;01melse\u001b[39;00m:\n\u001b[0;32m    834\u001b[0m     \u001b[38;5;28mprint\u001b[39m(\u001b[38;5;28mrepr\u001b[39m(\u001b[38;5;28mself\u001b[39m))\n",
      "File \u001b[1;32mc:\\Users\\Sarah\\anaconda3\\envs\\nba_env\\Lib\\site-packages\\plotly\\io\\_renderers.py:394\u001b[0m, in \u001b[0;36mshow\u001b[1;34m(fig, renderer, validate, **kwargs)\u001b[0m\n\u001b[0;32m    389\u001b[0m         \u001b[38;5;28;01mraise\u001b[39;00m \u001b[38;5;167;01mValueError\u001b[39;00m(\n\u001b[0;32m    390\u001b[0m             \u001b[38;5;124m\"\u001b[39m\u001b[38;5;124mMime type rendering requires ipython but it is not installed\u001b[39m\u001b[38;5;124m\"\u001b[39m\n\u001b[0;32m    391\u001b[0m         )\n\u001b[0;32m    393\u001b[0m     \u001b[38;5;28;01mif\u001b[39;00m \u001b[38;5;129;01mnot\u001b[39;00m nbformat \u001b[38;5;129;01mor\u001b[39;00m Version(nbformat\u001b[38;5;241m.\u001b[39m__version__) \u001b[38;5;241m<\u001b[39m Version(\u001b[38;5;124m\"\u001b[39m\u001b[38;5;124m4.2.0\u001b[39m\u001b[38;5;124m\"\u001b[39m):\n\u001b[1;32m--> 394\u001b[0m         \u001b[38;5;28;01mraise\u001b[39;00m \u001b[38;5;167;01mValueError\u001b[39;00m(\n\u001b[0;32m    395\u001b[0m             \u001b[38;5;124m\"\u001b[39m\u001b[38;5;124mMime type rendering requires nbformat>=4.2.0 but it is not installed\u001b[39m\u001b[38;5;124m\"\u001b[39m\n\u001b[0;32m    396\u001b[0m         )\n\u001b[0;32m    398\u001b[0m     ipython_display\u001b[38;5;241m.\u001b[39mdisplay(bundle, raw\u001b[38;5;241m=\u001b[39m\u001b[38;5;28;01mTrue\u001b[39;00m)\n\u001b[0;32m    400\u001b[0m \u001b[38;5;66;03m# external renderers\u001b[39;00m\n",
      "\u001b[1;31mValueError\u001b[0m: Mime type rendering requires nbformat>=4.2.0 but it is not installed"
     ]
    },
    {
     "data": {
      "application/vnd.plotly.v1+json": {
       "config": {
        "plotlyServerURL": "https://plot.ly"
       },
       "data": [
        {
         "cliponaxis": false,
         "hovertemplate": [
          "max_features (CategoricalDistribution): 0.002130241030473181<extra></extra>",
          "criterion (CategoricalDistribution): 0.009813921261843168<extra></extra>",
          "n_estimators (IntDistribution): 0.010857604327795995<extra></extra>",
          "min_samples_leaf (IntDistribution): 0.040664865875593544<extra></extra>",
          "min_samples_split (IntDistribution): 0.0467810252557338<extra></extra>",
          "max_depth (IntDistribution): 0.8897523422485603<extra></extra>"
         ],
         "name": "Objective Value",
         "orientation": "h",
         "text": [
          "<0.01",
          "<0.01",
          "0.01",
          "0.04",
          "0.05",
          "0.89"
         ],
         "textposition": "outside",
         "type": "bar",
         "x": [
          0.002130241030473181,
          0.009813921261843168,
          0.010857604327795995,
          0.040664865875593544,
          0.0467810252557338,
          0.8897523422485603
         ],
         "y": [
          "max_features",
          "criterion",
          "n_estimators",
          "min_samples_leaf",
          "min_samples_split",
          "max_depth"
         ]
        }
       ],
       "layout": {
        "template": {
         "data": {
          "bar": [
           {
            "error_x": {
             "color": "#2a3f5f"
            },
            "error_y": {
             "color": "#2a3f5f"
            },
            "marker": {
             "line": {
              "color": "#E5ECF6",
              "width": 0.5
             },
             "pattern": {
              "fillmode": "overlay",
              "size": 10,
              "solidity": 0.2
             }
            },
            "type": "bar"
           }
          ],
          "barpolar": [
           {
            "marker": {
             "line": {
              "color": "#E5ECF6",
              "width": 0.5
             },
             "pattern": {
              "fillmode": "overlay",
              "size": 10,
              "solidity": 0.2
             }
            },
            "type": "barpolar"
           }
          ],
          "carpet": [
           {
            "aaxis": {
             "endlinecolor": "#2a3f5f",
             "gridcolor": "white",
             "linecolor": "white",
             "minorgridcolor": "white",
             "startlinecolor": "#2a3f5f"
            },
            "baxis": {
             "endlinecolor": "#2a3f5f",
             "gridcolor": "white",
             "linecolor": "white",
             "minorgridcolor": "white",
             "startlinecolor": "#2a3f5f"
            },
            "type": "carpet"
           }
          ],
          "choropleth": [
           {
            "colorbar": {
             "outlinewidth": 0,
             "ticks": ""
            },
            "type": "choropleth"
           }
          ],
          "contour": [
           {
            "colorbar": {
             "outlinewidth": 0,
             "ticks": ""
            },
            "colorscale": [
             [
              0,
              "#0d0887"
             ],
             [
              0.1111111111111111,
              "#46039f"
             ],
             [
              0.2222222222222222,
              "#7201a8"
             ],
             [
              0.3333333333333333,
              "#9c179e"
             ],
             [
              0.4444444444444444,
              "#bd3786"
             ],
             [
              0.5555555555555556,
              "#d8576b"
             ],
             [
              0.6666666666666666,
              "#ed7953"
             ],
             [
              0.7777777777777778,
              "#fb9f3a"
             ],
             [
              0.8888888888888888,
              "#fdca26"
             ],
             [
              1,
              "#f0f921"
             ]
            ],
            "type": "contour"
           }
          ],
          "contourcarpet": [
           {
            "colorbar": {
             "outlinewidth": 0,
             "ticks": ""
            },
            "type": "contourcarpet"
           }
          ],
          "heatmap": [
           {
            "colorbar": {
             "outlinewidth": 0,
             "ticks": ""
            },
            "colorscale": [
             [
              0,
              "#0d0887"
             ],
             [
              0.1111111111111111,
              "#46039f"
             ],
             [
              0.2222222222222222,
              "#7201a8"
             ],
             [
              0.3333333333333333,
              "#9c179e"
             ],
             [
              0.4444444444444444,
              "#bd3786"
             ],
             [
              0.5555555555555556,
              "#d8576b"
             ],
             [
              0.6666666666666666,
              "#ed7953"
             ],
             [
              0.7777777777777778,
              "#fb9f3a"
             ],
             [
              0.8888888888888888,
              "#fdca26"
             ],
             [
              1,
              "#f0f921"
             ]
            ],
            "type": "heatmap"
           }
          ],
          "heatmapgl": [
           {
            "colorbar": {
             "outlinewidth": 0,
             "ticks": ""
            },
            "colorscale": [
             [
              0,
              "#0d0887"
             ],
             [
              0.1111111111111111,
              "#46039f"
             ],
             [
              0.2222222222222222,
              "#7201a8"
             ],
             [
              0.3333333333333333,
              "#9c179e"
             ],
             [
              0.4444444444444444,
              "#bd3786"
             ],
             [
              0.5555555555555556,
              "#d8576b"
             ],
             [
              0.6666666666666666,
              "#ed7953"
             ],
             [
              0.7777777777777778,
              "#fb9f3a"
             ],
             [
              0.8888888888888888,
              "#fdca26"
             ],
             [
              1,
              "#f0f921"
             ]
            ],
            "type": "heatmapgl"
           }
          ],
          "histogram": [
           {
            "marker": {
             "pattern": {
              "fillmode": "overlay",
              "size": 10,
              "solidity": 0.2
             }
            },
            "type": "histogram"
           }
          ],
          "histogram2d": [
           {
            "colorbar": {
             "outlinewidth": 0,
             "ticks": ""
            },
            "colorscale": [
             [
              0,
              "#0d0887"
             ],
             [
              0.1111111111111111,
              "#46039f"
             ],
             [
              0.2222222222222222,
              "#7201a8"
             ],
             [
              0.3333333333333333,
              "#9c179e"
             ],
             [
              0.4444444444444444,
              "#bd3786"
             ],
             [
              0.5555555555555556,
              "#d8576b"
             ],
             [
              0.6666666666666666,
              "#ed7953"
             ],
             [
              0.7777777777777778,
              "#fb9f3a"
             ],
             [
              0.8888888888888888,
              "#fdca26"
             ],
             [
              1,
              "#f0f921"
             ]
            ],
            "type": "histogram2d"
           }
          ],
          "histogram2dcontour": [
           {
            "colorbar": {
             "outlinewidth": 0,
             "ticks": ""
            },
            "colorscale": [
             [
              0,
              "#0d0887"
             ],
             [
              0.1111111111111111,
              "#46039f"
             ],
             [
              0.2222222222222222,
              "#7201a8"
             ],
             [
              0.3333333333333333,
              "#9c179e"
             ],
             [
              0.4444444444444444,
              "#bd3786"
             ],
             [
              0.5555555555555556,
              "#d8576b"
             ],
             [
              0.6666666666666666,
              "#ed7953"
             ],
             [
              0.7777777777777778,
              "#fb9f3a"
             ],
             [
              0.8888888888888888,
              "#fdca26"
             ],
             [
              1,
              "#f0f921"
             ]
            ],
            "type": "histogram2dcontour"
           }
          ],
          "mesh3d": [
           {
            "colorbar": {
             "outlinewidth": 0,
             "ticks": ""
            },
            "type": "mesh3d"
           }
          ],
          "parcoords": [
           {
            "line": {
             "colorbar": {
              "outlinewidth": 0,
              "ticks": ""
             }
            },
            "type": "parcoords"
           }
          ],
          "pie": [
           {
            "automargin": true,
            "type": "pie"
           }
          ],
          "scatter": [
           {
            "fillpattern": {
             "fillmode": "overlay",
             "size": 10,
             "solidity": 0.2
            },
            "type": "scatter"
           }
          ],
          "scatter3d": [
           {
            "line": {
             "colorbar": {
              "outlinewidth": 0,
              "ticks": ""
             }
            },
            "marker": {
             "colorbar": {
              "outlinewidth": 0,
              "ticks": ""
             }
            },
            "type": "scatter3d"
           }
          ],
          "scattercarpet": [
           {
            "marker": {
             "colorbar": {
              "outlinewidth": 0,
              "ticks": ""
             }
            },
            "type": "scattercarpet"
           }
          ],
          "scattergeo": [
           {
            "marker": {
             "colorbar": {
              "outlinewidth": 0,
              "ticks": ""
             }
            },
            "type": "scattergeo"
           }
          ],
          "scattergl": [
           {
            "marker": {
             "colorbar": {
              "outlinewidth": 0,
              "ticks": ""
             }
            },
            "type": "scattergl"
           }
          ],
          "scattermapbox": [
           {
            "marker": {
             "colorbar": {
              "outlinewidth": 0,
              "ticks": ""
             }
            },
            "type": "scattermapbox"
           }
          ],
          "scatterpolar": [
           {
            "marker": {
             "colorbar": {
              "outlinewidth": 0,
              "ticks": ""
             }
            },
            "type": "scatterpolar"
           }
          ],
          "scatterpolargl": [
           {
            "marker": {
             "colorbar": {
              "outlinewidth": 0,
              "ticks": ""
             }
            },
            "type": "scatterpolargl"
           }
          ],
          "scatterternary": [
           {
            "marker": {
             "colorbar": {
              "outlinewidth": 0,
              "ticks": ""
             }
            },
            "type": "scatterternary"
           }
          ],
          "surface": [
           {
            "colorbar": {
             "outlinewidth": 0,
             "ticks": ""
            },
            "colorscale": [
             [
              0,
              "#0d0887"
             ],
             [
              0.1111111111111111,
              "#46039f"
             ],
             [
              0.2222222222222222,
              "#7201a8"
             ],
             [
              0.3333333333333333,
              "#9c179e"
             ],
             [
              0.4444444444444444,
              "#bd3786"
             ],
             [
              0.5555555555555556,
              "#d8576b"
             ],
             [
              0.6666666666666666,
              "#ed7953"
             ],
             [
              0.7777777777777778,
              "#fb9f3a"
             ],
             [
              0.8888888888888888,
              "#fdca26"
             ],
             [
              1,
              "#f0f921"
             ]
            ],
            "type": "surface"
           }
          ],
          "table": [
           {
            "cells": {
             "fill": {
              "color": "#EBF0F8"
             },
             "line": {
              "color": "white"
             }
            },
            "header": {
             "fill": {
              "color": "#C8D4E3"
             },
             "line": {
              "color": "white"
             }
            },
            "type": "table"
           }
          ]
         },
         "layout": {
          "annotationdefaults": {
           "arrowcolor": "#2a3f5f",
           "arrowhead": 0,
           "arrowwidth": 1
          },
          "autotypenumbers": "strict",
          "coloraxis": {
           "colorbar": {
            "outlinewidth": 0,
            "ticks": ""
           }
          },
          "colorscale": {
           "diverging": [
            [
             0,
             "#8e0152"
            ],
            [
             0.1,
             "#c51b7d"
            ],
            [
             0.2,
             "#de77ae"
            ],
            [
             0.3,
             "#f1b6da"
            ],
            [
             0.4,
             "#fde0ef"
            ],
            [
             0.5,
             "#f7f7f7"
            ],
            [
             0.6,
             "#e6f5d0"
            ],
            [
             0.7,
             "#b8e186"
            ],
            [
             0.8,
             "#7fbc41"
            ],
            [
             0.9,
             "#4d9221"
            ],
            [
             1,
             "#276419"
            ]
           ],
           "sequential": [
            [
             0,
             "#0d0887"
            ],
            [
             0.1111111111111111,
             "#46039f"
            ],
            [
             0.2222222222222222,
             "#7201a8"
            ],
            [
             0.3333333333333333,
             "#9c179e"
            ],
            [
             0.4444444444444444,
             "#bd3786"
            ],
            [
             0.5555555555555556,
             "#d8576b"
            ],
            [
             0.6666666666666666,
             "#ed7953"
            ],
            [
             0.7777777777777778,
             "#fb9f3a"
            ],
            [
             0.8888888888888888,
             "#fdca26"
            ],
            [
             1,
             "#f0f921"
            ]
           ],
           "sequentialminus": [
            [
             0,
             "#0d0887"
            ],
            [
             0.1111111111111111,
             "#46039f"
            ],
            [
             0.2222222222222222,
             "#7201a8"
            ],
            [
             0.3333333333333333,
             "#9c179e"
            ],
            [
             0.4444444444444444,
             "#bd3786"
            ],
            [
             0.5555555555555556,
             "#d8576b"
            ],
            [
             0.6666666666666666,
             "#ed7953"
            ],
            [
             0.7777777777777778,
             "#fb9f3a"
            ],
            [
             0.8888888888888888,
             "#fdca26"
            ],
            [
             1,
             "#f0f921"
            ]
           ]
          },
          "colorway": [
           "#636efa",
           "#EF553B",
           "#00cc96",
           "#ab63fa",
           "#FFA15A",
           "#19d3f3",
           "#FF6692",
           "#B6E880",
           "#FF97FF",
           "#FECB52"
          ],
          "font": {
           "color": "#2a3f5f"
          },
          "geo": {
           "bgcolor": "white",
           "lakecolor": "white",
           "landcolor": "#E5ECF6",
           "showlakes": true,
           "showland": true,
           "subunitcolor": "white"
          },
          "hoverlabel": {
           "align": "left"
          },
          "hovermode": "closest",
          "mapbox": {
           "style": "light"
          },
          "paper_bgcolor": "white",
          "plot_bgcolor": "#E5ECF6",
          "polar": {
           "angularaxis": {
            "gridcolor": "white",
            "linecolor": "white",
            "ticks": ""
           },
           "bgcolor": "#E5ECF6",
           "radialaxis": {
            "gridcolor": "white",
            "linecolor": "white",
            "ticks": ""
           }
          },
          "scene": {
           "xaxis": {
            "backgroundcolor": "#E5ECF6",
            "gridcolor": "white",
            "gridwidth": 2,
            "linecolor": "white",
            "showbackground": true,
            "ticks": "",
            "zerolinecolor": "white"
           },
           "yaxis": {
            "backgroundcolor": "#E5ECF6",
            "gridcolor": "white",
            "gridwidth": 2,
            "linecolor": "white",
            "showbackground": true,
            "ticks": "",
            "zerolinecolor": "white"
           },
           "zaxis": {
            "backgroundcolor": "#E5ECF6",
            "gridcolor": "white",
            "gridwidth": 2,
            "linecolor": "white",
            "showbackground": true,
            "ticks": "",
            "zerolinecolor": "white"
           }
          },
          "shapedefaults": {
           "line": {
            "color": "#2a3f5f"
           }
          },
          "ternary": {
           "aaxis": {
            "gridcolor": "white",
            "linecolor": "white",
            "ticks": ""
           },
           "baxis": {
            "gridcolor": "white",
            "linecolor": "white",
            "ticks": ""
           },
           "bgcolor": "#E5ECF6",
           "caxis": {
            "gridcolor": "white",
            "linecolor": "white",
            "ticks": ""
           }
          },
          "title": {
           "x": 0.05
          },
          "xaxis": {
           "automargin": true,
           "gridcolor": "white",
           "linecolor": "white",
           "ticks": "",
           "title": {
            "standoff": 15
           },
           "zerolinecolor": "white",
           "zerolinewidth": 2
          },
          "yaxis": {
           "automargin": true,
           "gridcolor": "white",
           "linecolor": "white",
           "ticks": "",
           "title": {
            "standoff": 15
           },
           "zerolinecolor": "white",
           "zerolinewidth": 2
          }
         }
        },
        "title": {
         "text": "Hyperparameter Importances"
        },
        "xaxis": {
         "title": {
          "text": "Hyperparameter Importance"
         }
        },
        "yaxis": {
         "title": {
          "text": "Hyperparameter"
         }
        }
       }
      },
      "text/html": [
       "<div>                        <script type=\"text/javascript\">window.PlotlyConfig = {MathJaxConfig: 'local'};</script>\n",
       "        <script charset=\"utf-8\" src=\"https://cdn.plot.ly/plotly-2.32.0.min.js\"></script>                <div id=\"86aebf9e-46af-4aff-b4c0-1d4a3c2beb51\" class=\"plotly-graph-div\" style=\"height:100%; width:100%;\"></div>            <script type=\"text/javascript\">                                    window.PLOTLYENV=window.PLOTLYENV || {};                                    if (document.getElementById(\"86aebf9e-46af-4aff-b4c0-1d4a3c2beb51\")) {                    Plotly.newPlot(                        \"86aebf9e-46af-4aff-b4c0-1d4a3c2beb51\",                        [{\"cliponaxis\":false,\"hovertemplate\":[\"max_features (CategoricalDistribution): 0.002130241030473181\\u003cextra\\u003e\\u003c\\u002fextra\\u003e\",\"criterion (CategoricalDistribution): 0.009813921261843168\\u003cextra\\u003e\\u003c\\u002fextra\\u003e\",\"n_estimators (IntDistribution): 0.010857604327795995\\u003cextra\\u003e\\u003c\\u002fextra\\u003e\",\"min_samples_leaf (IntDistribution): 0.040664865875593544\\u003cextra\\u003e\\u003c\\u002fextra\\u003e\",\"min_samples_split (IntDistribution): 0.0467810252557338\\u003cextra\\u003e\\u003c\\u002fextra\\u003e\",\"max_depth (IntDistribution): 0.8897523422485603\\u003cextra\\u003e\\u003c\\u002fextra\\u003e\"],\"name\":\"Objective Value\",\"orientation\":\"h\",\"text\":[\"\\u003c0.01\",\"\\u003c0.01\",\"0.01\",\"0.04\",\"0.05\",\"0.89\"],\"textposition\":\"outside\",\"x\":[0.002130241030473181,0.009813921261843168,0.010857604327795995,0.040664865875593544,0.0467810252557338,0.8897523422485603],\"y\":[\"max_features\",\"criterion\",\"n_estimators\",\"min_samples_leaf\",\"min_samples_split\",\"max_depth\"],\"type\":\"bar\"}],                        {\"title\":{\"text\":\"Hyperparameter Importances\"},\"xaxis\":{\"title\":{\"text\":\"Hyperparameter Importance\"}},\"yaxis\":{\"title\":{\"text\":\"Hyperparameter\"}},\"template\":{\"data\":{\"histogram2dcontour\":[{\"type\":\"histogram2dcontour\",\"colorbar\":{\"outlinewidth\":0,\"ticks\":\"\"},\"colorscale\":[[0.0,\"#0d0887\"],[0.1111111111111111,\"#46039f\"],[0.2222222222222222,\"#7201a8\"],[0.3333333333333333,\"#9c179e\"],[0.4444444444444444,\"#bd3786\"],[0.5555555555555556,\"#d8576b\"],[0.6666666666666666,\"#ed7953\"],[0.7777777777777778,\"#fb9f3a\"],[0.8888888888888888,\"#fdca26\"],[1.0,\"#f0f921\"]]}],\"choropleth\":[{\"type\":\"choropleth\",\"colorbar\":{\"outlinewidth\":0,\"ticks\":\"\"}}],\"histogram2d\":[{\"type\":\"histogram2d\",\"colorbar\":{\"outlinewidth\":0,\"ticks\":\"\"},\"colorscale\":[[0.0,\"#0d0887\"],[0.1111111111111111,\"#46039f\"],[0.2222222222222222,\"#7201a8\"],[0.3333333333333333,\"#9c179e\"],[0.4444444444444444,\"#bd3786\"],[0.5555555555555556,\"#d8576b\"],[0.6666666666666666,\"#ed7953\"],[0.7777777777777778,\"#fb9f3a\"],[0.8888888888888888,\"#fdca26\"],[1.0,\"#f0f921\"]]}],\"heatmap\":[{\"type\":\"heatmap\",\"colorbar\":{\"outlinewidth\":0,\"ticks\":\"\"},\"colorscale\":[[0.0,\"#0d0887\"],[0.1111111111111111,\"#46039f\"],[0.2222222222222222,\"#7201a8\"],[0.3333333333333333,\"#9c179e\"],[0.4444444444444444,\"#bd3786\"],[0.5555555555555556,\"#d8576b\"],[0.6666666666666666,\"#ed7953\"],[0.7777777777777778,\"#fb9f3a\"],[0.8888888888888888,\"#fdca26\"],[1.0,\"#f0f921\"]]}],\"heatmapgl\":[{\"type\":\"heatmapgl\",\"colorbar\":{\"outlinewidth\":0,\"ticks\":\"\"},\"colorscale\":[[0.0,\"#0d0887\"],[0.1111111111111111,\"#46039f\"],[0.2222222222222222,\"#7201a8\"],[0.3333333333333333,\"#9c179e\"],[0.4444444444444444,\"#bd3786\"],[0.5555555555555556,\"#d8576b\"],[0.6666666666666666,\"#ed7953\"],[0.7777777777777778,\"#fb9f3a\"],[0.8888888888888888,\"#fdca26\"],[1.0,\"#f0f921\"]]}],\"contourcarpet\":[{\"type\":\"contourcarpet\",\"colorbar\":{\"outlinewidth\":0,\"ticks\":\"\"}}],\"contour\":[{\"type\":\"contour\",\"colorbar\":{\"outlinewidth\":0,\"ticks\":\"\"},\"colorscale\":[[0.0,\"#0d0887\"],[0.1111111111111111,\"#46039f\"],[0.2222222222222222,\"#7201a8\"],[0.3333333333333333,\"#9c179e\"],[0.4444444444444444,\"#bd3786\"],[0.5555555555555556,\"#d8576b\"],[0.6666666666666666,\"#ed7953\"],[0.7777777777777778,\"#fb9f3a\"],[0.8888888888888888,\"#fdca26\"],[1.0,\"#f0f921\"]]}],\"surface\":[{\"type\":\"surface\",\"colorbar\":{\"outlinewidth\":0,\"ticks\":\"\"},\"colorscale\":[[0.0,\"#0d0887\"],[0.1111111111111111,\"#46039f\"],[0.2222222222222222,\"#7201a8\"],[0.3333333333333333,\"#9c179e\"],[0.4444444444444444,\"#bd3786\"],[0.5555555555555556,\"#d8576b\"],[0.6666666666666666,\"#ed7953\"],[0.7777777777777778,\"#fb9f3a\"],[0.8888888888888888,\"#fdca26\"],[1.0,\"#f0f921\"]]}],\"mesh3d\":[{\"type\":\"mesh3d\",\"colorbar\":{\"outlinewidth\":0,\"ticks\":\"\"}}],\"scatter\":[{\"fillpattern\":{\"fillmode\":\"overlay\",\"size\":10,\"solidity\":0.2},\"type\":\"scatter\"}],\"parcoords\":[{\"type\":\"parcoords\",\"line\":{\"colorbar\":{\"outlinewidth\":0,\"ticks\":\"\"}}}],\"scatterpolargl\":[{\"type\":\"scatterpolargl\",\"marker\":{\"colorbar\":{\"outlinewidth\":0,\"ticks\":\"\"}}}],\"bar\":[{\"error_x\":{\"color\":\"#2a3f5f\"},\"error_y\":{\"color\":\"#2a3f5f\"},\"marker\":{\"line\":{\"color\":\"#E5ECF6\",\"width\":0.5},\"pattern\":{\"fillmode\":\"overlay\",\"size\":10,\"solidity\":0.2}},\"type\":\"bar\"}],\"scattergeo\":[{\"type\":\"scattergeo\",\"marker\":{\"colorbar\":{\"outlinewidth\":0,\"ticks\":\"\"}}}],\"scatterpolar\":[{\"type\":\"scatterpolar\",\"marker\":{\"colorbar\":{\"outlinewidth\":0,\"ticks\":\"\"}}}],\"histogram\":[{\"marker\":{\"pattern\":{\"fillmode\":\"overlay\",\"size\":10,\"solidity\":0.2}},\"type\":\"histogram\"}],\"scattergl\":[{\"type\":\"scattergl\",\"marker\":{\"colorbar\":{\"outlinewidth\":0,\"ticks\":\"\"}}}],\"scatter3d\":[{\"type\":\"scatter3d\",\"line\":{\"colorbar\":{\"outlinewidth\":0,\"ticks\":\"\"}},\"marker\":{\"colorbar\":{\"outlinewidth\":0,\"ticks\":\"\"}}}],\"scattermapbox\":[{\"type\":\"scattermapbox\",\"marker\":{\"colorbar\":{\"outlinewidth\":0,\"ticks\":\"\"}}}],\"scatterternary\":[{\"type\":\"scatterternary\",\"marker\":{\"colorbar\":{\"outlinewidth\":0,\"ticks\":\"\"}}}],\"scattercarpet\":[{\"type\":\"scattercarpet\",\"marker\":{\"colorbar\":{\"outlinewidth\":0,\"ticks\":\"\"}}}],\"carpet\":[{\"aaxis\":{\"endlinecolor\":\"#2a3f5f\",\"gridcolor\":\"white\",\"linecolor\":\"white\",\"minorgridcolor\":\"white\",\"startlinecolor\":\"#2a3f5f\"},\"baxis\":{\"endlinecolor\":\"#2a3f5f\",\"gridcolor\":\"white\",\"linecolor\":\"white\",\"minorgridcolor\":\"white\",\"startlinecolor\":\"#2a3f5f\"},\"type\":\"carpet\"}],\"table\":[{\"cells\":{\"fill\":{\"color\":\"#EBF0F8\"},\"line\":{\"color\":\"white\"}},\"header\":{\"fill\":{\"color\":\"#C8D4E3\"},\"line\":{\"color\":\"white\"}},\"type\":\"table\"}],\"barpolar\":[{\"marker\":{\"line\":{\"color\":\"#E5ECF6\",\"width\":0.5},\"pattern\":{\"fillmode\":\"overlay\",\"size\":10,\"solidity\":0.2}},\"type\":\"barpolar\"}],\"pie\":[{\"automargin\":true,\"type\":\"pie\"}]},\"layout\":{\"autotypenumbers\":\"strict\",\"colorway\":[\"#636efa\",\"#EF553B\",\"#00cc96\",\"#ab63fa\",\"#FFA15A\",\"#19d3f3\",\"#FF6692\",\"#B6E880\",\"#FF97FF\",\"#FECB52\"],\"font\":{\"color\":\"#2a3f5f\"},\"hovermode\":\"closest\",\"hoverlabel\":{\"align\":\"left\"},\"paper_bgcolor\":\"white\",\"plot_bgcolor\":\"#E5ECF6\",\"polar\":{\"bgcolor\":\"#E5ECF6\",\"angularaxis\":{\"gridcolor\":\"white\",\"linecolor\":\"white\",\"ticks\":\"\"},\"radialaxis\":{\"gridcolor\":\"white\",\"linecolor\":\"white\",\"ticks\":\"\"}},\"ternary\":{\"bgcolor\":\"#E5ECF6\",\"aaxis\":{\"gridcolor\":\"white\",\"linecolor\":\"white\",\"ticks\":\"\"},\"baxis\":{\"gridcolor\":\"white\",\"linecolor\":\"white\",\"ticks\":\"\"},\"caxis\":{\"gridcolor\":\"white\",\"linecolor\":\"white\",\"ticks\":\"\"}},\"coloraxis\":{\"colorbar\":{\"outlinewidth\":0,\"ticks\":\"\"}},\"colorscale\":{\"sequential\":[[0.0,\"#0d0887\"],[0.1111111111111111,\"#46039f\"],[0.2222222222222222,\"#7201a8\"],[0.3333333333333333,\"#9c179e\"],[0.4444444444444444,\"#bd3786\"],[0.5555555555555556,\"#d8576b\"],[0.6666666666666666,\"#ed7953\"],[0.7777777777777778,\"#fb9f3a\"],[0.8888888888888888,\"#fdca26\"],[1.0,\"#f0f921\"]],\"sequentialminus\":[[0.0,\"#0d0887\"],[0.1111111111111111,\"#46039f\"],[0.2222222222222222,\"#7201a8\"],[0.3333333333333333,\"#9c179e\"],[0.4444444444444444,\"#bd3786\"],[0.5555555555555556,\"#d8576b\"],[0.6666666666666666,\"#ed7953\"],[0.7777777777777778,\"#fb9f3a\"],[0.8888888888888888,\"#fdca26\"],[1.0,\"#f0f921\"]],\"diverging\":[[0,\"#8e0152\"],[0.1,\"#c51b7d\"],[0.2,\"#de77ae\"],[0.3,\"#f1b6da\"],[0.4,\"#fde0ef\"],[0.5,\"#f7f7f7\"],[0.6,\"#e6f5d0\"],[0.7,\"#b8e186\"],[0.8,\"#7fbc41\"],[0.9,\"#4d9221\"],[1,\"#276419\"]]},\"xaxis\":{\"gridcolor\":\"white\",\"linecolor\":\"white\",\"ticks\":\"\",\"title\":{\"standoff\":15},\"zerolinecolor\":\"white\",\"automargin\":true,\"zerolinewidth\":2},\"yaxis\":{\"gridcolor\":\"white\",\"linecolor\":\"white\",\"ticks\":\"\",\"title\":{\"standoff\":15},\"zerolinecolor\":\"white\",\"automargin\":true,\"zerolinewidth\":2},\"scene\":{\"xaxis\":{\"backgroundcolor\":\"#E5ECF6\",\"gridcolor\":\"white\",\"linecolor\":\"white\",\"showbackground\":true,\"ticks\":\"\",\"zerolinecolor\":\"white\",\"gridwidth\":2},\"yaxis\":{\"backgroundcolor\":\"#E5ECF6\",\"gridcolor\":\"white\",\"linecolor\":\"white\",\"showbackground\":true,\"ticks\":\"\",\"zerolinecolor\":\"white\",\"gridwidth\":2},\"zaxis\":{\"backgroundcolor\":\"#E5ECF6\",\"gridcolor\":\"white\",\"linecolor\":\"white\",\"showbackground\":true,\"ticks\":\"\",\"zerolinecolor\":\"white\",\"gridwidth\":2}},\"shapedefaults\":{\"line\":{\"color\":\"#2a3f5f\"}},\"annotationdefaults\":{\"arrowcolor\":\"#2a3f5f\",\"arrowhead\":0,\"arrowwidth\":1},\"geo\":{\"bgcolor\":\"white\",\"landcolor\":\"#E5ECF6\",\"subunitcolor\":\"white\",\"showland\":true,\"showlakes\":true,\"lakecolor\":\"white\"},\"title\":{\"x\":0.05},\"mapbox\":{\"style\":\"light\"}}}},                        {\"responsive\": true}                    )                };                            </script>        </div>"
      ],
      "text/plain": [
       "Figure({\n",
       "    'data': [{'cliponaxis': False,\n",
       "              'hovertemplate': [max_features (CategoricalDistribution):\n",
       "                                0.002130241030473181<extra></extra>, criterion\n",
       "                                (CategoricalDistribution):\n",
       "                                0.009813921261843168<extra></extra>, n_estimators\n",
       "                                (IntDistribution):\n",
       "                                0.010857604327795995<extra></extra>,\n",
       "                                min_samples_leaf (IntDistribution):\n",
       "                                0.040664865875593544<extra></extra>,\n",
       "                                min_samples_split (IntDistribution):\n",
       "                                0.0467810252557338<extra></extra>, max_depth\n",
       "                                (IntDistribution):\n",
       "                                0.8897523422485603<extra></extra>],\n",
       "              'name': 'Objective Value',\n",
       "              'orientation': 'h',\n",
       "              'text': [<0.01, <0.01, 0.01, 0.04, 0.05, 0.89],\n",
       "              'textposition': 'outside',\n",
       "              'type': 'bar',\n",
       "              'x': [0.002130241030473181, 0.009813921261843168,\n",
       "                    0.010857604327795995, 0.040664865875593544, 0.0467810252557338,\n",
       "                    0.8897523422485603],\n",
       "              'y': [max_features, criterion, n_estimators, min_samples_leaf,\n",
       "                    min_samples_split, max_depth]}],\n",
       "    'layout': {'template': '...',\n",
       "               'title': {'text': 'Hyperparameter Importances'},\n",
       "               'xaxis': {'title': {'text': 'Hyperparameter Importance'}},\n",
       "               'yaxis': {'title': {'text': 'Hyperparameter'}}}\n",
       "})"
      ]
     },
     "execution_count": 22,
     "metadata": {},
     "output_type": "execute_result"
    }
   ],
   "source": [
    "optuna.visualization.plot_param_importances(study)"
   ]
  },
  {
   "cell_type": "code",
   "execution_count": 23,
   "metadata": {},
   "outputs": [
    {
     "ename": "ValueError",
     "evalue": "Mime type rendering requires nbformat>=4.2.0 but it is not installed",
     "output_type": "error",
     "traceback": [
      "\u001b[1;31m---------------------------------------------------------------------------\u001b[0m",
      "\u001b[1;31mValueError\u001b[0m                                Traceback (most recent call last)",
      "File \u001b[1;32m~\\AppData\\Roaming\\Python\\Python312\\site-packages\\IPython\\core\\formatters.py:925\u001b[0m, in \u001b[0;36mIPythonDisplayFormatter.__call__\u001b[1;34m(self, obj)\u001b[0m\n\u001b[0;32m    923\u001b[0m method \u001b[38;5;241m=\u001b[39m get_real_method(obj, \u001b[38;5;28mself\u001b[39m\u001b[38;5;241m.\u001b[39mprint_method)\n\u001b[0;32m    924\u001b[0m \u001b[38;5;28;01mif\u001b[39;00m method \u001b[38;5;129;01mis\u001b[39;00m \u001b[38;5;129;01mnot\u001b[39;00m \u001b[38;5;28;01mNone\u001b[39;00m:\n\u001b[1;32m--> 925\u001b[0m     \u001b[43mmethod\u001b[49m\u001b[43m(\u001b[49m\u001b[43m)\u001b[49m\n\u001b[0;32m    926\u001b[0m     \u001b[38;5;28;01mreturn\u001b[39;00m \u001b[38;5;28;01mTrue\u001b[39;00m\n",
      "File \u001b[1;32mc:\\Users\\Sarah\\anaconda3\\envs\\nba_env\\Lib\\site-packages\\plotly\\basedatatypes.py:832\u001b[0m, in \u001b[0;36mBaseFigure._ipython_display_\u001b[1;34m(self)\u001b[0m\n\u001b[0;32m    829\u001b[0m \u001b[38;5;28;01mimport\u001b[39;00m \u001b[38;5;21;01mplotly\u001b[39;00m\u001b[38;5;21;01m.\u001b[39;00m\u001b[38;5;21;01mio\u001b[39;00m \u001b[38;5;28;01mas\u001b[39;00m \u001b[38;5;21;01mpio\u001b[39;00m\n\u001b[0;32m    831\u001b[0m \u001b[38;5;28;01mif\u001b[39;00m pio\u001b[38;5;241m.\u001b[39mrenderers\u001b[38;5;241m.\u001b[39mrender_on_display \u001b[38;5;129;01mand\u001b[39;00m pio\u001b[38;5;241m.\u001b[39mrenderers\u001b[38;5;241m.\u001b[39mdefault:\n\u001b[1;32m--> 832\u001b[0m     \u001b[43mpio\u001b[49m\u001b[38;5;241;43m.\u001b[39;49m\u001b[43mshow\u001b[49m\u001b[43m(\u001b[49m\u001b[38;5;28;43mself\u001b[39;49m\u001b[43m)\u001b[49m\n\u001b[0;32m    833\u001b[0m \u001b[38;5;28;01melse\u001b[39;00m:\n\u001b[0;32m    834\u001b[0m     \u001b[38;5;28mprint\u001b[39m(\u001b[38;5;28mrepr\u001b[39m(\u001b[38;5;28mself\u001b[39m))\n",
      "File \u001b[1;32mc:\\Users\\Sarah\\anaconda3\\envs\\nba_env\\Lib\\site-packages\\plotly\\io\\_renderers.py:394\u001b[0m, in \u001b[0;36mshow\u001b[1;34m(fig, renderer, validate, **kwargs)\u001b[0m\n\u001b[0;32m    389\u001b[0m         \u001b[38;5;28;01mraise\u001b[39;00m \u001b[38;5;167;01mValueError\u001b[39;00m(\n\u001b[0;32m    390\u001b[0m             \u001b[38;5;124m\"\u001b[39m\u001b[38;5;124mMime type rendering requires ipython but it is not installed\u001b[39m\u001b[38;5;124m\"\u001b[39m\n\u001b[0;32m    391\u001b[0m         )\n\u001b[0;32m    393\u001b[0m     \u001b[38;5;28;01mif\u001b[39;00m \u001b[38;5;129;01mnot\u001b[39;00m nbformat \u001b[38;5;129;01mor\u001b[39;00m Version(nbformat\u001b[38;5;241m.\u001b[39m__version__) \u001b[38;5;241m<\u001b[39m Version(\u001b[38;5;124m\"\u001b[39m\u001b[38;5;124m4.2.0\u001b[39m\u001b[38;5;124m\"\u001b[39m):\n\u001b[1;32m--> 394\u001b[0m         \u001b[38;5;28;01mraise\u001b[39;00m \u001b[38;5;167;01mValueError\u001b[39;00m(\n\u001b[0;32m    395\u001b[0m             \u001b[38;5;124m\"\u001b[39m\u001b[38;5;124mMime type rendering requires nbformat>=4.2.0 but it is not installed\u001b[39m\u001b[38;5;124m\"\u001b[39m\n\u001b[0;32m    396\u001b[0m         )\n\u001b[0;32m    398\u001b[0m     ipython_display\u001b[38;5;241m.\u001b[39mdisplay(bundle, raw\u001b[38;5;241m=\u001b[39m\u001b[38;5;28;01mTrue\u001b[39;00m)\n\u001b[0;32m    400\u001b[0m \u001b[38;5;66;03m# external renderers\u001b[39;00m\n",
      "\u001b[1;31mValueError\u001b[0m: Mime type rendering requires nbformat>=4.2.0 but it is not installed"
     ]
    },
    {
     "data": {
      "application/vnd.plotly.v1+json": {
       "config": {
        "plotlyServerURL": "https://plot.ly"
       },
       "data": [
        {
         "marker": {
          "color": [
           0,
           1,
           2,
           3,
           4,
           5,
           6,
           7,
           8,
           9,
           10,
           11,
           12,
           13,
           14,
           15,
           16,
           17,
           18,
           19,
           20,
           21,
           22,
           23,
           24,
           25,
           26,
           27,
           28,
           29,
           30,
           31,
           32,
           33,
           34,
           35,
           36,
           37,
           38,
           39,
           40,
           41,
           42,
           43,
           44,
           45,
           46,
           47,
           48,
           49,
           50,
           51,
           52,
           53,
           54,
           55,
           56,
           57,
           58,
           59,
           60,
           61,
           62,
           63,
           64,
           65,
           66,
           67,
           68,
           69,
           70,
           71,
           72,
           73,
           74,
           75,
           76,
           77,
           78,
           79,
           80,
           81,
           82,
           83,
           84,
           85,
           86,
           87,
           88,
           89,
           90,
           91,
           92,
           93,
           94,
           95,
           96,
           97,
           98,
           99
          ],
          "colorbar": {
           "title": {
            "text": "Trial"
           },
           "x": 1,
           "xpad": 40
          },
          "colorscale": [
           [
            0,
            "rgb(247,251,255)"
           ],
           [
            0.125,
            "rgb(222,235,247)"
           ],
           [
            0.25,
            "rgb(198,219,239)"
           ],
           [
            0.375,
            "rgb(158,202,225)"
           ],
           [
            0.5,
            "rgb(107,174,214)"
           ],
           [
            0.625,
            "rgb(66,146,198)"
           ],
           [
            0.75,
            "rgb(33,113,181)"
           ],
           [
            0.875,
            "rgb(8,81,156)"
           ],
           [
            1,
            "rgb(8,48,107)"
           ]
          ],
          "line": {
           "color": "Grey",
           "width": 0.5
          },
          "showscale": true
         },
         "mode": "markers",
         "name": "Feasible Trial",
         "showlegend": false,
         "type": "scatter",
         "x": [
          "gini",
          "gini",
          "log_loss",
          "entropy",
          "entropy",
          "entropy",
          "log_loss",
          "gini",
          "log_loss",
          "log_loss",
          "log_loss",
          "entropy",
          "entropy",
          "log_loss",
          "entropy",
          "log_loss",
          "entropy",
          "entropy",
          "log_loss",
          "gini",
          "log_loss",
          "entropy",
          "entropy",
          "entropy",
          "entropy",
          "entropy",
          "entropy",
          "entropy",
          "gini",
          "log_loss",
          "gini",
          "entropy",
          "entropy",
          "entropy",
          "entropy",
          "entropy",
          "entropy",
          "gini",
          "log_loss",
          "entropy",
          "log_loss",
          "entropy",
          "entropy",
          "entropy",
          "entropy",
          "entropy",
          "log_loss",
          "log_loss",
          "log_loss",
          "log_loss",
          "log_loss",
          "log_loss",
          "log_loss",
          "log_loss",
          "log_loss",
          "log_loss",
          "log_loss",
          "log_loss",
          "log_loss",
          "log_loss",
          "log_loss",
          "log_loss",
          "log_loss",
          "log_loss",
          "log_loss",
          "log_loss",
          "log_loss",
          "log_loss",
          "log_loss",
          "log_loss",
          "gini",
          "gini",
          "gini",
          "gini",
          "gini",
          "gini",
          "gini",
          "gini",
          "gini",
          "gini",
          "gini",
          "gini",
          "gini",
          "gini",
          "gini",
          "gini",
          "log_loss",
          "gini",
          "log_loss",
          "log_loss",
          "gini",
          "log_loss",
          "log_loss",
          "log_loss",
          "log_loss",
          "log_loss",
          "log_loss",
          "log_loss",
          "log_loss",
          "gini"
         ],
         "xaxis": "x",
         "y": [
          0.6813926102113866,
          0.6769969801905161,
          0.681217717770238,
          0.682546900322968,
          0.6811594202898551,
          0.6711905511443795,
          0.6825585598190447,
          0.682465283850432,
          0.6818939685426796,
          0.680634742966409,
          0.6824769433465085,
          0.6824536243543554,
          0.6781745892942507,
          0.6824186458661257,
          0.6789557755313815,
          0.6821971154406706,
          0.6801567036272692,
          0.683048258654261,
          0.6825119218347383,
          0.6796436857998998,
          0.6791539869646834,
          0.682406986370049,
          0.682465283850432,
          0.6810078468408596,
          0.6818473305583733,
          0.6825702193151212,
          0.6825119218347383,
          0.6731376869891683,
          0.6820338824955985,
          0.6824419648582788,
          0.681299334242774,
          0.682406986370049,
          0.6826051978033509,
          0.6823720078818194,
          0.6824186458661257,
          0.6792356034372194,
          0.6818589900544498,
          0.6753063532594121,
          0.6817890330779903,
          0.6824769433465085,
          0.6819989040073688,
          0.6824769433465085,
          0.6823603483857428,
          0.6822204344328238,
          0.6823486888896662,
          0.6820805204799049,
          0.6825818788111978,
          0.6827451117562698,
          0.6808329543997108,
          0.6822554129210535,
          0.6677276808096354,
          0.6824886028425852,
          0.6829666421817249,
          0.678221227278557,
          0.6828383877248825,
          0.6785943311530076,
          0.6819872445112922,
          0.6799235137057377,
          0.682686814275887,
          0.6825818788111978,
          0.6826285167955041,
          0.6825002623386617,
          0.6827217927641167,
          0.6828733662131122,
          0.6826168572994276,
          0.6813576317231569,
          0.6819989040073688,
          0.682908344701342,
          0.6817773735819138,
          0.6821971154406706,
          0.6830832371424908,
          0.6828383877248825,
          0.6824186458661257,
          0.6815441836603822,
          0.6804715100213369,
          0.682325369897513,
          0.6821621369524409,
          0.6825235813308149,
          0.6822554129210535,
          0.67960870731167,
          0.6830599181503375,
          0.6823836673778959,
          0.6824769433465085,
          0.6825119218347383,
          0.6818589900544498,
          0.6818356710622967,
          0.6825935383072743,
          0.6825002623386617,
          0.6827101332680402,
          0.6825702193151212,
          0.6824536243543554,
          0.6826751547798104,
          0.6774400410414262,
          0.682686814275887,
          0.6823486888896662,
          0.6828383877248825,
          0.6828034092366528,
          0.6822554129210535,
          0.6823720078818194,
          0.6813226532349271
         ],
         "yaxis": "y"
        },
        {
         "marker": {
          "color": [
           0,
           1,
           2,
           3,
           4,
           5,
           6,
           7,
           8,
           9,
           10,
           11,
           12,
           13,
           14,
           15,
           16,
           17,
           18,
           19,
           20,
           21,
           22,
           23,
           24,
           25,
           26,
           27,
           28,
           29,
           30,
           31,
           32,
           33,
           34,
           35,
           36,
           37,
           38,
           39,
           40,
           41,
           42,
           43,
           44,
           45,
           46,
           47,
           48,
           49,
           50,
           51,
           52,
           53,
           54,
           55,
           56,
           57,
           58,
           59,
           60,
           61,
           62,
           63,
           64,
           65,
           66,
           67,
           68,
           69,
           70,
           71,
           72,
           73,
           74,
           75,
           76,
           77,
           78,
           79,
           80,
           81,
           82,
           83,
           84,
           85,
           86,
           87,
           88,
           89,
           90,
           91,
           92,
           93,
           94,
           95,
           96,
           97,
           98,
           99
          ],
          "colorbar": {
           "title": {
            "text": "Trial"
           },
           "x": 1,
           "xpad": 40
          },
          "colorscale": [
           [
            0,
            "rgb(247,251,255)"
           ],
           [
            0.125,
            "rgb(222,235,247)"
           ],
           [
            0.25,
            "rgb(198,219,239)"
           ],
           [
            0.375,
            "rgb(158,202,225)"
           ],
           [
            0.5,
            "rgb(107,174,214)"
           ],
           [
            0.625,
            "rgb(66,146,198)"
           ],
           [
            0.75,
            "rgb(33,113,181)"
           ],
           [
            0.875,
            "rgb(8,81,156)"
           ],
           [
            1,
            "rgb(8,48,107)"
           ]
          ],
          "line": {
           "color": "Grey",
           "width": 0.5
          },
          "showscale": false
         },
         "mode": "markers",
         "name": "Feasible Trial",
         "showlegend": false,
         "type": "scatter",
         "x": [
          23,
          5,
          32,
          16,
          21,
          3,
          15,
          11,
          10,
          17,
          29,
          15,
          22,
          12,
          7,
          18,
          25,
          14,
          13,
          7,
          20,
          15,
          15,
          9,
          18,
          14,
          13,
          26,
          19,
          13,
          9,
          16,
          14,
          14,
          11,
          7,
          24,
          4,
          17,
          21,
          10,
          16,
          12,
          19,
          14,
          17,
          11,
          11,
          9,
          11,
          2,
          12,
          14,
          6,
          14,
          32,
          10,
          8,
          12,
          13,
          15,
          16,
          14,
          15,
          12,
          18,
          13,
          15,
          16,
          15,
          14,
          14,
          14,
          17,
          18,
          15,
          13,
          11,
          16,
          19,
          14,
          14,
          13,
          15,
          17,
          10,
          12,
          14,
          13,
          11,
          16,
          15,
          29,
          14,
          15,
          14,
          12,
          16,
          12,
          17
         ],
         "xaxis": "x2",
         "y": [
          0.6813926102113866,
          0.6769969801905161,
          0.681217717770238,
          0.682546900322968,
          0.6811594202898551,
          0.6711905511443795,
          0.6825585598190447,
          0.682465283850432,
          0.6818939685426796,
          0.680634742966409,
          0.6824769433465085,
          0.6824536243543554,
          0.6781745892942507,
          0.6824186458661257,
          0.6789557755313815,
          0.6821971154406706,
          0.6801567036272692,
          0.683048258654261,
          0.6825119218347383,
          0.6796436857998998,
          0.6791539869646834,
          0.682406986370049,
          0.682465283850432,
          0.6810078468408596,
          0.6818473305583733,
          0.6825702193151212,
          0.6825119218347383,
          0.6731376869891683,
          0.6820338824955985,
          0.6824419648582788,
          0.681299334242774,
          0.682406986370049,
          0.6826051978033509,
          0.6823720078818194,
          0.6824186458661257,
          0.6792356034372194,
          0.6818589900544498,
          0.6753063532594121,
          0.6817890330779903,
          0.6824769433465085,
          0.6819989040073688,
          0.6824769433465085,
          0.6823603483857428,
          0.6822204344328238,
          0.6823486888896662,
          0.6820805204799049,
          0.6825818788111978,
          0.6827451117562698,
          0.6808329543997108,
          0.6822554129210535,
          0.6677276808096354,
          0.6824886028425852,
          0.6829666421817249,
          0.678221227278557,
          0.6828383877248825,
          0.6785943311530076,
          0.6819872445112922,
          0.6799235137057377,
          0.682686814275887,
          0.6825818788111978,
          0.6826285167955041,
          0.6825002623386617,
          0.6827217927641167,
          0.6828733662131122,
          0.6826168572994276,
          0.6813576317231569,
          0.6819989040073688,
          0.682908344701342,
          0.6817773735819138,
          0.6821971154406706,
          0.6830832371424908,
          0.6828383877248825,
          0.6824186458661257,
          0.6815441836603822,
          0.6804715100213369,
          0.682325369897513,
          0.6821621369524409,
          0.6825235813308149,
          0.6822554129210535,
          0.67960870731167,
          0.6830599181503375,
          0.6823836673778959,
          0.6824769433465085,
          0.6825119218347383,
          0.6818589900544498,
          0.6818356710622967,
          0.6825935383072743,
          0.6825002623386617,
          0.6827101332680402,
          0.6825702193151212,
          0.6824536243543554,
          0.6826751547798104,
          0.6774400410414262,
          0.682686814275887,
          0.6823486888896662,
          0.6828383877248825,
          0.6828034092366528,
          0.6822554129210535,
          0.6823720078818194,
          0.6813226532349271
         ],
         "yaxis": "y2"
        },
        {
         "marker": {
          "color": [
           0,
           1,
           2,
           3,
           4,
           5,
           6,
           7,
           8,
           9,
           10,
           11,
           12,
           13,
           14,
           15,
           16,
           17,
           18,
           19,
           20,
           21,
           22,
           23,
           24,
           25,
           26,
           27,
           28,
           29,
           30,
           31,
           32,
           33,
           34,
           35,
           36,
           37,
           38,
           39,
           40,
           41,
           42,
           43,
           44,
           45,
           46,
           47,
           48,
           49,
           50,
           51,
           52,
           53,
           54,
           55,
           56,
           57,
           58,
           59,
           60,
           61,
           62,
           63,
           64,
           65,
           66,
           67,
           68,
           69,
           70,
           71,
           72,
           73,
           74,
           75,
           76,
           77,
           78,
           79,
           80,
           81,
           82,
           83,
           84,
           85,
           86,
           87,
           88,
           89,
           90,
           91,
           92,
           93,
           94,
           95,
           96,
           97,
           98,
           99
          ],
          "colorbar": {
           "title": {
            "text": "Trial"
           },
           "x": 1,
           "xpad": 40
          },
          "colorscale": [
           [
            0,
            "rgb(247,251,255)"
           ],
           [
            0.125,
            "rgb(222,235,247)"
           ],
           [
            0.25,
            "rgb(198,219,239)"
           ],
           [
            0.375,
            "rgb(158,202,225)"
           ],
           [
            0.5,
            "rgb(107,174,214)"
           ],
           [
            0.625,
            "rgb(66,146,198)"
           ],
           [
            0.75,
            "rgb(33,113,181)"
           ],
           [
            0.875,
            "rgb(8,81,156)"
           ],
           [
            1,
            "rgb(8,48,107)"
           ]
          ],
          "line": {
           "color": "Grey",
           "width": 0.5
          },
          "showscale": false
         },
         "mode": "markers",
         "name": "Feasible Trial",
         "showlegend": false,
         "type": "scatter",
         "x": [
          "sqrt",
          "log2",
          "sqrt",
          "sqrt",
          "sqrt",
          "sqrt",
          "sqrt",
          "sqrt",
          "log2",
          "sqrt",
          "log2",
          "sqrt",
          "sqrt",
          "sqrt",
          "log2",
          "sqrt",
          "sqrt",
          "sqrt",
          "log2",
          "sqrt",
          "sqrt",
          "sqrt",
          "sqrt",
          "sqrt",
          "sqrt",
          "sqrt",
          "log2",
          "sqrt",
          "sqrt",
          "sqrt",
          "sqrt",
          "sqrt",
          "sqrt",
          "sqrt",
          "sqrt",
          "sqrt",
          "log2",
          "sqrt",
          "sqrt",
          "sqrt",
          "log2",
          "sqrt",
          "sqrt",
          "sqrt",
          "sqrt",
          "sqrt",
          "sqrt",
          "sqrt",
          "sqrt",
          "sqrt",
          "log2",
          "sqrt",
          "sqrt",
          "sqrt",
          "sqrt",
          "sqrt",
          "sqrt",
          "sqrt",
          "sqrt",
          "sqrt",
          "log2",
          "log2",
          "log2",
          "log2",
          "log2",
          "log2",
          "log2",
          "log2",
          "log2",
          "log2",
          "log2",
          "log2",
          "log2",
          "log2",
          "log2",
          "log2",
          "log2",
          "log2",
          "log2",
          "log2",
          "log2",
          "log2",
          "log2",
          "log2",
          "log2",
          "log2",
          "log2",
          "log2",
          "log2",
          "log2",
          "log2",
          "log2",
          "log2",
          "log2",
          "log2",
          "sqrt",
          "sqrt",
          "sqrt",
          "sqrt",
          "sqrt"
         ],
         "xaxis": "x3",
         "y": [
          0.6813926102113866,
          0.6769969801905161,
          0.681217717770238,
          0.682546900322968,
          0.6811594202898551,
          0.6711905511443795,
          0.6825585598190447,
          0.682465283850432,
          0.6818939685426796,
          0.680634742966409,
          0.6824769433465085,
          0.6824536243543554,
          0.6781745892942507,
          0.6824186458661257,
          0.6789557755313815,
          0.6821971154406706,
          0.6801567036272692,
          0.683048258654261,
          0.6825119218347383,
          0.6796436857998998,
          0.6791539869646834,
          0.682406986370049,
          0.682465283850432,
          0.6810078468408596,
          0.6818473305583733,
          0.6825702193151212,
          0.6825119218347383,
          0.6731376869891683,
          0.6820338824955985,
          0.6824419648582788,
          0.681299334242774,
          0.682406986370049,
          0.6826051978033509,
          0.6823720078818194,
          0.6824186458661257,
          0.6792356034372194,
          0.6818589900544498,
          0.6753063532594121,
          0.6817890330779903,
          0.6824769433465085,
          0.6819989040073688,
          0.6824769433465085,
          0.6823603483857428,
          0.6822204344328238,
          0.6823486888896662,
          0.6820805204799049,
          0.6825818788111978,
          0.6827451117562698,
          0.6808329543997108,
          0.6822554129210535,
          0.6677276808096354,
          0.6824886028425852,
          0.6829666421817249,
          0.678221227278557,
          0.6828383877248825,
          0.6785943311530076,
          0.6819872445112922,
          0.6799235137057377,
          0.682686814275887,
          0.6825818788111978,
          0.6826285167955041,
          0.6825002623386617,
          0.6827217927641167,
          0.6828733662131122,
          0.6826168572994276,
          0.6813576317231569,
          0.6819989040073688,
          0.682908344701342,
          0.6817773735819138,
          0.6821971154406706,
          0.6830832371424908,
          0.6828383877248825,
          0.6824186458661257,
          0.6815441836603822,
          0.6804715100213369,
          0.682325369897513,
          0.6821621369524409,
          0.6825235813308149,
          0.6822554129210535,
          0.67960870731167,
          0.6830599181503375,
          0.6823836673778959,
          0.6824769433465085,
          0.6825119218347383,
          0.6818589900544498,
          0.6818356710622967,
          0.6825935383072743,
          0.6825002623386617,
          0.6827101332680402,
          0.6825702193151212,
          0.6824536243543554,
          0.6826751547798104,
          0.6774400410414262,
          0.682686814275887,
          0.6823486888896662,
          0.6828383877248825,
          0.6828034092366528,
          0.6822554129210535,
          0.6823720078818194,
          0.6813226532349271
         ],
         "yaxis": "y3"
        },
        {
         "marker": {
          "color": [
           0,
           1,
           2,
           3,
           4,
           5,
           6,
           7,
           8,
           9,
           10,
           11,
           12,
           13,
           14,
           15,
           16,
           17,
           18,
           19,
           20,
           21,
           22,
           23,
           24,
           25,
           26,
           27,
           28,
           29,
           30,
           31,
           32,
           33,
           34,
           35,
           36,
           37,
           38,
           39,
           40,
           41,
           42,
           43,
           44,
           45,
           46,
           47,
           48,
           49,
           50,
           51,
           52,
           53,
           54,
           55,
           56,
           57,
           58,
           59,
           60,
           61,
           62,
           63,
           64,
           65,
           66,
           67,
           68,
           69,
           70,
           71,
           72,
           73,
           74,
           75,
           76,
           77,
           78,
           79,
           80,
           81,
           82,
           83,
           84,
           85,
           86,
           87,
           88,
           89,
           90,
           91,
           92,
           93,
           94,
           95,
           96,
           97,
           98,
           99
          ],
          "colorbar": {
           "title": {
            "text": "Trial"
           },
           "x": 1,
           "xpad": 40
          },
          "colorscale": [
           [
            0,
            "rgb(247,251,255)"
           ],
           [
            0.125,
            "rgb(222,235,247)"
           ],
           [
            0.25,
            "rgb(198,219,239)"
           ],
           [
            0.375,
            "rgb(158,202,225)"
           ],
           [
            0.5,
            "rgb(107,174,214)"
           ],
           [
            0.625,
            "rgb(66,146,198)"
           ],
           [
            0.75,
            "rgb(33,113,181)"
           ],
           [
            0.875,
            "rgb(8,81,156)"
           ],
           [
            1,
            "rgb(8,48,107)"
           ]
          ],
          "line": {
           "color": "Grey",
           "width": 0.5
          },
          "showscale": false
         },
         "mode": "markers",
         "name": "Feasible Trial",
         "showlegend": false,
         "type": "scatter",
         "x": [
          18,
          16,
          16,
          23,
          11,
          19,
          3,
          19,
          18,
          2,
          30,
          28,
          1,
          24,
          7,
          24,
          11,
          6,
          5,
          9,
          4,
          23,
          12,
          6,
          14,
          21,
          8,
          2,
          21,
          4,
          27,
          21,
          26,
          26,
          32,
          15,
          21,
          29,
          17,
          26,
          13,
          23,
          19,
          25,
          22,
          17,
          9,
          9,
          9,
          10,
          6,
          3,
          1,
          1,
          7,
          7,
          11,
          5,
          9,
          7,
          3,
          3,
          5,
          5,
          5,
          6,
          8,
          1,
          2,
          1,
          4,
          4,
          4,
          3,
          2,
          4,
          6,
          1,
          2,
          4,
          8,
          8,
          7,
          10,
          5,
          4,
          7,
          6,
          3,
          8,
          10,
          5,
          5,
          2,
          6,
          4,
          1,
          1,
          2,
          3
         ],
         "xaxis": "x4",
         "y": [
          0.6813926102113866,
          0.6769969801905161,
          0.681217717770238,
          0.682546900322968,
          0.6811594202898551,
          0.6711905511443795,
          0.6825585598190447,
          0.682465283850432,
          0.6818939685426796,
          0.680634742966409,
          0.6824769433465085,
          0.6824536243543554,
          0.6781745892942507,
          0.6824186458661257,
          0.6789557755313815,
          0.6821971154406706,
          0.6801567036272692,
          0.683048258654261,
          0.6825119218347383,
          0.6796436857998998,
          0.6791539869646834,
          0.682406986370049,
          0.682465283850432,
          0.6810078468408596,
          0.6818473305583733,
          0.6825702193151212,
          0.6825119218347383,
          0.6731376869891683,
          0.6820338824955985,
          0.6824419648582788,
          0.681299334242774,
          0.682406986370049,
          0.6826051978033509,
          0.6823720078818194,
          0.6824186458661257,
          0.6792356034372194,
          0.6818589900544498,
          0.6753063532594121,
          0.6817890330779903,
          0.6824769433465085,
          0.6819989040073688,
          0.6824769433465085,
          0.6823603483857428,
          0.6822204344328238,
          0.6823486888896662,
          0.6820805204799049,
          0.6825818788111978,
          0.6827451117562698,
          0.6808329543997108,
          0.6822554129210535,
          0.6677276808096354,
          0.6824886028425852,
          0.6829666421817249,
          0.678221227278557,
          0.6828383877248825,
          0.6785943311530076,
          0.6819872445112922,
          0.6799235137057377,
          0.682686814275887,
          0.6825818788111978,
          0.6826285167955041,
          0.6825002623386617,
          0.6827217927641167,
          0.6828733662131122,
          0.6826168572994276,
          0.6813576317231569,
          0.6819989040073688,
          0.682908344701342,
          0.6817773735819138,
          0.6821971154406706,
          0.6830832371424908,
          0.6828383877248825,
          0.6824186458661257,
          0.6815441836603822,
          0.6804715100213369,
          0.682325369897513,
          0.6821621369524409,
          0.6825235813308149,
          0.6822554129210535,
          0.67960870731167,
          0.6830599181503375,
          0.6823836673778959,
          0.6824769433465085,
          0.6825119218347383,
          0.6818589900544498,
          0.6818356710622967,
          0.6825935383072743,
          0.6825002623386617,
          0.6827101332680402,
          0.6825702193151212,
          0.6824536243543554,
          0.6826751547798104,
          0.6774400410414262,
          0.682686814275887,
          0.6823486888896662,
          0.6828383877248825,
          0.6828034092366528,
          0.6822554129210535,
          0.6823720078818194,
          0.6813226532349271
         ],
         "yaxis": "y4"
        },
        {
         "marker": {
          "color": [
           0,
           1,
           2,
           3,
           4,
           5,
           6,
           7,
           8,
           9,
           10,
           11,
           12,
           13,
           14,
           15,
           16,
           17,
           18,
           19,
           20,
           21,
           22,
           23,
           24,
           25,
           26,
           27,
           28,
           29,
           30,
           31,
           32,
           33,
           34,
           35,
           36,
           37,
           38,
           39,
           40,
           41,
           42,
           43,
           44,
           45,
           46,
           47,
           48,
           49,
           50,
           51,
           52,
           53,
           54,
           55,
           56,
           57,
           58,
           59,
           60,
           61,
           62,
           63,
           64,
           65,
           66,
           67,
           68,
           69,
           70,
           71,
           72,
           73,
           74,
           75,
           76,
           77,
           78,
           79,
           80,
           81,
           82,
           83,
           84,
           85,
           86,
           87,
           88,
           89,
           90,
           91,
           92,
           93,
           94,
           95,
           96,
           97,
           98,
           99
          ],
          "colorbar": {
           "title": {
            "text": "Trial"
           },
           "x": 1,
           "xpad": 40
          },
          "colorscale": [
           [
            0,
            "rgb(247,251,255)"
           ],
           [
            0.125,
            "rgb(222,235,247)"
           ],
           [
            0.25,
            "rgb(198,219,239)"
           ],
           [
            0.375,
            "rgb(158,202,225)"
           ],
           [
            0.5,
            "rgb(107,174,214)"
           ],
           [
            0.625,
            "rgb(66,146,198)"
           ],
           [
            0.75,
            "rgb(33,113,181)"
           ],
           [
            0.875,
            "rgb(8,81,156)"
           ],
           [
            1,
            "rgb(8,48,107)"
           ]
          ],
          "line": {
           "color": "Grey",
           "width": 0.5
          },
          "showscale": false
         },
         "mode": "markers",
         "name": "Feasible Trial",
         "showlegend": false,
         "type": "scatter",
         "x": [
          31,
          9,
          30,
          30,
          4,
          16,
          22,
          22,
          14,
          7,
          23,
          25,
          27,
          20,
          32,
          27,
          13,
          19,
          19,
          11,
          17,
          26,
          22,
          29,
          19,
          25,
          24,
          17,
          21,
          28,
          24,
          32,
          30,
          29,
          25,
          20,
          30,
          15,
          18,
          22,
          26,
          30,
          31,
          4,
          28,
          23,
          27,
          25,
          27,
          25,
          9,
          23,
          21,
          20,
          26,
          28,
          26,
          21,
          31,
          31,
          29,
          32,
          29,
          29,
          29,
          16,
          24,
          28,
          26,
          28,
          23,
          23,
          23,
          21,
          19,
          24,
          21,
          25,
          22,
          18,
          27,
          27,
          26,
          23,
          24,
          20,
          22,
          25,
          18,
          28,
          27,
          29,
          26,
          30,
          27,
          24,
          24,
          23,
          2,
          21
         ],
         "xaxis": "x5",
         "y": [
          0.6813926102113866,
          0.6769969801905161,
          0.681217717770238,
          0.682546900322968,
          0.6811594202898551,
          0.6711905511443795,
          0.6825585598190447,
          0.682465283850432,
          0.6818939685426796,
          0.680634742966409,
          0.6824769433465085,
          0.6824536243543554,
          0.6781745892942507,
          0.6824186458661257,
          0.6789557755313815,
          0.6821971154406706,
          0.6801567036272692,
          0.683048258654261,
          0.6825119218347383,
          0.6796436857998998,
          0.6791539869646834,
          0.682406986370049,
          0.682465283850432,
          0.6810078468408596,
          0.6818473305583733,
          0.6825702193151212,
          0.6825119218347383,
          0.6731376869891683,
          0.6820338824955985,
          0.6824419648582788,
          0.681299334242774,
          0.682406986370049,
          0.6826051978033509,
          0.6823720078818194,
          0.6824186458661257,
          0.6792356034372194,
          0.6818589900544498,
          0.6753063532594121,
          0.6817890330779903,
          0.6824769433465085,
          0.6819989040073688,
          0.6824769433465085,
          0.6823603483857428,
          0.6822204344328238,
          0.6823486888896662,
          0.6820805204799049,
          0.6825818788111978,
          0.6827451117562698,
          0.6808329543997108,
          0.6822554129210535,
          0.6677276808096354,
          0.6824886028425852,
          0.6829666421817249,
          0.678221227278557,
          0.6828383877248825,
          0.6785943311530076,
          0.6819872445112922,
          0.6799235137057377,
          0.682686814275887,
          0.6825818788111978,
          0.6826285167955041,
          0.6825002623386617,
          0.6827217927641167,
          0.6828733662131122,
          0.6826168572994276,
          0.6813576317231569,
          0.6819989040073688,
          0.682908344701342,
          0.6817773735819138,
          0.6821971154406706,
          0.6830832371424908,
          0.6828383877248825,
          0.6824186458661257,
          0.6815441836603822,
          0.6804715100213369,
          0.682325369897513,
          0.6821621369524409,
          0.6825235813308149,
          0.6822554129210535,
          0.67960870731167,
          0.6830599181503375,
          0.6823836673778959,
          0.6824769433465085,
          0.6825119218347383,
          0.6818589900544498,
          0.6818356710622967,
          0.6825935383072743,
          0.6825002623386617,
          0.6827101332680402,
          0.6825702193151212,
          0.6824536243543554,
          0.6826751547798104,
          0.6774400410414262,
          0.682686814275887,
          0.6823486888896662,
          0.6828383877248825,
          0.6828034092366528,
          0.6822554129210535,
          0.6823720078818194,
          0.6813226532349271
         ],
         "yaxis": "y5"
        },
        {
         "marker": {
          "color": [
           0,
           1,
           2,
           3,
           4,
           5,
           6,
           7,
           8,
           9,
           10,
           11,
           12,
           13,
           14,
           15,
           16,
           17,
           18,
           19,
           20,
           21,
           22,
           23,
           24,
           25,
           26,
           27,
           28,
           29,
           30,
           31,
           32,
           33,
           34,
           35,
           36,
           37,
           38,
           39,
           40,
           41,
           42,
           43,
           44,
           45,
           46,
           47,
           48,
           49,
           50,
           51,
           52,
           53,
           54,
           55,
           56,
           57,
           58,
           59,
           60,
           61,
           62,
           63,
           64,
           65,
           66,
           67,
           68,
           69,
           70,
           71,
           72,
           73,
           74,
           75,
           76,
           77,
           78,
           79,
           80,
           81,
           82,
           83,
           84,
           85,
           86,
           87,
           88,
           89,
           90,
           91,
           92,
           93,
           94,
           95,
           96,
           97,
           98,
           99
          ],
          "colorbar": {
           "title": {
            "text": "Trial"
           },
           "x": 1,
           "xpad": 40
          },
          "colorscale": [
           [
            0,
            "rgb(247,251,255)"
           ],
           [
            0.125,
            "rgb(222,235,247)"
           ],
           [
            0.25,
            "rgb(198,219,239)"
           ],
           [
            0.375,
            "rgb(158,202,225)"
           ],
           [
            0.5,
            "rgb(107,174,214)"
           ],
           [
            0.625,
            "rgb(66,146,198)"
           ],
           [
            0.75,
            "rgb(33,113,181)"
           ],
           [
            0.875,
            "rgb(8,81,156)"
           ],
           [
            1,
            "rgb(8,48,107)"
           ]
          ],
          "line": {
           "color": "Grey",
           "width": 0.5
          },
          "showscale": false
         },
         "mode": "markers",
         "name": "Feasible Trial",
         "showlegend": false,
         "type": "scatter",
         "x": [
          149,
          177,
          397,
          361,
          276,
          130,
          436,
          400,
          102,
          123,
          286,
          486,
          386,
          470,
          348,
          225,
          452,
          330,
          326,
          440,
          227,
          352,
          367,
          418,
          316,
          499,
          494,
          430,
          500,
          466,
          259,
          420,
          374,
          382,
          320,
          404,
          454,
          340,
          369,
          405,
          476,
          298,
          368,
          265,
          388,
          442,
          337,
          341,
          165,
          296,
          334,
          352,
          304,
          308,
          279,
          223,
          280,
          249,
          242,
          215,
          202,
          240,
          193,
          197,
          192,
          148,
          176,
          269,
          269,
          288,
          311,
          306,
          321,
          309,
          275,
          331,
          306,
          292,
          258,
          113,
          358,
          357,
          342,
          321,
          281,
          346,
          313,
          301,
          327,
          379,
          359,
          143,
          197,
          172,
          287,
          162,
          334,
          302,
          158,
          319
         ],
         "xaxis": "x6",
         "y": [
          0.6813926102113866,
          0.6769969801905161,
          0.681217717770238,
          0.682546900322968,
          0.6811594202898551,
          0.6711905511443795,
          0.6825585598190447,
          0.682465283850432,
          0.6818939685426796,
          0.680634742966409,
          0.6824769433465085,
          0.6824536243543554,
          0.6781745892942507,
          0.6824186458661257,
          0.6789557755313815,
          0.6821971154406706,
          0.6801567036272692,
          0.683048258654261,
          0.6825119218347383,
          0.6796436857998998,
          0.6791539869646834,
          0.682406986370049,
          0.682465283850432,
          0.6810078468408596,
          0.6818473305583733,
          0.6825702193151212,
          0.6825119218347383,
          0.6731376869891683,
          0.6820338824955985,
          0.6824419648582788,
          0.681299334242774,
          0.682406986370049,
          0.6826051978033509,
          0.6823720078818194,
          0.6824186458661257,
          0.6792356034372194,
          0.6818589900544498,
          0.6753063532594121,
          0.6817890330779903,
          0.6824769433465085,
          0.6819989040073688,
          0.6824769433465085,
          0.6823603483857428,
          0.6822204344328238,
          0.6823486888896662,
          0.6820805204799049,
          0.6825818788111978,
          0.6827451117562698,
          0.6808329543997108,
          0.6822554129210535,
          0.6677276808096354,
          0.6824886028425852,
          0.6829666421817249,
          0.678221227278557,
          0.6828383877248825,
          0.6785943311530076,
          0.6819872445112922,
          0.6799235137057377,
          0.682686814275887,
          0.6825818788111978,
          0.6826285167955041,
          0.6825002623386617,
          0.6827217927641167,
          0.6828733662131122,
          0.6826168572994276,
          0.6813576317231569,
          0.6819989040073688,
          0.682908344701342,
          0.6817773735819138,
          0.6821971154406706,
          0.6830832371424908,
          0.6828383877248825,
          0.6824186458661257,
          0.6815441836603822,
          0.6804715100213369,
          0.682325369897513,
          0.6821621369524409,
          0.6825235813308149,
          0.6822554129210535,
          0.67960870731167,
          0.6830599181503375,
          0.6823836673778959,
          0.6824769433465085,
          0.6825119218347383,
          0.6818589900544498,
          0.6818356710622967,
          0.6825935383072743,
          0.6825002623386617,
          0.6827101332680402,
          0.6825702193151212,
          0.6824536243543554,
          0.6826751547798104,
          0.6774400410414262,
          0.682686814275887,
          0.6823486888896662,
          0.6828383877248825,
          0.6828034092366528,
          0.6822554129210535,
          0.6823720078818194,
          0.6813226532349271
         ],
         "yaxis": "y6"
        }
       ],
       "layout": {
        "template": {
         "data": {
          "bar": [
           {
            "error_x": {
             "color": "#2a3f5f"
            },
            "error_y": {
             "color": "#2a3f5f"
            },
            "marker": {
             "line": {
              "color": "#E5ECF6",
              "width": 0.5
             },
             "pattern": {
              "fillmode": "overlay",
              "size": 10,
              "solidity": 0.2
             }
            },
            "type": "bar"
           }
          ],
          "barpolar": [
           {
            "marker": {
             "line": {
              "color": "#E5ECF6",
              "width": 0.5
             },
             "pattern": {
              "fillmode": "overlay",
              "size": 10,
              "solidity": 0.2
             }
            },
            "type": "barpolar"
           }
          ],
          "carpet": [
           {
            "aaxis": {
             "endlinecolor": "#2a3f5f",
             "gridcolor": "white",
             "linecolor": "white",
             "minorgridcolor": "white",
             "startlinecolor": "#2a3f5f"
            },
            "baxis": {
             "endlinecolor": "#2a3f5f",
             "gridcolor": "white",
             "linecolor": "white",
             "minorgridcolor": "white",
             "startlinecolor": "#2a3f5f"
            },
            "type": "carpet"
           }
          ],
          "choropleth": [
           {
            "colorbar": {
             "outlinewidth": 0,
             "ticks": ""
            },
            "type": "choropleth"
           }
          ],
          "contour": [
           {
            "colorbar": {
             "outlinewidth": 0,
             "ticks": ""
            },
            "colorscale": [
             [
              0,
              "#0d0887"
             ],
             [
              0.1111111111111111,
              "#46039f"
             ],
             [
              0.2222222222222222,
              "#7201a8"
             ],
             [
              0.3333333333333333,
              "#9c179e"
             ],
             [
              0.4444444444444444,
              "#bd3786"
             ],
             [
              0.5555555555555556,
              "#d8576b"
             ],
             [
              0.6666666666666666,
              "#ed7953"
             ],
             [
              0.7777777777777778,
              "#fb9f3a"
             ],
             [
              0.8888888888888888,
              "#fdca26"
             ],
             [
              1,
              "#f0f921"
             ]
            ],
            "type": "contour"
           }
          ],
          "contourcarpet": [
           {
            "colorbar": {
             "outlinewidth": 0,
             "ticks": ""
            },
            "type": "contourcarpet"
           }
          ],
          "heatmap": [
           {
            "colorbar": {
             "outlinewidth": 0,
             "ticks": ""
            },
            "colorscale": [
             [
              0,
              "#0d0887"
             ],
             [
              0.1111111111111111,
              "#46039f"
             ],
             [
              0.2222222222222222,
              "#7201a8"
             ],
             [
              0.3333333333333333,
              "#9c179e"
             ],
             [
              0.4444444444444444,
              "#bd3786"
             ],
             [
              0.5555555555555556,
              "#d8576b"
             ],
             [
              0.6666666666666666,
              "#ed7953"
             ],
             [
              0.7777777777777778,
              "#fb9f3a"
             ],
             [
              0.8888888888888888,
              "#fdca26"
             ],
             [
              1,
              "#f0f921"
             ]
            ],
            "type": "heatmap"
           }
          ],
          "heatmapgl": [
           {
            "colorbar": {
             "outlinewidth": 0,
             "ticks": ""
            },
            "colorscale": [
             [
              0,
              "#0d0887"
             ],
             [
              0.1111111111111111,
              "#46039f"
             ],
             [
              0.2222222222222222,
              "#7201a8"
             ],
             [
              0.3333333333333333,
              "#9c179e"
             ],
             [
              0.4444444444444444,
              "#bd3786"
             ],
             [
              0.5555555555555556,
              "#d8576b"
             ],
             [
              0.6666666666666666,
              "#ed7953"
             ],
             [
              0.7777777777777778,
              "#fb9f3a"
             ],
             [
              0.8888888888888888,
              "#fdca26"
             ],
             [
              1,
              "#f0f921"
             ]
            ],
            "type": "heatmapgl"
           }
          ],
          "histogram": [
           {
            "marker": {
             "pattern": {
              "fillmode": "overlay",
              "size": 10,
              "solidity": 0.2
             }
            },
            "type": "histogram"
           }
          ],
          "histogram2d": [
           {
            "colorbar": {
             "outlinewidth": 0,
             "ticks": ""
            },
            "colorscale": [
             [
              0,
              "#0d0887"
             ],
             [
              0.1111111111111111,
              "#46039f"
             ],
             [
              0.2222222222222222,
              "#7201a8"
             ],
             [
              0.3333333333333333,
              "#9c179e"
             ],
             [
              0.4444444444444444,
              "#bd3786"
             ],
             [
              0.5555555555555556,
              "#d8576b"
             ],
             [
              0.6666666666666666,
              "#ed7953"
             ],
             [
              0.7777777777777778,
              "#fb9f3a"
             ],
             [
              0.8888888888888888,
              "#fdca26"
             ],
             [
              1,
              "#f0f921"
             ]
            ],
            "type": "histogram2d"
           }
          ],
          "histogram2dcontour": [
           {
            "colorbar": {
             "outlinewidth": 0,
             "ticks": ""
            },
            "colorscale": [
             [
              0,
              "#0d0887"
             ],
             [
              0.1111111111111111,
              "#46039f"
             ],
             [
              0.2222222222222222,
              "#7201a8"
             ],
             [
              0.3333333333333333,
              "#9c179e"
             ],
             [
              0.4444444444444444,
              "#bd3786"
             ],
             [
              0.5555555555555556,
              "#d8576b"
             ],
             [
              0.6666666666666666,
              "#ed7953"
             ],
             [
              0.7777777777777778,
              "#fb9f3a"
             ],
             [
              0.8888888888888888,
              "#fdca26"
             ],
             [
              1,
              "#f0f921"
             ]
            ],
            "type": "histogram2dcontour"
           }
          ],
          "mesh3d": [
           {
            "colorbar": {
             "outlinewidth": 0,
             "ticks": ""
            },
            "type": "mesh3d"
           }
          ],
          "parcoords": [
           {
            "line": {
             "colorbar": {
              "outlinewidth": 0,
              "ticks": ""
             }
            },
            "type": "parcoords"
           }
          ],
          "pie": [
           {
            "automargin": true,
            "type": "pie"
           }
          ],
          "scatter": [
           {
            "fillpattern": {
             "fillmode": "overlay",
             "size": 10,
             "solidity": 0.2
            },
            "type": "scatter"
           }
          ],
          "scatter3d": [
           {
            "line": {
             "colorbar": {
              "outlinewidth": 0,
              "ticks": ""
             }
            },
            "marker": {
             "colorbar": {
              "outlinewidth": 0,
              "ticks": ""
             }
            },
            "type": "scatter3d"
           }
          ],
          "scattercarpet": [
           {
            "marker": {
             "colorbar": {
              "outlinewidth": 0,
              "ticks": ""
             }
            },
            "type": "scattercarpet"
           }
          ],
          "scattergeo": [
           {
            "marker": {
             "colorbar": {
              "outlinewidth": 0,
              "ticks": ""
             }
            },
            "type": "scattergeo"
           }
          ],
          "scattergl": [
           {
            "marker": {
             "colorbar": {
              "outlinewidth": 0,
              "ticks": ""
             }
            },
            "type": "scattergl"
           }
          ],
          "scattermapbox": [
           {
            "marker": {
             "colorbar": {
              "outlinewidth": 0,
              "ticks": ""
             }
            },
            "type": "scattermapbox"
           }
          ],
          "scatterpolar": [
           {
            "marker": {
             "colorbar": {
              "outlinewidth": 0,
              "ticks": ""
             }
            },
            "type": "scatterpolar"
           }
          ],
          "scatterpolargl": [
           {
            "marker": {
             "colorbar": {
              "outlinewidth": 0,
              "ticks": ""
             }
            },
            "type": "scatterpolargl"
           }
          ],
          "scatterternary": [
           {
            "marker": {
             "colorbar": {
              "outlinewidth": 0,
              "ticks": ""
             }
            },
            "type": "scatterternary"
           }
          ],
          "surface": [
           {
            "colorbar": {
             "outlinewidth": 0,
             "ticks": ""
            },
            "colorscale": [
             [
              0,
              "#0d0887"
             ],
             [
              0.1111111111111111,
              "#46039f"
             ],
             [
              0.2222222222222222,
              "#7201a8"
             ],
             [
              0.3333333333333333,
              "#9c179e"
             ],
             [
              0.4444444444444444,
              "#bd3786"
             ],
             [
              0.5555555555555556,
              "#d8576b"
             ],
             [
              0.6666666666666666,
              "#ed7953"
             ],
             [
              0.7777777777777778,
              "#fb9f3a"
             ],
             [
              0.8888888888888888,
              "#fdca26"
             ],
             [
              1,
              "#f0f921"
             ]
            ],
            "type": "surface"
           }
          ],
          "table": [
           {
            "cells": {
             "fill": {
              "color": "#EBF0F8"
             },
             "line": {
              "color": "white"
             }
            },
            "header": {
             "fill": {
              "color": "#C8D4E3"
             },
             "line": {
              "color": "white"
             }
            },
            "type": "table"
           }
          ]
         },
         "layout": {
          "annotationdefaults": {
           "arrowcolor": "#2a3f5f",
           "arrowhead": 0,
           "arrowwidth": 1
          },
          "autotypenumbers": "strict",
          "coloraxis": {
           "colorbar": {
            "outlinewidth": 0,
            "ticks": ""
           }
          },
          "colorscale": {
           "diverging": [
            [
             0,
             "#8e0152"
            ],
            [
             0.1,
             "#c51b7d"
            ],
            [
             0.2,
             "#de77ae"
            ],
            [
             0.3,
             "#f1b6da"
            ],
            [
             0.4,
             "#fde0ef"
            ],
            [
             0.5,
             "#f7f7f7"
            ],
            [
             0.6,
             "#e6f5d0"
            ],
            [
             0.7,
             "#b8e186"
            ],
            [
             0.8,
             "#7fbc41"
            ],
            [
             0.9,
             "#4d9221"
            ],
            [
             1,
             "#276419"
            ]
           ],
           "sequential": [
            [
             0,
             "#0d0887"
            ],
            [
             0.1111111111111111,
             "#46039f"
            ],
            [
             0.2222222222222222,
             "#7201a8"
            ],
            [
             0.3333333333333333,
             "#9c179e"
            ],
            [
             0.4444444444444444,
             "#bd3786"
            ],
            [
             0.5555555555555556,
             "#d8576b"
            ],
            [
             0.6666666666666666,
             "#ed7953"
            ],
            [
             0.7777777777777778,
             "#fb9f3a"
            ],
            [
             0.8888888888888888,
             "#fdca26"
            ],
            [
             1,
             "#f0f921"
            ]
           ],
           "sequentialminus": [
            [
             0,
             "#0d0887"
            ],
            [
             0.1111111111111111,
             "#46039f"
            ],
            [
             0.2222222222222222,
             "#7201a8"
            ],
            [
             0.3333333333333333,
             "#9c179e"
            ],
            [
             0.4444444444444444,
             "#bd3786"
            ],
            [
             0.5555555555555556,
             "#d8576b"
            ],
            [
             0.6666666666666666,
             "#ed7953"
            ],
            [
             0.7777777777777778,
             "#fb9f3a"
            ],
            [
             0.8888888888888888,
             "#fdca26"
            ],
            [
             1,
             "#f0f921"
            ]
           ]
          },
          "colorway": [
           "#636efa",
           "#EF553B",
           "#00cc96",
           "#ab63fa",
           "#FFA15A",
           "#19d3f3",
           "#FF6692",
           "#B6E880",
           "#FF97FF",
           "#FECB52"
          ],
          "font": {
           "color": "#2a3f5f"
          },
          "geo": {
           "bgcolor": "white",
           "lakecolor": "white",
           "landcolor": "#E5ECF6",
           "showlakes": true,
           "showland": true,
           "subunitcolor": "white"
          },
          "hoverlabel": {
           "align": "left"
          },
          "hovermode": "closest",
          "mapbox": {
           "style": "light"
          },
          "paper_bgcolor": "white",
          "plot_bgcolor": "#E5ECF6",
          "polar": {
           "angularaxis": {
            "gridcolor": "white",
            "linecolor": "white",
            "ticks": ""
           },
           "bgcolor": "#E5ECF6",
           "radialaxis": {
            "gridcolor": "white",
            "linecolor": "white",
            "ticks": ""
           }
          },
          "scene": {
           "xaxis": {
            "backgroundcolor": "#E5ECF6",
            "gridcolor": "white",
            "gridwidth": 2,
            "linecolor": "white",
            "showbackground": true,
            "ticks": "",
            "zerolinecolor": "white"
           },
           "yaxis": {
            "backgroundcolor": "#E5ECF6",
            "gridcolor": "white",
            "gridwidth": 2,
            "linecolor": "white",
            "showbackground": true,
            "ticks": "",
            "zerolinecolor": "white"
           },
           "zaxis": {
            "backgroundcolor": "#E5ECF6",
            "gridcolor": "white",
            "gridwidth": 2,
            "linecolor": "white",
            "showbackground": true,
            "ticks": "",
            "zerolinecolor": "white"
           }
          },
          "shapedefaults": {
           "line": {
            "color": "#2a3f5f"
           }
          },
          "ternary": {
           "aaxis": {
            "gridcolor": "white",
            "linecolor": "white",
            "ticks": ""
           },
           "baxis": {
            "gridcolor": "white",
            "linecolor": "white",
            "ticks": ""
           },
           "bgcolor": "#E5ECF6",
           "caxis": {
            "gridcolor": "white",
            "linecolor": "white",
            "ticks": ""
           }
          },
          "title": {
           "x": 0.05
          },
          "xaxis": {
           "automargin": true,
           "gridcolor": "white",
           "linecolor": "white",
           "ticks": "",
           "title": {
            "standoff": 15
           },
           "zerolinecolor": "white",
           "zerolinewidth": 2
          },
          "yaxis": {
           "automargin": true,
           "gridcolor": "white",
           "linecolor": "white",
           "ticks": "",
           "title": {
            "standoff": 15
           },
           "zerolinecolor": "white",
           "zerolinewidth": 2
          }
         }
        },
        "title": {
         "text": "Slice Plot"
        },
        "width": 1800,
        "xaxis": {
         "anchor": "y",
         "categoryarray": [
          "gini",
          "entropy",
          "log_loss"
         ],
         "categoryorder": "array",
         "domain": [
          0,
          0.1388888888888889
         ],
         "title": {
          "text": "criterion"
         },
         "type": "category"
        },
        "xaxis2": {
         "anchor": "y2",
         "domain": [
          0.17222222222222222,
          0.3111111111111111
         ],
         "title": {
          "text": "max_depth"
         }
        },
        "xaxis3": {
         "anchor": "y3",
         "categoryarray": [
          "sqrt",
          "log2"
         ],
         "categoryorder": "array",
         "domain": [
          0.34444444444444444,
          0.48333333333333334
         ],
         "title": {
          "text": "max_features"
         },
         "type": "category"
        },
        "xaxis4": {
         "anchor": "y4",
         "domain": [
          0.5166666666666667,
          0.6555555555555557
         ],
         "title": {
          "text": "min_samples_leaf"
         }
        },
        "xaxis5": {
         "anchor": "y5",
         "domain": [
          0.6888888888888889,
          0.8277777777777777
         ],
         "title": {
          "text": "min_samples_split"
         }
        },
        "xaxis6": {
         "anchor": "y6",
         "domain": [
          0.861111111111111,
          1
         ],
         "title": {
          "text": "n_estimators"
         }
        },
        "yaxis": {
         "anchor": "x",
         "domain": [
          0,
          1
         ],
         "title": {
          "text": "Objective Value"
         }
        },
        "yaxis2": {
         "anchor": "x2",
         "domain": [
          0,
          1
         ],
         "matches": "y",
         "showticklabels": false
        },
        "yaxis3": {
         "anchor": "x3",
         "domain": [
          0,
          1
         ],
         "matches": "y",
         "showticklabels": false
        },
        "yaxis4": {
         "anchor": "x4",
         "domain": [
          0,
          1
         ],
         "matches": "y",
         "showticklabels": false
        },
        "yaxis5": {
         "anchor": "x5",
         "domain": [
          0,
          1
         ],
         "matches": "y",
         "showticklabels": false
        },
        "yaxis6": {
         "anchor": "x6",
         "domain": [
          0,
          1
         ],
         "matches": "y",
         "showticklabels": false
        }
       }
      },
      "text/html": [
       "<div>                        <script type=\"text/javascript\">window.PlotlyConfig = {MathJaxConfig: 'local'};</script>\n",
       "        <script charset=\"utf-8\" src=\"https://cdn.plot.ly/plotly-2.32.0.min.js\"></script>                <div id=\"9b70fd2a-3422-4eab-8bbb-d83f78c30acb\" class=\"plotly-graph-div\" style=\"height:100%; width:1800px;\"></div>            <script type=\"text/javascript\">                                    window.PLOTLYENV=window.PLOTLYENV || {};                                    if (document.getElementById(\"9b70fd2a-3422-4eab-8bbb-d83f78c30acb\")) {                    Plotly.newPlot(                        \"9b70fd2a-3422-4eab-8bbb-d83f78c30acb\",                        [{\"marker\":{\"color\":[0,1,2,3,4,5,6,7,8,9,10,11,12,13,14,15,16,17,18,19,20,21,22,23,24,25,26,27,28,29,30,31,32,33,34,35,36,37,38,39,40,41,42,43,44,45,46,47,48,49,50,51,52,53,54,55,56,57,58,59,60,61,62,63,64,65,66,67,68,69,70,71,72,73,74,75,76,77,78,79,80,81,82,83,84,85,86,87,88,89,90,91,92,93,94,95,96,97,98,99],\"colorbar\":{\"title\":{\"text\":\"Trial\"},\"x\":1.0,\"xpad\":40},\"colorscale\":[[0.0,\"rgb(247,251,255)\"],[0.125,\"rgb(222,235,247)\"],[0.25,\"rgb(198,219,239)\"],[0.375,\"rgb(158,202,225)\"],[0.5,\"rgb(107,174,214)\"],[0.625,\"rgb(66,146,198)\"],[0.75,\"rgb(33,113,181)\"],[0.875,\"rgb(8,81,156)\"],[1.0,\"rgb(8,48,107)\"]],\"line\":{\"color\":\"Grey\",\"width\":0.5},\"showscale\":true},\"mode\":\"markers\",\"name\":\"Feasible Trial\",\"showlegend\":false,\"x\":[\"gini\",\"gini\",\"log_loss\",\"entropy\",\"entropy\",\"entropy\",\"log_loss\",\"gini\",\"log_loss\",\"log_loss\",\"log_loss\",\"entropy\",\"entropy\",\"log_loss\",\"entropy\",\"log_loss\",\"entropy\",\"entropy\",\"log_loss\",\"gini\",\"log_loss\",\"entropy\",\"entropy\",\"entropy\",\"entropy\",\"entropy\",\"entropy\",\"entropy\",\"gini\",\"log_loss\",\"gini\",\"entropy\",\"entropy\",\"entropy\",\"entropy\",\"entropy\",\"entropy\",\"gini\",\"log_loss\",\"entropy\",\"log_loss\",\"entropy\",\"entropy\",\"entropy\",\"entropy\",\"entropy\",\"log_loss\",\"log_loss\",\"log_loss\",\"log_loss\",\"log_loss\",\"log_loss\",\"log_loss\",\"log_loss\",\"log_loss\",\"log_loss\",\"log_loss\",\"log_loss\",\"log_loss\",\"log_loss\",\"log_loss\",\"log_loss\",\"log_loss\",\"log_loss\",\"log_loss\",\"log_loss\",\"log_loss\",\"log_loss\",\"log_loss\",\"log_loss\",\"gini\",\"gini\",\"gini\",\"gini\",\"gini\",\"gini\",\"gini\",\"gini\",\"gini\",\"gini\",\"gini\",\"gini\",\"gini\",\"gini\",\"gini\",\"gini\",\"log_loss\",\"gini\",\"log_loss\",\"log_loss\",\"gini\",\"log_loss\",\"log_loss\",\"log_loss\",\"log_loss\",\"log_loss\",\"log_loss\",\"log_loss\",\"log_loss\",\"gini\"],\"y\":[0.6813926102113866,0.6769969801905161,0.681217717770238,0.682546900322968,0.6811594202898551,0.6711905511443795,0.6825585598190447,0.682465283850432,0.6818939685426796,0.680634742966409,0.6824769433465085,0.6824536243543554,0.6781745892942507,0.6824186458661257,0.6789557755313815,0.6821971154406706,0.6801567036272692,0.683048258654261,0.6825119218347383,0.6796436857998998,0.6791539869646834,0.682406986370049,0.682465283850432,0.6810078468408596,0.6818473305583733,0.6825702193151212,0.6825119218347383,0.6731376869891683,0.6820338824955985,0.6824419648582788,0.681299334242774,0.682406986370049,0.6826051978033509,0.6823720078818194,0.6824186458661257,0.6792356034372194,0.6818589900544498,0.6753063532594121,0.6817890330779903,0.6824769433465085,0.6819989040073688,0.6824769433465085,0.6823603483857428,0.6822204344328238,0.6823486888896662,0.6820805204799049,0.6825818788111978,0.6827451117562698,0.6808329543997108,0.6822554129210535,0.6677276808096354,0.6824886028425852,0.6829666421817249,0.678221227278557,0.6828383877248825,0.6785943311530076,0.6819872445112922,0.6799235137057377,0.682686814275887,0.6825818788111978,0.6826285167955041,0.6825002623386617,0.6827217927641167,0.6828733662131122,0.6826168572994276,0.6813576317231569,0.6819989040073688,0.682908344701342,0.6817773735819138,0.6821971154406706,0.6830832371424908,0.6828383877248825,0.6824186458661257,0.6815441836603822,0.6804715100213369,0.682325369897513,0.6821621369524409,0.6825235813308149,0.6822554129210535,0.67960870731167,0.6830599181503375,0.6823836673778959,0.6824769433465085,0.6825119218347383,0.6818589900544498,0.6818356710622967,0.6825935383072743,0.6825002623386617,0.6827101332680402,0.6825702193151212,0.6824536243543554,0.6826751547798104,0.6774400410414262,0.682686814275887,0.6823486888896662,0.6828383877248825,0.6828034092366528,0.6822554129210535,0.6823720078818194,0.6813226532349271],\"type\":\"scatter\",\"xaxis\":\"x\",\"yaxis\":\"y\"},{\"marker\":{\"color\":[0,1,2,3,4,5,6,7,8,9,10,11,12,13,14,15,16,17,18,19,20,21,22,23,24,25,26,27,28,29,30,31,32,33,34,35,36,37,38,39,40,41,42,43,44,45,46,47,48,49,50,51,52,53,54,55,56,57,58,59,60,61,62,63,64,65,66,67,68,69,70,71,72,73,74,75,76,77,78,79,80,81,82,83,84,85,86,87,88,89,90,91,92,93,94,95,96,97,98,99],\"colorbar\":{\"title\":{\"text\":\"Trial\"},\"x\":1.0,\"xpad\":40},\"colorscale\":[[0.0,\"rgb(247,251,255)\"],[0.125,\"rgb(222,235,247)\"],[0.25,\"rgb(198,219,239)\"],[0.375,\"rgb(158,202,225)\"],[0.5,\"rgb(107,174,214)\"],[0.625,\"rgb(66,146,198)\"],[0.75,\"rgb(33,113,181)\"],[0.875,\"rgb(8,81,156)\"],[1.0,\"rgb(8,48,107)\"]],\"line\":{\"color\":\"Grey\",\"width\":0.5},\"showscale\":false},\"mode\":\"markers\",\"name\":\"Feasible Trial\",\"showlegend\":false,\"x\":[23,5,32,16,21,3,15,11,10,17,29,15,22,12,7,18,25,14,13,7,20,15,15,9,18,14,13,26,19,13,9,16,14,14,11,7,24,4,17,21,10,16,12,19,14,17,11,11,9,11,2,12,14,6,14,32,10,8,12,13,15,16,14,15,12,18,13,15,16,15,14,14,14,17,18,15,13,11,16,19,14,14,13,15,17,10,12,14,13,11,16,15,29,14,15,14,12,16,12,17],\"y\":[0.6813926102113866,0.6769969801905161,0.681217717770238,0.682546900322968,0.6811594202898551,0.6711905511443795,0.6825585598190447,0.682465283850432,0.6818939685426796,0.680634742966409,0.6824769433465085,0.6824536243543554,0.6781745892942507,0.6824186458661257,0.6789557755313815,0.6821971154406706,0.6801567036272692,0.683048258654261,0.6825119218347383,0.6796436857998998,0.6791539869646834,0.682406986370049,0.682465283850432,0.6810078468408596,0.6818473305583733,0.6825702193151212,0.6825119218347383,0.6731376869891683,0.6820338824955985,0.6824419648582788,0.681299334242774,0.682406986370049,0.6826051978033509,0.6823720078818194,0.6824186458661257,0.6792356034372194,0.6818589900544498,0.6753063532594121,0.6817890330779903,0.6824769433465085,0.6819989040073688,0.6824769433465085,0.6823603483857428,0.6822204344328238,0.6823486888896662,0.6820805204799049,0.6825818788111978,0.6827451117562698,0.6808329543997108,0.6822554129210535,0.6677276808096354,0.6824886028425852,0.6829666421817249,0.678221227278557,0.6828383877248825,0.6785943311530076,0.6819872445112922,0.6799235137057377,0.682686814275887,0.6825818788111978,0.6826285167955041,0.6825002623386617,0.6827217927641167,0.6828733662131122,0.6826168572994276,0.6813576317231569,0.6819989040073688,0.682908344701342,0.6817773735819138,0.6821971154406706,0.6830832371424908,0.6828383877248825,0.6824186458661257,0.6815441836603822,0.6804715100213369,0.682325369897513,0.6821621369524409,0.6825235813308149,0.6822554129210535,0.67960870731167,0.6830599181503375,0.6823836673778959,0.6824769433465085,0.6825119218347383,0.6818589900544498,0.6818356710622967,0.6825935383072743,0.6825002623386617,0.6827101332680402,0.6825702193151212,0.6824536243543554,0.6826751547798104,0.6774400410414262,0.682686814275887,0.6823486888896662,0.6828383877248825,0.6828034092366528,0.6822554129210535,0.6823720078818194,0.6813226532349271],\"type\":\"scatter\",\"xaxis\":\"x2\",\"yaxis\":\"y2\"},{\"marker\":{\"color\":[0,1,2,3,4,5,6,7,8,9,10,11,12,13,14,15,16,17,18,19,20,21,22,23,24,25,26,27,28,29,30,31,32,33,34,35,36,37,38,39,40,41,42,43,44,45,46,47,48,49,50,51,52,53,54,55,56,57,58,59,60,61,62,63,64,65,66,67,68,69,70,71,72,73,74,75,76,77,78,79,80,81,82,83,84,85,86,87,88,89,90,91,92,93,94,95,96,97,98,99],\"colorbar\":{\"title\":{\"text\":\"Trial\"},\"x\":1.0,\"xpad\":40},\"colorscale\":[[0.0,\"rgb(247,251,255)\"],[0.125,\"rgb(222,235,247)\"],[0.25,\"rgb(198,219,239)\"],[0.375,\"rgb(158,202,225)\"],[0.5,\"rgb(107,174,214)\"],[0.625,\"rgb(66,146,198)\"],[0.75,\"rgb(33,113,181)\"],[0.875,\"rgb(8,81,156)\"],[1.0,\"rgb(8,48,107)\"]],\"line\":{\"color\":\"Grey\",\"width\":0.5},\"showscale\":false},\"mode\":\"markers\",\"name\":\"Feasible Trial\",\"showlegend\":false,\"x\":[\"sqrt\",\"log2\",\"sqrt\",\"sqrt\",\"sqrt\",\"sqrt\",\"sqrt\",\"sqrt\",\"log2\",\"sqrt\",\"log2\",\"sqrt\",\"sqrt\",\"sqrt\",\"log2\",\"sqrt\",\"sqrt\",\"sqrt\",\"log2\",\"sqrt\",\"sqrt\",\"sqrt\",\"sqrt\",\"sqrt\",\"sqrt\",\"sqrt\",\"log2\",\"sqrt\",\"sqrt\",\"sqrt\",\"sqrt\",\"sqrt\",\"sqrt\",\"sqrt\",\"sqrt\",\"sqrt\",\"log2\",\"sqrt\",\"sqrt\",\"sqrt\",\"log2\",\"sqrt\",\"sqrt\",\"sqrt\",\"sqrt\",\"sqrt\",\"sqrt\",\"sqrt\",\"sqrt\",\"sqrt\",\"log2\",\"sqrt\",\"sqrt\",\"sqrt\",\"sqrt\",\"sqrt\",\"sqrt\",\"sqrt\",\"sqrt\",\"sqrt\",\"log2\",\"log2\",\"log2\",\"log2\",\"log2\",\"log2\",\"log2\",\"log2\",\"log2\",\"log2\",\"log2\",\"log2\",\"log2\",\"log2\",\"log2\",\"log2\",\"log2\",\"log2\",\"log2\",\"log2\",\"log2\",\"log2\",\"log2\",\"log2\",\"log2\",\"log2\",\"log2\",\"log2\",\"log2\",\"log2\",\"log2\",\"log2\",\"log2\",\"log2\",\"log2\",\"sqrt\",\"sqrt\",\"sqrt\",\"sqrt\",\"sqrt\"],\"y\":[0.6813926102113866,0.6769969801905161,0.681217717770238,0.682546900322968,0.6811594202898551,0.6711905511443795,0.6825585598190447,0.682465283850432,0.6818939685426796,0.680634742966409,0.6824769433465085,0.6824536243543554,0.6781745892942507,0.6824186458661257,0.6789557755313815,0.6821971154406706,0.6801567036272692,0.683048258654261,0.6825119218347383,0.6796436857998998,0.6791539869646834,0.682406986370049,0.682465283850432,0.6810078468408596,0.6818473305583733,0.6825702193151212,0.6825119218347383,0.6731376869891683,0.6820338824955985,0.6824419648582788,0.681299334242774,0.682406986370049,0.6826051978033509,0.6823720078818194,0.6824186458661257,0.6792356034372194,0.6818589900544498,0.6753063532594121,0.6817890330779903,0.6824769433465085,0.6819989040073688,0.6824769433465085,0.6823603483857428,0.6822204344328238,0.6823486888896662,0.6820805204799049,0.6825818788111978,0.6827451117562698,0.6808329543997108,0.6822554129210535,0.6677276808096354,0.6824886028425852,0.6829666421817249,0.678221227278557,0.6828383877248825,0.6785943311530076,0.6819872445112922,0.6799235137057377,0.682686814275887,0.6825818788111978,0.6826285167955041,0.6825002623386617,0.6827217927641167,0.6828733662131122,0.6826168572994276,0.6813576317231569,0.6819989040073688,0.682908344701342,0.6817773735819138,0.6821971154406706,0.6830832371424908,0.6828383877248825,0.6824186458661257,0.6815441836603822,0.6804715100213369,0.682325369897513,0.6821621369524409,0.6825235813308149,0.6822554129210535,0.67960870731167,0.6830599181503375,0.6823836673778959,0.6824769433465085,0.6825119218347383,0.6818589900544498,0.6818356710622967,0.6825935383072743,0.6825002623386617,0.6827101332680402,0.6825702193151212,0.6824536243543554,0.6826751547798104,0.6774400410414262,0.682686814275887,0.6823486888896662,0.6828383877248825,0.6828034092366528,0.6822554129210535,0.6823720078818194,0.6813226532349271],\"type\":\"scatter\",\"xaxis\":\"x3\",\"yaxis\":\"y3\"},{\"marker\":{\"color\":[0,1,2,3,4,5,6,7,8,9,10,11,12,13,14,15,16,17,18,19,20,21,22,23,24,25,26,27,28,29,30,31,32,33,34,35,36,37,38,39,40,41,42,43,44,45,46,47,48,49,50,51,52,53,54,55,56,57,58,59,60,61,62,63,64,65,66,67,68,69,70,71,72,73,74,75,76,77,78,79,80,81,82,83,84,85,86,87,88,89,90,91,92,93,94,95,96,97,98,99],\"colorbar\":{\"title\":{\"text\":\"Trial\"},\"x\":1.0,\"xpad\":40},\"colorscale\":[[0.0,\"rgb(247,251,255)\"],[0.125,\"rgb(222,235,247)\"],[0.25,\"rgb(198,219,239)\"],[0.375,\"rgb(158,202,225)\"],[0.5,\"rgb(107,174,214)\"],[0.625,\"rgb(66,146,198)\"],[0.75,\"rgb(33,113,181)\"],[0.875,\"rgb(8,81,156)\"],[1.0,\"rgb(8,48,107)\"]],\"line\":{\"color\":\"Grey\",\"width\":0.5},\"showscale\":false},\"mode\":\"markers\",\"name\":\"Feasible Trial\",\"showlegend\":false,\"x\":[18,16,16,23,11,19,3,19,18,2,30,28,1,24,7,24,11,6,5,9,4,23,12,6,14,21,8,2,21,4,27,21,26,26,32,15,21,29,17,26,13,23,19,25,22,17,9,9,9,10,6,3,1,1,7,7,11,5,9,7,3,3,5,5,5,6,8,1,2,1,4,4,4,3,2,4,6,1,2,4,8,8,7,10,5,4,7,6,3,8,10,5,5,2,6,4,1,1,2,3],\"y\":[0.6813926102113866,0.6769969801905161,0.681217717770238,0.682546900322968,0.6811594202898551,0.6711905511443795,0.6825585598190447,0.682465283850432,0.6818939685426796,0.680634742966409,0.6824769433465085,0.6824536243543554,0.6781745892942507,0.6824186458661257,0.6789557755313815,0.6821971154406706,0.6801567036272692,0.683048258654261,0.6825119218347383,0.6796436857998998,0.6791539869646834,0.682406986370049,0.682465283850432,0.6810078468408596,0.6818473305583733,0.6825702193151212,0.6825119218347383,0.6731376869891683,0.6820338824955985,0.6824419648582788,0.681299334242774,0.682406986370049,0.6826051978033509,0.6823720078818194,0.6824186458661257,0.6792356034372194,0.6818589900544498,0.6753063532594121,0.6817890330779903,0.6824769433465085,0.6819989040073688,0.6824769433465085,0.6823603483857428,0.6822204344328238,0.6823486888896662,0.6820805204799049,0.6825818788111978,0.6827451117562698,0.6808329543997108,0.6822554129210535,0.6677276808096354,0.6824886028425852,0.6829666421817249,0.678221227278557,0.6828383877248825,0.6785943311530076,0.6819872445112922,0.6799235137057377,0.682686814275887,0.6825818788111978,0.6826285167955041,0.6825002623386617,0.6827217927641167,0.6828733662131122,0.6826168572994276,0.6813576317231569,0.6819989040073688,0.682908344701342,0.6817773735819138,0.6821971154406706,0.6830832371424908,0.6828383877248825,0.6824186458661257,0.6815441836603822,0.6804715100213369,0.682325369897513,0.6821621369524409,0.6825235813308149,0.6822554129210535,0.67960870731167,0.6830599181503375,0.6823836673778959,0.6824769433465085,0.6825119218347383,0.6818589900544498,0.6818356710622967,0.6825935383072743,0.6825002623386617,0.6827101332680402,0.6825702193151212,0.6824536243543554,0.6826751547798104,0.6774400410414262,0.682686814275887,0.6823486888896662,0.6828383877248825,0.6828034092366528,0.6822554129210535,0.6823720078818194,0.6813226532349271],\"type\":\"scatter\",\"xaxis\":\"x4\",\"yaxis\":\"y4\"},{\"marker\":{\"color\":[0,1,2,3,4,5,6,7,8,9,10,11,12,13,14,15,16,17,18,19,20,21,22,23,24,25,26,27,28,29,30,31,32,33,34,35,36,37,38,39,40,41,42,43,44,45,46,47,48,49,50,51,52,53,54,55,56,57,58,59,60,61,62,63,64,65,66,67,68,69,70,71,72,73,74,75,76,77,78,79,80,81,82,83,84,85,86,87,88,89,90,91,92,93,94,95,96,97,98,99],\"colorbar\":{\"title\":{\"text\":\"Trial\"},\"x\":1.0,\"xpad\":40},\"colorscale\":[[0.0,\"rgb(247,251,255)\"],[0.125,\"rgb(222,235,247)\"],[0.25,\"rgb(198,219,239)\"],[0.375,\"rgb(158,202,225)\"],[0.5,\"rgb(107,174,214)\"],[0.625,\"rgb(66,146,198)\"],[0.75,\"rgb(33,113,181)\"],[0.875,\"rgb(8,81,156)\"],[1.0,\"rgb(8,48,107)\"]],\"line\":{\"color\":\"Grey\",\"width\":0.5},\"showscale\":false},\"mode\":\"markers\",\"name\":\"Feasible Trial\",\"showlegend\":false,\"x\":[31,9,30,30,4,16,22,22,14,7,23,25,27,20,32,27,13,19,19,11,17,26,22,29,19,25,24,17,21,28,24,32,30,29,25,20,30,15,18,22,26,30,31,4,28,23,27,25,27,25,9,23,21,20,26,28,26,21,31,31,29,32,29,29,29,16,24,28,26,28,23,23,23,21,19,24,21,25,22,18,27,27,26,23,24,20,22,25,18,28,27,29,26,30,27,24,24,23,2,21],\"y\":[0.6813926102113866,0.6769969801905161,0.681217717770238,0.682546900322968,0.6811594202898551,0.6711905511443795,0.6825585598190447,0.682465283850432,0.6818939685426796,0.680634742966409,0.6824769433465085,0.6824536243543554,0.6781745892942507,0.6824186458661257,0.6789557755313815,0.6821971154406706,0.6801567036272692,0.683048258654261,0.6825119218347383,0.6796436857998998,0.6791539869646834,0.682406986370049,0.682465283850432,0.6810078468408596,0.6818473305583733,0.6825702193151212,0.6825119218347383,0.6731376869891683,0.6820338824955985,0.6824419648582788,0.681299334242774,0.682406986370049,0.6826051978033509,0.6823720078818194,0.6824186458661257,0.6792356034372194,0.6818589900544498,0.6753063532594121,0.6817890330779903,0.6824769433465085,0.6819989040073688,0.6824769433465085,0.6823603483857428,0.6822204344328238,0.6823486888896662,0.6820805204799049,0.6825818788111978,0.6827451117562698,0.6808329543997108,0.6822554129210535,0.6677276808096354,0.6824886028425852,0.6829666421817249,0.678221227278557,0.6828383877248825,0.6785943311530076,0.6819872445112922,0.6799235137057377,0.682686814275887,0.6825818788111978,0.6826285167955041,0.6825002623386617,0.6827217927641167,0.6828733662131122,0.6826168572994276,0.6813576317231569,0.6819989040073688,0.682908344701342,0.6817773735819138,0.6821971154406706,0.6830832371424908,0.6828383877248825,0.6824186458661257,0.6815441836603822,0.6804715100213369,0.682325369897513,0.6821621369524409,0.6825235813308149,0.6822554129210535,0.67960870731167,0.6830599181503375,0.6823836673778959,0.6824769433465085,0.6825119218347383,0.6818589900544498,0.6818356710622967,0.6825935383072743,0.6825002623386617,0.6827101332680402,0.6825702193151212,0.6824536243543554,0.6826751547798104,0.6774400410414262,0.682686814275887,0.6823486888896662,0.6828383877248825,0.6828034092366528,0.6822554129210535,0.6823720078818194,0.6813226532349271],\"type\":\"scatter\",\"xaxis\":\"x5\",\"yaxis\":\"y5\"},{\"marker\":{\"color\":[0,1,2,3,4,5,6,7,8,9,10,11,12,13,14,15,16,17,18,19,20,21,22,23,24,25,26,27,28,29,30,31,32,33,34,35,36,37,38,39,40,41,42,43,44,45,46,47,48,49,50,51,52,53,54,55,56,57,58,59,60,61,62,63,64,65,66,67,68,69,70,71,72,73,74,75,76,77,78,79,80,81,82,83,84,85,86,87,88,89,90,91,92,93,94,95,96,97,98,99],\"colorbar\":{\"title\":{\"text\":\"Trial\"},\"x\":1.0,\"xpad\":40},\"colorscale\":[[0.0,\"rgb(247,251,255)\"],[0.125,\"rgb(222,235,247)\"],[0.25,\"rgb(198,219,239)\"],[0.375,\"rgb(158,202,225)\"],[0.5,\"rgb(107,174,214)\"],[0.625,\"rgb(66,146,198)\"],[0.75,\"rgb(33,113,181)\"],[0.875,\"rgb(8,81,156)\"],[1.0,\"rgb(8,48,107)\"]],\"line\":{\"color\":\"Grey\",\"width\":0.5},\"showscale\":false},\"mode\":\"markers\",\"name\":\"Feasible Trial\",\"showlegend\":false,\"x\":[149,177,397,361,276,130,436,400,102,123,286,486,386,470,348,225,452,330,326,440,227,352,367,418,316,499,494,430,500,466,259,420,374,382,320,404,454,340,369,405,476,298,368,265,388,442,337,341,165,296,334,352,304,308,279,223,280,249,242,215,202,240,193,197,192,148,176,269,269,288,311,306,321,309,275,331,306,292,258,113,358,357,342,321,281,346,313,301,327,379,359,143,197,172,287,162,334,302,158,319],\"y\":[0.6813926102113866,0.6769969801905161,0.681217717770238,0.682546900322968,0.6811594202898551,0.6711905511443795,0.6825585598190447,0.682465283850432,0.6818939685426796,0.680634742966409,0.6824769433465085,0.6824536243543554,0.6781745892942507,0.6824186458661257,0.6789557755313815,0.6821971154406706,0.6801567036272692,0.683048258654261,0.6825119218347383,0.6796436857998998,0.6791539869646834,0.682406986370049,0.682465283850432,0.6810078468408596,0.6818473305583733,0.6825702193151212,0.6825119218347383,0.6731376869891683,0.6820338824955985,0.6824419648582788,0.681299334242774,0.682406986370049,0.6826051978033509,0.6823720078818194,0.6824186458661257,0.6792356034372194,0.6818589900544498,0.6753063532594121,0.6817890330779903,0.6824769433465085,0.6819989040073688,0.6824769433465085,0.6823603483857428,0.6822204344328238,0.6823486888896662,0.6820805204799049,0.6825818788111978,0.6827451117562698,0.6808329543997108,0.6822554129210535,0.6677276808096354,0.6824886028425852,0.6829666421817249,0.678221227278557,0.6828383877248825,0.6785943311530076,0.6819872445112922,0.6799235137057377,0.682686814275887,0.6825818788111978,0.6826285167955041,0.6825002623386617,0.6827217927641167,0.6828733662131122,0.6826168572994276,0.6813576317231569,0.6819989040073688,0.682908344701342,0.6817773735819138,0.6821971154406706,0.6830832371424908,0.6828383877248825,0.6824186458661257,0.6815441836603822,0.6804715100213369,0.682325369897513,0.6821621369524409,0.6825235813308149,0.6822554129210535,0.67960870731167,0.6830599181503375,0.6823836673778959,0.6824769433465085,0.6825119218347383,0.6818589900544498,0.6818356710622967,0.6825935383072743,0.6825002623386617,0.6827101332680402,0.6825702193151212,0.6824536243543554,0.6826751547798104,0.6774400410414262,0.682686814275887,0.6823486888896662,0.6828383877248825,0.6828034092366528,0.6822554129210535,0.6823720078818194,0.6813226532349271],\"type\":\"scatter\",\"xaxis\":\"x6\",\"yaxis\":\"y6\"}],                        {\"template\":{\"data\":{\"histogram2dcontour\":[{\"type\":\"histogram2dcontour\",\"colorbar\":{\"outlinewidth\":0,\"ticks\":\"\"},\"colorscale\":[[0.0,\"#0d0887\"],[0.1111111111111111,\"#46039f\"],[0.2222222222222222,\"#7201a8\"],[0.3333333333333333,\"#9c179e\"],[0.4444444444444444,\"#bd3786\"],[0.5555555555555556,\"#d8576b\"],[0.6666666666666666,\"#ed7953\"],[0.7777777777777778,\"#fb9f3a\"],[0.8888888888888888,\"#fdca26\"],[1.0,\"#f0f921\"]]}],\"choropleth\":[{\"type\":\"choropleth\",\"colorbar\":{\"outlinewidth\":0,\"ticks\":\"\"}}],\"histogram2d\":[{\"type\":\"histogram2d\",\"colorbar\":{\"outlinewidth\":0,\"ticks\":\"\"},\"colorscale\":[[0.0,\"#0d0887\"],[0.1111111111111111,\"#46039f\"],[0.2222222222222222,\"#7201a8\"],[0.3333333333333333,\"#9c179e\"],[0.4444444444444444,\"#bd3786\"],[0.5555555555555556,\"#d8576b\"],[0.6666666666666666,\"#ed7953\"],[0.7777777777777778,\"#fb9f3a\"],[0.8888888888888888,\"#fdca26\"],[1.0,\"#f0f921\"]]}],\"heatmap\":[{\"type\":\"heatmap\",\"colorbar\":{\"outlinewidth\":0,\"ticks\":\"\"},\"colorscale\":[[0.0,\"#0d0887\"],[0.1111111111111111,\"#46039f\"],[0.2222222222222222,\"#7201a8\"],[0.3333333333333333,\"#9c179e\"],[0.4444444444444444,\"#bd3786\"],[0.5555555555555556,\"#d8576b\"],[0.6666666666666666,\"#ed7953\"],[0.7777777777777778,\"#fb9f3a\"],[0.8888888888888888,\"#fdca26\"],[1.0,\"#f0f921\"]]}],\"heatmapgl\":[{\"type\":\"heatmapgl\",\"colorbar\":{\"outlinewidth\":0,\"ticks\":\"\"},\"colorscale\":[[0.0,\"#0d0887\"],[0.1111111111111111,\"#46039f\"],[0.2222222222222222,\"#7201a8\"],[0.3333333333333333,\"#9c179e\"],[0.4444444444444444,\"#bd3786\"],[0.5555555555555556,\"#d8576b\"],[0.6666666666666666,\"#ed7953\"],[0.7777777777777778,\"#fb9f3a\"],[0.8888888888888888,\"#fdca26\"],[1.0,\"#f0f921\"]]}],\"contourcarpet\":[{\"type\":\"contourcarpet\",\"colorbar\":{\"outlinewidth\":0,\"ticks\":\"\"}}],\"contour\":[{\"type\":\"contour\",\"colorbar\":{\"outlinewidth\":0,\"ticks\":\"\"},\"colorscale\":[[0.0,\"#0d0887\"],[0.1111111111111111,\"#46039f\"],[0.2222222222222222,\"#7201a8\"],[0.3333333333333333,\"#9c179e\"],[0.4444444444444444,\"#bd3786\"],[0.5555555555555556,\"#d8576b\"],[0.6666666666666666,\"#ed7953\"],[0.7777777777777778,\"#fb9f3a\"],[0.8888888888888888,\"#fdca26\"],[1.0,\"#f0f921\"]]}],\"surface\":[{\"type\":\"surface\",\"colorbar\":{\"outlinewidth\":0,\"ticks\":\"\"},\"colorscale\":[[0.0,\"#0d0887\"],[0.1111111111111111,\"#46039f\"],[0.2222222222222222,\"#7201a8\"],[0.3333333333333333,\"#9c179e\"],[0.4444444444444444,\"#bd3786\"],[0.5555555555555556,\"#d8576b\"],[0.6666666666666666,\"#ed7953\"],[0.7777777777777778,\"#fb9f3a\"],[0.8888888888888888,\"#fdca26\"],[1.0,\"#f0f921\"]]}],\"mesh3d\":[{\"type\":\"mesh3d\",\"colorbar\":{\"outlinewidth\":0,\"ticks\":\"\"}}],\"scatter\":[{\"fillpattern\":{\"fillmode\":\"overlay\",\"size\":10,\"solidity\":0.2},\"type\":\"scatter\"}],\"parcoords\":[{\"type\":\"parcoords\",\"line\":{\"colorbar\":{\"outlinewidth\":0,\"ticks\":\"\"}}}],\"scatterpolargl\":[{\"type\":\"scatterpolargl\",\"marker\":{\"colorbar\":{\"outlinewidth\":0,\"ticks\":\"\"}}}],\"bar\":[{\"error_x\":{\"color\":\"#2a3f5f\"},\"error_y\":{\"color\":\"#2a3f5f\"},\"marker\":{\"line\":{\"color\":\"#E5ECF6\",\"width\":0.5},\"pattern\":{\"fillmode\":\"overlay\",\"size\":10,\"solidity\":0.2}},\"type\":\"bar\"}],\"scattergeo\":[{\"type\":\"scattergeo\",\"marker\":{\"colorbar\":{\"outlinewidth\":0,\"ticks\":\"\"}}}],\"scatterpolar\":[{\"type\":\"scatterpolar\",\"marker\":{\"colorbar\":{\"outlinewidth\":0,\"ticks\":\"\"}}}],\"histogram\":[{\"marker\":{\"pattern\":{\"fillmode\":\"overlay\",\"size\":10,\"solidity\":0.2}},\"type\":\"histogram\"}],\"scattergl\":[{\"type\":\"scattergl\",\"marker\":{\"colorbar\":{\"outlinewidth\":0,\"ticks\":\"\"}}}],\"scatter3d\":[{\"type\":\"scatter3d\",\"line\":{\"colorbar\":{\"outlinewidth\":0,\"ticks\":\"\"}},\"marker\":{\"colorbar\":{\"outlinewidth\":0,\"ticks\":\"\"}}}],\"scattermapbox\":[{\"type\":\"scattermapbox\",\"marker\":{\"colorbar\":{\"outlinewidth\":0,\"ticks\":\"\"}}}],\"scatterternary\":[{\"type\":\"scatterternary\",\"marker\":{\"colorbar\":{\"outlinewidth\":0,\"ticks\":\"\"}}}],\"scattercarpet\":[{\"type\":\"scattercarpet\",\"marker\":{\"colorbar\":{\"outlinewidth\":0,\"ticks\":\"\"}}}],\"carpet\":[{\"aaxis\":{\"endlinecolor\":\"#2a3f5f\",\"gridcolor\":\"white\",\"linecolor\":\"white\",\"minorgridcolor\":\"white\",\"startlinecolor\":\"#2a3f5f\"},\"baxis\":{\"endlinecolor\":\"#2a3f5f\",\"gridcolor\":\"white\",\"linecolor\":\"white\",\"minorgridcolor\":\"white\",\"startlinecolor\":\"#2a3f5f\"},\"type\":\"carpet\"}],\"table\":[{\"cells\":{\"fill\":{\"color\":\"#EBF0F8\"},\"line\":{\"color\":\"white\"}},\"header\":{\"fill\":{\"color\":\"#C8D4E3\"},\"line\":{\"color\":\"white\"}},\"type\":\"table\"}],\"barpolar\":[{\"marker\":{\"line\":{\"color\":\"#E5ECF6\",\"width\":0.5},\"pattern\":{\"fillmode\":\"overlay\",\"size\":10,\"solidity\":0.2}},\"type\":\"barpolar\"}],\"pie\":[{\"automargin\":true,\"type\":\"pie\"}]},\"layout\":{\"autotypenumbers\":\"strict\",\"colorway\":[\"#636efa\",\"#EF553B\",\"#00cc96\",\"#ab63fa\",\"#FFA15A\",\"#19d3f3\",\"#FF6692\",\"#B6E880\",\"#FF97FF\",\"#FECB52\"],\"font\":{\"color\":\"#2a3f5f\"},\"hovermode\":\"closest\",\"hoverlabel\":{\"align\":\"left\"},\"paper_bgcolor\":\"white\",\"plot_bgcolor\":\"#E5ECF6\",\"polar\":{\"bgcolor\":\"#E5ECF6\",\"angularaxis\":{\"gridcolor\":\"white\",\"linecolor\":\"white\",\"ticks\":\"\"},\"radialaxis\":{\"gridcolor\":\"white\",\"linecolor\":\"white\",\"ticks\":\"\"}},\"ternary\":{\"bgcolor\":\"#E5ECF6\",\"aaxis\":{\"gridcolor\":\"white\",\"linecolor\":\"white\",\"ticks\":\"\"},\"baxis\":{\"gridcolor\":\"white\",\"linecolor\":\"white\",\"ticks\":\"\"},\"caxis\":{\"gridcolor\":\"white\",\"linecolor\":\"white\",\"ticks\":\"\"}},\"coloraxis\":{\"colorbar\":{\"outlinewidth\":0,\"ticks\":\"\"}},\"colorscale\":{\"sequential\":[[0.0,\"#0d0887\"],[0.1111111111111111,\"#46039f\"],[0.2222222222222222,\"#7201a8\"],[0.3333333333333333,\"#9c179e\"],[0.4444444444444444,\"#bd3786\"],[0.5555555555555556,\"#d8576b\"],[0.6666666666666666,\"#ed7953\"],[0.7777777777777778,\"#fb9f3a\"],[0.8888888888888888,\"#fdca26\"],[1.0,\"#f0f921\"]],\"sequentialminus\":[[0.0,\"#0d0887\"],[0.1111111111111111,\"#46039f\"],[0.2222222222222222,\"#7201a8\"],[0.3333333333333333,\"#9c179e\"],[0.4444444444444444,\"#bd3786\"],[0.5555555555555556,\"#d8576b\"],[0.6666666666666666,\"#ed7953\"],[0.7777777777777778,\"#fb9f3a\"],[0.8888888888888888,\"#fdca26\"],[1.0,\"#f0f921\"]],\"diverging\":[[0,\"#8e0152\"],[0.1,\"#c51b7d\"],[0.2,\"#de77ae\"],[0.3,\"#f1b6da\"],[0.4,\"#fde0ef\"],[0.5,\"#f7f7f7\"],[0.6,\"#e6f5d0\"],[0.7,\"#b8e186\"],[0.8,\"#7fbc41\"],[0.9,\"#4d9221\"],[1,\"#276419\"]]},\"xaxis\":{\"gridcolor\":\"white\",\"linecolor\":\"white\",\"ticks\":\"\",\"title\":{\"standoff\":15},\"zerolinecolor\":\"white\",\"automargin\":true,\"zerolinewidth\":2},\"yaxis\":{\"gridcolor\":\"white\",\"linecolor\":\"white\",\"ticks\":\"\",\"title\":{\"standoff\":15},\"zerolinecolor\":\"white\",\"automargin\":true,\"zerolinewidth\":2},\"scene\":{\"xaxis\":{\"backgroundcolor\":\"#E5ECF6\",\"gridcolor\":\"white\",\"linecolor\":\"white\",\"showbackground\":true,\"ticks\":\"\",\"zerolinecolor\":\"white\",\"gridwidth\":2},\"yaxis\":{\"backgroundcolor\":\"#E5ECF6\",\"gridcolor\":\"white\",\"linecolor\":\"white\",\"showbackground\":true,\"ticks\":\"\",\"zerolinecolor\":\"white\",\"gridwidth\":2},\"zaxis\":{\"backgroundcolor\":\"#E5ECF6\",\"gridcolor\":\"white\",\"linecolor\":\"white\",\"showbackground\":true,\"ticks\":\"\",\"zerolinecolor\":\"white\",\"gridwidth\":2}},\"shapedefaults\":{\"line\":{\"color\":\"#2a3f5f\"}},\"annotationdefaults\":{\"arrowcolor\":\"#2a3f5f\",\"arrowhead\":0,\"arrowwidth\":1},\"geo\":{\"bgcolor\":\"white\",\"landcolor\":\"#E5ECF6\",\"subunitcolor\":\"white\",\"showland\":true,\"showlakes\":true,\"lakecolor\":\"white\"},\"title\":{\"x\":0.05},\"mapbox\":{\"style\":\"light\"}}},\"xaxis\":{\"anchor\":\"y\",\"domain\":[0.0,0.1388888888888889],\"title\":{\"text\":\"criterion\"},\"type\":\"category\",\"categoryorder\":\"array\",\"categoryarray\":[\"gini\",\"entropy\",\"log_loss\"]},\"yaxis\":{\"anchor\":\"x\",\"domain\":[0.0,1.0],\"title\":{\"text\":\"Objective Value\"}},\"xaxis2\":{\"anchor\":\"y2\",\"domain\":[0.17222222222222222,0.3111111111111111],\"title\":{\"text\":\"max_depth\"}},\"yaxis2\":{\"anchor\":\"x2\",\"domain\":[0.0,1.0],\"matches\":\"y\",\"showticklabels\":false},\"xaxis3\":{\"anchor\":\"y3\",\"domain\":[0.34444444444444444,0.48333333333333334],\"title\":{\"text\":\"max_features\"},\"type\":\"category\",\"categoryorder\":\"array\",\"categoryarray\":[\"sqrt\",\"log2\"]},\"yaxis3\":{\"anchor\":\"x3\",\"domain\":[0.0,1.0],\"matches\":\"y\",\"showticklabels\":false},\"xaxis4\":{\"anchor\":\"y4\",\"domain\":[0.5166666666666667,0.6555555555555557],\"title\":{\"text\":\"min_samples_leaf\"}},\"yaxis4\":{\"anchor\":\"x4\",\"domain\":[0.0,1.0],\"matches\":\"y\",\"showticklabels\":false},\"xaxis5\":{\"anchor\":\"y5\",\"domain\":[0.6888888888888889,0.8277777777777777],\"title\":{\"text\":\"min_samples_split\"}},\"yaxis5\":{\"anchor\":\"x5\",\"domain\":[0.0,1.0],\"matches\":\"y\",\"showticklabels\":false},\"xaxis6\":{\"anchor\":\"y6\",\"domain\":[0.861111111111111,1.0],\"title\":{\"text\":\"n_estimators\"}},\"yaxis6\":{\"anchor\":\"x6\",\"domain\":[0.0,1.0],\"matches\":\"y\",\"showticklabels\":false},\"title\":{\"text\":\"Slice Plot\"},\"width\":1800},                        {\"responsive\": true}                    )                };                            </script>        </div>"
      ],
      "text/plain": [
       "Figure({\n",
       "    'data': [{'marker': {'color': [0, 1, 2, 3, 4, 5, 6, 7, 8, 9, 10, 11, 12, 13,\n",
       "                                   14, 15, 16, 17, 18, 19, 20, 21, 22, 23, 24, 25,\n",
       "                                   26, 27, 28, 29, 30, 31, 32, 33, 34, 35, 36, 37,\n",
       "                                   38, 39, 40, 41, 42, 43, 44, 45, 46, 47, 48, 49,\n",
       "                                   50, 51, 52, 53, 54, 55, 56, 57, 58, 59, 60, 61,\n",
       "                                   62, 63, 64, 65, 66, 67, 68, 69, 70, 71, 72, 73,\n",
       "                                   74, 75, 76, 77, 78, 79, 80, 81, 82, 83, 84, 85,\n",
       "                                   86, 87, 88, 89, 90, 91, 92, 93, 94, 95, 96, 97,\n",
       "                                   98, 99],\n",
       "                         'colorbar': {'title': {'text': 'Trial'}, 'x': 1.0, 'xpad': 40},\n",
       "                         'colorscale': [[0.0, 'rgb(247,251,255)'], [0.125,\n",
       "                                        'rgb(222,235,247)'], [0.25,\n",
       "                                        'rgb(198,219,239)'], [0.375,\n",
       "                                        'rgb(158,202,225)'], [0.5,\n",
       "                                        'rgb(107,174,214)'], [0.625,\n",
       "                                        'rgb(66,146,198)'], [0.75,\n",
       "                                        'rgb(33,113,181)'], [0.875,\n",
       "                                        'rgb(8,81,156)'], [1.0, 'rgb(8,48,107)']],\n",
       "                         'line': {'color': 'Grey', 'width': 0.5},\n",
       "                         'showscale': True},\n",
       "              'mode': 'markers',\n",
       "              'name': 'Feasible Trial',\n",
       "              'showlegend': False,\n",
       "              'type': 'scatter',\n",
       "              'x': [gini, gini, log_loss, entropy, entropy, entropy, log_loss,\n",
       "                    gini, log_loss, log_loss, log_loss, entropy, entropy, log_loss,\n",
       "                    entropy, log_loss, entropy, entropy, log_loss, gini, log_loss,\n",
       "                    entropy, entropy, entropy, entropy, entropy, entropy, entropy,\n",
       "                    gini, log_loss, gini, entropy, entropy, entropy, entropy,\n",
       "                    entropy, entropy, gini, log_loss, entropy, log_loss, entropy,\n",
       "                    entropy, entropy, entropy, entropy, log_loss, log_loss,\n",
       "                    log_loss, log_loss, log_loss, log_loss, log_loss, log_loss,\n",
       "                    log_loss, log_loss, log_loss, log_loss, log_loss, log_loss,\n",
       "                    log_loss, log_loss, log_loss, log_loss, log_loss, log_loss,\n",
       "                    log_loss, log_loss, log_loss, log_loss, gini, gini, gini, gini,\n",
       "                    gini, gini, gini, gini, gini, gini, gini, gini, gini, gini,\n",
       "                    gini, gini, log_loss, gini, log_loss, log_loss, gini, log_loss,\n",
       "                    log_loss, log_loss, log_loss, log_loss, log_loss, log_loss,\n",
       "                    log_loss, gini],\n",
       "              'xaxis': 'x',\n",
       "              'y': [0.6813926102113866, 0.6769969801905161, 0.681217717770238,\n",
       "                    0.682546900322968, 0.6811594202898551, 0.6711905511443795,\n",
       "                    0.6825585598190447, 0.682465283850432, 0.6818939685426796,\n",
       "                    0.680634742966409, 0.6824769433465085, 0.6824536243543554,\n",
       "                    0.6781745892942507, 0.6824186458661257, 0.6789557755313815,\n",
       "                    0.6821971154406706, 0.6801567036272692, 0.683048258654261,\n",
       "                    0.6825119218347383, 0.6796436857998998, 0.6791539869646834,\n",
       "                    0.682406986370049, 0.682465283850432, 0.6810078468408596,\n",
       "                    0.6818473305583733, 0.6825702193151212, 0.6825119218347383,\n",
       "                    0.6731376869891683, 0.6820338824955985, 0.6824419648582788,\n",
       "                    0.681299334242774, 0.682406986370049, 0.6826051978033509,\n",
       "                    0.6823720078818194, 0.6824186458661257, 0.6792356034372194,\n",
       "                    0.6818589900544498, 0.6753063532594121, 0.6817890330779903,\n",
       "                    0.6824769433465085, 0.6819989040073688, 0.6824769433465085,\n",
       "                    0.6823603483857428, 0.6822204344328238, 0.6823486888896662,\n",
       "                    0.6820805204799049, 0.6825818788111978, 0.6827451117562698,\n",
       "                    0.6808329543997108, 0.6822554129210535, 0.6677276808096354,\n",
       "                    0.6824886028425852, 0.6829666421817249, 0.678221227278557,\n",
       "                    0.6828383877248825, 0.6785943311530076, 0.6819872445112922,\n",
       "                    0.6799235137057377, 0.682686814275887, 0.6825818788111978,\n",
       "                    0.6826285167955041, 0.6825002623386617, 0.6827217927641167,\n",
       "                    0.6828733662131122, 0.6826168572994276, 0.6813576317231569,\n",
       "                    0.6819989040073688, 0.682908344701342, 0.6817773735819138,\n",
       "                    0.6821971154406706, 0.6830832371424908, 0.6828383877248825,\n",
       "                    0.6824186458661257, 0.6815441836603822, 0.6804715100213369,\n",
       "                    0.682325369897513, 0.6821621369524409, 0.6825235813308149,\n",
       "                    0.6822554129210535, 0.67960870731167, 0.6830599181503375,\n",
       "                    0.6823836673778959, 0.6824769433465085, 0.6825119218347383,\n",
       "                    0.6818589900544498, 0.6818356710622967, 0.6825935383072743,\n",
       "                    0.6825002623386617, 0.6827101332680402, 0.6825702193151212,\n",
       "                    0.6824536243543554, 0.6826751547798104, 0.6774400410414262,\n",
       "                    0.682686814275887, 0.6823486888896662, 0.6828383877248825,\n",
       "                    0.6828034092366528, 0.6822554129210535, 0.6823720078818194,\n",
       "                    0.6813226532349271],\n",
       "              'yaxis': 'y'},\n",
       "             {'marker': {'color': [0, 1, 2, 3, 4, 5, 6, 7, 8, 9, 10, 11, 12, 13,\n",
       "                                   14, 15, 16, 17, 18, 19, 20, 21, 22, 23, 24, 25,\n",
       "                                   26, 27, 28, 29, 30, 31, 32, 33, 34, 35, 36, 37,\n",
       "                                   38, 39, 40, 41, 42, 43, 44, 45, 46, 47, 48, 49,\n",
       "                                   50, 51, 52, 53, 54, 55, 56, 57, 58, 59, 60, 61,\n",
       "                                   62, 63, 64, 65, 66, 67, 68, 69, 70, 71, 72, 73,\n",
       "                                   74, 75, 76, 77, 78, 79, 80, 81, 82, 83, 84, 85,\n",
       "                                   86, 87, 88, 89, 90, 91, 92, 93, 94, 95, 96, 97,\n",
       "                                   98, 99],\n",
       "                         'colorbar': {'title': {'text': 'Trial'}, 'x': 1.0, 'xpad': 40},\n",
       "                         'colorscale': [[0.0, 'rgb(247,251,255)'], [0.125,\n",
       "                                        'rgb(222,235,247)'], [0.25,\n",
       "                                        'rgb(198,219,239)'], [0.375,\n",
       "                                        'rgb(158,202,225)'], [0.5,\n",
       "                                        'rgb(107,174,214)'], [0.625,\n",
       "                                        'rgb(66,146,198)'], [0.75,\n",
       "                                        'rgb(33,113,181)'], [0.875,\n",
       "                                        'rgb(8,81,156)'], [1.0, 'rgb(8,48,107)']],\n",
       "                         'line': {'color': 'Grey', 'width': 0.5},\n",
       "                         'showscale': False},\n",
       "              'mode': 'markers',\n",
       "              'name': 'Feasible Trial',\n",
       "              'showlegend': False,\n",
       "              'type': 'scatter',\n",
       "              'x': [23, 5, 32, 16, 21, 3, 15, 11, 10, 17, 29, 15, 22, 12, 7, 18,\n",
       "                    25, 14, 13, 7, 20, 15, 15, 9, 18, 14, 13, 26, 19, 13, 9, 16,\n",
       "                    14, 14, 11, 7, 24, 4, 17, 21, 10, 16, 12, 19, 14, 17, 11, 11,\n",
       "                    9, 11, 2, 12, 14, 6, 14, 32, 10, 8, 12, 13, 15, 16, 14, 15, 12,\n",
       "                    18, 13, 15, 16, 15, 14, 14, 14, 17, 18, 15, 13, 11, 16, 19, 14,\n",
       "                    14, 13, 15, 17, 10, 12, 14, 13, 11, 16, 15, 29, 14, 15, 14, 12,\n",
       "                    16, 12, 17],\n",
       "              'xaxis': 'x2',\n",
       "              'y': [0.6813926102113866, 0.6769969801905161, 0.681217717770238,\n",
       "                    0.682546900322968, 0.6811594202898551, 0.6711905511443795,\n",
       "                    0.6825585598190447, 0.682465283850432, 0.6818939685426796,\n",
       "                    0.680634742966409, 0.6824769433465085, 0.6824536243543554,\n",
       "                    0.6781745892942507, 0.6824186458661257, 0.6789557755313815,\n",
       "                    0.6821971154406706, 0.6801567036272692, 0.683048258654261,\n",
       "                    0.6825119218347383, 0.6796436857998998, 0.6791539869646834,\n",
       "                    0.682406986370049, 0.682465283850432, 0.6810078468408596,\n",
       "                    0.6818473305583733, 0.6825702193151212, 0.6825119218347383,\n",
       "                    0.6731376869891683, 0.6820338824955985, 0.6824419648582788,\n",
       "                    0.681299334242774, 0.682406986370049, 0.6826051978033509,\n",
       "                    0.6823720078818194, 0.6824186458661257, 0.6792356034372194,\n",
       "                    0.6818589900544498, 0.6753063532594121, 0.6817890330779903,\n",
       "                    0.6824769433465085, 0.6819989040073688, 0.6824769433465085,\n",
       "                    0.6823603483857428, 0.6822204344328238, 0.6823486888896662,\n",
       "                    0.6820805204799049, 0.6825818788111978, 0.6827451117562698,\n",
       "                    0.6808329543997108, 0.6822554129210535, 0.6677276808096354,\n",
       "                    0.6824886028425852, 0.6829666421817249, 0.678221227278557,\n",
       "                    0.6828383877248825, 0.6785943311530076, 0.6819872445112922,\n",
       "                    0.6799235137057377, 0.682686814275887, 0.6825818788111978,\n",
       "                    0.6826285167955041, 0.6825002623386617, 0.6827217927641167,\n",
       "                    0.6828733662131122, 0.6826168572994276, 0.6813576317231569,\n",
       "                    0.6819989040073688, 0.682908344701342, 0.6817773735819138,\n",
       "                    0.6821971154406706, 0.6830832371424908, 0.6828383877248825,\n",
       "                    0.6824186458661257, 0.6815441836603822, 0.6804715100213369,\n",
       "                    0.682325369897513, 0.6821621369524409, 0.6825235813308149,\n",
       "                    0.6822554129210535, 0.67960870731167, 0.6830599181503375,\n",
       "                    0.6823836673778959, 0.6824769433465085, 0.6825119218347383,\n",
       "                    0.6818589900544498, 0.6818356710622967, 0.6825935383072743,\n",
       "                    0.6825002623386617, 0.6827101332680402, 0.6825702193151212,\n",
       "                    0.6824536243543554, 0.6826751547798104, 0.6774400410414262,\n",
       "                    0.682686814275887, 0.6823486888896662, 0.6828383877248825,\n",
       "                    0.6828034092366528, 0.6822554129210535, 0.6823720078818194,\n",
       "                    0.6813226532349271],\n",
       "              'yaxis': 'y2'},\n",
       "             {'marker': {'color': [0, 1, 2, 3, 4, 5, 6, 7, 8, 9, 10, 11, 12, 13,\n",
       "                                   14, 15, 16, 17, 18, 19, 20, 21, 22, 23, 24, 25,\n",
       "                                   26, 27, 28, 29, 30, 31, 32, 33, 34, 35, 36, 37,\n",
       "                                   38, 39, 40, 41, 42, 43, 44, 45, 46, 47, 48, 49,\n",
       "                                   50, 51, 52, 53, 54, 55, 56, 57, 58, 59, 60, 61,\n",
       "                                   62, 63, 64, 65, 66, 67, 68, 69, 70, 71, 72, 73,\n",
       "                                   74, 75, 76, 77, 78, 79, 80, 81, 82, 83, 84, 85,\n",
       "                                   86, 87, 88, 89, 90, 91, 92, 93, 94, 95, 96, 97,\n",
       "                                   98, 99],\n",
       "                         'colorbar': {'title': {'text': 'Trial'}, 'x': 1.0, 'xpad': 40},\n",
       "                         'colorscale': [[0.0, 'rgb(247,251,255)'], [0.125,\n",
       "                                        'rgb(222,235,247)'], [0.25,\n",
       "                                        'rgb(198,219,239)'], [0.375,\n",
       "                                        'rgb(158,202,225)'], [0.5,\n",
       "                                        'rgb(107,174,214)'], [0.625,\n",
       "                                        'rgb(66,146,198)'], [0.75,\n",
       "                                        'rgb(33,113,181)'], [0.875,\n",
       "                                        'rgb(8,81,156)'], [1.0, 'rgb(8,48,107)']],\n",
       "                         'line': {'color': 'Grey', 'width': 0.5},\n",
       "                         'showscale': False},\n",
       "              'mode': 'markers',\n",
       "              'name': 'Feasible Trial',\n",
       "              'showlegend': False,\n",
       "              'type': 'scatter',\n",
       "              'x': [sqrt, log2, sqrt, sqrt, sqrt, sqrt, sqrt, sqrt, log2, sqrt,\n",
       "                    log2, sqrt, sqrt, sqrt, log2, sqrt, sqrt, sqrt, log2, sqrt,\n",
       "                    sqrt, sqrt, sqrt, sqrt, sqrt, sqrt, log2, sqrt, sqrt, sqrt,\n",
       "                    sqrt, sqrt, sqrt, sqrt, sqrt, sqrt, log2, sqrt, sqrt, sqrt,\n",
       "                    log2, sqrt, sqrt, sqrt, sqrt, sqrt, sqrt, sqrt, sqrt, sqrt,\n",
       "                    log2, sqrt, sqrt, sqrt, sqrt, sqrt, sqrt, sqrt, sqrt, sqrt,\n",
       "                    log2, log2, log2, log2, log2, log2, log2, log2, log2, log2,\n",
       "                    log2, log2, log2, log2, log2, log2, log2, log2, log2, log2,\n",
       "                    log2, log2, log2, log2, log2, log2, log2, log2, log2, log2,\n",
       "                    log2, log2, log2, log2, log2, sqrt, sqrt, sqrt, sqrt, sqrt],\n",
       "              'xaxis': 'x3',\n",
       "              'y': [0.6813926102113866, 0.6769969801905161, 0.681217717770238,\n",
       "                    0.682546900322968, 0.6811594202898551, 0.6711905511443795,\n",
       "                    0.6825585598190447, 0.682465283850432, 0.6818939685426796,\n",
       "                    0.680634742966409, 0.6824769433465085, 0.6824536243543554,\n",
       "                    0.6781745892942507, 0.6824186458661257, 0.6789557755313815,\n",
       "                    0.6821971154406706, 0.6801567036272692, 0.683048258654261,\n",
       "                    0.6825119218347383, 0.6796436857998998, 0.6791539869646834,\n",
       "                    0.682406986370049, 0.682465283850432, 0.6810078468408596,\n",
       "                    0.6818473305583733, 0.6825702193151212, 0.6825119218347383,\n",
       "                    0.6731376869891683, 0.6820338824955985, 0.6824419648582788,\n",
       "                    0.681299334242774, 0.682406986370049, 0.6826051978033509,\n",
       "                    0.6823720078818194, 0.6824186458661257, 0.6792356034372194,\n",
       "                    0.6818589900544498, 0.6753063532594121, 0.6817890330779903,\n",
       "                    0.6824769433465085, 0.6819989040073688, 0.6824769433465085,\n",
       "                    0.6823603483857428, 0.6822204344328238, 0.6823486888896662,\n",
       "                    0.6820805204799049, 0.6825818788111978, 0.6827451117562698,\n",
       "                    0.6808329543997108, 0.6822554129210535, 0.6677276808096354,\n",
       "                    0.6824886028425852, 0.6829666421817249, 0.678221227278557,\n",
       "                    0.6828383877248825, 0.6785943311530076, 0.6819872445112922,\n",
       "                    0.6799235137057377, 0.682686814275887, 0.6825818788111978,\n",
       "                    0.6826285167955041, 0.6825002623386617, 0.6827217927641167,\n",
       "                    0.6828733662131122, 0.6826168572994276, 0.6813576317231569,\n",
       "                    0.6819989040073688, 0.682908344701342, 0.6817773735819138,\n",
       "                    0.6821971154406706, 0.6830832371424908, 0.6828383877248825,\n",
       "                    0.6824186458661257, 0.6815441836603822, 0.6804715100213369,\n",
       "                    0.682325369897513, 0.6821621369524409, 0.6825235813308149,\n",
       "                    0.6822554129210535, 0.67960870731167, 0.6830599181503375,\n",
       "                    0.6823836673778959, 0.6824769433465085, 0.6825119218347383,\n",
       "                    0.6818589900544498, 0.6818356710622967, 0.6825935383072743,\n",
       "                    0.6825002623386617, 0.6827101332680402, 0.6825702193151212,\n",
       "                    0.6824536243543554, 0.6826751547798104, 0.6774400410414262,\n",
       "                    0.682686814275887, 0.6823486888896662, 0.6828383877248825,\n",
       "                    0.6828034092366528, 0.6822554129210535, 0.6823720078818194,\n",
       "                    0.6813226532349271],\n",
       "              'yaxis': 'y3'},\n",
       "             {'marker': {'color': [0, 1, 2, 3, 4, 5, 6, 7, 8, 9, 10, 11, 12, 13,\n",
       "                                   14, 15, 16, 17, 18, 19, 20, 21, 22, 23, 24, 25,\n",
       "                                   26, 27, 28, 29, 30, 31, 32, 33, 34, 35, 36, 37,\n",
       "                                   38, 39, 40, 41, 42, 43, 44, 45, 46, 47, 48, 49,\n",
       "                                   50, 51, 52, 53, 54, 55, 56, 57, 58, 59, 60, 61,\n",
       "                                   62, 63, 64, 65, 66, 67, 68, 69, 70, 71, 72, 73,\n",
       "                                   74, 75, 76, 77, 78, 79, 80, 81, 82, 83, 84, 85,\n",
       "                                   86, 87, 88, 89, 90, 91, 92, 93, 94, 95, 96, 97,\n",
       "                                   98, 99],\n",
       "                         'colorbar': {'title': {'text': 'Trial'}, 'x': 1.0, 'xpad': 40},\n",
       "                         'colorscale': [[0.0, 'rgb(247,251,255)'], [0.125,\n",
       "                                        'rgb(222,235,247)'], [0.25,\n",
       "                                        'rgb(198,219,239)'], [0.375,\n",
       "                                        'rgb(158,202,225)'], [0.5,\n",
       "                                        'rgb(107,174,214)'], [0.625,\n",
       "                                        'rgb(66,146,198)'], [0.75,\n",
       "                                        'rgb(33,113,181)'], [0.875,\n",
       "                                        'rgb(8,81,156)'], [1.0, 'rgb(8,48,107)']],\n",
       "                         'line': {'color': 'Grey', 'width': 0.5},\n",
       "                         'showscale': False},\n",
       "              'mode': 'markers',\n",
       "              'name': 'Feasible Trial',\n",
       "              'showlegend': False,\n",
       "              'type': 'scatter',\n",
       "              'x': [18, 16, 16, 23, 11, 19, 3, 19, 18, 2, 30, 28, 1, 24, 7, 24,\n",
       "                    11, 6, 5, 9, 4, 23, 12, 6, 14, 21, 8, 2, 21, 4, 27, 21, 26, 26,\n",
       "                    32, 15, 21, 29, 17, 26, 13, 23, 19, 25, 22, 17, 9, 9, 9, 10, 6,\n",
       "                    3, 1, 1, 7, 7, 11, 5, 9, 7, 3, 3, 5, 5, 5, 6, 8, 1, 2, 1, 4, 4,\n",
       "                    4, 3, 2, 4, 6, 1, 2, 4, 8, 8, 7, 10, 5, 4, 7, 6, 3, 8, 10, 5,\n",
       "                    5, 2, 6, 4, 1, 1, 2, 3],\n",
       "              'xaxis': 'x4',\n",
       "              'y': [0.6813926102113866, 0.6769969801905161, 0.681217717770238,\n",
       "                    0.682546900322968, 0.6811594202898551, 0.6711905511443795,\n",
       "                    0.6825585598190447, 0.682465283850432, 0.6818939685426796,\n",
       "                    0.680634742966409, 0.6824769433465085, 0.6824536243543554,\n",
       "                    0.6781745892942507, 0.6824186458661257, 0.6789557755313815,\n",
       "                    0.6821971154406706, 0.6801567036272692, 0.683048258654261,\n",
       "                    0.6825119218347383, 0.6796436857998998, 0.6791539869646834,\n",
       "                    0.682406986370049, 0.682465283850432, 0.6810078468408596,\n",
       "                    0.6818473305583733, 0.6825702193151212, 0.6825119218347383,\n",
       "                    0.6731376869891683, 0.6820338824955985, 0.6824419648582788,\n",
       "                    0.681299334242774, 0.682406986370049, 0.6826051978033509,\n",
       "                    0.6823720078818194, 0.6824186458661257, 0.6792356034372194,\n",
       "                    0.6818589900544498, 0.6753063532594121, 0.6817890330779903,\n",
       "                    0.6824769433465085, 0.6819989040073688, 0.6824769433465085,\n",
       "                    0.6823603483857428, 0.6822204344328238, 0.6823486888896662,\n",
       "                    0.6820805204799049, 0.6825818788111978, 0.6827451117562698,\n",
       "                    0.6808329543997108, 0.6822554129210535, 0.6677276808096354,\n",
       "                    0.6824886028425852, 0.6829666421817249, 0.678221227278557,\n",
       "                    0.6828383877248825, 0.6785943311530076, 0.6819872445112922,\n",
       "                    0.6799235137057377, 0.682686814275887, 0.6825818788111978,\n",
       "                    0.6826285167955041, 0.6825002623386617, 0.6827217927641167,\n",
       "                    0.6828733662131122, 0.6826168572994276, 0.6813576317231569,\n",
       "                    0.6819989040073688, 0.682908344701342, 0.6817773735819138,\n",
       "                    0.6821971154406706, 0.6830832371424908, 0.6828383877248825,\n",
       "                    0.6824186458661257, 0.6815441836603822, 0.6804715100213369,\n",
       "                    0.682325369897513, 0.6821621369524409, 0.6825235813308149,\n",
       "                    0.6822554129210535, 0.67960870731167, 0.6830599181503375,\n",
       "                    0.6823836673778959, 0.6824769433465085, 0.6825119218347383,\n",
       "                    0.6818589900544498, 0.6818356710622967, 0.6825935383072743,\n",
       "                    0.6825002623386617, 0.6827101332680402, 0.6825702193151212,\n",
       "                    0.6824536243543554, 0.6826751547798104, 0.6774400410414262,\n",
       "                    0.682686814275887, 0.6823486888896662, 0.6828383877248825,\n",
       "                    0.6828034092366528, 0.6822554129210535, 0.6823720078818194,\n",
       "                    0.6813226532349271],\n",
       "              'yaxis': 'y4'},\n",
       "             {'marker': {'color': [0, 1, 2, 3, 4, 5, 6, 7, 8, 9, 10, 11, 12, 13,\n",
       "                                   14, 15, 16, 17, 18, 19, 20, 21, 22, 23, 24, 25,\n",
       "                                   26, 27, 28, 29, 30, 31, 32, 33, 34, 35, 36, 37,\n",
       "                                   38, 39, 40, 41, 42, 43, 44, 45, 46, 47, 48, 49,\n",
       "                                   50, 51, 52, 53, 54, 55, 56, 57, 58, 59, 60, 61,\n",
       "                                   62, 63, 64, 65, 66, 67, 68, 69, 70, 71, 72, 73,\n",
       "                                   74, 75, 76, 77, 78, 79, 80, 81, 82, 83, 84, 85,\n",
       "                                   86, 87, 88, 89, 90, 91, 92, 93, 94, 95, 96, 97,\n",
       "                                   98, 99],\n",
       "                         'colorbar': {'title': {'text': 'Trial'}, 'x': 1.0, 'xpad': 40},\n",
       "                         'colorscale': [[0.0, 'rgb(247,251,255)'], [0.125,\n",
       "                                        'rgb(222,235,247)'], [0.25,\n",
       "                                        'rgb(198,219,239)'], [0.375,\n",
       "                                        'rgb(158,202,225)'], [0.5,\n",
       "                                        'rgb(107,174,214)'], [0.625,\n",
       "                                        'rgb(66,146,198)'], [0.75,\n",
       "                                        'rgb(33,113,181)'], [0.875,\n",
       "                                        'rgb(8,81,156)'], [1.0, 'rgb(8,48,107)']],\n",
       "                         'line': {'color': 'Grey', 'width': 0.5},\n",
       "                         'showscale': False},\n",
       "              'mode': 'markers',\n",
       "              'name': 'Feasible Trial',\n",
       "              'showlegend': False,\n",
       "              'type': 'scatter',\n",
       "              'x': [31, 9, 30, 30, 4, 16, 22, 22, 14, 7, 23, 25, 27, 20, 32, 27,\n",
       "                    13, 19, 19, 11, 17, 26, 22, 29, 19, 25, 24, 17, 21, 28, 24, 32,\n",
       "                    30, 29, 25, 20, 30, 15, 18, 22, 26, 30, 31, 4, 28, 23, 27, 25,\n",
       "                    27, 25, 9, 23, 21, 20, 26, 28, 26, 21, 31, 31, 29, 32, 29, 29,\n",
       "                    29, 16, 24, 28, 26, 28, 23, 23, 23, 21, 19, 24, 21, 25, 22, 18,\n",
       "                    27, 27, 26, 23, 24, 20, 22, 25, 18, 28, 27, 29, 26, 30, 27, 24,\n",
       "                    24, 23, 2, 21],\n",
       "              'xaxis': 'x5',\n",
       "              'y': [0.6813926102113866, 0.6769969801905161, 0.681217717770238,\n",
       "                    0.682546900322968, 0.6811594202898551, 0.6711905511443795,\n",
       "                    0.6825585598190447, 0.682465283850432, 0.6818939685426796,\n",
       "                    0.680634742966409, 0.6824769433465085, 0.6824536243543554,\n",
       "                    0.6781745892942507, 0.6824186458661257, 0.6789557755313815,\n",
       "                    0.6821971154406706, 0.6801567036272692, 0.683048258654261,\n",
       "                    0.6825119218347383, 0.6796436857998998, 0.6791539869646834,\n",
       "                    0.682406986370049, 0.682465283850432, 0.6810078468408596,\n",
       "                    0.6818473305583733, 0.6825702193151212, 0.6825119218347383,\n",
       "                    0.6731376869891683, 0.6820338824955985, 0.6824419648582788,\n",
       "                    0.681299334242774, 0.682406986370049, 0.6826051978033509,\n",
       "                    0.6823720078818194, 0.6824186458661257, 0.6792356034372194,\n",
       "                    0.6818589900544498, 0.6753063532594121, 0.6817890330779903,\n",
       "                    0.6824769433465085, 0.6819989040073688, 0.6824769433465085,\n",
       "                    0.6823603483857428, 0.6822204344328238, 0.6823486888896662,\n",
       "                    0.6820805204799049, 0.6825818788111978, 0.6827451117562698,\n",
       "                    0.6808329543997108, 0.6822554129210535, 0.6677276808096354,\n",
       "                    0.6824886028425852, 0.6829666421817249, 0.678221227278557,\n",
       "                    0.6828383877248825, 0.6785943311530076, 0.6819872445112922,\n",
       "                    0.6799235137057377, 0.682686814275887, 0.6825818788111978,\n",
       "                    0.6826285167955041, 0.6825002623386617, 0.6827217927641167,\n",
       "                    0.6828733662131122, 0.6826168572994276, 0.6813576317231569,\n",
       "                    0.6819989040073688, 0.682908344701342, 0.6817773735819138,\n",
       "                    0.6821971154406706, 0.6830832371424908, 0.6828383877248825,\n",
       "                    0.6824186458661257, 0.6815441836603822, 0.6804715100213369,\n",
       "                    0.682325369897513, 0.6821621369524409, 0.6825235813308149,\n",
       "                    0.6822554129210535, 0.67960870731167, 0.6830599181503375,\n",
       "                    0.6823836673778959, 0.6824769433465085, 0.6825119218347383,\n",
       "                    0.6818589900544498, 0.6818356710622967, 0.6825935383072743,\n",
       "                    0.6825002623386617, 0.6827101332680402, 0.6825702193151212,\n",
       "                    0.6824536243543554, 0.6826751547798104, 0.6774400410414262,\n",
       "                    0.682686814275887, 0.6823486888896662, 0.6828383877248825,\n",
       "                    0.6828034092366528, 0.6822554129210535, 0.6823720078818194,\n",
       "                    0.6813226532349271],\n",
       "              'yaxis': 'y5'},\n",
       "             {'marker': {'color': [0, 1, 2, 3, 4, 5, 6, 7, 8, 9, 10, 11, 12, 13,\n",
       "                                   14, 15, 16, 17, 18, 19, 20, 21, 22, 23, 24, 25,\n",
       "                                   26, 27, 28, 29, 30, 31, 32, 33, 34, 35, 36, 37,\n",
       "                                   38, 39, 40, 41, 42, 43, 44, 45, 46, 47, 48, 49,\n",
       "                                   50, 51, 52, 53, 54, 55, 56, 57, 58, 59, 60, 61,\n",
       "                                   62, 63, 64, 65, 66, 67, 68, 69, 70, 71, 72, 73,\n",
       "                                   74, 75, 76, 77, 78, 79, 80, 81, 82, 83, 84, 85,\n",
       "                                   86, 87, 88, 89, 90, 91, 92, 93, 94, 95, 96, 97,\n",
       "                                   98, 99],\n",
       "                         'colorbar': {'title': {'text': 'Trial'}, 'x': 1.0, 'xpad': 40},\n",
       "                         'colorscale': [[0.0, 'rgb(247,251,255)'], [0.125,\n",
       "                                        'rgb(222,235,247)'], [0.25,\n",
       "                                        'rgb(198,219,239)'], [0.375,\n",
       "                                        'rgb(158,202,225)'], [0.5,\n",
       "                                        'rgb(107,174,214)'], [0.625,\n",
       "                                        'rgb(66,146,198)'], [0.75,\n",
       "                                        'rgb(33,113,181)'], [0.875,\n",
       "                                        'rgb(8,81,156)'], [1.0, 'rgb(8,48,107)']],\n",
       "                         'line': {'color': 'Grey', 'width': 0.5},\n",
       "                         'showscale': False},\n",
       "              'mode': 'markers',\n",
       "              'name': 'Feasible Trial',\n",
       "              'showlegend': False,\n",
       "              'type': 'scatter',\n",
       "              'x': [149, 177, 397, 361, 276, 130, 436, 400, 102, 123, 286, 486,\n",
       "                    386, 470, 348, 225, 452, 330, 326, 440, 227, 352, 367, 418,\n",
       "                    316, 499, 494, 430, 500, 466, 259, 420, 374, 382, 320, 404,\n",
       "                    454, 340, 369, 405, 476, 298, 368, 265, 388, 442, 337, 341,\n",
       "                    165, 296, 334, 352, 304, 308, 279, 223, 280, 249, 242, 215,\n",
       "                    202, 240, 193, 197, 192, 148, 176, 269, 269, 288, 311, 306,\n",
       "                    321, 309, 275, 331, 306, 292, 258, 113, 358, 357, 342, 321,\n",
       "                    281, 346, 313, 301, 327, 379, 359, 143, 197, 172, 287, 162,\n",
       "                    334, 302, 158, 319],\n",
       "              'xaxis': 'x6',\n",
       "              'y': [0.6813926102113866, 0.6769969801905161, 0.681217717770238,\n",
       "                    0.682546900322968, 0.6811594202898551, 0.6711905511443795,\n",
       "                    0.6825585598190447, 0.682465283850432, 0.6818939685426796,\n",
       "                    0.680634742966409, 0.6824769433465085, 0.6824536243543554,\n",
       "                    0.6781745892942507, 0.6824186458661257, 0.6789557755313815,\n",
       "                    0.6821971154406706, 0.6801567036272692, 0.683048258654261,\n",
       "                    0.6825119218347383, 0.6796436857998998, 0.6791539869646834,\n",
       "                    0.682406986370049, 0.682465283850432, 0.6810078468408596,\n",
       "                    0.6818473305583733, 0.6825702193151212, 0.6825119218347383,\n",
       "                    0.6731376869891683, 0.6820338824955985, 0.6824419648582788,\n",
       "                    0.681299334242774, 0.682406986370049, 0.6826051978033509,\n",
       "                    0.6823720078818194, 0.6824186458661257, 0.6792356034372194,\n",
       "                    0.6818589900544498, 0.6753063532594121, 0.6817890330779903,\n",
       "                    0.6824769433465085, 0.6819989040073688, 0.6824769433465085,\n",
       "                    0.6823603483857428, 0.6822204344328238, 0.6823486888896662,\n",
       "                    0.6820805204799049, 0.6825818788111978, 0.6827451117562698,\n",
       "                    0.6808329543997108, 0.6822554129210535, 0.6677276808096354,\n",
       "                    0.6824886028425852, 0.6829666421817249, 0.678221227278557,\n",
       "                    0.6828383877248825, 0.6785943311530076, 0.6819872445112922,\n",
       "                    0.6799235137057377, 0.682686814275887, 0.6825818788111978,\n",
       "                    0.6826285167955041, 0.6825002623386617, 0.6827217927641167,\n",
       "                    0.6828733662131122, 0.6826168572994276, 0.6813576317231569,\n",
       "                    0.6819989040073688, 0.682908344701342, 0.6817773735819138,\n",
       "                    0.6821971154406706, 0.6830832371424908, 0.6828383877248825,\n",
       "                    0.6824186458661257, 0.6815441836603822, 0.6804715100213369,\n",
       "                    0.682325369897513, 0.6821621369524409, 0.6825235813308149,\n",
       "                    0.6822554129210535, 0.67960870731167, 0.6830599181503375,\n",
       "                    0.6823836673778959, 0.6824769433465085, 0.6825119218347383,\n",
       "                    0.6818589900544498, 0.6818356710622967, 0.6825935383072743,\n",
       "                    0.6825002623386617, 0.6827101332680402, 0.6825702193151212,\n",
       "                    0.6824536243543554, 0.6826751547798104, 0.6774400410414262,\n",
       "                    0.682686814275887, 0.6823486888896662, 0.6828383877248825,\n",
       "                    0.6828034092366528, 0.6822554129210535, 0.6823720078818194,\n",
       "                    0.6813226532349271],\n",
       "              'yaxis': 'y6'}],\n",
       "    'layout': {'template': '...',\n",
       "               'title': {'text': 'Slice Plot'},\n",
       "               'width': 1800,\n",
       "               'xaxis': {'anchor': 'y',\n",
       "                         'categoryarray': [gini, entropy, log_loss],\n",
       "                         'categoryorder': 'array',\n",
       "                         'domain': [0.0, 0.1388888888888889],\n",
       "                         'title': {'text': 'criterion'},\n",
       "                         'type': 'category'},\n",
       "               'xaxis2': {'anchor': 'y2',\n",
       "                          'domain': [0.17222222222222222, 0.3111111111111111],\n",
       "                          'title': {'text': 'max_depth'}},\n",
       "               'xaxis3': {'anchor': 'y3',\n",
       "                          'categoryarray': [sqrt, log2],\n",
       "                          'categoryorder': 'array',\n",
       "                          'domain': [0.34444444444444444, 0.48333333333333334],\n",
       "                          'title': {'text': 'max_features'},\n",
       "                          'type': 'category'},\n",
       "               'xaxis4': {'anchor': 'y4',\n",
       "                          'domain': [0.5166666666666667, 0.6555555555555557],\n",
       "                          'title': {'text': 'min_samples_leaf'}},\n",
       "               'xaxis5': {'anchor': 'y5',\n",
       "                          'domain': [0.6888888888888889, 0.8277777777777777],\n",
       "                          'title': {'text': 'min_samples_split'}},\n",
       "               'xaxis6': {'anchor': 'y6', 'domain': [0.861111111111111, 1.0], 'title': {'text': 'n_estimators'}},\n",
       "               'yaxis': {'anchor': 'x', 'domain': [0.0, 1.0], 'title': {'text': 'Objective Value'}},\n",
       "               'yaxis2': {'anchor': 'x2', 'domain': [0.0, 1.0], 'matches': 'y', 'showticklabels': False},\n",
       "               'yaxis3': {'anchor': 'x3', 'domain': [0.0, 1.0], 'matches': 'y', 'showticklabels': False},\n",
       "               'yaxis4': {'anchor': 'x4', 'domain': [0.0, 1.0], 'matches': 'y', 'showticklabels': False},\n",
       "               'yaxis5': {'anchor': 'x5', 'domain': [0.0, 1.0], 'matches': 'y', 'showticklabels': False},\n",
       "               'yaxis6': {'anchor': 'x6', 'domain': [0.0, 1.0], 'matches': 'y', 'showticklabels': False}}\n",
       "})"
      ]
     },
     "execution_count": 23,
     "metadata": {},
     "output_type": "execute_result"
    }
   ],
   "source": [
    "optuna.visualization.plot_slice(study, params = ['n_estimators',\n",
    "'max_depth',\n",
    "'min_samples_split',\n",
    "'min_samples_leaf',\n",
    "'max_features',\n",
    "'criterion',])"
   ]
  },
  {
   "cell_type": "code",
   "execution_count": 25,
   "metadata": {},
   "outputs": [
    {
     "data": {
      "text/html": [
       "<style>#sk-container-id-1 {\n",
       "  /* Definition of color scheme common for light and dark mode */\n",
       "  --sklearn-color-text: black;\n",
       "  --sklearn-color-line: gray;\n",
       "  /* Definition of color scheme for unfitted estimators */\n",
       "  --sklearn-color-unfitted-level-0: #fff5e6;\n",
       "  --sklearn-color-unfitted-level-1: #f6e4d2;\n",
       "  --sklearn-color-unfitted-level-2: #ffe0b3;\n",
       "  --sklearn-color-unfitted-level-3: chocolate;\n",
       "  /* Definition of color scheme for fitted estimators */\n",
       "  --sklearn-color-fitted-level-0: #f0f8ff;\n",
       "  --sklearn-color-fitted-level-1: #d4ebff;\n",
       "  --sklearn-color-fitted-level-2: #b3dbfd;\n",
       "  --sklearn-color-fitted-level-3: cornflowerblue;\n",
       "\n",
       "  /* Specific color for light theme */\n",
       "  --sklearn-color-text-on-default-background: var(--sg-text-color, var(--theme-code-foreground, var(--jp-content-font-color1, black)));\n",
       "  --sklearn-color-background: var(--sg-background-color, var(--theme-background, var(--jp-layout-color0, white)));\n",
       "  --sklearn-color-border-box: var(--sg-text-color, var(--theme-code-foreground, var(--jp-content-font-color1, black)));\n",
       "  --sklearn-color-icon: #696969;\n",
       "\n",
       "  @media (prefers-color-scheme: dark) {\n",
       "    /* Redefinition of color scheme for dark theme */\n",
       "    --sklearn-color-text-on-default-background: var(--sg-text-color, var(--theme-code-foreground, var(--jp-content-font-color1, white)));\n",
       "    --sklearn-color-background: var(--sg-background-color, var(--theme-background, var(--jp-layout-color0, #111)));\n",
       "    --sklearn-color-border-box: var(--sg-text-color, var(--theme-code-foreground, var(--jp-content-font-color1, white)));\n",
       "    --sklearn-color-icon: #878787;\n",
       "  }\n",
       "}\n",
       "\n",
       "#sk-container-id-1 {\n",
       "  color: var(--sklearn-color-text);\n",
       "}\n",
       "\n",
       "#sk-container-id-1 pre {\n",
       "  padding: 0;\n",
       "}\n",
       "\n",
       "#sk-container-id-1 input.sk-hidden--visually {\n",
       "  border: 0;\n",
       "  clip: rect(1px 1px 1px 1px);\n",
       "  clip: rect(1px, 1px, 1px, 1px);\n",
       "  height: 1px;\n",
       "  margin: -1px;\n",
       "  overflow: hidden;\n",
       "  padding: 0;\n",
       "  position: absolute;\n",
       "  width: 1px;\n",
       "}\n",
       "\n",
       "#sk-container-id-1 div.sk-dashed-wrapped {\n",
       "  border: 1px dashed var(--sklearn-color-line);\n",
       "  margin: 0 0.4em 0.5em 0.4em;\n",
       "  box-sizing: border-box;\n",
       "  padding-bottom: 0.4em;\n",
       "  background-color: var(--sklearn-color-background);\n",
       "}\n",
       "\n",
       "#sk-container-id-1 div.sk-container {\n",
       "  /* jupyter's `normalize.less` sets `[hidden] { display: none; }`\n",
       "     but bootstrap.min.css set `[hidden] { display: none !important; }`\n",
       "     so we also need the `!important` here to be able to override the\n",
       "     default hidden behavior on the sphinx rendered scikit-learn.org.\n",
       "     See: https://github.com/scikit-learn/scikit-learn/issues/21755 */\n",
       "  display: inline-block !important;\n",
       "  position: relative;\n",
       "}\n",
       "\n",
       "#sk-container-id-1 div.sk-text-repr-fallback {\n",
       "  display: none;\n",
       "}\n",
       "\n",
       "div.sk-parallel-item,\n",
       "div.sk-serial,\n",
       "div.sk-item {\n",
       "  /* draw centered vertical line to link estimators */\n",
       "  background-image: linear-gradient(var(--sklearn-color-text-on-default-background), var(--sklearn-color-text-on-default-background));\n",
       "  background-size: 2px 100%;\n",
       "  background-repeat: no-repeat;\n",
       "  background-position: center center;\n",
       "}\n",
       "\n",
       "/* Parallel-specific style estimator block */\n",
       "\n",
       "#sk-container-id-1 div.sk-parallel-item::after {\n",
       "  content: \"\";\n",
       "  width: 100%;\n",
       "  border-bottom: 2px solid var(--sklearn-color-text-on-default-background);\n",
       "  flex-grow: 1;\n",
       "}\n",
       "\n",
       "#sk-container-id-1 div.sk-parallel {\n",
       "  display: flex;\n",
       "  align-items: stretch;\n",
       "  justify-content: center;\n",
       "  background-color: var(--sklearn-color-background);\n",
       "  position: relative;\n",
       "}\n",
       "\n",
       "#sk-container-id-1 div.sk-parallel-item {\n",
       "  display: flex;\n",
       "  flex-direction: column;\n",
       "}\n",
       "\n",
       "#sk-container-id-1 div.sk-parallel-item:first-child::after {\n",
       "  align-self: flex-end;\n",
       "  width: 50%;\n",
       "}\n",
       "\n",
       "#sk-container-id-1 div.sk-parallel-item:last-child::after {\n",
       "  align-self: flex-start;\n",
       "  width: 50%;\n",
       "}\n",
       "\n",
       "#sk-container-id-1 div.sk-parallel-item:only-child::after {\n",
       "  width: 0;\n",
       "}\n",
       "\n",
       "/* Serial-specific style estimator block */\n",
       "\n",
       "#sk-container-id-1 div.sk-serial {\n",
       "  display: flex;\n",
       "  flex-direction: column;\n",
       "  align-items: center;\n",
       "  background-color: var(--sklearn-color-background);\n",
       "  padding-right: 1em;\n",
       "  padding-left: 1em;\n",
       "}\n",
       "\n",
       "\n",
       "/* Toggleable style: style used for estimator/Pipeline/ColumnTransformer box that is\n",
       "clickable and can be expanded/collapsed.\n",
       "- Pipeline and ColumnTransformer use this feature and define the default style\n",
       "- Estimators will overwrite some part of the style using the `sk-estimator` class\n",
       "*/\n",
       "\n",
       "/* Pipeline and ColumnTransformer style (default) */\n",
       "\n",
       "#sk-container-id-1 div.sk-toggleable {\n",
       "  /* Default theme specific background. It is overwritten whether we have a\n",
       "  specific estimator or a Pipeline/ColumnTransformer */\n",
       "  background-color: var(--sklearn-color-background);\n",
       "}\n",
       "\n",
       "/* Toggleable label */\n",
       "#sk-container-id-1 label.sk-toggleable__label {\n",
       "  cursor: pointer;\n",
       "  display: block;\n",
       "  width: 100%;\n",
       "  margin-bottom: 0;\n",
       "  padding: 0.5em;\n",
       "  box-sizing: border-box;\n",
       "  text-align: center;\n",
       "}\n",
       "\n",
       "#sk-container-id-1 label.sk-toggleable__label-arrow:before {\n",
       "  /* Arrow on the left of the label */\n",
       "  content: \"▸\";\n",
       "  float: left;\n",
       "  margin-right: 0.25em;\n",
       "  color: var(--sklearn-color-icon);\n",
       "}\n",
       "\n",
       "#sk-container-id-1 label.sk-toggleable__label-arrow:hover:before {\n",
       "  color: var(--sklearn-color-text);\n",
       "}\n",
       "\n",
       "/* Toggleable content - dropdown */\n",
       "\n",
       "#sk-container-id-1 div.sk-toggleable__content {\n",
       "  max-height: 0;\n",
       "  max-width: 0;\n",
       "  overflow: hidden;\n",
       "  text-align: left;\n",
       "  /* unfitted */\n",
       "  background-color: var(--sklearn-color-unfitted-level-0);\n",
       "}\n",
       "\n",
       "#sk-container-id-1 div.sk-toggleable__content.fitted {\n",
       "  /* fitted */\n",
       "  background-color: var(--sklearn-color-fitted-level-0);\n",
       "}\n",
       "\n",
       "#sk-container-id-1 div.sk-toggleable__content pre {\n",
       "  margin: 0.2em;\n",
       "  border-radius: 0.25em;\n",
       "  color: var(--sklearn-color-text);\n",
       "  /* unfitted */\n",
       "  background-color: var(--sklearn-color-unfitted-level-0);\n",
       "}\n",
       "\n",
       "#sk-container-id-1 div.sk-toggleable__content.fitted pre {\n",
       "  /* unfitted */\n",
       "  background-color: var(--sklearn-color-fitted-level-0);\n",
       "}\n",
       "\n",
       "#sk-container-id-1 input.sk-toggleable__control:checked~div.sk-toggleable__content {\n",
       "  /* Expand drop-down */\n",
       "  max-height: 200px;\n",
       "  max-width: 100%;\n",
       "  overflow: auto;\n",
       "}\n",
       "\n",
       "#sk-container-id-1 input.sk-toggleable__control:checked~label.sk-toggleable__label-arrow:before {\n",
       "  content: \"▾\";\n",
       "}\n",
       "\n",
       "/* Pipeline/ColumnTransformer-specific style */\n",
       "\n",
       "#sk-container-id-1 div.sk-label input.sk-toggleable__control:checked~label.sk-toggleable__label {\n",
       "  color: var(--sklearn-color-text);\n",
       "  background-color: var(--sklearn-color-unfitted-level-2);\n",
       "}\n",
       "\n",
       "#sk-container-id-1 div.sk-label.fitted input.sk-toggleable__control:checked~label.sk-toggleable__label {\n",
       "  background-color: var(--sklearn-color-fitted-level-2);\n",
       "}\n",
       "\n",
       "/* Estimator-specific style */\n",
       "\n",
       "/* Colorize estimator box */\n",
       "#sk-container-id-1 div.sk-estimator input.sk-toggleable__control:checked~label.sk-toggleable__label {\n",
       "  /* unfitted */\n",
       "  background-color: var(--sklearn-color-unfitted-level-2);\n",
       "}\n",
       "\n",
       "#sk-container-id-1 div.sk-estimator.fitted input.sk-toggleable__control:checked~label.sk-toggleable__label {\n",
       "  /* fitted */\n",
       "  background-color: var(--sklearn-color-fitted-level-2);\n",
       "}\n",
       "\n",
       "#sk-container-id-1 div.sk-label label.sk-toggleable__label,\n",
       "#sk-container-id-1 div.sk-label label {\n",
       "  /* The background is the default theme color */\n",
       "  color: var(--sklearn-color-text-on-default-background);\n",
       "}\n",
       "\n",
       "/* On hover, darken the color of the background */\n",
       "#sk-container-id-1 div.sk-label:hover label.sk-toggleable__label {\n",
       "  color: var(--sklearn-color-text);\n",
       "  background-color: var(--sklearn-color-unfitted-level-2);\n",
       "}\n",
       "\n",
       "/* Label box, darken color on hover, fitted */\n",
       "#sk-container-id-1 div.sk-label.fitted:hover label.sk-toggleable__label.fitted {\n",
       "  color: var(--sklearn-color-text);\n",
       "  background-color: var(--sklearn-color-fitted-level-2);\n",
       "}\n",
       "\n",
       "/* Estimator label */\n",
       "\n",
       "#sk-container-id-1 div.sk-label label {\n",
       "  font-family: monospace;\n",
       "  font-weight: bold;\n",
       "  display: inline-block;\n",
       "  line-height: 1.2em;\n",
       "}\n",
       "\n",
       "#sk-container-id-1 div.sk-label-container {\n",
       "  text-align: center;\n",
       "}\n",
       "\n",
       "/* Estimator-specific */\n",
       "#sk-container-id-1 div.sk-estimator {\n",
       "  font-family: monospace;\n",
       "  border: 1px dotted var(--sklearn-color-border-box);\n",
       "  border-radius: 0.25em;\n",
       "  box-sizing: border-box;\n",
       "  margin-bottom: 0.5em;\n",
       "  /* unfitted */\n",
       "  background-color: var(--sklearn-color-unfitted-level-0);\n",
       "}\n",
       "\n",
       "#sk-container-id-1 div.sk-estimator.fitted {\n",
       "  /* fitted */\n",
       "  background-color: var(--sklearn-color-fitted-level-0);\n",
       "}\n",
       "\n",
       "/* on hover */\n",
       "#sk-container-id-1 div.sk-estimator:hover {\n",
       "  /* unfitted */\n",
       "  background-color: var(--sklearn-color-unfitted-level-2);\n",
       "}\n",
       "\n",
       "#sk-container-id-1 div.sk-estimator.fitted:hover {\n",
       "  /* fitted */\n",
       "  background-color: var(--sklearn-color-fitted-level-2);\n",
       "}\n",
       "\n",
       "/* Specification for estimator info (e.g. \"i\" and \"?\") */\n",
       "\n",
       "/* Common style for \"i\" and \"?\" */\n",
       "\n",
       ".sk-estimator-doc-link,\n",
       "a:link.sk-estimator-doc-link,\n",
       "a:visited.sk-estimator-doc-link {\n",
       "  float: right;\n",
       "  font-size: smaller;\n",
       "  line-height: 1em;\n",
       "  font-family: monospace;\n",
       "  background-color: var(--sklearn-color-background);\n",
       "  border-radius: 1em;\n",
       "  height: 1em;\n",
       "  width: 1em;\n",
       "  text-decoration: none !important;\n",
       "  margin-left: 1ex;\n",
       "  /* unfitted */\n",
       "  border: var(--sklearn-color-unfitted-level-1) 1pt solid;\n",
       "  color: var(--sklearn-color-unfitted-level-1);\n",
       "}\n",
       "\n",
       ".sk-estimator-doc-link.fitted,\n",
       "a:link.sk-estimator-doc-link.fitted,\n",
       "a:visited.sk-estimator-doc-link.fitted {\n",
       "  /* fitted */\n",
       "  border: var(--sklearn-color-fitted-level-1) 1pt solid;\n",
       "  color: var(--sklearn-color-fitted-level-1);\n",
       "}\n",
       "\n",
       "/* On hover */\n",
       "div.sk-estimator:hover .sk-estimator-doc-link:hover,\n",
       ".sk-estimator-doc-link:hover,\n",
       "div.sk-label-container:hover .sk-estimator-doc-link:hover,\n",
       ".sk-estimator-doc-link:hover {\n",
       "  /* unfitted */\n",
       "  background-color: var(--sklearn-color-unfitted-level-3);\n",
       "  color: var(--sklearn-color-background);\n",
       "  text-decoration: none;\n",
       "}\n",
       "\n",
       "div.sk-estimator.fitted:hover .sk-estimator-doc-link.fitted:hover,\n",
       ".sk-estimator-doc-link.fitted:hover,\n",
       "div.sk-label-container:hover .sk-estimator-doc-link.fitted:hover,\n",
       ".sk-estimator-doc-link.fitted:hover {\n",
       "  /* fitted */\n",
       "  background-color: var(--sklearn-color-fitted-level-3);\n",
       "  color: var(--sklearn-color-background);\n",
       "  text-decoration: none;\n",
       "}\n",
       "\n",
       "/* Span, style for the box shown on hovering the info icon */\n",
       ".sk-estimator-doc-link span {\n",
       "  display: none;\n",
       "  z-index: 9999;\n",
       "  position: relative;\n",
       "  font-weight: normal;\n",
       "  right: .2ex;\n",
       "  padding: .5ex;\n",
       "  margin: .5ex;\n",
       "  width: min-content;\n",
       "  min-width: 20ex;\n",
       "  max-width: 50ex;\n",
       "  color: var(--sklearn-color-text);\n",
       "  box-shadow: 2pt 2pt 4pt #999;\n",
       "  /* unfitted */\n",
       "  background: var(--sklearn-color-unfitted-level-0);\n",
       "  border: .5pt solid var(--sklearn-color-unfitted-level-3);\n",
       "}\n",
       "\n",
       ".sk-estimator-doc-link.fitted span {\n",
       "  /* fitted */\n",
       "  background: var(--sklearn-color-fitted-level-0);\n",
       "  border: var(--sklearn-color-fitted-level-3);\n",
       "}\n",
       "\n",
       ".sk-estimator-doc-link:hover span {\n",
       "  display: block;\n",
       "}\n",
       "\n",
       "/* \"?\"-specific style due to the `<a>` HTML tag */\n",
       "\n",
       "#sk-container-id-1 a.estimator_doc_link {\n",
       "  float: right;\n",
       "  font-size: 1rem;\n",
       "  line-height: 1em;\n",
       "  font-family: monospace;\n",
       "  background-color: var(--sklearn-color-background);\n",
       "  border-radius: 1rem;\n",
       "  height: 1rem;\n",
       "  width: 1rem;\n",
       "  text-decoration: none;\n",
       "  /* unfitted */\n",
       "  color: var(--sklearn-color-unfitted-level-1);\n",
       "  border: var(--sklearn-color-unfitted-level-1) 1pt solid;\n",
       "}\n",
       "\n",
       "#sk-container-id-1 a.estimator_doc_link.fitted {\n",
       "  /* fitted */\n",
       "  border: var(--sklearn-color-fitted-level-1) 1pt solid;\n",
       "  color: var(--sklearn-color-fitted-level-1);\n",
       "}\n",
       "\n",
       "/* On hover */\n",
       "#sk-container-id-1 a.estimator_doc_link:hover {\n",
       "  /* unfitted */\n",
       "  background-color: var(--sklearn-color-unfitted-level-3);\n",
       "  color: var(--sklearn-color-background);\n",
       "  text-decoration: none;\n",
       "}\n",
       "\n",
       "#sk-container-id-1 a.estimator_doc_link.fitted:hover {\n",
       "  /* fitted */\n",
       "  background-color: var(--sklearn-color-fitted-level-3);\n",
       "}\n",
       "</style><div id=\"sk-container-id-1\" class=\"sk-top-container\"><div class=\"sk-text-repr-fallback\"><pre>RandomForestClassifier(max_depth=14, max_features=&#x27;log2&#x27;, min_samples_leaf=4,\n",
       "                       min_samples_split=23, n_estimators=311)</pre><b>In a Jupyter environment, please rerun this cell to show the HTML representation or trust the notebook. <br />On GitHub, the HTML representation is unable to render, please try loading this page with nbviewer.org.</b></div><div class=\"sk-container\" hidden><div class=\"sk-item\"><div class=\"sk-estimator fitted sk-toggleable\"><input class=\"sk-toggleable__control sk-hidden--visually\" id=\"sk-estimator-id-1\" type=\"checkbox\" checked><label for=\"sk-estimator-id-1\" class=\"sk-toggleable__label fitted sk-toggleable__label-arrow fitted\">&nbsp;&nbsp;RandomForestClassifier<a class=\"sk-estimator-doc-link fitted\" rel=\"noreferrer\" target=\"_blank\" href=\"https://scikit-learn.org/1.4/modules/generated/sklearn.ensemble.RandomForestClassifier.html\">?<span>Documentation for RandomForestClassifier</span></a><span class=\"sk-estimator-doc-link fitted\">i<span>Fitted</span></span></label><div class=\"sk-toggleable__content fitted\"><pre>RandomForestClassifier(max_depth=14, max_features=&#x27;log2&#x27;, min_samples_leaf=4,\n",
       "                       min_samples_split=23, n_estimators=311)</pre></div> </div></div></div></div>"
      ],
      "text/plain": [
       "RandomForestClassifier(max_depth=14, max_features='log2', min_samples_leaf=4,\n",
       "                       min_samples_split=23, n_estimators=311)"
      ]
     },
     "execution_count": 25,
     "metadata": {},
     "output_type": "execute_result"
    }
   ],
   "source": [
    "model = RandomForestClassifier(\n",
    "        n_estimators=311,\n",
    "        max_depth=14,\n",
    "        min_samples_split=23,\n",
    "        min_samples_leaf=4,\n",
    "        max_features=\"log2\",\n",
    "        criterion=\"gini\"\n",
    "    )\n",
    "model.fit(X_train_scaled, y_train)\n"
   ]
  },
  {
   "cell_type": "code",
   "execution_count": 27,
   "metadata": {},
   "outputs": [
    {
     "data": {
      "text/plain": [
       "0.6825935383072743"
      ]
     },
     "execution_count": 27,
     "metadata": {},
     "output_type": "execute_result"
    }
   ],
   "source": [
    "model.score(X_test_scaled, y_test)"
   ]
  },
  {
   "cell_type": "code",
   "execution_count": 33,
   "metadata": {},
   "outputs": [],
   "source": [
    "# save model\n",
    "import pickle\n",
    "with open(\"../models/trained_rf.save\", \"wb\") as f:\n",
    "    pickle.dump(model, f)"
   ]
  },
  {
   "cell_type": "code",
   "execution_count": null,
   "metadata": {},
   "outputs": [],
   "source": []
  }
 ],
 "metadata": {
  "kernelspec": {
   "display_name": "nba_env",
   "language": "python",
   "name": "python3"
  },
  "language_info": {
   "codemirror_mode": {
    "name": "ipython",
    "version": 3
   },
   "file_extension": ".py",
   "mimetype": "text/x-python",
   "name": "python",
   "nbconvert_exporter": "python",
   "pygments_lexer": "ipython3",
   "version": "3.12.3"
  }
 },
 "nbformat": 4,
 "nbformat_minor": 2
}
